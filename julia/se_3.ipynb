{
 "cells": [
  {
   "cell_type": "code",
   "execution_count": 1,
   "metadata": {
    "collapsed": false
   },
   "outputs": [
    {
     "name": "stderr",
     "output_type": "stream",
     "text": [
      "objc[17563]: Class TKApplication is implemented in both /Users/serbanstan/anaconda/lib/libtk8.5.dylib and /System/Library/Frameworks/Tk.framework/Versions/8.5/Tk. One of the two will be used. Which one is undefined.\n",
      "objc[17563]: Class TKMenu is implemented in both /Users/serbanstan/anaconda/lib/libtk8.5.dylib and /System/Library/Frameworks/Tk.framework/Versions/8.5/Tk. One of the two will be used. Which one is undefined.\n",
      "objc[17563]: Class TKContentView is implemented in both /Users/serbanstan/anaconda/lib/libtk8.5.dylib and /System/Library/Frameworks/Tk.framework/Versions/8.5/Tk. One of the two will be used. Which one is undefined.\n",
      "objc[17563]: Class TKWindow is implemented in both /Users/serbanstan/anaconda/lib/libtk8.5.dylib and /System/Library/Frameworks/Tk.framework/Versions/8.5/Tk. One of the two will be used. Which one is undefined.\n"
     ]
    }
   ],
   "source": [
    "using Laplacians"
   ]
  },
  {
   "cell_type": "code",
   "execution_count": 2,
   "metadata": {
    "collapsed": false
   },
   "outputs": [
    {
     "data": {
      "text/plain": [
       "pcgWorker (generic function with 1 method)"
      ]
     },
     "execution_count": 2,
     "metadata": {},
     "output_type": "execute_result"
    }
   ],
   "source": [
    "include(\"treeSolver.jl\")\n",
    "include(\"IO.jl\")\n",
    "include(\"generators.jl\")\n",
    "include(\"toHighPrecision.jl\")\n",
    "include(\"verbosePCG.jl\")"
   ]
  },
  {
   "cell_type": "code",
   "execution_count": 3,
   "metadata": {
    "collapsed": false
   },
   "outputs": [
    {
     "data": {
      "text/plain": [
       "\"/Users/serbanstan/git/TreePCG/julia\""
      ]
     },
     "execution_count": 3,
     "metadata": {},
     "output_type": "execute_result"
    }
   ],
   "source": [
    "pwd()"
   ]
  },
  {
   "cell_type": "code",
   "execution_count": 4,
   "metadata": {
    "collapsed": false
   },
   "outputs": [
    {
     "data": {
      "text/plain": [
       "\"../graphs/se_1/\""
      ]
     },
     "execution_count": 4,
     "metadata": {},
     "output_type": "execute_result"
    }
   ],
   "source": [
    "graphp = \"../graphs/se_1/\""
   ]
  },
  {
   "cell_type": "code",
   "execution_count": 5,
   "metadata": {
    "collapsed": false
   },
   "outputs": [],
   "source": [
    "a = readFromFile(graphp * \"graph.mtx\");"
   ]
  },
  {
   "cell_type": "code",
   "execution_count": 6,
   "metadata": {
    "collapsed": false
   },
   "outputs": [],
   "source": [
    "tree = readFromFile(graphp * \"tree.mtx\");"
   ]
  },
  {
   "cell_type": "code",
   "execution_count": 7,
   "metadata": {
    "collapsed": false
   },
   "outputs": [],
   "source": [
    "x = readFromFile(graphp * \"x.vec\");"
   ]
  },
  {
   "cell_type": "code",
   "execution_count": 8,
   "metadata": {
    "collapsed": false
   },
   "outputs": [],
   "source": [
    "la = lap(a);\n",
    "x = x - mean(x)\n",
    "b = la * x; b = b - mean(b);"
   ]
  },
  {
   "cell_type": "code",
   "execution_count": 9,
   "metadata": {
    "collapsed": false
   },
   "outputs": [
    {
     "name": "stdout",
     "output_type": "stream",
     "text": [
      "  0.278817 seconds (281.05 k allocations: 11.975 MB, 2.33% gc time)\n",
      "  0.175479 seconds (131.66 k allocations: 5.323 MB, 4.03% gc time)\n"
     ]
    }
   ],
   "source": [
    "@time F = treeSolver(tree)\n",
    "@time F(b);"
   ]
  },
  {
   "cell_type": "code",
   "execution_count": 12,
   "metadata": {
    "collapsed": false
   },
   "outputs": [
    {
     "name": "stdout",
     "output_type": "stream",
     "text": [
      " 37.637860 seconds (675.89 M allocations: 18.379 GB, 14.80% gc time)\n"
     ]
    }
   ],
   "source": [
    "# a run on standard Float64 data types\n",
    "numIts = 50000;\n",
    "@time myx64,dbg = pcgV(la, b, F, x, maxits=numIts, verbose=false);\n",
    "norm(lap(a) * myx64 - b) / norm(b)\n",
    "insert!(dbg, 1, \"$(numIts) iterations\")\n",
    "insert!(dbg, 1, \"anorm = sqrt((x-truex)' * la * (x-truex)), err2_a = norm(la*x-b) / norm(b), err2_b = norm(x-truex)\")\n",
    "writeToFile(graphp * \"_log_julia_default.txt\", dbg)"
   ]
  },
  {
   "cell_type": "code",
   "execution_count": null,
   "metadata": {
    "collapsed": false
   },
   "outputs": [
    {
     "name": "stdout",
     "output_type": "stream",
     "text": [
      "Working on iteration 10 with a-norm error 3469.5633275243113\n",
      "Working on iteration 20 with a-norm error 1573.8510088944831\n",
      "Working on iteration 30 with a-norm error 1023.6216884260041\n",
      "Working on iteration 40 with a-norm error 750.0182473212516\n",
      "Working on iteration 50 with a-norm error 583.6278334786532\n",
      "Working on iteration 60 with a-norm error 470.551956430909\n",
      "Working on iteration 70 with a-norm error 398.95384818775875\n",
      "Working on iteration 80 with a-norm error 336.9921477801604\n",
      "Working on iteration 90 with a-norm error 289.855983018558\n",
      "Working on iteration 100 with a-norm error 244.09984751902323\n",
      "Working on iteration 110 with a-norm error 205.06496340374156\n",
      "Working on iteration 120 with a-norm error 184.92150736718057\n",
      "Working on iteration 130 with a-norm error 162.4514214734542\n",
      "Working on iteration 140 with a-norm error 142.47371169151583\n",
      "Working on iteration 150 with a-norm error 131.2915223215322\n",
      "Working on iteration 160 with a-norm error 120.7909483704082\n",
      "Working on iteration 170 with a-norm error 108.11985930193336\n",
      "Working on iteration 180 with a-norm error 102.25316103128573\n",
      "Working on iteration 190 with a-norm error 97.11357321039473\n",
      "Working on iteration 200 with a-norm error 90.45609067045133\n",
      "Working on iteration 210 with a-norm error 84.11386337099778\n",
      "Working on iteration 220 with a-norm error 79.06695125444291\n",
      "Working on iteration 230 with a-norm error 73.62100683649638\n",
      "Working on iteration 240 with a-norm error 69.52048672002881\n",
      "Working on iteration 250 with a-norm error 66.41868970135556\n",
      "Working on iteration 260 with a-norm error 63.16217725509938\n",
      "Working on iteration 270 with a-norm error 60.226253422883914\n",
      "Working on iteration 280 with a-norm error 58.817774000612815\n",
      "Working on iteration 290 with a-norm error 56.62223235389342\n",
      "Working on iteration 300 with a-norm error 55.28683092094364\n",
      "Working on iteration 310 with a-norm error 53.78166078548285\n",
      "Working on iteration 320 with a-norm error 52.22968560569117\n",
      "Working on iteration 330 with a-norm error 51.01303526016136\n",
      "Working on iteration 340 with a-norm error 49.0602116504441\n",
      "Working on iteration 350 with a-norm error 48.467748654135725\n",
      "Working on iteration 360 with a-norm error 47.63158597999818\n",
      "Working on iteration 370 with a-norm error 45.59919162025572\n",
      "Working on iteration 380 with a-norm error 44.498194381217495\n",
      "Working on iteration 390 with a-norm error 43.62287936036495\n",
      "Working on iteration 400 with a-norm error 42.85691458586056\n",
      "Working on iteration 410 with a-norm error 41.693312508836094\n",
      "Working on iteration 420 with a-norm error 41.104729177846764\n",
      "Working on iteration 430 with a-norm error 39.95162692427489\n",
      "Working on iteration 440 with a-norm error 38.96056728394075\n",
      "Working on iteration 450 with a-norm error 37.88341379004425\n",
      "Working on iteration 460 with a-norm error 36.18486112858007\n",
      "Working on iteration 470 with a-norm error 35.87138516026392\n",
      "Working on iteration 480 with a-norm error 35.24157196947296\n",
      "Working on iteration 490 with a-norm error 34.353397733065066\n",
      "Working on iteration 500 with a-norm error 34.092885857254025\n",
      "Working on iteration 510 with a-norm error 33.29706672534316\n",
      "Working on iteration 520 with a-norm error 33.04987458728288\n",
      "Working on iteration 530 with a-norm error 32.28660620664982\n",
      "Working on iteration 540 with a-norm error 31.534925154161147\n",
      "Working on iteration 550 with a-norm error 31.113325592559647\n",
      "Working on iteration 560 with a-norm error 30.579589802520186\n",
      "Working on iteration 570 with a-norm error 30.121674277410897\n",
      "Working on iteration 580 with a-norm error 29.193361957576887\n",
      "Working on iteration 590 with a-norm error 28.718929821991757\n",
      "Working on iteration 600 with a-norm error 28.57205617789536\n",
      "Working on iteration 610 with a-norm error 27.946275391338\n",
      "Working on iteration 620 with a-norm error 27.571872827456676\n",
      "Working on iteration 630 with a-norm error 27.06783086460729\n",
      "Working on iteration 640 with a-norm error 26.71599598059324\n",
      "Working on iteration 650 with a-norm error 26.36686791721791\n",
      "Working on iteration 660 with a-norm error 26.194905654138257\n",
      "Working on iteration 670 with a-norm error 25.436671083132588\n",
      "Working on iteration 680 with a-norm error 25.26475565607923\n",
      "Working on iteration 690 with a-norm error 25.01371343453484\n",
      "Working on iteration 700 with a-norm error 24.853356359086177\n",
      "Working on iteration 710 with a-norm error 24.100010731885302\n",
      "Working on iteration 720 with a-norm error 23.71347928252886\n",
      "Working on iteration 730 with a-norm error 23.569231173686333\n",
      "Working on iteration 740 with a-norm error 23.19782954075092\n",
      "Working on iteration 750 with a-norm error 23.02165072632043\n",
      "Working on iteration 760 with a-norm error 22.83544385471255\n",
      "Working on iteration 770 with a-norm error 22.53864916291091\n",
      "Working on iteration 780 with a-norm error 22.389674015246424\n",
      "Working on iteration 790 with a-norm error 22.249056545077394\n",
      "Working on iteration 800 with a-norm error 22.0508255558145\n",
      "Working on iteration 810 with a-norm error 21.87357992628362\n",
      "Working on iteration 820 with a-norm error 21.626377972895842\n",
      "Working on iteration 830 with a-norm error 21.55132721667173\n",
      "Working on iteration 840 with a-norm error 21.215464625360152\n",
      "Working on iteration 850 with a-norm error 21.04600390414067\n",
      "Working on iteration 860 with a-norm error 20.87286029625309\n",
      "Working on iteration 870 with a-norm error 20.760525909716325\n",
      "Working on iteration 880 with a-norm error 20.65376517566524\n",
      "Working on iteration 890 with a-norm error 20.583628047850066\n",
      "Working on iteration 900 with a-norm error 20.24946654283553\n",
      "Working on iteration 910 with a-norm error 20.020040857512413\n",
      "Working on iteration 920 with a-norm error 19.881553309918168\n",
      "Working on iteration 930 with a-norm error 19.517470264782098\n",
      "Working on iteration 940 with a-norm error 19.454450261295943\n",
      "Working on iteration 950 with a-norm error 19.213526045185553\n",
      "Working on iteration 960 with a-norm error 18.809183741371122\n",
      "Working on iteration 970 with a-norm error 18.741066997738653\n",
      "Working on iteration 980 with a-norm error 18.652520537183467\n",
      "Working on iteration 990 with a-norm error 18.169253375510912\n",
      "Working on iteration 1000 with a-norm error 18.140347191751168\n",
      "Working on iteration 1010 with a-norm error 17.947212494646617\n",
      "Working on iteration 1020 with a-norm error 17.746103108327038\n",
      "Working on iteration 1030 with a-norm error 17.490602892870903\n",
      "Working on iteration 1040 with a-norm error 17.430666986125946\n",
      "Working on iteration 1050 with a-norm error 17.091793171255254\n",
      "Working on iteration 1060 with a-norm error 16.899387032118074\n",
      "Working on iteration 1070 with a-norm error 16.87921748928462\n",
      "Working on iteration 1080 with a-norm error 16.854459700808004\n",
      "Working on iteration 1090 with a-norm error 16.740504549843305\n",
      "Working on iteration 1100 with a-norm error 16.66228625204397\n",
      "Working on iteration 1110 with a-norm error 16.641816374221918\n",
      "Working on iteration 1120 with a-norm error 16.374658456244617\n",
      "Working on iteration 1130 with a-norm error 16.31486082740106\n",
      "Working on iteration 1140 with a-norm error 16.27998618776676\n",
      "Working on iteration 1150 with a-norm error 16.258742454917947\n",
      "Working on iteration 1160 with a-norm error 16.052332455249644\n",
      "Working on iteration 1170 with a-norm error 16.010535574396297\n",
      "Working on iteration 1180 with a-norm error 15.968657801133709\n",
      "Working on iteration 1190 with a-norm error 15.73865154905543\n",
      "Working on iteration 1200 with a-norm error 15.696859771188095\n",
      "Working on iteration 1210 with a-norm error 15.655978772140642\n",
      "Working on iteration 1220 with a-norm error 15.598951435937208\n",
      "Working on iteration 1230 with a-norm error 15.471022077119214\n",
      "Working on iteration 1240 with a-norm error 15.423043176146235\n",
      "Working on iteration 1250 with a-norm error 15.385858721348683\n",
      "Working on iteration 1260 with a-norm error 15.312542406699523\n",
      "Working on iteration 1270 with a-norm error 15.25287119437199\n",
      "Working on iteration 1280 with a-norm error 15.24267229638621\n",
      "Working on iteration 1290 with a-norm error 15.22487232149653\n",
      "Working on iteration 1300 with a-norm error 15.167004173285314\n",
      "Working on iteration 1310 with a-norm error 15.054597274357594\n",
      "Working on iteration 1320 with a-norm error 15.034421238917286\n",
      "Working on iteration 1330 with a-norm error 15.024839660438218\n",
      "Working on iteration 1340 with a-norm error 15.008229381393786\n",
      "Working on iteration 1350 with a-norm error 14.942021433181447\n",
      "Working on iteration 1360 with a-norm error 14.888151183192583\n",
      "Working on iteration 1370 with a-norm error 14.865871876523784\n",
      "Working on iteration 1380 with a-norm error 14.839267803941226\n",
      "Working on iteration 1390 with a-norm error 14.810960390345056\n",
      "Working on iteration 1400 with a-norm error 14.786377402010787\n",
      "Working on iteration 1410 with a-norm error 14.733521685582007\n",
      "Working on iteration 1420 with a-norm error 14.665418508120435\n",
      "Working on iteration 1430 with a-norm error 14.652907149841205\n",
      "Working on iteration 1440 with a-norm error 14.633501465577348\n",
      "Working on iteration 1450 with a-norm error 14.579230073247519\n",
      "Working on iteration 1460 with a-norm error 14.498533360176888\n",
      "Working on iteration 1470 with a-norm error 14.44422683129815\n",
      "Working on iteration 1480 with a-norm error 14.434872808611113\n",
      "Working on iteration 1490 with a-norm error 14.406969916762298\n",
      "Working on iteration 1500 with a-norm error 14.37130534715359\n",
      "Working on iteration 1510 with a-norm error 14.316181212520606\n",
      "Working on iteration 1520 with a-norm error 14.29034083080688\n",
      "Working on iteration 1530 with a-norm error 14.270108533302277\n",
      "Working on iteration 1540 with a-norm error 14.177404488284013\n",
      "Working on iteration 1550 with a-norm error 14.145998587646464\n",
      "Working on iteration 1560 with a-norm error 14.132983663899294\n",
      "Working on iteration 1570 with a-norm error 14.10716056797489\n",
      "Working on iteration 1580 with a-norm error 14.052919079755403\n",
      "Working on iteration 1590 with a-norm error 14.039040809050372\n",
      "Working on iteration 1600 with a-norm error 13.968997928156572\n",
      "Working on iteration 1610 with a-norm error 13.961751284789099\n",
      "Working on iteration 1620 with a-norm error 13.946964212108366\n",
      "Working on iteration 1630 with a-norm error 13.914903332779165\n",
      "Working on iteration 1640 with a-norm error 13.86113919940105\n",
      "Working on iteration 1650 with a-norm error 13.841657923973093\n",
      "Working on iteration 1660 with a-norm error 13.8324939061664\n",
      "Working on iteration 1670 with a-norm error 13.804187373387638\n",
      "Working on iteration 1680 with a-norm error 13.784048197672874\n",
      "Working on iteration 1690 with a-norm error 13.738912896343418\n",
      "Working on iteration 1700 with a-norm error 13.733542951042711\n",
      "Working on iteration 1710 with a-norm error 13.706435440867024\n",
      "Working on iteration 1720 with a-norm error 13.678960003486218\n",
      "Working on iteration 1730 with a-norm error 13.651587880661063\n",
      "Working on iteration 1740 with a-norm error 13.598173404173137\n",
      "Working on iteration 1750 with a-norm error 13.585820644862682\n",
      "Working on iteration 1760 with a-norm error 13.571510460375352\n",
      "Working on iteration 1770 with a-norm error 13.552182579747358\n",
      "Working on iteration 1780 with a-norm error 13.516687208194641\n",
      "Working on iteration 1790 with a-norm error 13.48464628193228\n",
      "Working on iteration 1800 with a-norm error 13.47459479188792\n",
      "Working on iteration 1810 with a-norm error 13.467520126388202\n",
      "Working on iteration 1820 with a-norm error 13.460461820182287\n",
      "Working on iteration 1830 with a-norm error 13.423838164998777\n",
      "Working on iteration 1840 with a-norm error 13.422270262236028\n",
      "Working on iteration 1850 with a-norm error 13.411043464637215\n",
      "Working on iteration 1860 with a-norm error 13.370834648034775\n",
      "Working on iteration 1870 with a-norm error 13.351927849453494\n",
      "Working on iteration 1880 with a-norm error 13.338921308437019\n",
      "Working on iteration 1890 with a-norm error 13.33348816478634\n",
      "Working on iteration 1900 with a-norm error 13.31244315598784\n",
      "Working on iteration 1910 with a-norm error 13.301988172007343\n",
      "Working on iteration 1920 with a-norm error 13.286210296660222\n",
      "Working on iteration 1930 with a-norm error 13.26563153447854\n",
      "Working on iteration 1940 with a-norm error 13.225298605690869\n",
      "Working on iteration 1950 with a-norm error 13.215465016401584\n",
      "Working on iteration 1960 with a-norm error 13.2099315295791\n",
      "Working on iteration 1970 with a-norm error 13.20450645503116\n",
      "Working on iteration 1980 with a-norm error 13.182275519536832\n",
      "Working on iteration 1990 with a-norm error 13.155372723714043\n",
      "Working on iteration 2000 with a-norm error 13.146154689741394\n",
      "Working on iteration 2010 with a-norm error 13.120463559268329\n",
      "Working on iteration 2020 with a-norm error 13.109109646933899\n",
      "Working on iteration 2030 with a-norm error 13.078560169257898\n",
      "Working on iteration 2040 with a-norm error 13.062337596773816\n",
      "Working on iteration 2050 with a-norm error 13.044918399935902\n",
      "Working on iteration 2060 with a-norm error 13.036589993490523\n",
      "Working on iteration 2070 with a-norm error 13.032197192324531\n",
      "Working on iteration 2080 with a-norm error 13.014696468178443\n",
      "Working on iteration 2090 with a-norm error 12.99999472811708\n",
      "Working on iteration 2100 with a-norm error 12.984548565039946\n",
      "Working on iteration 2110 with a-norm error 12.950296050765502\n",
      "Working on iteration 2120 with a-norm error 12.94656032516195\n",
      "Working on iteration 2130 with a-norm error 12.932702644559466\n",
      "Working on iteration 2140 with a-norm error 12.912002814468343\n",
      "Working on iteration 2150 with a-norm error 12.904363538960402\n",
      "Working on iteration 2160 with a-norm error 12.900057092367348\n",
      "Working on iteration 2170 with a-norm error 12.891238104082921\n",
      "Working on iteration 2180 with a-norm error 12.886733811526684\n",
      "Working on iteration 2190 with a-norm error 12.880548780426544\n",
      "Working on iteration 2200 with a-norm error 12.834621653241955\n",
      "Working on iteration 2210 with a-norm error 12.819129245131457\n",
      "Working on iteration 2220 with a-norm error 12.813257079050034\n",
      "Working on iteration 2230 with a-norm error 12.786720537944593\n",
      "Working on iteration 2240 with a-norm error 12.767258133335234\n",
      "Working on iteration 2250 with a-norm error 12.725297981986653\n",
      "Working on iteration 2260 with a-norm error 12.720896576166322\n",
      "Working on iteration 2270 with a-norm error 12.716098675617491\n",
      "Working on iteration 2280 with a-norm error 12.708817979696416\n",
      "Working on iteration 2290 with a-norm error 12.694539468640897\n",
      "Working on iteration 2300 with a-norm error 12.689794995514706\n",
      "Working on iteration 2310 with a-norm error 12.64532535182382\n",
      "Working on iteration 2320 with a-norm error 12.622727750907714\n",
      "Working on iteration 2330 with a-norm error 12.615057057427881\n",
      "Working on iteration 2340 with a-norm error 12.59312774898976\n",
      "Working on iteration 2350 with a-norm error 12.577707864641674\n",
      "Working on iteration 2360 with a-norm error 12.56349340866798\n",
      "Working on iteration 2370 with a-norm error 12.540173215709517\n",
      "Working on iteration 2380 with a-norm error 12.532236878866026\n",
      "Working on iteration 2390 with a-norm error 12.529631473380231\n",
      "Working on iteration 2400 with a-norm error 12.526493401081645\n",
      "Working on iteration 2410 with a-norm error 12.488879508069578\n",
      "Working on iteration 2420 with a-norm error 12.472348086292582\n",
      "Working on iteration 2430 with a-norm error 12.466993447219895\n",
      "Working on iteration 2440 with a-norm error 12.46482266751428\n",
      "Working on iteration 2450 with a-norm error 12.456742388658157\n",
      "Working on iteration 2460 with a-norm error 12.42832378288832\n",
      "Working on iteration 2470 with a-norm error 12.416957382229533\n",
      "Working on iteration 2480 with a-norm error 12.410685446441397\n",
      "Working on iteration 2490 with a-norm error 12.40350568432618\n",
      "Working on iteration "
     ]
    }
   ],
   "source": [
    "numIts = 10000\n",
    "for hp in [64,128,1024]\n",
    "    set_bigfloat_precision(hp)\n",
    "    laHP = toHighPrecision(la; precision=hp)\n",
    "    treeHP = toHighPrecision(tree; precision=hp)\n",
    "    xHP = toHighPrecision(x; precision=hp);\n",
    "    bHP = toHighPrecision(b; precision=hp);\n",
    "    FHP = treeSolver(treeHP)\n",
    "    \n",
    "    @time myxHP,dbg = pcgV(laHP, bHP, FHP, xHP, maxits=numIts, verbose=true);\n",
    "    insert!(dbg, 1, \"$(numIts) iterations\")\n",
    "    insert!(dbg, 1, \"anorm = sqrt((x-truex)' * la * (x-truex)), err2_a = norm(la*x-b) / norm(b), err2_b = norm(x-truex)\")\n",
    "    writeToFile(graphp * \"_log_julia_$(hp).txt\", dbg)\n",
    "end"
   ]
  },
  {
   "cell_type": "code",
   "execution_count": null,
   "metadata": {
    "collapsed": false
   },
   "outputs": [],
   "source": [
    "?pcgV"
   ]
  },
  {
   "cell_type": "code",
   "execution_count": null,
   "metadata": {
    "collapsed": false
   },
   "outputs": [],
   "source": [
    "typeof(laHP)"
   ]
  },
  {
   "cell_type": "code",
   "execution_count": null,
   "metadata": {
    "collapsed": true
   },
   "outputs": [],
   "source": []
  }
 ],
 "metadata": {
  "kernelspec": {
   "display_name": "Julia 0.4.6",
   "language": "julia",
   "name": "julia-0.4"
  },
  "language_info": {
   "file_extension": ".jl",
   "mimetype": "application/julia",
   "name": "julia",
   "version": "0.4.6"
  }
 },
 "nbformat": 4,
 "nbformat_minor": 0
}
