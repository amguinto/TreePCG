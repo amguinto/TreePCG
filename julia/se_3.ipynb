{
 "cells": [
  {
   "cell_type": "code",
   "execution_count": 1,
   "metadata": {
    "collapsed": false
   },
   "outputs": [
    {
     "name": "stderr",
     "output_type": "stream",
     "text": [
      "objc[18980]: Class TKApplication is implemented in both /Users/serbanstan/anaconda/lib/libtk8.5.dylib and /System/Library/Frameworks/Tk.framework/Versions/8.5/Tk. One of the two will be used. Which one is undefined.\n",
      "objc[18980]: Class TKMenu is implemented in both /Users/serbanstan/anaconda/lib/libtk8.5.dylib and /System/Library/Frameworks/Tk.framework/Versions/8.5/Tk. One of the two will be used. Which one is undefined.\n",
      "objc[18980]: Class TKContentView is implemented in both /Users/serbanstan/anaconda/lib/libtk8.5.dylib and /System/Library/Frameworks/Tk.framework/Versions/8.5/Tk. One of the two will be used. Which one is undefined.\n",
      "objc[18980]: Class TKWindow is implemented in both /Users/serbanstan/anaconda/lib/libtk8.5.dylib and /System/Library/Frameworks/Tk.framework/Versions/8.5/Tk. One of the two will be used. Which one is undefined.\n"
     ]
    }
   ],
   "source": [
    "using Laplacians"
   ]
  },
  {
   "cell_type": "code",
   "execution_count": 2,
   "metadata": {
    "collapsed": false
   },
   "outputs": [
    {
     "data": {
      "text/plain": [
       "pcgWorker (generic function with 1 method)"
      ]
     },
     "execution_count": 2,
     "metadata": {},
     "output_type": "execute_result"
    }
   ],
   "source": [
    "include(\"treeSolver.jl\")\n",
    "include(\"IO.jl\")\n",
    "include(\"generators.jl\")\n",
    "include(\"toHighPrecision.jl\")\n",
    "include(\"verbosePCG.jl\")"
   ]
  },
  {
   "cell_type": "code",
   "execution_count": 3,
   "metadata": {
    "collapsed": false
   },
   "outputs": [
    {
     "data": {
      "text/plain": [
       "\"/Users/serbanstan/git/TreePCG/julia\""
      ]
     },
     "execution_count": 3,
     "metadata": {},
     "output_type": "execute_result"
    }
   ],
   "source": [
    "pwd()"
   ]
  },
  {
   "cell_type": "code",
   "execution_count": 4,
   "metadata": {
    "collapsed": false
   },
   "outputs": [
    {
     "data": {
      "text/plain": [
       "\"../graphs/se_3/\""
      ]
     },
     "execution_count": 4,
     "metadata": {},
     "output_type": "execute_result"
    }
   ],
   "source": [
    "graphp = \"../graphs/se_3/\""
   ]
  },
  {
   "cell_type": "code",
   "execution_count": 5,
   "metadata": {
    "collapsed": false
   },
   "outputs": [],
   "source": [
    "a = readFromFile(graphp * \"graph.mtx\");"
   ]
  },
  {
   "cell_type": "code",
   "execution_count": 6,
   "metadata": {
    "collapsed": false
   },
   "outputs": [],
   "source": [
    "tree = readFromFile(graphp * \"tree.mtx\");"
   ]
  },
  {
   "cell_type": "code",
   "execution_count": 7,
   "metadata": {
    "collapsed": false
   },
   "outputs": [],
   "source": [
    "x = readFromFile(graphp * \"x.vec\");"
   ]
  },
  {
   "cell_type": "code",
   "execution_count": 8,
   "metadata": {
    "collapsed": false
   },
   "outputs": [],
   "source": [
    "la = lap(a);\n",
    "x = x - mean(x)\n",
    "b = la * x; b = b - mean(b);"
   ]
  },
  {
   "cell_type": "code",
   "execution_count": 9,
   "metadata": {
    "collapsed": false
   },
   "outputs": [
    {
     "name": "stdout",
     "output_type": "stream",
     "text": [
      " 12.429566 seconds (2.81 M allocations: 183.971 MB, 0.76% gc time)\n",
      "  0.389330 seconds (4.12 M allocations: 81.311 MB, 20.35% gc time)\n"
     ]
    }
   ],
   "source": [
    "@time F = treeSolver(tree)\n",
    "@time F(b);"
   ]
  },
  {
   "cell_type": "code",
   "execution_count": 12,
   "metadata": {
    "collapsed": false
   },
   "outputs": [
    {
     "name": "stdout",
     "output_type": "stream",
     "text": [
      "Working on iteration 10 with a-norm error 1.7712969041872371e6\n",
      "Working on iteration 20 with a-norm error 1.5187925011494306e6\n",
      "Working on iteration 30 with a-norm error 914241.3878257711\n",
      "Working on iteration 40 with a-norm error 600896.7036546426\n",
      "Working on iteration 50 with a-norm error 415417.1398259632\n",
      "Working on iteration 60 with a-norm error 315035.22720878856\n",
      "Working on iteration 70 with a-norm error 215181.4288685037\n",
      "Working on iteration 80 with a-norm error 167992.4373805947\n",
      "Working on iteration 90 with a-norm error 140309.13491500143\n",
      "Working on iteration 100 with a-norm error 115914.20984578966\n",
      "Working on iteration 110 with a-norm error 101558.83934661775\n",
      "Working on iteration 120 with a-norm error 86457.05687482444\n",
      "Working on iteration 130 with a-norm error 74534.63333988967\n",
      "Working on iteration 140 with a-norm error 68111.30316039355\n",
      "Working on iteration 150 with a-norm error 60341.968910475654\n",
      "Working on iteration 160 with a-norm error 54083.90959235182\n",
      "Working on iteration 170 with a-norm error 49559.11471104256\n",
      "Working on iteration 180 with a-norm error 45277.30826751744\n",
      "Working on iteration 190 with a-norm error 41794.726528751846\n",
      "Working on iteration 200 with a-norm error 38503.53041646958\n",
      "Working on iteration 210 with a-norm error 35405.95379645234\n",
      "Working on iteration 220 with a-norm error 32565.035048977894\n",
      "Working on iteration 230 with a-norm error 30871.318093242146\n",
      "Working on iteration 240 with a-norm error 28674.57458237178\n",
      "Working on iteration 250 with a-norm error 26889.489600910005\n",
      "Working on iteration 260 with a-norm error 25180.86565496446\n",
      "Working on iteration 270 with a-norm error 23745.341158474694\n",
      "Working on iteration 280 with a-norm error 22169.81105424068\n",
      "Working on iteration 290 with a-norm error 20788.12205904877\n",
      "Working on iteration 300 with a-norm error 19855.957582158884\n",
      "Working on iteration 310 with a-norm error 18187.51315645526\n",
      "Working on iteration 320 with a-norm error 17640.673820766482\n",
      "Working on iteration 330 with a-norm error 16921.578819906896\n",
      "Working on iteration 340 with a-norm error 15759.025573268142\n",
      "Working on iteration 350 with a-norm error 15041.352720154568\n",
      "Working on iteration 360 with a-norm error 14499.380990170934\n",
      "Working on iteration 370 with a-norm error 13588.782867822258\n",
      "Working on iteration 380 with a-norm error 12957.817377163887\n",
      "Working on iteration 390 with a-norm error 12130.698854419748\n",
      "Working on iteration 400 with a-norm error 11704.316831796856\n",
      "Working on iteration 410 with a-norm error 11266.36442963261\n",
      "Working on iteration 420 with a-norm error 10719.803761609417\n",
      "Working on iteration 430 with a-norm error 10109.805353612603\n",
      "Working on iteration 440 with a-norm error 9841.824020951155\n",
      "Working on iteration 450 with a-norm error 9311.789277273947\n",
      "Working on iteration 460 with a-norm error 8925.656462515564\n",
      "Working on iteration 470 with a-norm error 8656.745225738849\n",
      "Working on iteration 480 with a-norm error 8021.362528074557\n",
      "Working on iteration 490 with a-norm error 7817.471554002043\n",
      "Working on iteration 500 with a-norm error 7439.0781291048\n",
      "Working on iteration 510 with a-norm error 7090.619956497505\n",
      "Working on iteration 520 with a-norm error 6839.049823603886\n",
      "Working on iteration 530 with a-norm error 6511.061166660809\n",
      "Working on iteration 540 with a-norm error 6275.033380383878\n",
      "Working on iteration 550 with a-norm error 5955.351845255436\n",
      "Working on iteration 560 with a-norm error 5629.056996553746\n",
      "Working on iteration 570 with a-norm error 5443.270663483289\n",
      "Working on iteration 580 with a-norm error 5079.852451396259\n",
      "Working on iteration 590 with a-norm error 4859.243513630702\n",
      "Working on iteration 600 with a-norm error 4619.792303682197\n",
      "Working on iteration 610 with a-norm error 4399.942117690783\n",
      "Working on iteration 620 with a-norm error 4256.672011315821\n",
      "Working on iteration 630 with a-norm error 3979.2008812932463\n",
      "Working on iteration 640 with a-norm error 3772.8338789582886\n",
      "Working on iteration 650 with a-norm error 3602.0214227473507\n",
      "Working on iteration 660 with a-norm error 3419.926967975899\n",
      "Working on iteration 670 with a-norm error 3287.954309681856\n",
      "Working on iteration 680 with a-norm error 3155.2473506283654\n",
      "Working on iteration 690 with a-norm error 2993.260236030469\n",
      "Working on iteration 700 with a-norm error 2792.4309297964264\n",
      "Working on iteration 710 with a-norm error 2704.60707147024\n",
      "Working on iteration 720 with a-norm error 2525.5137375224085\n",
      "Working on iteration 730 with a-norm error 2396.045259308325\n",
      "Working on iteration 740 with a-norm error 2307.478904684583\n",
      "Working on iteration 750 with a-norm error 2193.2325367167014\n",
      "Working on iteration 760 with a-norm error 2088.727903411336\n",
      "Working on iteration 770 with a-norm error 1959.297190487063\n",
      "Working on iteration 780 with a-norm error 1869.540459354838\n",
      "Working on iteration 790 with a-norm error 1755.114591340697\n",
      "Working on iteration 800 with a-norm error 1673.550341093892\n",
      "Working on iteration 810 with a-norm error 1593.9421989269426\n",
      "Working on iteration 820 with a-norm error 1492.7593601642357\n",
      "Working on iteration 830 with a-norm error 1429.8602811133208\n",
      "Working on iteration 840 with a-norm error 1376.8421487486064\n",
      "Working on iteration 850 with a-norm error 1302.9849997583785\n",
      "Working on iteration 860 with a-norm error 1218.960381691785\n",
      "Working on iteration 870 with a-norm error 1134.7086808674846\n",
      "Working on iteration 880 with a-norm error 1090.22457771633\n",
      "Working on iteration 890 with a-norm error 1050.832095078186\n",
      "Working on iteration 900 with a-norm error 965.0472916162059\n",
      "Working on iteration 910 with a-norm error 936.7052329111073\n",
      "Working on iteration 920 with a-norm error 884.2068549133073\n",
      "Working on iteration 930 with a-norm error 836.5363466680519\n",
      "Working on iteration 940 with a-norm error 795.8303181466326\n",
      "Working on iteration 950 with a-norm error 754.721542264555\n",
      "Working on iteration 960 with a-norm error 721.7257521454274\n",
      "Working on iteration 970 with a-norm error 684.7012317616044\n",
      "Working on iteration 980 with a-norm error 653.4788846611993\n",
      "Working on iteration 990 with a-norm error 630.5936201753723\n",
      "Working on iteration 1000 with a-norm error 597.9797485075705\n",
      "Working on iteration 1010 with a-norm error 568.2421102998155\n",
      "Working on iteration 1020 with a-norm error 529.6410878232044\n",
      "Working on iteration 1030 with a-norm error 506.2513378129973\n",
      "Working on iteration 1040 with a-norm error 487.4077191491563\n",
      "Working on iteration 1050 with a-norm error 467.36954772396365\n",
      "Working on iteration 1060 with a-norm error 430.2817717487857\n",
      "Working on iteration 1070 with a-norm error 404.84707383329015\n",
      "Working on iteration 1080 with a-norm error 384.2318403141437\n",
      "Working on iteration 1090 with a-norm error 374.2280487911914\n",
      "Working on iteration 1100 with a-norm error 353.48703393482776\n",
      "Working on iteration 1110 with a-norm error 337.18552182112023\n",
      "Working on iteration 1120 with a-norm error 314.3956545302796\n",
      "Working on iteration 1130 with a-norm error 298.883087754415\n",
      "Working on iteration 1140 with a-norm error 284.54951049511266\n",
      "Working on iteration 1150 with a-norm error 269.1498936866351\n",
      "Working on iteration 1160 with a-norm error 253.27821217936534\n",
      "Working on iteration 1170 with a-norm error 246.77109784022477\n",
      "Working on iteration 1180 with a-norm error 229.80603152209912\n",
      "Working on iteration 1190 with a-norm error 214.82163566625897\n",
      "Working on iteration 1200 with a-norm error 200.05635058669347\n",
      "Working on iteration 1210 with a-norm error 195.80479871725524\n",
      "Working on iteration 1220 with a-norm error 183.89262191391234\n",
      "Working on iteration 1230 with a-norm error 173.47261404171783\n",
      "Working on iteration 1240 with a-norm error 163.1647753289322\n",
      "Working on iteration 1250 with a-norm error 158.09543073053518\n",
      "Working on iteration 1260 with a-norm error 149.1296713008061\n",
      "Working on iteration 1270 with a-norm error 143.64851423189722\n",
      "Working on iteration 1280 with a-norm error 136.86550639665865\n",
      "Working on iteration 1290 with a-norm error 127.7169467899054\n",
      "Working on iteration 1300 with a-norm error 122.43130720495918\n",
      "Working on iteration 1310 with a-norm error 119.13172667669727\n",
      "Working on iteration 1320 with a-norm error 108.93463611863596\n",
      "Working on iteration 1330 with a-norm error 103.79957673597511\n",
      "Working on iteration 1340 with a-norm error 100.32418275964088\n",
      "Working on iteration 1350 with a-norm error 94.29900744624973\n",
      "Working on iteration 1360 with a-norm error 89.88663570722937\n",
      "Working on iteration 1370 with a-norm error 82.33288061125548\n",
      "Working on iteration 1380 with a-norm error 78.71914208617127\n",
      "Working on iteration 1390 with a-norm error 74.29279825765278\n",
      "Working on iteration 1400 with a-norm error 72.84917419847444\n",
      "Working on iteration 1410 with a-norm error 67.91694895200135\n",
      "Working on iteration 1420 with a-norm error 66.41638697735628\n",
      "Working on iteration 1430 with a-norm error 62.279846369024845\n",
      "Working on iteration 1440 with a-norm error 57.409890111594706\n",
      "Working on iteration 1450 with a-norm error 55.717161735163465\n",
      "Working on iteration 1460 with a-norm error 52.58273061622687\n",
      "Working on iteration 1470 with a-norm error 49.48723474654457\n",
      "Working on iteration 1480 with a-norm error 47.519610816625075\n",
      "Working on iteration 1490 with a-norm error 44.48317487459695\n",
      "Working on iteration 1500 with a-norm error 41.623997054919116\n",
      "Working on iteration 1510 with a-norm error 39.650927490530385\n",
      "Working on iteration 1520 with a-norm error 38.03633796443406\n",
      "Working on iteration 1530 with a-norm error 35.94207351626567\n",
      "Working on iteration 1540 with a-norm error 33.94963520174612\n",
      "Working on iteration 1550 with a-norm error 31.765232951669944\n",
      "Working on iteration 1560 with a-norm error 30.748542311295132\n",
      "Working on iteration 1570 with a-norm error 28.761386072838686\n",
      "Working on iteration 1580 with a-norm error 27.20802483223924\n",
      "Working on iteration 1590 with a-norm error 25.792550286396544\n",
      "Working on iteration 1600 with a-norm error 24.444851404395994\n",
      "Working on iteration 1610 with a-norm error 22.959267359944032\n",
      "Working on iteration 1620 with a-norm error 21.95701207483822\n",
      "Working on iteration 1630 with a-norm error 20.74400720719937\n",
      "Working on iteration 1640 with a-norm error 19.94330094417955\n",
      "Working on iteration 1650 with a-norm error 19.010124294109385\n",
      "Working on iteration 1660 with a-norm error 17.833008162503642\n",
      "Working on iteration 1670 with a-norm error 16.87931551261429\n",
      "Working on iteration 1680 with a-norm error 15.731819644131292\n",
      "Working on iteration 1690 with a-norm error 15.332802825170253\n",
      "Working on iteration 1700 with a-norm error 13.897138329235293\n",
      "Working on iteration 1710 with a-norm error 13.083171557613209\n",
      "Working on iteration 1720 with a-norm error 12.664608237504206\n",
      "Working on iteration 1730 with a-norm error 11.878979598089403\n",
      "Working on iteration 1740 with a-norm error 11.34138412415668\n",
      "Working on iteration 1750 with a-norm error 10.69431044890054\n",
      "Working on iteration 1760 with a-norm error 10.271699211637088\n",
      "Working on iteration 1770 with a-norm error 9.473872041249987\n",
      "Working on iteration 1780 with a-norm error 9.098016710768224\n",
      "Working on iteration 1790 with a-norm error 8.683051106089241\n",
      "Working on iteration 1800 with a-norm error 8.190857935881075\n",
      "Working on iteration 1810 with a-norm error 7.658547450374848\n",
      "Working on iteration 1820 with a-norm error 7.364514867374482\n",
      "Working on iteration 1830 with a-norm error 6.863706752556093\n",
      "Working on iteration 1840 with a-norm error 6.573494189266588\n",
      "Working on iteration 1850 with a-norm error 6.219504476687284\n",
      "Working on iteration 1860 with a-norm error 5.922915548539158\n",
      "Working on iteration 1870 with a-norm error 5.690070080765375\n",
      "Working on iteration 1880 with a-norm error 5.393056129484069\n",
      "Working on iteration 1890 with a-norm error 5.125095897065476\n",
      "Working on iteration 1900 with a-norm error 4.915111080139172\n",
      "Working on iteration 1910 with a-norm error 4.534554801374852\n",
      "Working on iteration 1920 with a-norm error 4.220809062356769\n",
      "Working on iteration 1930 with a-norm error 4.123611674721574\n",
      "Working on iteration 1940 with a-norm error 3.868346474357799\n",
      "Working on iteration 1950 with a-norm error 3.687999965243149\n",
      "Working on iteration 1960 with a-norm error 3.5160587349413825\n",
      "Working on iteration 1970 with a-norm error 3.244309636980349\n",
      "Working on iteration 1980 with a-norm error 3.15897807266606\n",
      "Working on iteration 1990 with a-norm error 3.0261344387655247\n",
      "Working on iteration 2000 with a-norm error 2.942232894313003\n",
      "Working on iteration 2010 with a-norm error 2.6860887847572403\n",
      "Working on iteration 2020 with a-norm error 2.5916888997065173\n",
      "Working on iteration 2030 with a-norm error 2.431042883079867\n",
      "Working on iteration 2040 with a-norm error 2.2813892336840245\n",
      "Working on iteration 2050 with a-norm error 2.1853829868393015\n",
      "Working on iteration 2060 with a-norm error 2.10172809378157\n",
      "Working on iteration 2070 with a-norm error 1.983901243310463\n",
      "Working on iteration 2080 with a-norm error 1.8817027484364834\n",
      "Working on iteration 2090 with a-norm error 1.739876308323778\n",
      "Working on iteration 2100 with a-norm error 1.6727859028057364\n",
      "Working on iteration 2110 with a-norm error 1.6013516101266476\n",
      "Working on iteration 2120 with a-norm error 1.4973044997206162\n",
      "Working on iteration 2130 with a-norm error 1.4664321790434733\n",
      "Working on iteration 2140 with a-norm error 1.3669642086603415\n",
      "Working on iteration 2150 with a-norm error 1.2947245805354146\n",
      "Working on iteration 2160 with a-norm error 1.2312018138635508\n",
      "Working on iteration 2170 with a-norm error 1.1790753577540825\n",
      "Working on iteration 2180 with a-norm error 1.1225418418782325\n",
      "Working on iteration 2190 with a-norm error 1.0686821168335552\n",
      "Working on iteration 2200 with a-norm error 1.0204453518341732\n",
      "Working on iteration 2210 with a-norm error 0.9649324865710809\n",
      "Working on iteration 2220 with a-norm error 0.9051230475020049\n",
      "Working on iteration 2230 with a-norm error 0.8603989982890906\n",
      "Working on iteration 2240 with a-norm error 0.8205745335223218\n",
      "Working on iteration 2250 with a-norm error 0.7871922145810225\n",
      "Working on iteration 2260 with a-norm error 0.748327793008793\n",
      "Working on iteration 2270 with a-norm error 0.702932726730084\n",
      "Working on iteration 2280 with a-norm error 0.6712376998260522\n",
      "Working on iteration 2290 with a-norm error 0.6452604990173207\n",
      "Working on iteration 2300 with a-norm error 0.6044940948944459\n",
      "Working on iteration 2310 with a-norm error 0.575820413122581\n",
      "Working on iteration 2320 with a-norm error 0.5430772867345787\n",
      "Working on iteration 2330 with a-norm error 0.5205571106244525\n",
      "Working on iteration 2340 with a-norm error 0.49197167338823966\n",
      "Working on iteration 2350 with a-norm error 0.477283273353406\n",
      "Working on iteration 2360 with a-norm error 0.4416553917110174\n",
      "Working on iteration 2370 with a-norm error 0.42417203511117024\n",
      "Working on iteration 2380 with a-norm error 0.3988104174083407\n",
      "Working on iteration 2390 with a-norm error 0.37111972213440214\n",
      "Working on iteration 2400 with a-norm error 0.3571176857136899\n",
      "Working on iteration 2410 with a-norm error 0.34207493669333633\n",
      "Working on iteration 2420 with a-norm error 0.32152171441957605\n",
      "Working on iteration 2430 with a-norm error 0.31243594086991566\n",
      "Working on iteration 2440 with a-norm error 0.28923107819730326\n",
      "Working on iteration 2450 with a-norm error 0.271873579712079\n",
      "Working on iteration 2460 with a-norm error 0.2605789518926328\n",
      "Working on iteration 2470 with a-norm error 0.24781207718219153\n",
      "Working on iteration 2480 with a-norm error 0.23649056870083543\n",
      "Working on iteration 2490 with a-norm error 0.22932914894937684\n",
      "Working on iteration 2500 with a-norm error 0.2219908301490339\n",
      "Working on iteration 2510 with a-norm error 0.20264286779068755\n",
      "Working on iteration 2520 with a-norm error 0.1961185732880999\n",
      "Working on iteration 2530 with a-norm error 0.1854397674948418\n",
      "Working on iteration 2540 with a-norm error 0.1765799407401533\n",
      "Working on iteration 2550 with a-norm error 0.16621205519508453\n",
      "Working on iteration 2560 with a-norm error 0.15600995695841863\n",
      "Working on iteration 2570 with a-norm error 0.14905981448599714\n",
      "Working on iteration 2580 with a-norm error 0.13922003860979815\n",
      "Working on iteration 2590 with a-norm error 0.13244839543833942\n",
      "Working on iteration 2600 with a-norm error 0.12424311535132164\n",
      "Working on iteration 2610 with a-norm error 0.11935952885298055\n",
      "Working on iteration 2620 with a-norm error 0.11178399274483015\n",
      "Working on iteration 2630 with a-norm error 0.10557663812022332\n",
      "Working on iteration 2640 with a-norm error 0.10194927332094554\n",
      "Working on iteration 2650 with a-norm error 0.09579444513597264\n",
      "Working on iteration 2660 with a-norm error 0.09200438627187367\n",
      "Working on iteration 2670 with a-norm error 0.08672153979090781\n",
      "Working on iteration 2680 with a-norm error 0.08079032845200423\n",
      "Working on iteration 2690 with a-norm error 0.07635409422510933\n",
      "Working on iteration 2700 with a-norm error 0.07402274184480828\n",
      "Working on iteration 2710 with a-norm error 0.07012489140438131\n",
      "Working on iteration 2720 with a-norm error 0.06728524747288969\n",
      "Working on iteration 2730 with a-norm error 0.06304503688946486\n",
      "Working on iteration 2740 with a-norm error 0.06021504903391441\n",
      "Working on iteration 2750 with a-norm error 0.05822371092748799\n",
      "Working on iteration 2760 with a-norm error 0.054300991183172935\n",
      "Working on iteration 2770 with a-norm error 0.05149264762927094\n",
      "Working on iteration 2780 with a-norm error 0.049363040338276126\n",
      "Working on iteration 2790 with a-norm error 0.046872131618145865\n",
      "Working on iteration 2800 with a-norm error 0.04336486265029303\n",
      "Working on iteration 2810 with a-norm error 0.04187769099236074\n",
      "Working on iteration 2820 with a-norm error 0.039235172649512574\n",
      "Working on iteration 2830 with a-norm error 0.03795191485283768\n",
      "Working on iteration 2840 with a-norm error 0.03572286176017583\n",
      "Working on iteration 2850 with a-norm error 0.03426278582063631\n",
      "Working on iteration 2860 with a-norm error 0.033482020371400835\n",
      "Working on iteration 2870 with a-norm error 0.03132008588425661\n",
      "Working on iteration 2880 with a-norm error 0.029312264839271324\n",
      "Working on iteration 2890 with a-norm error 0.028229415879731608\n",
      "Working on iteration 2900 with a-norm error 0.02698714114906609\n",
      "Working on iteration 2910 with a-norm error 0.025835411090358244\n",
      "Working on iteration 2920 with a-norm error 0.02415710242386105\n",
      "Working on iteration 2930 with a-norm error 0.023304903382467105\n",
      "Working on iteration 2940 with a-norm error 0.02197028577368688\n",
      "Working on iteration 2950 with a-norm error 0.02118541704258936\n",
      "Working on iteration 2960 with a-norm error 0.020131322400243366\n",
      "Working on iteration 2970 with a-norm error 0.019084562054675697\n",
      "Working on iteration 2980 with a-norm error 0.018432951324624733\n",
      "Working on iteration 2990 with a-norm error 0.017345342553087197\n",
      "Working on iteration 3000 with a-norm error 0.016541950378183044\n",
      "PCG stopped after: 3000 iterations with relative error 0.01651098174117449.\n",
      "678.242897 seconds (12.00 G allocations: 303.971 GB, 14.92% gc time)\n"
     ]
    }
   ],
   "source": [
    "# a run on standard Float64 data types\n",
    "numIts = 1000;\n",
    "@time myx64,dbg = pcgV(la, b, F, x, maxits=numIts, verbose=true);\n",
    "norm(lap(a) * myx64 - b) / norm(b)\n",
    "insert!(dbg, 1, \"$(numIts) iterations\")\n",
    "insert!(dbg, 1, \"anorm = sqrt((x-truex)' * la * (x-truex)), err2_a = norm(la*x-b) / norm(b), err2_b = norm(x-truex)\")\n",
    "writeToFile(graphp * \"_log_julia_default.txt\", dbg)"
   ]
  },
  {
   "cell_type": "code",
   "execution_count": null,
   "metadata": {
    "collapsed": false
   },
   "outputs": [],
   "source": [
    "numIts = 1000\n",
    "for hp in [64,128,1024]\n",
    "    set_bigfloat_precision(hp)\n",
    "    laHP = toHighPrecision(la; precision=hp)\n",
    "    treeHP = toHighPrecision(tree; precision=hp)\n",
    "    xHP = toHighPrecision(x; precision=hp);\n",
    "    bHP = toHighPrecision(b; precision=hp);\n",
    "    FHP = treeSolver(treeHP)\n",
    "    \n",
    "    @time myxHP,dbg = pcgV(laHP, bHP, FHP, xHP, maxits=numIts, verbose=true);\n",
    "    insert!(dbg, 1, \"$(numIts) iterations\")\n",
    "    insert!(dbg, 1, \"anorm = sqrt((x-truex)' * la * (x-truex)), err2_a = norm(la*x-b) / norm(b), err2_b = norm(x-truex)\")\n",
    "    writeToFile(graphp * \"_log_julia_$(hp).txt\", dbg)\n",
    "end"
   ]
  },
  {
   "cell_type": "code",
   "execution_count": null,
   "metadata": {
    "collapsed": false
   },
   "outputs": [],
   "source": [
    "?pcgV"
   ]
  },
  {
   "cell_type": "code",
   "execution_count": null,
   "metadata": {
    "collapsed": false
   },
   "outputs": [],
   "source": [
    "typeof(laHP)"
   ]
  },
  {
   "cell_type": "code",
   "execution_count": null,
   "metadata": {
    "collapsed": true
   },
   "outputs": [],
   "source": []
  }
 ],
 "metadata": {
  "kernelspec": {
   "display_name": "Julia 0.4.6",
   "language": "julia",
   "name": "julia-0.4"
  },
  "language_info": {
   "file_extension": ".jl",
   "mimetype": "application/julia",
   "name": "julia",
   "version": "0.4.6"
  }
 },
 "nbformat": 4,
 "nbformat_minor": 0
}
