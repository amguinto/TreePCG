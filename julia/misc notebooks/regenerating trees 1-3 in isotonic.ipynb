{
 "cells": [
  {
   "cell_type": "code",
   "execution_count": 1,
   "metadata": {
    "collapsed": false
   },
   "outputs": [
    {
     "data": {
      "text/plain": [
       "parseData (generic function with 1 method)"
      ]
     },
     "execution_count": 1,
     "metadata": {},
     "output_type": "execute_result"
    }
   ],
   "source": [
    "include(\"../src/Julia.jl\")"
   ]
  },
  {
   "cell_type": "code",
   "execution_count": 2,
   "metadata": {
    "collapsed": false
   },
   "outputs": [
    {
     "data": {
      "text/plain": [
       "\"/Users/serbanstan/git/TreePCG/julia/misc notebooks\""
      ]
     },
     "execution_count": 2,
     "metadata": {},
     "output_type": "execute_result"
    }
   ],
   "source": [
    "pwd()"
   ]
  },
  {
   "cell_type": "code",
   "execution_count": 3,
   "metadata": {
    "collapsed": true
   },
   "outputs": [],
   "source": [
    "gpath = \"../../graphs/ipm_grid3_8000_all/\";"
   ]
  },
  {
   "cell_type": "code",
   "execution_count": 4,
   "metadata": {
    "collapsed": true
   },
   "outputs": [],
   "source": [
    "graphs = readdir(gpath);"
   ]
  },
  {
   "cell_type": "code",
   "execution_count": 9,
   "metadata": {
    "collapsed": false
   },
   "outputs": [
    {
     "name": "stdout",
     "output_type": "stream",
     "text": [
      "Done for graph ipm_grid3_8000_1\n",
      "Done for graph ipm_grid3_8000_10\n",
      "Done for graph ipm_grid3_8000_100\n",
      "Done for graph ipm_grid3_8000_101\n",
      "Done for graph ipm_grid3_8000_102\n",
      "Done for graph ipm_grid3_8000_103\n",
      "Done for graph ipm_grid3_8000_104\n",
      "Done for graph ipm_grid3_8000_105\n",
      "Done for graph ipm_grid3_8000_106\n",
      "Done for graph ipm_grid3_8000_107\n",
      "Done for graph ipm_grid3_8000_108\n",
      "Done for graph ipm_grid3_8000_109\n",
      "Done for graph ipm_grid3_8000_11\n",
      "Done for graph ipm_grid3_8000_110\n",
      "Done for graph ipm_grid3_8000_111\n",
      "Done for graph ipm_grid3_8000_112\n",
      "Done for graph ipm_grid3_8000_113\n",
      "Done for graph ipm_grid3_8000_114\n",
      "Done for graph ipm_grid3_8000_115\n",
      "Done for graph ipm_grid3_8000_116\n",
      "Done for graph ipm_grid3_8000_117\n",
      "Done for graph ipm_grid3_8000_118\n",
      "Done for graph ipm_grid3_8000_119\n",
      "Done for graph ipm_grid3_8000_12\n",
      "Done for graph ipm_grid3_8000_120\n",
      "Done for graph ipm_grid3_8000_121\n",
      "Done for graph ipm_grid3_8000_122\n",
      "Done for graph ipm_grid3_8000_123\n",
      "Done for graph ipm_grid3_8000_124\n",
      "Done for graph ipm_grid3_8000_125\n",
      "Done for graph ipm_grid3_8000_126\n",
      "Done for graph ipm_grid3_8000_127\n",
      "Done for graph ipm_grid3_8000_128\n",
      "Done for graph ipm_grid3_8000_129\n",
      "Done for graph ipm_grid3_8000_13\n",
      "Done for graph ipm_grid3_8000_130\n",
      "Done for graph ipm_grid3_8000_131\n",
      "Done for graph ipm_grid3_8000_132\n",
      "Done for graph ipm_grid3_8000_133\n",
      "Done for graph ipm_grid3_8000_134\n",
      "Done for graph ipm_grid3_8000_14\n",
      "Done for graph ipm_grid3_8000_15\n",
      "Done for graph ipm_grid3_8000_16\n",
      "Done for graph ipm_grid3_8000_17\n",
      "Done for graph ipm_grid3_8000_18\n",
      "Done for graph ipm_grid3_8000_19\n",
      "Done for graph ipm_grid3_8000_2\n",
      "Done for graph ipm_grid3_8000_20\n",
      "Done for graph ipm_grid3_8000_21\n",
      "Done for graph ipm_grid3_8000_22\n",
      "Done for graph ipm_grid3_8000_23\n",
      "Done for graph ipm_grid3_8000_24\n",
      "Done for graph ipm_grid3_8000_25\n",
      "Done for graph ipm_grid3_8000_26\n",
      "Done for graph ipm_grid3_8000_27\n",
      "Done for graph ipm_grid3_8000_28\n",
      "Done for graph ipm_grid3_8000_29\n",
      "Done for graph ipm_grid3_8000_3\n",
      "Done for graph ipm_grid3_8000_30\n",
      "Done for graph ipm_grid3_8000_31\n",
      "Done for graph ipm_grid3_8000_32\n",
      "Done for graph ipm_grid3_8000_33\n",
      "Done for graph ipm_grid3_8000_34\n",
      "Done for graph ipm_grid3_8000_35\n",
      "Done for graph ipm_grid3_8000_36\n",
      "Done for graph ipm_grid3_8000_37\n",
      "Done for graph ipm_grid3_8000_38\n",
      "Done for graph ipm_grid3_8000_39\n",
      "Done for graph ipm_grid3_8000_4\n",
      "Done for graph ipm_grid3_8000_40\n",
      "Done for graph ipm_grid3_8000_41\n",
      "Done for graph ipm_grid3_8000_42\n",
      "Done for graph ipm_grid3_8000_43\n",
      "Done for graph ipm_grid3_8000_44\n",
      "Done for graph ipm_grid3_8000_45\n",
      "Done for graph ipm_grid3_8000_46\n",
      "Done for graph ipm_grid3_8000_47\n",
      "Done for graph ipm_grid3_8000_48\n",
      "Done for graph ipm_grid3_8000_49\n",
      "Done for graph ipm_grid3_8000_5\n",
      "Done for graph ipm_grid3_8000_50\n",
      "Done for graph ipm_grid3_8000_51\n",
      "Done for graph ipm_grid3_8000_52\n",
      "Done for graph ipm_grid3_8000_53\n",
      "Done for graph ipm_grid3_8000_54\n",
      "Done for graph ipm_grid3_8000_55\n",
      "Done for graph ipm_grid3_8000_56\n",
      "Done for graph ipm_grid3_8000_57\n",
      "Done for graph ipm_grid3_8000_58\n",
      "Done for graph ipm_grid3_8000_59\n",
      "Done for graph ipm_grid3_8000_6\n",
      "Done for graph ipm_grid3_8000_60\n",
      "Done for graph ipm_grid3_8000_61\n",
      "Done for graph ipm_grid3_8000_62\n",
      "Done for graph ipm_grid3_8000_63\n",
      "Done for graph ipm_grid3_8000_64\n",
      "Done for graph ipm_grid3_8000_65\n",
      "Done for graph ipm_grid3_8000_66\n",
      "Done for graph ipm_grid3_8000_67\n",
      "Done for graph ipm_grid3_8000_68\n",
      "Done for graph ipm_grid3_8000_69\n",
      "Done for graph ipm_grid3_8000_7\n",
      "Done for graph ipm_grid3_8000_70\n",
      "Done for graph ipm_grid3_8000_71\n",
      "Done for graph ipm_grid3_8000_72\n",
      "Done for graph ipm_grid3_8000_73\n",
      "Done for graph ipm_grid3_8000_74\n",
      "Done for graph ipm_grid3_8000_75\n",
      "Done for graph ipm_grid3_8000_76\n",
      "Done for graph ipm_grid3_8000_77\n",
      "Done for graph ipm_grid3_8000_78\n",
      "Done for graph ipm_grid3_8000_79\n",
      "Done for graph ipm_grid3_8000_8\n",
      "Done for graph ipm_grid3_8000_80\n",
      "Done for graph ipm_grid3_8000_81\n",
      "Done for graph ipm_grid3_8000_82\n",
      "Done for graph ipm_grid3_8000_83\n",
      "Done for graph ipm_grid3_8000_84\n",
      "Done for graph ipm_grid3_8000_85\n",
      "Done for graph ipm_grid3_8000_86\n",
      "Done for graph ipm_grid3_8000_87\n",
      "Done for graph ipm_grid3_8000_88\n",
      "Done for graph ipm_grid3_8000_89\n",
      "Done for graph ipm_grid3_8000_9\n",
      "Done for graph ipm_grid3_8000_90\n",
      "Done for graph ipm_grid3_8000_91\n",
      "Done for graph ipm_grid3_8000_92\n",
      "Done for graph ipm_grid3_8000_93\n",
      "Done for graph ipm_grid3_8000_94\n",
      "Done for graph ipm_grid3_8000_95\n",
      "Done for graph ipm_grid3_8000_96\n",
      "Done for graph ipm_grid3_8000_97\n",
      "Done for graph ipm_grid3_8000_98\n",
      "Done for graph ipm_grid3_8000_99\n"
     ]
    }
   ],
   "source": [
    "for cur in graphs\n",
    "    path = gpath * cur * \"/\"\n",
    "    \n",
    "    a = readFromFile(path * \"graph.mtx\");\n",
    "    \n",
    "    tree1 = akpw(a)\n",
    "    tree2 = randishPrim(a)\n",
    "    tree3 = randishKruskal(a)\n",
    "    \n",
    "    writeToFile(path * \"tree1.mtx\", tree1)\n",
    "    writeToFile(path * \"tree2.mtx\", tree2)\n",
    "    writeToFile(path * \"tree3.mtx\", tree3)\n",
    "    \n",
    "    println(\"Done for graph \", cur)\n",
    "end"
   ]
  },
  {
   "cell_type": "code",
   "execution_count": null,
   "metadata": {
    "collapsed": true
   },
   "outputs": [],
   "source": []
  }
 ],
 "metadata": {
  "anaconda-cloud": {},
  "kernelspec": {
   "display_name": "Julia 0.4.6",
   "language": "julia",
   "name": "julia-0.4"
  },
  "language_info": {
   "file_extension": ".jl",
   "mimetype": "application/julia",
   "name": "julia",
   "version": "0.4.6"
  }
 },
 "nbformat": 4,
 "nbformat_minor": 0
}
