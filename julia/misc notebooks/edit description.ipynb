{
 "cells": [
  {
   "cell_type": "code",
   "execution_count": 19,
   "metadata": {
    "collapsed": false
   },
   "outputs": [
    {
     "data": {
      "text/plain": [
       "pcgWorker (generic function with 1 method)"
      ]
     },
     "execution_count": 19,
     "metadata": {},
     "output_type": "execute_result"
    }
   ],
   "source": [
    "include(\"../src/Julia.jl\")"
   ]
  },
  {
   "cell_type": "code",
   "execution_count": 57,
   "metadata": {
    "collapsed": false
   },
   "outputs": [
    {
     "data": {
      "text/plain": [
       "\"../../graphs/rand_iu_1000_3/\""
      ]
     },
     "execution_count": 57,
     "metadata": {},
     "output_type": "execute_result"
    }
   ],
   "source": [
    "gname = \"../../graphs/rand_iu_1000_3/\""
   ]
  },
  {
   "cell_type": "code",
   "execution_count": 58,
   "metadata": {
    "collapsed": true
   },
   "outputs": [],
   "source": [
    "a = readFromFile(gname * \"graph.mtx\");"
   ]
  },
  {
   "cell_type": "code",
   "execution_count": 59,
   "metadata": {
    "collapsed": false
   },
   "outputs": [],
   "source": [
    "tree = []\n",
    "str = []\n",
    "data = []\n",
    "\n",
    "for i in 1:3\n",
    "    curTree = readFromFile(gname * \"tree$(i).mtx\");\n",
    "    rest = a - curTree\n",
    "    curStr = compStretches(curTree,rest).nzval\n",
    "    \n",
    "    push!(tree, curTree)\n",
    "    push!(str, curStr)\n",
    "    push!(data, (sum(curStr)/2, mean(curStr)))\n",
    "end"
   ]
  },
  {
   "cell_type": "code",
   "execution_count": 60,
   "metadata": {
    "collapsed": true
   },
   "outputs": [],
   "source": [
    "# check these values when editing the description\n",
    "n = a.n;\n",
    "iu = true\n",
    "p = 0.02;\n",
    "wmax = 1000;"
   ]
  },
  {
   "cell_type": "code",
   "execution_count": 61,
   "metadata": {
    "collapsed": false
   },
   "outputs": [
    {
     "data": {
      "text/plain": [
       "strDist (generic function with 1 method)"
      ]
     },
     "execution_count": 61,
     "metadata": {},
     "output_type": "execute_result"
    }
   ],
   "source": [
    "function strDist{Tv,Ti}(tr::SparseMatrixCSC{Tv,Ti}, a::SparseMatrixCSC{Tv,Ti})\n",
    "    \n",
    "    res = Array{ASCIIString,1}(0)\n",
    "    \n",
    "    str = compStretches(tr, a-tr).nzval;\n",
    "    \n",
    "    vmax = maximum(str)\n",
    "    inter = (0,1)\n",
    "    while inter[2] < vmax\n",
    "        cnt = 0\n",
    "        for i in 1:length(str)\n",
    "            if inter[1] <= str[i] && str[i] < inter[2]\n",
    "                cnt = cnt + 1\n",
    "            end\n",
    "        end\n",
    "        # don't count edges twice\n",
    "        cnt = ceil(Int64,cnt / 2)\n",
    "        \n",
    "        push!(res, \"[$(inter[1]),$(inter[2])) - $(cnt)\")\n",
    "        \n",
    "        inter = (inter[2], inter[2] * 2)\n",
    "    end\n",
    "    \n",
    "    push!(res, \"\")\n",
    "    \n",
    "    return res;\n",
    "    \n",
    "end"
   ]
  },
  {
   "cell_type": "code",
   "execution_count": 62,
   "metadata": {
    "collapsed": false
   },
   "outputs": [
    {
     "data": {
      "text/plain": [
       "getEigs (generic function with 1 method)"
      ]
     },
     "execution_count": 62,
     "metadata": {},
     "output_type": "execute_result"
    }
   ],
   "source": [
    "# Return the sorted eigenvalues of lap(a) * lap(tr)^-1\n",
    "function getEigs{Tv,Ti}(tr::SparseMatrixCSC{Tv,Ti}, a::SparseMatrixCSC{Tv,Ti})\n",
    "    \n",
    "    la = lap(a);\n",
    "    ts = treeSolver(tr);\n",
    "    \n",
    "    function f(b)\n",
    "        return lap(a) * ts(b)\n",
    "    end\n",
    "    \n",
    "    fOp = SqLinOp(true,1.0,a.n,f)\n",
    "    \n",
    "    eigVals = eigs(fOp,nev=a.n-1)[1]\n",
    "    \n",
    "    eigsString = \"\"\n",
    "    for i in length(eigVals):-1:1\n",
    "        eigsString = eigsString * string(round(eigVals[i],4)) * \" \"\n",
    "    end\n",
    "    \n",
    "    return eigsString\n",
    "    \n",
    "end"
   ]
  },
  {
   "cell_type": "code",
   "execution_count": 63,
   "metadata": {
    "collapsed": false
   },
   "outputs": [
    {
     "name": "stdout",
     "output_type": "stream",
     "text": [
      "  0.025533 seconds (10.09 k allocations: 2.156 MB)\n",
      " 13.270703 seconds (13.50 M allocations: 744.368 MB, 1.85% gc time)\n",
      "  0.004265 seconds (258 allocations: 1.694 MB)\n",
      " 14.312963 seconds (13.49 M allocations: 744.280 MB, 1.18% gc time)\n",
      "  0.004287 seconds (258 allocations: 1.694 MB)\n",
      " 13.849735 seconds (13.49 M allocations: 744.229 MB, 1.39% gc time)\n"
     ]
    }
   ],
   "source": [
    "output = []\n",
    "push!(output, \"A random graph with $(n) vertices and $(ceil(Int64,nnz(a)/2)) edges.\")\n",
    "push!(output, \"\")\n",
    "push!(output, \"The graph is generated in the following way:\")\n",
    "push!(output, \"    - for each vertex, select n / $(1/p) random neighbors\")\n",
    "push!(output, \"    - get rid of duplicate edges\")\n",
    "if iu\n",
    "    push!(output, \"    - weights are reals sampled uniformly from 1/[1..$(wmax)]\")\n",
    "else\n",
    "    push!(output, \"    - weights are integers sampled uniformly from [1..$(wmax)]\")\n",
    "end\n",
    "push!(output, \"\")\n",
    "push!(output, \"There are three trees in the folder.\")\n",
    "push!(output, \"\")\n",
    "\n",
    "for i in 1:3\n",
    "    push!(output, \"Tree$(i) - total stretch = $(data[i][1]), ave stretch = $(data[i][2])\")\n",
    "    @time append!(output, strDist(tree[i],a))\n",
    "    push!(output, \"Eigenvalues of lap(a) * lap(tree$(i))^-1\")\n",
    "    @time push!(output, getEigs(tree[i],a))\n",
    "    push!(output, \"\")\n",
    "    push!(output, \"\")\n",
    "end\n",
    "\n",
    "desc = open(gname * \"description2.txt\", \"w\")\n",
    "for i in 1:length(output)\n",
    "    println(desc, output[i])\n",
    "end\n",
    "close(desc)"
   ]
  },
  {
   "cell_type": "code",
   "execution_count": null,
   "metadata": {
    "collapsed": true
   },
   "outputs": [],
   "source": []
  }
 ],
 "metadata": {
  "kernelspec": {
   "display_name": "Julia 0.4.6",
   "language": "julia",
   "name": "julia-0.4"
  },
  "language_info": {
   "file_extension": ".jl",
   "mimetype": "application/julia",
   "name": "julia",
   "version": "0.4.6"
  }
 },
 "nbformat": 4,
 "nbformat_minor": 0
}
