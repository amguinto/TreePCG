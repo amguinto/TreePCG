{
 "cells": [
  {
   "cell_type": "code",
   "execution_count": 1,
   "metadata": {
    "collapsed": false
   },
   "outputs": [
    {
     "name": "stderr",
     "output_type": "stream",
     "text": [
      "objc[56485]: Class TKApplication is implemented in both /Users/serbanstan/anaconda/lib/libtk8.5.dylib and /System/Library/Frameworks/Tk.framework/Versions/8.5/Tk. One of the two will be used. Which one is undefined.\n",
      "objc[56485]: Class TKMenu is implemented in both /Users/serbanstan/anaconda/lib/libtk8.5.dylib and /System/Library/Frameworks/Tk.framework/Versions/8.5/Tk. One of the two will be used. Which one is undefined.\n",
      "objc[56485]: Class TKContentView is implemented in both /Users/serbanstan/anaconda/lib/libtk8.5.dylib and /System/Library/Frameworks/Tk.framework/Versions/8.5/Tk. One of the two will be used. Which one is undefined.\n",
      "objc[56485]: Class TKWindow is implemented in both /Users/serbanstan/anaconda/lib/libtk8.5.dylib and /System/Library/Frameworks/Tk.framework/Versions/8.5/Tk. One of the two will be used. Which one is undefined.\n"
     ]
    },
    {
     "data": {
      "text/plain": [
       "pcgWorker (generic function with 1 method)"
      ]
     },
     "execution_count": 1,
     "metadata": {},
     "output_type": "execute_result"
    }
   ],
   "source": [
    "include(\"../src/Julia.jl\")"
   ]
  },
  {
   "cell_type": "code",
   "execution_count": 31,
   "metadata": {
    "collapsed": false
   },
   "outputs": [
    {
     "data": {
      "text/plain": [
       "\"../../graphs/randdense_iu_1000_1/\""
      ]
     },
     "execution_count": 31,
     "metadata": {},
     "output_type": "execute_result"
    }
   ],
   "source": [
    "gname = \"../../graphs/randdense_iu_1000_1/\""
   ]
  },
  {
   "cell_type": "code",
   "execution_count": 32,
   "metadata": {
    "collapsed": false
   },
   "outputs": [],
   "source": [
    "a = readFromFile(gname * \"graph.mtx\");"
   ]
  },
  {
   "cell_type": "code",
   "execution_count": 33,
   "metadata": {
    "collapsed": false
   },
   "outputs": [],
   "source": [
    "tree = []\n",
    "str = []\n",
    "data = []\n",
    "\n",
    "for i in 1:3\n",
    "    curTree = readFromFile(gname * \"tree$(i).mtx\");\n",
    "    rest = a - curTree\n",
    "    curStr = compStretches(curTree,rest).nzval\n",
    "    \n",
    "    push!(tree, curTree)\n",
    "    push!(str, curStr)\n",
    "    push!(data, (sum(curStr)/2, mean(curStr)))\n",
    "end"
   ]
  },
  {
   "cell_type": "code",
   "execution_count": 34,
   "metadata": {
    "collapsed": true
   },
   "outputs": [],
   "source": [
    "# check these values when editing the description\n",
    "n = a.n;\n",
    "iu = true\n",
    "p = 0.25;\n",
    "wmax = 1000;"
   ]
  },
  {
   "cell_type": "code",
   "execution_count": 35,
   "metadata": {
    "collapsed": false
   },
   "outputs": [
    {
     "data": {
      "text/plain": [
       "strDist (generic function with 1 method)"
      ]
     },
     "execution_count": 35,
     "metadata": {},
     "output_type": "execute_result"
    }
   ],
   "source": [
    "function strDist{Tv,Ti}(tr::SparseMatrixCSC{Tv,Ti}, a::SparseMatrixCSC{Tv,Ti})\n",
    "    \n",
    "    res = Array{ASCIIString,1}(0)\n",
    "    \n",
    "    str = compStretches(tr, a-tr).nzval;\n",
    "    \n",
    "    vmax = maximum(str)\n",
    "    inter = (0,1)\n",
    "    while inter[2] < vmax\n",
    "        cnt = 0\n",
    "        for i in 1:length(str)\n",
    "            if inter[1] <= str[i] && str[i] < inter[2]\n",
    "                cnt = cnt + 1\n",
    "            end\n",
    "        end\n",
    "        # don't count edges twice\n",
    "        cnt = ceil(Int64,cnt / 2)\n",
    "        \n",
    "        push!(res, \"[$(inter[1]),$(inter[2])) - $(cnt)\")\n",
    "        \n",
    "        inter = (inter[2], inter[2] * 2)\n",
    "    end\n",
    "    \n",
    "    push!(res, \"\")\n",
    "    \n",
    "    return res;\n",
    "    \n",
    "end"
   ]
  },
  {
   "cell_type": "code",
   "execution_count": 36,
   "metadata": {
    "collapsed": false
   },
   "outputs": [
    {
     "data": {
      "text/plain": [
       "getEigs (generic function with 1 method)"
      ]
     },
     "execution_count": 36,
     "metadata": {},
     "output_type": "execute_result"
    }
   ],
   "source": [
    "# Return the sorted eigenvalues of lap(a) * lap(tr)^-1\n",
    "function getEigs{Tv,Ti}(tr::SparseMatrixCSC{Tv,Ti}, a::SparseMatrixCSC{Tv,Ti})\n",
    "    \n",
    "    la = lap(a);\n",
    "    ts = full(tr);\n",
    "    eigVals = real(eigs(la * pinv(lap(ts)), nev=a.n-2)[1])\n",
    "    \n",
    "    eigsString = \"\"\n",
    "    for i in length(eigVals):-1:1\n",
    "        eigsString = eigsString * string(round(eigVals[i],4)) * \" \"\n",
    "    end\n",
    "    \n",
    "    return eigsString\n",
    "    \n",
    "end"
   ]
  },
  {
   "cell_type": "code",
   "execution_count": 37,
   "metadata": {
    "collapsed": false
   },
   "outputs": [
    {
     "name": "stdout",
     "output_type": "stream",
     "text": [
      "  0.036981 seconds (10.11 k allocations: 19.047 MB, 9.68% gc time)\n",
      " 14.891178 seconds (36.04 k allocations: 206.792 MB, 0.56% gc time)\n",
      "  0.034215 seconds (276 allocations: 18.585 MB, 20.51% gc time)\n",
      " 13.954303 seconds (32.76 k allocations: 206.878 MB, 0.60% gc time)\n",
      "  0.035209 seconds (292 allocations: 18.585 MB, 22.52% gc time)\n",
      " 13.716271 seconds (32.74 k allocations: 206.850 MB, 0.21% gc time)\n"
     ]
    }
   ],
   "source": [
    "output = []\n",
    "push!(output, \"A random graph with $(n) vertices and $(ceil(Int64,nnz(a)/2)) edges.\")\n",
    "push!(output, \"\")\n",
    "push!(output, \"The graph is generated in the following way:\")\n",
    "push!(output, \"    - for each vertex, select n / $(1/p) random neighbors\")\n",
    "push!(output, \"    - get rid of duplicate edges\")\n",
    "if iu\n",
    "    push!(output, \"    - weights are reals sampled uniformly from 1/[1..$(wmax)]\")\n",
    "else\n",
    "    push!(output, \"    - weights are integers sampled uniformly from [1..$(wmax)]\")\n",
    "end\n",
    "push!(output, \"\")\n",
    "push!(output, \"There are three trees in the folder.\")\n",
    "push!(output, \"\")\n",
    "\n",
    "for i in 1:3\n",
    "    push!(output, \"Tree$(i) - total stretch = $(data[i][1]), ave stretch = $(data[i][2])\")\n",
    "    @time append!(output, strDist(tree[i],a))\n",
    "    push!(output, \"Eigenvalues of lap(a) * lap(tree$(i))^-1\")\n",
    "    @time push!(output, getEigs(tree[i],a))\n",
    "    push!(output, \"\")\n",
    "    push!(output, \"\")\n",
    "end\n",
    "\n",
    "desc = open(gname * \"description2.txt\", \"w\")\n",
    "for i in 1:length(output)\n",
    "    println(desc, output[i])\n",
    "end\n",
    "close(desc)"
   ]
  },
  {
   "cell_type": "code",
   "execution_count": null,
   "metadata": {
    "collapsed": true
   },
   "outputs": [],
   "source": []
  }
 ],
 "metadata": {
  "kernelspec": {
   "display_name": "Julia 0.4.6",
   "language": "julia",
   "name": "julia-0.4"
  },
  "language_info": {
   "file_extension": ".jl",
   "mimetype": "application/julia",
   "name": "julia",
   "version": "0.4.6"
  }
 },
 "nbformat": 4,
 "nbformat_minor": 0
}
