{
 "cells": [
  {
   "cell_type": "code",
   "execution_count": 26,
   "metadata": {
    "collapsed": false
   },
   "outputs": [
    {
     "data": {
      "text/plain": [
       "pcgWorker (generic function with 1 method)"
      ]
     },
     "execution_count": 26,
     "metadata": {},
     "output_type": "execute_result"
    }
   ],
   "source": [
    "include(\"../src/Julia.jl\")"
   ]
  },
  {
   "cell_type": "code",
   "execution_count": 63,
   "metadata": {
    "collapsed": false
   },
   "outputs": [],
   "source": [
    "gname = \"../../graphs/rand_iu_1000_3/\"\n",
    "wmax = 1000\n",
    "iu = true\n",
    "n = 1000;\n",
    "p = 0.02;"
   ]
  },
  {
   "cell_type": "code",
   "execution_count": 64,
   "metadata": {
    "collapsed": false
   },
   "outputs": [
    {
     "data": {
      "text/plain": [
       "wgen (generic function with 1 method)"
      ]
     },
     "execution_count": 64,
     "metadata": {},
     "output_type": "execute_result"
    }
   ],
   "source": [
    "function wgen()\n",
    "    if iu\n",
    "        return 1 / rand(1:wmax)\n",
    "    else\n",
    "        return rand(1:wmax)\n",
    "    end\n",
    "end"
   ]
  },
  {
   "cell_type": "code",
   "execution_count": 65,
   "metadata": {
    "collapsed": false
   },
   "outputs": [
    {
     "data": {
      "text/plain": [
       "9913"
      ]
     },
     "execution_count": 65,
     "metadata": {},
     "output_type": "execute_result"
    }
   ],
   "source": [
    "a = randGraph(n, p=p, weightGen = wgen);\n",
    "ceil(Int64,nnz(a)/2)"
   ]
  },
  {
   "cell_type": "code",
   "execution_count": 66,
   "metadata": {
    "collapsed": false
   },
   "outputs": [
    {
     "data": {
      "text/plain": [
       "(18944.06281332134,1.9110322620116351)"
      ]
     },
     "execution_count": 66,
     "metadata": {},
     "output_type": "execute_result"
    }
   ],
   "source": [
    "tree1 = akpw(a);\n",
    "str1 = compStretches(tree1,a);\n",
    "data1 = sum(str1.nzval)/2,mean(str1.nzval)"
   ]
  },
  {
   "cell_type": "code",
   "execution_count": 67,
   "metadata": {
    "collapsed": false
   },
   "outputs": [
    {
     "data": {
      "text/plain": [
       "(98158.44351338221,9.901991678945043)"
      ]
     },
     "execution_count": 67,
     "metadata": {},
     "output_type": "execute_result"
    }
   ],
   "source": [
    "tree2 = randishPrim(a);\n",
    "str2 = compStretches(tree2,a);\n",
    "data2 = sum(str2.nzval)/2,mean(str2.nzval)"
   ]
  },
  {
   "cell_type": "code",
   "execution_count": 68,
   "metadata": {
    "collapsed": false
   },
   "outputs": [
    {
     "data": {
      "text/plain": [
       "(239712.62476036008,24.18164276811864)"
      ]
     },
     "execution_count": 68,
     "metadata": {},
     "output_type": "execute_result"
    }
   ],
   "source": [
    "tree3 = randishKruskal(a);\n",
    "str3 = compStretches(tree3,a);\n",
    "data3 = sum(str3.nzval)/2,mean(str3.nzval)"
   ]
  },
  {
   "cell_type": "code",
   "execution_count": 69,
   "metadata": {
    "collapsed": true
   },
   "outputs": [],
   "source": [
    "truex = randn(n); truex = truex - mean(truex);\n",
    "b = lap(a) * truex; b = b - mean(b);"
   ]
  },
  {
   "cell_type": "code",
   "execution_count": null,
   "metadata": {
    "collapsed": true
   },
   "outputs": [],
   "source": []
  },
  {
   "cell_type": "code",
   "execution_count": 70,
   "metadata": {
    "collapsed": false
   },
   "outputs": [],
   "source": [
    "writeToFile(gname * \"graph.mtx\", a);"
   ]
  },
  {
   "cell_type": "code",
   "execution_count": 71,
   "metadata": {
    "collapsed": false
   },
   "outputs": [],
   "source": [
    "writeToFile(gname * \"tree1.mtx\", tree1);\n",
    "writeToFile(gname * \"tree2.mtx\", tree2);\n",
    "writeToFile(gname * \"tree3.mtx\", tree3);"
   ]
  },
  {
   "cell_type": "code",
   "execution_count": 72,
   "metadata": {
    "collapsed": false
   },
   "outputs": [],
   "source": [
    "writeToFile(gname * \"x.vec\", truex);\n",
    "writeToFile(gname * \"b.vec\", b);"
   ]
  },
  {
   "cell_type": "code",
   "execution_count": 73,
   "metadata": {
    "collapsed": false
   },
   "outputs": [
    {
     "data": {
      "text/plain": [
       "strDist (generic function with 1 method)"
      ]
     },
     "execution_count": 73,
     "metadata": {},
     "output_type": "execute_result"
    }
   ],
   "source": [
    "function strDist{Tv,Ti}(tr::SparseMatrixCSC{Tv,Ti}, a::SparseMatrixCSC{Tv,Ti})\n",
    "    \n",
    "    res = Array{ASCIIString,1}(0)\n",
    "    \n",
    "    str = compStretches(tr, a-tr).nzval;\n",
    "    \n",
    "    vmax = maximum(str)\n",
    "    inter = (0,1)\n",
    "    while inter[2] < vmax\n",
    "        cnt = 0\n",
    "        for i in 1:length(str)\n",
    "            if inter[1] <= str[i] && str[i] < inter[2]\n",
    "                cnt = cnt + 1\n",
    "            end\n",
    "        end\n",
    "        # don't count edges twice\n",
    "        cnt = ceil(Int64,cnt / 2)\n",
    "        \n",
    "        push!(res, \"($(inter[1]),$(inter[2])) - $(cnt)\")\n",
    "        \n",
    "        inter = (inter[2], inter[2] * 2)\n",
    "    end\n",
    "    \n",
    "    push!(res, \"\")\n",
    "    \n",
    "    return res;\n",
    "    \n",
    "end"
   ]
  },
  {
   "cell_type": "code",
   "execution_count": 74,
   "metadata": {
    "collapsed": false
   },
   "outputs": [],
   "source": [
    "output = []\n",
    "push!(output, \"A random graph with $(n) vertices and $(ceil(Int64,nnz(a)/2)) edges.\")\n",
    "push!(output, \"\")\n",
    "push!(output, \"The graph is generated in the following way:\")\n",
    "push!(output, \"    - for each vertex, select n / $(1/p) random neighbors\")\n",
    "push!(output, \"    - get rid of duplicate edges\")\n",
    "if iu\n",
    "    push!(output, \"    - weights are reals sampled uniformly from 1/[1..$(wmax)]\")\n",
    "else\n",
    "    push!(output, \"    - weights are integers sampled uniformly from [1..$(wmax)]\")\n",
    "end\n",
    "push!(output, \"\")\n",
    "push!(output, \"There are three trees in the folder.\")\n",
    "push!(output, \"\")\n",
    "push!(output, \"Tree1 - total stretch = $(data1[1]), ave stretch = $(data1[2])\")\n",
    "append!(output, strDist(tree1,a))\n",
    "push!(output, \"Tree2 - total stretch = $(data2[1]), ave stretch = $(data2[2])\")\n",
    "append!(output, strDist(tree2,a))\n",
    "push!(output, \"Tree3 - total stretch = $(data3[1]), ave stretch = $(data3[2])\")\n",
    "append!(output, strDist(tree3,a))\n",
    "\n",
    "desc = open(gname * \"description.txt\", \"w\")\n",
    "for i in 1:length(output)\n",
    "    println(desc, output[i])\n",
    "end\n",
    "close(desc)"
   ]
  },
  {
   "cell_type": "code",
   "execution_count": null,
   "metadata": {
    "collapsed": true
   },
   "outputs": [],
   "source": []
  },
  {
   "cell_type": "code",
   "execution_count": null,
   "metadata": {
    "collapsed": true
   },
   "outputs": [],
   "source": []
  }
 ],
 "metadata": {
  "kernelspec": {
   "display_name": "Julia 0.4.6",
   "language": "julia",
   "name": "julia-0.4"
  },
  "language_info": {
   "file_extension": ".jl",
   "mimetype": "application/julia",
   "name": "julia",
   "version": "0.4.6"
  }
 },
 "nbformat": 4,
 "nbformat_minor": 0
}
