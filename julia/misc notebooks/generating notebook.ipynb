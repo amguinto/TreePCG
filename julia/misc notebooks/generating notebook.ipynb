{
 "cells": [
  {
   "cell_type": "code",
   "execution_count": 2,
   "metadata": {
    "collapsed": false
   },
   "outputs": [
    {
     "data": {
      "text/plain": [
       "pcgWorker (generic function with 1 method)"
      ]
     },
     "execution_count": 2,
     "metadata": {},
     "output_type": "execute_result"
    }
   ],
   "source": [
    "include(\"../src/Julia.jl\")"
   ]
  },
  {
   "cell_type": "code",
   "execution_count": 290,
   "metadata": {
    "collapsed": false
   },
   "outputs": [],
   "source": [
    "gname = \"../../graphs/se_u_3/\"\n",
    "wmax = 1000\n",
    "iu = false\n",
    "n = 1000;\n",
    "p = 0.05;"
   ]
  },
  {
   "cell_type": "code",
   "execution_count": 291,
   "metadata": {
    "collapsed": false
   },
   "outputs": [
    {
     "data": {
      "text/plain": [
       "wgen (generic function with 1 method)"
      ]
     },
     "execution_count": 291,
     "metadata": {},
     "output_type": "execute_result"
    }
   ],
   "source": [
    "function wgen()\n",
    "    if iu\n",
    "        return 1 / rand(1:wmax)\n",
    "    else\n",
    "        return rand(1:wmax)\n",
    "    end\n",
    "end"
   ]
  },
  {
   "cell_type": "code",
   "execution_count": 292,
   "metadata": {
    "collapsed": false
   },
   "outputs": [
    {
     "data": {
      "text/plain": [
       "24359"
      ]
     },
     "execution_count": 292,
     "metadata": {},
     "output_type": "execute_result"
    }
   ],
   "source": [
    "a = randGraph(n, p=p, weightGen = wgen);\n",
    "ceil(Int64,nnz(a)/2)"
   ]
  },
  {
   "cell_type": "code",
   "execution_count": 293,
   "metadata": {
    "collapsed": false
   },
   "outputs": [
    {
     "data": {
      "text/plain": [
       "(171437.72007898672,0.17143772007898672)"
      ]
     },
     "execution_count": 293,
     "metadata": {},
     "output_type": "execute_result"
    }
   ],
   "source": [
    "tree1 = akpw(a);\n",
    "str1 = compStretches(tree1,a);\n",
    "data1 = sum(str1),mean(str1)"
   ]
  },
  {
   "cell_type": "code",
   "execution_count": 294,
   "metadata": {
    "collapsed": false
   },
   "outputs": [
    {
     "data": {
      "text/plain": [
       "(524901.6700086298,0.5249016700086298)"
      ]
     },
     "execution_count": 294,
     "metadata": {},
     "output_type": "execute_result"
    }
   ],
   "source": [
    "tree2 = randishPrim(a);\n",
    "str2 = compStretches(tree2,a);\n",
    "data2 = sum(str2),mean(str2)"
   ]
  },
  {
   "cell_type": "code",
   "execution_count": 295,
   "metadata": {
    "collapsed": false
   },
   "outputs": [
    {
     "data": {
      "text/plain": [
       "(1.163708510495567e6,1.163708510495567)"
      ]
     },
     "execution_count": 295,
     "metadata": {},
     "output_type": "execute_result"
    }
   ],
   "source": [
    "tree3 = randishKruskal(a);\n",
    "str3 = compStretches(tree3,a);\n",
    "data3 = sum(str3),mean(str3)"
   ]
  },
  {
   "cell_type": "code",
   "execution_count": 296,
   "metadata": {
    "collapsed": true
   },
   "outputs": [],
   "source": [
    "truex = randn(n); truex = truex - mean(truex);\n",
    "b = lap(a) * truex; b = b - mean(b);"
   ]
  },
  {
   "cell_type": "code",
   "execution_count": null,
   "metadata": {
    "collapsed": true
   },
   "outputs": [],
   "source": []
  },
  {
   "cell_type": "code",
   "execution_count": 297,
   "metadata": {
    "collapsed": true
   },
   "outputs": [],
   "source": [
    "writeToFile(gname * \"graph.mtx\", a);"
   ]
  },
  {
   "cell_type": "code",
   "execution_count": 298,
   "metadata": {
    "collapsed": false
   },
   "outputs": [],
   "source": [
    "writeToFile(gname * \"tree1.mtx\", tree1);\n",
    "writeToFile(gname * \"tree2.mtx\", tree2);\n",
    "writeToFile(gname * \"tree3.mtx\", tree3);"
   ]
  },
  {
   "cell_type": "code",
   "execution_count": 299,
   "metadata": {
    "collapsed": true
   },
   "outputs": [],
   "source": [
    "writeToFile(gname * \"x.vec\", truex);\n",
    "writeToFile(gname * \"b.vec\", b);"
   ]
  },
  {
   "cell_type": "code",
   "execution_count": 300,
   "metadata": {
    "collapsed": false
   },
   "outputs": [],
   "source": [
    "output = []\n",
    "push!(output, \"A random graph with $(n) vertices and $(ceil(Int64,nnz(a)/2)) edges.\")\n",
    "push!(output, \"\")\n",
    "push!(output, \"The graph is generated in the following way:\")\n",
    "push!(output, \"    - for each vertex, select n / $(1/p) random neighbors\")\n",
    "push!(output, \"    - get rid of duplicate edges\")\n",
    "if iu\n",
    "    push!(output, \"    - weights are reals sampled uniformly from 1/[1..$(wmax)]\")\n",
    "else\n",
    "    push!(output, \"    - weights are integers sampled uniformly from [1..$(wmax)]\")\n",
    "end\n",
    "push!(output, \"\")\n",
    "push!(output, \"There are three trees in the folder.\")\n",
    "push!(output, \"\")\n",
    "push!(output, \"Tree1 - total stretch = $(data1[1]), ave stretch = $(data1[2])\")\n",
    "push!(output, \"Tree2 - total stretch = $(data2[1]), ave stretch = $(data2[2])\")\n",
    "push!(output, \"Tree3 - total stretch = $(data3[1]), ave stretch = $(data3[2])\")\n",
    "\n",
    "desc = open(gname * \"description.txt\", \"w\")\n",
    "for i in 1:length(output)\n",
    "    println(desc, output[i])\n",
    "end\n",
    "close(desc)"
   ]
  },
  {
   "cell_type": "code",
   "execution_count": null,
   "metadata": {
    "collapsed": true
   },
   "outputs": [],
   "source": []
  },
  {
   "cell_type": "code",
   "execution_count": null,
   "metadata": {
    "collapsed": true
   },
   "outputs": [],
   "source": []
  }
 ],
 "metadata": {
  "kernelspec": {
   "display_name": "Julia 0.4.6",
   "language": "julia",
   "name": "julia-0.4"
  },
  "language_info": {
   "file_extension": ".jl",
   "mimetype": "application/julia",
   "name": "julia",
   "version": "0.4.6"
  }
 },
 "nbformat": 4,
 "nbformat_minor": 0
}
