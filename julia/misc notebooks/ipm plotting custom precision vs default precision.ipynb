{
 "cells": [
  {
   "cell_type": "code",
   "execution_count": 8,
   "metadata": {
    "collapsed": false
   },
   "outputs": [
    {
     "data": {
      "text/plain": [
       "parseMatlabData (generic function with 1 method)"
      ]
     },
     "execution_count": 8,
     "metadata": {},
     "output_type": "execute_result"
    }
   ],
   "source": [
    "include(\"../src/Julia.jl\")"
   ]
  },
  {
   "cell_type": "markdown",
   "metadata": {},
   "source": [
    "### Will generate these stats for akpw first, see how the look"
   ]
  },
  {
   "cell_type": "code",
   "execution_count": 32,
   "metadata": {
    "collapsed": false
   },
   "outputs": [],
   "source": [
    "data = []\n",
    "\n",
    "for pcgIter in [10,25,50,75,100]\n",
    "    ipmFolder = \"../../graphs/ipm_grid3_8000_all/\"\n",
    "    allGraphs = readdir(ipmFolder)\n",
    "    \n",
    "    ipmIter = 0\n",
    "    data = [Array{Float64,1}(0) for i in 1:5] # a column for each precision\n",
    "    while true\n",
    "        try\n",
    "            ipmIter = ipmIter + 1\n",
    "            defaultName = ipmFolder * \"ipm_grid3_8000_$(ipmIter)/\" * \"_log_julia_tree1_default.txt\"\n",
    "            defaultNorm = parseData(defaultName, only2=true)\n",
    "            default = defaultNorm[pcgIter]\n",
    "            \n",
    "            ind = 0\n",
    "            for precision in [64, 128, 256, 512, 1024]\n",
    "                logName = ipmFolder * \"ipm_grid3_8000_$(ipmIter)/\" * \"_log_julia_tree1_$(precision).txt\"\n",
    "                norm = parseData(logName, only2=true)\n",
    "                \n",
    "                ind = ind + 1\n",
    "                push!(data[ind], norm[pcgIter] / default)\n",
    "            end\n",
    "            \n",
    "#             println(\"finished step \", ipmIter)\n",
    "        catch\n",
    "            # we aggregated all the graphs\n",
    "            break\n",
    "        end\n",
    "    end\n",
    "    \n",
    "    for i in 1:5\n",
    "        plot(log(data[i]), label=\"$(2^(i+5)) / default at iteration $(pcgIter)\", linewidth=2.5)\n",
    "    end\n",
    "    legend(fontsize=7)\n",
    "    ylabel(\"[high precision 2norm / default precision 2norm] for $(pcgIter) pcg iterations\")\n",
    "    xlabel(\"IPM iteratoion\")\n",
    "    \n",
    "    savefig(ipmFolder * \"swagplot_pcgIter=$(pcgIter).png\")\n",
    "    \n",
    "    PyPlot.clf()\n",
    "end"
   ]
  },
  {
   "cell_type": "code",
   "execution_count": null,
   "metadata": {
    "collapsed": true
   },
   "outputs": [],
   "source": []
  }
 ],
 "metadata": {
  "anaconda-cloud": {},
  "kernelspec": {
   "display_name": "Julia 0.4.6",
   "language": "julia",
   "name": "julia-0.4"
  },
  "language_info": {
   "file_extension": ".jl",
   "mimetype": "application/julia",
   "name": "julia",
   "version": "0.4.6"
  }
 },
 "nbformat": 4,
 "nbformat_minor": 0
}
