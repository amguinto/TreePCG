{
 "cells": [
  {
   "cell_type": "code",
   "execution_count": 1,
   "metadata": {
    "collapsed": false
   },
   "outputs": [
    {
     "data": {
      "text/plain": [
       "parseData (generic function with 1 method)"
      ]
     },
     "execution_count": 1,
     "metadata": {},
     "output_type": "execute_result"
    }
   ],
   "source": [
    "include(\"../src/Julia.jl\")"
   ]
  },
  {
   "cell_type": "code",
   "execution_count": 2,
   "metadata": {
    "collapsed": false
   },
   "outputs": [
    {
     "data": {
      "text/plain": [
       "\"/Users/serbanstan/git/TreePCG/julia/misc notebooks\""
      ]
     },
     "execution_count": 2,
     "metadata": {},
     "output_type": "execute_result"
    }
   ],
   "source": [
    "pwd()"
   ]
  },
  {
   "cell_type": "code",
   "execution_count": 3,
   "metadata": {
    "collapsed": false
   },
   "outputs": [],
   "source": [
    "path = \"../../graphs/ipm_grid3_8000_all/\"\n",
    "graphs = readdir(path);"
   ]
  },
  {
   "cell_type": "code",
   "execution_count": 4,
   "metadata": {
    "collapsed": false
   },
   "outputs": [
    {
     "name": "stdout",
     "output_type": "stream",
     "text": [
      "generated plots for ipm_grid3_8000_1\n",
      "generated plots for ipm_grid3_8000_10\n",
      "generated plots for ipm_grid3_8000_100\n",
      "generated plots for ipm_grid3_8000_101\n",
      "generated plots for ipm_grid3_8000_102\n",
      "generated plots for ipm_grid3_8000_103\n",
      "generated plots for ipm_grid3_8000_104\n",
      "generated plots for ipm_grid3_8000_105\n",
      "generated plots for ipm_grid3_8000_106\n",
      "generated plots for ipm_grid3_8000_107\n",
      "generated plots for ipm_grid3_8000_108\n",
      "generated plots for ipm_grid3_8000_109\n",
      "generated plots for ipm_grid3_8000_11\n",
      "generated plots for ipm_grid3_8000_110\n",
      "generated plots for ipm_grid3_8000_111\n",
      "generated plots for ipm_grid3_8000_112\n",
      "generated plots for ipm_grid3_8000_113\n",
      "generated plots for ipm_grid3_8000_114\n",
      "generated plots for ipm_grid3_8000_115\n",
      "generated plots for ipm_grid3_8000_116\n",
      "generated plots for ipm_grid3_8000_117\n",
      "generated plots for ipm_grid3_8000_118\n",
      "generated plots for ipm_grid3_8000_119\n",
      "generated plots for ipm_grid3_8000_12\n",
      "generated plots for ipm_grid3_8000_120\n",
      "generated plots for ipm_grid3_8000_121\n",
      "generated plots for ipm_grid3_8000_122\n",
      "generated plots for ipm_grid3_8000_123\n",
      "generated plots for ipm_grid3_8000_124\n",
      "generated plots for ipm_grid3_8000_125\n",
      "generated plots for ipm_grid3_8000_126\n",
      "generated plots for ipm_grid3_8000_127\n",
      "generated plots for ipm_grid3_8000_128\n",
      "generated plots for ipm_grid3_8000_129\n",
      "generated plots for ipm_grid3_8000_13\n",
      "generated plots for ipm_grid3_8000_130\n",
      "generated plots for ipm_grid3_8000_131\n",
      "generated plots for ipm_grid3_8000_132\n",
      "generated plots for ipm_grid3_8000_133\n",
      "generated plots for ipm_grid3_8000_134\n",
      "generated plots for ipm_grid3_8000_14\n",
      "generated plots for ipm_grid3_8000_15\n",
      "generated plots for ipm_grid3_8000_16\n",
      "generated plots for ipm_grid3_8000_17\n",
      "generated plots for ipm_grid3_8000_18\n",
      "generated plots for ipm_grid3_8000_19\n",
      "generated plots for ipm_grid3_8000_2\n",
      "generated plots for ipm_grid3_8000_20\n",
      "generated plots for ipm_grid3_8000_21\n",
      "generated plots for ipm_grid3_8000_22\n",
      "generated plots for ipm_grid3_8000_23\n",
      "generated plots for ipm_grid3_8000_24\n",
      "generated plots for ipm_grid3_8000_25\n",
      "generated plots for ipm_grid3_8000_26\n",
      "generated plots for ipm_grid3_8000_27\n",
      "generated plots for ipm_grid3_8000_28\n",
      "generated plots for ipm_grid3_8000_29\n",
      "generated plots for ipm_grid3_8000_3\n",
      "generated plots for ipm_grid3_8000_30\n",
      "generated plots for ipm_grid3_8000_31\n",
      "generated plots for ipm_grid3_8000_32\n",
      "generated plots for ipm_grid3_8000_33\n",
      "generated plots for ipm_grid3_8000_34\n",
      "generated plots for ipm_grid3_8000_35\n",
      "generated plots for ipm_grid3_8000_36\n",
      "generated plots for ipm_grid3_8000_37\n",
      "generated plots for ipm_grid3_8000_38\n",
      "generated plots for ipm_grid3_8000_39\n",
      "generated plots for ipm_grid3_8000_4\n",
      "generated plots for ipm_grid3_8000_40\n",
      "generated plots for ipm_grid3_8000_41\n",
      "generated plots for ipm_grid3_8000_42\n",
      "generated plots for ipm_grid3_8000_43\n",
      "generated plots for ipm_grid3_8000_44\n",
      "generated plots for ipm_grid3_8000_45\n",
      "generated plots for ipm_grid3_8000_46\n",
      "generated plots for ipm_grid3_8000_47\n",
      "generated plots for ipm_grid3_8000_48\n",
      "generated plots for ipm_grid3_8000_49\n",
      "generated plots for ipm_grid3_8000_5\n",
      "generated plots for ipm_grid3_8000_50\n",
      "generated plots for ipm_grid3_8000_51\n",
      "generated plots for ipm_grid3_8000_52\n",
      "generated plots for ipm_grid3_8000_53\n",
      "generated plots for ipm_grid3_8000_54\n",
      "generated plots for ipm_grid3_8000_55\n",
      "generated plots for ipm_grid3_8000_56\n",
      "generated plots for ipm_grid3_8000_57\n",
      "generated plots for ipm_grid3_8000_58\n",
      "generated plots for ipm_grid3_8000_59\n",
      "generated plots for ipm_grid3_8000_6\n",
      "generated plots for ipm_grid3_8000_60\n",
      "generated plots for ipm_grid3_8000_61\n",
      "generated plots for ipm_grid3_8000_62\n",
      "generated plots for ipm_grid3_8000_63\n",
      "generated plots for ipm_grid3_8000_64\n",
      "generated plots for ipm_grid3_8000_65\n",
      "generated plots for ipm_grid3_8000_66\n",
      "generated plots for ipm_grid3_8000_67\n",
      "generated plots for ipm_grid3_8000_68\n",
      "generated plots for ipm_grid3_8000_69\n",
      "generated plots for ipm_grid3_8000_7\n",
      "generated plots for ipm_grid3_8000_70\n",
      "generated plots for ipm_grid3_8000_71\n",
      "generated plots for ipm_grid3_8000_72\n",
      "generated plots for ipm_grid3_8000_73\n",
      "generated plots for ipm_grid3_8000_74\n",
      "generated plots for ipm_grid3_8000_75\n",
      "generated plots for ipm_grid3_8000_76\n",
      "generated plots for ipm_grid3_8000_77\n",
      "generated plots for ipm_grid3_8000_78\n",
      "generated plots for ipm_grid3_8000_79\n",
      "generated plots for ipm_grid3_8000_8\n",
      "generated plots for ipm_grid3_8000_80\n",
      "generated plots for ipm_grid3_8000_81\n",
      "generated plots for ipm_grid3_8000_82\n",
      "generated plots for ipm_grid3_8000_83\n",
      "generated plots for ipm_grid3_8000_84\n",
      "generated plots for ipm_grid3_8000_85\n",
      "generated plots for ipm_grid3_8000_86\n",
      "generated plots for ipm_grid3_8000_87\n",
      "generated plots for ipm_grid3_8000_88\n",
      "generated plots for ipm_grid3_8000_89\n",
      "generated plots for ipm_grid3_8000_9\n",
      "generated plots for ipm_grid3_8000_90\n",
      "generated plots for ipm_grid3_8000_91\n",
      "generated plots for ipm_grid3_8000_92\n",
      "generated plots for ipm_grid3_8000_93\n",
      "generated plots for ipm_grid3_8000_94\n",
      "generated plots for ipm_grid3_8000_95\n",
      "generated plots for ipm_grid3_8000_96\n",
      "generated plots for ipm_grid3_8000_97\n",
      "generated plots for ipm_grid3_8000_98\n",
      "generated plots for ipm_grid3_8000_99\n"
     ]
    }
   ],
   "source": [
    "for name in graphs    \n",
    "    if search(name, \"DS_Store\").stop == -1\n",
    "        for t in 1:5\n",
    "            drawJuliaPlot(path * name * \"/\", \"tree$(t)\");\n",
    "        end\n",
    "        \n",
    "        println(\"generated plots for \", name)\n",
    "    end\n",
    "end"
   ]
  },
  {
   "cell_type": "code",
   "execution_count": null,
   "metadata": {
    "collapsed": true
   },
   "outputs": [],
   "source": []
  }
 ],
 "metadata": {
  "anaconda-cloud": {},
  "kernelspec": {
   "display_name": "Julia 0.4.6",
   "language": "julia",
   "name": "julia-0.4"
  },
  "language_info": {
   "file_extension": ".jl",
   "mimetype": "application/julia",
   "name": "julia",
   "version": "0.4.6"
  }
 },
 "nbformat": 4,
 "nbformat_minor": 0
}
