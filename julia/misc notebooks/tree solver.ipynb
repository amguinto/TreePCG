{
 "cells": [
  {
   "cell_type": "code",
   "execution_count": 671,
   "metadata": {
    "collapsed": false
   },
   "outputs": [
    {
     "data": {
      "text/plain": [
       "treeSolver (generic function with 1 method)"
      ]
     },
     "execution_count": 671,
     "metadata": {},
     "output_type": "execute_result"
    }
   ],
   "source": [
    "include(\"../src/Julia.jl\")\n",
    "include(\"../src/treeSolver.jl\")"
   ]
  },
  {
   "cell_type": "code",
   "execution_count": 694,
   "metadata": {
    "collapsed": false
   },
   "outputs": [],
   "source": [
    "n = 250\n",
    "a = wtedChimera(n,7);\n",
    "t = akpw(a);\n",
    "d = rand(n);\n",
    "\n",
    "la = lap(a) + spdiagm(d)\n",
    "lat = lap(t) + spdiagm(d)\n",
    "\n",
    "x = rand(n); x = x - mean(x);\n",
    "b = la * x; \n",
    "b = b - (norm(d) == 0) * mean(b);"
   ]
  },
  {
   "cell_type": "code",
   "execution_count": 695,
   "metadata": {
    "collapsed": false
   },
   "outputs": [
    {
     "name": "stdout",
     "output_type": "stream",
     "text": [
      "  0.001031 seconds (1.37 k allocations: 161.438 KB)\n",
      "3.4748213265868648e-15\n"
     ]
    }
   ],
   "source": [
    "@time f = treeSolver(t, d=d);\n",
    "if norm(d) != 0\n",
    "    println(norm(f(b) - lat \\ b))\n",
    "end"
   ]
  },
  {
   "cell_type": "code",
   "execution_count": 696,
   "metadata": {
    "collapsed": false
   },
   "outputs": [
    {
     "name": "stdout",
     "output_type": "stream",
     "text": [
      "Finished iteration 1 with errors 0.6932899901605739 0.6519068152297112\n",
      "Finished iteration 11 with errors 0.0030201395070192866 0.0028784123505016415\n",
      "Finished iteration 21 with errors 3.935382641213091e-6 3.4926915437593586e-6\n",
      "Finished iteration 31 with errors 4.485183380565738e-9 3.550990275196664e-9\n",
      "Finished iteration 41 with errors 3.2808564462422592e-12 2.825351606113601e-12\n",
      "Finished iteration 51 with errors 3.1096160369288775e-15 2.642850242003576e-15\n",
      "Finished iteration 61 with errors 4.0941226693657377e-16 3.933699856580227e-16\n",
      "Finished iteration 71 with errors 4.0943940598441993e-16 3.9337309092604718e-16\n",
      "Finished iteration 81 with errors 4.0943940598441993e-16 3.9337309092604718e-16\n",
      "Finished iteration 91 with errors 4.0943940598441993e-16 3.9337309092604718e-16\n",
      "Finished iteration 100 with errors 4.0943940598441993e-16 3.9337309092604718e-16\n",
      "  0.038065 seconds (412.92 k allocations: 10.586 MB)\n"
     ]
    }
   ],
   "source": [
    "@time myx64,dbg = pcgV(la, b, f, x, maxits=100, verbose=true);"
   ]
  },
  {
   "cell_type": "code",
   "execution_count": 697,
   "metadata": {
    "collapsed": false
   },
   "outputs": [
    {
     "name": "stdout",
     "output_type": "stream",
     "text": [
      "  0.000023 seconds (11 allocations: 4.297 KB)\n"
     ]
    },
    {
     "data": {
      "text/plain": [
       "3.9337309092604718e-16"
      ]
     },
     "execution_count": 697,
     "metadata": {},
     "output_type": "execute_result"
    }
   ],
   "source": [
    "@time norm(la * myx64 - b) / norm(b)"
   ]
  },
  {
   "cell_type": "code",
   "execution_count": null,
   "metadata": {
    "collapsed": true
   },
   "outputs": [],
   "source": []
  }
 ],
 "metadata": {
  "anaconda-cloud": {},
  "kernelspec": {
   "display_name": "Julia 0.4.6",
   "language": "julia",
   "name": "julia-0.4"
  },
  "language_info": {
   "file_extension": ".jl",
   "mimetype": "application/julia",
   "name": "julia",
   "version": "0.4.6"
  }
 },
 "nbformat": 4,
 "nbformat_minor": 0
}
