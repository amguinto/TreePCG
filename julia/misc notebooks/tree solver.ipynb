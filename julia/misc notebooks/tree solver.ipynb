{
 "cells": [
  {
   "cell_type": "code",
   "execution_count": 1,
   "metadata": {
    "collapsed": false
   },
   "outputs": [
    {
     "name": "stderr",
     "output_type": "stream",
     "text": [
      "objc[14376]: Class TKApplication is implemented in both /Users/serbanstan/anaconda/lib/libtk8.5.dylib and /System/Library/Frameworks/Tk.framework/Versions/8.5/Tk. One of the two will be used. Which one is undefined.\n",
      "objc[14376]: Class TKMenu is implemented in both /Users/serbanstan/anaconda/lib/libtk8.5.dylib and /System/Library/Frameworks/Tk.framework/Versions/8.5/Tk. One of the two will be used. Which one is undefined.\n",
      "objc[14376]: Class TKContentView is implemented in both /Users/serbanstan/anaconda/lib/libtk8.5.dylib and /System/Library/Frameworks/Tk.framework/Versions/8.5/Tk. One of the two will be used. Which one is undefined.\n",
      "objc[14376]: Class TKWindow is implemented in both /Users/serbanstan/anaconda/lib/libtk8.5.dylib and /System/Library/Frameworks/Tk.framework/Versions/8.5/Tk. One of the two will be used. Which one is undefined.\n"
     ]
    }
   ],
   "source": [
    "using Laplacians"
   ]
  },
  {
   "cell_type": "code",
   "execution_count": 69,
   "metadata": {
    "collapsed": false
   },
   "outputs": [
    {
     "data": {
      "text/plain": [
       "pcgWorker (generic function with 1 method)"
      ]
     },
     "execution_count": 69,
     "metadata": {},
     "output_type": "execute_result"
    }
   ],
   "source": [
    "include(\"treeSolver.jl\");\n",
    "include(\"verbosePCG.jl\")"
   ]
  },
  {
   "cell_type": "code",
   "execution_count": 70,
   "metadata": {
    "collapsed": false
   },
   "outputs": [],
   "source": [
    "n = 25000\n",
    "a = chimera(n,14); la = lap(a)\n",
    "t = akpw(a);\n",
    "x = randn(n); x = x - mean(x);\n",
    "b = la * x; b = b - mean(b);"
   ]
  },
  {
   "cell_type": "code",
   "execution_count": 71,
   "metadata": {
    "collapsed": false
   },
   "outputs": [
    {
     "name": "stdout",
     "output_type": "stream",
     "text": [
      "  0.280362 seconds (257.68 k allocations: 17.692 MB, 3.58% gc time)\n"
     ]
    }
   ],
   "source": [
    "@time f = treeSolver(t);"
   ]
  },
  {
   "cell_type": "code",
   "execution_count": 72,
   "metadata": {
    "collapsed": false
   },
   "outputs": [
    {
     "name": "stdout",
     "output_type": "stream",
     "text": [
      "Working on iteration 10 with a-norm error 345.4423161269976 and 2norm error 0.8744190096432449\n",
      "Working on iteration 20 with a-norm error 281.2377370275798 and 2norm error 0.6746052711406813\n",
      "Working on iteration 30 with a-norm error 235.52908026118354 and 2norm error 0.5497251297252499\n",
      "Working on iteration 40 with a-norm error 199.76902989892363 and 2norm error 0.4576504062812702\n",
      "Working on iteration 50 with a-norm error 165.273098148176 and 2norm error 0.3704076613686436\n",
      "Working on iteration 60 with a-norm error 138.8089482078791 and 2norm error 0.3070869519592597\n",
      "Working on iteration 70 with a-norm error 112.72920149713399 and 2norm error 0.2456632772841833\n",
      "Working on iteration 80 with a-norm error 91.6769966019222 and 2norm error 0.20007131290661734\n",
      "Working on iteration 90 with a-norm error 74.16943139565996 and 2norm error 0.16235526375929657\n",
      "Working on iteration 100 with a-norm error 60.79649599923255 and 2norm error 0.13381623859882655\n",
      "Working on iteration 110 with a-norm error 49.551183807313485 and 2norm error 0.10898114964607286\n",
      "Working on iteration 120 with a-norm error 39.541113319335444 and 2norm error 0.08701644263652325\n",
      "Working on iteration 130 with a-norm error 31.626960679504325 and 2norm error 0.07005546364847777\n",
      "Working on iteration 140 with a-norm error 25.033612691125423 and 2norm error 0.05565162538240191\n",
      "Working on iteration 150 with a-norm error 20.44998881914201 and 2norm error 0.04573465291925242\n",
      "Working on iteration 160 with a-norm error 16.08207590332249 and 2norm error 0.036197979618846556\n",
      "Working on iteration 170 with a-norm error 13.071585028571139 and 2norm error 0.0295354491926182\n",
      "Working on iteration 180 with a-norm error 10.00382373252047 and 2norm error 0.02255433432268149\n",
      "Working on iteration 190 with a-norm error 8.077522709223471 and 2norm error 0.01830881035715837\n",
      "Working on iteration 200 with a-norm error 6.163587900554031 and 2norm error 0.013930011630076181\n",
      "Working on iteration 210 with a-norm error 4.783117615215677 and 2norm error 0.010860724471157242\n",
      "Working on iteration 220 with a-norm error 3.799297061215456 and 2norm error 0.008586688204401963\n",
      "Working on iteration 230 with a-norm error 3.04398997271199 and 2norm error 0.006894481875252155\n",
      "Working on iteration 240 with a-norm error 2.3567559278416628 and 2norm error 0.005334923391269214\n",
      "Working on iteration 250 with a-norm error 1.880835148576623 and 2norm error 0.004259368467663778\n",
      "Working on iteration 260 with a-norm error 1.416929667442638 and 2norm error 0.003206738319696144\n",
      "Working on iteration 270 with a-norm error 1.1518589204067553 and 2norm error 0.002607971512472953\n",
      "Working on iteration 280 with a-norm error 0.916138929642462 and 2norm error 0.0020766481931868436\n",
      "Working on iteration 290 with a-norm error 0.7092859689843357 and 2norm error 0.0016020557586562299\n",
      "Working on iteration 300 with a-norm error 0.5640561349933475 and 2norm error 0.001276442699091971\n",
      "Working on iteration 310 with a-norm error 0.43313283383211404 and 2norm error 0.0009808551012535683\n",
      "Working on iteration 320 with a-norm error 0.34815881259301323 and 2norm error 0.0007899685635948984\n",
      "Working on iteration 330 with a-norm error 0.2663946768713327 and 2norm error 0.0006032724724942469\n",
      "Working on iteration 340 with a-norm error 0.207847644244311 and 2norm error 0.00047131419472334776\n",
      "Working on iteration 350 with a-norm error 0.16731772898114644 and 2norm error 0.0003781959783417586\n",
      "Working on iteration 360 with a-norm error 0.13071352051360574 and 2norm error 0.0002964489471082388\n",
      "Working on iteration 370 with a-norm error 0.10529869804492817 and 2norm error 0.00023692297428516557\n",
      "Working on iteration 380 with a-norm error 0.07926600853240792 and 2norm error 0.00017865275686239408\n",
      "Working on iteration 390 with a-norm error 0.0639004853170205 and 2norm error 0.00014378708084430164\n",
      "Working on iteration 400 with a-norm error 0.049831615791194134 and 2norm error 0.00011256168486451504\n",
      "Working on iteration 410 with a-norm error 0.0393553079368291 and 2norm error 8.86239147170812e-5\n",
      "Working on iteration 420 with a-norm error 0.030615926637002952 and 2norm error 6.931661831641279e-5\n",
      "Working on iteration 430 with a-norm error 0.02419014688502636 and 2norm error 5.48827669684473e-5\n",
      "Working on iteration 440 with a-norm error 0.018682250532042866 and 2norm error 4.2043803540743625e-5\n",
      "Working on iteration 450 with a-norm error 0.015059432482801852 and 2norm error 3.403814868317653e-5\n",
      "Working on iteration 460 with a-norm error 0.011678887379725318 and 2norm error 2.625830916124188e-5\n",
      "Working on iteration 470 with a-norm error 0.009706413477822076 and 2norm error 2.175072554019699e-5\n",
      "Working on iteration 480 with a-norm error 0.0076697444110635695 and 2norm error 1.7183622903646217e-5\n",
      "Working on iteration 490 with a-norm error 0.005821907933541858 and 2norm error 1.3037827895301651e-5\n",
      "Working on iteration 500 with a-norm error 0.004601987293386919 and 2norm error 1.0324060943759413e-5\n",
      "Working on iteration 510 with a-norm error 0.0037530341602697893 and 2norm error 8.366374252975508e-6\n",
      "Working on iteration 520 with a-norm error 0.002929869954380562 and 2norm error 6.541763163494799e-6\n",
      "Working on iteration 530 with a-norm error 0.00221890940666473 and 2norm error 4.939990899774127e-6\n",
      "Working on iteration 540 with a-norm error 0.0018061518164125636 and 2norm error 4.024513136250463e-6\n",
      "Working on iteration 550 with a-norm error 0.0014390813723374714 and 2norm error 3.2102959490485155e-6\n",
      "Working on iteration 560 with a-norm error 0.0011494020858311693 and 2norm error 2.5677773980697533e-6\n",
      "Working on iteration 570 with a-norm error 0.0008903598923996757 and 2norm error 1.985478678129147e-6\n",
      "Working on iteration 580 with a-norm error 0.0007058287504750566 and 2norm error 1.57768643592183e-6\n",
      "Working on iteration 590 with a-norm error 0.0005786751903644031 and 2norm error 1.2944642409342658e-6\n",
      "Working on iteration 600 with a-norm error 0.00044121776708975065 and 2norm error 9.819487532674915e-7\n",
      "Working on iteration 610 with a-norm error 0.00034981374127144855 and 2norm error 7.818281569506071e-7\n",
      "Working on iteration 620 with a-norm error 0.000288927390760657 and 2norm error 6.42873473835783e-7\n",
      "Working on iteration 630 with a-norm error 0.00022517447949118742 and 2norm error 4.999359886161463e-7\n",
      "Working on iteration 640 with a-norm error 0.00017557365516693985 and 2norm error 3.8931113373936655e-7\n",
      "Working on iteration 650 with a-norm error 0.00013486578118907446 and 2norm error 2.9966582542700845e-7\n",
      "Working on iteration 660 with a-norm error 0.00010776737362570583 and 2norm error 2.3929699957237383e-7\n",
      "Working on iteration 670 with a-norm error 8.74086450851759e-5 and 2norm error 1.937876692008722e-7\n",
      "Working on iteration 680 with a-norm error 6.690238285564032e-5 and 2norm error 1.4848305111208027e-7\n",
      "Working on iteration 690 with a-norm error 5.454954512538629e-5 and 2norm error 1.2028783151598044e-7\n",
      "Working on iteration 700 with a-norm error 4.3095323331204455e-5 and 2norm error 9.484043125110585e-8\n",
      "Working on iteration 710 with a-norm error 3.528622580467734e-5 and 2norm error 7.7756569607984e-8\n",
      "Working on iteration 720 with a-norm error 2.8007745018245746e-5 and 2norm error 6.161239031456552e-8\n",
      "Working on iteration 730 with a-norm error 2.339419412131896e-5 and 2norm error 5.1369670564512006e-8\n",
      "Working on iteration 740 with a-norm error 1.7404314276001465e-5 and 2norm error 3.8179137743621886e-8\n",
      "Working on iteration 750 with a-norm error 1.4602343449407252e-5 and 2norm error 3.209544237679856e-8\n",
      "Working on iteration 760 with a-norm error 1.1416267116501704e-5 and 2norm error 2.51242527093795e-8\n",
      "Working on iteration 770 with a-norm error 9.358104418307079e-6 and 2norm error 2.056353595481179e-8\n",
      "Working on iteration 780 with a-norm error 7.472153318760916e-6 and 2norm error 1.63819660061289e-8\n",
      "Working on iteration 790 with a-norm error 5.963465207741421e-6 and 2norm error 1.3101061840468816e-8\n",
      "Working on iteration 800 with a-norm error 4.851156955605835e-6 and 2norm error 1.0691496580593141e-8\n",
      "Working on iteration 810 with a-norm error 4.032533793509926e-6 and 2norm error 8.893400028545726e-9\n",
      "Working on iteration 820 with a-norm error 3.158438021278227e-6 and 2norm error 6.942313466422777e-9\n",
      "Working on iteration 830 with a-norm error 2.5616383317374743e-6 and 2norm error 5.658706791241256e-9\n",
      "Working on iteration 840 with a-norm error 2.028871560503872e-6 and 2norm error 4.4694267928230896e-9\n",
      "Working on iteration 850 with a-norm error 1.6354262282337355e-6 and 2norm error 3.604545257215476e-9\n",
      "Working on iteration 860 with a-norm error 1.3125129878307116e-6 and 2norm error 2.8934329661122637e-9\n",
      "Working on iteration 870 with a-norm error 1.0634076751104178e-6 and 2norm error 2.3386568648788353e-9\n",
      "Working on iteration 880 with a-norm error 9.023885806078731e-7 and 2norm error 1.9828564369614167e-9\n",
      "Working on iteration 890 with a-norm error 7.32305637018166e-7 and 2norm error 1.6026582962867763e-9\n",
      "Working on iteration 900 with a-norm error 5.974367772173546e-7 and 2norm error 1.3090661486278808e-9\n",
      "Working on iteration 910 with a-norm error 4.7501914845957346e-7 and 2norm error 1.0458994467064099e-9\n",
      "Working on iteration 920 with a-norm error 3.879329852607067e-7 and 2norm error 8.519758707070928e-10\n",
      "Working on iteration 930 with a-norm error 3.169163171371048e-7 and 2norm error 6.918240207674365e-10\n",
      "Working on iteration 940 with a-norm error 2.4533188328082804e-7 and 2norm error 5.367526084129281e-10\n",
      "Working on iteration 950 with a-norm error 2.0458125596637216e-7 and 2norm error 4.481398416329299e-10\n",
      "Working on iteration 960 with a-norm error 1.5970853265791697e-7 and 2norm error 3.4999914030245396e-10\n",
      "Working on iteration 970 with a-norm error 1.3628552852904822e-7 and 2norm error 2.9889430865076224e-10\n",
      "Working on iteration 980 with a-norm error 1.1325226137676006e-7 and 2norm error 2.4752377996752104e-10\n",
      "Working on iteration 990 with a-norm error 9.245559958368874e-8 and 2norm error 2.0081634805965905e-10\n",
      "Working on iteration 1000 with a-norm error 7.745970779797214e-8 and 2norm error 1.6864883988720434e-10\n",
      "PCG stopped after: 1000 iterations with relative error 7.515280020985101e-8.\n",
      " 29.878454 seconds (398.05 M allocations: 9.926 GB, 11.61% gc time)\n"
     ]
    },
    {
     "data": {
      "text/plain": [
       "1.6332581001861336e-10"
      ]
     },
     "execution_count": 72,
     "metadata": {},
     "output_type": "execute_result"
    }
   ],
   "source": [
    "push!(dbg, \"2norm = norm(la*x-b) / norm(b), anorm = sqrt((x-truex)' * la * (x-truex))\")\n",
    "@time myx64,dbg = pcgV(la, b, f, x, tol=1e-3, maxits=1000, verbose=true);\n",
    "norm(lap(a) * myx64 - b) / norm(b)"
   ]
  },
  {
   "cell_type": "code",
   "execution_count": 73,
   "metadata": {
    "collapsed": false
   },
   "outputs": [
    {
     "name": "stdout",
     "output_type": "stream",
     "text": [
      "  0.066840 seconds (397.47 k allocations: 12.170 MB, 12.10% gc time)\n"
     ]
    },
    {
     "data": {
      "text/plain": [
       "5.829724121238375e-14"
      ]
     },
     "execution_count": 73,
     "metadata": {},
     "output_type": "execute_result"
    }
   ],
   "source": [
    "@time norm(lap(t) * f(b - mean(b)) - b) / norm(b)"
   ]
  },
  {
   "cell_type": "code",
   "execution_count": 74,
   "metadata": {
    "collapsed": false
   },
   "outputs": [
    {
     "data": {
      "text/plain": [
       "1001-element Array{Any,1}:\n",
       " \"2norm = norm(la*x-b) / norm(b), anorm = sqrt((x-truex)' * la * (x-truex))\"  \n",
       " \"iter = 1      errM=380.53524661643274      err2=0.9987177792151192\"         \n",
       " \"iter = 2      errM=377.9041497656267      err2=0.9891095209130693\"          \n",
       " \"iter = 3      errM=375.9663034629319      err2=0.9821868577051299\"          \n",
       " \"iter = 4      errM=371.7361711625337      err2=0.9665813972253363\"          \n",
       " \"iter = 5      errM=368.6043760836226      err2=0.9556576907599595\"          \n",
       " \"iter = 6      errM=363.5152387011487      err2=0.9370286321479334\"          \n",
       " \"iter = 7      errM=359.3001904939398      err2=0.9227612346342776\"          \n",
       " \"iter = 8      errM=353.6423667619616      err2=0.9032096964312458\"          \n",
       " \"iter = 9      errM=345.4423161269976      err2=0.8744190096432449\"          \n",
       " \"iter = 10      errM=337.8107961585518      err2=0.850550617394459\"          \n",
       " \"iter = 11      errM=329.48952999660327      err2=0.8225746022762586\"        \n",
       " \"iter = 12      errM=322.157835227542      err2=0.7995744286476916\"          \n",
       " ⋮                                                                            \n",
       " \"iter = 989      errM=9.245559958368874e-8      err2=2.008163446857469e-10\"  \n",
       " \"iter = 990      errM=9.157148985135261e-8      err2=1.9872469524306208e-10\" \n",
       " \"iter = 991      errM=8.970272673178773e-8      err2=1.944290030280529e-10\"  \n",
       " \"iter = 992      errM=8.761455115655136e-8      err2=1.9011609542206044e-10\" \n",
       " \"iter = 993      errM=8.506521635187818e-8      err2=1.8436184264429084e-10\" \n",
       " \"iter = 994      errM=8.34342839022573e-8      err2=1.8111869579419655e-10\"  \n",
       " \"iter = 995      errM=8.173748429155144e-8      err2=1.7810625242474734e-10\" \n",
       " \"iter = 996      errM=8.029154812434537e-8      err2=1.7468586010678804e-10\" \n",
       " \"iter = 997      errM=7.969911523914304e-8      err2=1.7351616689756105e-10\" \n",
       " \"iter = 998      errM=7.837319502648074e-8      err2=1.707673033084339e-10\"  \n",
       " \"iter = 999      errM=7.745970779797214e-8      err2=1.686488390134852e-10\"  \n",
       " \"iter = 1000      errM=7.515280020985101e-8      err2=1.6332581001861336e-10\""
      ]
     },
     "execution_count": 74,
     "metadata": {},
     "output_type": "execute_result"
    }
   ],
   "source": [
    "dbg"
   ]
  },
  {
   "cell_type": "code",
   "execution_count": null,
   "metadata": {
    "collapsed": true
   },
   "outputs": [],
   "source": []
  }
 ],
 "metadata": {
  "kernelspec": {
   "display_name": "Julia 0.4.6",
   "language": "julia",
   "name": "julia-0.4"
  },
  "language_info": {
   "file_extension": ".jl",
   "mimetype": "application/julia",
   "name": "julia",
   "version": "0.4.6"
  }
 },
 "nbformat": 4,
 "nbformat_minor": 0
}
