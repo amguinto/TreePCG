{
 "cells": [
  {
   "cell_type": "code",
   "execution_count": 1,
   "metadata": {
    "collapsed": false
   },
   "outputs": [
    {
     "data": {
      "text/plain": [
       "pcgWorker (generic function with 1 method)"
      ]
     },
     "execution_count": 1,
     "metadata": {},
     "output_type": "execute_result"
    }
   ],
   "source": [
    "include(\"../src/Julia.jl\")"
   ]
  },
  {
   "cell_type": "code",
   "execution_count": 2,
   "metadata": {
    "collapsed": false
   },
   "outputs": [],
   "source": [
    "n = 250\n",
    "a = chimera(n,14); la = lap(a)\n",
    "t = akpw(a);\n",
    "x = randn(n); x = x - mean(x);\n",
    "b = la * x; b = b - mean(b);"
   ]
  },
  {
   "cell_type": "code",
   "execution_count": 3,
   "metadata": {
    "collapsed": false
   },
   "outputs": [
    {
     "name": "stdout",
     "output_type": "stream",
     "text": [
      "  0.046346 seconds (21.72 k allocations: 1.125 MB)\n"
     ]
    }
   ],
   "source": [
    "@time f = treeSolver(t);"
   ]
  },
  {
   "cell_type": "code",
   "execution_count": 4,
   "metadata": {
    "collapsed": false
   },
   "outputs": [
    {
     "name": "stdout",
     "output_type": "stream",
     "text": [
      "Finished iteration 1 with errors 0.9273716192343561 0.9608267198473555\n",
      "Finished iteration 11 with errors 0.07448803598155669 0.23484892127152696\n",
      "Finished iteration 21 with errors 0.001375798124546639 0.03218433960176504\n",
      "Finished iteration 31 with errors 2.5244480130052003e-5 0.004459103048966154\n",
      "Finished iteration 41 with errors 3.116934738951871e-7 0.0004853336403525713\n",
      "Finished iteration 51 with errors 3.4405390465890094e-9 5.211873821815905e-5\n",
      "Finished iteration 61 with errors 2.8233532448125826e-11 4.847493672102088e-6\n",
      "Finished iteration 71 with errors 6.203371198457678e-13 6.969548296386287e-7\n",
      "Finished iteration 81 with errors 1.173799193516825e-14 9.926523114506931e-8\n",
      "Finished iteration 91 with errors 1.1766278229704957e-16 9.618136677556073e-9\n",
      "Finished iteration 100 with errors 4.17762249706134e-18 1.8372037270081046e-9\n",
      "  0.842514 seconds (922.81 k allocations: 37.012 MB, 1.98% gc time)\n"
     ]
    }
   ],
   "source": [
    "@time myx64,dbg = pcgV(la, b, f, x, maxits=100, verbose=true);"
   ]
  },
  {
   "cell_type": "code",
   "execution_count": 5,
   "metadata": {
    "collapsed": false
   },
   "outputs": [
    {
     "name": "stdout",
     "output_type": "stream",
     "text": [
      "  0.000449 seconds (2.80 k allocations: 106.484 KB)\n"
     ]
    },
    {
     "data": {
      "text/plain": [
       "1.918439963279324e-15"
      ]
     },
     "execution_count": 5,
     "metadata": {},
     "output_type": "execute_result"
    }
   ],
   "source": [
    "@time norm(lap(t) * f(b) - b) / norm(b)"
   ]
  },
  {
   "cell_type": "code",
   "execution_count": 6,
   "metadata": {
    "collapsed": false
   },
   "outputs": [
    {
     "data": {
      "text/plain": [
       "100-element Array{Any,1}:\n",
       " \"iter = 1      errA=0.9273716192343561      err2=0.9608267198473555\"        \n",
       " \"iter = 2      errA=0.8695587972878273      err2=0.9307160708630888\"        \n",
       " \"iter = 3      errA=0.7221538331228572      err2=0.8326440060413366\"        \n",
       " \"iter = 4      errA=0.5839398969949492      err2=0.7407159568068163\"        \n",
       " \"iter = 5      errA=0.4799830506614228      err2=0.6608280627674744\"        \n",
       " \"iter = 6      errA=0.35235960862642696      err2=0.5617461810130403\"       \n",
       " \"iter = 7      errA=0.27178050845576796      err2=0.48693439587931125\"      \n",
       " \"iter = 8      errA=0.2012776897085837      err2=0.4146925784190205\"        \n",
       " \"iter = 9      errA=0.15831907249525726      err2=0.36173819409954666\"      \n",
       " \"iter = 10      errA=0.11917754045472492      err2=0.3100713041353811\"      \n",
       " \"iter = 11      errA=0.07448803598155669      err2=0.23484892127152696\"     \n",
       " \"iter = 12      errA=0.05673359625497201      err2=0.20669339961952207\"     \n",
       " \"iter = 13      errA=0.039021215796467515      err2=0.16947431070794106\"    \n",
       " ⋮                                                                           \n",
       " \"iter = 89      errA=2.7914029051751936e-16      err2=1.5251753642886136e-8\"\n",
       " \"iter = 90      errA=1.7802173587562724e-16      err2=1.2150208996474791e-8\"\n",
       " \"iter = 91      errA=1.1766278229704957e-16      err2=9.618136677556073e-9\" \n",
       " \"iter = 92      errA=9.438534306132909e-17      err2=8.547474758224877e-9\"  \n",
       " \"iter = 93      errA=4.109556796714086e-17      err2=5.624137458253679e-9\"  \n",
       " \"iter = 94      errA=3.534710477311788e-17      err2=5.292689929216654e-9\"  \n",
       " \"iter = 95      errA=1.632264631767254e-17      err2=3.578213294945941e-9\"  \n",
       " \"iter = 96      errA=1.571667687494251e-17      err2=3.527046639731851e-9\"  \n",
       " \"iter = 97      errA=1.1458881308340823e-17      err2=3.0760964101661335e-9\"\n",
       " \"iter = 98      errA=6.7883510838247874e-18      err2=2.4216459317197015e-9\"\n",
       " \"iter = 99      errA=5.519924123817999e-18      err2=2.1638398493671524e-9\" \n",
       " \"iter = 100      errA=4.17762249706134e-18      err2=1.8372037270081046e-9\" "
      ]
     },
     "execution_count": 6,
     "metadata": {},
     "output_type": "execute_result"
    }
   ],
   "source": [
    "dbg"
   ]
  },
  {
   "cell_type": "code",
   "execution_count": null,
   "metadata": {
    "collapsed": true
   },
   "outputs": [],
   "source": []
  }
 ],
 "metadata": {
  "anaconda-cloud": {},
  "kernelspec": {
   "display_name": "Julia 0.4.6",
   "language": "julia",
   "name": "julia-0.4"
  },
  "language_info": {
   "file_extension": ".jl",
   "mimetype": "application/julia",
   "name": "julia",
   "version": "0.4.6"
  }
 },
 "nbformat": 4,
 "nbformat_minor": 0
}
