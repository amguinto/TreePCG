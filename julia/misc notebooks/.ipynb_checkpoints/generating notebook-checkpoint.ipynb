{
 "cells": [
  {
   "cell_type": "code",
   "execution_count": 2,
   "metadata": {
    "collapsed": false
   },
   "outputs": [
    {
     "data": {
      "text/plain": [
       "pcgWorker (generic function with 1 method)"
      ]
     },
     "execution_count": 2,
     "metadata": {},
     "output_type": "execute_result"
    }
   ],
   "source": [
    "include(\"../src/Julia.jl\")"
   ]
  },
  {
   "cell_type": "code",
   "execution_count": 88,
   "metadata": {
    "collapsed": false
   },
   "outputs": [
    {
     "data": {
      "text/plain": [
       "wgen (generic function with 1 method)"
      ]
     },
     "execution_count": 88,
     "metadata": {},
     "output_type": "execute_result"
    }
   ],
   "source": [
    "wmax = 10\n",
    "iu = false\n",
    "function wgen()\n",
    "    if iu\n",
    "        return 1 / rand(1:wmax)\n",
    "    else\n",
    "        return rand(1:wmax)\n",
    "    end\n",
    "end"
   ]
  },
  {
   "cell_type": "code",
   "execution_count": 70,
   "metadata": {
    "collapsed": false
   },
   "outputs": [
    {
     "data": {
      "text/plain": [
       "24430"
      ]
     },
     "execution_count": 70,
     "metadata": {},
     "output_type": "execute_result"
    }
   ],
   "source": [
    "n = 1000;\n",
    "p = 0.05\n",
    "a = randGraph(n, p=p, weightGen = wgen);\n",
    "ceil(Int64,nnz(a)/2)"
   ]
  },
  {
   "cell_type": "code",
   "execution_count": 71,
   "metadata": {
    "collapsed": false
   },
   "outputs": [
    {
     "data": {
      "text/plain": [
       "(155716.90958700105,0.15571690958700105)"
      ]
     },
     "execution_count": 71,
     "metadata": {},
     "output_type": "execute_result"
    }
   ],
   "source": [
    "tree1 = akpw(a);\n",
    "str1 = compStretches(tree1,a);\n",
    "data1 = sum(str1),mean(str1)"
   ]
  },
  {
   "cell_type": "code",
   "execution_count": 72,
   "metadata": {
    "collapsed": false
   },
   "outputs": [
    {
     "data": {
      "text/plain": [
       "(526106.2129870658,0.5261062129870658)"
      ]
     },
     "execution_count": 72,
     "metadata": {},
     "output_type": "execute_result"
    }
   ],
   "source": [
    "tree2 = randishPrim(a);\n",
    "str2 = compStretches(tree2,a);\n",
    "data2 = sum(str2),mean(str2)"
   ]
  },
  {
   "cell_type": "code",
   "execution_count": 73,
   "metadata": {
    "collapsed": false
   },
   "outputs": [
    {
     "data": {
      "text/plain": [
       "(1.071931455630245e6,1.0719314556302448)"
      ]
     },
     "execution_count": 73,
     "metadata": {},
     "output_type": "execute_result"
    }
   ],
   "source": [
    "tree3 = randishKruskal(a);\n",
    "str3 = compStretches(tree3,a);\n",
    "data3 = sum(str3),mean(str3)"
   ]
  },
  {
   "cell_type": "code",
   "execution_count": 74,
   "metadata": {
    "collapsed": true
   },
   "outputs": [],
   "source": [
    "truex = randn(n); truex = truex - mean(truex);\n",
    "b = lap(a) * truex; b = b - mean(b);"
   ]
  },
  {
   "cell_type": "code",
   "execution_count": null,
   "metadata": {
    "collapsed": true
   },
   "outputs": [],
   "source": []
  },
  {
   "cell_type": "code",
   "execution_count": 75,
   "metadata": {
    "collapsed": false
   },
   "outputs": [
    {
     "data": {
      "text/plain": [
       "\"../../graphs/se_u_5/\""
      ]
     },
     "execution_count": 75,
     "metadata": {},
     "output_type": "execute_result"
    }
   ],
   "source": [
    "gname = \"../../graphs/se_u_5/\""
   ]
  },
  {
   "cell_type": "code",
   "execution_count": 76,
   "metadata": {
    "collapsed": true
   },
   "outputs": [],
   "source": [
    "writeToFile(gname * \"graph.mtx\", a);"
   ]
  },
  {
   "cell_type": "code",
   "execution_count": 77,
   "metadata": {
    "collapsed": false
   },
   "outputs": [],
   "source": [
    "writeToFile(gname * \"tree1.mtx\", tree1);\n",
    "writeToFile(gname * \"tree2.mtx\", tree2);\n",
    "writeToFile(gname * \"tree3.mtx\", tree3);"
   ]
  },
  {
   "cell_type": "code",
   "execution_count": 78,
   "metadata": {
    "collapsed": true
   },
   "outputs": [],
   "source": [
    "writeToFile(gname * \"x.vec\", truex);\n",
    "writeToFile(gname * \"b.vec\", b);"
   ]
  },
  {
   "cell_type": "code",
   "execution_count": 87,
   "metadata": {
    "collapsed": false
   },
   "outputs": [
    {
     "ename": "LoadError",
     "evalue": "LoadError: UndefVarError: iu not defined\nwhile loading In[87], in expression starting on line 7",
     "output_type": "error",
     "traceback": [
      "LoadError: UndefVarError: iu not defined\nwhile loading In[87], in expression starting on line 7",
      ""
     ]
    }
   ],
   "source": [
    "output = []\n",
    "push!(output, \"A random graph with $(n) vertices and $(ceil(Int64,nnz(a)/2)) edges.\")\n",
    "push!(output, \"\")\n",
    "push!(output, \"The graph is generated in the following way:\")\n",
    "push!(output, \"    - for each vertex, select n / $(1/p) random neighbors\")\n",
    "push!(output, \"    - get rid of duplicate edges\")\n",
    "if iu\n",
    "    push!(output, \"    - weights are reals sampled uniformly from 1/[1..wmax]\")\n",
    "else\n",
    "    push!(output, \"    - weights are integers sampled uniformly from [1..wmax]\")\n",
    "end\n",
    "push!(output, \"\")\n",
    "push!(output, \"There are three trees in the folder.\")\n",
    "push!(output, \"\")\n",
    "push!(output, \"Tree1 - total stretch = $(data1[1]), ave stretch = $(data1[2])\")\n",
    "push!(output, \"Tree2 - total stretch = $(data2[1]), ave stretch = $(data2[2])\")\n",
    "push!(output, \"Tree3 - total stretch = $(data3[1]), ave stretch = $(data3[2])\")"
   ]
  },
  {
   "cell_type": "code",
   "execution_count": null,
   "metadata": {
    "collapsed": true
   },
   "outputs": [],
   "source": []
  }
 ],
 "metadata": {
  "kernelspec": {
   "display_name": "Julia 0.4.6",
   "language": "julia",
   "name": "julia-0.4"
  },
  "language_info": {
   "file_extension": ".jl",
   "mimetype": "application/julia",
   "name": "julia",
   "version": "0.4.6"
  }
 },
 "nbformat": 4,
 "nbformat_minor": 0
}
