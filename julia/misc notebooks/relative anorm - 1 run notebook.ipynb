{
 "cells": [
  {
   "cell_type": "markdown",
   "metadata": {},
   "source": [
    "# THIS NOTEBOOK EDITS LOG FILES. USE WITH CARE!"
   ]
  },
  {
   "cell_type": "code",
   "execution_count": 1,
   "metadata": {
    "collapsed": false
   },
   "outputs": [
    {
     "data": {
      "text/plain": [
       "pcgWorker (generic function with 1 method)"
      ]
     },
     "execution_count": 1,
     "metadata": {},
     "output_type": "execute_result"
    }
   ],
   "source": [
    "include(\"../src/Julia.jl\")"
   ]
  },
  {
   "cell_type": "code",
   "execution_count": 2,
   "metadata": {
    "collapsed": false
   },
   "outputs": [],
   "source": [
    "inputs = readdir(\"../../graphs\");"
   ]
  },
  {
   "cell_type": "code",
   "execution_count": 3,
   "metadata": {
    "collapsed": false
   },
   "outputs": [
    {
     "data": {
      "text/plain": [
       "parseData (generic function with 1 method)"
      ]
     },
     "execution_count": 3,
     "metadata": {},
     "output_type": "execute_result"
    }
   ],
   "source": [
    "function parseData{Tv,Ti}(fileName::ASCIIString, a::SparseMatrixCSC{Tv,Ti}, truex::Array{Tv,1})\n",
    "    f = open(fileName)\n",
    "    lines = readlines(f)\n",
    "    close(f)\n",
    "    \n",
    "    results = Array{Array{Float64,1},1}(0)\n",
    "\n",
    "    nr = parse(Int64, split(lines[2], ' ')[1])\n",
    "    for i in 3:(3 + nr - 1)\n",
    "        wholeLn = split(lines[i], [' ', '=', '\\n'])\n",
    "        ln = []\n",
    "        for j in wholeLn\n",
    "            if j != \"\"\n",
    "                push!(ln, j)\n",
    "            end\n",
    "        end\n",
    "        \n",
    "        thisLine = []\n",
    "        for j in 4:2:length(ln)\n",
    "            push!(thisLine, parse(Float64, ln[j]))\n",
    "        end\n",
    "        \n",
    "        push!(results, thisLine)\n",
    "    end\n",
    "    \n",
    "    \n",
    "    # turn a norm to a relative norm\n",
    "    anormCoeff = sqrt(abs((truex' * lap(a) * truex)[1]))\n",
    "    \n",
    "    for i in 1:length(results)\n",
    "        results[i][1] = (results[i][1] / anormCoeff)^2\n",
    "        pop!(results[i])\n",
    "    end\n",
    "    \n",
    "    f = open(fileName, \"w\")\n",
    "    println(f, \"$(length(results)) iterations\")\n",
    "    println(f, \"anorm = ((x-truex)' * la * (x-truex))/(truex' * la * truex), 2norm = norm(la*x-b)/norm(b)\")\n",
    "    for i in 1:length(results)\n",
    "        println(f, \"iter = $(i)      errA=$(results[i][1])      err2=$(results[i][2])\")\n",
    "    end\n",
    "    close(f)\n",
    "    \n",
    "#     println(fileName, \" \", results[1], \" \", results[length(results)], \" \", length(results))\n",
    "    \n",
    "end"
   ]
  },
  {
   "cell_type": "code",
   "execution_count": 4,
   "metadata": {
    "collapsed": false
   },
   "outputs": [
    {
     "name": "stdout",
     "output_type": "stream",
     "text": [
      "corrected norm in ../../graphs/grid2_iu_10000_1\n",
      "corrected norm in ../../graphs/grid2_u_10000_1\n",
      "corrected norm in ../../graphs/grid3_iu_27000_1\n",
      "corrected norm in ../../graphs/grid3_u_27000_1\n",
      "corrected norm in ../../graphs/ke_1_1\n",
      "corrected norm in ../../graphs/ke_1_2\n",
      "corrected norm in ../../graphs/ke_2_1\n",
      "corrected norm in ../../graphs/ke_2_2\n",
      "corrected norm in ../../graphs/rand_10000_u11\n",
      "corrected norm in ../../graphs/rand_1000_iu10\n",
      "corrected norm in ../../graphs/rand_1000_iu100\n",
      "corrected norm in ../../graphs/rand_1000_iu1000\n",
      "corrected norm in ../../graphs/rand_1000_u10\n",
      "corrected norm in ../../graphs/rand_1000_u100\n",
      "corrected norm in ../../graphs/rand_1000_u1000\n",
      "corrected norm in ../../graphs/rand_1000_u11\n",
      "corrected norm in ../../graphs/randdense_1000_iu1000\n",
      "corrected norm in ../../graphs/randdense_1000_u1000\n",
      "corrected norm in ../../graphs/se_1_medium\n",
      "corrected norm in ../../graphs/se_1_small\n",
      "corrected norm in ../../graphs/se_2\n",
      "couldn't work in directorry ../../graphs/se_iu_1\n",
      "couldn't work in directorry ../../graphs/se_iu_2\n",
      "couldn't work in directorry ../../graphs/se_iu_3\n",
      "couldn't work in directorry ../../graphs/se_iu_4\n",
      "corrected norm in ../../graphs/xu_1_2\n",
      "corrected norm in ../../graphs/xu_2\n",
      "corrected norm in ../../graphs/xu_3\n"
     ]
    }
   ],
   "source": [
    "for inpt in inputs\n",
    "    dir = \"../../graphs/\" * inpt;\n",
    "    allLogs = readdir(dir)\n",
    "    \n",
    "    julLogs = []\n",
    "    for log in allLogs\n",
    "        if search(log, \"julia\").stop != -1\n",
    "            push!(julLogs, log)\n",
    "        end\n",
    "    end\n",
    "    \n",
    "    try\n",
    "        a = readFromFile(dir * \"/graph.mtx\");\n",
    "        x = readFromFile(dir * \"/x.vec\");\n",
    "\n",
    "        for log in julLogs\n",
    "            if search(log, \"default\").stop != -1\n",
    "                parseData(dir * \"/\" * log, a, x)\n",
    "            end\n",
    "        end\n",
    "\n",
    "        for p2 in 5:20\n",
    "            for log in julLogs\n",
    "                if search(log, string(2^p2)).stop != -1\n",
    "                    parseData(dir * \"/\" * log, a, x)\n",
    "                end\n",
    "            end\n",
    "        end\n",
    "        \n",
    "        println(\"corrected norm in \", dir)\n",
    "    catch\n",
    "        println(\"couldn't work in directorry \", dir)\n",
    "    end\n",
    "    \n",
    "end"
   ]
  },
  {
   "cell_type": "code",
   "execution_count": null,
   "metadata": {
    "collapsed": true
   },
   "outputs": [],
   "source": []
  }
 ],
 "metadata": {
  "anaconda-cloud": {},
  "kernelspec": {
   "display_name": "Julia 0.4.6",
   "language": "julia",
   "name": "julia-0.4"
  },
  "language_info": {
   "file_extension": ".jl",
   "mimetype": "application/julia",
   "name": "julia",
   "version": "0.4.6"
  }
 },
 "nbformat": 4,
 "nbformat_minor": 0
}
