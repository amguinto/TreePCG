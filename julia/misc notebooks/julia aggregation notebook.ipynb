{
 "cells": [
  {
   "cell_type": "code",
   "execution_count": 20,
   "metadata": {
    "collapsed": false
   },
   "outputs": [
    {
     "data": {
      "text/plain": [
       "parseData (generic function with 1 method)"
      ]
     },
     "execution_count": 20,
     "metadata": {},
     "output_type": "execute_result"
    }
   ],
   "source": [
    "include(\"../src/Julia.jl\")"
   ]
  },
  {
   "cell_type": "code",
   "execution_count": 21,
   "metadata": {
    "collapsed": false
   },
   "outputs": [
    {
     "data": {
      "text/plain": [
       "\"/Users/serbanstan/git/TreePCG/julia/misc notebooks\""
      ]
     },
     "execution_count": 21,
     "metadata": {},
     "output_type": "execute_result"
    }
   ],
   "source": [
    "pwd()"
   ]
  },
  {
   "cell_type": "code",
   "execution_count": 22,
   "metadata": {
    "collapsed": false
   },
   "outputs": [],
   "source": [
    "path = \"../../graphs/\"\n",
    "graphs = readdir(path);"
   ]
  },
  {
   "cell_type": "code",
   "execution_count": 24,
   "metadata": {
    "collapsed": false
   },
   "outputs": [
    {
     "name": "stdout",
     "output_type": "stream",
     "text": [
      "generated plots for grid2_10000_iu1000\n",
      "generated plots for grid2_10000_iu11\n",
      "generated plots for grid2_10000_u1000\n",
      "generated plots for grid3_27000_iu1000\n",
      "generated plots for grid3_27000_u1000\n",
      "generated plots for grid3_9261_iu11\n",
      "generated plots for ipmOri_grid3_125000_1\n",
      "generated plots for ipmOri_grid3_125000_2\n",
      "generated plots for ipmReduced_grid3_250000_1\n",
      "generated plots for ipmReduced_grid3_250000_2\n",
      "generated plots for ipm_grid3_8000_all\n",
      "generated plots for pathDisjoint_1000_exp20\n",
      "generated plots for pathDisjoint_1000_exp30\n",
      "generated plots for pathDisjoint_30_exp20\n",
      "generated plots for pathRand_100000_u11\n",
      "generated plots for pathRand_1000_u11\n",
      "generated plots for pathRand_1000_u11_dup\n",
      "generated plots for rand_1000_iu10\n",
      "generated plots for rand_1000_iu100\n",
      "generated plots for rand_1000_iu1000\n",
      "generated plots for rand_1000_u10\n",
      "generated plots for rand_1000_u100\n",
      "generated plots for rand_1000_u1000\n",
      "generated plots for randdense_1000_iu1000\n",
      "generated plots for randdense_1000_u1000\n"
     ]
    }
   ],
   "source": [
    "for name in graphs    \n",
    "    if search(name, \"DS_Store\").stop == -1\n",
    "        for t in 1:5\n",
    "            drawJuliaPlot(path * name * \"/\", \"tree$(t)\");\n",
    "        end\n",
    "        \n",
    "        println(\"generated plots for \", name)\n",
    "    end\n",
    "end"
   ]
  },
  {
   "cell_type": "code",
   "execution_count": null,
   "metadata": {
    "collapsed": true
   },
   "outputs": [],
   "source": []
  }
 ],
 "metadata": {
  "anaconda-cloud": {},
  "kernelspec": {
   "display_name": "Julia 0.4.6",
   "language": "julia",
   "name": "julia-0.4"
  },
  "language_info": {
   "file_extension": ".jl",
   "mimetype": "application/julia",
   "name": "julia",
   "version": "0.4.6"
  }
 },
 "nbformat": 4,
 "nbformat_minor": 0
}
