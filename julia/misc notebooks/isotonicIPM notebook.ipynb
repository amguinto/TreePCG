{
 "cells": [
  {
   "cell_type": "code",
   "execution_count": 1,
   "metadata": {
    "collapsed": false
   },
   "outputs": [
    {
     "data": {
      "text/plain": [
       "notFeasible (generic function with 1 method)"
      ]
     },
     "execution_count": 1,
     "metadata": {},
     "output_type": "execute_result"
    }
   ],
   "source": [
    "include(\"../src/Julia.jl\")"
   ]
  },
  {
   "cell_type": "code",
   "execution_count": 2,
   "metadata": {
    "collapsed": false
   },
   "outputs": [
    {
     "data": {
      "text/plain": [
       "wgen (generic function with 1 method)"
      ]
     },
     "execution_count": 2,
     "metadata": {},
     "output_type": "execute_result"
    }
   ],
   "source": [
    "function wgen()\n",
    "    return 1 / rand(1:1000)\n",
    "end"
   ]
  },
  {
   "cell_type": "code",
   "execution_count": 3,
   "metadata": {
    "collapsed": false
   },
   "outputs": [],
   "source": [
    "n = 20^3;"
   ]
  },
  {
   "cell_type": "code",
   "execution_count": 4,
   "metadata": {
    "collapsed": false
   },
   "outputs": [
    {
     "data": {
      "text/plain": [
       "generateInput (generic function with 1 method)"
      ]
     },
     "execution_count": 4,
     "metadata": {},
     "output_type": "execute_result"
    }
   ],
   "source": [
    "function generateInput(n)\n",
    "    a = wGrid3(20,weightGen=wgen);\n",
    "    b = zeros(Float64,n);\n",
    "    b[1] = 1;\n",
    "    b[n] = -1;\n",
    "    f = KMPLapSolver(a, verbose=false, tol=1e-1); # use any other solver\n",
    "    v = f(b)\n",
    "    v = v / (v[1] - v[n])\n",
    "\n",
    "    p = sortperm(v);\n",
    "    ap = symPermuteCSC(a, p);\n",
    "    # vp = v[p]\n",
    "    vp = v[p] + rand(n) / sqrt(n);\n",
    "    at = triu(ap);\n",
    "    \n",
    "    return at,vp\n",
    "end"
   ]
  },
  {
   "cell_type": "code",
   "execution_count": 5,
   "metadata": {
    "collapsed": false
   },
   "outputs": [],
   "source": [
    "a,v = generateInput(20^3);"
   ]
  },
  {
   "cell_type": "code",
   "execution_count": 6,
   "metadata": {
    "collapsed": false
   },
   "outputs": [
    {
     "name": "stdout",
     "output_type": "stream",
     "text": [
      "Finished stepp 25\n",
      "Finished stepp 50\n",
      "Finished stepp 75\n",
      "Finished stepp 100\n",
      "Finished stepp 125\n"
     ]
    }
   ],
   "source": [
    "x,relGap,its,solverInput = isotonicIPMrelEps(a, v, eps=0.001);"
   ]
  },
  {
   "cell_type": "code",
   "execution_count": 7,
   "metadata": {
    "collapsed": false
   },
   "outputs": [
    {
     "data": {
      "text/plain": [
       "(0.000426629835921628,134)"
      ]
     },
     "execution_count": 7,
     "metadata": {},
     "output_type": "execute_result"
    }
   ],
   "source": [
    "relGap,its"
   ]
  },
  {
   "cell_type": "code",
   "execution_count": 8,
   "metadata": {
    "collapsed": false
   },
   "outputs": [
    {
     "data": {
      "text/plain": [
       "8000x8000 sparse matrix with 53600 Float64 entries:\n",
       "\t[1   ,    1]  =  2.06429e6\n",
       "\t[2   ,    1]  =  -1.60023e6\n",
       "\t[3   ,    1]  =  -4.00056e5\n",
       "\t[6   ,    1]  =  -64009.0\n",
       "\t[1   ,    2]  =  -1.60023e6\n",
       "\t[2   ,    2]  =  2.22254e6\n",
       "\t[4   ,    2]  =  -4.00056e5\n",
       "\t[5   ,    2]  =  -1.77803e5\n",
       "\t[8   ,    2]  =  -44450.7\n",
       "\t[1   ,    3]  =  -4.00056e5\n",
       "\t⋮\n",
       "\t[7998, 7998]  =  2.10874e6\n",
       "\t[8000, 7998]  =  -4.00056e5\n",
       "\t[7988, 7999]  =  -13225.0\n",
       "\t[7989, 7999]  =  -16002.3\n",
       "\t[7997, 7999]  =  -4.00056e5\n",
       "\t[7999, 7999]  =  2.02951e6\n",
       "\t[8000, 7999]  =  -1.60023e6\n",
       "\t[7990, 8000]  =  -16002.3\n",
       "\t[7998, 8000]  =  -4.00056e5\n",
       "\t[7999, 8000]  =  -1.60023e6\n",
       "\t[8000, 8000]  =  2.01628e6"
      ]
     },
     "execution_count": 8,
     "metadata": {},
     "output_type": "execute_result"
    }
   ],
   "source": [
    "solverInput[1][1]"
   ]
  },
  {
   "cell_type": "code",
   "execution_count": 9,
   "metadata": {
    "collapsed": false
   },
   "outputs": [
    {
     "data": {
      "text/plain": [
       "\"/Users/serbanstan/git/TreePCG/julia/misc notebooks\""
      ]
     },
     "execution_count": 9,
     "metadata": {},
     "output_type": "execute_result"
    }
   ],
   "source": [
    "pwd()"
   ]
  },
  {
   "cell_type": "code",
   "execution_count": 10,
   "metadata": {
    "collapsed": true
   },
   "outputs": [],
   "source": [
    "cd(\"../../graphs/ipm_grid3_8000_all\")"
   ]
  },
  {
   "cell_type": "code",
   "execution_count": 11,
   "metadata": {
    "collapsed": false
   },
   "outputs": [
    {
     "data": {
      "text/plain": [
       "\"/Users/serbanstan/git/TreePCG/graphs/ipm_grid3_8000_all\""
      ]
     },
     "execution_count": 11,
     "metadata": {},
     "output_type": "execute_result"
    }
   ],
   "source": [
    "pwd()"
   ]
  },
  {
   "cell_type": "code",
   "execution_count": 19,
   "metadata": {
    "collapsed": false
   },
   "outputs": [],
   "source": [
    "for i in 1:its\n",
    "    dirName = \"ipm_grid3_8000_$(i)\"\n",
    "    try\n",
    "        mkdir(dirName)\n",
    "    catch\n",
    "        # file already exists\n",
    "    end\n",
    "    \n",
    "    writeToFile(dirName * \"/graph.mtx\", solverInput[i][1])\n",
    "    writeToFile(dirName * \"/b.vec\", solverInput[i][2])\n",
    "    \n",
    "    adjMat,diag = adj(solverInput[i][1])\n",
    "    tree1 = akpw(adjMat)\n",
    "    tree2 = randishPrim(adjMat)\n",
    "    tree3 = randishKruskal(adjMat)\n",
    "    \n",
    "    writeToFile(dirName * \"/tree1.mtx\", tree1)\n",
    "    writeToFile(dirName * \"/tree2.mtx\", tree2)\n",
    "    writeToFile(dirName * \"/tree3.mtx\", tree3)\n",
    "end"
   ]
  },
  {
   "cell_type": "code",
   "execution_count": 18,
   "metadata": {
    "collapsed": false
   },
   "outputs": [
    {
     "data": {
      "text/plain": [
       "134"
      ]
     },
     "execution_count": 18,
     "metadata": {},
     "output_type": "execute_result"
    }
   ],
   "source": [
    "its"
   ]
  },
  {
   "cell_type": "code",
   "execution_count": null,
   "metadata": {
    "collapsed": true
   },
   "outputs": [],
   "source": []
  }
 ],
 "metadata": {
  "anaconda-cloud": {},
  "kernelspec": {
   "display_name": "Julia 0.4.6",
   "language": "julia",
   "name": "julia-0.4"
  },
  "language_info": {
   "file_extension": ".jl",
   "mimetype": "application/julia",
   "name": "julia",
   "version": "0.4.6"
  }
 },
 "nbformat": 4,
 "nbformat_minor": 0
}
