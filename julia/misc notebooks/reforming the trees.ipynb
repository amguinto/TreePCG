{
 "cells": [
  {
   "cell_type": "code",
   "execution_count": 2,
   "metadata": {
    "collapsed": false
   },
   "outputs": [
    {
     "data": {
      "text/plain": [
       "parseData (generic function with 1 method)"
      ]
     },
     "execution_count": 2,
     "metadata": {},
     "output_type": "execute_result"
    }
   ],
   "source": [
    "include(\"../src/Julia.jl\")"
   ]
  },
  {
   "cell_type": "code",
   "execution_count": 6,
   "metadata": {
    "collapsed": true
   },
   "outputs": [],
   "source": [
    "dir = \"/Users/serbanstan/git/TreePCG/graphs/rand_1000_u1000/\";"
   ]
  },
  {
   "cell_type": "code",
   "execution_count": 16,
   "metadata": {
    "collapsed": false
   },
   "outputs": [
    {
     "data": {
      "text/plain": [
       "reform (generic function with 1 method)"
      ]
     },
     "execution_count": 16,
     "metadata": {},
     "output_type": "execute_result"
    }
   ],
   "source": [
    "function reform(tree, graph)\n",
    "    u,v,w = findnz(tree)\n",
    "    \n",
    "    for i in 1:length(u)\n",
    "        w[i] = graph[u[i],v[i]]\n",
    "    end\n",
    "    \n",
    "    return sparse(u,v,w)\n",
    "end"
   ]
  },
  {
   "cell_type": "code",
   "execution_count": 17,
   "metadata": {
    "collapsed": false
   },
   "outputs": [],
   "source": [
    "a = readFromFile(dir * \"graph.mtx\");"
   ]
  },
  {
   "cell_type": "code",
   "execution_count": 18,
   "metadata": {
    "collapsed": false
   },
   "outputs": [
    {
     "data": {
      "text/plain": [
       "1000x1000 sparse matrix with 1998 Float64 entries:\n",
       "\t[110 ,    1]  =  1.0\n",
       "\t[567 ,    1]  =  1.0\n",
       "\t[627 ,    2]  =  1.0\n",
       "\t[365 ,    3]  =  1.0\n",
       "\t[394 ,    3]  =  1.0\n",
       "\t[164 ,    4]  =  1.0\n",
       "\t[459 ,    4]  =  1.0\n",
       "\t[915 ,    4]  =  1.0\n",
       "\t[559 ,    5]  =  1.0\n",
       "\t[629 ,    5]  =  1.0\n",
       "\t⋮\n",
       "\t[104 ,  993]  =  1.0\n",
       "\t[117 ,  993]  =  1.0\n",
       "\t[940 ,  994]  =  1.0\n",
       "\t[921 ,  995]  =  1.0\n",
       "\t[969 ,  996]  =  1.0\n",
       "\t[350 ,  997]  =  1.0\n",
       "\t[217 ,  998]  =  1.0\n",
       "\t[921 ,  998]  =  1.0\n",
       "\t[33  ,  999]  =  1.0\n",
       "\t[349 ,  999]  =  1.0\n",
       "\t[522 , 1000]  =  1.0"
      ]
     },
     "execution_count": 18,
     "metadata": {},
     "output_type": "execute_result"
    }
   ],
   "source": [
    "tree4 = readFromFile(dir * \"tree4.mtx\");\n",
    "tree5 = readFromFile(dir * \"tree5.mtx\")"
   ]
  },
  {
   "cell_type": "code",
   "execution_count": 19,
   "metadata": {
    "collapsed": false
   },
   "outputs": [
    {
     "data": {
      "text/plain": [
       "1000x1000 sparse matrix with 1998 Float64 entries:\n",
       "\t[110 ,    1]  =  963.0\n",
       "\t[567 ,    1]  =  953.0\n",
       "\t[627 ,    2]  =  943.0\n",
       "\t[365 ,    3]  =  949.0\n",
       "\t[394 ,    3]  =  972.0\n",
       "\t[164 ,    4]  =  986.0\n",
       "\t[459 ,    4]  =  981.0\n",
       "\t[915 ,    4]  =  973.0\n",
       "\t[559 ,    5]  =  959.0\n",
       "\t[629 ,    5]  =  995.0\n",
       "\t⋮\n",
       "\t[104 ,  993]  =  895.0\n",
       "\t[117 ,  993]  =  925.0\n",
       "\t[940 ,  994]  =  956.0\n",
       "\t[921 ,  995]  =  940.0\n",
       "\t[969 ,  996]  =  799.0\n",
       "\t[350 ,  997]  =  897.0\n",
       "\t[217 ,  998]  =  972.0\n",
       "\t[921 ,  998]  =  940.0\n",
       "\t[33  ,  999]  =  962.0\n",
       "\t[349 ,  999]  =  978.0\n",
       "\t[522 , 1000]  =  992.0"
      ]
     },
     "execution_count": 19,
     "metadata": {},
     "output_type": "execute_result"
    }
   ],
   "source": [
    "tree4 = reform(tree4,a)\n",
    "tree5 = reform(tree5,a)"
   ]
  },
  {
   "cell_type": "code",
   "execution_count": 20,
   "metadata": {
    "collapsed": true
   },
   "outputs": [],
   "source": [
    "writeToFile(dir * \"tree4.mtx\", tree4);\n",
    "writeToFile(dir * \"tree5.mtx\", tree5);"
   ]
  },
  {
   "cell_type": "code",
   "execution_count": null,
   "metadata": {
    "collapsed": true
   },
   "outputs": [],
   "source": []
  }
 ],
 "metadata": {
  "kernelspec": {
   "display_name": "Julia 0.4.6",
   "language": "julia",
   "name": "julia-0.4"
  },
  "language_info": {
   "file_extension": ".jl",
   "mimetype": "application/julia",
   "name": "julia",
   "version": "0.4.6"
  }
 },
 "nbformat": 4,
 "nbformat_minor": 0
}
