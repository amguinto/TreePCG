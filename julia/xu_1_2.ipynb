{
 "cells": [
  {
   "cell_type": "code",
   "execution_count": 1,
   "metadata": {
    "collapsed": false
   },
   "outputs": [
    {
     "name": "stderr",
     "output_type": "stream",
     "text": [
      "objc[2490]: Class TKApplication is implemented in both /Users/serbanstan/anaconda/lib/libtk8.5.dylib and /System/Library/Frameworks/Tk.framework/Versions/8.5/Tk. One of the two will be used. Which one is undefined.\n",
      "objc[2490]: Class TKMenu is implemented in both /Users/serbanstan/anaconda/lib/libtk8.5.dylib and /System/Library/Frameworks/Tk.framework/Versions/8.5/Tk. One of the two will be used. Which one is undefined.\n",
      "objc[2490]: Class TKContentView is implemented in both /Users/serbanstan/anaconda/lib/libtk8.5.dylib and /System/Library/Frameworks/Tk.framework/Versions/8.5/Tk. One of the two will be used. Which one is undefined.\n",
      "objc[2490]: Class TKWindow is implemented in both /Users/serbanstan/anaconda/lib/libtk8.5.dylib and /System/Library/Frameworks/Tk.framework/Versions/8.5/Tk. One of the two will be used. Which one is undefined.\n"
     ]
    }
   ],
   "source": [
    "using Laplacians"
   ]
  },
  {
   "cell_type": "code",
   "execution_count": 2,
   "metadata": {
    "collapsed": false
   },
   "outputs": [
    {
     "data": {
      "text/plain": [
       "pcgWorker (generic function with 1 method)"
      ]
     },
     "execution_count": 2,
     "metadata": {},
     "output_type": "execute_result"
    }
   ],
   "source": [
    "include(\"treeSolver.jl\")\n",
    "include(\"IO.jl\")\n",
    "include(\"generators.jl\")\n",
    "include(\"toHighPrecision.jl\")\n",
    "include(\"verbosePCG.jl\")"
   ]
  },
  {
   "cell_type": "code",
   "execution_count": 3,
   "metadata": {
    "collapsed": false
   },
   "outputs": [
    {
     "data": {
      "text/plain": [
       "\"/Users/serbanstan/git/TreePCG/julia\""
      ]
     },
     "execution_count": 3,
     "metadata": {},
     "output_type": "execute_result"
    }
   ],
   "source": [
    "pwd()"
   ]
  },
  {
   "cell_type": "code",
   "execution_count": 4,
   "metadata": {
    "collapsed": false
   },
   "outputs": [
    {
     "data": {
      "text/plain": [
       "\"../graphs/xu_1_2/\""
      ]
     },
     "execution_count": 4,
     "metadata": {},
     "output_type": "execute_result"
    }
   ],
   "source": [
    "graphp = \"../graphs/xu_1_2/\""
   ]
  },
  {
   "cell_type": "code",
   "execution_count": 5,
   "metadata": {
    "collapsed": false
   },
   "outputs": [],
   "source": [
    "a = readFromFile(graphp * \"graph.mtx\");"
   ]
  },
  {
   "cell_type": "code",
   "execution_count": 6,
   "metadata": {
    "collapsed": false
   },
   "outputs": [],
   "source": [
    "tree = readFromFile(graphp * \"tree.mtx\");"
   ]
  },
  {
   "cell_type": "code",
   "execution_count": 9,
   "metadata": {
    "collapsed": false
   },
   "outputs": [],
   "source": [
    "# need to get proper weights for the tree\n",
    "u,v,w = findnz(tree)\n",
    "for i in 1:nnz(tree)\n",
    "    tree[u[i],v[i]] = a[u[i],v[i]]\n",
    "end"
   ]
  },
  {
   "cell_type": "code",
   "execution_count": 10,
   "metadata": {
    "collapsed": false
   },
   "outputs": [],
   "source": [
    "x = readFromFile(graphp * \"x.vec\");"
   ]
  },
  {
   "cell_type": "code",
   "execution_count": 11,
   "metadata": {
    "collapsed": false
   },
   "outputs": [
    {
     "data": {
      "text/plain": [
       "1000"
      ]
     },
     "execution_count": 11,
     "metadata": {},
     "output_type": "execute_result"
    }
   ],
   "source": [
    "la = lap(a);\n",
    "x = x - mean(x)\n",
    "b = la * x; b = b - mean(b);\n",
    "a.n"
   ]
  },
  {
   "cell_type": "code",
   "execution_count": 13,
   "metadata": {
    "collapsed": false
   },
   "outputs": [
    {
     "name": "stdout",
     "output_type": "stream",
     "text": [
      "  0.004335 seconds (10.12 k allocations: 710.594 KB)\n",
      "  0.000545 seconds (13.44 k allocations: 273.750 KB)\n"
     ]
    }
   ],
   "source": [
    "@time F = treeSolver(tree)\n",
    "@time F(b);"
   ]
  },
  {
   "cell_type": "code",
   "execution_count": 14,
   "metadata": {
    "collapsed": false
   },
   "outputs": [
    {
     "name": "stdout",
     "output_type": "stream",
     "text": [
      "Working on iteration 10 with a-norm error 57.56106994311835\n",
      "Working on iteration 20 with a-norm error 14.925578965357452\n",
      "Working on iteration 30 with a-norm error 4.282352617771024\n",
      "Working on iteration 40 with a-norm error 1.114749491872051\n",
      "Working on iteration 50 with a-norm error 0.2541775307305235\n",
      "Working on iteration 60 with a-norm error 0.0696332423936379\n",
      "Working on iteration 70 with a-norm error 0.014494451374467135\n",
      "Working on iteration 80 with a-norm error 0.003085925812569422\n",
      "Working on iteration 90 with a-norm error 0.0006640952909330122\n",
      "Working on iteration 100 with a-norm error 0.00012024362283778763\n",
      "Working on iteration 110 with a-norm error 2.9149388412790004e-5\n",
      "Working on iteration 120 with a-norm error 6.777497601237892e-6\n",
      "Working on iteration 130 with a-norm error 2.0071354868418915e-6\n",
      "Working on iteration 140 with a-norm error 4.486447746695722e-7\n",
      "Working on iteration 150 with a-norm error 1.2566283525136805e-7\n",
      "Working on iteration 160 with a-norm error 3.279408597033108e-8\n",
      "Working on iteration 170 with a-norm error 8.665751749192214e-9\n",
      "Working on iteration 180 with a-norm error 2.3168895815839136e-9\n",
      "Working on iteration 190 with a-norm error 7.127891264514113e-10\n",
      "Working on iteration 200 with a-norm error 1.6578538348531292e-10\n",
      "Working on iteration 210 with a-norm error 6.104895353430251e-11\n",
      "Working on iteration 220 with a-norm error 1.7664897597859056e-11\n",
      "Working on iteration 230 with a-norm error 6.043545502908254e-12\n",
      "Working on iteration 240 with a-norm error 1.833611560654568e-12\n",
      "Working on iteration 250 with a-norm error 6.426298110118899e-13\n",
      "Working on iteration 260 with a-norm error 2.5312574658352705e-13\n",
      "Working on iteration 270 with a-norm error 1.1623894304678194e-13\n",
      "Working on iteration 280 with a-norm error 7.977503008054353e-14\n",
      "Working on iteration 290 with a-norm error 7.548017702610333e-14\n",
      "Working on iteration 300 with a-norm error 7.527679910260509e-14\n",
      "Working on iteration 310 with a-norm error 7.519147713049536e-14\n",
      "Working on iteration 320 with a-norm error 7.543440560047361e-14\n",
      "Working on iteration 330 with a-norm error 7.641160350207848e-14\n",
      "Working on iteration 340 with a-norm error 7.673283576033987e-14\n",
      "Working on iteration 350 with a-norm error 7.672040398666119e-14\n",
      "Working on iteration 360 with a-norm error 7.669394390181907e-14\n",
      "Working on iteration 370 with a-norm error 7.668469258688151e-14\n",
      "Working on iteration 380 with a-norm error 7.668666764621933e-14\n",
      "Working on iteration 390 with a-norm error 7.668771101706781e-14\n",
      "Working on iteration 400 with a-norm error 7.668898875117415e-14\n",
      "Working on iteration 410 with a-norm error 7.669238280022125e-14\n",
      "Working on iteration 420 with a-norm error 7.669973133566201e-14\n",
      "Working on iteration 430 with a-norm error 7.671100551452907e-14\n",
      "Working on iteration 440 with a-norm error 7.672379151254924e-14\n",
      "Working on iteration 450 with a-norm error 7.67396000110158e-14\n",
      "Working on iteration 460 with a-norm error 7.677456039456121e-14\n",
      "Working on iteration 470 with a-norm error 7.682423751111673e-14\n",
      "Working on iteration 480 with a-norm error 7.693980664829866e-14\n",
      "Working on iteration 490 with a-norm error 7.716106133683003e-14\n",
      "Working on iteration 500 with a-norm error 7.755483717467606e-14\n",
      "Working on iteration 510 with a-norm error 7.824137210789225e-14\n",
      "Working on iteration 520 with a-norm error 7.933298490245879e-14\n",
      "Working on iteration 530 with a-norm error 8.134635962822383e-14\n",
      "Working on iteration 540 with a-norm error 8.477376314991484e-14\n",
      "Working on iteration 550 with a-norm error 9.004327492073185e-14\n",
      "Working on iteration 560 with a-norm error 9.718859046489306e-14\n",
      "Working on iteration 570 with a-norm error 1.059601632055505e-13\n",
      "Working on iteration 580 with a-norm error 1.1672944959534834e-13\n",
      "Working on iteration 590 with a-norm error 1.3014476654129707e-13\n",
      "Working on iteration 600 with a-norm error 1.4795607787869618e-13\n",
      "Working on iteration 610 with a-norm error 1.690457520500582e-13\n",
      "Working on iteration 620 with a-norm error 1.91460703436847e-13\n",
      "Working on iteration 630 with a-norm error 2.143372319651395e-13\n",
      "Working on iteration 640 with a-norm error 2.381746874691429e-13\n",
      "Working on iteration 650 with a-norm error 2.63665304704274e-13\n",
      "Working on iteration 660 with a-norm error 2.91067388005148e-13\n",
      "Working on iteration 670 with a-norm error 3.207502839693711e-13\n",
      "Working on iteration 680 with a-norm error 3.51266349978889e-13\n",
      "Working on iteration 690 with a-norm error 3.8215270029848087e-13\n",
      "Working on iteration 700 with a-norm error 4.1360048429127715e-13\n",
      "Working on iteration 710 with a-norm error 4.3407493334334554e-13\n",
      "Working on iteration 720 with a-norm error 4.297676417148111e-13\n",
      "Working on iteration 730 with a-norm error 4.317179493727604e-13\n",
      "Working on iteration 740 with a-norm error 4.400643228331915e-13\n",
      "Working on iteration 750 with a-norm error 4.5138800055218276e-13\n",
      "Working on iteration 760 with a-norm error 4.682134059720707e-13\n",
      "Working on iteration 770 with a-norm error 4.920517519739339e-13\n",
      "Working on iteration 780 with a-norm error 5.188438199642019e-13\n",
      "Working on iteration 790 with a-norm error 5.463755573639911e-13\n",
      "Working on iteration 800 with a-norm error 5.742789696861482e-13\n",
      "Working on iteration 810 with a-norm error 6.010135381147475e-13\n",
      "Working on iteration 820 with a-norm error 6.270053378185319e-13\n",
      "Working on iteration 830 with a-norm error 6.534994045721292e-13\n",
      "Working on iteration 840 with a-norm error 6.808060292979412e-13\n",
      "Working on iteration 850 with a-norm error 7.079462307669162e-13\n",
      "Working on iteration 860 with a-norm error 7.357430818644284e-13\n",
      "Working on iteration 870 with a-norm error 7.642413971630357e-13\n",
      "Working on iteration 880 with a-norm error 7.921976018140295e-13\n",
      "Working on iteration 890 with a-norm error 8.198600473033632e-13\n",
      "Working on iteration 900 with a-norm error 8.479253917745446e-13\n",
      "Working on iteration 910 with a-norm error 8.768336720152062e-13\n",
      "Working on iteration 920 with a-norm error 9.060268306764696e-13\n",
      "Working on iteration 930 with a-norm error 9.35234972627088e-13\n",
      "Working on iteration 940 with a-norm error 9.643380470122293e-13\n",
      "Working on iteration 950 with a-norm error 9.876224664367862e-13\n",
      "Working on iteration 960 with a-norm error 9.971282998551158e-13\n",
      "Working on iteration 970 with a-norm error 1.0075041452160107e-12\n",
      "Working on iteration 980 with a-norm error 1.0208672777301073e-12\n",
      "Working on iteration 990 with a-norm error 1.0360390470264729e-12\n",
      "Working on iteration 1000 with a-norm error 1.053780024204617e-12\n",
      "PCG stopped after: 1000 iterations with relative error 1.0556611006445962e-12.\n",
      "  1.421525 seconds (14.11 M allocations: 405.944 MB, 5.38% gc time)\n"
     ]
    }
   ],
   "source": [
    "# a run on standard Float64 data types\n",
    "numIts = 1000;\n",
    "@time myx64,dbg = pcgV(la, b, F, x, maxits=numIts, verbose=true);\n",
    "norm(lap(a) * myx64 - b) / norm(b)\n",
    "insert!(dbg, 1, \"$(numIts) iterations\")\n",
    "insert!(dbg, 1, \"anorm = sqrt((x-truex)' * la * (x-truex)), err2_a = norm(la*x-b) / norm(b), err2_b = norm(x-truex)\")\n",
    "writeToFile(graphp * \"_log_julia_default.txt\", dbg)"
   ]
  },
  {
   "cell_type": "code",
   "execution_count": null,
   "metadata": {
    "collapsed": false
   },
   "outputs": [
    {
     "name": "stdout",
     "output_type": "stream",
     "text": [
      "Working on iteration 10 with a-norm error 57.56106994311832\n",
      "Working on iteration 20 with a-norm error 14.92556298755091\n",
      "Working on iteration 30 with a-norm error 3.7503027818648524\n",
      "Working on iteration 40 with a-norm error 0.849627323370002\n",
      "Working on iteration 50 with a-norm error 0.22259934897777614\n",
      "Working on iteration 60 with a-norm error 0.04707282359966492\n",
      "Working on iteration 70 with a-norm error 0.008816582422914073\n",
      "Working on iteration 80 with a-norm error 0.0018440143161407867\n",
      "Working on iteration 90 with a-norm error 0.00029196334717857084\n",
      "Working on iteration 100 with a-norm error 7.096039327234141e-5\n",
      "Working on iteration 110 with a-norm error 1.0728709853897605e-5\n",
      "Working on iteration 120 with a-norm error 2.3287725656859747e-6\n",
      "Working on iteration 130 with a-norm error 6.554384314489862e-7\n",
      "Working on iteration 140 with a-norm error 1.4654770570455712e-7\n",
      "Working on iteration 150 with a-norm error 3.199838404914416e-8\n",
      "Working on iteration 160 with a-norm error 7.410819256114437e-9\n",
      "Working on iteration 170 with a-norm error 1.8038057610659925e-9\n",
      "Working on iteration 180 with a-norm error 3.7206707305207795e-10\n",
      "Working on iteration 190 with a-norm error 9.951388115487663e-11\n",
      "Working on iteration 200 with a-norm error 2.4935765920086477e-11\n",
      "Working on iteration 210 with a-norm error 6.785113855032399e-12\n",
      "Working on iteration 220 with a-norm error 1.9249594492027857e-12\n"
     ]
    }
   ],
   "source": [
    "numIts = 200\n",
    "for hp in [64,128,256,512,1024]\n",
    "    set_bigfloat_precision(hp)\n",
    "    laHP = toHighPrecision(la; precision=hp)\n",
    "    treeHP = toHighPrecision(tree; precision=hp)\n",
    "    xHP = toHighPrecision(x; precision=hp);\n",
    "    bHP = toHighPrecision(b; precision=hp);\n",
    "    FHP = treeSolver(treeHP)\n",
    "    \n",
    "    @time myxHP,dbg = pcgV(laHP, bHP, FHP, xHP, maxits=numIts, verbose=true);\n",
    "    insert!(dbg, 1, \"$(numIts) iterations\")\n",
    "    insert!(dbg, 1, \"anorm = sqrt((x-truex)' * la * (x-truex)), err2_a = norm(la*x-b) / norm(b), err2_b = norm(x-truex)\")\n",
    "    writeToFile(graphp * \"_log_julia_$(hp).txt\", dbg)\n",
    "end"
   ]
  },
  {
   "cell_type": "code",
   "execution_count": null,
   "metadata": {
    "collapsed": true
   },
   "outputs": [],
   "source": []
  }
 ],
 "metadata": {
  "kernelspec": {
   "display_name": "Julia 0.4.6",
   "language": "julia",
   "name": "julia-0.4"
  },
  "language_info": {
   "file_extension": ".jl",
   "mimetype": "application/julia",
   "name": "julia",
   "version": "0.4.6"
  }
 },
 "nbformat": 4,
 "nbformat_minor": 0
}
