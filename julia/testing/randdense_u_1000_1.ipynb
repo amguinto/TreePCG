{
 "cells": [
  {
   "cell_type": "code",
   "execution_count": 1,
   "metadata": {
    "collapsed": false
   },
   "outputs": [
    {
     "data": {
      "text/plain": [
       "pcgWorker (generic function with 1 method)"
      ]
     },
     "execution_count": 1,
     "metadata": {},
     "output_type": "execute_result"
    }
   ],
   "source": [
    "include(\"../src/Julia.jl\")"
   ]
  },
  {
   "cell_type": "code",
   "execution_count": 2,
   "metadata": {
    "collapsed": false
   },
   "outputs": [
    {
     "data": {
      "text/plain": [
       "\"/Users/serbanstan/git/TreePCG/julia/testing\""
      ]
     },
     "execution_count": 2,
     "metadata": {},
     "output_type": "execute_result"
    }
   ],
   "source": [
    "pwd()"
   ]
  },
  {
   "cell_type": "code",
   "execution_count": 3,
   "metadata": {
    "collapsed": false
   },
   "outputs": [
    {
     "data": {
      "text/plain": [
       "\"../../graphs/randdense_u_1000_1/\""
      ]
     },
     "execution_count": 3,
     "metadata": {},
     "output_type": "execute_result"
    }
   ],
   "source": [
    "graphp = \"../../graphs/randdense_u_1000_1/\""
   ]
  },
  {
   "cell_type": "code",
   "execution_count": 4,
   "metadata": {
    "collapsed": false
   },
   "outputs": [],
   "source": [
    "a = readFromFile(graphp * \"graph.mtx\");"
   ]
  },
  {
   "cell_type": "code",
   "execution_count": 5,
   "metadata": {
    "collapsed": false
   },
   "outputs": [],
   "source": [
    "tree = []\n",
    "for i in 1:5\n",
    "    tr = readFromFile(graphp * \"tree$(i).mtx\");\n",
    "    push!(tree, tr);\n",
    "end"
   ]
  },
  {
   "cell_type": "code",
   "execution_count": 6,
   "metadata": {
    "collapsed": false
   },
   "outputs": [],
   "source": [
    "x = readFromFile(graphp * \"x.vec\");"
   ]
  },
  {
   "cell_type": "code",
   "execution_count": 7,
   "metadata": {
    "collapsed": false
   },
   "outputs": [],
   "source": [
    "la = lap(a);\n",
    "x = x - mean(x)\n",
    "b = la * x; b = b - mean(b);"
   ]
  },
  {
   "cell_type": "code",
   "execution_count": 8,
   "metadata": {
    "collapsed": false
   },
   "outputs": [
    {
     "name": "stdout",
     "output_type": "stream",
     "text": [
      "  0.659023 seconds (275.40 k allocations: 11.702 MB, 2.34% gc time)\n",
      "  0.498645 seconds (123.72 k allocations: 4.980 MB)\n",
      "  3.553850 seconds (3.15 M allocations: 95.011 MB, 2.17% gc time)\n",
      "Working on iteration 10 with a-norm error 2370.4413133900402\n",
      "Working on iteration 20 with a-norm error 1267.8490564041833\n",
      "Working on iteration 30 with a-norm error 716.2441489893472\n",
      "Working on iteration 40 with a-norm error 407.8763177339688\n",
      "Working on iteration 50 with a-norm error 189.7620280981778\n",
      "Working on iteration 60 with a-norm error 122.50175906019442\n",
      "Working on iteration 70 with a-norm error 89.90791638496037\n",
      "Working on iteration 80 with a-norm error 66.52248527622145\n",
      "Working on iteration 90 with a-norm error 45.90831661898145\n",
      "Working on iteration 100 with a-norm error 20.43113561973892\n",
      "Working on iteration 110 with a-norm error 9.828327730479726\n",
      "Working on iteration 120 with a-norm error 2.548524286068123\n",
      "Working on iteration 130 with a-norm error 0.8718044803547098\n",
      "Working on iteration 140 with a-norm error 0.3354818876643063\n",
      "Working on iteration 150 with a-norm error 0.11323695687623894\n",
      "Working on iteration 160 with a-norm error 0.03960762380201516\n",
      "Working on iteration 170 with a-norm error 0.015251682730184355\n",
      "Working on iteration 180 with a-norm error 0.006361162772953852\n",
      "Working on iteration 190 with a-norm error 0.0025893113704629814\n",
      "Working on iteration 200 with a-norm error 0.0009028712656957927\n",
      "PCG stopped after: 200 iterations with relative error 0.0008206335007024495.\n",
      "382.514212 seconds (849.95 M allocations: 21.144 GB, 28.90% gc time)\n",
      "Working on iteration 10 with a-norm error 2370.4413133900402\n",
      "Working on iteration 20 with a-norm error 1267.8490564041833\n",
      "Working on iteration 30 with a-norm error 716.2441489893472\n",
      "Working on iteration 40 with a-norm error 407.8763177339688\n",
      "Working on iteration 50 with a-norm error 189.76202809817647\n",
      "Working on iteration 60 with a-norm error 121.58054287355529\n",
      "Working on iteration 70 with a-norm error 81.51034364131114\n",
      "Working on iteration 80 with a-norm error 55.904596368755605\n",
      "Working on iteration 90 with a-norm error 21.270870576242284\n",
      "Working on iteration 100 with a-norm error 5.255002109534722\n",
      "Working on iteration 110 with a-norm error 1.0521157598859787\n",
      "Working on iteration 120 with a-norm error 0.31029201689669034\n",
      "Working on iteration 130 with a-norm error 0.07570650934739076\n",
      "Working on iteration 140 with a-norm error 0.01942638580306841\n",
      "Working on iteration 150 with a-norm error 0.005008350609473448\n",
      "Working on iteration 160 with a-norm error 0.0008239618195066474\n",
      "Working on iteration 170 with a-norm error 0.0002819219775272759\n",
      "Working on iteration 180 with a-norm error 7.643720847320426e-5\n",
      "Working on iteration 190 with a-norm error 2.4574577176133926e-5\n",
      "Working on iteration 200 with a-norm error 6.998360109533663e-6\n",
      "PCG stopped after: 200 iterations with relative error 6.323515231492923e-6.\n",
      "220.069582 seconds (849.67 M allocations: 23.241 GB, 27.77% gc time)\n",
      "Working on iteration 10 with a-norm error 2370.4413133900402\n",
      "Working on iteration 20 with a-norm error 1267.8490564041833\n",
      "Working on iteration 30 with a-norm error 716.2441489893472\n",
      "Working on iteration 40 with a-norm error 407.8763177339688\n",
      "Working on iteration 50 with a-norm error 189.76202809817647\n",
      "Working on iteration 60 with a-norm error 121.58054287355529\n",
      "Working on iteration 70 with a-norm error 81.51034364131114\n",
      "Working on iteration 80 with a-norm error 50.795346516563\n",
      "Working on iteration 90 with a-norm error 11.15739646134425\n",
      "Working on iteration 100 with a-norm error 0.4342818094858645\n",
      "Working on iteration 110 with a-norm error 0.06600440306979617\n",
      "Working on iteration 120 with a-norm error 0.011532276223067519\n",
      "Working on iteration 130 with a-norm error 0.0010984123768478895\n",
      "Working on iteration 140 with a-norm error 0.0002544757217188222\n",
      "Working on iteration 150 with a-norm error 3.737974482606474e-5\n",
      "Working on iteration 160 with a-norm error 7.5049057359392105e-6\n",
      "Working on iteration 170 with a-norm error 5.693651764676847e-7\n",
      "Working on iteration 180 with a-norm error 1.1023807511175068e-7\n",
      "Working on iteration 190 with a-norm error 1.9075502930054883e-8\n",
      "Working on iteration 200 with a-norm error 2.543774601134306e-9\n",
      "PCG stopped after: 200 iterations with relative error 2.5183685103846543e-9.\n",
      "190.585594 seconds (849.67 M allocations: 27.458 GB, 28.90% gc time)\n",
      "Working on iteration 10 with a-norm error 2370.4413133900402\n",
      "Working on iteration 20 with a-norm error 1267.8490564041833\n",
      "Working on iteration 30 with a-norm error 716.2441489893472\n",
      "Working on iteration 40 with a-norm error 407.8763177339688\n",
      "Working on iteration 50 with a-norm error 189.76202809817647\n",
      "Working on iteration 60 with a-norm error 121.58054287355529\n",
      "Working on iteration 70 with a-norm error 81.51034364131114\n",
      "Working on iteration 80 with a-norm error 50.795346516563\n",
      "Working on iteration 90 with a-norm error 11.15739646134425\n",
      "Working on iteration 100 with a-norm error 0.43427539276695454\n",
      "Working on iteration 110 with a-norm error 0.018399237745773015\n",
      "Working on iteration 120 with a-norm error 0.0003550384187835676\n",
      "Working on iteration 130 with a-norm error 1.3437908982205009e-5\n",
      "Working on iteration 140 with a-norm error 5.691010028946288e-7\n",
      "Working on iteration 150 with a-norm error 3.143568525169664e-8\n",
      "Working on iteration 160 with a-norm error 2.9879878354185212e-9\n",
      "Working on iteration 170 with a-norm error 2.488877566212851e-10\n",
      "Working on iteration 180 with a-norm error 3.823291857455369e-11\n",
      "Working on iteration 190 with a-norm error 7.833190616432617e-12\n",
      "Working on iteration 200 with a-norm error 5.294855734486195e-12\n",
      "PCG stopped after: 200 iterations with relative error 5.283332094312951e-12.\n",
      "228.493877 seconds (849.67 M allocations: 35.891 GB, 28.78% gc time)\n",
      "Working on iteration 10 with a-norm error 2370.4413133900402\n",
      "Working on iteration 20 with a-norm error 1267.8490564041833\n",
      "Working on iteration 30 with a-norm error 716.2441489893472\n",
      "Working on iteration 40 with a-norm error 407.8763177339688\n",
      "Working on iteration 50 with a-norm error 189.76202809817647\n",
      "Working on iteration 60 with a-norm error 121.58054287355529\n",
      "Working on iteration 70 with a-norm error 81.51034364131114\n",
      "Working on iteration 80 with a-norm error 50.795346516563\n",
      "Working on iteration 90 with a-norm error 11.15739646134425\n",
      "Working on iteration 100 with a-norm error 0.43427539276695454\n",
      "Working on iteration 110 with a-norm error 0.018399237745773015\n",
      "Working on iteration 120 with a-norm error 0.0003550384187835676\n",
      "Working on iteration 130 with a-norm error 1.3437908982205009e-5\n",
      "Working on iteration 140 with a-norm error 3.2901551149761363e-7\n",
      "Working on iteration 150 with a-norm error 5.171213402808535e-9\n",
      "Working on iteration 160 with a-norm error 7.098066549987969e-11\n",
      "Working on iteration 170 with a-norm error 5.530118740532317e-12\n",
      "Working on iteration 180 with a-norm error 5.2679337055306534e-12\n",
      "Working on iteration 190 with a-norm error 5.268150319680632e-12\n",
      "Working on iteration 200 with a-norm error 5.268151234415592e-12\n",
      "PCG stopped after: 200 iterations with relative error 5.268151196892333e-12.\n",
      "264.754384 seconds (849.67 M allocations: 52.759 GB, 27.29% gc time)\n",
      "  0.008286 seconds (10.11 k allocations: 710.969 KB)\n",
      "  0.001395 seconds (13.38 k allocations: 272.688 KB)\n",
      "  0.412802 seconds (2.70 M allocations: 75.287 MB, 4.90% gc time)\n",
      "Working on iteration 10 with a-norm error 8482.56555415047\n",
      "Working on iteration 20 with a-norm error 5452.8925106390125\n",
      "Working on iteration 30 with a-norm error 3427.223747094589\n",
      "Working on iteration 40 with a-norm error 1992.7411044467335\n",
      "Working on iteration 50 with a-norm error 1150.8431369796463\n",
      "Working on iteration 60 with a-norm error 779.5503490721675\n",
      "Working on iteration 70 with a-norm error 412.08739095134763\n",
      "Working on iteration 80 with a-norm error 253.3189519752033\n",
      "Working on iteration 90 with a-norm error 171.4271568691586\n",
      "Working on iteration 100 with a-norm error 100.64735982080825\n",
      "Working on iteration 110 with a-norm error 61.90164556166471\n",
      "Working on iteration 120 with a-norm error 28.895196824981944\n",
      "Working on iteration 130 with a-norm error 18.565787011037262\n",
      "Working on iteration 140 with a-norm error 11.364624859943117\n",
      "Working on iteration 150 with a-norm error 5.438142639487696\n",
      "Working on iteration 160 with a-norm error 3.239292810751589\n",
      "Working on iteration 170 with a-norm error 1.6556562158082102\n",
      "Working on iteration 180 with a-norm error 1.0376356157292492\n",
      "Working on iteration 190 with a-norm error 0.6122002692057062\n",
      "Working on iteration 200 with a-norm error 0.3319131807091036\n",
      "PCG stopped after: 200 iterations with relative error 0.3115093520097227.\n",
      "195.801462 seconds (849.68 M allocations: 21.132 GB, 28.59% gc time)\n",
      "Working on iteration 10 with a-norm error 8482.56555415047\n",
      "Working on iteration 20 with a-norm error 5186.5409929051\n",
      "Working on iteration 30 with a-norm error 2827.2365286263125\n",
      "Working on iteration 40 with a-norm error 1422.7828920580355\n",
      "Working on iteration 50 with a-norm error 688.2145391624812\n",
      "Working on iteration 60 with a-norm error 335.96548235006344\n",
      "Working on iteration 70 with a-norm error 183.75882381342555\n",
      "Working on iteration 80 with a-norm error 78.72743427862342\n",
      "Working on iteration 90 with a-norm error 35.74166883729429\n",
      "Working on iteration 100 with a-norm error 17.949821641638593\n",
      "Working on iteration 110 with a-norm error 8.193355308924462\n",
      "Working on iteration 120 with a-norm error 3.1329207222300255\n",
      "Working on iteration 130 with a-norm error 1.3002270073924824\n",
      "Working on iteration 140 with a-norm error 0.5163297445082229\n",
      "Working on iteration 150 with a-norm error 0.21457661463363895\n",
      "Working on iteration 160 with a-norm error 0.09415304402294138\n",
      "Working on iteration 170 with a-norm error 0.038008769480291874\n",
      "Working on iteration 180 with a-norm error 0.01933988794337886\n",
      "Working on iteration 190 with a-norm error 0.006032386499854349\n",
      "Working on iteration 200 with a-norm error 0.003089072448158931\n",
      "PCG stopped after: 200 iterations with relative error 0.0028030711214178826.\n",
      "201.485398 seconds (849.68 M allocations: 23.241 GB, 28.45% gc time)\n",
      "Working on iteration 10 with a-norm error 8482.56555415047\n",
      "Working on iteration 20 with a-norm error 5186.5409929051\n",
      "Working on iteration 30 with a-norm error 2614.980995941819\n",
      "Working on iteration 40 with a-norm error 1092.7360211828172\n",
      "Working on iteration 50 with a-norm error 460.55498608665295\n",
      "Working on iteration 60 with a-norm error 212.67707545202353\n",
      "Working on iteration 70 with a-norm error 77.84332717126564\n",
      "Working on iteration 80 with a-norm error 26.40631165269067\n",
      "Working on iteration 90 with a-norm error 7.976633720493277\n",
      "Working on iteration 100 with a-norm error 3.0087919417292945\n",
      "Working on iteration 110 with a-norm error 0.877498253388928\n",
      "Working on iteration 120 with a-norm error 0.23717493241849494\n",
      "Working on iteration 130 with a-norm error 0.06703654233477283\n",
      "Working on iteration 140 with a-norm error 0.01982070229106823\n",
      "Working on iteration 150 with a-norm error 0.006057022439535715\n",
      "Working on iteration 160 with a-norm error 0.001425747939068198\n",
      "Working on iteration 170 with a-norm error 0.00039664016182600206\n",
      "Working on iteration 180 with a-norm error 0.00012614020040594285\n",
      "Working on iteration 190 with a-norm error 4.029934943692115e-5\n",
      "Working on iteration 200 with a-norm error 1.2278877043432127e-5\n",
      "PCG stopped after: 200 iterations with relative error 1.0220191186901858e-5.\n",
      "217.870725 seconds (849.68 M allocations: 27.458 GB, 28.81% gc time)\n",
      "Working on iteration 10 with a-norm error 8482.56555415047\n",
      "Working on iteration 20 with a-norm error 5186.5409929051\n",
      "Working on iteration 30 with a-norm error 2614.980995941819\n",
      "Working on iteration 40 with a-norm error 1092.7360211826772\n",
      "Working on iteration 50 with a-norm error 417.00714698636097\n",
      "Working on iteration 60 with a-norm error 152.10081133331443\n",
      "Working on iteration 70 with a-norm error 43.96594749913598\n",
      "Working on iteration 80 with a-norm error 13.00307516488194\n",
      "Working on iteration 90 with a-norm error 3.1174604498266874\n",
      "Working on iteration 100 with a-norm error 0.6663199920263334\n",
      "Working on iteration 110 with a-norm error 0.1294672125971824\n",
      "Working on iteration 120 with a-norm error 0.02623557288781374\n",
      "Working on iteration 130 with a-norm error 0.0054321737712085425\n",
      "Working on iteration 140 with a-norm error 0.0011080723879559836\n",
      "Working on iteration 150 with a-norm error 0.0001654016230084083\n",
      "Working on iteration 160 with a-norm error 4.33204759390695e-5\n",
      "Working on iteration 170 with a-norm error 7.088203631014203e-6\n",
      "Working on iteration 180 with a-norm error 1.1576197903805217e-6\n",
      "Working on iteration 190 with a-norm error 1.6732317851206282e-7\n",
      "Working on iteration 200 with a-norm error 2.826424760861887e-8\n",
      "PCG stopped after: 200 iterations with relative error 2.1658444403179792e-8.\n",
      "252.479944 seconds (849.68 M allocations: 35.892 GB, 28.88% gc time)\n",
      "Working on iteration 10 with a-norm error 8482.56555415047\n",
      "Working on iteration 20 with a-norm error 5186.5409929051\n",
      "Working on iteration 30 with a-norm error 2614.980995941819\n",
      "Working on iteration 40 with a-norm error 1092.7360211826772\n",
      "Working on iteration 50 with a-norm error 417.00714698636097\n",
      "Working on iteration 60 with a-norm error 152.10081133331443\n",
      "Working on iteration 70 with a-norm error 43.965947499122976\n",
      "Working on iteration 80 with a-norm error 11.319243090725122\n",
      "Working on iteration 90 with a-norm error 2.2564649392860248\n",
      "Working on iteration 100 with a-norm error 0.39327827348220484\n",
      "Working on iteration 110 with a-norm error 0.05968919457650109\n",
      "Working on iteration 120 with a-norm error 0.0086328317101649\n",
      "Working on iteration 130 with a-norm error 0.0013642504167059178\n",
      "Working on iteration 140 with a-norm error 0.00017091012531152906\n",
      "Working on iteration 150 with a-norm error 2.225974098174074e-5\n",
      "Working on iteration 160 with a-norm error 3.1341663193007516e-6\n",
      "Working on iteration 170 with a-norm error 2.873108137470571e-7\n",
      "Working on iteration 180 with a-norm error 3.15594487596104e-8\n",
      "Working on iteration 190 with a-norm error 2.9261348669208703e-9\n",
      "Working on iteration 200 with a-norm error 2.366475680709698e-10\n",
      "PCG stopped after: 200 iterations with relative error 2.3314463538144e-10.\n",
      "265.379426 seconds (849.68 M allocations: 52.759 GB, 27.67% gc time)\n",
      "2430.952046 seconds (8.51 G allocations: 321.623 GB, 28.29% gc time)\n"
     ]
    }
   ],
   "source": [
    "numIts = 200;\n",
    "\n",
    "@time for i in 4:5\n",
    "    @time F = treeSolver(tree[i])\n",
    "    @time F(b);\n",
    "    \n",
    "    # a run on standard Float64 data types\n",
    "    @time myx64,dbg = pcgV(la, b, F, x, maxits=numIts, verbose=false);\n",
    "    norm(lap(a) * myx64 - b) / norm(b)\n",
    "    insert!(dbg, 1, \"$(numIts) iterations\")\n",
    "    insert!(dbg, 1, \"anorm = sqrt((x-truex)' * la * (x-truex)), err2_a = norm(la*x-b) / norm(b), err2_b = norm(x-truex)\")\n",
    "    writeToFile(graphp * \"_log_julia_tree$(i)_default.txt\", dbg)\n",
    "    \n",
    "    # now useing higer precision data types\n",
    "    for hp in [64,128,256,512,1024]\n",
    "        set_bigfloat_precision(hp)\n",
    "        laHP = toHighPrecision(la; precision=hp)\n",
    "        treeHP = toHighPrecision(tree[i]; precision=hp)\n",
    "        xHP = toHighPrecision(x; precision=hp);\n",
    "        bHP = toHighPrecision(b; precision=hp);\n",
    "        FHP = treeSolver(treeHP)\n",
    "\n",
    "        @time myxHP,dbg = pcgV(laHP, bHP, FHP, xHP, maxits=numIts, verbose=true);\n",
    "        insert!(dbg, 1, \"$(numIts) iterations\")\n",
    "        insert!(dbg, 1, \"anorm = sqrt((x-truex)' * la * (x-truex)), err2_a = norm(la*x-b) / norm(b), err2_b = norm(x-truex)\")\n",
    "        writeToFile(graphp * \"_log_julia_tree$(i)_$(hp).txt\", dbg)\n",
    "    end\n",
    "end"
   ]
  },
  {
   "cell_type": "code",
   "execution_count": null,
   "metadata": {
    "collapsed": true
   },
   "outputs": [],
   "source": []
  }
 ],
 "metadata": {
  "kernelspec": {
   "display_name": "Julia 0.4.6",
   "language": "julia",
   "name": "julia-0.4"
  },
  "language_info": {
   "file_extension": ".jl",
   "mimetype": "application/julia",
   "name": "julia",
   "version": "0.4.6"
  }
 },
 "nbformat": 4,
 "nbformat_minor": 0
}
