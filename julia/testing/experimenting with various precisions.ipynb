{
 "cells": [
  {
   "cell_type": "code",
   "execution_count": 1,
   "metadata": {
    "collapsed": false
   },
   "outputs": [
    {
     "data": {
      "text/plain": [
       "notFeasible (generic function with 1 method)"
      ]
     },
     "execution_count": 1,
     "metadata": {},
     "output_type": "execute_result"
    }
   ],
   "source": [
    "include(\"../src/Julia.jl\")"
   ]
  },
  {
   "cell_type": "code",
   "execution_count": 2,
   "metadata": {
    "collapsed": false
   },
   "outputs": [
    {
     "data": {
      "text/plain": [
       "\"/Users/serbanstan/git/TreePCG/julia/testing\""
      ]
     },
     "execution_count": 2,
     "metadata": {},
     "output_type": "execute_result"
    }
   ],
   "source": [
    "pwd()"
   ]
  },
  {
   "cell_type": "code",
   "execution_count": 11,
   "metadata": {
    "collapsed": false
   },
   "outputs": [
    {
     "data": {
      "text/plain": [
       "\"../../graphs/grid2_10000_iu1000/\""
      ]
     },
     "execution_count": 11,
     "metadata": {},
     "output_type": "execute_result"
    }
   ],
   "source": [
    "graphp = \"../../graphs/grid2_10000_iu1000/\""
   ]
  },
  {
   "cell_type": "code",
   "execution_count": 12,
   "metadata": {
    "collapsed": false
   },
   "outputs": [],
   "source": [
    "a = readFromFile(graphp * \"graph.mtx\");"
   ]
  },
  {
   "cell_type": "code",
   "execution_count": 13,
   "metadata": {
    "collapsed": false
   },
   "outputs": [],
   "source": [
    "tree = []\n",
    "for i in 1:5\n",
    "    tr = readFromFile(graphp * \"tree$(i).mtx\");\n",
    "    push!(tree, tr);\n",
    "end"
   ]
  },
  {
   "cell_type": "code",
   "execution_count": 14,
   "metadata": {
    "collapsed": false
   },
   "outputs": [],
   "source": [
    "x = readFromFile(graphp * \"x.vec\");"
   ]
  },
  {
   "cell_type": "code",
   "execution_count": 15,
   "metadata": {
    "collapsed": false
   },
   "outputs": [],
   "source": [
    "la = lap(a);\n",
    "x = x - mean(x)\n",
    "b = la * x; b = b - mean(b);"
   ]
  },
  {
   "cell_type": "code",
   "execution_count": 8,
   "metadata": {
    "collapsed": false
   },
   "outputs": [
    {
     "name": "stdout",
     "output_type": "stream",
     "text": [
      "  0.557644 seconds (365.44 k allocations: 17.987 MB, 1.82% gc time)\n",
      "  0.363881 seconds (267.56 k allocations: 7.724 MB, 3.42% gc time)\n",
      "  3.482927 seconds (32.06 M allocations: 838.949 MB, 3.98% gc time)\n",
      "Working on iteration 10 with a-norm error 12.37641840292608\n",
      "Working on iteration 20 with a-norm error 8.702863926513745\n",
      "Working on iteration 30 with a-norm error 6.498966486763297\n",
      "Working on iteration 40 with a-norm error 4.781488205905817\n",
      "Working on iteration 50 with a-norm error 3.3614823752636473\n",
      "Working on iteration 60 with a-norm error 2.5375696722686976\n",
      "Working on iteration 70 with a-norm error 1.8171358717843122\n",
      "Working on iteration 80 with a-norm error 1.3839839422717468\n",
      "Working on iteration 90 with a-norm error 0.9710079569224617\n",
      "Working on iteration 100 with a-norm error 0.7401053772081227\n",
      "Working on iteration 110 with a-norm error 0.5775430051652023\n",
      "Working on iteration 120 with a-norm error 0.42087044080437525\n",
      "Working on iteration 130 with a-norm error 0.31405974197795494\n",
      "Working on iteration 140 with a-norm error 0.2320348712183989\n",
      "Working on iteration 150 with a-norm error 0.16134532458544915\n",
      "Working on iteration 160 with a-norm error 0.12531869722222175\n",
      "Working on iteration 170 with a-norm error 0.09086661235508846\n",
      "Working on iteration 180 with a-norm error 0.0701949810043577\n",
      "Working on iteration 190 with a-norm error 0.051225366600905896\n",
      "Working on iteration 200 with a-norm error 0.04068617485635759\n",
      "PCG stopped after: 200 iterations with relative error 0.040414167081424306.\n",
      "182.115787 seconds (403.41 M allocations: 10.275 GB, 32.88% gc time)\n",
      "Working on iteration 10 with a-norm error 12.37641840292608\n",
      "Working on iteration 20 with a-norm error 8.692543594371267\n",
      "Working on iteration 30 with a-norm error 5.759261212827061\n",
      "Working on iteration 40 with a-norm error 3.96700966787853\n",
      "Working on iteration 50 with a-norm error 2.736049562452281\n",
      "Working on iteration 60 with a-norm error 1.8087174670450696\n",
      "Working on iteration 70 with a-norm error 1.1698805876386305\n",
      "Working on iteration 80 with a-norm error 0.8023418541818358\n",
      "Working on iteration 90 with a-norm error 0.5737667722935119\n",
      "Working on iteration 100 with a-norm error 0.34371731675991185\n",
      "Working on iteration 110 with a-norm error 0.23212984733698985\n",
      "Working on iteration 120 with a-norm error 0.1603399379751093\n",
      "Working on iteration 130 with a-norm error 0.10118000967175912\n",
      "Working on iteration 140 with a-norm error 0.07013960943843055\n",
      "Working on iteration 150 with a-norm error 0.04505809604709469\n",
      "Working on iteration 160 with a-norm error 0.0299260633571728\n",
      "Working on iteration 170 with a-norm error 0.01973017780879776\n",
      "Working on iteration 180 with a-norm error 0.01343289583240959\n",
      "Working on iteration 190 with a-norm error 0.00970906327616444\n",
      "Working on iteration 200 with a-norm error 0.006536929029712606\n",
      "PCG stopped after: 200 iterations with relative error 0.006373804280804991.\n",
      "188.035474 seconds (403.12 M allocations: 11.235 GB, 34.06% gc time)\n",
      "Working on iteration 10 with a-norm error 12.37641840292608\n",
      "Working on iteration 20 with a-norm error 8.692543594371267\n",
      "Working on iteration 30 with a-norm error 5.759261212768685\n",
      "Working on iteration 40 with a-norm error 3.5839612926866233\n",
      "Working on iteration 50 with a-norm error 2.1664387034959507\n",
      "Working on iteration 60 with a-norm error 1.4045935179684683\n",
      "Working on iteration 70 with a-norm error 0.8492245139360188\n",
      "Working on iteration 80 with a-norm error 0.5290012289671814\n",
      "Working on iteration 90 with a-norm error 0.286785748348765\n",
      "Working on iteration 100 with a-norm error 0.17247774611790428\n",
      "Working on iteration 110 with a-norm error 0.10623159598080227\n",
      "Working on iteration 120 with a-norm error 0.0596892633781988\n",
      "Working on iteration 130 with a-norm error 0.0355529546506235\n",
      "Working on iteration 140 with a-norm error 0.021070834818849898\n",
      "Working on iteration 150 with a-norm error 0.012319848365151565\n",
      "Working on iteration 160 with a-norm error 0.007156516428185034\n",
      "Working on iteration 170 with a-norm error 0.0042125206712035086\n",
      "Working on iteration 180 with a-norm error 0.0024943808515367587\n",
      "Working on iteration 190 with a-norm error 0.001670938602403394\n",
      "Working on iteration 200 with a-norm error 0.0010503957362110016\n",
      "PCG stopped after: 200 iterations with relative error 0.0009936958457677097.\n",
      "194.402289 seconds (403.12 M allocations: 13.180 GB, 33.71% gc time)\n",
      "Working on iteration 10 with a-norm error 12.37641840292608\n",
      "Working on iteration 20 with a-norm error 8.692543594371267\n",
      "Working on iteration 30 with a-norm error 5.759261212768685\n",
      "Working on iteration 40 with a-norm error 3.5839612926866233\n",
      "Working on iteration 50 with a-norm error 2.1664387034959502\n",
      "Working on iteration 60 with a-norm error 1.261565339299527\n",
      "Working on iteration 70 with a-norm error 0.7264397901671221\n",
      "Working on iteration 80 with a-norm error 0.37850850455824453\n",
      "Working on iteration 90 with a-norm error 0.2003209427915387\n",
      "Working on iteration 100 with a-norm error 0.10964056821518614\n",
      "Working on iteration 110 with a-norm error 0.057362461666892975\n",
      "Working on iteration 120 with a-norm error 0.03211973293087322\n",
      "Working on iteration 130 with a-norm error 0.015331177033865537\n",
      "Working on iteration 140 with a-norm error 0.007904249727182074\n",
      "Working on iteration 150 with a-norm error 0.004071010545339424\n",
      "Working on iteration 160 with a-norm error 0.0022411560702243066\n",
      "Working on iteration 170 with a-norm error 0.0012511798342179348\n",
      "Working on iteration 180 with a-norm error 0.0006983512134506966\n",
      "Working on iteration 190 with a-norm error 0.00036482900922470726\n",
      "Working on iteration 200 with a-norm error 0.0002164413094981516\n",
      "PCG stopped after: 200 iterations with relative error 0.00020077094643260044.\n",
      "225.842597 seconds (403.12 M allocations: 17.071 GB, 32.76% gc time)\n",
      "Working on iteration 10 with a-norm error 12.37641840292608\n",
      "Working on iteration 20 with a-norm error 8.692543594371267\n",
      "Working on iteration 30 with a-norm error 5.759261212768685\n",
      "Working on iteration 40 with a-norm error 3.5839612926866233\n",
      "Working on iteration 50 with a-norm error 2.1664387034959502\n",
      "Working on iteration 60 with a-norm error 1.261565339299527\n",
      "Working on iteration 70 with a-norm error 0.7264397901671221\n",
      "Working on iteration 80 with a-norm error 0.37850850455824453\n",
      "Working on iteration 90 with a-norm error 0.19046642751555243\n",
      "Working on iteration 100 with a-norm error 0.0950895674710581\n",
      "Working on iteration 110 with a-norm error 0.04615183771145374\n",
      "Working on iteration 120 with a-norm error 0.022417727705021272\n",
      "Working on iteration 130 with a-norm error 0.010709776579734012\n",
      "Working on iteration 140 with a-norm error 0.005105876861968602\n",
      "Working on iteration 150 with a-norm error 0.002465639796722298\n",
      "Working on iteration 160 with a-norm error 0.0012804434413216331\n",
      "Working on iteration 170 with a-norm error 0.0006704428653222695\n",
      "Working on iteration 180 with a-norm error 0.00034669765402577834\n",
      "Working on iteration 190 with a-norm error 0.00016877455723975237\n",
      "Working on iteration 200 with a-norm error 9.575957955272657e-5\n",
      "PCG stopped after: 200 iterations with relative error 8.938070828918253e-5.\n",
      "258.729477 seconds (403.12 M allocations: 24.851 GB, 30.77% gc time)\n",
      "  0.131946 seconds (100.15 k allocations: 6.982 MB, 39.92% gc time)\n",
      "  0.013321 seconds (157.40 k allocations: 3.013 MB)\n",
      "  2.839709 seconds (31.65 M allocations: 819.786 MB, 16.04% gc time)\n",
      "Working on iteration 10 with a-norm error 11.972889831527395\n",
      "Working on iteration 20 with a-norm error 7.894573216232251\n",
      "Working on iteration 30 with a-norm error 5.411103302497017\n",
      "Working on iteration 40 with a-norm error 3.835428401000017\n",
      "Working on iteration 50 with a-norm error 2.5183822729718974\n",
      "Working on iteration 60 with a-norm error 1.6628037319820652\n",
      "Working on iteration 70 with a-norm error 1.1190279992744636\n",
      "Working on iteration 80 with a-norm error 0.7636347599443732\n",
      "Working on iteration 90 with a-norm error 0.486067658267668\n",
      "Working on iteration 100 with a-norm error 0.3316325203682979\n",
      "Working on iteration 110 with a-norm error 0.22841724392700172\n",
      "Working on iteration 120 with a-norm error 0.15336305824268973\n",
      "Working on iteration 130 with a-norm error 0.1042443590620366\n",
      "Working on iteration 140 with a-norm error 0.06946687145267362\n",
      "Working on iteration 150 with a-norm error 0.04924169755384154\n",
      "Working on iteration 160 with a-norm error 0.03307323795375139\n",
      "Working on iteration 170 with a-norm error 0.022265124652325934\n",
      "Working on iteration 180 with a-norm error 0.01698126434862632\n",
      "Working on iteration 190 with a-norm error 0.011302131230419987\n",
      "Working on iteration 200 with a-norm error 0.0076867589533569005\n",
      "PCG stopped after: 200 iterations with relative error 0.007193820971070637.\n",
      "181.869560 seconds (403.17 M allocations: 10.263 GB, 33.44% gc time)\n",
      "Working on iteration 10 with a-norm error 11.972889831527395\n",
      "Working on iteration 20 with a-norm error 7.556409418400272\n",
      "Working on iteration 30 with a-norm error 4.944670715525432\n",
      "Working on iteration 40 with a-norm error 2.953265058075487\n",
      "Working on iteration 50 with a-norm error 1.8094919624621446\n",
      "Working on iteration 60 with a-norm error 1.0533834432039866\n",
      "Working on iteration 70 with a-norm error 0.628885772684722\n",
      "Working on iteration 80 with a-norm error 0.3434401372813727\n",
      "Working on iteration 90 with a-norm error 0.21374181569018721\n",
      "Working on iteration 100 with a-norm error 0.12392671455602261\n",
      "Working on iteration 110 with a-norm error 0.07819952874493746\n",
      "Working on iteration 120 with a-norm error 0.04243670007613765\n",
      "Working on iteration 130 with a-norm error 0.02683917139865897\n",
      "Working on iteration 140 with a-norm error 0.014994909096456012\n",
      "Working on iteration 150 with a-norm error 0.009529742398863438\n",
      "Working on iteration 160 with a-norm error 0.006244270442072166\n",
      "Working on iteration 170 with a-norm error 0.00391461573949258\n",
      "Working on iteration 180 with a-norm error 0.002656569552749124\n",
      "Working on iteration 190 with a-norm error 0.0015867614729348826\n",
      "Working on iteration 200 with a-norm error 0.0010179283744698546\n",
      "PCG stopped after: 200 iterations with relative error 0.0009600662736309883.\n",
      "184.023844 seconds (403.17 M allocations: 11.236 GB, 34.26% gc time)\n",
      "Working on iteration 10 with a-norm error 11.972889831527395\n",
      "Working on iteration 20 with a-norm error 7.556409418400272\n",
      "Working on iteration 30 with a-norm error 4.650230760180333\n",
      "Working on iteration 40 with a-norm error 2.607274223774969\n",
      "Working on iteration 50 with a-norm error 1.4772207035601133\n",
      "Working on iteration 60 with a-norm error 0.7460936317972257\n",
      "Working on iteration 70 with a-norm error 0.41253374147867805\n",
      "Working on iteration 80 with a-norm error 0.22336106967173203\n",
      "Working on iteration 90 with a-norm error 0.10529370843539196\n",
      "Working on iteration 100 with a-norm error 0.04838878368180603\n",
      "Working on iteration 110 with a-norm error 0.025379199115892606\n",
      "Working on iteration 120 with a-norm error 0.013532180511919652\n",
      "Working on iteration 130 with a-norm error 0.0075668781044217395\n",
      "Working on iteration 140 with a-norm error 0.004370916089851963\n",
      "Working on iteration 150 with a-norm error 0.0024646555069870488\n",
      "Working on iteration 160 with a-norm error 0.0013943983016983662\n",
      "Working on iteration 170 with a-norm error 0.0007421636862419113\n",
      "Working on iteration 180 with a-norm error 0.0004635457551842047\n",
      "Working on iteration 190 with a-norm error 0.0002675776283012702\n",
      "Working on iteration 200 with a-norm error 0.00015712280879523873\n",
      "PCG stopped after: 200 iterations with relative error 0.0001553655069823915.\n",
      "187.333168 seconds (403.17 M allocations: 13.181 GB, 33.80% gc time)\n",
      "Working on iteration 10 with a-norm error 11.972889831527395\n",
      "Working on iteration 20 with a-norm error 7.556409418400272\n",
      "Working on iteration 30 with a-norm error 4.650230760180333\n",
      "Working on iteration 40 with a-norm error 2.607274223774969\n",
      "Working on iteration 50 with a-norm error 1.4026778656691237\n",
      "Working on iteration 60 with a-norm error 0.6880494766100472\n",
      "Working on iteration 70 with a-norm error 0.33589622859530754\n",
      "Working on iteration 80 with a-norm error 0.1600775482849332\n",
      "Working on iteration 90 with a-norm error 0.0689101791018594\n",
      "Working on iteration 100 with a-norm error 0.02977605892354996\n",
      "Working on iteration 110 with a-norm error 0.014049737127016503\n",
      "Working on iteration 120 with a-norm error 0.006856959467249389\n",
      "Working on iteration 130 with a-norm error 0.003581675555061491\n",
      "Working on iteration 140 with a-norm error 0.0017063031700241596\n",
      "Working on iteration 150 with a-norm error 0.0008278754556343922\n",
      "Working on iteration 160 with a-norm error 0.00039603906270032843\n",
      "Working on iteration 170 with a-norm error 0.00022238737056706523\n",
      "Working on iteration 180 with a-norm error 0.00011794815136222372\n",
      "Working on iteration 190 with a-norm error 6.471192634951387e-5\n",
      "Working on iteration 200 with a-norm error 3.525359239298161e-5\n",
      "PCG stopped after: 200 iterations with relative error 3.3560279784325344e-5.\n",
      "208.712250 seconds (403.17 M allocations: 17.072 GB, 32.75% gc time)\n",
      "Working on iteration 10 with a-norm error 11.972889831527395\n",
      "Working on iteration 20 with a-norm error 7.556409418400272\n",
      "Working on iteration 30 with a-norm error 4.650230760180333\n",
      "Working on iteration 40 with a-norm error 2.607274223774969\n",
      "Working on iteration 50 with a-norm error 1.4026778656691237\n",
      "Working on iteration 60 with a-norm error 0.6880494766100472\n",
      "Working on iteration 70 with a-norm error 0.33589622859530754\n",
      "Working on iteration 80 with a-norm error 0.1471570111704024\n",
      "Working on iteration 90 with a-norm error 0.06359165044525758\n",
      "Working on iteration 100 with a-norm error 0.027134508976229724\n",
      "Working on iteration 110 with a-norm error 0.011983574312387016\n",
      "Working on iteration 120 with a-norm error 0.00547653889868097\n",
      "Working on iteration 130 with a-norm error 0.002400353469187314\n",
      "Working on iteration 140 with a-norm error 0.0011611801679556372\n",
      "Working on iteration 150 with a-norm error 0.0005489113049548844\n",
      "Working on iteration 160 with a-norm error 0.00025829209727643097\n",
      "Working on iteration 170 with a-norm error 0.00012330945981542157\n",
      "Working on iteration 180 with a-norm error 6.202626235716016e-5\n",
      "Working on iteration 190 with a-norm error 2.525029232535172e-5\n",
      "Working on iteration 200 with a-norm error 9.90747517717016e-6\n",
      "PCG stopped after: 200 iterations with relative error 8.91031769976792e-6.\n",
      "277.251961 seconds (403.17 M allocations: 24.852 GB, 31.53% gc time)\n",
      "2101.200981 seconds (4.10 G allocations: 155.230 GB, 32.72% gc time)\n"
     ]
    }
   ],
   "source": [
    "numIts = 200;\n",
    "\n",
    "@time for i in 4:5\n",
    "    @time F = treeSolver(tree[i])\n",
    "    @time F(b);\n",
    "    \n",
    "    # a run on standard Float64 data types\n",
    "    @time myx64,dbg = pcgV(la, b, F, x, maxits=numIts, verbose=false);\n",
    "    norm(lap(a) * myx64 - b) / norm(b)\n",
    "    \n",
    "    # now useing higer precision data types\n",
    "    for hp in [64,128,256,512,1024]\n",
    "        set_bigfloat_precision(hp)\n",
    "        laHP = toHighPrecision(la; precision=hp)\n",
    "        treeHP = toHighPrecision(tree[i]; precision=hp)\n",
    "        xHP = toHighPrecision(x; precision=hp);\n",
    "        bHP = toHighPrecision(b; precision=hp);\n",
    "        FHP = treeSolver(treeHP)\n",
    "\n",
    "        @time myxHP,dbg = pcgV(laHP, bHP, FHP, xHP, maxits=numIts, verbose=true);\n",
    "    end\n",
    "end"
   ]
  },
  {
   "cell_type": "code",
   "execution_count": null,
   "metadata": {
    "collapsed": true
   },
   "outputs": [],
   "source": []
  },
  {
   "cell_type": "code",
   "execution_count": null,
   "metadata": {
    "collapsed": true
   },
   "outputs": [],
   "source": []
  }
 ],
 "metadata": {
  "anaconda-cloud": {},
  "kernelspec": {
   "display_name": "Julia 0.4.6",
   "language": "julia",
   "name": "julia-0.4"
  },
  "language_info": {
   "file_extension": ".jl",
   "mimetype": "application/julia",
   "name": "julia",
   "version": "0.4.6"
  }
 },
 "nbformat": 4,
 "nbformat_minor": 0
}
