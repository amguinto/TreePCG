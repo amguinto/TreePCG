{
 "cells": [
  {
   "cell_type": "code",
   "execution_count": 1,
   "metadata": {
    "collapsed": false
   },
   "outputs": [
    {
     "name": "stderr",
     "output_type": "stream",
     "text": [
      "objc[10060]: Class TKApplication is implemented in both /Users/serbanstan/anaconda/lib/libtk8.5.dylib and /System/Library/Frameworks/Tk.framework/Versions/8.5/Tk. One of the two will be used. Which one is undefined.\n",
      "objc[10060]: Class TKMenu is implemented in both /Users/serbanstan/anaconda/lib/libtk8.5.dylib and /System/Library/Frameworks/Tk.framework/Versions/8.5/Tk. One of the two will be used. Which one is undefined.\n",
      "objc[10060]: Class TKContentView is implemented in both /Users/serbanstan/anaconda/lib/libtk8.5.dylib and /System/Library/Frameworks/Tk.framework/Versions/8.5/Tk. One of the two will be used. Which one is undefined.\n",
      "objc[10060]: Class TKWindow is implemented in both /Users/serbanstan/anaconda/lib/libtk8.5.dylib and /System/Library/Frameworks/Tk.framework/Versions/8.5/Tk. One of the two will be used. Which one is undefined.\n"
     ]
    },
    {
     "data": {
      "text/plain": [
       "pcgWorker (generic function with 1 method)"
      ]
     },
     "execution_count": 1,
     "metadata": {},
     "output_type": "execute_result"
    }
   ],
   "source": [
    "include(\"../src/Julia.jl\")"
   ]
  },
  {
   "cell_type": "code",
   "execution_count": 2,
   "metadata": {
    "collapsed": false
   },
   "outputs": [
    {
     "data": {
      "text/plain": [
       "\"/Users/serbanstan/git/TreePCG/julia/testing\""
      ]
     },
     "execution_count": 2,
     "metadata": {},
     "output_type": "execute_result"
    }
   ],
   "source": [
    "pwd()"
   ]
  },
  {
   "cell_type": "code",
   "execution_count": 3,
   "metadata": {
    "collapsed": false
   },
   "outputs": [
    {
     "data": {
      "text/plain": [
       "\"../../graphs/se_iu_3/\""
      ]
     },
     "execution_count": 3,
     "metadata": {},
     "output_type": "execute_result"
    }
   ],
   "source": [
    "graphp = \"../../graphs/se_iu_3/\""
   ]
  },
  {
   "cell_type": "code",
   "execution_count": 4,
   "metadata": {
    "collapsed": false
   },
   "outputs": [],
   "source": [
    "a = readFromFile(graphp * \"graph.mtx\");"
   ]
  },
  {
   "cell_type": "code",
   "execution_count": 5,
   "metadata": {
    "collapsed": false
   },
   "outputs": [],
   "source": [
    "tree = []\n",
    "for i in 1:3\n",
    "    tr = readFromFile(graphp * \"tree$(i).mtx\");\n",
    "    push!(tree, tr);\n",
    "end"
   ]
  },
  {
   "cell_type": "code",
   "execution_count": 6,
   "metadata": {
    "collapsed": false
   },
   "outputs": [],
   "source": [
    "x = readFromFile(graphp * \"x.vec\");"
   ]
  },
  {
   "cell_type": "code",
   "execution_count": 7,
   "metadata": {
    "collapsed": false
   },
   "outputs": [],
   "source": [
    "la = lap(a);\n",
    "x = x - mean(x)\n",
    "b = la * x; b = b - mean(b);"
   ]
  },
  {
   "cell_type": "code",
   "execution_count": 8,
   "metadata": {
    "collapsed": false
   },
   "outputs": [
    {
     "name": "stdout",
     "output_type": "stream",
     "text": [
      "  1.597481 seconds (275.03 k allocations: 11.676 MB)\n",
      "  1.259557 seconds (123.84 k allocations: 4.983 MB)\n",
      "  6.071613 seconds (3.17 M allocations: 95.392 MB, 12.17% gc time)\n",
      "Working on iteration 10 with a-norm error 14.463422884055648\n",
      "Working on iteration 20 with a-norm error 6.180848955419298\n",
      "Working on iteration 30 with a-norm error 2.3201961963091904\n",
      "Working on iteration 40 with a-norm error 0.7196443897241768\n",
      "Working on iteration 50 with a-norm error 0.25634962698848657\n",
      "Working on iteration 60 with a-norm error 0.09489185757929829\n",
      "Working on iteration 70 with a-norm error 0.03445782959523838\n",
      "Working on iteration 80 with a-norm error 0.01262241034290827\n",
      "Working on iteration 90 with a-norm error 0.0033769160170580063\n",
      "Working on iteration 100 with a-norm error 0.001270034448019052\n",
      "Working on iteration 110 with a-norm error 0.00045896722665694214\n",
      "Working on iteration 120 with a-norm error 0.0001274412493270626\n",
      "Working on iteration 130 with a-norm error 3.954522656475639e-5\n",
      "Working on iteration 140 with a-norm error 1.5011435044826873e-5\n",
      "Working on iteration 150 with a-norm error 5.1280233270737786e-6\n",
      "Working on iteration 160 with a-norm error 1.3779707764569756e-6\n",
      "Working on iteration 170 with a-norm error 5.530788953965343e-7\n",
      "Working on iteration 180 with a-norm error 2.149378234880502e-7\n",
      "Working on iteration 190 with a-norm error 6.610102845467789e-8\n",
      "Working on iteration 200 with a-norm error 2.656616812938705e-8\n",
      "PCG stopped after: 200 iterations with relative error 2.2385738064068436e-8.\n",
      "245.880137 seconds (206.94 M allocations: 5.174 GB, 27.57% gc time)\n",
      "Working on iteration 10 with a-norm error 14.463422884055648\n",
      "Working on iteration 20 with a-norm error 6.177053919179839\n",
      "Working on iteration 30 with a-norm error 1.580946301528231\n",
      "Working on iteration 40 with a-norm error 0.4113788989100174\n",
      "Working on iteration 50 with a-norm error 0.11819756237980089\n",
      "Working on iteration 60 with a-norm error 0.03566513409967119\n",
      "Working on iteration 70 with a-norm error 0.007922402416068883\n",
      "Working on iteration 80 with a-norm error 0.0023841068826142282\n",
      "Working on iteration 90 with a-norm error 0.000479268479391555\n",
      "Working on iteration 100 with a-norm error 0.00010645384861901975\n",
      "Working on iteration 110 with a-norm error 2.633819344007347e-5\n",
      "Working on iteration 120 with a-norm error 4.906360664999925e-6\n",
      "Working on iteration 130 with a-norm error 1.376957810626494e-6\n",
      "Working on iteration 140 with a-norm error 2.987290843847341e-7\n",
      "Working on iteration 150 with a-norm error 5.7005799433210885e-8\n",
      "Working on iteration 160 with a-norm error 1.2811329202573e-8\n",
      "Working on iteration 170 with a-norm error 3.162527315175801e-9\n",
      "Working on iteration 180 with a-norm error 9.32751181525647e-10\n",
      "Working on iteration 190 with a-norm error 1.603820103278521e-10\n",
      "Working on iteration 200 with a-norm error 4.3281914486662535e-11\n",
      "PCG stopped after: 200 iterations with relative error 3.8522818146447013e-11.\n",
      "135.570448 seconds (206.65 M allocations: 5.674 GB, 27.41% gc time)\n",
      "Working on iteration 10 with a-norm error 14.463422884055648\n",
      "Working on iteration 20 with a-norm error 6.177053919179839\n",
      "Working on iteration 30 with a-norm error 1.5809462971138082\n",
      "Working on iteration 40 with a-norm error 0.3594062301253706\n",
      "Working on iteration 50 with a-norm error 0.07346461411389602\n",
      "Working on iteration 60 with a-norm error 0.012939289251283856\n",
      "Working on iteration 70 with a-norm error 0.001917678165228577\n",
      "Working on iteration 80 with a-norm error 0.00025624326817625943\n",
      "Working on iteration 90 with a-norm error 2.7626749523030802e-5\n",
      "Working on iteration 100 with a-norm error 2.748839355206176e-6\n",
      "Working on iteration 110 with a-norm error 2.1884811249798736e-7\n",
      "Working on iteration 120 with a-norm error 1.6860004501794442e-8\n",
      "Working on iteration 130 with a-norm error 1.2229363532641767e-9\n",
      "Working on iteration 140 with a-norm error 5.983040820373606e-11\n",
      "Working on iteration 150 with a-norm error 3.10012343521627e-12\n",
      "Working on iteration 160 with a-norm error 1.695213889511626e-13\n",
      "Working on iteration 170 with a-norm error 9.68506652297405e-15\n",
      "Working on iteration 180 with a-norm error 7.19821291407188e-15\n",
      "Working on iteration 190 with a-norm error 7.184738110154328e-15\n",
      "Working on iteration 200 with a-norm error 7.184951616392388e-15\n",
      "PCG stopped after: 200 iterations with relative error 7.18495123887112e-15.\n",
      "212.835523 seconds (206.65 M allocations: 12.834 GB, 29.78% gc time)\n",
      "  0.023568 seconds (10.11 k allocations: 710.438 KB)\n",
      "  0.007418 seconds (13.43 k allocations: 273.438 KB)\n",
      "  0.997330 seconds (2.71 M allocations: 75.434 MB, 15.79% gc time)\n",
      "Working on iteration 10 with a-norm error 16.70764932372622\n",
      "Working on iteration 20 with a-norm error 13.966814798219229\n",
      "Working on iteration 30 with a-norm error 11.803439920645767\n",
      "Working on iteration 40 with a-norm error 9.433265028496054\n",
      "Working on iteration 50 with a-norm error 7.117494900534697\n",
      "Working on iteration 60 with a-norm error 5.4937006516073925\n",
      "Working on iteration 70 with a-norm error 3.8087122157525037\n",
      "Working on iteration 80 with a-norm error 2.822766079414413\n",
      "Working on iteration 90 with a-norm error 2.025025674244632\n",
      "Working on iteration 100 with a-norm error 1.4516163380163938\n",
      "Working on iteration 110 with a-norm error 1.0975683041955655\n",
      "Working on iteration 120 with a-norm error 0.7659468471944211\n",
      "Working on iteration 130 with a-norm error 0.5887306003682503\n",
      "Working on iteration 140 with a-norm error 0.40442266245577496\n",
      "Working on iteration 150 with a-norm error 0.3085957203370715\n",
      "Working on iteration 160 with a-norm error 0.2120056472144824\n",
      "Working on iteration 170 with a-norm error 0.1563986655958273\n",
      "Working on iteration 180 with a-norm error 0.1096324429569638\n",
      "Working on iteration 190 with a-norm error 0.07828707163978485\n",
      "Working on iteration 200 with a-norm error 0.05501891995744188\n",
      "PCG stopped after: 200 iterations with relative error 0.05258710414210708.\n",
      "134.075038 seconds (206.65 M allocations: 5.162 GB, 27.99% gc time)\n",
      "Working on iteration 10 with a-norm error 16.70764932372622\n",
      "Working on iteration 20 with a-norm error 13.96681417055493\n",
      "Working on iteration 30 with a-norm error 11.186167202091971\n",
      "Working on iteration 40 with a-norm error 8.219643163677313\n",
      "Working on iteration 50 with a-norm error 6.192918317871685\n",
      "Working on iteration 60 with a-norm error 3.9472856523383184\n",
      "Working on iteration 70 with a-norm error 2.599462703543747\n",
      "Working on iteration 80 with a-norm error 1.7680033314731447\n",
      "Working on iteration 90 with a-norm error 1.1799038583732608\n",
      "Working on iteration 100 with a-norm error 0.6970416976451376\n",
      "Working on iteration 110 with a-norm error 0.4784010513582993\n",
      "Working on iteration 120 with a-norm error 0.34075178280381463\n",
      "Working on iteration 130 with a-norm error 0.19231368523767686\n",
      "Working on iteration 140 with a-norm error 0.1254560700376689\n",
      "Working on iteration 150 with a-norm error 0.0809420518892218\n",
      "Working on iteration 160 with a-norm error 0.053670241301337226\n",
      "Working on iteration 170 with a-norm error 0.03551387375868894\n",
      "Working on iteration 180 with a-norm error 0.01966635409575981\n",
      "Working on iteration 190 with a-norm error 0.013277213976292463\n",
      "Working on iteration 200 with a-norm error 0.008135571750990181\n",
      "PCG stopped after: 200 iterations with relative error 0.007910323229082963.\n",
      "143.932627 seconds (206.65 M allocations: 5.674 GB, 27.80% gc time)\n",
      "Working on iteration 10 with a-norm error 16.70764932372622\n",
      "Working on iteration 20 with a-norm error 13.96681417055493\n",
      "Working on iteration 30 with a-norm error 11.186167202091841\n",
      "Working on iteration 40 with a-norm error 7.890556885803497\n",
      "Working on iteration 50 with a-norm error 5.2017007794569485\n",
      "Working on iteration 60 with a-norm error 2.95968113605927\n",
      "Working on iteration 70 with a-norm error 1.7440123560889365\n",
      "Working on iteration 80 with a-norm error 0.9494132276983159\n",
      "Working on iteration 90 with a-norm error 0.48609527782142997\n",
      "Working on iteration 100 with a-norm error 0.23728395975979846\n",
      "Working on iteration 110 with a-norm error 0.11211859407110193\n",
      "Working on iteration 120 with a-norm error 0.049885757496152455\n",
      "Working on iteration 130 with a-norm error 0.020636504840688234\n",
      "Working on iteration 140 with a-norm error 0.00837073251630367\n",
      "Working on iteration 150 with a-norm error 0.003226716036947011\n",
      "Working on iteration 160 with a-norm error 0.0013127315784186087\n",
      "Working on iteration 170 with a-norm error 0.0004712818924674115\n",
      "Working on iteration 180 with a-norm error 0.00017535413137020566\n",
      "Working on iteration 190 with a-norm error 6.555503978278673e-5\n",
      "Working on iteration 200 with a-norm error 2.2193533482952874e-5\n",
      "PCG stopped after: 200 iterations with relative error 1.9563908032989117e-5.\n",
      "288.053667 seconds (206.65 M allocations: 12.834 GB, 32.96% gc time)\n",
      "  0.033319 seconds (10.11 k allocations: 710.969 KB)\n",
      "  0.001480 seconds (13.42 k allocations: 273.406 KB)\n",
      "  0.913785 seconds (2.71 M allocations: 75.428 MB, 18.11% gc time)\n",
      "Working on iteration 10 with a-norm error 17.96300076446232\n",
      "Working on iteration 20 with a-norm error 15.975992751829764\n",
      "Working on iteration 30 with a-norm error 14.06380257034945\n",
      "Working on iteration 40 with a-norm error 12.142482596757835\n",
      "Working on iteration 50 with a-norm error 10.02488934708203\n",
      "Working on iteration 60 with a-norm error 8.143171791047703\n",
      "Working on iteration 70 with a-norm error 6.383263925897065\n",
      "Working on iteration 80 with a-norm error 4.976979374464964\n",
      "Working on iteration 90 with a-norm error 4.050196423779078\n",
      "Working on iteration 100 with a-norm error 2.869060647613684\n",
      "Working on iteration 110 with a-norm error 2.17490628924183\n",
      "Working on iteration 120 with a-norm error 1.6559989171160725\n",
      "Working on iteration 130 with a-norm error 1.3403408948738003\n",
      "Working on iteration 140 with a-norm error 1.0420648980537124\n",
      "Working on iteration 150 with a-norm error 0.8337307336944623\n",
      "Working on iteration 160 with a-norm error 0.6329725354470398\n",
      "Working on iteration 170 with a-norm error 0.4608664514580256\n",
      "Working on iteration 180 with a-norm error 0.37056470795626756\n",
      "Working on iteration 190 with a-norm error 0.2816226868938101\n",
      "Working on iteration 200 with a-norm error 0.23293850472391595\n",
      "PCG stopped after: 200 iterations with relative error 0.22294367847982935.\n",
      "266.520560 seconds (206.65 M allocations: 5.162 GB, 25.92% gc time)\n",
      "Working on iteration 10 with a-norm error 17.96300076446232\n",
      "Working on iteration 20 with a-norm error 15.762406384140347\n",
      "Working on iteration 30 with a-norm error 13.177115924382477\n",
      "Working on iteration 40 with a-norm error 10.538958987323692\n",
      "Working on iteration 50 with a-norm error 7.908278648722212\n",
      "Working on iteration 60 with a-norm error 5.740679443554436\n",
      "Working on iteration 70 with a-norm error 4.3297297698488215\n",
      "Working on iteration 80 with a-norm error 2.689627497744625\n",
      "Working on iteration 90 with a-norm error 1.8924802817184703\n",
      "Working on iteration 100 with a-norm error 1.3459494404747991\n",
      "Working on iteration 110 with a-norm error 0.867990327619565\n",
      "Working on iteration 120 with a-norm error 0.5560356301750768\n",
      "Working on iteration 130 with a-norm error 0.40853784358342915\n",
      "Working on iteration 140 with a-norm error 0.27254526294086157\n",
      "Working on iteration 150 with a-norm error 0.19251827173006072\n",
      "Working on iteration 160 with a-norm error 0.14156581133472007\n",
      "Working on iteration 170 with a-norm error 0.09581692752081525\n",
      "Working on iteration 180 with a-norm error 0.06535583136601882\n",
      "Working on iteration 190 with a-norm error 0.03955260200201724\n",
      "Working on iteration 200 with a-norm error 0.026905620051907584\n",
      "PCG stopped after: 200 iterations with relative error 0.026350600751817246.\n",
      "342.221254 seconds (206.65 M allocations: 5.674 GB, 26.11% gc time)\n",
      "Working on iteration 10 with a-norm error 17.96300076446232\n",
      "Working on iteration 20 with a-norm error 15.762406384140347\n",
      "Working on iteration 30 with a-norm error 12.845728694010711\n",
      "Working on iteration 40 with a-norm error 9.594511071706938\n",
      "Working on iteration 50 with a-norm error 6.30132381386807\n",
      "Working on iteration 60 with a-norm error 3.6889859346593816\n",
      "Working on iteration 70 with a-norm error 1.9721964499813514\n",
      "Working on iteration 80 with a-norm error 1.0538238978069432\n",
      "Working on iteration 90 with a-norm error 0.5104980336524612\n",
      "Working on iteration 100 with a-norm error 0.2443094970351958\n",
      "Working on iteration 110 with a-norm error 0.10898678411513626\n",
      "Working on iteration 120 with a-norm error 0.048377035545574994\n",
      "Working on iteration 130 with a-norm error 0.021444751201296564\n",
      "Working on iteration 140 with a-norm error 0.008533231558859213\n",
      "Working on iteration 150 with a-norm error 0.0034002369184663447\n",
      "Working on iteration 160 with a-norm error 0.0012702914691446465\n",
      "Working on iteration 170 with a-norm error 0.0004238850037267907\n",
      "Working on iteration 180 with a-norm error 0.00014050205751424145\n",
      "Working on iteration 190 with a-norm error 5.3599323124432016e-5\n",
      "Working on iteration 200 with a-norm error 1.812204390297985e-5\n",
      "PCG stopped after: 200 iterations with relative error 1.6007072534531523e-5.\n",
      "355.542948 seconds (206.65 M allocations: 12.834 GB, 29.25% gc time)\n"
     ]
    }
   ],
   "source": [
    "numIts = 200;\n",
    "\n",
    "for i in 1:3\n",
    "    @time F = treeSolver(tree[i])\n",
    "    @time F(b);\n",
    "    \n",
    "    # a run on standard Float64 data types\n",
    "    @time myx64,dbg = pcgV(la, b, F, x, maxits=numIts, verbose=false);\n",
    "    norm(lap(a) * myx64 - b) / norm(b)\n",
    "    insert!(dbg, 1, \"$(numIts) iterations\")\n",
    "    insert!(dbg, 1, \"anorm = sqrt((x-truex)' * la * (x-truex)), err2_a = norm(la*x-b) / norm(b), err2_b = norm(x-truex)\")\n",
    "    writeToFile(graphp * \"_log_julia_tree$(i)_default.txt\", dbg)\n",
    "    \n",
    "    # now useing higer precision data types\n",
    "    for hp in [64,128,1024]\n",
    "        set_bigfloat_precision(hp)\n",
    "        laHP = toHighPrecision(la; precision=hp)\n",
    "        treeHP = toHighPrecision(tree[i]; precision=hp)\n",
    "        xHP = toHighPrecision(x; precision=hp);\n",
    "        bHP = toHighPrecision(b; precision=hp);\n",
    "        FHP = treeSolver(treeHP)\n",
    "\n",
    "        @time myxHP,dbg = pcgV(laHP, bHP, FHP, xHP, maxits=numIts, verbose=true);\n",
    "        insert!(dbg, 1, \"$(numIts) iterations\")\n",
    "        insert!(dbg, 1, \"anorm = sqrt((x-truex)' * la * (x-truex)), err2_a = norm(la*x-b) / norm(b), err2_b = norm(x-truex)\")\n",
    "        writeToFile(graphp * \"_log_julia_tree$(i)_$(hp).txt\", dbg)\n",
    "    end\n",
    "end"
   ]
  },
  {
   "cell_type": "code",
   "execution_count": null,
   "metadata": {
    "collapsed": true
   },
   "outputs": [],
   "source": []
  }
 ],
 "metadata": {
  "kernelspec": {
   "display_name": "Julia 0.4.6",
   "language": "julia",
   "name": "julia-0.4"
  },
  "language_info": {
   "file_extension": ".jl",
   "mimetype": "application/julia",
   "name": "julia",
   "version": "0.4.6"
  }
 },
 "nbformat": 4,
 "nbformat_minor": 0
}
