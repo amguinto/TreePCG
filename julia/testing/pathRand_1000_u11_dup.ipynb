{
 "cells": [
  {
   "cell_type": "code",
   "execution_count": 7,
   "metadata": {
    "collapsed": false
   },
   "outputs": [
    {
     "data": {
      "text/plain": [
       "parseMatlabData (generic function with 1 method)"
      ]
     },
     "execution_count": 7,
     "metadata": {},
     "output_type": "execute_result"
    }
   ],
   "source": [
    "include(\"../src/Julia.jl\")"
   ]
  },
  {
   "cell_type": "code",
   "execution_count": 8,
   "metadata": {
    "collapsed": false
   },
   "outputs": [
    {
     "data": {
      "text/plain": [
       "\"/Users/serbanstan/git/TreePCG/julia/testing\""
      ]
     },
     "execution_count": 8,
     "metadata": {},
     "output_type": "execute_result"
    }
   ],
   "source": [
    "pwd()"
   ]
  },
  {
   "cell_type": "code",
   "execution_count": 18,
   "metadata": {
    "collapsed": false
   },
   "outputs": [
    {
     "data": {
      "text/plain": [
       "\"../../graphs/pathRand_1000_u11/\""
      ]
     },
     "execution_count": 18,
     "metadata": {},
     "output_type": "execute_result"
    }
   ],
   "source": [
    "graphp = \"../../graphs/pathRand_1000_u11/\""
   ]
  },
  {
   "cell_type": "code",
   "execution_count": 19,
   "metadata": {
    "collapsed": false
   },
   "outputs": [],
   "source": [
    "a = readFromFile(graphp * \"graph.mtx\");"
   ]
  },
  {
   "cell_type": "code",
   "execution_count": 20,
   "metadata": {
    "collapsed": false
   },
   "outputs": [],
   "source": [
    "tree = []\n",
    "tr = readFromFile(graphp * \"tree.mtx\");\n",
    "\n",
    "u,v,w = findnz(tr)\n",
    "for i in 1:length(u)\n",
    "    w[i] = a[u[i],v[i]]\n",
    "end\n",
    "tr = sparse(u,v,w)\n",
    "\n",
    "push!(tree, tr);"
   ]
  },
  {
   "cell_type": "code",
   "execution_count": 21,
   "metadata": {
    "collapsed": false
   },
   "outputs": [],
   "source": [
    "x = readFromFile(graphp * \"x.vec\");"
   ]
  },
  {
   "cell_type": "code",
   "execution_count": 22,
   "metadata": {
    "collapsed": false
   },
   "outputs": [],
   "source": [
    "la = lap(a);\n",
    "x = x - mean(x)\n",
    "b = la * x; b = b - mean(b);"
   ]
  },
  {
   "cell_type": "code",
   "execution_count": 23,
   "metadata": {
    "collapsed": false
   },
   "outputs": [
    {
     "name": "stdout",
     "output_type": "stream",
     "text": [
      "  0.000917 seconds (129 allocations: 374.813 KB)\n",
      "  0.002823 seconds (17.96 k allocations: 344.375 KB)\n",
      "  0.139587 seconds (1.82 M allocations: 45.614 MB, 20.61% gc time)\n",
      "Finished iteration 1 with errors 0.9984896177415457 0.9969856716044583\n",
      "Finished iteration 11 with errors 0.9008291112944069 0.8354495373490164\n",
      "Finished iteration 21 with errors 0.7475849141516431 0.6446319911902617\n",
      "Finished iteration 31 with errors 0.6057508401193235 0.508688288039588\n",
      "Finished iteration 41 with errors 0.4620872672171531 0.3878219738496883\n",
      "Finished iteration 51 with errors 0.32488278545464977 0.2648817579762813\n",
      "Finished iteration 61 with errors 0.22932148662392296 0.18555959271376857\n",
      "Finished iteration 71 with errors 0.15052555618074615 0.12030735765685298\n",
      "Finished iteration 81 with errors 0.09420810161325686 0.07704341499232956\n",
      "Finished iteration 91 with errors 0.072672799279051 0.05908637274172659\n",
      "Finished iteration 100 with errors 0.04584255742434119 0.03628156972594393\n",
      "  4.607305 seconds (23.74 M allocations: 620.033 MB, 24.83% gc time)\n",
      "Finished iteration 1 with errors 0.9984896177415457 0.9969856716044583\n",
      "Finished iteration 11 with errors 0.9004681195851393 0.8355991759030561\n",
      "Finished iteration 21 with errors 0.7115871472107937 0.6104544581077931\n",
      "Finished iteration 31 with errors 0.48841848592845155 0.40456611689648\n",
      "Finished iteration 41 with errors 0.2795839591233373 0.2246981051331267\n",
      "Finished iteration 51 with errors 0.1576399536366589 0.12450447542814813\n",
      "Finished iteration 61 with errors 0.0790288363152056 0.0651264203962487\n",
      "Finished iteration 71 with errors 0.044098721010904125 0.035473991790356284\n",
      "Finished iteration 81 with errors 0.023246399850122782 0.01801488078197839\n",
      "Finished iteration 91 with errors 0.011144009252834467 0.008741324537796838\n",
      "Finished iteration 100 with errors 0.006170415576483054 0.004921516193691607\n",
      "  4.643863 seconds (23.74 M allocations: 679.631 MB, 26.35% gc time)\n",
      "Finished iteration 1 with errors 0.9984896177415457 0.9969856716044583\n",
      "Finished iteration 11 with errors 0.9004681195851393 0.8355991759030561\n",
      "Finished iteration 21 with errors 0.6933574995933833 0.5963154029933093\n",
      "Finished iteration 31 with errors 0.4146339772921893 0.34284100246481053\n",
      "Finished iteration 41 with errors 0.21496250426444755 0.17121594330938528\n",
      "Finished iteration 51 with errors 0.08031238735942914 0.06630587236937836\n",
      "Finished iteration 61 with errors 0.03580966086616883 0.02832702996700421\n",
      "Finished iteration 71 with errors 0.012736767729698019 0.010031607602741802\n",
      "Finished iteration 81 with errors 0.004038175346948637 0.0031856984705137463\n",
      "Finished iteration 91 with errors 0.0014164684758210847 0.001134341549233602\n",
      "Finished iteration 100 with errors 0.00046650371722589413 0.00036361109273723343\n",
      "  4.888857 seconds (23.74 M allocations: 798.780 MB, 26.03% gc time)\n",
      "Finished iteration 1 with errors 0.9984896177415457 0.9969856716044583\n",
      "Finished iteration 11 with errors 0.9004681195851393 0.8355991759030561\n",
      "Finished iteration 21 with errors 0.6933574995933833 0.5963154029933093\n",
      "Finished iteration 31 with errors 0.4146155455137105 0.34287524652943124\n",
      "Finished iteration 41 with errors 0.17570201384182055 0.1375839461187362\n",
      "Finished iteration 51 with errors 0.05635527258457303 0.04458769562030182\n",
      "Finished iteration 61 with errors 0.017726195821748485 0.013718876194376227\n",
      "Finished iteration 71 with errors 0.004718497955880781 0.00372536080675236\n",
      "Finished iteration 81 with errors 0.0009818061273562009 0.0007765652273299497\n",
      "Finished iteration 91 with errors 0.00020198663116381568 0.00015562530611163756\n",
      "Finished iteration 100 with errors 4.876718064571839e-5 3.7289435927369894e-5\n",
      "  5.915692 seconds (23.74 M allocations: 1.013 GB, 26.34% gc time)\n",
      "Finished iteration 1 with errors 0.9984896177415457 0.9969856716044583\n",
      "Finished iteration 11 with errors 0.9004681195851393 0.8355991759030561\n",
      "Finished iteration 21 with errors 0.6933574995933833 0.5963154029933093\n",
      "Finished iteration 31 with errors 0.4146155455137105 0.34287524652943124\n",
      "Finished iteration 41 with errors 0.17570201384182055 0.1375839461187362\n",
      "Finished iteration 51 with errors 0.05635527258457303 0.044587695620180424\n",
      "Finished iteration 61 with errors 0.015829896454149426 0.012350807969228867\n",
      "Finished iteration 71 with errors 0.00348721126628473 0.0027713202150904622\n",
      "Finished iteration 81 with errors 0.000585032179092737 0.0004749095169276406\n",
      "Finished iteration 91 with errors 7.188608861629924e-5 5.602278339587736e-5\n",
      "Finished iteration 100 with errors 1.2464204367305263e-5 1.0035501559599427e-5\n",
      "  6.971029 seconds (23.74 M allocations: 1.478 GB, 26.15% gc time)\n"
     ]
    }
   ],
   "source": [
    "numIts = 100;\n",
    "\n",
    "for i in 1:1\n",
    "    @time F = treeSolver(tree[i])\n",
    "    @time F(b);\n",
    "    \n",
    "    # a run on standard Float64 data types\n",
    "    @time myx64,dbg = pcgV(la, b, F, x, maxits=numIts, verbose=false);\n",
    "    norm(lap(a) * myx64 - b) / norm(b)\n",
    "    insert!(dbg, 1, \"$(numIts) iterations\")\n",
    "    insert!(dbg, 1, \"anorm = sqrt((x-truex)' * la * (x-truex)), err2_a = norm(la*x-b) / norm(b), err2_b = norm(x-truex)\")\n",
    "    writeToFile(graphp * \"_log_julia_tree$(i)_default.txt\", dbg)\n",
    "    \n",
    "    # now useing higer precision data types\n",
    "    for hp in [64,128,256,512,1024]\n",
    "        set_bigfloat_precision(hp)\n",
    "        laHP = toHighPrecision(la; precision=hp)\n",
    "        treeHP = toHighPrecision(tree[i]; precision=hp)\n",
    "        xHP = toHighPrecision(x; precision=hp);\n",
    "        bHP = toHighPrecision(b; precision=hp);\n",
    "        FHP = treeSolver(treeHP)\n",
    "\n",
    "        @time myxHP,dbg = pcgV(laHP, bHP, FHP, xHP, maxits=numIts, verbose=true);\n",
    "        insert!(dbg, 1, \"$(numIts) iterations\")\n",
    "        insert!(dbg, 1, \"anorm = sqrt((x-truex)' * la * (x-truex)), err2_a = norm(la*x-b) / norm(b), err2_b = norm(x-truex)\")\n",
    "        writeToFile(graphp * \"_log_julia_tree$(i)_$(hp).txt\", dbg)\n",
    "    end\n",
    "end"
   ]
  },
  {
   "cell_type": "code",
   "execution_count": null,
   "metadata": {
    "collapsed": true
   },
   "outputs": [],
   "source": []
  }
 ],
 "metadata": {
  "anaconda-cloud": {},
  "kernelspec": {
   "display_name": "Julia 0.4.6",
   "language": "julia",
   "name": "julia-0.4"
  },
  "language_info": {
   "file_extension": ".jl",
   "mimetype": "application/julia",
   "name": "julia",
   "version": "0.4.6"
  }
 },
 "nbformat": 4,
 "nbformat_minor": 0
}
