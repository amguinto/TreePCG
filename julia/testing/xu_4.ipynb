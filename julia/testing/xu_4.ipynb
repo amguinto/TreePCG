{
 "cells": [
  {
   "cell_type": "code",
   "execution_count": 1,
   "metadata": {
    "collapsed": false
   },
   "outputs": [
    {
     "name": "stderr",
     "output_type": "stream",
     "text": [
      "objc[69592]: Class TKApplication is implemented in both /Users/serbanstan/anaconda/lib/libtk8.5.dylib and /System/Library/Frameworks/Tk.framework/Versions/8.5/Tk. One of the two will be used. Which one is undefined.\n",
      "objc[69592]: Class TKMenu is implemented in both /Users/serbanstan/anaconda/lib/libtk8.5.dylib and /System/Library/Frameworks/Tk.framework/Versions/8.5/Tk. One of the two will be used. Which one is undefined.\n",
      "objc[69592]: Class TKContentView is implemented in both /Users/serbanstan/anaconda/lib/libtk8.5.dylib and /System/Library/Frameworks/Tk.framework/Versions/8.5/Tk. One of the two will be used. Which one is undefined.\n",
      "objc[69592]: Class TKWindow is implemented in both /Users/serbanstan/anaconda/lib/libtk8.5.dylib and /System/Library/Frameworks/Tk.framework/Versions/8.5/Tk. One of the two will be used. Which one is undefined.\n"
     ]
    }
   ],
   "source": [
    "using Laplacians"
   ]
  },
  {
   "cell_type": "code",
   "execution_count": 2,
   "metadata": {
    "collapsed": false
   },
   "outputs": [
    {
     "data": {
      "text/plain": [
       "pcgWorker (generic function with 1 method)"
      ]
     },
     "execution_count": 2,
     "metadata": {},
     "output_type": "execute_result"
    }
   ],
   "source": [
    "include(\"treeSolver.jl\")\n",
    "include(\"IO.jl\")\n",
    "include(\"generators.jl\")\n",
    "include(\"toHighPrecision.jl\")\n",
    "include(\"verbosePCG.jl\")"
   ]
  },
  {
   "cell_type": "code",
   "execution_count": 3,
   "metadata": {
    "collapsed": false
   },
   "outputs": [
    {
     "data": {
      "text/plain": [
       "\"/Users/serbanstan/git/TreePCG/julia\""
      ]
     },
     "execution_count": 3,
     "metadata": {},
     "output_type": "execute_result"
    }
   ],
   "source": [
    "pwd()"
   ]
  },
  {
   "cell_type": "code",
   "execution_count": 4,
   "metadata": {
    "collapsed": false
   },
   "outputs": [
    {
     "data": {
      "text/plain": [
       "\"../graphs/xu_4/\""
      ]
     },
     "execution_count": 4,
     "metadata": {},
     "output_type": "execute_result"
    }
   ],
   "source": [
    "graphp = \"../graphs/xu_4/\""
   ]
  },
  {
   "cell_type": "code",
   "execution_count": 5,
   "metadata": {
    "collapsed": false
   },
   "outputs": [],
   "source": [
    "a = readFromFile(graphp * \"graph.mtx\");"
   ]
  },
  {
   "cell_type": "code",
   "execution_count": 6,
   "metadata": {
    "collapsed": false
   },
   "outputs": [],
   "source": [
    "tree = readFromFile(graphp * \"tree.mtx\");"
   ]
  },
  {
   "cell_type": "code",
   "execution_count": 7,
   "metadata": {
    "collapsed": true
   },
   "outputs": [],
   "source": [
    "# need to get proper weights for the tree\n",
    "u,v,w = findnz(tree)\n",
    "for i in 1:nnz(tree)\n",
    "    tree[u[i],v[i]] = a[u[i],v[i]]\n",
    "end"
   ]
  },
  {
   "cell_type": "code",
   "execution_count": 8,
   "metadata": {
    "collapsed": false
   },
   "outputs": [],
   "source": [
    "x = readFromFile(graphp * \"x.vec\");"
   ]
  },
  {
   "cell_type": "code",
   "execution_count": 9,
   "metadata": {
    "collapsed": false
   },
   "outputs": [
    {
     "data": {
      "text/plain": [
       "100000"
      ]
     },
     "execution_count": 9,
     "metadata": {},
     "output_type": "execute_result"
    }
   ],
   "source": [
    "la = lap(a);\n",
    "x = x - mean(x)\n",
    "b = la * x; b = b - mean(b);\n",
    "a.n"
   ]
  },
  {
   "cell_type": "code",
   "execution_count": 10,
   "metadata": {
    "collapsed": false
   },
   "outputs": [
    {
     "name": "stdout",
     "output_type": "stream",
     "text": [
      "  0.727705 seconds (1.31 M allocations: 82.066 MB, 1.59% gc time)\n",
      "  0.198876 seconds (1.72 M allocations: 35.537 MB, 4.69% gc time)\n"
     ]
    }
   ],
   "source": [
    "@time F = treeSolver(tree)\n",
    "@time F(b);"
   ]
  },
  {
   "cell_type": "code",
   "execution_count": 11,
   "metadata": {
    "collapsed": false
   },
   "outputs": [
    {
     "name": "stdout",
     "output_type": "stream",
     "text": [
      "Working on iteration 10 with a-norm error 860.8801484022515\n",
      "Working on iteration 20 with a-norm error 793.7383264752438\n",
      "Working on iteration 30 with a-norm error 733.9814793246815\n",
      "Working on iteration 40 with a-norm error 661.9337522373115\n",
      "Working on iteration 50 with a-norm error 585.1691714109404\n",
      "Working on iteration 60 with a-norm error 504.83259207189445\n",
      "Working on iteration 70 with a-norm error 442.6859946955575\n",
      "Working on iteration 80 with a-norm error 386.93309322534753\n",
      "Working on iteration 90 with a-norm error 323.33291727946914\n",
      "Working on iteration 100 with a-norm error 272.7082215745001\n",
      "Working on iteration 110 with a-norm error 229.77955386945197\n",
      "Working on iteration 120 with a-norm error 190.01325385463656\n",
      "Working on iteration 130 with a-norm error 156.4185126908476\n",
      "Working on iteration 140 with a-norm error 134.3042490417403\n",
      "Working on iteration 150 with a-norm error 112.54865407676867\n",
      "Working on iteration 160 with a-norm error 95.00009400973525\n",
      "Working on iteration 170 with a-norm error 82.38506476386226\n",
      "Working on iteration 180 with a-norm error 68.81412409679267\n",
      "Working on iteration 190 with a-norm error 57.570977103404445\n",
      "Working on iteration 200 with a-norm error 49.93947356900764\n",
      "Working on iteration 210 with a-norm error 40.400883375333734\n",
      "Working on iteration 220 with a-norm error 35.01907367383506\n",
      "Working on iteration 230 with a-norm error 29.12323529832745\n",
      "Working on iteration 240 with a-norm error 24.80570701518712\n",
      "Working on iteration 250 with a-norm error 20.641607028030446\n",
      "Working on iteration 260 with a-norm error 17.5317028658193\n",
      "Working on iteration 270 with a-norm error 14.505229196801414\n",
      "Working on iteration 280 with a-norm error 12.213523558619933\n",
      "Working on iteration 290 with a-norm error 10.332469452512504\n",
      "Working on iteration 300 with a-norm error 8.75538545160231\n",
      "Working on iteration 310 with a-norm error 7.412619386248241\n",
      "Working on iteration 320 with a-norm error 6.244284208112604\n",
      "Working on iteration 330 with a-norm error 5.262143011738588\n",
      "Working on iteration 340 with a-norm error 4.288358707602806\n",
      "Working on iteration 350 with a-norm error 3.714991753580504\n",
      "Working on iteration 360 with a-norm error 3.1727126379207835\n",
      "Working on iteration 370 with a-norm error 2.670012207063574\n",
      "Working on iteration 380 with a-norm error 2.2433229835491386\n",
      "Working on iteration 390 with a-norm error 1.9024610691166521\n",
      "Working on iteration 400 with a-norm error 1.6216693804115971\n",
      "Working on iteration 410 with a-norm error 1.3564893122143993\n",
      "Working on iteration 420 with a-norm error 1.1594910314232745\n",
      "Working on iteration 430 with a-norm error 0.993710134879944\n",
      "Working on iteration 440 with a-norm error 0.815135503976728\n",
      "Working on iteration 450 with a-norm error 0.6837675947679489\n",
      "Working on iteration 460 with a-norm error 0.5923722234517749\n",
      "Working on iteration 470 with a-norm error 0.49916254414385686\n",
      "Working on iteration 480 with a-norm error 0.4109081646131264\n",
      "Working on iteration 490 with a-norm error 0.34556247654357036\n",
      "Working on iteration 500 with a-norm error 0.29948636788170635\n",
      "Working on iteration 510 with a-norm error 0.24647459449124876\n",
      "Working on iteration 520 with a-norm error 0.2092139018401396\n",
      "Working on iteration 530 with a-norm error 0.17933853252055248\n",
      "Working on iteration 540 with a-norm error 0.15227656197153816\n",
      "Working on iteration 550 with a-norm error 0.128088415081062\n",
      "Working on iteration 560 with a-norm error 0.10901253193043306\n",
      "Working on iteration 570 with a-norm error 0.09156262091809346\n",
      "Working on iteration 580 with a-norm error 0.07657009712582125\n",
      "Working on iteration 590 with a-norm error 0.06295656850017659\n",
      "Working on iteration 600 with a-norm error 0.055463607777484866\n",
      "Working on iteration 610 with a-norm error 0.044133373215785504\n",
      "Working on iteration 620 with a-norm error 0.037799411295336253\n",
      "Working on iteration 630 with a-norm error 0.03121942214173583\n",
      "Working on iteration 640 with a-norm error 0.02718075187745641\n",
      "Working on iteration 650 with a-norm error 0.023405287513904197\n",
      "Working on iteration 660 with a-norm error 0.019234657101479667\n",
      "Working on iteration 670 with a-norm error 0.016221346073276032\n",
      "Working on iteration 680 with a-norm error 0.013951376897340807\n",
      "Working on iteration 690 with a-norm error 0.01134862231063456\n",
      "Working on iteration 700 with a-norm error 0.00967193599610642\n",
      "Working on iteration 710 with a-norm error 0.008007881407759404\n",
      "Working on iteration 720 with a-norm error 0.006886592907370917\n",
      "Working on iteration 730 with a-norm error 0.005873117197558425\n",
      "Working on iteration 740 with a-norm error 0.004762051393202473\n",
      "Working on iteration 750 with a-norm error 0.00423369449647865\n",
      "Working on iteration 760 with a-norm error 0.0033706963088925685\n",
      "Working on iteration 770 with a-norm error 0.0029428680270244755\n",
      "Working on iteration 780 with a-norm error 0.002404394682425175\n",
      "Working on iteration 790 with a-norm error 0.0020132580275845275\n",
      "Working on iteration 800 with a-norm error 0.0017413971657605303\n",
      "Working on iteration 810 with a-norm error 0.0014588962796364454\n",
      "Working on iteration 820 with a-norm error 0.0011820185610736168\n",
      "Working on iteration 830 with a-norm error 0.0010157625813862275\n",
      "Working on iteration 840 with a-norm error 0.00086397153987195\n",
      "Working on iteration 850 with a-norm error 0.0007221502877739256\n",
      "Working on iteration 860 with a-norm error 0.0005976197656967665\n",
      "Working on iteration 870 with a-norm error 0.0004942955680278272\n",
      "Working on iteration 880 with a-norm error 0.0004379174509336314\n",
      "Working on iteration 890 with a-norm error 0.00035538099541357506\n",
      "Working on iteration 900 with a-norm error 0.0003095477991985769\n",
      "Working on iteration 910 with a-norm error 0.0002541241292244981\n",
      "Working on iteration 920 with a-norm error 0.00021563204187075981\n",
      "Working on iteration 930 with a-norm error 0.00017637784972281714\n",
      "Working on iteration 940 with a-norm error 0.00015361411334625683\n",
      "Working on iteration 950 with a-norm error 0.00013105456707034516\n",
      "Working on iteration 960 with a-norm error 0.0001105125312773267\n",
      "Working on iteration 970 with a-norm error 9.394682649123171e-5\n",
      "Working on iteration 980 with a-norm error 7.93363864650318e-5\n",
      "Working on iteration 990 with a-norm error 6.707388648532979e-5\n",
      "Working on iteration 1000 with a-norm error 5.759583476077403e-5\n",
      "PCG stopped after: 1000 iterations with relative error 5.675503227616852e-5.\n",
      " 70.802733 seconds (1.60 G allocations: 40.558 GB, 8.77% gc time)\n"
     ]
    }
   ],
   "source": [
    "# a run on standard Float64 data types\n",
    "numIts = 1000;\n",
    "@time myx64,dbg = pcgV(la, b, F, x, maxits=numIts, verbose=true);\n",
    "norm(lap(a) * myx64 - b) / norm(b)\n",
    "insert!(dbg, 1, \"$(numIts) iterations\")\n",
    "insert!(dbg, 1, \"anorm = sqrt((x-truex)' * la * (x-truex)), err2_a = norm(la*x-b) / norm(b), err2_b = norm(x-truex)\")\n",
    "writeToFile(graphp * \"_log_julia_default.txt\", dbg)"
   ]
  },
  {
   "cell_type": "markdown",
   "metadata": {
    "collapsed": false
   },
   "source": [
    "numIts = 1000\n",
    "for hp in [64,128,1024]\n",
    "    set_bigfloat_precision(hp)\n",
    "    laHP = toHighPrecision(la; precision=hp)\n",
    "    treeHP = toHighPrecision(tree; precision=hp)\n",
    "    xHP = toHighPrecision(x; precision=hp);\n",
    "    bHP = toHighPrecision(b; precision=hp);\n",
    "    FHP = treeSolver(treeHP)\n",
    "    \n",
    "    @time myxHP,dbg = pcgV(laHP, bHP, FHP, xHP, maxits=numIts, verbose=true);\n",
    "    insert!(dbg, 1, \"$(numIts) iterations\")\n",
    "    insert!(dbg, 1, \"anorm = sqrt((x-truex)' * la * (x-truex)), err2_a = norm(la*x-b) / norm(b), err2_b = norm(x-truex)\")\n",
    "    writeToFile(graphp * \"_log_julia_$(hp).txt\", dbg)\n",
    "end"
   ]
  }
 ],
 "metadata": {
  "kernelspec": {
   "display_name": "Julia 0.4.6",
   "language": "julia",
   "name": "julia-0.4"
  },
  "language_info": {
   "file_extension": ".jl",
   "mimetype": "application/julia",
   "name": "julia",
   "version": "0.4.6"
  }
 },
 "nbformat": 4,
 "nbformat_minor": 0
}
