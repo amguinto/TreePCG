{
 "cells": [
  {
   "cell_type": "code",
   "execution_count": 1,
   "metadata": {
    "collapsed": false
   },
   "outputs": [
    {
     "name": "stderr",
     "output_type": "stream",
     "text": [
      "objc[2061]: Class TKApplication is implemented in both /Users/serbanstan/anaconda/lib/libtk8.5.dylib and /System/Library/Frameworks/Tk.framework/Versions/8.5/Tk. One of the two will be used. Which one is undefined.\n",
      "objc[2061]: Class TKMenu is implemented in both /Users/serbanstan/anaconda/lib/libtk8.5.dylib and /System/Library/Frameworks/Tk.framework/Versions/8.5/Tk. One of the two will be used. Which one is undefined.\n",
      "objc[2061]: Class TKContentView is implemented in both /Users/serbanstan/anaconda/lib/libtk8.5.dylib and /System/Library/Frameworks/Tk.framework/Versions/8.5/Tk. One of the two will be used. Which one is undefined.\n",
      "objc[2061]: Class TKWindow is implemented in both /Users/serbanstan/anaconda/lib/libtk8.5.dylib and /System/Library/Frameworks/Tk.framework/Versions/8.5/Tk. One of the two will be used. Which one is undefined.\n"
     ]
    },
    {
     "data": {
      "text/plain": [
       "pcgWorker (generic function with 1 method)"
      ]
     },
     "execution_count": 1,
     "metadata": {},
     "output_type": "execute_result"
    }
   ],
   "source": [
    "include(\"../src/Julia.jl\")"
   ]
  },
  {
   "cell_type": "code",
   "execution_count": 2,
   "metadata": {
    "collapsed": false
   },
   "outputs": [
    {
     "data": {
      "text/plain": [
       "\"/Users/serbanstan/git/TreePCG/julia/testing\""
      ]
     },
     "execution_count": 2,
     "metadata": {},
     "output_type": "execute_result"
    }
   ],
   "source": [
    "pwd()"
   ]
  },
  {
   "cell_type": "code",
   "execution_count": 3,
   "metadata": {
    "collapsed": false
   },
   "outputs": [
    {
     "data": {
      "text/plain": [
       "\"../../graphs/se_u_4/\""
      ]
     },
     "execution_count": 3,
     "metadata": {},
     "output_type": "execute_result"
    }
   ],
   "source": [
    "graphp = \"../../graphs/se_u_4/\""
   ]
  },
  {
   "cell_type": "code",
   "execution_count": 4,
   "metadata": {
    "collapsed": false
   },
   "outputs": [],
   "source": [
    "a = readFromFile(graphp * \"graph.mtx\");"
   ]
  },
  {
   "cell_type": "code",
   "execution_count": 5,
   "metadata": {
    "collapsed": false
   },
   "outputs": [],
   "source": [
    "tree = []\n",
    "for i in 1:3\n",
    "    tr = readFromFile(graphp * \"tree$(i).mtx\");\n",
    "    push!(tree, tr);\n",
    "end"
   ]
  },
  {
   "cell_type": "code",
   "execution_count": 6,
   "metadata": {
    "collapsed": false
   },
   "outputs": [],
   "source": [
    "x = readFromFile(graphp * \"x.vec\");"
   ]
  },
  {
   "cell_type": "code",
   "execution_count": 7,
   "metadata": {
    "collapsed": false
   },
   "outputs": [],
   "source": [
    "la = lap(a);\n",
    "x = x - mean(x)\n",
    "b = la * x; b = b - mean(b);"
   ]
  },
  {
   "cell_type": "code",
   "execution_count": 8,
   "metadata": {
    "collapsed": false
   },
   "outputs": [
    {
     "name": "stdout",
     "output_type": "stream",
     "text": [
      "  2.016981 seconds (1.27 M allocations: 80.224 MB, 3.43% gc time)\n",
      "  0.497580 seconds (1.71 M allocations: 35.210 MB, 15.89% gc time)\n",
      " 39.323446 seconds (321.55 M allocations: 8.091 GB, 5.08% gc time)\n",
      "Working on iteration 10 with a-norm error 3148.1665575504594\n",
      "Working on iteration 20 with a-norm error 2721.5238543827345\n",
      "Working on iteration 30 with a-norm error 2277.5400068309846\n",
      "Working on iteration 40 with a-norm error 1993.6462937772255\n",
      "Working on iteration 50 with a-norm error 1760.2350730545204\n",
      "Working on iteration 60 with a-norm error 1575.819319373192\n",
      "Working on iteration 70 with a-norm error 1411.4134636885149\n",
      "Working on iteration 80 with a-norm error 1291.4934259451627\n",
      "Working on iteration 90 with a-norm error 1174.6720097970249\n",
      "Working on iteration 100 with a-norm error 1079.7166042561387\n",
      "Working on iteration 110 with a-norm error 972.4533006370626\n",
      "Working on iteration 120 with a-norm error 871.537147860422\n",
      "Working on iteration 130 with a-norm error 775.7645154334272\n",
      "Working on iteration 140 with a-norm error 695.6987956119511\n",
      "Working on iteration 150 with a-norm error 621.515071817627\n",
      "Working on iteration 160 with a-norm error 566.0323354562868\n",
      "Working on iteration 170 with a-norm error 510.1285868967316\n",
      "Working on iteration 180 with a-norm error 466.87057198245367\n",
      "Working on iteration 190 with a-norm error 422.2224310128766\n",
      "Working on iteration 200 with a-norm error 392.0510651797894\n",
      "PCG stopped after: 200 iterations with relative error 390.4564539646684.\n",
      "3612.333229 seconds (10.01 G allocations: 251.115 GB, 39.18% gc time)\n",
      "Working on iteration 10 with a-norm error 3148.1665575504594\n",
      "Working on iteration 20 with a-norm error 2721.5238543685646\n",
      "Working on iteration 30 with a-norm error 2182.9674678508513\n",
      "Working on iteration 40 with a-norm error 1824.818769848112\n",
      "Working on iteration 50 with a-norm error 1604.691753007757\n",
      "Working on iteration 60 with a-norm error 1432.0085583813213\n",
      "Working on iteration 70 with a-norm error 1294.484858080409\n",
      "Working on iteration 80 with a-norm error 1142.7587944315767\n",
      "Working on iteration 90 with a-norm error 1005.2034959248551\n",
      "Working on iteration 100 with a-norm error 886.7369588231194\n",
      "Working on iteration 110 with a-norm error 759.0777273861426\n",
      "Working on iteration 120 with a-norm error 660.5951986368343\n",
      "Working on iteration 130 with a-norm error 582.1603357477802\n",
      "Working on iteration 140 with a-norm error 500.529409695717\n",
      "Working on iteration 150 with a-norm error 439.76916756881326\n",
      "Working on iteration 160 with a-norm error 392.0073654241314\n",
      "Working on iteration 170 with a-norm error 349.47941405808564\n",
      "Working on iteration 180 with a-norm error 316.3229504044287\n",
      "Working on iteration 190 with a-norm error 280.5793907044831\n",
      "Working on iteration 200 with a-norm error 248.30990670941628\n",
      "PCG stopped after: 200 iterations with relative error 247.20521105319884.\n",
      "3754.996769 seconds (10.01 G allocations: 275.670 GB, 40.66% gc time)\n",
      "Working on iteration 10 with a-norm error 3148.1665575504594\n",
      "Working on iteration 20 with a-norm error 2721.5238543685646\n",
      "Working on iteration 30 with a-norm error 2182.9674678508513\n",
      "Working on iteration 40 with a-norm error 1795.6951503070532\n",
      "Working on iteration 50 with a-norm error 1515.3805629144545\n",
      "Working on iteration 60 with a-norm error 1311.7258525650177\n",
      "Working on iteration 70 with a-norm error 1127.0655074668157\n",
      "Working on iteration 80 with a-norm error 957.1819516085129\n",
      "Working on iteration 90 with a-norm error 794.2126108901748\n",
      "Working on iteration 100 with a-norm error 652.6525979872754\n",
      "Working on iteration 110 with a-norm error 537.7989305405158\n",
      "Working on iteration 120 with a-norm error 440.31245877625526\n",
      "Working on iteration 130 with a-norm error 363.0216611992498\n",
      "Working on iteration 140 with a-norm error 299.21910786660237\n",
      "Working on iteration 150 with a-norm error 239.21243547548212\n",
      "Working on iteration 160 with a-norm error 187.11462366256964\n",
      "Working on iteration 170 with a-norm error 143.9002741985937\n",
      "Working on iteration 180 with a-norm error 111.64024596838418\n",
      "Working on iteration 190 with a-norm error 88.56973687214361\n",
      "Working on iteration 200 with a-norm error 68.2680155560621\n",
      "PCG stopped after: 200 iterations with relative error 66.21963905189237.\n",
      "9720.440686 seconds (10.01 G allocations: 619.600 GB, 43.99% gc time)\n",
      "  0.730566 seconds (1.00 M allocations: 69.241 MB, 3.67% gc time)\n",
      "  0.106508 seconds (1.60 M allocations: 30.479 MB, 13.51% gc time)\n",
      " 29.063875 seconds (321.09 M allocations: 8.071 GB, 16.71% gc time)\n",
      "Working on iteration 10 with a-norm error 3221.569929873025\n",
      "Working on iteration 20 with a-norm error 3035.5720836537207\n",
      "Working on iteration 30 with a-norm error 2820.614215972301\n",
      "Working on iteration 40 with a-norm error 2653.0471033379345\n",
      "Working on iteration 50 with a-norm error 2471.660493705036\n",
      "Working on iteration 60 with a-norm error 2273.093417426032\n",
      "Working on iteration 70 with a-norm error 2136.9800835032333\n",
      "Working on iteration 80 with a-norm error 1985.6979314874775\n",
      "Working on iteration 90 with a-norm error 1840.3581593226652\n",
      "Working on iteration 100 with a-norm error 1730.833953540214\n",
      "Working on iteration 110 with a-norm error 1598.2757006192699\n",
      "Working on iteration 120 with a-norm error 1504.7370390308533\n",
      "Working on iteration 130 with a-norm error 1408.8223615226707\n",
      "Working on iteration 140 with a-norm error 1294.953352425863\n",
      "Working on iteration 150 with a-norm error 1212.5525465047344\n",
      "Working on iteration 160 with a-norm error 1124.5923917974528\n",
      "Working on iteration 170 with a-norm error 1036.126550230558\n",
      "Working on iteration 180 with a-norm error 964.9109621757939\n",
      "Working on iteration 190 with a-norm error 895.600248710743\n",
      "Working on iteration 200 with a-norm error 825.7320401929164\n",
      "PCG stopped after: 200 iterations with relative error 820.7042209308374.\n",
      "3473.169474 seconds (10.01 G allocations: 251.103 GB, 39.70% gc time)\n",
      "Working on iteration 10 with a-norm error 3221.569929873025\n",
      "Working on iteration 20 with a-norm error 3016.6160196335422\n",
      "Working on iteration 30 with a-norm error 2799.4457979866884\n",
      "Working on iteration 40 with a-norm error 2593.67477750756\n",
      "Working on iteration 50 with a-norm error 2365.0873525658862\n",
      "Working on iteration 60 with a-norm error 2184.8696408156134\n",
      "Working on iteration 70 with a-norm error 1967.7571097133953\n",
      "Working on iteration 80 with a-norm error 1783.468364727006\n",
      "Working on iteration 90 with a-norm error 1648.3100577685773\n",
      "Working on iteration 100 with a-norm error 1505.0891666401799\n",
      "Working on iteration 110 with a-norm error 1391.7690822542522\n",
      "Working on iteration 120 with a-norm error 1248.4930256786988\n",
      "Working on iteration 130 with a-norm error 1123.4030688736045\n",
      "Working on iteration 140 with a-norm error 1032.832240201146\n",
      "Working on iteration 150 with a-norm error 928.3090112247866\n",
      "Working on iteration 160 with a-norm error 849.3283560001145\n",
      "Working on iteration 170 with a-norm error 752.6678734797498\n",
      "Working on iteration 180 with a-norm error 688.7585810053051\n",
      "Working on iteration 190 with a-norm error 631.2120672276972\n",
      "Working on iteration 200 with a-norm error 574.0478840895687\n",
      "PCG stopped after: 200 iterations with relative error 571.7402901091224.\n",
      "3994.654268 seconds (10.01 G allocations: 275.670 GB, 41.38% gc time)\n",
      "Working on iteration 10 with a-norm error 3221.569929873025\n",
      "Working on iteration 20 with a-norm error 3016.6160196335422\n",
      "Working on iteration 30 with a-norm error 2799.4457978306696\n",
      "Working on iteration 40 with a-norm error 2567.116883588088\n",
      "Working on iteration 50 with a-norm error 2320.356806312112\n",
      "Working on iteration 60 with a-norm error 2074.1607206587755\n",
      "Working on iteration 70 with a-norm error 1840.5679431207805\n",
      "Working on iteration 80 with a-norm error 1631.5791852239129\n",
      "Working on iteration 90 with a-norm error 1424.2599066734315\n",
      "Working on iteration 100 with a-norm error 1219.2796379148929\n",
      "Working on iteration 110 with a-norm error 1041.6823779783012\n",
      "Working on iteration 120 with a-norm error 886.8534996432763\n",
      "Working on iteration 130 with a-norm error 748.9629796344229\n",
      "Working on iteration 140 with a-norm error 628.9196096121563\n",
      "Working on iteration 150 with a-norm error 528.3044386962024\n",
      "Working on iteration 160 with a-norm error 445.5784270065524\n",
      "Working on iteration 170 with a-norm error 383.07327547693075\n",
      "Working on iteration 180 with a-norm error 323.9828960747996\n",
      "Working on iteration 190 with a-norm error 269.3575417746023\n",
      "Working on iteration 200 with a-norm error 223.12414069385332\n",
      "PCG stopped after: 200 iterations with relative error 218.7587808532358.\n",
      "5836.408581 seconds (10.01 G allocations: 619.600 GB, 42.01% gc time)\n",
      "  0.850397 seconds (1.00 M allocations: 69.243 MB, 22.64% gc time)\n",
      "  1.365971 seconds (1.60 M allocations: 30.479 MB, 90.99% gc time)\n",
      " 29.827524 seconds (321.09 M allocations: 8.071 GB, 22.24% gc time)\n",
      "Working on iteration 10 with a-norm error 3314.359348464685\n",
      "Working on iteration 20 with a-norm error 3276.3446648995114\n",
      "Working on iteration 30 with a-norm error 3222.6405151521685\n",
      "Working on iteration 40 with a-norm error 3166.4579410877222\n",
      "Working on iteration 50 with a-norm error 3098.9660061343666\n",
      "Working on iteration 60 with a-norm error 3041.9835886315896\n",
      "Working on iteration 70 with a-norm error 2976.982236866332\n",
      "Working on iteration 80 with a-norm error 2915.472168564203\n",
      "Working on iteration 90 with a-norm error 2862.3403473756603\n",
      "Working on iteration 100 with a-norm error 2816.1271216786986\n",
      "Working on iteration 110 with a-norm error 2733.7896914944786\n",
      "Working on iteration 120 with a-norm error 2677.957511636083\n",
      "Working on iteration 130 with a-norm error 2611.340591497056\n",
      "Working on iteration 140 with a-norm error 2565.443267902157\n",
      "Working on iteration 150 with a-norm error 2509.811278362991\n",
      "Working on iteration 160 with a-norm error 2459.419228819826\n",
      "Working on iteration 170 with a-norm error 2407.2650922593007\n",
      "Working on iteration 180 with a-norm error 2343.9256348736503\n",
      "Working on iteration 190 with a-norm error 2294.8826653485085\n",
      "Working on iteration 200 with a-norm error 2231.662299635152\n",
      "PCG stopped after: 200 iterations with relative error 2227.386852245336.\n",
      "3467.900150 seconds (10.01 G allocations: 251.103 GB, 40.42% gc time)\n",
      "Working on iteration 10 with a-norm error 3314.359348464685\n",
      "Working on iteration 20 with a-norm error 3270.8178330001406\n",
      "Working on iteration 30 with a-norm error 3198.7899234189917\n",
      "Working on iteration 40 with a-norm error 3117.1381832514276\n",
      "Working on iteration 50 with a-norm error 3040.0520890579487\n",
      "Working on iteration 60 with a-norm error 2942.6969510896297\n",
      "Working on iteration 70 with a-norm error 2863.4045666729958\n",
      "Working on iteration 80 with a-norm error 2781.421432395661\n",
      "Working on iteration 90 with a-norm error 2690.9737407512825\n",
      "Working on iteration 100 with a-norm error 2603.431309076004\n",
      "Working on iteration 110 with a-norm error 2523.1844995230686\n",
      "Working on iteration 120 with a-norm error 2417.2084891696527\n",
      "Working on iteration 130 with a-norm error 2342.317278271492\n",
      "Working on iteration 140 with a-norm error 2269.587355526973\n",
      "Working on iteration 150 with a-norm error 2206.6195731464086\n",
      "Working on iteration 160 with a-norm error 2132.345672034748\n",
      "Working on iteration 170 with a-norm error 2068.4277591806726\n",
      "Working on iteration 180 with a-norm error 1979.2301601903778\n",
      "Working on iteration 190 with a-norm error 1902.4853269811347\n",
      "Working on iteration 200 with a-norm error 1842.7418766937556\n",
      "PCG stopped after: 200 iterations with relative error 1839.4788530202086.\n",
      "3917.382335 seconds (10.01 G allocations: 275.670 GB, 40.86% gc time)\n",
      "Working on iteration 10 with a-norm error 3314.359348464685\n",
      "Working on iteration 20 with a-norm error 3270.8178330001406\n",
      "Working on iteration 30 with a-norm error 3190.2439481658844\n",
      "Working on iteration 40 with a-norm error 3084.601100710977\n",
      "Working on iteration 50 with a-norm error 2959.4412493890336\n",
      "Working on iteration 60 with a-norm error 2831.074771792093\n",
      "Working on iteration 70 with a-norm error 2691.4407302666573\n",
      "Working on iteration 80 with a-norm error 2541.5832705920243\n",
      "Working on iteration 90 with a-norm error 2392.796139783038\n",
      "Working on iteration 100 with a-norm error 2236.641661610951\n",
      "Working on iteration 110 with a-norm error 2075.0645868364813\n",
      "Working on iteration 120 with a-norm error 1931.0917736546457\n",
      "Working on iteration 130 with a-norm error 1789.717206256334\n",
      "Working on iteration 140 with a-norm error 1645.3277033946702\n",
      "Working on iteration 150 with a-norm error 1523.505358709938\n",
      "Working on iteration 160 with a-norm error 1403.6154260672504\n",
      "Working on iteration 170 with a-norm error 1289.1421213330414\n",
      "Working on iteration 180 with a-norm error 1167.9791905397494\n",
      "Working on iteration 190 with a-norm error 1057.5228722990323\n",
      "Working on iteration 200 with a-norm error 955.8661261340828\n",
      "PCG stopped after: 200 iterations with relative error 951.5801240279935.\n",
      "5846.252866 seconds (10.01 G allocations: 619.600 GB, 42.77% gc time)\n"
     ]
    }
   ],
   "source": [
    "numIts = 200;\n",
    "\n",
    "for i in 1:3\n",
    "    @time F = treeSolver(tree[i])\n",
    "    @time F(b);\n",
    "    \n",
    "    # a run on standard Float64 data types\n",
    "    @time myx64,dbg = pcgV(la, b, F, x, maxits=numIts, verbose=false);\n",
    "    norm(lap(a) * myx64 - b) / norm(b)\n",
    "    insert!(dbg, 1, \"$(numIts) iterations\")\n",
    "    insert!(dbg, 1, \"anorm = sqrt((x-truex)' * la * (x-truex)), err2_a = norm(la*x-b) / norm(b), err2_b = norm(x-truex)\")\n",
    "    writeToFile(graphp * \"_log_julia_tree$(i)_default.txt\", dbg)\n",
    "    \n",
    "    # now useing higer precision data types\n",
    "    for hp in [64,128,1024]\n",
    "        set_bigfloat_precision(hp)\n",
    "        laHP = toHighPrecision(la; precision=hp)\n",
    "        treeHP = toHighPrecision(tree[i]; precision=hp)\n",
    "        xHP = toHighPrecision(x; precision=hp);\n",
    "        bHP = toHighPrecision(b; precision=hp);\n",
    "        FHP = treeSolver(treeHP)\n",
    "\n",
    "        @time myxHP,dbg = pcgV(laHP, bHP, FHP, xHP, maxits=numIts, verbose=true);\n",
    "        insert!(dbg, 1, \"$(numIts) iterations\")\n",
    "        insert!(dbg, 1, \"anorm = sqrt((x-truex)' * la * (x-truex)), err2_a = norm(la*x-b) / norm(b), err2_b = norm(x-truex)\")\n",
    "        writeToFile(graphp * \"_log_julia_tree$(i)_$(hp).txt\", dbg)\n",
    "    end\n",
    "end"
   ]
  },
  {
   "cell_type": "code",
   "execution_count": null,
   "metadata": {
    "collapsed": true
   },
   "outputs": [],
   "source": []
  },
  {
   "cell_type": "code",
   "execution_count": null,
   "metadata": {
    "collapsed": true
   },
   "outputs": [],
   "source": []
  },
  {
   "cell_type": "code",
   "execution_count": null,
   "metadata": {
    "collapsed": true
   },
   "outputs": [],
   "source": []
  }
 ],
 "metadata": {
  "kernelspec": {
   "display_name": "Julia 0.4.6",
   "language": "julia",
   "name": "julia-0.4"
  },
  "language_info": {
   "file_extension": ".jl",
   "mimetype": "application/julia",
   "name": "julia",
   "version": "0.4.6"
  }
 },
 "nbformat": 4,
 "nbformat_minor": 0
}
