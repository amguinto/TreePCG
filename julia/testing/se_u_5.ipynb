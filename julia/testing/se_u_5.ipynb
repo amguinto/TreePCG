{
 "cells": [
  {
   "cell_type": "code",
   "execution_count": 1,
   "metadata": {
    "collapsed": false
   },
   "outputs": [
    {
     "name": "stderr",
     "output_type": "stream",
     "text": [
      "objc[2476]: Class TKApplication is implemented in both /Users/serbanstan/anaconda/lib/libtk8.5.dylib and /System/Library/Frameworks/Tk.framework/Versions/8.5/Tk. One of the two will be used. Which one is undefined.\n",
      "objc[2476]: Class TKMenu is implemented in both /Users/serbanstan/anaconda/lib/libtk8.5.dylib and /System/Library/Frameworks/Tk.framework/Versions/8.5/Tk. One of the two will be used. Which one is undefined.\n",
      "objc[2476]: Class TKContentView is implemented in both /Users/serbanstan/anaconda/lib/libtk8.5.dylib and /System/Library/Frameworks/Tk.framework/Versions/8.5/Tk. One of the two will be used. Which one is undefined.\n",
      "objc[2476]: Class TKWindow is implemented in both /Users/serbanstan/anaconda/lib/libtk8.5.dylib and /System/Library/Frameworks/Tk.framework/Versions/8.5/Tk. One of the two will be used. Which one is undefined.\n"
     ]
    },
    {
     "data": {
      "text/plain": [
       "pcgWorker (generic function with 1 method)"
      ]
     },
     "execution_count": 1,
     "metadata": {},
     "output_type": "execute_result"
    }
   ],
   "source": [
    "include(\"../src/Julia.jl\")"
   ]
  },
  {
   "cell_type": "code",
   "execution_count": 2,
   "metadata": {
    "collapsed": false
   },
   "outputs": [
    {
     "data": {
      "text/plain": [
       "\"/Users/serbanstan/git/TreePCG/julia/testing\""
      ]
     },
     "execution_count": 2,
     "metadata": {},
     "output_type": "execute_result"
    }
   ],
   "source": [
    "pwd()"
   ]
  },
  {
   "cell_type": "code",
   "execution_count": 3,
   "metadata": {
    "collapsed": false
   },
   "outputs": [
    {
     "data": {
      "text/plain": [
       "\"../../graphs/se_u_5/\""
      ]
     },
     "execution_count": 3,
     "metadata": {},
     "output_type": "execute_result"
    }
   ],
   "source": [
    "graphp = \"../../graphs/se_u_5/\""
   ]
  },
  {
   "cell_type": "code",
   "execution_count": 4,
   "metadata": {
    "collapsed": false
   },
   "outputs": [],
   "source": [
    "a = readFromFile(graphp * \"graph.mtx\");"
   ]
  },
  {
   "cell_type": "code",
   "execution_count": 5,
   "metadata": {
    "collapsed": false
   },
   "outputs": [],
   "source": [
    "tree = []\n",
    "for i in 1:3\n",
    "    tr = readFromFile(graphp * \"tree$(i).mtx\");\n",
    "    push!(tree, tr);\n",
    "end"
   ]
  },
  {
   "cell_type": "code",
   "execution_count": 6,
   "metadata": {
    "collapsed": false
   },
   "outputs": [],
   "source": [
    "x = readFromFile(graphp * \"x.vec\");"
   ]
  },
  {
   "cell_type": "code",
   "execution_count": 7,
   "metadata": {
    "collapsed": false
   },
   "outputs": [],
   "source": [
    "la = lap(a);\n",
    "x = x - mean(x)\n",
    "b = la * x; b = b - mean(b);"
   ]
  },
  {
   "cell_type": "code",
   "execution_count": 8,
   "metadata": {
    "collapsed": false
   },
   "outputs": [
    {
     "name": "stdout",
     "output_type": "stream",
     "text": [
      "  1.280201 seconds (1.27 M allocations: 80.224 MB, 3.75% gc time)\n",
      "  0.446882 seconds (1.71 M allocations: 35.211 MB, 15.58% gc time)\n",
      " 33.941505 seconds (321.56 M allocations: 8.091 GB, 4.70% gc time)\n",
      "Working on iteration 10 with a-norm error 29774.86560618406\n",
      "Working on iteration 20 with a-norm error 26005.22701244315\n",
      "Working on iteration 30 with a-norm error 21391.94063071931\n",
      "Working on iteration 40 with a-norm error 18663.48677945892\n",
      "Working on iteration 50 with a-norm error 16579.620535884773\n",
      "Working on iteration 60 with a-norm error 14468.653738911053\n",
      "Working on iteration 70 with a-norm error 13006.059228821143\n",
      "Working on iteration 80 with a-norm error 11730.200833107645\n",
      "Working on iteration 90 with a-norm error 10850.959273881354\n",
      "Working on iteration 100 with a-norm error 9598.02011885954\n",
      "Working on iteration 110 with a-norm error 8646.336330453765\n",
      "Working on iteration 120 with a-norm error 7755.066885861573\n",
      "Working on iteration 130 with a-norm error 6816.529104606822\n",
      "Working on iteration 140 with a-norm error 6008.3401120387925\n",
      "Working on iteration 150 with a-norm error 5419.07644126818\n",
      "Working on iteration 160 with a-norm error 4930.1498906910565\n",
      "Working on iteration 170 with a-norm error 4417.22141385293\n",
      "Working on iteration 180 with a-norm error 4008.781453338895\n",
      "Working on iteration 190 with a-norm error 3661.005135084843\n",
      "Working on iteration 200 with a-norm error 3277.768578252533\n",
      "PCG stopped after: 200 iterations with relative error 3263.40916102509.\n",
      "3470.701531 seconds (10.01 G allocations: 251.115 GB, 39.16% gc time)\n",
      "Working on iteration 10 with a-norm error 29774.86560618406\n",
      "Working on iteration 20 with a-norm error 26005.22701244315\n",
      "Working on iteration 30 with a-norm error 21385.32999654394\n",
      "Working on iteration 40 with a-norm error 17253.557629341653\n",
      "Working on iteration 50 with a-norm error 14741.655039880006\n",
      "Working on iteration 60 with a-norm error 13240.761593994308\n",
      "Working on iteration 70 with a-norm error 11950.666807456035\n",
      "Working on iteration 80 with a-norm error 10281.232207521925\n",
      "Working on iteration 90 with a-norm error 9027.575482812623\n",
      "Working on iteration 100 with a-norm error 7876.2068215670115\n",
      "Working on iteration 110 with a-norm error 6812.941516079672\n",
      "Working on iteration 120 with a-norm error 5924.9184647721295\n",
      "Working on iteration 130 with a-norm error 5226.224576094914\n",
      "Working on iteration 140 with a-norm error 4498.060137653897\n",
      "Working on iteration 150 with a-norm error 3927.4485845577574\n",
      "Working on iteration 160 with a-norm error 3570.5764865542656\n",
      "Working on iteration 170 with a-norm error 3172.293490314107\n",
      "Working on iteration 180 with a-norm error 2797.010852329097\n",
      "Working on iteration 190 with a-norm error 2380.4676325217033\n",
      "Working on iteration 200 with a-norm error 2113.2807862707623\n",
      "PCG stopped after: 200 iterations with relative error 2100.937096844749.\n",
      "3767.518144 seconds (10.01 G allocations: 275.669 GB, 40.51% gc time)\n",
      "Working on iteration 10 with a-norm error 29774.86560618406\n",
      "Working on iteration 20 with a-norm error 26005.22701244315\n",
      "Working on iteration 30 with a-norm error 21385.32999654394\n",
      "Working on iteration 40 with a-norm error 17253.55762934158\n",
      "Working on iteration 50 with a-norm error 14310.797790180604\n",
      "Working on iteration 60 with a-norm error 12101.009666474598\n",
      "Working on iteration 70 with a-norm error 10288.110855573099\n",
      "Working on iteration 80 with a-norm error 8617.231814833558\n",
      "Working on iteration 90 with a-norm error 7045.465364006423\n",
      "Working on iteration 100 with a-norm error 5749.814595802534\n",
      "Working on iteration 110 with a-norm error 4743.646105647508\n",
      "Working on iteration 120 with a-norm error 3940.168178597682\n",
      "Working on iteration 130 with a-norm error 3290.561678133708\n",
      "Working on iteration 140 with a-norm error 2724.626893576481\n",
      "Working on iteration 150 with a-norm error 2197.8435840143975\n",
      "Working on iteration 160 with a-norm error 1735.7771666828248\n",
      "Working on iteration 170 with a-norm error 1365.6398408131956\n",
      "Working on iteration 180 with a-norm error 1076.5689204398204\n",
      "Working on iteration 190 with a-norm error 852.0044942984324\n",
      "Working on iteration 200 with a-norm error 664.0543590449911\n",
      "PCG stopped after: 200 iterations with relative error 649.4791911873396.\n",
      "9733.831721 seconds (10.01 G allocations: 619.599 GB, 44.08% gc time)\n",
      "  0.650396 seconds (1.00 M allocations: 69.241 MB, 3.67% gc time)\n",
      "  0.180895 seconds (1.60 M allocations: 30.479 MB, 21.09% gc time)\n",
      " 28.833730 seconds (321.09 M allocations: 8.071 GB, 15.09% gc time)\n",
      "Working on iteration 10 with a-norm error 30936.85163536244\n",
      "Working on iteration 20 with a-norm error 29302.318620599515\n",
      "Working on iteration 30 with a-norm error 27743.56957810981\n",
      "Working on iteration 40 with a-norm error 25970.144370002745\n",
      "Working on iteration 50 with a-norm error 24534.805192525302\n",
      "Working on iteration 60 with a-norm error 22893.5824176306\n",
      "Working on iteration 70 with a-norm error 21403.441047597065\n",
      "Working on iteration 80 with a-norm error 20305.8749034054\n",
      "Working on iteration 90 with a-norm error 19112.531493045375\n",
      "Working on iteration 100 with a-norm error 17874.944880941548\n",
      "Working on iteration 110 with a-norm error 16831.996176798984\n",
      "Working on iteration 120 with a-norm error 15729.449584701171\n",
      "Working on iteration 130 with a-norm error 14842.965757607679\n",
      "Working on iteration 140 with a-norm error 14012.146032073726\n",
      "Working on iteration 150 with a-norm error 13297.83276489658\n",
      "Working on iteration 160 with a-norm error 12219.873591763093\n",
      "Working on iteration 170 with a-norm error 11579.617748324676\n",
      "Working on iteration 180 with a-norm error 10687.644649429352\n",
      "Working on iteration 190 with a-norm error 10044.393217727908\n",
      "Working on iteration 200 with a-norm error 9547.586525499672\n",
      "PCG stopped after: 200 iterations with relative error 9441.478697114077.\n",
      "3464.101670 seconds (10.01 G allocations: 251.103 GB, 39.66% gc time)\n",
      "Working on iteration 10 with a-norm error 30936.85163536244\n",
      "Working on iteration 20 with a-norm error 29114.370761012528\n",
      "Working on iteration 30 with a-norm error 27099.66177239857\n",
      "Working on iteration 40 with a-norm error 24922.26828593289\n",
      "Working on iteration 50 with a-norm error 23079.38084096383\n",
      "Working on iteration 60 with a-norm error 21145.58116835593\n",
      "Working on iteration 70 with a-norm error 19547.35797467788\n",
      "Working on iteration 80 with a-norm error 17719.914731317538\n",
      "Working on iteration 90 with a-norm error 16577.216133747806\n",
      "Working on iteration 100 with a-norm error 15085.04997237837\n",
      "Working on iteration 110 with a-norm error 14052.782713722525\n",
      "Working on iteration 120 with a-norm error 12876.037959907217\n",
      "Working on iteration 130 with a-norm error 11700.125542222197\n",
      "Working on iteration 140 with a-norm error 10580.532795349172\n",
      "Working on iteration 150 with a-norm error 9777.279803059566\n",
      "Working on iteration 160 with a-norm error 8968.801795853995\n",
      "Working on iteration 170 with a-norm error 8101.405943259025\n",
      "Working on iteration 180 with a-norm error 7376.580247833517\n",
      "Working on iteration 190 with a-norm error 6748.339256703226\n",
      "Working on iteration 200 with a-norm error 6290.036314272882\n",
      "PCG stopped after: 200 iterations with relative error 6186.917809679814.\n",
      "4026.415423 seconds (10.01 G allocations: 275.669 GB, 41.38% gc time)\n",
      "Working on iteration 10 with a-norm error 30936.85163536244\n",
      "Working on iteration 20 with a-norm error 29114.370761012528\n",
      "Working on iteration 30 with a-norm error 26838.890635395805\n",
      "Working on iteration 40 with a-norm error 24405.639788956043\n",
      "Working on iteration 50 with a-norm error 21927.364114440374\n",
      "Working on iteration 60 with a-norm error 19656.629637539398\n",
      "Working on iteration 70 with a-norm error 17415.94833515126\n",
      "Working on iteration 80 with a-norm error 15369.140851797281\n",
      "Working on iteration 90 with a-norm error 13402.465266597655\n",
      "Working on iteration 100 with a-norm error 11615.623955232502\n",
      "Working on iteration 110 with a-norm error 10025.007850048309\n",
      "Working on iteration 120 with a-norm error 8543.013884852491\n",
      "Working on iteration 130 with a-norm error 7190.048939148326\n",
      "Working on iteration 140 with a-norm error 6172.9013320132835\n",
      "Working on iteration 150 with a-norm error 5183.575567693391\n",
      "Working on iteration 160 with a-norm error 4349.983382192442\n",
      "Working on iteration 170 with a-norm error 3703.700169348687\n",
      "Working on iteration 180 with a-norm error 3096.0203478212356\n",
      "Working on iteration 190 with a-norm error 2607.524039795653\n",
      "Working on iteration 200 with a-norm error 2202.0241798794846\n",
      "PCG stopped after: 200 iterations with relative error 2161.2398664594043.\n",
      "5854.178281 seconds (10.01 G allocations: 619.599 GB, 41.94% gc time)\n",
      "  0.822143 seconds (1.00 M allocations: 69.243 MB, 21.80% gc time)\n",
      "  1.193167 seconds (1.60 M allocations: 30.479 MB, 90.41% gc time)\n",
      " 30.218684 seconds (321.10 M allocations: 8.071 GB, 22.53% gc time)\n",
      "Working on iteration 10 with a-norm error 31477.898179032505\n",
      "Working on iteration 20 with a-norm error 31043.588926049433\n",
      "Working on iteration 30 with a-norm error 30613.22045883195\n",
      "Working on iteration 40 with a-norm error 30069.194167331167\n",
      "Working on iteration 50 with a-norm error 29386.630957168356\n",
      "Working on iteration 60 with a-norm error 28651.231636852648\n",
      "Working on iteration 70 with a-norm error 28056.376812627077\n",
      "Working on iteration 80 with a-norm error 27459.53278168257\n",
      "Working on iteration 90 with a-norm error 26779.22856383963\n",
      "Working on iteration 100 with a-norm error 26256.540808699738\n",
      "Working on iteration 110 with a-norm error 25488.405943558468\n",
      "Working on iteration 120 with a-norm error 25008.228090464832\n",
      "Working on iteration 130 with a-norm error 24500.23695420434\n",
      "Working on iteration 140 with a-norm error 23996.21504651986\n",
      "Working on iteration 150 with a-norm error 23517.640963179812\n",
      "Working on iteration 160 with a-norm error 22825.98586235641\n",
      "Working on iteration 170 with a-norm error 22335.434042713627\n",
      "Working on iteration 180 with a-norm error 21974.18009123519\n",
      "Working on iteration 190 with a-norm error 21399.20149488401\n",
      "Working on iteration 200 with a-norm error 20838.11082406451\n",
      "PCG stopped after: 200 iterations with relative error 20802.393927702862.\n",
      "3488.339041 seconds (10.01 G allocations: 251.103 GB, 40.64% gc time)\n",
      "Working on iteration 10 with a-norm error 31477.898179032505\n",
      "Working on iteration 20 with a-norm error 31042.81796877103\n",
      "Working on iteration 30 with a-norm error 30405.992653136505\n",
      "Working on iteration 40 with a-norm error 29620.001071943072\n",
      "Working on iteration 50 with a-norm error 28820.168327432344\n",
      "Working on iteration 60 with a-norm error 27861.86070247472\n",
      "Working on iteration 70 with a-norm error 26911.70598852674\n",
      "Working on iteration 80 with a-norm error 26097.88523312961\n",
      "Working on iteration 90 with a-norm error 25331.284670207686\n",
      "Working on iteration 100 with a-norm error 24425.64349495204\n",
      "Working on iteration 110 with a-norm error 23682.93549987539\n",
      "Working on iteration 120 with a-norm error 22782.60641304659\n",
      "Working on iteration 130 with a-norm error 22173.72424312141\n",
      "Working on iteration 140 with a-norm error 21524.060050147975\n",
      "Working on iteration 150 with a-norm error 20740.322912624528\n",
      "Working on iteration 160 with a-norm error 20035.99010146742\n",
      "Working on iteration 170 with a-norm error 19196.368298110556\n",
      "Working on iteration 180 with a-norm error 18701.472202620665\n",
      "Working on iteration 190 with a-norm error 17962.627874064347\n",
      "Working on iteration 200 with a-norm error 17385.72883706273\n",
      "PCG stopped after: 200 iterations with relative error 17331.341602793607.\n",
      "3940.650046 seconds (10.01 G allocations: 275.669 GB, 40.83% gc time)\n",
      "Working on iteration 10 with a-norm error 31477.898179032505\n",
      "Working on iteration 20 with a-norm error 31042.81796877103\n",
      "Working on iteration 30 with a-norm error 30405.992650384855\n",
      "Working on iteration 40 with a-norm error 29443.88076157777\n",
      "Working on iteration 50 with a-norm error 28167.23311757514\n",
      "Working on iteration 60 with a-norm error 26807.62903738642\n",
      "Working on iteration 70 with a-norm error 25342.76127947767\n",
      "Working on iteration 80 with a-norm error 23947.11666907824\n",
      "Working on iteration 90 with a-norm error 22576.020025433147\n",
      "Working on iteration 100 with a-norm error 21131.000654275987\n",
      "Working on iteration 110 with a-norm error 19680.686943909644\n",
      "Working on iteration 120 with a-norm error 18291.463099973626\n",
      "Working on iteration 130 with a-norm error 16997.359839122597\n",
      "Working on iteration 140 with a-norm error 15746.013243648207\n",
      "Working on iteration 150 with a-norm error 14580.26438213672\n",
      "Working on iteration 160 with a-norm error 13371.943377348241\n",
      "Working on iteration 170 with a-norm error 12401.227791000889\n",
      "Working on iteration 180 with a-norm error 11316.514707641449\n",
      "Working on iteration 190 with a-norm error 10401.00598893904\n",
      "Working on iteration 200 with a-norm error 9391.886556536409\n",
      "PCG stopped after: 200 iterations with relative error 9281.169733078004.\n",
      "5845.005342 seconds (10.01 G allocations: 619.599 GB, 42.73% gc time)\n"
     ]
    }
   ],
   "source": [
    "numIts = 200;\n",
    "\n",
    "for i in 1:3\n",
    "    @time F = treeSolver(tree[i])\n",
    "    @time F(b);\n",
    "    \n",
    "    # a run on standard Float64 data types\n",
    "    @time myx64,dbg = pcgV(la, b, F, x, maxits=numIts, verbose=false);\n",
    "    norm(lap(a) * myx64 - b) / norm(b)\n",
    "    insert!(dbg, 1, \"$(numIts) iterations\")\n",
    "    insert!(dbg, 1, \"anorm = sqrt((x-truex)' * la * (x-truex)), err2_a = norm(la*x-b) / norm(b), err2_b = norm(x-truex)\")\n",
    "    writeToFile(graphp * \"_log_julia_tree$(i)_default.txt\", dbg)\n",
    "    \n",
    "    # now useing higer precision data types\n",
    "    for hp in [64,128,1024]\n",
    "        set_bigfloat_precision(hp)\n",
    "        laHP = toHighPrecision(la; precision=hp)\n",
    "        treeHP = toHighPrecision(tree[i]; precision=hp)\n",
    "        xHP = toHighPrecision(x; precision=hp);\n",
    "        bHP = toHighPrecision(b; precision=hp);\n",
    "        FHP = treeSolver(treeHP)\n",
    "\n",
    "        @time myxHP,dbg = pcgV(laHP, bHP, FHP, xHP, maxits=numIts, verbose=true);\n",
    "        insert!(dbg, 1, \"$(numIts) iterations\")\n",
    "        insert!(dbg, 1, \"anorm = sqrt((x-truex)' * la * (x-truex)), err2_a = norm(la*x-b) / norm(b), err2_b = norm(x-truex)\")\n",
    "        writeToFile(graphp * \"_log_julia_tree$(i)_$(hp).txt\", dbg)\n",
    "    end\n",
    "end"
   ]
  },
  {
   "cell_type": "code",
   "execution_count": null,
   "metadata": {
    "collapsed": true
   },
   "outputs": [],
   "source": []
  }
 ],
 "metadata": {
  "kernelspec": {
   "display_name": "Julia 0.4.6",
   "language": "julia",
   "name": "julia-0.4"
  },
  "language_info": {
   "file_extension": ".jl",
   "mimetype": "application/julia",
   "name": "julia",
   "version": "0.4.6"
  }
 },
 "nbformat": 4,
 "nbformat_minor": 0
}
