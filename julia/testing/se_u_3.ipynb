{
 "cells": [
  {
   "cell_type": "code",
   "execution_count": 1,
   "metadata": {
    "collapsed": false
   },
   "outputs": [
    {
     "name": "stderr",
     "output_type": "stream",
     "text": [
      "objc[2062]: Class TKApplication is implemented in both /Users/serbanstan/anaconda/lib/libtk8.5.dylib and /System/Library/Frameworks/Tk.framework/Versions/8.5/Tk. One of the two will be used. Which one is undefined.\n",
      "objc[2062]: Class TKMenu is implemented in both /Users/serbanstan/anaconda/lib/libtk8.5.dylib and /System/Library/Frameworks/Tk.framework/Versions/8.5/Tk. One of the two will be used. Which one is undefined.\n",
      "objc[2062]: Class TKContentView is implemented in both /Users/serbanstan/anaconda/lib/libtk8.5.dylib and /System/Library/Frameworks/Tk.framework/Versions/8.5/Tk. One of the two will be used. Which one is undefined.\n",
      "objc[2062]: Class TKWindow is implemented in both /Users/serbanstan/anaconda/lib/libtk8.5.dylib and /System/Library/Frameworks/Tk.framework/Versions/8.5/Tk. One of the two will be used. Which one is undefined.\n"
     ]
    },
    {
     "data": {
      "text/plain": [
       "pcgWorker (generic function with 1 method)"
      ]
     },
     "execution_count": 1,
     "metadata": {},
     "output_type": "execute_result"
    }
   ],
   "source": [
    "include(\"../src/Julia.jl\")"
   ]
  },
  {
   "cell_type": "code",
   "execution_count": 2,
   "metadata": {
    "collapsed": false
   },
   "outputs": [
    {
     "data": {
      "text/plain": [
       "\"/Users/serbanstan/git/TreePCG/julia/testing\""
      ]
     },
     "execution_count": 2,
     "metadata": {},
     "output_type": "execute_result"
    }
   ],
   "source": [
    "pwd()"
   ]
  },
  {
   "cell_type": "code",
   "execution_count": 3,
   "metadata": {
    "collapsed": false
   },
   "outputs": [
    {
     "data": {
      "text/plain": [
       "\"../../graphs/se_u_3/\""
      ]
     },
     "execution_count": 3,
     "metadata": {},
     "output_type": "execute_result"
    }
   ],
   "source": [
    "graphp = \"../../graphs/se_u_3/\""
   ]
  },
  {
   "cell_type": "code",
   "execution_count": 4,
   "metadata": {
    "collapsed": false
   },
   "outputs": [],
   "source": [
    "a = readFromFile(graphp * \"graph.mtx\");"
   ]
  },
  {
   "cell_type": "code",
   "execution_count": 5,
   "metadata": {
    "collapsed": false
   },
   "outputs": [],
   "source": [
    "tree = []\n",
    "for i in 1:3\n",
    "    tr = readFromFile(graphp * \"tree$(i).mtx\");\n",
    "    push!(tree, tr);\n",
    "end"
   ]
  },
  {
   "cell_type": "code",
   "execution_count": 6,
   "metadata": {
    "collapsed": false
   },
   "outputs": [],
   "source": [
    "x = readFromFile(graphp * \"x.vec\");"
   ]
  },
  {
   "cell_type": "code",
   "execution_count": 7,
   "metadata": {
    "collapsed": false
   },
   "outputs": [],
   "source": [
    "la = lap(a);\n",
    "x = x - mean(x)\n",
    "b = la * x; b = b - mean(b);"
   ]
  },
  {
   "cell_type": "code",
   "execution_count": 8,
   "metadata": {
    "collapsed": false
   },
   "outputs": [
    {
     "name": "stdout",
     "output_type": "stream",
     "text": [
      "  0.706857 seconds (275.03 k allocations: 11.678 MB, 1.71% gc time)\n",
      "  0.428844 seconds (123.78 k allocations: 4.983 MB)\n",
      "  1.974163 seconds (3.16 M allocations: 95.210 MB, 1.50% gc time)\n",
      "Working on iteration 10 with a-norm error 1921.279025067192\n",
      "Working on iteration 20 with a-norm error 1089.9465240334114\n",
      "Working on iteration 30 with a-norm error 562.6786215245013\n",
      "Working on iteration 40 with a-norm error 299.14331147978584\n",
      "Working on iteration 50 with a-norm error 159.2360430035384\n",
      "Working on iteration 60 with a-norm error 74.44525783509995\n",
      "Working on iteration 70 with a-norm error 40.08905469712506\n",
      "Working on iteration 80 with a-norm error 19.29912025929477\n",
      "Working on iteration 90 with a-norm error 9.084031875216803\n",
      "Working on iteration 100 with a-norm error 4.8404239348808575\n",
      "Working on iteration 110 with a-norm error 2.6356521588518564\n",
      "Working on iteration 120 with a-norm error 1.2364916410486808\n",
      "Working on iteration 130 with a-norm error 0.5613928568170717\n",
      "Working on iteration 140 with a-norm error 0.2935151217761695\n",
      "Working on iteration 150 with a-norm error 0.17691875319939035\n",
      "Working on iteration 160 with a-norm error 0.09067741903372838\n",
      "Working on iteration 170 with a-norm error 0.047475107475645525\n",
      "Working on iteration 180 with a-norm error 0.023557604429324273\n",
      "Working on iteration 190 with a-norm error 0.014123056297602769\n",
      "Working on iteration 200 with a-norm error 0.0073820039883111185\n",
      "PCG stopped after: 200 iterations with relative error 0.007091339971677669.\n",
      " 89.361699 seconds (206.93 M allocations: 5.174 GB, 27.41% gc time)\n",
      "Working on iteration 10 with a-norm error 1921.279025067192\n",
      "Working on iteration 20 with a-norm error 1019.1278172312985\n",
      "Working on iteration 30 with a-norm error 534.3182290170131\n",
      "Working on iteration 40 with a-norm error 240.40917398883482\n",
      "Working on iteration 50 with a-norm error 104.75269947354988\n",
      "Working on iteration 60 with a-norm error 42.954592572138324\n",
      "Working on iteration 70 with a-norm error 18.361214588714326\n",
      "Working on iteration 80 with a-norm error 6.65513500524256\n",
      "Working on iteration 90 with a-norm error 2.820369371791966\n",
      "Working on iteration 100 with a-norm error 1.2148859444350182\n",
      "Working on iteration 110 with a-norm error 0.42170518459573203\n",
      "Working on iteration 120 with a-norm error 0.17205180708598633\n",
      "Working on iteration 130 with a-norm error 0.0753411012875393\n",
      "Working on iteration 140 with a-norm error 0.03780214687700042\n",
      "Working on iteration 150 with a-norm error 0.017608953426461262\n",
      "Working on iteration 160 with a-norm error 0.006282592443134704\n",
      "Working on iteration 170 with a-norm error 0.00258726890591772\n",
      "Working on iteration 180 with a-norm error 0.0009563759073847593\n",
      "Working on iteration 190 with a-norm error 0.0004278772108699797\n",
      "Working on iteration 200 with a-norm error 0.0001388838124441646\n",
      "PCG stopped after: 200 iterations with relative error 0.00011972856981855827.\n",
      " 81.228559 seconds (206.64 M allocations: 5.674 GB, 28.14% gc time)\n",
      "Working on iteration 10 with a-norm error 1921.279025067192\n",
      "Working on iteration 20 with a-norm error 1019.1278172312985\n",
      "Working on iteration 30 with a-norm error 498.80558599921346\n",
      "Working on iteration 40 with a-norm error 224.18810754494962\n",
      "Working on iteration 50 with a-norm error 86.81994017574657\n",
      "Working on iteration 60 with a-norm error 29.373665869048065\n",
      "Working on iteration 70 with a-norm error 7.397636577157751\n",
      "Working on iteration 80 with a-norm error 2.067746020553009\n",
      "Working on iteration 90 with a-norm error 0.43977957273666757\n",
      "Working on iteration 100 with a-norm error 0.12139829521574923\n",
      "Working on iteration 110 with a-norm error 0.02747494184620054\n",
      "Working on iteration 120 with a-norm error 0.005860381081016724\n",
      "Working on iteration 130 with a-norm error 0.001090133060288272\n",
      "Working on iteration 140 with a-norm error 0.00016604609814817924\n",
      "Working on iteration 150 with a-norm error 3.40789264452808e-5\n",
      "Working on iteration 160 with a-norm error 4.89605951299613e-6\n",
      "Working on iteration 170 with a-norm error 8.856724978362762e-7\n",
      "Working on iteration 180 with a-norm error 1.1211328907117574e-7\n",
      "Working on iteration 190 with a-norm error 1.6735355342246334e-8\n",
      "Working on iteration 200 with a-norm error 2.326129181487448e-9\n",
      "PCG stopped after: 200 iterations with relative error 1.9738573242244595e-9.\n",
      " 92.862328 seconds (206.64 M allocations: 12.834 GB, 27.24% gc time)\n",
      "  0.006335 seconds (10.11 k allocations: 710.438 KB)\n",
      "  0.001028 seconds (13.45 k allocations: 273.750 KB)\n",
      "  0.353739 seconds (2.71 M allocations: 75.498 MB, 24.02% gc time)\n",
      "Working on iteration 10 with a-norm error 3386.6871376790673\n",
      "Working on iteration 20 with a-norm error 1977.9503629483086\n",
      "Working on iteration 30 with a-norm error 1067.9839525220054\n",
      "Working on iteration 40 with a-norm error 538.7949202184451\n",
      "Working on iteration 50 with a-norm error 313.46979658119557\n",
      "Working on iteration 60 with a-norm error 169.67683023364597\n",
      "Working on iteration 70 with a-norm error 93.35835300379654\n",
      "Working on iteration 80 with a-norm error 57.00697229906849\n",
      "Working on iteration 90 with a-norm error 32.00008041177194\n",
      "Working on iteration 100 with a-norm error 19.886444716522263\n",
      "Working on iteration 110 with a-norm error 12.178482780610407\n",
      "Working on iteration 120 with a-norm error 6.8327542568928745\n",
      "Working on iteration 130 with a-norm error 3.2787397645240834\n",
      "Working on iteration 140 with a-norm error 1.951161383662784\n",
      "Working on iteration 150 with a-norm error 1.0551755662645756\n",
      "Working on iteration 160 with a-norm error 0.620953406616386\n",
      "Working on iteration 170 with a-norm error 0.33016382745430595\n",
      "Working on iteration 180 with a-norm error 0.19739537432535803\n",
      "Working on iteration 190 with a-norm error 0.12072893976566264\n",
      "Working on iteration 200 with a-norm error 0.06299178251656921\n",
      "PCG stopped after: 200 iterations with relative error 0.06287671753188226.\n",
      " 64.232468 seconds (206.66 M allocations: 5.162 GB, 27.47% gc time)\n",
      "Working on iteration 10 with a-norm error 3386.6871376790673\n",
      "Working on iteration 20 with a-norm error 1842.6652525947745\n",
      "Working on iteration 30 with a-norm error 906.5043048604642\n",
      "Working on iteration 40 with a-norm error 427.764496588429\n",
      "Working on iteration 50 with a-norm error 202.39603070596547\n",
      "Working on iteration 60 with a-norm error 91.49318873001211\n",
      "Working on iteration 70 with a-norm error 43.89648197215274\n",
      "Working on iteration 80 with a-norm error 25.998837162288197\n",
      "Working on iteration 90 with a-norm error 10.693901798671458\n",
      "Working on iteration 100 with a-norm error 5.278146666608318\n",
      "Working on iteration 110 with a-norm error 2.513765974615998\n",
      "Working on iteration 120 with a-norm error 1.1862474935213652\n",
      "Working on iteration 130 with a-norm error 0.5039719185680097\n",
      "Working on iteration 140 with a-norm error 0.24141186455207672\n",
      "Working on iteration 150 with a-norm error 0.11203334464717424\n",
      "Working on iteration 160 with a-norm error 0.055245458025405786\n",
      "Working on iteration 170 with a-norm error 0.019560314806404033\n",
      "Working on iteration 180 with a-norm error 0.010024911826042543\n",
      "Working on iteration 190 with a-norm error 0.004580111587049893\n",
      "Working on iteration 200 with a-norm error 0.002157711849260234\n",
      "PCG stopped after: 200 iterations with relative error 0.0020511360216803253.\n",
      " 85.989666 seconds (206.66 M allocations: 5.674 GB, 28.68% gc time)\n",
      "Working on iteration 10 with a-norm error 3386.6871376790673\n",
      "Working on iteration 20 with a-norm error 1842.6652525947745\n",
      "Working on iteration 30 with a-norm error 851.0028539837547\n",
      "Working on iteration 40 with a-norm error 357.10211900860634\n",
      "Working on iteration 50 with a-norm error 141.98724582424197\n",
      "Working on iteration 60 with a-norm error 54.28205876995754\n",
      "Working on iteration 70 with a-norm error 20.53035018370066\n",
      "Working on iteration 80 with a-norm error 6.85571940528583\n",
      "Working on iteration 90 with a-norm error 2.1129492938552468\n",
      "Working on iteration 100 with a-norm error 0.5745356364854184\n",
      "Working on iteration 110 with a-norm error 0.15495074466915937\n",
      "Working on iteration 120 with a-norm error 0.038330917560564566\n",
      "Working on iteration 130 with a-norm error 0.009028863195479757\n",
      "Working on iteration 140 with a-norm error 0.0017688424107720022\n",
      "Working on iteration 150 with a-norm error 0.00039426686410789174\n",
      "Working on iteration 160 with a-norm error 7.663829582941674e-5\n",
      "Working on iteration 170 with a-norm error 1.5145628552445658e-5\n",
      "Working on iteration 180 with a-norm error 2.9838646563580447e-6\n",
      "Working on iteration 190 with a-norm error 5.016651364298109e-7\n",
      "Working on iteration 200 with a-norm error 6.986757520140356e-8\n",
      "PCG stopped after: 200 iterations with relative error 5.733055543995338e-8.\n",
      "113.802897 seconds (206.66 M allocations: 12.834 GB, 29.34% gc time)\n",
      "  0.007478 seconds (10.11 k allocations: 710.438 KB)\n",
      "  0.001048 seconds (13.42 k allocations: 273.406 KB)\n",
      "  0.411590 seconds (2.71 M allocations: 75.428 MB, 12.50% gc time)\n",
      "Working on iteration 10 with a-norm error 4120.805819432181\n",
      "Working on iteration 20 with a-norm error 2722.8241125896266\n",
      "Working on iteration 30 with a-norm error 1813.418743789946\n",
      "Working on iteration 40 with a-norm error 1079.176923007527\n",
      "Working on iteration 50 with a-norm error 633.0386906505904\n",
      "Working on iteration 60 with a-norm error 411.23063256894153\n",
      "Working on iteration 70 with a-norm error 256.94778456406726\n",
      "Working on iteration 80 with a-norm error 157.73605499588732\n",
      "Working on iteration 90 with a-norm error 100.38212318769628\n",
      "Working on iteration 100 with a-norm error 54.75519568659295\n",
      "Working on iteration 110 with a-norm error 35.66711117911426\n",
      "Working on iteration 120 with a-norm error 23.330164061693758\n",
      "Working on iteration 130 with a-norm error 14.17477906567137\n",
      "Working on iteration 140 with a-norm error 9.303184185345597\n",
      "Working on iteration 150 with a-norm error 4.972321988954497\n",
      "Working on iteration 160 with a-norm error 3.3674357543822167\n",
      "Working on iteration 170 with a-norm error 2.0618843902527666\n",
      "Working on iteration 180 with a-norm error 1.3029360210983436\n",
      "Working on iteration 190 with a-norm error 0.68407769125885\n",
      "Working on iteration 200 with a-norm error 0.40194128951222174\n",
      "PCG stopped after: 200 iterations with relative error 0.39660793071929246.\n",
      " 78.092354 seconds (206.65 M allocations: 5.162 GB, 28.25% gc time)\n",
      "Working on iteration 10 with a-norm error 4120.805819432181\n",
      "Working on iteration 20 with a-norm error 2631.76789608138\n",
      "Working on iteration 30 with a-norm error 1501.7421530596105\n",
      "Working on iteration 40 with a-norm error 857.7519609794888\n",
      "Working on iteration 50 with a-norm error 427.7170626048607\n",
      "Working on iteration 60 with a-norm error 191.46767620024065\n",
      "Working on iteration 70 with a-norm error 101.41115069842341\n",
      "Working on iteration 80 with a-norm error 53.07842358738893\n",
      "Working on iteration 90 with a-norm error 22.78132220695035\n",
      "Working on iteration 100 with a-norm error 12.698564555539201\n",
      "Working on iteration 110 with a-norm error 5.557847423715062\n",
      "Working on iteration 120 with a-norm error 3.1138856428834476\n",
      "Working on iteration 130 with a-norm error 1.4089730191125671\n",
      "Working on iteration 140 with a-norm error 0.6200641095151732\n",
      "Working on iteration 150 with a-norm error 0.30977202848790897\n",
      "Working on iteration 160 with a-norm error 0.14016054802216094\n",
      "Working on iteration 170 with a-norm error 0.05798496149102543\n",
      "Working on iteration 180 with a-norm error 0.025936817352569235\n",
      "Working on iteration 190 with a-norm error 0.0142052298975775\n",
      "Working on iteration 200 with a-norm error 0.006624767859803546\n",
      "PCG stopped after: 200 iterations with relative error 0.006236549267371765.\n",
      " 82.638315 seconds (206.65 M allocations: 5.674 GB, 28.69% gc time)\n",
      "Working on iteration 10 with a-norm error 4120.805819432181\n",
      "Working on iteration 20 with a-norm error 2631.76789608138\n",
      "Working on iteration 30 with a-norm error 1407.9392769004498\n",
      "Working on iteration 40 with a-norm error 599.23582105961\n",
      "Working on iteration 50 with a-norm error 236.77666928942386\n",
      "Working on iteration 60 with a-norm error 79.62879233886517\n",
      "Working on iteration 70 with a-norm error 24.718494637768654\n",
      "Working on iteration 80 with a-norm error 7.025381257497562\n",
      "Working on iteration 90 with a-norm error 1.7544346265368318\n",
      "Working on iteration 100 with a-norm error 0.3656173425761439\n",
      "Working on iteration 110 with a-norm error 0.07749090747374378\n",
      "Working on iteration 120 with a-norm error 0.01362958136214809\n",
      "Working on iteration 130 with a-norm error 0.002607524784745488\n",
      "Working on iteration 140 with a-norm error 0.000382207839684061\n",
      "Working on iteration 150 with a-norm error 5.9464664649524435e-5\n",
      "Working on iteration 160 with a-norm error 1.0637814618141985e-5\n",
      "Working on iteration 170 with a-norm error 1.5333580747843622e-6\n",
      "Working on iteration 180 with a-norm error 1.8508427778115654e-7\n",
      "Working on iteration 190 with a-norm error 1.7226594815057618e-8\n",
      "Working on iteration 200 with a-norm error 1.8886634061878377e-9\n",
      "PCG stopped after: 200 iterations with relative error 1.4919832125829811e-9.\n",
      "111.305212 seconds (206.65 M allocations: 12.834 GB, 28.25% gc time)\n"
     ]
    }
   ],
   "source": [
    "numIts = 200;\n",
    "\n",
    "for i in 1:3\n",
    "    @time F = treeSolver(tree[i])\n",
    "    @time F(b);\n",
    "    \n",
    "    # a run on standard Float64 data types\n",
    "    @time myx64,dbg = pcgV(la, b, F, x, maxits=numIts, verbose=false);\n",
    "    norm(lap(a) * myx64 - b) / norm(b)\n",
    "    insert!(dbg, 1, \"$(numIts) iterations\")\n",
    "    insert!(dbg, 1, \"anorm = sqrt((x-truex)' * la * (x-truex)), err2_a = norm(la*x-b) / norm(b), err2_b = norm(x-truex)\")\n",
    "    writeToFile(graphp * \"_log_julia_tree$(i)_default.txt\", dbg)\n",
    "    \n",
    "    # now useing higer precision data types\n",
    "    for hp in [64,128,1024]\n",
    "        set_bigfloat_precision(hp)\n",
    "        laHP = toHighPrecision(la; precision=hp)\n",
    "        treeHP = toHighPrecision(tree[i]; precision=hp)\n",
    "        xHP = toHighPrecision(x; precision=hp);\n",
    "        bHP = toHighPrecision(b; precision=hp);\n",
    "        FHP = treeSolver(treeHP)\n",
    "\n",
    "        @time myxHP,dbg = pcgV(laHP, bHP, FHP, xHP, maxits=numIts, verbose=true);\n",
    "        insert!(dbg, 1, \"$(numIts) iterations\")\n",
    "        insert!(dbg, 1, \"anorm = sqrt((x-truex)' * la * (x-truex)), err2_a = norm(la*x-b) / norm(b), err2_b = norm(x-truex)\")\n",
    "        writeToFile(graphp * \"_log_julia_tree$(i)_$(hp).txt\", dbg)\n",
    "    end\n",
    "end"
   ]
  },
  {
   "cell_type": "code",
   "execution_count": null,
   "metadata": {
    "collapsed": true
   },
   "outputs": [],
   "source": []
  }
 ],
 "metadata": {
  "kernelspec": {
   "display_name": "Julia 0.4.6",
   "language": "julia",
   "name": "julia-0.4"
  },
  "language_info": {
   "file_extension": ".jl",
   "mimetype": "application/julia",
   "name": "julia",
   "version": "0.4.6"
  }
 },
 "nbformat": 4,
 "nbformat_minor": 0
}
