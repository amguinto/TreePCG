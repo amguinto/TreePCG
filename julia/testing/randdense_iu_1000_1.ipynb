{
 "cells": [
  {
   "cell_type": "code",
   "execution_count": 1,
   "metadata": {
    "collapsed": false
   },
   "outputs": [
    {
     "data": {
      "text/plain": [
       "pcgWorker (generic function with 1 method)"
      ]
     },
     "execution_count": 1,
     "metadata": {},
     "output_type": "execute_result"
    }
   ],
   "source": [
    "include(\"../src/Julia.jl\")"
   ]
  },
  {
   "cell_type": "code",
   "execution_count": 2,
   "metadata": {
    "collapsed": false
   },
   "outputs": [
    {
     "data": {
      "text/plain": [
       "\"/Users/serbanstan/git/TreePCG/julia/testing\""
      ]
     },
     "execution_count": 2,
     "metadata": {},
     "output_type": "execute_result"
    }
   ],
   "source": [
    "pwd()"
   ]
  },
  {
   "cell_type": "code",
   "execution_count": 3,
   "metadata": {
    "collapsed": false
   },
   "outputs": [
    {
     "data": {
      "text/plain": [
       "\"../../graphs/randdense_iu_1000_1/\""
      ]
     },
     "execution_count": 3,
     "metadata": {},
     "output_type": "execute_result"
    }
   ],
   "source": [
    "graphp = \"../../graphs/randdense_iu_1000_1/\""
   ]
  },
  {
   "cell_type": "code",
   "execution_count": 4,
   "metadata": {
    "collapsed": false
   },
   "outputs": [],
   "source": [
    "a = readFromFile(graphp * \"graph.mtx\");"
   ]
  },
  {
   "cell_type": "code",
   "execution_count": 5,
   "metadata": {
    "collapsed": false
   },
   "outputs": [],
   "source": [
    "tree = []\n",
    "for i in 1:5\n",
    "    tr = readFromFile(graphp * \"tree$(i).mtx\");\n",
    "    push!(tree, tr);\n",
    "end"
   ]
  },
  {
   "cell_type": "code",
   "execution_count": 6,
   "metadata": {
    "collapsed": false
   },
   "outputs": [],
   "source": [
    "x = readFromFile(graphp * \"x.vec\");"
   ]
  },
  {
   "cell_type": "code",
   "execution_count": 7,
   "metadata": {
    "collapsed": false
   },
   "outputs": [],
   "source": [
    "la = lap(a);\n",
    "x = x - mean(x)\n",
    "b = la * x; b = b - mean(b);"
   ]
  },
  {
   "cell_type": "code",
   "execution_count": 8,
   "metadata": {
    "collapsed": false
   },
   "outputs": [
    {
     "name": "stdout",
     "output_type": "stream",
     "text": [
      "  1.120251 seconds (275.40 k allocations: 11.699 MB, 1.48% gc time)\n",
      "  0.356544 seconds (123.92 k allocations: 4.987 MB)\n",
      "  3.095252 seconds (3.17 M allocations: 95.356 MB, 1.75% gc time)\n",
      "Working on iteration 10 with a-norm error 27.354695604520916\n",
      "Working on iteration 20 with a-norm error 10.23209383952411\n",
      "Working on iteration 30 with a-norm error 4.075423256586777\n",
      "Working on iteration 40 with a-norm error 1.6444117507868967\n",
      "Working on iteration 50 with a-norm error 0.7292394559136794\n",
      "Working on iteration 60 with a-norm error 0.33214043909133995\n",
      "Working on iteration 70 with a-norm error 0.1344380095841585\n",
      "Working on iteration 80 with a-norm error 0.06159149056051112\n",
      "Working on iteration 90 with a-norm error 0.024477125554235667\n",
      "Working on iteration 100 with a-norm error 0.009857500181620224\n",
      "Working on iteration 110 with a-norm error 0.004353345333663311\n",
      "Working on iteration 120 with a-norm error 0.0014949862315196726\n",
      "Working on iteration 130 with a-norm error 0.0006711786516010059\n",
      "Working on iteration 140 with a-norm error 0.00024107547542694783\n",
      "Working on iteration 150 with a-norm error 8.55583377010668e-5\n",
      "Working on iteration 160 with a-norm error 3.2247822855668096e-5\n",
      "Working on iteration 170 with a-norm error 1.5080328252070094e-5\n",
      "Working on iteration 180 with a-norm error 6.196414684807723e-6\n",
      "Working on iteration 190 with a-norm error 1.981912142241339e-6\n",
      "Working on iteration 200 with a-norm error 8.430829715721026e-7\n",
      "PCG stopped after: 200 iterations with relative error 7.129453115450942e-7.\n",
      "369.616567 seconds (849.17 M allocations: 21.124 GB, 29.61% gc time)\n",
      "Working on iteration 10 with a-norm error 27.354695604520916\n",
      "Working on iteration 20 with a-norm error 10.107731812449584\n",
      "Working on iteration 30 with a-norm error 3.0787347345631106\n",
      "Working on iteration 40 with a-norm error 1.03568366426871\n",
      "Working on iteration 50 with a-norm error 0.4172036793004569\n",
      "Working on iteration 60 with a-norm error 0.15010064882805368\n",
      "Working on iteration 70 with a-norm error 0.05285993425300112\n",
      "Working on iteration 80 with a-norm error 0.017550886771441843\n",
      "Working on iteration 90 with a-norm error 0.005134411787275111\n",
      "Working on iteration 100 with a-norm error 0.001139479577314859\n",
      "Working on iteration 110 with a-norm error 0.00041583069072075447\n",
      "Working on iteration 120 with a-norm error 0.00012625845316607947\n",
      "Working on iteration 130 with a-norm error 3.6858108571067906e-5\n",
      "Working on iteration 140 with a-norm error 8.663782015264505e-6\n",
      "Working on iteration 150 with a-norm error 2.32451332943643e-6\n",
      "Working on iteration 160 with a-norm error 5.600502567363667e-7\n",
      "Working on iteration 170 with a-norm error 1.3590908232049425e-7\n",
      "Working on iteration 180 with a-norm error 4.1333707188349734e-8\n",
      "Working on iteration 190 with a-norm error 1.4732544401591465e-8\n",
      "Working on iteration 200 with a-norm error 4.0343644621372305e-9\n",
      "PCG stopped after: 200 iterations with relative error 3.95337650207919e-9.\n",
      "227.539830 seconds (848.89 M allocations: 23.219 GB, 27.83% gc time)\n",
      "Working on iteration 10 with a-norm error 27.354695604520916\n",
      "Working on iteration 20 with a-norm error 10.107731812449584\n",
      "Working on iteration 30 with a-norm error 3.0787346871543977\n",
      "Working on iteration 40 with a-norm error 0.9110739198726763\n",
      "Working on iteration 50 with a-norm error 0.26085186849415665\n",
      "Working on iteration 60 with a-norm error 0.08571704186237211\n",
      "Working on iteration 70 with a-norm error 0.026779111147887415\n",
      "Working on iteration 80 with a-norm error 0.005729701162619782\n",
      "Working on iteration 90 with a-norm error 0.0011147884184002372\n",
      "Working on iteration 100 with a-norm error 0.00029974285691194963\n",
      "Working on iteration 110 with a-norm error 4.821427867443125e-5\n",
      "Working on iteration 120 with a-norm error 8.845709454835356e-6\n",
      "Working on iteration 130 with a-norm error 1.6828232595986217e-6\n",
      "Working on iteration 140 with a-norm error 3.3264779962564465e-7\n",
      "Working on iteration 150 with a-norm error 4.441190510156998e-8\n",
      "Working on iteration 160 with a-norm error 7.939747007344362e-9\n",
      "Working on iteration 170 with a-norm error 2.1265865672413233e-9\n",
      "Working on iteration 180 with a-norm error 3.2828424810531017e-10\n",
      "Working on iteration 190 with a-norm error 4.7526700472147156e-11\n",
      "Working on iteration 200 with a-norm error 7.97615726438122e-12\n",
      "PCG stopped after: 200 iterations with relative error 6.4026226260599346e-12.\n",
      "192.077335 seconds (848.89 M allocations: 27.432 GB, 28.76% gc time)\n",
      "Working on iteration 10 with a-norm error 27.354695604520916\n",
      "Working on iteration 20 with a-norm error 10.107731812449584\n",
      "Working on iteration 30 with a-norm error 3.0787346871543977\n",
      "Working on iteration 40 with a-norm error 0.9110739198726763\n",
      "Working on iteration 50 with a-norm error 0.2608518684941552\n",
      "Working on iteration 60 with a-norm error 0.0757159528759696\n",
      "Working on iteration 70 with a-norm error 0.01654339257127191\n",
      "Working on iteration 80 with a-norm error 0.0029077615723217772\n",
      "Working on iteration 90 with a-norm error 0.00046841598935412415\n",
      "Working on iteration 100 with a-norm error 7.936733431441816e-5\n",
      "Working on iteration 110 with a-norm error 1.2408198474732733e-5\n",
      "Working on iteration 120 with a-norm error 1.6096330131453591e-6\n",
      "Working on iteration 130 with a-norm error 1.873043721390561e-7\n",
      "Working on iteration 140 with a-norm error 1.986581734418829e-8\n",
      "Working on iteration 150 with a-norm error 2.9488577159687914e-9\n",
      "Working on iteration 160 with a-norm error 2.6555653304690434e-10\n",
      "Working on iteration 170 with a-norm error 2.3736639243896894e-11\n",
      "Working on iteration 180 with a-norm error 2.6794194284992e-12\n",
      "Working on iteration 190 with a-norm error 1.8118236333719288e-13\n",
      "Working on iteration 200 with a-norm error 3.4280881872144775e-14\n",
      "PCG stopped after: 200 iterations with relative error 3.031863144159214e-14.\n",
      "228.357857 seconds (848.89 M allocations: 35.858 GB, 28.53% gc time)\n",
      "Working on iteration 10 with a-norm error 27.354695604520916\n",
      "Working on iteration 20 with a-norm error 10.107731812449584\n",
      "Working on iteration 30 with a-norm error 3.0787346871543977\n",
      "Working on iteration 40 with a-norm error 0.9110739198726763\n",
      "Working on iteration 50 with a-norm error 0.2608518684941552\n",
      "Working on iteration 60 with a-norm error 0.0757159528759696\n",
      "Working on iteration 70 with a-norm error 0.01654339257127191\n",
      "Working on iteration 80 with a-norm error 0.0029077615723217772\n",
      "Working on iteration 90 with a-norm error 0.0004684159892955928\n",
      "Working on iteration 100 with a-norm error 6.534036777694225e-5\n",
      "Working on iteration 110 with a-norm error 7.93423499255851e-6\n",
      "Working on iteration 120 with a-norm error 8.307882627363748e-7\n",
      "Working on iteration 130 with a-norm error 7.1689840071196e-8\n",
      "Working on iteration 140 with a-norm error 6.599118662635422e-9\n",
      "Working on iteration 150 with a-norm error 4.95412307096114e-10\n",
      "Working on iteration 160 with a-norm error 4.4869581742419887e-11\n",
      "Working on iteration 170 with a-norm error 2.965339246328043e-12\n",
      "Working on iteration 180 with a-norm error 1.4707453681385143e-13\n",
      "Working on iteration 190 with a-norm error 2.6608331974716324e-14\n",
      "Working on iteration 200 with a-norm error 2.388743666338594e-14\n",
      "PCG stopped after: 200 iterations with relative error 2.387516909453758e-14.\n",
      "263.452266 seconds (848.89 M allocations: 52.710 GB, 27.29% gc time)\n",
      "  0.008780 seconds (10.11 k allocations: 710.969 KB)\n",
      "  0.001737 seconds (13.40 k allocations: 273.094 KB)\n",
      "  0.446714 seconds (2.71 M allocations: 75.373 MB, 7.02% gc time)\n",
      "Working on iteration 10 with a-norm error 35.15379841601206\n",
      "Working on iteration 20 with a-norm error 18.644204382535133\n",
      "Working on iteration 30 with a-norm error 9.38204173708555\n",
      "Working on iteration 40 with a-norm error 4.805105232058368\n",
      "Working on iteration 50 with a-norm error 2.518819638910682\n",
      "Working on iteration 60 with a-norm error 1.0115218745771988\n",
      "Working on iteration 70 with a-norm error 0.4955921104066229\n",
      "Working on iteration 80 with a-norm error 0.233092123782522\n",
      "Working on iteration 90 with a-norm error 0.11188702715563788\n",
      "Working on iteration 100 with a-norm error 0.05325573095696639\n",
      "Working on iteration 110 with a-norm error 0.024091646629813255\n",
      "Working on iteration 120 with a-norm error 0.012404656280841893\n",
      "Working on iteration 130 with a-norm error 0.005861010079137244\n",
      "Working on iteration 140 with a-norm error 0.0027963407481891005\n",
      "Working on iteration 150 with a-norm error 0.0012421556200047357\n",
      "Working on iteration 160 with a-norm error 0.00047790422208404275\n",
      "Working on iteration 170 with a-norm error 0.0002079007318033395\n",
      "Working on iteration 180 with a-norm error 0.00010766763534100291\n",
      "Working on iteration 190 with a-norm error 4.542775694870336e-5\n",
      "Working on iteration 200 with a-norm error 2.6751911871420073e-5\n",
      "PCG stopped after: 200 iterations with relative error 2.484255694453711e-5.\n",
      "192.448732 seconds (848.88 M allocations: 21.112 GB, 28.83% gc time)\n",
      "Working on iteration 10 with a-norm error 35.15379841601206\n",
      "Working on iteration 20 with a-norm error 17.31550168801193\n",
      "Working on iteration 30 with a-norm error 7.05900873522041\n",
      "Working on iteration 40 with a-norm error 2.761647981890028\n",
      "Working on iteration 50 with a-norm error 0.8789582375882898\n",
      "Working on iteration 60 with a-norm error 0.34255572156089653\n",
      "Working on iteration 70 with a-norm error 0.13069772794579365\n",
      "Working on iteration 80 with a-norm error 0.04718111656173185\n",
      "Working on iteration 90 with a-norm error 0.01674823156264901\n",
      "Working on iteration 100 with a-norm error 0.004390570777897223\n",
      "Working on iteration 110 with a-norm error 0.0013379333916142275\n",
      "Working on iteration 120 with a-norm error 0.00038668724669510546\n",
      "Working on iteration 130 with a-norm error 0.00015119549694616826\n",
      "Working on iteration 140 with a-norm error 4.420082385963849e-5\n",
      "Working on iteration 150 with a-norm error 1.149483065379038e-5\n",
      "Working on iteration 160 with a-norm error 2.691307844330647e-6\n",
      "Working on iteration 170 with a-norm error 1.0759622162895808e-6\n",
      "Working on iteration 180 with a-norm error 3.1350274773906616e-7\n",
      "Working on iteration 190 with a-norm error 1.0703742620150623e-7\n",
      "Working on iteration 200 with a-norm error 3.185058002229847e-8\n",
      "PCG stopped after: 200 iterations with relative error 3.064635733260648e-8.\n",
      "201.238247 seconds (848.88 M allocations: 23.219 GB, 28.82% gc time)\n",
      "Working on iteration 10 with a-norm error 35.15379841601206\n",
      "Working on iteration 20 with a-norm error 17.31550168801193\n",
      "Working on iteration 30 with a-norm error 6.223709497192313\n",
      "Working on iteration 40 with a-norm error 1.999050163854652\n",
      "Working on iteration 50 with a-norm error 0.567998065374089\n",
      "Working on iteration 60 with a-norm error 0.1614184009636272\n",
      "Working on iteration 70 with a-norm error 0.03201101759324035\n",
      "Working on iteration 80 with a-norm error 0.008577948868326407\n",
      "Working on iteration 90 with a-norm error 0.0024511649535853505\n",
      "Working on iteration 100 with a-norm error 0.00040097014593006334\n",
      "Working on iteration 110 with a-norm error 7.273956176197321e-5\n",
      "Working on iteration 120 with a-norm error 6.670579462557659e-6\n",
      "Working on iteration 130 with a-norm error 1.8194491405831935e-6\n",
      "Working on iteration 140 with a-norm error 3.076720399834054e-7\n",
      "Working on iteration 150 with a-norm error 5.34828500727722e-8\n",
      "Working on iteration 160 with a-norm error 7.50643894690465e-9\n",
      "Working on iteration 170 with a-norm error 8.145110091140676e-10\n",
      "Working on iteration 180 with a-norm error 1.4900055783945551e-10\n",
      "Working on iteration 190 with a-norm error 3.6515845113327485e-11\n",
      "Working on iteration 200 with a-norm error 4.762960145100715e-12\n",
      "PCG stopped after: 200 iterations with relative error 4.48570284224241e-12.\n",
      "219.656417 seconds (848.88 M allocations: 27.432 GB, 28.92% gc time)\n",
      "Working on iteration 10 with a-norm error 35.15379841601206\n",
      "Working on iteration 20 with a-norm error 17.31550168801193\n",
      "Working on iteration 30 with a-norm error 6.223709497192313\n",
      "Working on iteration 40 with a-norm error 1.8580449699484765\n",
      "Working on iteration 50 with a-norm error 0.4413039286925059\n",
      "Working on iteration 60 with a-norm error 0.09916840399244756\n",
      "Working on iteration 70 with a-norm error 0.022894524398682718\n",
      "Working on iteration 80 with a-norm error 0.0033404224057551955\n",
      "Working on iteration 90 with a-norm error 0.000420315829599486\n",
      "Working on iteration 100 with a-norm error 4.5236951781806226e-5\n",
      "Working on iteration 110 with a-norm error 4.033788691561418e-6\n",
      "Working on iteration 120 with a-norm error 3.997852774872153e-7\n",
      "Working on iteration 130 with a-norm error 4.197166595605754e-8\n",
      "Working on iteration 140 with a-norm error 2.8029319766731764e-9\n",
      "Working on iteration 150 with a-norm error 2.115463735633657e-10\n",
      "Working on iteration 160 with a-norm error 1.3582184249037137e-11\n",
      "Working on iteration 170 with a-norm error 1.3677161463344294e-12\n",
      "Working on iteration 180 with a-norm error 1.1833517323920285e-13\n",
      "Working on iteration 190 with a-norm error 2.4462136936299107e-14\n",
      "Working on iteration 200 with a-norm error 2.3902838952584264e-14\n",
      "PCG stopped after: 200 iterations with relative error 2.3887222838282067e-14.\n",
      "253.099610 seconds (848.88 M allocations: 35.858 GB, 28.69% gc time)\n",
      "Working on iteration 10 with a-norm error 35.15379841601206\n",
      "Working on iteration 20 with a-norm error 17.31550168801193\n",
      "Working on iteration 30 with a-norm error 6.223709497192313\n",
      "Working on iteration 40 with a-norm error 1.8580449699484765\n",
      "Working on iteration 50 with a-norm error 0.4413039286925059\n",
      "Working on iteration 60 with a-norm error 0.09916840399244756\n",
      "Working on iteration 70 with a-norm error 0.018562191223590475\n",
      "Working on iteration 80 with a-norm error 0.0026007784539348947\n",
      "Working on iteration 90 with a-norm error 0.0002610777814743625\n",
      "Working on iteration 100 with a-norm error 2.0910438650852513e-5\n",
      "Working on iteration 110 with a-norm error 1.3459675940206753e-6\n",
      "Working on iteration 120 with a-norm error 9.404196665385121e-8\n",
      "Working on iteration 130 with a-norm error 4.0079291232442665e-9\n",
      "Working on iteration 140 with a-norm error 2.2107764719785893e-10\n",
      "Working on iteration 150 with a-norm error 7.857882526541074e-12\n",
      "Working on iteration 160 with a-norm error 3.8120803223441225e-13\n",
      "Working on iteration 170 with a-norm error 2.6170052985536605e-14\n",
      "Working on iteration 180 with a-norm error 2.3872939912866142e-14\n",
      "Working on iteration 190 with a-norm error 2.385531736599309e-14\n",
      "Working on iteration 200 with a-norm error 2.3855125066357537e-14\n",
      "PCG stopped after: 200 iterations with relative error 2.3855129611660726e-14.\n",
      "266.990418 seconds (848.88 M allocations: 52.710 GB, 27.70% gc time)\n",
      "2426.171909 seconds (8.50 G allocations: 321.321 GB, 28.41% gc time)\n"
     ]
    }
   ],
   "source": [
    "numIts = 200;\n",
    "\n",
    "@time for i in 4:5\n",
    "    @time F = treeSolver(tree[i])\n",
    "    @time F(b);\n",
    "    \n",
    "    # a run on standard Float64 data types\n",
    "    @time myx64,dbg = pcgV(la, b, F, x, maxits=numIts, verbose=false);\n",
    "    norm(lap(a) * myx64 - b) / norm(b)\n",
    "    insert!(dbg, 1, \"$(numIts) iterations\")\n",
    "    insert!(dbg, 1, \"anorm = sqrt((x-truex)' * la * (x-truex)), err2_a = norm(la*x-b) / norm(b), err2_b = norm(x-truex)\")\n",
    "    writeToFile(graphp * \"_log_julia_tree$(i)_default.txt\", dbg)\n",
    "    \n",
    "    # now useing higer precision data types\n",
    "    for hp in [64,128,256,512,1024]\n",
    "        set_bigfloat_precision(hp)\n",
    "        laHP = toHighPrecision(la; precision=hp)\n",
    "        treeHP = toHighPrecision(tree[i]; precision=hp)\n",
    "        xHP = toHighPrecision(x; precision=hp);\n",
    "        bHP = toHighPrecision(b; precision=hp);\n",
    "        FHP = treeSolver(treeHP)\n",
    "\n",
    "        @time myxHP,dbg = pcgV(laHP, bHP, FHP, xHP, maxits=numIts, verbose=true);\n",
    "        insert!(dbg, 1, \"$(numIts) iterations\")\n",
    "        insert!(dbg, 1, \"anorm = sqrt((x-truex)' * la * (x-truex)), err2_a = norm(la*x-b) / norm(b), err2_b = norm(x-truex)\")\n",
    "        writeToFile(graphp * \"_log_julia_tree$(i)_$(hp).txt\", dbg)\n",
    "    end\n",
    "end"
   ]
  },
  {
   "cell_type": "code",
   "execution_count": null,
   "metadata": {
    "collapsed": true
   },
   "outputs": [],
   "source": []
  }
 ],
 "metadata": {
  "anaconda-cloud": {},
  "kernelspec": {
   "display_name": "Julia 0.4.6",
   "language": "julia",
   "name": "julia-0.4"
  },
  "language_info": {
   "file_extension": ".jl",
   "mimetype": "application/julia",
   "name": "julia",
   "version": "0.4.6"
  }
 },
 "nbformat": 4,
 "nbformat_minor": 0
}
