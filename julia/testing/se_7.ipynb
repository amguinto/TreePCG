{
 "cells": [
  {
   "cell_type": "code",
   "execution_count": 1,
   "metadata": {
    "collapsed": false
   },
   "outputs": [
    {
     "name": "stderr",
     "output_type": "stream",
     "text": [
      "objc[25419]: Class TKApplication is implemented in both /System/Library/Frameworks/Tk.framework/Versions/8.5/Tk and /Users/serbanstan/anaconda/lib/libtk8.5.dylib. One of the two will be used. Which one is undefined.\n",
      "objc[25419]: Class TKMenu is implemented in both /System/Library/Frameworks/Tk.framework/Versions/8.5/Tk and /Users/serbanstan/anaconda/lib/libtk8.5.dylib. One of the two will be used. Which one is undefined.\n",
      "objc[25419]: Class TKContentView is implemented in both /System/Library/Frameworks/Tk.framework/Versions/8.5/Tk and /Users/serbanstan/anaconda/lib/libtk8.5.dylib. One of the two will be used. Which one is undefined.\n",
      "objc[25419]: Class TKWindow is implemented in both /System/Library/Frameworks/Tk.framework/Versions/8.5/Tk and /Users/serbanstan/anaconda/lib/libtk8.5.dylib. One of the two will be used. Which one is undefined.\n"
     ]
    }
   ],
   "source": [
    "using Laplacians"
   ]
  },
  {
   "cell_type": "code",
   "execution_count": 12,
   "metadata": {
    "collapsed": false
   },
   "outputs": [
    {
     "data": {
      "text/plain": [
       "pcgWorker (generic function with 1 method)"
      ]
     },
     "execution_count": 12,
     "metadata": {},
     "output_type": "execute_result"
    }
   ],
   "source": [
    "include(\"treeSolver.jl\")\n",
    "include(\"IO.jl\")\n",
    "include(\"generators.jl\")\n",
    "include(\"toHighPrecision.jl\")\n",
    "include(\"verbosePCG.jl\")"
   ]
  },
  {
   "cell_type": "code",
   "execution_count": 13,
   "metadata": {
    "collapsed": false
   },
   "outputs": [
    {
     "data": {
      "text/plain": [
       "\"/Users/serbanstan/git/TreePCG/julia\""
      ]
     },
     "execution_count": 13,
     "metadata": {},
     "output_type": "execute_result"
    }
   ],
   "source": [
    "pwd()"
   ]
  },
  {
   "cell_type": "code",
   "execution_count": 14,
   "metadata": {
    "collapsed": false
   },
   "outputs": [
    {
     "data": {
      "text/plain": [
       "\"../graphs/se_7/\""
      ]
     },
     "execution_count": 14,
     "metadata": {},
     "output_type": "execute_result"
    }
   ],
   "source": [
    "graphp = \"../graphs/se_7/\""
   ]
  },
  {
   "cell_type": "code",
   "execution_count": 15,
   "metadata": {
    "collapsed": false
   },
   "outputs": [],
   "source": [
    "a = readFromFile(graphp * \"graph.mtx\");"
   ]
  },
  {
   "cell_type": "code",
   "execution_count": 16,
   "metadata": {
    "collapsed": false
   },
   "outputs": [],
   "source": [
    "tree = readFromFile(graphp * \"tree.mtx\");"
   ]
  },
  {
   "cell_type": "code",
   "execution_count": 17,
   "metadata": {
    "collapsed": false
   },
   "outputs": [],
   "source": [
    "x = readFromFile(graphp * \"x.vec\");"
   ]
  },
  {
   "cell_type": "code",
   "execution_count": 18,
   "metadata": {
    "collapsed": false
   },
   "outputs": [],
   "source": [
    "la = lap(a);\n",
    "x = x - mean(x)\n",
    "b = la * x; b = b - mean(b);"
   ]
  },
  {
   "cell_type": "code",
   "execution_count": 19,
   "metadata": {
    "collapsed": false
   },
   "outputs": [
    {
     "name": "stdout",
     "output_type": "stream",
     "text": [
      "  0.024466 seconds (7.88 k allocations: 3.247 MB, 18.47% gc time)\n",
      "  0.033744 seconds (172.03 k allocations: 3.666 MB)\n"
     ]
    }
   ],
   "source": [
    "@time F = treeSolver(tree)\n",
    "@time F(b);"
   ]
  },
  {
   "cell_type": "code",
   "execution_count": null,
   "metadata": {
    "collapsed": false
   },
   "outputs": [
    {
     "name": "stdout",
     "output_type": "stream",
     "text": [
      "Working on iteration 10 with a-norm error 1.2498752286060086e7\n",
      "Working on iteration 20 with a-norm error 6.470011286297602e6\n",
      "Working on iteration 30 with a-norm error 3.9502254789566426e6\n",
      "Working on iteration 40 with a-norm error 2.776332091328997e6\n",
      "Working on iteration 50 with a-norm error 2.2040920242817006e6\n",
      "Working on iteration 60 with a-norm error 1.8082354640398778e6\n",
      "Working on iteration 70 with a-norm error 1.5107124119369911e6\n",
      "Working on iteration 80 with a-norm error 1.307546396891764e6\n",
      "Working on iteration 90 with a-norm error 1.1596789184401927e6\n",
      "Working on iteration 100 with a-norm error 1.0435765953976188e6\n",
      "Working on iteration 110 with a-norm error 929553.7184270624\n",
      "Working on iteration 120 with a-norm error 836240.7535253817\n",
      "Working on iteration 130 with a-norm error 786210.4993211476\n",
      "Working on iteration 140 with a-norm error 724151.3939733849\n",
      "Working on iteration 150 with a-norm error 668929.5720359728\n",
      "Working on iteration 160 with a-norm error 618895.3468936416\n",
      "Working on iteration 170 with a-norm error 578141.1840161273\n",
      "Working on iteration 180 with a-norm error 532260.3247532278\n",
      "Working on iteration 190 with a-norm error 506215.1858963577\n",
      "Working on iteration 200 with a-norm error 478467.5172968448\n",
      "Working on iteration 210 with a-norm error 453530.9062101052\n",
      "Working on iteration 220 with a-norm error 434555.4935411416\n",
      "Working on iteration 230 with a-norm error 416712.777856519\n",
      "Working on iteration 240 with a-norm error 401457.3555554642\n",
      "Working on iteration 250 with a-norm error 388000.692956638\n",
      "Working on iteration 260 with a-norm error 372682.32697859104\n",
      "Working on iteration 270 with a-norm error 361533.8581923586\n",
      "Working on iteration 280 with a-norm error 347718.88449691975\n",
      "Working on iteration 290 with a-norm error 337557.8009850415\n",
      "Working on iteration 300 with a-norm error 324907.150168006\n",
      "Working on iteration 310 with a-norm error 314820.8613598817\n",
      "Working on iteration 320 with a-norm error 304565.94219857454\n",
      "Working on iteration 330 with a-norm error 294430.92878618446\n",
      "Working on iteration 340 with a-norm error 287736.01943414315\n",
      "Working on iteration 350 with a-norm error 280394.77312334115\n",
      "Working on iteration 360 with a-norm error 275611.29362785764\n",
      "Working on iteration 370 with a-norm error 267680.980660877\n",
      "Working on iteration 380 with a-norm error 260635.40754551848\n",
      "Working on iteration 390 with a-norm error 254433.78655553987\n",
      "Working on iteration 400 with a-norm error 248662.27948713175\n",
      "Working on iteration 410 with a-norm error 241693.1038690719\n",
      "Working on iteration 420 with a-norm error 234680.7218353313\n",
      "Working on iteration 430 with a-norm error 229136.40768192388\n",
      "Working on iteration 440 with a-norm error 223212.01856314737\n",
      "Working on iteration 450 with a-norm error 217600.28745339092\n",
      "Working on iteration 460 with a-norm error 212425.78576812745\n",
      "Working on iteration 470 with a-norm error 208326.18241008386\n",
      "Working on iteration 480 with a-norm error 204653.00927481535\n",
      "Working on iteration 490 with a-norm error 200002.76890534928\n",
      "Working on iteration 500 with a-norm error 196898.84051133023\n",
      "Working on iteration 510 with a-norm error 193782.99924454678\n",
      "Working on iteration 520 with a-norm error 190701.36894995283\n",
      "Working on iteration 530 with a-norm error 187041.92777232148\n",
      "Working on iteration 540 with a-norm error 184432.00586858208\n",
      "Working on iteration 550 with a-norm error 181370.4028798745\n",
      "Working on iteration 560 with a-norm error 178255.1023243684\n",
      "Working on iteration 570 with a-norm error 174464.37127212217\n",
      "Working on iteration 580 with a-norm error 172069.80665450695\n",
      "Working on iteration 590 with a-norm error 169061.37011312626\n",
      "Working on iteration 600 with a-norm error 165013.3550991784\n",
      "Working on iteration 610 with a-norm error 161613.99944539845\n",
      "Working on iteration 620 with a-norm error 158828.8337284905\n",
      "Working on iteration 630 with a-norm error 155747.35960650642\n",
      "Working on iteration 640 with a-norm error 153372.34061345147\n",
      "Working on iteration 650 with a-norm error 150698.5124178306\n",
      "Working on iteration 660 with a-norm error 147822.99501082592\n",
      "Working on iteration 670 with a-norm error 144673.9824138794\n",
      "Working on iteration 680 with a-norm error 142635.40358508937\n",
      "Working on iteration 690 with a-norm error 140756.7212963335\n",
      "Working on iteration 700 with a-norm error 138443.81782130376\n",
      "Working on iteration 710 with a-norm error 136448.1960136198\n",
      "Working on iteration 720 with a-norm error 134719.54809735954\n",
      "Working on iteration 730 with a-norm error 132508.96571291503\n",
      "Working on iteration 740 with a-norm error 130405.53539279429\n",
      "Working on iteration 750 with a-norm error 127883.68221183681\n",
      "Working on iteration 760 with a-norm error 126558.33315112672\n",
      "Working on iteration 770 with a-norm error 124445.4648097793\n",
      "Working on iteration 780 with a-norm error 123254.06155131046\n",
      "Working on iteration 790 with a-norm error 121943.88456322307\n",
      "Working on iteration 800 with a-norm error 120599.81670466957\n",
      "Working on iteration 810 with a-norm error 118102.05065057817\n",
      "Working on iteration 820 with a-norm error 116578.86130275592\n",
      "Working on iteration 830 with a-norm error 114928.79441583398\n",
      "Working on iteration 840 with a-norm error 113325.43390173878\n",
      "Working on iteration 850 with a-norm error 111913.06883640654\n",
      "Working on iteration 860 with a-norm error 110094.74513256075\n",
      "Working on iteration 870 with a-norm error 108651.25098631247\n",
      "Working on iteration 880 with a-norm error 107103.67781307295\n",
      "Working on iteration 890 with a-norm error 105557.55514017961\n",
      "Working on iteration 900 with a-norm error 104354.68372353018\n",
      "Working on iteration 910 with a-norm error 103146.96214843822\n",
      "Working on iteration 920 with a-norm error 101813.78541777749\n",
      "Working on iteration 930 with a-norm error 100628.5649752874\n",
      "Working on iteration 940 with a-norm error 99272.29775192696\n",
      "Working on iteration 950 with a-norm error 97821.71497007151\n",
      "Working on iteration 960 with a-norm error 96436.25067912054\n",
      "Working on iteration 970 with a-norm error 95321.82582699132\n",
      "Working on iteration 980 with a-norm error 94214.77434576773\n"
     ]
    }
   ],
   "source": [
    "# a run on standard Float64 data types\n",
    "numIts = 10000;\n",
    "@time myx64,dbg = pcgV(la, b, F, x, maxits=numIts, verbose=true);\n",
    "norm(lap(a) * myx64 - b) / norm(b)\n",
    "insert!(dbg, 1, \"$(numIts) iterations\")\n",
    "insert!(dbg, 1, \"anorm = sqrt((x-truex)' * la * (x-truex)), err2_a = norm(la*x-b) / norm(b), err2_b = norm(x-truex)\")\n",
    "writeToFile(graphp * \"_log_julia_default.txt\", dbg)"
   ]
  },
  {
   "cell_type": "code",
   "execution_count": null,
   "metadata": {
    "collapsed": false
   },
   "outputs": [
    {
     "name": "stdout",
     "output_type": "stream",
     "text": [
      "Working on iteration 10 with a-norm error 1.452370308300438e9\n",
      "Working on iteration 20 with a-norm error 7.219248657308702e8\n",
      "Working on iteration 30 with a-norm error 4.391977195583564e8\n",
      "Working on iteration 40 with a-norm error 3.099648890811332e8\n",
      "Working on iteration 50 with a-norm error 2.4318406112023753e8\n",
      "Working on iteration 60 with a-norm error 1.8706593154843011e8\n",
      "Working on iteration 70 with a-norm error 1.6108499847329772e8\n",
      "Working on iteration 80 with a-norm error 1.3942649000701252e8\n",
      "Working on iteration 90 with a-norm error 1.231320684004477e8\n",
      "Working on iteration 100 with a-norm error 1.0943336527149726e8\n",
      "Working on iteration 110 with a-norm error 9.973292625479415e7\n",
      "Working on iteration 120 with a-norm error 9.103542204147653e7\n",
      "Working on iteration 130 with a-norm error 8.221586903093137e7\n",
      "Working on iteration 140 with a-norm error 7.618358641998267e7\n",
      "Working on iteration 150 with a-norm error 7.095497446906851e7\n",
      "Working on iteration 160 with a-norm error 6.588575000509369e7\n",
      "Working on iteration 170 with a-norm error 6.2866191815564066e7\n",
      "Working on iteration 180 with a-norm error 5.950101487076534e7\n",
      "Working on iteration 190 with a-norm error 5.6811171065687105e7\n",
      "Working on iteration 200 with a-norm error 5.420300605201127e7\n",
      "Working on iteration 210 with a-norm error 5.120586130931222e7\n",
      "Working on iteration 220 with a-norm error 4.855992107471387e7\n",
      "Working on iteration 230 with a-norm error 4.588954243958253e7\n",
      "Working on iteration 240 with a-norm error 4.36543679799246e7\n",
      "Working on iteration 250 with a-norm error 4.185234859441366e7\n",
      "Working on iteration 260 with a-norm error 3.9314603028289385e7\n",
      "Working on iteration 270 with a-norm error 3.738981160955624e7\n",
      "Working on iteration 280 with a-norm error 3.6169215049137436e7\n",
      "Working on iteration 290 with a-norm error 3.462988127580648e7\n",
      "Working on iteration 300 with a-norm error 3.320039966199071e7\n",
      "Working on iteration 310 with a-norm error 3.2301421081507694e7\n",
      "Working on iteration 320 with a-norm error 3.1044092154438823e7\n",
      "Working on iteration 330 with a-norm error 2.9785720862392925e7\n",
      "Working on iteration 340 with a-norm error 2.9081584488634437e7\n",
      "Working on iteration 350 with a-norm error 2.839808184565009e7\n",
      "Working on iteration 360 with a-norm error 2.772269918815987e7\n",
      "Working on iteration 370 with a-norm error 2.686546603016129e7\n",
      "Working on iteration 380 with a-norm error 2.5945901719782017e7\n",
      "Working on iteration 390 with a-norm error 2.5356303637988716e7\n",
      "Working on iteration 400 with a-norm error 2.46552243552251e7\n",
      "Working on iteration 410 with a-norm error 2.400377575735514e7\n",
      "Working on iteration 420 with a-norm error 2.346779397900164e7\n",
      "Working on iteration 430 with a-norm error 2.2892093964740086e7\n",
      "Working on iteration 440 with a-norm error 2.236463450924061e7\n",
      "Working on iteration 450 with a-norm error 2.1865317250749577e7\n",
      "Working on iteration 460 with a-norm error 2.1387069488818143e7\n",
      "Working on iteration 470 with a-norm error 2.092481926166938e7\n",
      "Working on iteration 480 with a-norm error 2.049014489767158e7\n",
      "Working on iteration 490 with a-norm error 2.017605958226811e7\n",
      "Working on iteration 500 with a-norm error 1.98397377961444e7\n",
      "Working on iteration 510 with a-norm error 1.9430787949218415e7\n"
     ]
    }
   ],
   "source": [
    "numIts = 10000\n",
    "for hp in [64,256,4096]\n",
    "    set_bigfloat_precision(hp)\n",
    "    laHP = toHighPrecision(la; precision=hp)\n",
    "    treeHP = toHighPrecision(tree; precision=hp)\n",
    "    xHP = toHighPrecision(x; precision=hp);\n",
    "    bHP = toHighPrecision(b; precision=hp);\n",
    "    FHP = treeSolver(treeHP)\n",
    "    \n",
    "    @time myxHP,dbg = pcgV(laHP, bHP, FHP, xHP, maxits=numIts, verbose=true);\n",
    "    insert!(dbg, 1, \"$(numIts) iterations\")\n",
    "    insert!(dbg, 1, \"anorm = sqrt((x-truex)' * la * (x-truex)), err2_a = norm(la*x-b) / norm(b), err2_b = norm(x-truex)\")\n",
    "    writeToFile(graphp * \"_log_julia_$(hp).txt\", dbg)\n",
    "end"
   ]
  },
  {
   "cell_type": "code",
   "execution_count": null,
   "metadata": {
    "collapsed": true
   },
   "outputs": [],
   "source": []
  }
 ],
 "metadata": {
  "kernelspec": {
   "display_name": "Julia 0.4.6",
   "language": "julia",
   "name": "julia-0.4"
  },
  "language_info": {
   "file_extension": ".jl",
   "mimetype": "application/julia",
   "name": "julia",
   "version": "0.4.6"
  }
 },
 "nbformat": 4,
 "nbformat_minor": 0
}
