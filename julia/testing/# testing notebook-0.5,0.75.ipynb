{
 "cells": [
  {
   "cell_type": "code",
   "execution_count": 1,
   "metadata": {
    "collapsed": false
   },
   "outputs": [
    {
     "data": {
      "text/plain": [
       "parseData (generic function with 1 method)"
      ]
     },
     "execution_count": 1,
     "metadata": {},
     "output_type": "execute_result"
    }
   ],
   "source": [
    "include(\"../src/Julia.jl\")"
   ]
  },
  {
   "cell_type": "code",
   "execution_count": 2,
   "metadata": {
    "collapsed": false
   },
   "outputs": [
    {
     "data": {
      "text/plain": [
       "\"/Users/serbanstan/git/TreePCG/julia/testing\""
      ]
     },
     "execution_count": 2,
     "metadata": {},
     "output_type": "execute_result"
    }
   ],
   "source": [
    "pwd()"
   ]
  },
  {
   "cell_type": "code",
   "execution_count": 3,
   "metadata": {
    "collapsed": false
   },
   "outputs": [],
   "source": [
    "gpath = \"../../graphs/\";"
   ]
  },
  {
   "cell_type": "code",
   "execution_count": 4,
   "metadata": {
    "collapsed": false
   },
   "outputs": [
    {
     "data": {
      "text/plain": [
       "6-element Array{ByteString,1}:\n",
       " \"pathDisjoint_30_exp20\"\n",
       " \"pathRand_100000_u11\"  \n",
       " \"pathRand_1000_u11\"    \n",
       " \"pathRand_1000_u11_dup\"\n",
       " \"rand_1000_iu10\"       \n",
       " \"rand_1000_iu100\"      "
      ]
     },
     "execution_count": 4,
     "metadata": {},
     "output_type": "execute_result"
    }
   ],
   "source": [
    "graphs = readdir(\"../../graphs\");\n",
    "graphs = graphs[ceil(Int64,length(graphs)/2)+1:ceil(Int64,length(graphs)*3/4)]"
   ]
  },
  {
   "cell_type": "code",
   "execution_count": 5,
   "metadata": {
    "collapsed": false
   },
   "outputs": [
    {
     "name": "stdout",
     "output_type": "stream",
     "text": [
      "skipping pathDisjoint_30_exp20\n",
      "\n",
      "skipping pathRand_100000_u11\n",
      "\n",
      "skipping pathRand_1000_u11\n",
      "\n",
      "skipping pathRand_1000_u11_dup\n",
      "\n",
      "  0.529611 seconds (606.99 k allocations: 25.152 MB, 0.93% gc time)\n",
      "  0.171718 seconds (110.96 k allocations: 4.243 MB)\n",
      "  1.386172 seconds (18.23 M allocations: 462.461 MB, 5.46% gc time)\n",
      "117.919060 seconds (617.11 M allocations: 15.488 GB, 26.20% gc time)\n",
      "121.567976 seconds (616.89 M allocations: 17.004 GB, 26.30% gc time)\n",
      "136.411217 seconds (616.89 M allocations: 20.053 GB, 25.38% gc time)\n",
      "154.788961 seconds (616.89 M allocations: 26.152 GB, 26.77% gc time)\n",
      "183.955783 seconds (616.89 M allocations: 38.349 GB, 28.95% gc time)\n",
      "  0.001760 seconds (5.14 k allocations: 586.766 KB)\n",
      "  0.000811 seconds (17.94 k allocations: 344.031 KB)\n",
      "  1.049068 seconds (18.02 M allocations: 452.727 MB, 13.59% gc time)\n",
      "113.643220 seconds (616.89 M allocations: 15.479 GB, 26.92% gc time)\n",
      "128.494607 seconds (616.89 M allocations: 17.004 GB, 26.50% gc time)\n",
      "138.627750 seconds (616.89 M allocations: 20.053 GB, 25.79% gc time)\n",
      "159.870868 seconds (616.89 M allocations: 26.152 GB, 26.45% gc time)\n",
      "177.489712 seconds (616.89 M allocations: 38.349 GB, 29.36% gc time)\n",
      "  0.001869 seconds (5.14 k allocations: 587.297 KB)\n",
      "  0.000651 seconds (17.89 k allocations: 343.188 KB)\n",
      "  0.939626 seconds (17.96 M allocations: 451.890 MB, 16.14% gc time)\n",
      "109.083458 seconds (616.84 M allocations: 15.479 GB, 27.25% gc time)\n",
      "128.970078 seconds (616.84 M allocations: 17.003 GB, 26.55% gc time)\n",
      "137.440513 seconds (616.84 M allocations: 20.052 GB, 26.05% gc time)\n",
      "150.515486 seconds (616.84 M allocations: 26.151 GB, 26.86% gc time)\n",
      "179.588973 seconds (616.84 M allocations: 38.348 GB, 29.05% gc time)\n",
      "  0.002437 seconds (5.14 k allocations: 586.766 KB)\n",
      "  0.000933 seconds (17.92 k allocations: 343.656 KB)\n",
      "  0.982799 seconds (17.99 M allocations: 452.373 MB, 14.29% gc time)\n",
      "117.620636 seconds (616.87 M allocations: 15.479 GB, 27.07% gc time)\n",
      "123.874332 seconds (616.87 M allocations: 17.004 GB, 26.89% gc time)\n",
      "144.301165 seconds (616.87 M allocations: 20.053 GB, 25.68% gc time)\n",
      "156.762355 seconds (616.87 M allocations: 26.151 GB, 26.63% gc time)\n",
      "188.238188 seconds (616.87 M allocations: 38.348 GB, 28.57% gc time)\n",
      "  0.002363 seconds (5.14 k allocations: 587.297 KB)\n",
      "  0.000656 seconds (17.93 k allocations: 343.906 KB)\n",
      "  1.021589 seconds (18.01 M allocations: 452.613 MB, 12.95% gc time)\n",
      "118.124506 seconds (616.89 M allocations: 15.479 GB, 27.30% gc time)\n",
      "130.642048 seconds (616.89 M allocations: 17.004 GB, 26.74% gc time)\n",
      "143.192219 seconds (616.89 M allocations: 20.053 GB, 26.06% gc time)\n",
      "154.510979 seconds (616.89 M allocations: 26.152 GB, 26.33% gc time)\n",
      "177.270840 seconds (616.89 M allocations: 38.348 GB, 29.05% gc time)\n",
      "3601.048149 seconds (15.52 G allocations: 587.643 GB, 27.07% gc time)\n",
      "finished running on rand_1000_iu10\n",
      "\n",
      "  0.001856 seconds (5.14 k allocations: 586.766 KB)\n",
      "  0.000715 seconds (17.95 k allocations: 344.219 KB)\n",
      "  1.022290 seconds (18.03 M allocations: 452.926 MB, 13.37% gc time)\n",
      "118.180954 seconds (615.95 M allocations: 15.456 GB, 27.54% gc time)\n",
      "123.764954 seconds (615.95 M allocations: 16.978 GB, 26.94% gc time)\n",
      "143.976435 seconds (615.95 M allocations: 20.022 GB, 26.38% gc time)\n",
      "170.241388 seconds (615.95 M allocations: 26.111 GB, 26.13% gc time)\n",
      "193.183358 seconds (615.95 M allocations: 38.289 GB, 28.38% gc time)\n",
      "  0.002173 seconds (5.14 k allocations: 586.766 KB)\n",
      "  0.001076 seconds (17.94 k allocations: 343.969 KB)\n",
      "  1.242358 seconds (18.01 M allocations: 452.665 MB, 12.41% gc time)\n",
      "129.559233 seconds (615.93 M allocations: 15.456 GB, 27.12% gc time)\n",
      "144.683096 seconds (615.93 M allocations: 16.978 GB, 27.00% gc time)\n",
      "155.478576 seconds (615.93 M allocations: 20.022 GB, 26.45% gc time)\n",
      "167.785773 seconds (615.93 M allocations: 26.111 GB, 26.12% gc time)\n",
      "201.058235 seconds (615.93 M allocations: 38.289 GB, 28.04% gc time)\n",
      "  0.001777 seconds (5.14 k allocations: 587.297 KB)\n",
      "  0.000659 seconds (17.93 k allocations: 343.844 KB)\n",
      "  1.074387 seconds (18.00 M allocations: 452.529 MB, 13.84% gc time)\n",
      "131.169891 seconds (615.92 M allocations: 15.455 GB, 26.81% gc time)\n",
      "142.002826 seconds (615.92 M allocations: 16.978 GB, 27.21% gc time)\n",
      "151.554252 seconds (615.92 M allocations: 20.022 GB, 26.62% gc time)\n",
      "172.655385 seconds (615.92 M allocations: 26.111 GB, 25.94% gc time)\n",
      "197.997052 seconds (615.92 M allocations: 38.289 GB, 28.17% gc time)\n",
      "  0.034378 seconds (5.14 k allocations: 587.297 KB, 93.14% gc time)\n",
      "  0.000954 seconds (17.94 k allocations: 343.969 KB)\n",
      "  1.043842 seconds (18.01 M allocations: 452.683 MB, 11.39% gc time)\n",
      "135.494669 seconds (615.93 M allocations: 15.456 GB, 26.69% gc time)\n",
      "141.492821 seconds (615.93 M allocations: 16.978 GB, 27.05% gc time)\n",
      "150.871649 seconds (615.93 M allocations: 20.022 GB, 26.61% gc time)\n",
      "171.023601 seconds (615.93 M allocations: 26.111 GB, 25.66% gc time)\n",
      "197.950231 seconds (615.93 M allocations: 38.289 GB, 28.14% gc time)\n",
      "  0.002485 seconds (5.14 k allocations: 587.297 KB)\n",
      "  0.000978 seconds (17.91 k allocations: 343.438 KB)\n",
      "  1.123365 seconds (17.98 M allocations: 452.161 MB, 12.46% gc time)\n",
      "128.660079 seconds (615.90 M allocations: 15.455 GB, 26.98% gc time)\n",
      "133.847926 seconds (615.90 M allocations: 16.977 GB, 27.40% gc time)\n",
      "156.540082 seconds (615.90 M allocations: 20.022 GB, 26.19% gc time)\n",
      "170.840678 seconds (615.90 M allocations: 26.111 GB, 25.29% gc time)\n",
      "193.198386 seconds (615.90 M allocations: 38.288 GB, 28.35% gc time)\n",
      "3929.567379 seconds (15.49 G allocations: 586.651 GB, 26.95% gc time)\n",
      "finished running on rand_1000_iu100\n",
      "\n"
     ]
    }
   ],
   "source": [
    "for cur in graphs\n",
    "    path = gpath * cur * \"/\"\n",
    "    \n",
    "    try\n",
    "        a = readFromFile(path * \"graph.mtx\");\n",
    "        x = readFromFile(path * \"x.vec\");\n",
    "        \n",
    "        tree = []\n",
    "        for ind in 1:5\n",
    "            tr = readFromFile(path * \"tree$(ind).mtx\");\n",
    "            \n",
    "            u,v,w = findnz(tr)\n",
    "            for i in 1:length(w)\n",
    "                w[i] = a[u[i],v[i]]\n",
    "            end\n",
    "            tr = sparse(u,v,w)\n",
    "            \n",
    "            push!(tree, tr);\n",
    "        end\n",
    "        \n",
    "        la = lap(a);\n",
    "        x = x - mean(x)\n",
    "        b = la * x; b = b - mean(b);\n",
    "        \n",
    "        numIts = 1000;\n",
    "        @time for i in 1:5\n",
    "            @time F = treeSolver(tree[i])\n",
    "            @time F(b);\n",
    "\n",
    "            # a run on standard Float64 data types\n",
    "            @time myx64,dbg = pcgV(la, b, F, x, maxits=numIts, verbose=false);\n",
    "            norm(lap(a) * myx64 - b) / norm(b)\n",
    "            insert!(dbg, 1, \"$(numIts) iterations\")\n",
    "            insert!(dbg, 1, \"anorm = sqrt((x-truex)' * la * (x-truex)), err2_a = norm(la*x-b) / norm(b), err2_b = norm(x-truex)\")\n",
    "            writeToFile(path * \"_log_julia_tree$(i)_default.txt\", dbg)\n",
    "\n",
    "            # now useing higer precision data types\n",
    "            for hp in [64,128,256,512,1024]\n",
    "                set_bigfloat_precision(hp)\n",
    "                laHP = toHighPrecision(la; precision=hp)\n",
    "                treeHP = toHighPrecision(tree[i]; precision=hp)\n",
    "                xHP = toHighPrecision(x; precision=hp);\n",
    "                bHP = toHighPrecision(b; precision=hp);\n",
    "                FHP = treeSolver(treeHP)\n",
    "\n",
    "                @time myxHP,dbg = pcgV(laHP, bHP, FHP, xHP, maxits=numIts, verbose=false);\n",
    "                insert!(dbg, 1, \"$(numIts) iterations\")\n",
    "                insert!(dbg, 1, \"anorm = sqrt((x-truex)' * la * (x-truex)), err2_a = norm(la*x-b) / norm(b), err2_b = norm(x-truex)\")\n",
    "                writeToFile(path * \"_log_julia_tree$(i)_$(hp).txt\", dbg)\n",
    "            end\n",
    "        end\n",
    "            \n",
    "        println(\"finished running on \", cur, \"\\n\")\n",
    "    catch\n",
    "        println(\"skipping \", cur, \"\\n\")\n",
    "    end\n",
    "end"
   ]
  },
  {
   "cell_type": "code",
   "execution_count": null,
   "metadata": {
    "collapsed": true
   },
   "outputs": [],
   "source": []
  },
  {
   "cell_type": "code",
   "execution_count": null,
   "metadata": {
    "collapsed": true
   },
   "outputs": [],
   "source": []
  }
 ],
 "metadata": {
  "anaconda-cloud": {},
  "kernelspec": {
   "display_name": "Julia 0.4.6",
   "language": "julia",
   "name": "julia-0.4"
  },
  "language_info": {
   "file_extension": ".jl",
   "mimetype": "application/julia",
   "name": "julia",
   "version": "0.4.6"
  }
 },
 "nbformat": 4,
 "nbformat_minor": 0
}
