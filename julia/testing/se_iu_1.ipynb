{
 "cells": [
  {
   "cell_type": "code",
   "execution_count": 1,
   "metadata": {
    "collapsed": false
   },
   "outputs": [
    {
     "name": "stderr",
     "output_type": "stream",
     "text": [
      "objc[10057]: Class TKApplication is implemented in both /Users/serbanstan/anaconda/lib/libtk8.5.dylib and /System/Library/Frameworks/Tk.framework/Versions/8.5/Tk. One of the two will be used. Which one is undefined.\n",
      "objc[10057]: Class TKMenu is implemented in both /Users/serbanstan/anaconda/lib/libtk8.5.dylib and /System/Library/Frameworks/Tk.framework/Versions/8.5/Tk. One of the two will be used. Which one is undefined.\n",
      "objc[10057]: Class TKContentView is implemented in both /Users/serbanstan/anaconda/lib/libtk8.5.dylib and /System/Library/Frameworks/Tk.framework/Versions/8.5/Tk. One of the two will be used. Which one is undefined.\n",
      "objc[10057]: Class TKWindow is implemented in both /Users/serbanstan/anaconda/lib/libtk8.5.dylib and /System/Library/Frameworks/Tk.framework/Versions/8.5/Tk. One of the two will be used. Which one is undefined.\n"
     ]
    },
    {
     "data": {
      "text/plain": [
       "pcgWorker (generic function with 1 method)"
      ]
     },
     "execution_count": 1,
     "metadata": {},
     "output_type": "execute_result"
    }
   ],
   "source": [
    "include(\"../src/Julia.jl\")"
   ]
  },
  {
   "cell_type": "code",
   "execution_count": 2,
   "metadata": {
    "collapsed": false
   },
   "outputs": [
    {
     "data": {
      "text/plain": [
       "\"/Users/serbanstan/git/TreePCG/julia/testing\""
      ]
     },
     "execution_count": 2,
     "metadata": {},
     "output_type": "execute_result"
    }
   ],
   "source": [
    "pwd()"
   ]
  },
  {
   "cell_type": "code",
   "execution_count": 3,
   "metadata": {
    "collapsed": false
   },
   "outputs": [
    {
     "data": {
      "text/plain": [
       "\"../../graphs/se_iu_1/\""
      ]
     },
     "execution_count": 3,
     "metadata": {},
     "output_type": "execute_result"
    }
   ],
   "source": [
    "graphp = \"../../graphs/se_iu_1/\""
   ]
  },
  {
   "cell_type": "code",
   "execution_count": 4,
   "metadata": {
    "collapsed": false
   },
   "outputs": [],
   "source": [
    "a = readFromFile(graphp * \"graph.mtx\");"
   ]
  },
  {
   "cell_type": "code",
   "execution_count": 5,
   "metadata": {
    "collapsed": false
   },
   "outputs": [],
   "source": [
    "tree = []\n",
    "for i in 1:3\n",
    "    tr = readFromFile(graphp * \"tree$(i).mtx\");\n",
    "    push!(tree, tr);\n",
    "end"
   ]
  },
  {
   "cell_type": "code",
   "execution_count": 6,
   "metadata": {
    "collapsed": false
   },
   "outputs": [],
   "source": [
    "x = readFromFile(graphp * \"x.vec\");"
   ]
  },
  {
   "cell_type": "code",
   "execution_count": 7,
   "metadata": {
    "collapsed": false
   },
   "outputs": [],
   "source": [
    "la = lap(a);\n",
    "x = x - mean(x)\n",
    "b = la * x; b = b - mean(b);"
   ]
  },
  {
   "cell_type": "code",
   "execution_count": 8,
   "metadata": {
    "collapsed": false
   },
   "outputs": [
    {
     "name": "stdout",
     "output_type": "stream",
     "text": [
      "  2.253703 seconds (275.03 k allocations: 11.677 MB, 1.39% gc time)\n",
      "  1.346041 seconds (123.81 k allocations: 4.983 MB)\n",
      "  5.276147 seconds (3.17 M allocations: 95.306 MB, 11.19% gc time)\n",
      "Working on iteration 10 with a-norm error 67.42510135755549\n",
      "Working on iteration 20 with a-norm error 34.54635474830288\n",
      "Working on iteration 30 with a-norm error 12.837849647590465\n",
      "Working on iteration 40 with a-norm error 6.660652425719065\n",
      "Working on iteration 50 with a-norm error 3.039593466635529\n",
      "Working on iteration 60 with a-norm error 1.3663229494979006\n",
      "Working on iteration 70 with a-norm error 0.6175579826258956\n",
      "Working on iteration 80 with a-norm error 0.27278918607844926\n",
      "Working on iteration 90 with a-norm error 0.12012896761056589\n",
      "Working on iteration 100 with a-norm error 0.060904176470878604\n",
      "Working on iteration 110 with a-norm error 0.025246716865328558\n",
      "Working on iteration 120 with a-norm error 0.013253828282152965\n",
      "Working on iteration 130 with a-norm error 0.006565980244776111\n",
      "Working on iteration 140 with a-norm error 0.0028834159200367034\n",
      "Working on iteration 150 with a-norm error 0.0013523727405534993\n",
      "Working on iteration 160 with a-norm error 0.0005568874907719369\n",
      "Working on iteration 170 with a-norm error 0.00027145625206838385\n",
      "Working on iteration 180 with a-norm error 0.0001133712764330025\n",
      "Working on iteration 190 with a-norm error 4.256378562674877e-5\n",
      "Working on iteration 200 with a-norm error 1.9377249872865875e-5\n",
      "PCG stopped after: 200 iterations with relative error 1.7356807936958683e-5.\n",
      "249.045252 seconds (207.01 M allocations: 5.176 GB, 27.44% gc time)\n",
      "Working on iteration 10 with a-norm error 67.42510135755549\n",
      "Working on iteration 20 with a-norm error 30.653783644231133\n",
      "Working on iteration 30 with a-norm error 11.100360585366873\n",
      "Working on iteration 40 with a-norm error 4.901537282067348\n",
      "Working on iteration 50 with a-norm error 1.7706500515596197\n",
      "Working on iteration 60 with a-norm error 0.6404874971832614\n",
      "Working on iteration 70 with a-norm error 0.24083911141679276\n",
      "Working on iteration 80 with a-norm error 0.09725382773456137\n",
      "Working on iteration 90 with a-norm error 0.03254873624501634\n",
      "Working on iteration 100 with a-norm error 0.012533036061615415\n",
      "Working on iteration 110 with a-norm error 0.004256043183673814\n",
      "Working on iteration 120 with a-norm error 0.001821042765747005\n",
      "Working on iteration 130 with a-norm error 0.0006366923652909085\n",
      "Working on iteration 140 with a-norm error 0.0002299258593548612\n",
      "Working on iteration 150 with a-norm error 6.681081749961513e-5\n",
      "Working on iteration 160 with a-norm error 1.997355584445696e-5\n",
      "Working on iteration 170 with a-norm error 5.910561569826399e-6\n",
      "Working on iteration 180 with a-norm error 2.146728615003852e-6\n",
      "Working on iteration 190 with a-norm error 6.664353779228053e-7\n",
      "Working on iteration 200 with a-norm error 2.079109926727603e-7\n",
      "PCG stopped after: 200 iterations with relative error 1.8530445813272005e-7.\n",
      "132.448041 seconds (206.72 M allocations: 5.676 GB, 28.04% gc time)\n",
      "Working on iteration 10 with a-norm error 67.42510135755549\n",
      "Working on iteration 20 with a-norm error 30.653783644231133\n",
      "Working on iteration 30 with a-norm error 11.100336866105001\n",
      "Working on iteration 40 with a-norm error 3.998795654671497\n",
      "Working on iteration 50 with a-norm error 1.2193918015008296\n",
      "Working on iteration 60 with a-norm error 0.34977496450046514\n",
      "Working on iteration 70 with a-norm error 0.09467801216127063\n",
      "Working on iteration 80 with a-norm error 0.02535493614310405\n",
      "Working on iteration 90 with a-norm error 0.006065228175974247\n",
      "Working on iteration 100 with a-norm error 0.0012613395931570987\n",
      "Working on iteration 110 with a-norm error 0.00022070116644502862\n",
      "Working on iteration 120 with a-norm error 3.5777135394267805e-5\n",
      "Working on iteration 130 with a-norm error 5.296942056442105e-6\n",
      "Working on iteration 140 with a-norm error 7.124271940736036e-7\n",
      "Working on iteration 150 with a-norm error 8.911275894016105e-8\n",
      "Working on iteration 160 with a-norm error 1.2894861405291788e-8\n",
      "Working on iteration 170 with a-norm error 1.369345810616185e-9\n",
      "Working on iteration 180 with a-norm error 1.3267117680566782e-10\n",
      "Working on iteration 190 with a-norm error 1.5632083326650324e-11\n",
      "Working on iteration 200 with a-norm error 1.0635023733995707e-12\n",
      "PCG stopped after: 200 iterations with relative error 1.0551023488408075e-12.\n",
      "215.735129 seconds (206.72 M allocations: 12.839 GB, 30.74% gc time)\n",
      "  0.027942 seconds (10.11 k allocations: 710.438 KB)\n",
      "  0.004413 seconds (13.43 k allocations: 273.469 KB)\n",
      "  0.667483 seconds (2.71 M allocations: 75.441 MB, 13.33% gc time)\n",
      "Working on iteration 10 with a-norm error 86.26812049305322\n",
      "Working on iteration 20 with a-norm error 57.59779746000486\n",
      "Working on iteration 30 with a-norm error 36.723985783847645\n",
      "Working on iteration 40 with a-norm error 20.95752600045709\n",
      "Working on iteration 50 with a-norm error 12.233738865679836\n",
      "Working on iteration 60 with a-norm error 7.14105530211858\n",
      "Working on iteration 70 with a-norm error 4.114998119052354\n",
      "Working on iteration 80 with a-norm error 2.4629626704256755\n",
      "Working on iteration 90 with a-norm error 1.4887156744611436\n",
      "Working on iteration 100 with a-norm error 0.9232580887033199\n",
      "Working on iteration 110 with a-norm error 0.5861504917198167\n",
      "Working on iteration 120 with a-norm error 0.34300123710660374\n",
      "Working on iteration 130 with a-norm error 0.177870268155964\n",
      "Working on iteration 140 with a-norm error 0.10931527647246356\n",
      "Working on iteration 150 with a-norm error 0.06654277623184496\n",
      "Working on iteration 160 with a-norm error 0.0404301764819289\n",
      "Working on iteration 170 with a-norm error 0.022791541277912265\n",
      "Working on iteration 180 with a-norm error 0.013149216883938398\n",
      "Working on iteration 190 with a-norm error 0.00788663323391971\n",
      "Working on iteration 200 with a-norm error 0.005153489144717495\n",
      "PCG stopped after: 200 iterations with relative error 0.004973829324082751.\n",
      "135.679729 seconds (206.73 M allocations: 5.164 GB, 28.17% gc time)\n",
      "Working on iteration 10 with a-norm error 86.26812049305322\n",
      "Working on iteration 20 with a-norm error 55.13695400502915\n",
      "Working on iteration 30 with a-norm error 32.51699657323284\n",
      "Working on iteration 40 with a-norm error 16.820452963893022\n",
      "Working on iteration 50 with a-norm error 7.737762415305281\n",
      "Working on iteration 60 with a-norm error 4.10841878987053\n",
      "Working on iteration 70 with a-norm error 1.98808548953115\n",
      "Working on iteration 80 with a-norm error 1.0022088637062327\n",
      "Working on iteration 90 with a-norm error 0.47021643289751364\n",
      "Working on iteration 100 with a-norm error 0.2816462119971547\n",
      "Working on iteration 110 with a-norm error 0.1389115450977685\n",
      "Working on iteration 120 with a-norm error 0.06405109840930495\n",
      "Working on iteration 130 with a-norm error 0.033293012928468146\n",
      "Working on iteration 140 with a-norm error 0.01651667763764803\n",
      "Working on iteration 150 with a-norm error 0.00789800411044355\n",
      "Working on iteration 160 with a-norm error 0.003665748216204633\n",
      "Working on iteration 170 with a-norm error 0.002075744465780189\n",
      "Working on iteration 180 with a-norm error 0.0009513527684872291\n",
      "Working on iteration 190 with a-norm error 0.0005179070640693171\n",
      "Working on iteration 200 with a-norm error 0.0002389031997917085\n",
      "PCG stopped after: 200 iterations with relative error 0.00022569218597659894.\n",
      "141.997839 seconds (206.73 M allocations: 5.676 GB, 27.96% gc time)\n",
      "Working on iteration 10 with a-norm error 86.26812049305322\n",
      "Working on iteration 20 with a-norm error 55.13695400502915\n",
      "Working on iteration 30 with a-norm error 30.387998896319115\n",
      "Working on iteration 40 with a-norm error 14.188805893490128\n",
      "Working on iteration 50 with a-norm error 5.983249482591653\n",
      "Working on iteration 60 with a-norm error 2.4570584627872685\n",
      "Working on iteration 70 with a-norm error 0.9538517953243012\n",
      "Working on iteration 80 with a-norm error 0.3238151819073266\n",
      "Working on iteration 90 with a-norm error 0.10648772160384003\n",
      "Working on iteration 100 with a-norm error 0.034465694552564236\n",
      "Working on iteration 110 with a-norm error 0.010835905259568216\n",
      "Working on iteration 120 with a-norm error 0.003149354737094353\n",
      "Working on iteration 130 with a-norm error 0.0008471478592617502\n",
      "Working on iteration 140 with a-norm error 0.0002165159617066906\n",
      "Working on iteration 150 with a-norm error 6.066765693157623e-5\n",
      "Working on iteration 160 with a-norm error 1.3363388813221795e-5\n",
      "Working on iteration 170 with a-norm error 2.708976288842829e-6\n",
      "Working on iteration 180 with a-norm error 4.6877488536461986e-7\n",
      "Working on iteration 190 with a-norm error 8.623148306714764e-8\n",
      "Working on iteration 200 with a-norm error 1.6532345170229558e-8\n",
      "PCG stopped after: 200 iterations with relative error 1.3897978169666497e-8.\n",
      "291.787159 seconds (206.73 M allocations: 12.839 GB, 33.64% gc time)\n",
      "  0.020496 seconds (10.11 k allocations: 710.969 KB)\n",
      "  0.004382 seconds (13.42 k allocations: 273.313 KB)\n",
      "  1.018383 seconds (2.71 M allocations: 75.410 MB, 19.71% gc time)\n",
      "Working on iteration 10 with a-norm error 99.24367279469757\n",
      "Working on iteration 20 with a-norm error 70.66180990281997\n",
      "Working on iteration 30 with a-norm error 51.354267853682295\n",
      "Working on iteration 40 with a-norm error 36.654349838270385\n",
      "Working on iteration 50 with a-norm error 25.70842508097012\n",
      "Working on iteration 60 with a-norm error 16.24443714613704\n",
      "Working on iteration 70 with a-norm error 11.381367274147081\n",
      "Working on iteration 80 with a-norm error 7.595301574351029\n",
      "Working on iteration 90 with a-norm error 4.627500404693928\n",
      "Working on iteration 100 with a-norm error 3.2939791593446723\n",
      "Working on iteration 110 with a-norm error 2.1882736433029764\n",
      "Working on iteration 120 with a-norm error 1.4646670663408998\n",
      "Working on iteration 130 with a-norm error 0.7990275378118289\n",
      "Working on iteration 140 with a-norm error 0.5772488428614132\n",
      "Working on iteration 150 with a-norm error 0.36562665291158125\n",
      "Working on iteration 160 with a-norm error 0.24546666903788072\n",
      "Working on iteration 170 with a-norm error 0.1935026063623263\n",
      "Working on iteration 180 with a-norm error 0.13141353919633278\n",
      "Working on iteration 190 with a-norm error 0.0943097384281801\n",
      "Working on iteration 200 with a-norm error 0.062415227585175884\n",
      "PCG stopped after: 200 iterations with relative error 0.06068100220553353.\n",
      "267.121147 seconds (206.72 M allocations: 5.164 GB, 25.55% gc time)\n",
      "Working on iteration 10 with a-norm error 99.24367279469757\n",
      "Working on iteration 20 with a-norm error 68.12230379847975\n",
      "Working on iteration 30 with a-norm error 46.22132099590068\n",
      "Working on iteration 40 with a-norm error 29.831441743859607\n",
      "Working on iteration 50 with a-norm error 17.119580750303694\n",
      "Working on iteration 60 with a-norm error 9.869442177366775\n",
      "Working on iteration 70 with a-norm error 5.053331043266667\n",
      "Working on iteration 80 with a-norm error 2.4790739585109165\n",
      "Working on iteration 90 with a-norm error 1.3598141198502685\n",
      "Working on iteration 100 with a-norm error 0.8265775058406434\n",
      "Working on iteration 110 with a-norm error 0.4644260690432472\n",
      "Working on iteration 120 with a-norm error 0.2660819638304435\n",
      "Working on iteration 130 with a-norm error 0.1355815964857987\n",
      "Working on iteration 140 with a-norm error 0.07878568659612592\n",
      "Working on iteration 150 with a-norm error 0.037731997186903454\n",
      "Working on iteration 160 with a-norm error 0.024655673113723808\n",
      "Working on iteration 170 with a-norm error 0.01312181774721577\n",
      "Working on iteration 180 with a-norm error 0.008644066411151907\n",
      "Working on iteration 190 with a-norm error 0.005299447280516255\n",
      "Working on iteration 200 with a-norm error 0.0029037876876588167\n",
      "PCG stopped after: 200 iterations with relative error 0.0025645120772001795.\n",
      "341.615839 seconds (206.72 M allocations: 5.676 GB, 26.46% gc time)\n",
      "Working on iteration 10 with a-norm error 99.24367279469757\n",
      "Working on iteration 20 with a-norm error 68.12230379847975\n",
      "Working on iteration 30 with a-norm error 44.237994440453065\n",
      "Working on iteration 40 with a-norm error 24.461150213274045\n",
      "Working on iteration 50 with a-norm error 12.11890422128595\n",
      "Working on iteration 60 with a-norm error 4.630697947876911\n",
      "Working on iteration 70 with a-norm error 1.6344984839917738\n",
      "Working on iteration 80 with a-norm error 0.5186291397843368\n",
      "Working on iteration 90 with a-norm error 0.17843571652020257\n",
      "Working on iteration 100 with a-norm error 0.05378617519415998\n",
      "Working on iteration 110 with a-norm error 0.01612102831223749\n",
      "Working on iteration 120 with a-norm error 0.004514863836778168\n",
      "Working on iteration 130 with a-norm error 0.0013595052705793836\n",
      "Working on iteration 140 with a-norm error 0.0003352942750450401\n",
      "Working on iteration 150 with a-norm error 7.056657247440144e-5\n",
      "Working on iteration 160 with a-norm error 1.7900130688984484e-5\n",
      "Working on iteration 170 with a-norm error 3.634197140992214e-6\n",
      "Working on iteration 180 with a-norm error 6.698680992227339e-7\n",
      "Working on iteration 190 with a-norm error 1.276046489137712e-7\n",
      "Working on iteration 200 with a-norm error 2.4528294493810653e-8\n",
      "PCG stopped after: 200 iterations with relative error 2.0201889734303042e-8.\n",
      "356.357168 seconds (206.72 M allocations: 12.839 GB, 28.35% gc time)\n"
     ]
    }
   ],
   "source": [
    "numIts = 200;\n",
    "\n",
    "for i in 1:3\n",
    "    @time F = treeSolver(tree[i])\n",
    "    @time F(b);\n",
    "    \n",
    "    # a run on standard Float64 data types\n",
    "    @time myx64,dbg = pcgV(la, b, F, x, maxits=numIts, verbose=false);\n",
    "    norm(lap(a) * myx64 - b) / norm(b)\n",
    "    insert!(dbg, 1, \"$(numIts) iterations\")\n",
    "    insert!(dbg, 1, \"anorm = sqrt((x-truex)' * la * (x-truex)), err2_a = norm(la*x-b) / norm(b), err2_b = norm(x-truex)\")\n",
    "    writeToFile(graphp * \"_log_julia_tree$(i)_default.txt\", dbg)\n",
    "    \n",
    "    # now useing higer precision data types\n",
    "    for hp in [64,128,1024]\n",
    "        set_bigfloat_precision(hp)\n",
    "        laHP = toHighPrecision(la; precision=hp)\n",
    "        treeHP = toHighPrecision(tree[i]; precision=hp)\n",
    "        xHP = toHighPrecision(x; precision=hp);\n",
    "        bHP = toHighPrecision(b; precision=hp);\n",
    "        FHP = treeSolver(treeHP)\n",
    "\n",
    "        @time myxHP,dbg = pcgV(laHP, bHP, FHP, xHP, maxits=numIts, verbose=true);\n",
    "        insert!(dbg, 1, \"$(numIts) iterations\")\n",
    "        insert!(dbg, 1, \"anorm = sqrt((x-truex)' * la * (x-truex)), err2_a = norm(la*x-b) / norm(b), err2_b = norm(x-truex)\")\n",
    "        writeToFile(graphp * \"_log_julia_tree$(i)_$(hp).txt\", dbg)\n",
    "    end\n",
    "end"
   ]
  },
  {
   "cell_type": "code",
   "execution_count": null,
   "metadata": {
    "collapsed": true
   },
   "outputs": [],
   "source": []
  }
 ],
 "metadata": {
  "kernelspec": {
   "display_name": "Julia 0.4.6",
   "language": "julia",
   "name": "julia-0.4"
  },
  "language_info": {
   "file_extension": ".jl",
   "mimetype": "application/julia",
   "name": "julia",
   "version": "0.4.6"
  }
 },
 "nbformat": 4,
 "nbformat_minor": 0
}
