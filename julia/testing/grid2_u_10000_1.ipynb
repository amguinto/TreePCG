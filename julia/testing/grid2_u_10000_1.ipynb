{
 "cells": [
  {
   "cell_type": "code",
   "execution_count": 1,
   "metadata": {
    "collapsed": false
   },
   "outputs": [
    {
     "data": {
      "text/plain": [
       "pcgWorker (generic function with 1 method)"
      ]
     },
     "execution_count": 1,
     "metadata": {},
     "output_type": "execute_result"
    }
   ],
   "source": [
    "include(\"../src/Julia.jl\")"
   ]
  },
  {
   "cell_type": "code",
   "execution_count": 2,
   "metadata": {
    "collapsed": false
   },
   "outputs": [
    {
     "data": {
      "text/plain": [
       "\"/Users/serbanstan/git/TreePCG/julia/testing\""
      ]
     },
     "execution_count": 2,
     "metadata": {},
     "output_type": "execute_result"
    }
   ],
   "source": [
    "pwd()"
   ]
  },
  {
   "cell_type": "code",
   "execution_count": 3,
   "metadata": {
    "collapsed": false
   },
   "outputs": [
    {
     "data": {
      "text/plain": [
       "\"../../graphs/grid2_u_10000_1/\""
      ]
     },
     "execution_count": 3,
     "metadata": {},
     "output_type": "execute_result"
    }
   ],
   "source": [
    "graphp = \"../../graphs/grid2_u_10000_1/\""
   ]
  },
  {
   "cell_type": "code",
   "execution_count": 4,
   "metadata": {
    "collapsed": false
   },
   "outputs": [],
   "source": [
    "a = readFromFile(graphp * \"graph.mtx\");"
   ]
  },
  {
   "cell_type": "code",
   "execution_count": 5,
   "metadata": {
    "collapsed": false
   },
   "outputs": [],
   "source": [
    "tree = []\n",
    "for i in 1:5\n",
    "    tr = readFromFile(graphp * \"tree$(i).mtx\");\n",
    "    push!(tree, tr);\n",
    "end"
   ]
  },
  {
   "cell_type": "code",
   "execution_count": 6,
   "metadata": {
    "collapsed": false
   },
   "outputs": [],
   "source": [
    "x = readFromFile(graphp * \"x.vec\");"
   ]
  },
  {
   "cell_type": "code",
   "execution_count": 7,
   "metadata": {
    "collapsed": false
   },
   "outputs": [],
   "source": [
    "la = lap(a);\n",
    "x = x - mean(x)\n",
    "b = la * x; b = b - mean(b);"
   ]
  },
  {
   "cell_type": "code",
   "execution_count": 8,
   "metadata": {
    "collapsed": false
   },
   "outputs": [
    {
     "name": "stdout",
     "output_type": "stream",
     "text": [
      "  1.043294 seconds (365.44 k allocations: 17.987 MB, 1.00% gc time)\n",
      "  0.507582 seconds (267.65 k allocations: 7.725 MB, 1.52% gc time)\n",
      "  3.747604 seconds (32.08 M allocations: 839.232 MB, 3.52% gc time)\n",
      "Working on iteration 10 with a-norm error 4074.0722970023944\n",
      "Working on iteration 20 with a-norm error 3169.9976112623312\n",
      "Working on iteration 30 with a-norm error 2388.73545645245\n",
      "Working on iteration 40 with a-norm error 1596.869983337341\n",
      "Working on iteration 50 with a-norm error 1105.5311946631139\n",
      "Working on iteration 60 with a-norm error 761.7390359751378\n",
      "Working on iteration 70 with a-norm error 560.4290615014557\n",
      "Working on iteration 80 with a-norm error 409.7169664379145\n",
      "Working on iteration 90 with a-norm error 287.9059209640351\n",
      "Working on iteration 100 with a-norm error 207.00299574477066\n",
      "Working on iteration 110 with a-norm error 161.03049549327204\n",
      "Working on iteration 120 with a-norm error 116.75188165414124\n",
      "Working on iteration 130 with a-norm error 90.1457635022925\n",
      "Working on iteration 140 with a-norm error 69.59032382874078\n",
      "Working on iteration 150 with a-norm error 51.8099290067741\n",
      "Working on iteration 160 with a-norm error 38.02766646544209\n",
      "Working on iteration 170 with a-norm error 31.39020408004186\n",
      "Working on iteration 180 with a-norm error 23.499486682407056\n",
      "Working on iteration 190 with a-norm error 18.063761448130617\n",
      "Working on iteration 200 with a-norm error 14.348695861730821\n",
      "PCG stopped after: 200 iterations with relative error 14.072016982966973.\n",
      "179.605360 seconds (403.43 M allocations: 10.275 GB, 33.61% gc time)\n",
      "Working on iteration 10 with a-norm error 4074.0722970023944\n",
      "Working on iteration 20 with a-norm error 3106.3839175293715\n",
      "Working on iteration 30 with a-norm error 2119.3778644241143\n",
      "Working on iteration 40 with a-norm error 1391.3225094286925\n",
      "Working on iteration 50 with a-norm error 838.0623403761282\n",
      "Working on iteration 60 with a-norm error 526.7379915612346\n",
      "Working on iteration 70 with a-norm error 335.6995227671199\n",
      "Working on iteration 80 with a-norm error 226.69659582168677\n",
      "Working on iteration 90 with a-norm error 157.30635605296345\n",
      "Working on iteration 100 with a-norm error 103.3130712790841\n",
      "Working on iteration 110 with a-norm error 72.91102798443406\n",
      "Working on iteration 120 with a-norm error 46.69866064617923\n",
      "Working on iteration 130 with a-norm error 35.00165771912627\n",
      "Working on iteration 140 with a-norm error 25.00436081420372\n",
      "Working on iteration 150 with a-norm error 17.58605457170858\n",
      "Working on iteration 160 with a-norm error 12.973360461312726\n",
      "Working on iteration 170 with a-norm error 9.586725598934004\n",
      "Working on iteration 180 with a-norm error 6.241555702226383\n",
      "Working on iteration 190 with a-norm error 4.832317567236668\n",
      "Working on iteration 200 with a-norm error 3.522999098494128\n",
      "PCG stopped after: 200 iterations with relative error 3.336237522785177.\n",
      "185.668093 seconds (403.14 M allocations: 11.236 GB, 34.78% gc time)\n",
      "Working on iteration 10 with a-norm error 4074.0722970023944\n",
      "Working on iteration 20 with a-norm error 3106.3839175293715\n",
      "Working on iteration 30 with a-norm error 2119.3778644099975\n",
      "Working on iteration 40 with a-norm error 1276.592028560193\n",
      "Working on iteration 50 with a-norm error 719.5845056747282\n",
      "Working on iteration 60 with a-norm error 415.32156877039387\n",
      "Working on iteration 70 with a-norm error 249.43058189905662\n",
      "Working on iteration 80 with a-norm error 145.11696752061403\n",
      "Working on iteration 90 with a-norm error 84.30679152912896\n",
      "Working on iteration 100 with a-norm error 53.059750645348295\n",
      "Working on iteration 110 with a-norm error 34.47169028016573\n",
      "Working on iteration 120 with a-norm error 23.031541043421665\n",
      "Working on iteration 130 with a-norm error 13.74771060745015\n",
      "Working on iteration 140 with a-norm error 9.390205217634405\n",
      "Working on iteration 150 with a-norm error 5.738420648296714\n",
      "Working on iteration 160 with a-norm error 4.1375929362687796\n",
      "Working on iteration 170 with a-norm error 2.718789301786097\n",
      "Working on iteration 180 with a-norm error 1.7447466799825702\n",
      "Working on iteration 190 with a-norm error 1.2808371246996735\n",
      "Working on iteration 200 with a-norm error 0.9249767858153247\n",
      "PCG stopped after: 200 iterations with relative error 0.866128120951607.\n",
      "192.282765 seconds (403.14 M allocations: 13.181 GB, 34.27% gc time)\n",
      "Working on iteration 10 with a-norm error 4074.0722970023944\n",
      "Working on iteration 20 with a-norm error 3106.3839175293715\n",
      "Working on iteration 30 with a-norm error 2119.3778644099975\n",
      "Working on iteration 40 with a-norm error 1276.592028560193\n",
      "Working on iteration 50 with a-norm error 719.5845056747282\n",
      "Working on iteration 60 with a-norm error 389.7304846069623\n",
      "Working on iteration 70 with a-norm error 210.80993978586315\n",
      "Working on iteration 80 with a-norm error 116.1120994985019\n",
      "Working on iteration 90 with a-norm error 61.918443689463864\n",
      "Working on iteration 100 with a-norm error 35.496184154604975\n",
      "Working on iteration 110 with a-norm error 21.857667494178063\n",
      "Working on iteration 120 with a-norm error 12.234745396720648\n",
      "Working on iteration 130 with a-norm error 6.856801199511878\n",
      "Working on iteration 140 with a-norm error 3.950987804022809\n",
      "Working on iteration 150 with a-norm error 2.4437118621987377\n",
      "Working on iteration 160 with a-norm error 1.5818157961326709\n",
      "Working on iteration 170 with a-norm error 0.9887424332602769\n",
      "Working on iteration 180 with a-norm error 0.589178221452926\n",
      "Working on iteration 190 with a-norm error 0.3390194633171846\n",
      "Working on iteration 200 with a-norm error 0.19205744841500924\n",
      "PCG stopped after: 200 iterations with relative error 0.17721725224481488.\n",
      "219.799315 seconds (403.14 M allocations: 17.071 GB, 33.13% gc time)\n",
      "Working on iteration 10 with a-norm error 4074.0722970023944\n",
      "Working on iteration 20 with a-norm error 3106.3839175293715\n",
      "Working on iteration 30 with a-norm error 2119.3778644099975\n",
      "Working on iteration 40 with a-norm error 1276.592028560193\n",
      "Working on iteration 50 with a-norm error 719.5845056747282\n",
      "Working on iteration 60 with a-norm error 389.7304846069623\n",
      "Working on iteration 70 with a-norm error 210.80993978586315\n",
      "Working on iteration 80 with a-norm error 116.1120994985019\n",
      "Working on iteration 90 with a-norm error 61.91329295854949\n",
      "Working on iteration 100 with a-norm error 33.569552329790106\n",
      "Working on iteration 110 with a-norm error 18.393338924150708\n",
      "Working on iteration 120 with a-norm error 9.906596263179553\n",
      "Working on iteration 130 with a-norm error 5.402455130365349\n",
      "Working on iteration 140 with a-norm error 2.926896717729823\n",
      "Working on iteration 150 with a-norm error 1.6293714788355684\n",
      "Working on iteration 160 with a-norm error 0.9461857596101008\n",
      "Working on iteration 170 with a-norm error 0.49276549583027257\n",
      "Working on iteration 180 with a-norm error 0.27226325649264504\n",
      "Working on iteration 190 with a-norm error 0.1258032053885222\n",
      "Working on iteration 200 with a-norm error 0.06030737506011992\n",
      "PCG stopped after: 200 iterations with relative error 0.05581579575030247.\n",
      "260.793545 seconds (403.14 M allocations: 24.852 GB, 31.31% gc time)\n",
      "  0.154234 seconds (100.15 k allocations: 6.982 MB, 36.49% gc time)\n",
      "  0.011818 seconds (157.40 k allocations: 3.013 MB)\n",
      "  2.638159 seconds (31.65 M allocations: 819.780 MB, 13.74% gc time)\n",
      "Working on iteration 10 with a-norm error 3962.9944185364743\n",
      "Working on iteration 20 with a-norm error 2547.559698484476\n",
      "Working on iteration 30 with a-norm error 1618.383984832562\n",
      "Working on iteration 40 with a-norm error 950.7728984219406\n",
      "Working on iteration 50 with a-norm error 557.4690297340247\n",
      "Working on iteration 60 with a-norm error 351.3736528261911\n",
      "Working on iteration 70 with a-norm error 239.60044326216504\n",
      "Working on iteration 80 with a-norm error 150.37434585072765\n",
      "Working on iteration 90 with a-norm error 104.73753543692021\n",
      "Working on iteration 100 with a-norm error 71.39088545904896\n",
      "Working on iteration 110 with a-norm error 50.274961847214605\n",
      "Working on iteration 120 with a-norm error 34.296578309475855\n",
      "Working on iteration 130 with a-norm error 26.478915683847045\n",
      "Working on iteration 140 with a-norm error 19.413700642631024\n",
      "Working on iteration 150 with a-norm error 14.854049138965118\n",
      "Working on iteration 160 with a-norm error 11.269638776187975\n",
      "Working on iteration 170 with a-norm error 8.283667776587777\n",
      "Working on iteration 180 with a-norm error 6.339115355631098\n",
      "Working on iteration 190 with a-norm error 4.946284896311655\n",
      "Working on iteration 200 with a-norm error 3.5859897867375774\n",
      "PCG stopped after: 200 iterations with relative error 3.5787195189220755.\n",
      "178.903368 seconds (403.17 M allocations: 10.263 GB, 34.25% gc time)\n",
      "Working on iteration 10 with a-norm error 3962.9944185364743\n",
      "Working on iteration 20 with a-norm error 2545.518185635322\n",
      "Working on iteration 30 with a-norm error 1348.3095116243792\n",
      "Working on iteration 40 with a-norm error 730.9250296919436\n",
      "Working on iteration 50 with a-norm error 398.21015598996496\n",
      "Working on iteration 60 with a-norm error 237.43594642836516\n",
      "Working on iteration 70 with a-norm error 121.7912529822129\n",
      "Working on iteration 80 with a-norm error 73.37132695747941\n",
      "Working on iteration 90 with a-norm error 48.794186317707975\n",
      "Working on iteration 100 with a-norm error 33.583514822392395\n",
      "Working on iteration 110 with a-norm error 21.388391940717423\n",
      "Working on iteration 120 with a-norm error 14.755050674088581\n",
      "Working on iteration 130 with a-norm error 8.939879818602494\n",
      "Working on iteration 140 with a-norm error 6.370627971337069\n",
      "Working on iteration 150 with a-norm error 4.5499731016649685\n",
      "Working on iteration 160 with a-norm error 3.1197156897622595\n",
      "Working on iteration 170 with a-norm error 2.1331942292818042\n",
      "Working on iteration 180 with a-norm error 1.5080616110655038\n",
      "Working on iteration 190 with a-norm error 0.9885250104632729\n",
      "Working on iteration 200 with a-norm error 0.6981907582704383\n",
      "PCG stopped after: 200 iterations with relative error 0.6641967926827191.\n",
      "183.665417 seconds (403.17 M allocations: 11.236 GB, 34.72% gc time)\n",
      "Working on iteration 10 with a-norm error 3962.9944185364743\n",
      "Working on iteration 20 with a-norm error 2545.518185635322\n",
      "Working on iteration 30 with a-norm error 1348.3095116168706\n",
      "Working on iteration 40 with a-norm error 623.4105326855636\n",
      "Working on iteration 50 with a-norm error 306.7378037006265\n",
      "Working on iteration 60 with a-norm error 165.77208034040223\n",
      "Working on iteration 70 with a-norm error 86.74920754689899\n",
      "Working on iteration 80 with a-norm error 48.15276832164107\n",
      "Working on iteration 90 with a-norm error 27.853725558135675\n",
      "Working on iteration 100 with a-norm error 16.95722706604151\n",
      "Working on iteration 110 with a-norm error 10.308098589968411\n",
      "Working on iteration 120 with a-norm error 6.397665472020572\n",
      "Working on iteration 130 with a-norm error 3.672190733905594\n",
      "Working on iteration 140 with a-norm error 2.1740057847049203\n",
      "Working on iteration 150 with a-norm error 1.350067539616998\n",
      "Working on iteration 160 with a-norm error 0.8148740974880263\n",
      "Working on iteration 170 with a-norm error 0.4456074215774166\n",
      "Working on iteration 180 with a-norm error 0.22910721324062422\n",
      "Working on iteration 190 with a-norm error 0.13725024794411456\n",
      "Working on iteration 200 with a-norm error 0.08220402798621085\n",
      "PCG stopped after: 200 iterations with relative error 0.07343960888032186.\n",
      "184.502018 seconds (403.17 M allocations: 13.181 GB, 34.35% gc time)\n",
      "Working on iteration 10 with a-norm error 3962.9944185364743\n",
      "Working on iteration 20 with a-norm error 2545.518185635322\n",
      "Working on iteration 30 with a-norm error 1348.3095116168706\n",
      "Working on iteration 40 with a-norm error 623.4105326855636\n",
      "Working on iteration 50 with a-norm error 306.7378037006265\n",
      "Working on iteration 60 with a-norm error 144.8125960005461\n",
      "Working on iteration 70 with a-norm error 71.00470554850924\n",
      "Working on iteration 80 with a-norm error 36.31790555367884\n",
      "Working on iteration 90 with a-norm error 19.516531197100996\n",
      "Working on iteration 100 with a-norm error 11.43586351756047\n",
      "Working on iteration 110 with a-norm error 6.216775245209747\n",
      "Working on iteration 120 with a-norm error 3.275212656636757\n",
      "Working on iteration 130 with a-norm error 1.7822463535175703\n",
      "Working on iteration 140 with a-norm error 0.9389429065983161\n",
      "Working on iteration 150 with a-norm error 0.4505245951728791\n",
      "Working on iteration 160 with a-norm error 0.21612604767055704\n",
      "Working on iteration 170 with a-norm error 0.09783855414716698\n",
      "Working on iteration 180 with a-norm error 0.05000657556061308\n",
      "Working on iteration 190 with a-norm error 0.020630475050259597\n",
      "Working on iteration 200 with a-norm error 0.009088632713497108\n",
      "PCG stopped after: 200 iterations with relative error 0.008172014433527544.\n",
      "202.328421 seconds (403.17 M allocations: 17.072 GB, 33.01% gc time)\n",
      "Working on iteration 10 with a-norm error 3962.9944185364743\n",
      "Working on iteration 20 with a-norm error 2545.518185635322\n",
      "Working on iteration 30 with a-norm error 1348.3095116168706\n",
      "Working on iteration 40 with a-norm error 623.4105326855636\n",
      "Working on iteration 50 with a-norm error 306.7378037006265\n",
      "Working on iteration 60 with a-norm error 144.8125960005461\n",
      "Working on iteration 70 with a-norm error 71.00470554850924\n",
      "Working on iteration 80 with a-norm error 36.31790555367884\n",
      "Working on iteration 90 with a-norm error 19.516531193447516\n",
      "Working on iteration 100 with a-norm error 9.980461471865938\n",
      "Working on iteration 110 with a-norm error 5.072668100042474\n",
      "Working on iteration 120 with a-norm error 2.5155115913705552\n",
      "Working on iteration 130 with a-norm error 1.270695455260914\n",
      "Working on iteration 140 with a-norm error 0.5861890281894764\n",
      "Working on iteration 150 with a-norm error 0.24167382271014626\n",
      "Working on iteration 160 with a-norm error 0.10083671623349266\n",
      "Working on iteration 170 with a-norm error 0.03991245823107029\n",
      "Working on iteration 180 with a-norm error 0.014825775081584508\n",
      "Working on iteration 190 with a-norm error 0.00553387413988567\n",
      "Working on iteration 200 with a-norm error 0.002030159955109231\n",
      "PCG stopped after: 200 iterations with relative error 0.0018108056920244427.\n",
      "278.696747 seconds (403.17 M allocations: 24.852 GB, 31.57% gc time)\n",
      "2080.925064 seconds (4.10 G allocations: 155.232 GB, 33.18% gc time)\n"
     ]
    }
   ],
   "source": [
    "numIts = 200;\n",
    "\n",
    "@time for i in 4:5\n",
    "    @time F = treeSolver(tree[i])\n",
    "    @time F(b);\n",
    "    \n",
    "    # a run on standard Float64 data types\n",
    "    @time myx64,dbg = pcgV(la, b, F, x, maxits=numIts, verbose=false);\n",
    "    norm(lap(a) * myx64 - b) / norm(b)\n",
    "    insert!(dbg, 1, \"$(numIts) iterations\")\n",
    "    insert!(dbg, 1, \"anorm = sqrt((x-truex)' * la * (x-truex)), err2_a = norm(la*x-b) / norm(b), err2_b = norm(x-truex)\")\n",
    "    writeToFile(graphp * \"_log_julia_tree$(i)_default.txt\", dbg)\n",
    "    \n",
    "    # now useing higer precision data types\n",
    "    for hp in [64,128,256,512,1024]\n",
    "        set_bigfloat_precision(hp)\n",
    "        laHP = toHighPrecision(la; precision=hp)\n",
    "        treeHP = toHighPrecision(tree[i]; precision=hp)\n",
    "        xHP = toHighPrecision(x; precision=hp);\n",
    "        bHP = toHighPrecision(b; precision=hp);\n",
    "        FHP = treeSolver(treeHP)\n",
    "\n",
    "        @time myxHP,dbg = pcgV(laHP, bHP, FHP, xHP, maxits=numIts, verbose=true);\n",
    "        insert!(dbg, 1, \"$(numIts) iterations\")\n",
    "        insert!(dbg, 1, \"anorm = sqrt((x-truex)' * la * (x-truex)), err2_a = norm(la*x-b) / norm(b), err2_b = norm(x-truex)\")\n",
    "        writeToFile(graphp * \"_log_julia_tree$(i)_$(hp).txt\", dbg)\n",
    "    end\n",
    "end"
   ]
  },
  {
   "cell_type": "code",
   "execution_count": null,
   "metadata": {
    "collapsed": true
   },
   "outputs": [],
   "source": []
  }
 ],
 "metadata": {
  "anaconda-cloud": {},
  "kernelspec": {
   "display_name": "Julia 0.4.6",
   "language": "julia",
   "name": "julia-0.4"
  },
  "language_info": {
   "file_extension": ".jl",
   "mimetype": "application/julia",
   "name": "julia",
   "version": "0.4.6"
  }
 },
 "nbformat": 4,
 "nbformat_minor": 0
}
