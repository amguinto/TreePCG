{
 "cells": [
  {
   "cell_type": "code",
   "execution_count": 1,
   "metadata": {
    "collapsed": false
   },
   "outputs": [
    {
     "name": "stderr",
     "output_type": "stream",
     "text": [
      "objc[1482]: Class TKApplication is implemented in both /Users/serbanstan/anaconda/lib/libtk8.5.dylib and /System/Library/Frameworks/Tk.framework/Versions/8.5/Tk. One of the two will be used. Which one is undefined.\n",
      "objc[1482]: Class TKMenu is implemented in both /Users/serbanstan/anaconda/lib/libtk8.5.dylib and /System/Library/Frameworks/Tk.framework/Versions/8.5/Tk. One of the two will be used. Which one is undefined.\n",
      "objc[1482]: Class TKContentView is implemented in both /Users/serbanstan/anaconda/lib/libtk8.5.dylib and /System/Library/Frameworks/Tk.framework/Versions/8.5/Tk. One of the two will be used. Which one is undefined.\n",
      "objc[1482]: Class TKWindow is implemented in both /Users/serbanstan/anaconda/lib/libtk8.5.dylib and /System/Library/Frameworks/Tk.framework/Versions/8.5/Tk. One of the two will be used. Which one is undefined.\n"
     ]
    },
    {
     "data": {
      "text/plain": [
       "pcgWorker (generic function with 1 method)"
      ]
     },
     "execution_count": 1,
     "metadata": {},
     "output_type": "execute_result"
    }
   ],
   "source": [
    "include(\"../src/Julia.jl\")"
   ]
  },
  {
   "cell_type": "code",
   "execution_count": 2,
   "metadata": {
    "collapsed": false
   },
   "outputs": [
    {
     "data": {
      "text/plain": [
       "\"/Users/serbanstan/git/TreePCG/julia/testing\""
      ]
     },
     "execution_count": 2,
     "metadata": {},
     "output_type": "execute_result"
    }
   ],
   "source": [
    "pwd()"
   ]
  },
  {
   "cell_type": "code",
   "execution_count": 3,
   "metadata": {
    "collapsed": false
   },
   "outputs": [
    {
     "data": {
      "text/plain": [
       "\"../../graphs/se_u_1/\""
      ]
     },
     "execution_count": 3,
     "metadata": {},
     "output_type": "execute_result"
    }
   ],
   "source": [
    "graphp = \"../../graphs/se_u_1/\""
   ]
  },
  {
   "cell_type": "code",
   "execution_count": 4,
   "metadata": {
    "collapsed": false
   },
   "outputs": [],
   "source": [
    "a = readFromFile(graphp * \"graph.mtx\");"
   ]
  },
  {
   "cell_type": "code",
   "execution_count": 5,
   "metadata": {
    "collapsed": false
   },
   "outputs": [],
   "source": [
    "tree = []\n",
    "for i in 1:3\n",
    "    tr = readFromFile(graphp * \"tree$(i).mtx\");\n",
    "    push!(tree, tr);\n",
    "end"
   ]
  },
  {
   "cell_type": "code",
   "execution_count": 6,
   "metadata": {
    "collapsed": false
   },
   "outputs": [],
   "source": [
    "x = readFromFile(graphp * \"x.vec\");"
   ]
  },
  {
   "cell_type": "code",
   "execution_count": 7,
   "metadata": {
    "collapsed": false
   },
   "outputs": [],
   "source": [
    "la = lap(a);\n",
    "x = x - mean(x)\n",
    "b = la * x; b = b - mean(b);"
   ]
  },
  {
   "cell_type": "code",
   "execution_count": 8,
   "metadata": {
    "collapsed": false
   },
   "outputs": [
    {
     "name": "stdout",
     "output_type": "stream",
     "text": [
      "  0.285919 seconds (275.03 k allocations: 11.677 MB, 2.44% gc time)\n",
      "  0.206402 seconds (123.82 k allocations: 4.999 MB)\n",
      "  0.882598 seconds (3.17 M allocations: 95.320 MB, 3.00% gc time)\n",
      "Working on iteration 10 with a-norm error 203.34252778076714\n",
      "Working on iteration 20 with a-norm error 117.172420493361\n",
      "Working on iteration 30 with a-norm error 72.32223519348057\n",
      "Working on iteration 40 with a-norm error 42.76249568922124\n",
      "Working on iteration 50 with a-norm error 22.101414075919433\n",
      "Working on iteration 60 with a-norm error 10.980149095969354\n",
      "Working on iteration 70 with a-norm error 5.289324530125365\n",
      "Working on iteration 80 with a-norm error 2.9480279480425042\n",
      "Working on iteration 90 with a-norm error 1.7168397107457867\n",
      "Working on iteration 100 with a-norm error 0.9677285873530959\n",
      "Working on iteration 110 with a-norm error 0.41925896478572844\n",
      "Working on iteration 120 with a-norm error 0.21499322776561994\n",
      "Working on iteration 130 with a-norm error 0.10207183785016392\n",
      "Working on iteration 140 with a-norm error 0.05194216217326892\n",
      "Working on iteration 150 with a-norm error 0.025475025656441927\n",
      "Working on iteration 160 with a-norm error 0.010909527533113705\n",
      "Working on iteration 170 with a-norm error 0.005374366766653763\n",
      "Working on iteration 180 with a-norm error 0.002733229929642458\n",
      "Working on iteration 190 with a-norm error 0.001464736166559847\n",
      "Working on iteration 200 with a-norm error 0.0007884535659440424\n",
      "PCG stopped after: 200 iterations with relative error 0.0007375930758263162.\n",
      " 42.544464 seconds (206.82 M allocations: 5.171 GB, 26.32% gc time)\n",
      "Working on iteration 10 with a-norm error 203.34252778076714\n",
      "Working on iteration 20 with a-norm error 110.85714923019621\n",
      "Working on iteration 30 with a-norm error 69.02516437057473\n",
      "Working on iteration 40 with a-norm error 34.78305183384581\n",
      "Working on iteration 50 with a-norm error 15.394663798839805\n",
      "Working on iteration 60 with a-norm error 6.662087467064413\n",
      "Working on iteration 70 with a-norm error 3.0808113279111455\n",
      "Working on iteration 80 with a-norm error 1.279949820638153\n",
      "Working on iteration 90 with a-norm error 0.6369955414822205\n",
      "Working on iteration 100 with a-norm error 0.2975165204307403\n",
      "Working on iteration 110 with a-norm error 0.09346578506115011\n",
      "Working on iteration 120 with a-norm error 0.03359144482630747\n",
      "Working on iteration 130 with a-norm error 0.012162738509085853\n",
      "Working on iteration 140 with a-norm error 0.0042764880245409545\n",
      "Working on iteration 150 with a-norm error 0.002127338829781106\n",
      "Working on iteration 160 with a-norm error 0.0008354125181171762\n",
      "Working on iteration 170 with a-norm error 0.00030088925650420724\n",
      "Working on iteration 180 with a-norm error 0.00011526476085384357\n",
      "Working on iteration 190 with a-norm error 4.164863129715176e-5\n",
      "Working on iteration 200 with a-norm error 1.493236998286608e-5\n",
      "PCG stopped after: 200 iterations with relative error 1.3141068560668016e-5.\n",
      " 46.112397 seconds (206.54 M allocations: 5.671 GB, 26.38% gc time)\n",
      "Working on iteration 10 with a-norm error 203.34252778076714\n",
      "Working on iteration 20 with a-norm error 110.85714923019621\n",
      "Working on iteration 30 with a-norm error 66.94130947199375\n",
      "Working on iteration 40 with a-norm error 32.36956225307792\n",
      "Working on iteration 50 with a-norm error 13.285721862229352\n",
      "Working on iteration 60 with a-norm error 4.850948358994671\n",
      "Working on iteration 70 with a-norm error 1.8446833444425106\n",
      "Working on iteration 80 with a-norm error 0.5313291035016755\n",
      "Working on iteration 90 with a-norm error 0.11210406345381471\n",
      "Working on iteration 100 with a-norm error 0.025950691766235552\n",
      "Working on iteration 110 with a-norm error 0.004848786139107088\n",
      "Working on iteration 120 with a-norm error 0.000984440025791083\n",
      "Working on iteration 130 with a-norm error 0.0001733375266842923\n",
      "Working on iteration 140 with a-norm error 2.5383201329166724e-5\n",
      "Working on iteration 150 with a-norm error 4.932652269427013e-6\n",
      "Working on iteration 160 with a-norm error 8.980108268751607e-7\n",
      "Working on iteration 170 with a-norm error 1.1671923740294837e-7\n",
      "Working on iteration 180 with a-norm error 1.7407060561863716e-8\n",
      "Working on iteration 190 with a-norm error 2.0873476170064338e-9\n",
      "Working on iteration 200 with a-norm error 2.243995452035146e-10\n",
      "PCG stopped after: 200 iterations with relative error 1.7683895915421077e-10.\n",
      "150.082858 seconds (206.54 M allocations: 12.827 GB, 26.93% gc time)\n",
      "  0.048940 seconds (10.11 k allocations: 710.969 KB)\n",
      "  0.001622 seconds (13.41 k allocations: 273.219 KB)\n",
      "  0.962417 seconds (2.71 M allocations: 75.394 MB, 16.45% gc time)\n",
      "Working on iteration 10 with a-norm error 372.5883724765055\n",
      "Working on iteration 20 with a-norm error 215.9317283460905\n",
      "Working on iteration 30 with a-norm error 112.94308785153905\n",
      "Working on iteration 40 with a-norm error 65.18691957762026\n",
      "Working on iteration 50 with a-norm error 34.31628900181572\n",
      "Working on iteration 60 with a-norm error 18.20427908371845\n",
      "Working on iteration 70 with a-norm error 10.088791363994703\n",
      "Working on iteration 80 with a-norm error 5.410836681519376\n",
      "Working on iteration 90 with a-norm error 3.4244517912896155\n",
      "Working on iteration 100 with a-norm error 1.9096180271049723\n",
      "Working on iteration 110 with a-norm error 0.9744183202071779\n",
      "Working on iteration 120 with a-norm error 0.5335553049604881\n",
      "Working on iteration 130 with a-norm error 0.2973352478769166\n",
      "Working on iteration 140 with a-norm error 0.16922848526509532\n",
      "Working on iteration 150 with a-norm error 0.09211684596207735\n",
      "Working on iteration 160 with a-norm error 0.05075225210300292\n",
      "Working on iteration 170 with a-norm error 0.02902893911937567\n",
      "Working on iteration 180 with a-norm error 0.014127347783735261\n",
      "Working on iteration 190 with a-norm error 0.007558661729548425\n",
      "Working on iteration 200 with a-norm error 0.003993317111714764\n",
      "PCG stopped after: 200 iterations with relative error 0.0037486371672059236.\n",
      "174.419594 seconds (206.54 M allocations: 5.160 GB, 25.74% gc time)\n",
      "Working on iteration 10 with a-norm error 372.5883724765055\n",
      "Working on iteration 20 with a-norm error 199.44999022745208\n",
      "Working on iteration 30 with a-norm error 104.19614596437849\n",
      "Working on iteration 40 with a-norm error 46.66230707443393\n",
      "Working on iteration 50 with a-norm error 21.474642864131734\n",
      "Working on iteration 60 with a-norm error 10.574360256628642\n",
      "Working on iteration 70 with a-norm error 4.614215724942273\n",
      "Working on iteration 80 with a-norm error 2.0843663231766487\n",
      "Working on iteration 90 with a-norm error 0.9615533556195424\n",
      "Working on iteration 100 with a-norm error 0.5126490872587043\n",
      "Working on iteration 110 with a-norm error 0.20633078999659446\n",
      "Working on iteration 120 with a-norm error 0.0879112900993809\n",
      "Working on iteration 130 with a-norm error 0.0461998735931743\n",
      "Working on iteration 140 with a-norm error 0.015648064120807496\n",
      "Working on iteration 150 with a-norm error 0.007296967452470498\n",
      "Working on iteration 160 with a-norm error 0.002907693234127714\n",
      "Working on iteration 170 with a-norm error 0.0014528306461491231\n",
      "Working on iteration 180 with a-norm error 0.0005396361609480497\n",
      "Working on iteration 190 with a-norm error 0.0002691961406187259\n",
      "Working on iteration 200 with a-norm error 9.286320047000337e-5\n",
      "PCG stopped after: 200 iterations with relative error 7.915234149677989e-5.\n",
      "188.951600 seconds (206.54 M allocations: 5.671 GB, 25.94% gc time)\n",
      "Working on iteration 10 with a-norm error 372.5883724765055\n",
      "Working on iteration 20 with a-norm error 199.44999022745208\n",
      "Working on iteration 30 with a-norm error 96.2272020435777\n",
      "Working on iteration 40 with a-norm error 39.4150704052052\n",
      "Working on iteration 50 with a-norm error 14.816440643103002\n",
      "Working on iteration 60 with a-norm error 5.328188418147566\n",
      "Working on iteration 70 with a-norm error 1.8789361258849648\n",
      "Working on iteration 80 with a-norm error 0.5932151973064056\n",
      "Working on iteration 90 with a-norm error 0.1804793496188344\n",
      "Working on iteration 100 with a-norm error 0.050691364800492515\n",
      "Working on iteration 110 with a-norm error 0.011932439833883927\n",
      "Working on iteration 120 with a-norm error 0.0027849885898845917\n",
      "Working on iteration 130 with a-norm error 0.0005859180142087979\n",
      "Working on iteration 140 with a-norm error 0.00010396164991064662\n",
      "Working on iteration 150 with a-norm error 1.7731557362771398e-5\n",
      "Working on iteration 160 with a-norm error 2.3523471305865144e-6\n",
      "Working on iteration 170 with a-norm error 3.3084595490916945e-7\n",
      "Working on iteration 180 with a-norm error 4.959767975726133e-8\n",
      "Working on iteration 190 with a-norm error 6.30004310156307e-9\n",
      "Working on iteration 200 with a-norm error 8.482914532134814e-10\n",
      "PCG stopped after: 200 iterations with relative error 6.763567811204227e-10.\n",
      "270.308157 seconds (206.54 M allocations: 12.827 GB, 27.39% gc time)\n",
      "  0.006428 seconds (10.11 k allocations: 710.969 KB)\n",
      "  0.000985 seconds (13.43 k allocations: 273.531 KB)\n",
      "  0.262809 seconds (2.71 M allocations: 75.452 MB, 22.31% gc time)\n",
      "Working on iteration 10 with a-norm error 430.61485027379956\n",
      "Working on iteration 20 with a-norm error 293.91144579822776\n",
      "Working on iteration 30 with a-norm error 205.77878004299762\n",
      "Working on iteration 40 with a-norm error 122.21910431524998\n",
      "Working on iteration 50 with a-norm error 86.09250495556947\n",
      "Working on iteration 60 with a-norm error 46.8873736338753\n",
      "Working on iteration 70 with a-norm error 31.045323669500632\n",
      "Working on iteration 80 with a-norm error 20.74424045337204\n",
      "Working on iteration 90 with a-norm error 12.84718154698574\n",
      "Working on iteration 100 with a-norm error 8.007712555864874\n",
      "Working on iteration 110 with a-norm error 5.010155417431713\n",
      "Working on iteration 120 with a-norm error 3.453031164864854\n",
      "Working on iteration 130 with a-norm error 2.072742601337852\n",
      "Working on iteration 140 with a-norm error 1.351543604613893\n",
      "Working on iteration 150 with a-norm error 0.981921554879614\n",
      "Working on iteration 160 with a-norm error 0.5712483680451582\n",
      "Working on iteration 170 with a-norm error 0.3738257412042049\n",
      "Working on iteration 180 with a-norm error 0.2435741540561417\n",
      "Working on iteration 190 with a-norm error 0.15253885083750812\n",
      "Working on iteration 200 with a-norm error 0.10485150092074555\n",
      "PCG stopped after: 200 iterations with relative error 0.09070168621715975.\n",
      " 48.255219 seconds (206.54 M allocations: 5.160 GB, 25.73% gc time)\n",
      "Working on iteration 10 with a-norm error 430.61485027379956\n",
      "Working on iteration 20 with a-norm error 262.11715167453025\n",
      "Working on iteration 30 with a-norm error 159.16727936067954\n",
      "Working on iteration 40 with a-norm error 89.4934694240009\n",
      "Working on iteration 50 with a-norm error 43.60576397142423\n",
      "Working on iteration 60 with a-norm error 24.886482498258587\n",
      "Working on iteration 70 with a-norm error 12.231831580779508\n",
      "Working on iteration 80 with a-norm error 6.3747813482538485\n",
      "Working on iteration 90 with a-norm error 3.1371261160185218\n",
      "Working on iteration 100 with a-norm error 1.993344172293478\n",
      "Working on iteration 110 with a-norm error 0.8892056375754178\n",
      "Working on iteration 120 with a-norm error 0.4533597097931818\n",
      "Working on iteration 130 with a-norm error 0.23127812439580359\n",
      "Working on iteration 140 with a-norm error 0.12488865301071934\n",
      "Working on iteration 150 with a-norm error 0.06082746784738819\n",
      "Working on iteration 160 with a-norm error 0.028436227181203096\n",
      "Working on iteration 170 with a-norm error 0.014499180094663784\n",
      "Working on iteration 180 with a-norm error 0.006498932627962792\n",
      "Working on iteration 190 with a-norm error 0.003823466489637464\n",
      "Working on iteration 200 with a-norm error 0.001922868577559616\n",
      "PCG stopped after: 200 iterations with relative error 0.0016854346639682111.\n",
      "100.032442 seconds (206.54 M allocations: 5.671 GB, 27.05% gc time)\n",
      "Working on iteration 10 with a-norm error 430.61485027379956\n",
      "Working on iteration 20 with a-norm error 262.1171516745282\n",
      "Working on iteration 30 with a-norm error 145.2535538351366\n",
      "Working on iteration 40 with a-norm error 62.53795858769985\n",
      "Working on iteration 50 with a-norm error 25.465771549161254\n",
      "Working on iteration 60 with a-norm error 9.366711893195825\n",
      "Working on iteration 70 with a-norm error 3.0404556082935237\n",
      "Working on iteration 80 with a-norm error 0.9787090988095514\n",
      "Working on iteration 90 with a-norm error 0.26716887315060034\n",
      "Working on iteration 100 with a-norm error 0.0668219239742451\n",
      "Working on iteration 110 with a-norm error 0.015114585675077515\n",
      "Working on iteration 120 with a-norm error 0.0038106420095097397\n",
      "Working on iteration 130 with a-norm error 0.0006448731977369124\n",
      "Working on iteration 140 with a-norm error 0.00010869275240137968\n",
      "Working on iteration 150 with a-norm error 1.8525483891617706e-5\n",
      "Working on iteration 160 with a-norm error 3.2008550567815104e-6\n",
      "Working on iteration 170 with a-norm error 3.979540924542698e-7\n",
      "Working on iteration 180 with a-norm error 5.901111660578684e-8\n",
      "Working on iteration 190 with a-norm error 9.85556512727704e-9\n",
      "Working on iteration 200 with a-norm error 1.3980994569019985e-9\n",
      "PCG stopped after: 200 iterations with relative error 1.0806255892138188e-9.\n",
      "110.149369 seconds (206.54 M allocations: 12.827 GB, 27.72% gc time)\n"
     ]
    }
   ],
   "source": [
    "numIts = 200;\n",
    "\n",
    "for i in 1:3\n",
    "    @time F = treeSolver(tree[i])\n",
    "    @time F(b);\n",
    "    \n",
    "    # a run on standard Float64 data types\n",
    "    @time myx64,dbg = pcgV(la, b, F, x, maxits=numIts, verbose=false);\n",
    "    norm(lap(a) * myx64 - b) / norm(b)\n",
    "    insert!(dbg, 1, \"$(numIts) iterations\")\n",
    "    insert!(dbg, 1, \"anorm = sqrt((x-truex)' * la * (x-truex)), err2_a = norm(la*x-b) / norm(b), err2_b = norm(x-truex)\")\n",
    "    writeToFile(graphp * \"_log_julia_tree$(i)_default.txt\", dbg)\n",
    "    \n",
    "    # now useing higer precision data types\n",
    "    for hp in [64,128,1024]\n",
    "        set_bigfloat_precision(hp)\n",
    "        laHP = toHighPrecision(la; precision=hp)\n",
    "        treeHP = toHighPrecision(tree[i]; precision=hp)\n",
    "        xHP = toHighPrecision(x; precision=hp);\n",
    "        bHP = toHighPrecision(b; precision=hp);\n",
    "        FHP = treeSolver(treeHP)\n",
    "\n",
    "        @time myxHP,dbg = pcgV(laHP, bHP, FHP, xHP, maxits=numIts, verbose=true);\n",
    "        insert!(dbg, 1, \"$(numIts) iterations\")\n",
    "        insert!(dbg, 1, \"anorm = sqrt((x-truex)' * la * (x-truex)), err2_a = norm(la*x-b) / norm(b), err2_b = norm(x-truex)\")\n",
    "        writeToFile(graphp * \"_log_julia_tree$(i)_$(hp).txt\", dbg)\n",
    "    end\n",
    "end"
   ]
  },
  {
   "cell_type": "code",
   "execution_count": null,
   "metadata": {
    "collapsed": true
   },
   "outputs": [],
   "source": []
  }
 ],
 "metadata": {
  "kernelspec": {
   "display_name": "Julia 0.4.6",
   "language": "julia",
   "name": "julia-0.4"
  },
  "language_info": {
   "file_extension": ".jl",
   "mimetype": "application/julia",
   "name": "julia",
   "version": "0.4.6"
  }
 },
 "nbformat": 4,
 "nbformat_minor": 0
}
