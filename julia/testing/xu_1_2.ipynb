{
 "cells": [
  {
   "cell_type": "code",
   "execution_count": 1,
   "metadata": {
    "collapsed": false
   },
   "outputs": [
    {
     "name": "stderr",
     "output_type": "stream",
     "text": [
      "objc[2600]: Class TKApplication is implemented in both /Users/serbanstan/anaconda/lib/libtk8.5.dylib and /System/Library/Frameworks/Tk.framework/Versions/8.5/Tk. One of the two will be used. Which one is undefined.\n",
      "objc[2600]: Class TKMenu is implemented in both /Users/serbanstan/anaconda/lib/libtk8.5.dylib and /System/Library/Frameworks/Tk.framework/Versions/8.5/Tk. One of the two will be used. Which one is undefined.\n",
      "objc[2600]: Class TKContentView is implemented in both /Users/serbanstan/anaconda/lib/libtk8.5.dylib and /System/Library/Frameworks/Tk.framework/Versions/8.5/Tk. One of the two will be used. Which one is undefined.\n",
      "objc[2600]: Class TKWindow is implemented in both /Users/serbanstan/anaconda/lib/libtk8.5.dylib and /System/Library/Frameworks/Tk.framework/Versions/8.5/Tk. One of the two will be used. Which one is undefined.\n"
     ]
    }
   ],
   "source": [
    "using Laplacians"
   ]
  },
  {
   "cell_type": "code",
   "execution_count": 2,
   "metadata": {
    "collapsed": false
   },
   "outputs": [
    {
     "data": {
      "text/plain": [
       "pcgWorker (generic function with 1 method)"
      ]
     },
     "execution_count": 2,
     "metadata": {},
     "output_type": "execute_result"
    }
   ],
   "source": [
    "include(\"treeSolver.jl\")\n",
    "include(\"IO.jl\")\n",
    "include(\"generators.jl\")\n",
    "include(\"toHighPrecision.jl\")\n",
    "include(\"verbosePCG.jl\")"
   ]
  },
  {
   "cell_type": "code",
   "execution_count": 3,
   "metadata": {
    "collapsed": false
   },
   "outputs": [
    {
     "data": {
      "text/plain": [
       "\"/Users/serbanstan/git/TreePCG/julia\""
      ]
     },
     "execution_count": 3,
     "metadata": {},
     "output_type": "execute_result"
    }
   ],
   "source": [
    "pwd()"
   ]
  },
  {
   "cell_type": "code",
   "execution_count": 4,
   "metadata": {
    "collapsed": false
   },
   "outputs": [
    {
     "data": {
      "text/plain": [
       "\"../graphs/xu_1_2/\""
      ]
     },
     "execution_count": 4,
     "metadata": {},
     "output_type": "execute_result"
    }
   ],
   "source": [
    "graphp = \"../graphs/xu_1_2/\""
   ]
  },
  {
   "cell_type": "code",
   "execution_count": 5,
   "metadata": {
    "collapsed": false
   },
   "outputs": [],
   "source": [
    "a = readFromFile(graphp * \"graph.mtx\");"
   ]
  },
  {
   "cell_type": "code",
   "execution_count": 6,
   "metadata": {
    "collapsed": false
   },
   "outputs": [],
   "source": [
    "tree = readFromFile(graphp * \"tree.mtx\");"
   ]
  },
  {
   "cell_type": "code",
   "execution_count": 7,
   "metadata": {
    "collapsed": false
   },
   "outputs": [],
   "source": [
    "# need to get proper weights for the tree\n",
    "u,v,w = findnz(tree)\n",
    "for i in 1:nnz(tree)\n",
    "    tree[u[i],v[i]] = a[u[i],v[i]]\n",
    "end"
   ]
  },
  {
   "cell_type": "code",
   "execution_count": 8,
   "metadata": {
    "collapsed": false
   },
   "outputs": [],
   "source": [
    "x = readFromFile(graphp * \"x.vec\");"
   ]
  },
  {
   "cell_type": "code",
   "execution_count": 9,
   "metadata": {
    "collapsed": false
   },
   "outputs": [
    {
     "data": {
      "text/plain": [
       "1000"
      ]
     },
     "execution_count": 9,
     "metadata": {},
     "output_type": "execute_result"
    }
   ],
   "source": [
    "la = lap(a);\n",
    "x = x - mean(x)\n",
    "b = la * x; b = b - mean(b);\n",
    "a.n"
   ]
  },
  {
   "cell_type": "code",
   "execution_count": 10,
   "metadata": {
    "collapsed": false
   },
   "outputs": [
    {
     "name": "stdout",
     "output_type": "stream",
     "text": [
      "  0.286797 seconds (315.27 k allocations: 13.504 MB, 2.16% gc time)\n",
      "  0.125389 seconds (132.06 k allocations: 5.350 MB)\n"
     ]
    }
   ],
   "source": [
    "@time F = treeSolver(tree)\n",
    "@time F(b);"
   ]
  },
  {
   "cell_type": "code",
   "execution_count": 11,
   "metadata": {
    "collapsed": false
   },
   "outputs": [
    {
     "name": "stdout",
     "output_type": "stream",
     "text": [
      "Working on iteration 10 with a-norm error 57.56106994311835\n",
      "Working on iteration 20 with a-norm error 14.925578965357452\n",
      "Working on iteration 30 with a-norm error 4.282352617771024\n",
      "Working on iteration 40 with a-norm error 1.114749491872051\n",
      "Working on iteration 50 with a-norm error 0.2541775307305235\n",
      "Working on iteration 60 with a-norm error 0.0696332423936379\n",
      "Working on iteration 70 with a-norm error 0.014494451374467135\n",
      "Working on iteration 80 with a-norm error 0.003085925812569422\n",
      "Working on iteration 90 with a-norm error 0.0006640952909330122\n",
      "Working on iteration 100 with a-norm error 0.00012024362283778763\n",
      "Working on iteration 110 with a-norm error 2.9149388412790004e-5\n",
      "Working on iteration 120 with a-norm error 6.777497601237892e-6\n",
      "Working on iteration 130 with a-norm error 2.0071354868418915e-6\n",
      "Working on iteration 140 with a-norm error 4.486447746695722e-7\n",
      "Working on iteration 150 with a-norm error 1.2566283525136805e-7\n",
      "Working on iteration 160 with a-norm error 3.279408597033108e-8\n",
      "Working on iteration 170 with a-norm error 8.665751749192214e-9\n",
      "Working on iteration 180 with a-norm error 2.3168895815839136e-9\n",
      "Working on iteration 190 with a-norm error 7.127891264514113e-10\n",
      "Working on iteration 200 with a-norm error 1.6578538348531292e-10\n",
      "PCG stopped after: 200 iterations with relative error 1.5831160727817593e-10.\n",
      "  0.792096 seconds (3.32 M allocations: 102.659 MB, 3.54% gc time)\n"
     ]
    }
   ],
   "source": [
    "# a run on standard Float64 data types\n",
    "numIts = 200;\n",
    "@time myx64,dbg = pcgV(la, b, F, x, maxits=numIts, verbose=true);\n",
    "norm(lap(a) * myx64 - b) / norm(b)\n",
    "insert!(dbg, 1, \"$(numIts) iterations\")\n",
    "insert!(dbg, 1, \"anorm = sqrt((x-truex)' * la * (x-truex)), err2_a = norm(la*x-b) / norm(b), err2_b = norm(x-truex)\")\n",
    "writeToFile(graphp * \"_log_julia_default.txt\", dbg)"
   ]
  },
  {
   "cell_type": "code",
   "execution_count": 12,
   "metadata": {
    "collapsed": false
   },
   "outputs": [
    {
     "name": "stdout",
     "output_type": "stream",
     "text": [
      "Working on iteration 10 with a-norm error 57.56106994311832\n",
      "Working on iteration 20 with a-norm error 14.92556298755091\n",
      "Working on iteration 30 with a-norm error 3.7503027818648524\n",
      "Working on iteration 40 with a-norm error 0.849627323370002\n",
      "Working on iteration 50 with a-norm error 0.22259934897777614\n",
      "Working on iteration 60 with a-norm error 0.04707282359966492\n",
      "Working on iteration 70 with a-norm error 0.008816582422914073\n",
      "Working on iteration 80 with a-norm error 0.0018440143161407867\n",
      "Working on iteration 90 with a-norm error 0.00029196334717857084\n",
      "Working on iteration 100 with a-norm error 7.096039327234141e-5\n",
      "Working on iteration 110 with a-norm error 1.0728709853897605e-5\n",
      "Working on iteration 120 with a-norm error 2.3287725656859747e-6\n",
      "Working on iteration 130 with a-norm error 6.554384314489862e-7\n",
      "Working on iteration 140 with a-norm error 1.4654770570455712e-7\n",
      "Working on iteration 150 with a-norm error 3.199838404914416e-8\n",
      "Working on iteration 160 with a-norm error 7.410819256114437e-9\n",
      "Working on iteration 170 with a-norm error 1.8038057610659925e-9\n",
      "Working on iteration 180 with a-norm error 3.7206707305207795e-10\n",
      "Working on iteration 190 with a-norm error 9.951388115487663e-11\n",
      "Working on iteration 200 with a-norm error 2.4935765920086477e-11\n",
      "PCG stopped after: 200 iterations with relative error 1.9754064861188663e-11.\n",
      "  7.320030 seconds (40.26 M allocations: 1.035 GB, 23.48% gc time)\n",
      "Working on iteration 10 with a-norm error 57.56106994311832\n",
      "Working on iteration 20 with a-norm error 14.925562985429755\n",
      "Working on iteration 30 with a-norm error 2.7262973423991084\n",
      "Working on iteration 40 with a-norm error 0.5112114593655342\n",
      "Working on iteration 50 with a-norm error 0.09725748056995079\n",
      "Working on iteration 60 with a-norm error 0.010863783998533912\n",
      "Working on iteration 70 with a-norm error 0.001281179470088457\n",
      "Working on iteration 80 with a-norm error 0.00015202581865056972\n",
      "Working on iteration 90 with a-norm error 1.2327913937564252e-5\n",
      "Working on iteration 100 with a-norm error 1.6276251297045617e-6\n",
      "Working on iteration 110 with a-norm error 2.1485893355559686e-7\n",
      "Working on iteration 120 with a-norm error 2.4317992826096924e-8\n",
      "Working on iteration 130 with a-norm error 4.671094166516281e-9\n",
      "Working on iteration 140 with a-norm error 6.439364302116996e-10\n",
      "Working on iteration 150 with a-norm error 8.20006872204712e-11\n",
      "Working on iteration 160 with a-norm error 9.626549021600662e-12\n",
      "Working on iteration 170 with a-norm error 1.1077754766060636e-12\n",
      "Working on iteration 180 with a-norm error 1.5469913754484718e-13\n",
      "Working on iteration 190 with a-norm error 1.974252217552025e-14\n",
      "Working on iteration 200 with a-norm error 1.4007878660877799e-14\n",
      "PCG stopped after: 200 iterations with relative error 1.3933897923125837e-14.\n",
      "  7.065304 seconds (40.00 M allocations: 1.121 GB, 25.76% gc time)\n",
      "Working on iteration 10 with a-norm error 57.56106994311832\n",
      "Working on iteration 20 with a-norm error 14.925562985429755\n",
      "Working on iteration 30 with a-norm error 2.7262973423991084\n",
      "Working on iteration 40 with a-norm error 0.4058313612965144\n",
      "Working on iteration 50 with a-norm error 0.04313511584163908\n",
      "Working on iteration 60 with a-norm error 0.0028389715648764638\n",
      "Working on iteration 70 with a-norm error 0.00024151302554409795\n",
      "Working on iteration 80 with a-norm error 2.1400854032913923e-5\n",
      "Working on iteration 90 with a-norm error 1.1657930824773389e-6\n",
      "Working on iteration 100 with a-norm error 7.60566714683341e-8\n",
      "Working on iteration 110 with a-norm error 4.726719770248916e-9\n",
      "Working on iteration 120 with a-norm error 2.430393035809969e-10\n",
      "Working on iteration 130 with a-norm error 1.5163622269784365e-11\n",
      "Working on iteration 140 with a-norm error 1.1094577134237326e-12\n",
      "Working on iteration 150 with a-norm error 5.70126764120531e-14\n",
      "Working on iteration 160 with a-norm error 1.4265665883567014e-14\n",
      "Working on iteration 170 with a-norm error 1.3836891017253212e-14\n",
      "Working on iteration 180 with a-norm error 1.3828838489010193e-14\n",
      "Working on iteration 190 with a-norm error 1.382980119315828e-14\n",
      "Working on iteration 200 with a-norm error 1.3829777409623565e-14\n",
      "PCG stopped after: 200 iterations with relative error 1.3829776598047936e-14.\n",
      "  8.337834 seconds (40.00 M allocations: 1.316 GB, 26.06% gc time)\n",
      "Working on iteration 10 with a-norm error 57.56106994311832\n",
      "Working on iteration 20 with a-norm error 14.925562985429755\n",
      "Working on iteration 30 with a-norm error 2.7262973423991084\n",
      "Working on iteration 40 with a-norm error 0.4058313612965144\n",
      "Working on iteration 50 with a-norm error 0.04313511584163908\n",
      "Working on iteration 60 with a-norm error 0.0028389589351824674\n",
      "Working on iteration 70 with a-norm error 0.0001352657499167155\n",
      "Working on iteration 80 with a-norm error 6.133370900097794e-6\n",
      "Working on iteration 90 with a-norm error 2.3155338497311224e-7\n",
      "Working on iteration 100 with a-norm error 7.5657532850541e-9\n",
      "Working on iteration 110 with a-norm error 4.2517793567521345e-10\n",
      "Working on iteration 120 with a-norm error 1.2308350673683477e-11\n",
      "Working on iteration 130 with a-norm error 3.9633242826061776e-13\n",
      "Working on iteration 140 with a-norm error 1.4919782095176263e-14\n",
      "Working on iteration 150 with a-norm error 1.3835089390681348e-14\n",
      "Working on iteration 160 with a-norm error 1.3829755492686729e-14\n",
      "Working on iteration 170 with a-norm error 1.3829776279137769e-14\n",
      "Working on iteration 180 with a-norm error 1.3829777518345741e-14\n",
      "Working on iteration 190 with a-norm error 1.3829777493385575e-14\n",
      "Working on iteration 200 with a-norm error 1.3829777492618102e-14\n",
      "PCG stopped after: 200 iterations with relative error 1.3829777492637353e-14.\n",
      "  9.079152 seconds (40.00 M allocations: 1.706 GB, 26.10% gc time)\n",
      "Working on iteration 10 with a-norm error 57.56106994311832\n",
      "Working on iteration 20 with a-norm error 14.925562985429755\n",
      "Working on iteration 30 with a-norm error 2.7262973423991084\n",
      "Working on iteration 40 with a-norm error 0.4058313612965144\n",
      "Working on iteration 50 with a-norm error 0.04313511584163908\n",
      "Working on iteration 60 with a-norm error 0.0028389589351824674\n",
      "Working on iteration 70 with a-norm error 0.0001352657499167155\n",
      "Working on iteration 80 with a-norm error 6.133370900097794e-6\n",
      "Working on iteration 90 with a-norm error 2.3155338497311224e-7\n",
      "Working on iteration 100 with a-norm error 7.565753266587562e-9\n",
      "Working on iteration 110 with a-norm error 2.0101694725718e-10\n",
      "Working on iteration 120 with a-norm error 3.979516543741924e-12\n",
      "Working on iteration 130 with a-norm error 5.80380496298808e-14\n",
      "Working on iteration 140 with a-norm error 1.3856936918717017e-14\n",
      "Working on iteration 150 with a-norm error 1.3830019839584167e-14\n",
      "Working on iteration 160 with a-norm error 1.3829777012863161e-14\n",
      "Working on iteration 170 with a-norm error 1.382977751958648e-14\n",
      "Working on iteration 180 with a-norm error 1.3829777492612633e-14\n",
      "Working on iteration 190 with a-norm error 1.3829777492672219e-14\n",
      "Working on iteration 200 with a-norm error 1.3829777492670973e-14\n",
      "PCG stopped after: 200 iterations with relative error 1.3829777492670985e-14.\n",
      " 12.741965 seconds (40.00 M allocations: 2.487 GB, 25.35% gc time)\n"
     ]
    }
   ],
   "source": [
    "numIts = 200\n",
    "for hp in [64,128,256,512,1024]\n",
    "    set_bigfloat_precision(hp)\n",
    "    laHP = toHighPrecision(la; precision=hp)\n",
    "    treeHP = toHighPrecision(tree; precision=hp)\n",
    "    xHP = toHighPrecision(x; precision=hp);\n",
    "    bHP = toHighPrecision(b; precision=hp);\n",
    "    FHP = treeSolver(treeHP)\n",
    "    \n",
    "    @time myxHP,dbg = pcgV(laHP, bHP, FHP, xHP, maxits=numIts, verbose=true);\n",
    "    insert!(dbg, 1, \"$(numIts) iterations\")\n",
    "    insert!(dbg, 1, \"anorm = sqrt((x-truex)' * la * (x-truex)), err2_a = norm(la*x-b) / norm(b), err2_b = norm(x-truex)\")\n",
    "    writeToFile(graphp * \"_log_julia_$(hp).txt\", dbg)\n",
    "end"
   ]
  },
  {
   "cell_type": "code",
   "execution_count": null,
   "metadata": {
    "collapsed": true
   },
   "outputs": [],
   "source": []
  }
 ],
 "metadata": {
  "kernelspec": {
   "display_name": "Julia 0.4.6",
   "language": "julia",
   "name": "julia-0.4"
  },
  "language_info": {
   "file_extension": ".jl",
   "mimetype": "application/julia",
   "name": "julia",
   "version": "0.4.6"
  }
 },
 "nbformat": 4,
 "nbformat_minor": 0
}
