{
 "cells": [
  {
   "cell_type": "code",
   "execution_count": 1,
   "metadata": {
    "collapsed": false
   },
   "outputs": [
    {
     "name": "stderr",
     "output_type": "stream",
     "text": [
      "objc[18981]: Class TKApplication is implemented in both /Users/serbanstan/anaconda/lib/libtk8.5.dylib and /System/Library/Frameworks/Tk.framework/Versions/8.5/Tk. One of the two will be used. Which one is undefined.\n",
      "objc[18981]: Class TKMenu is implemented in both /Users/serbanstan/anaconda/lib/libtk8.5.dylib and /System/Library/Frameworks/Tk.framework/Versions/8.5/Tk. One of the two will be used. Which one is undefined.\n",
      "objc[18981]: Class TKContentView is implemented in both /Users/serbanstan/anaconda/lib/libtk8.5.dylib and /System/Library/Frameworks/Tk.framework/Versions/8.5/Tk. One of the two will be used. Which one is undefined.\n",
      "objc[18981]: Class TKWindow is implemented in both /Users/serbanstan/anaconda/lib/libtk8.5.dylib and /System/Library/Frameworks/Tk.framework/Versions/8.5/Tk. One of the two will be used. Which one is undefined.\n"
     ]
    }
   ],
   "source": [
    "using Laplacians"
   ]
  },
  {
   "cell_type": "code",
   "execution_count": 2,
   "metadata": {
    "collapsed": false
   },
   "outputs": [
    {
     "data": {
      "text/plain": [
       "pcgWorker (generic function with 1 method)"
      ]
     },
     "execution_count": 2,
     "metadata": {},
     "output_type": "execute_result"
    }
   ],
   "source": [
    "include(\"treeSolver.jl\")\n",
    "include(\"IO.jl\")\n",
    "include(\"generators.jl\")\n",
    "include(\"toHighPrecision.jl\")\n",
    "include(\"verbosePCG.jl\")"
   ]
  },
  {
   "cell_type": "code",
   "execution_count": 3,
   "metadata": {
    "collapsed": false
   },
   "outputs": [
    {
     "data": {
      "text/plain": [
       "\"/Users/serbanstan/git/TreePCG/julia\""
      ]
     },
     "execution_count": 3,
     "metadata": {},
     "output_type": "execute_result"
    }
   ],
   "source": [
    "pwd()"
   ]
  },
  {
   "cell_type": "code",
   "execution_count": 4,
   "metadata": {
    "collapsed": false
   },
   "outputs": [
    {
     "data": {
      "text/plain": [
       "\"../graphs/se_4/\""
      ]
     },
     "execution_count": 4,
     "metadata": {},
     "output_type": "execute_result"
    }
   ],
   "source": [
    "graphp = \"../graphs/se_4/\""
   ]
  },
  {
   "cell_type": "code",
   "execution_count": 5,
   "metadata": {
    "collapsed": false
   },
   "outputs": [],
   "source": [
    "a = readFromFile(graphp * \"graph.mtx\");"
   ]
  },
  {
   "cell_type": "code",
   "execution_count": 6,
   "metadata": {
    "collapsed": false
   },
   "outputs": [],
   "source": [
    "tree = readFromFile(graphp * \"tree.mtx\");"
   ]
  },
  {
   "cell_type": "code",
   "execution_count": 7,
   "metadata": {
    "collapsed": false
   },
   "outputs": [],
   "source": [
    "x = readFromFile(graphp * \"x.vec\");"
   ]
  },
  {
   "cell_type": "code",
   "execution_count": 8,
   "metadata": {
    "collapsed": false
   },
   "outputs": [],
   "source": [
    "la = lap(a);\n",
    "x = x - mean(x)\n",
    "b = la * x; b = b - mean(b);"
   ]
  },
  {
   "cell_type": "code",
   "execution_count": 10,
   "metadata": {
    "collapsed": false
   },
   "outputs": [
    {
     "name": "stdout",
     "output_type": "stream",
     "text": [
      " 11.643632 seconds (2.50 M allocations: 171.090 MB, 0.16% gc time)\n",
      "  0.438585 seconds (4.00 M allocations: 76.256 MB, 39.48% gc time)\n"
     ]
    }
   ],
   "source": [
    "@time F = treeSolver(tree)\n",
    "@time F(b);"
   ]
  },
  {
   "cell_type": "code",
   "execution_count": 13,
   "metadata": {
    "collapsed": false
   },
   "outputs": [
    {
     "name": "stdout",
     "output_type": "stream",
     "text": [
      "Working on iteration 10 with a-norm error 1027.4932372948738\n",
      "Working on iteration 20 with a-norm error 15.814999020407681\n",
      "Working on iteration 30 with a-norm error 0.26826881729252894\n",
      "Working on iteration 40 with a-norm error 0.0033043762455750108\n",
      "Working on iteration 50 with a-norm error 1.7909890094811588e-5\n",
      "Working on iteration 60 with a-norm error 6.3462218201432895e-6\n",
      "Working on iteration 70 with a-norm error 6.3200121819824545e-6\n",
      "Working on iteration 80 with a-norm error 6.32292162018948e-6\n",
      "Working on iteration 90 with a-norm error 6.322943225213564e-6\n",
      "Working on iteration 100 with a-norm error 6.322947011938211e-6\n",
      "PCG stopped after: 100 iterations with relative error 6.3229487006264386e-6.\n",
      " 23.226156 seconds (403.76 M allocations: 10.217 GB, 15.61% gc time)\n"
     ]
    }
   ],
   "source": [
    "# a run on standard Float64 data types\n",
    "numIts = 100;\n",
    "@time myx64,dbg = pcgV(la, b, F, x, maxits=numIts, verbose=true);\n",
    "norm(lap(a) * myx64 - b) / norm(b)\n",
    "insert!(dbg, 1, \"$(numIts) iterations\")\n",
    "insert!(dbg, 1, \"anorm = sqrt((x-truex)' * la * (x-truex)), err2_a = norm(la*x-b) / norm(b), err2_b = norm(x-truex)\")\n",
    "writeToFile(graphp * \"_log_julia_default.txt\", dbg)"
   ]
  },
  {
   "cell_type": "code",
   "execution_count": 14,
   "metadata": {
    "collapsed": false
   },
   "outputs": [
    {
     "name": "stdout",
     "output_type": "stream",
     "text": [
      "Working on iteration 10 with a-norm error 1024.7007140598735\n",
      "Working on iteration 20 with a-norm error 7.514398764542579\n",
      "Working on iteration 30 with a-norm error 0.09706993497803132\n",
      "Working on iteration 40 with a-norm error 0.00020053336044311055\n",
      "Working on iteration 50 with a-norm error 9.84452822885789e-7\n",
      "Working on iteration 60 with a-norm error 5.805083494030058e-8\n",
      "Working on iteration 70 with a-norm error 5.322765998617783e-8\n",
      "Working on iteration 80 with a-norm error 5.3203255865330416e-8\n",
      "Working on iteration 90 with a-norm error 5.3202049465289506e-8\n",
      "Working on iteration 100 with a-norm error 5.3202048035326195e-8\n",
      "PCG stopped after: 100 iterations with relative error 5.3202047871259295e-8.\n",
      "2328.058637 seconds (6.45 G allocations: 163.371 GB, 47.22% gc time)\n",
      "Working on iteration 10 with a-norm error 685.338875738586\n",
      "Working on iteration 20 with a-norm error 1.4734586105163687\n",
      "Working on iteration 30 with a-norm error 0.0007141158477822725\n",
      "Working on iteration 40 with a-norm error 1.386161141381775e-7\n",
      "Working on iteration 50 with a-norm error 5.493728273274201e-8\n",
      "Working on iteration 60 with a-norm error 5.49366041621662e-8\n",
      "Working on iteration 70 with a-norm error 5.493660063490058e-8\n",
      "Working on iteration 80 with a-norm error 5.493660063506974e-8\n",
      "Working on iteration 90 with a-norm error 5.4936600635052704e-8\n",
      "Working on iteration 100 with a-norm error 5.4936600635052426e-8\n",
      "PCG stopped after: 100 iterations with relative error 5.4936600635052426e-8.\n",
      "2630.874595 seconds (6.45 G allocations: 179.013 GB, 48.44% gc time)\n",
      "Working on iteration 10 with a-norm error 685.338875733558\n",
      "Working on iteration 20 with a-norm error 0.2674127111765645\n",
      "Working on iteration 30 with a-norm error 9.142589675504313e-6\n",
      "Working on iteration 40 with a-norm error 5.493325001296559e-8\n",
      "Working on iteration 50 with a-norm error 5.493660063697258e-8\n",
      "Working on iteration 60 with a-norm error 5.4936600635052466e-8\n",
      "Working on iteration 70 with a-norm error 5.4936600635052426e-8\n",
      "Working on iteration 80 with a-norm error 5.4936600635052426e-8\n",
      "Working on iteration 90 with a-norm error 5.4936600635052426e-8\n",
      "Working on iteration 100 with a-norm error 5.4936600635052426e-8\n",
      "PCG stopped after: 100 iterations with relative error 5.4936600635052426e-8.\n",
      "6822.796064 seconds (6.45 G allocations: 398.155 GB, 52.80% gc time)\n"
     ]
    }
   ],
   "source": [
    "numIts = 100\n",
    "for hp in [64,128,1024]\n",
    "    set_bigfloat_precision(hp)\n",
    "    laHP = toHighPrecision(la; precision=hp)\n",
    "    treeHP = toHighPrecision(tree; precision=hp)\n",
    "    xHP = toHighPrecision(x; precision=hp);\n",
    "    bHP = toHighPrecision(b; precision=hp);\n",
    "    FHP = treeSolver(treeHP)\n",
    "    \n",
    "    @time myxHP,dbg = pcgV(laHP, bHP, FHP, xHP, maxits=numIts, verbose=true);\n",
    "    insert!(dbg, 1, \"$(numIts) iterations\")\n",
    "    insert!(dbg, 1, \"anorm = sqrt((x-truex)' * la * (x-truex)), err2_a = norm(la*x-b) / norm(b), err2_b = norm(x-truex)\")\n",
    "    writeToFile(graphp * \"_log_julia_$(hp).txt\", dbg)\n",
    "end"
   ]
  },
  {
   "cell_type": "code",
   "execution_count": null,
   "metadata": {
    "collapsed": false
   },
   "outputs": [],
   "source": [
    "?pcgV"
   ]
  },
  {
   "cell_type": "code",
   "execution_count": null,
   "metadata": {
    "collapsed": false
   },
   "outputs": [],
   "source": [
    "typeof(laHP)"
   ]
  },
  {
   "cell_type": "code",
   "execution_count": null,
   "metadata": {
    "collapsed": true
   },
   "outputs": [],
   "source": []
  }
 ],
 "metadata": {
  "kernelspec": {
   "display_name": "Julia 0.4.6",
   "language": "julia",
   "name": "julia-0.4"
  },
  "language_info": {
   "file_extension": ".jl",
   "mimetype": "application/julia",
   "name": "julia",
   "version": "0.4.6"
  }
 },
 "nbformat": 4,
 "nbformat_minor": 0
}
