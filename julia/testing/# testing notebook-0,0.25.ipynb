{
 "cells": [
  {
   "cell_type": "code",
   "execution_count": 1,
   "metadata": {
    "collapsed": false
   },
   "outputs": [
    {
     "data": {
      "text/plain": [
       "parseData (generic function with 1 method)"
      ]
     },
     "execution_count": 1,
     "metadata": {},
     "output_type": "execute_result"
    }
   ],
   "source": [
    "include(\"../src/Julia.jl\")"
   ]
  },
  {
   "cell_type": "code",
   "execution_count": 2,
   "metadata": {
    "collapsed": false
   },
   "outputs": [
    {
     "data": {
      "text/plain": [
       "\"/Users/serbanstan/git/TreePCG/julia/testing\""
      ]
     },
     "execution_count": 2,
     "metadata": {},
     "output_type": "execute_result"
    }
   ],
   "source": [
    "pwd()"
   ]
  },
  {
   "cell_type": "code",
   "execution_count": 3,
   "metadata": {
    "collapsed": false
   },
   "outputs": [],
   "source": [
    "gpath = \"../../graphs/\";"
   ]
  },
  {
   "cell_type": "code",
   "execution_count": 4,
   "metadata": {
    "collapsed": false
   },
   "outputs": [
    {
     "data": {
      "text/plain": [
       "7-element Array{ByteString,1}:\n",
       " \"grid2_10000_iu1000\"   \n",
       " \"grid2_10000_iu11\"     \n",
       " \"grid2_10000_u1000\"    \n",
       " \"grid3_27000_iu1000\"   \n",
       " \"grid3_27000_u1000\"    \n",
       " \"grid3_9261_iu11\"      \n",
       " \"ipmOri_grid3_125000_1\""
      ]
     },
     "execution_count": 4,
     "metadata": {},
     "output_type": "execute_result"
    }
   ],
   "source": [
    "graphs = readdir(\"../../graphs\");\n",
    "graphs = graphs[1:ceil(Int64,length(graphs)/4)]"
   ]
  },
  {
   "cell_type": "code",
   "execution_count": 5,
   "metadata": {
    "collapsed": false
   },
   "outputs": [
    {
     "name": "stdout",
     "output_type": "stream",
     "text": [
      "  0.526795 seconds (652.03 k allocations: 30.342 MB, 1.71% gc time)\n",
      "  0.164421 seconds (290.91 k allocations: 7.538 MB)\n",
      " 10.210310 seconds (198.37 M allocations: 4.678 GB, 5.80% gc time)\n",
      "497.399088 seconds (2.38 G allocations: 60.478 GB, 33.86% gc time)\n",
      "561.148821 seconds (2.38 G allocations: 66.258 GB, 34.55% gc time)\n",
      "591.751263 seconds (2.38 G allocations: 77.836 GB, 33.65% gc time)\n",
      "671.189128 seconds (2.38 G allocations: 100.992 GB, 33.04% gc time)\n",
      "782.124297 seconds (2.38 G allocations: 147.303 GB, 32.25% gc time)\n",
      "  0.028579 seconds (50.18 k allocations: 5.761 MB)\n",
      "  0.049919 seconds (197.89 k allocations: 3.631 MB, 78.92% gc time)\n",
      " 13.827058 seconds (198.16 M allocations: 4.669 GB, 20.55% gc time)\n",
      "505.700553 seconds (2.38 G allocations: 60.469 GB, 33.93% gc time)\n",
      "566.225321 seconds (2.38 G allocations: 66.258 GB, 34.32% gc time)\n",
      "654.239947 seconds (2.38 G allocations: 77.836 GB, 32.93% gc time)\n",
      "733.352665 seconds (2.38 G allocations: 100.992 GB, 32.79% gc time)\n",
      "840.471590 seconds (2.38 G allocations: 147.303 GB, 31.93% gc time)\n",
      "  0.065682 seconds (50.18 k allocations: 5.763 MB, 62.11% gc time)\n",
      "  0.010024 seconds (197.85 k allocations: 3.630 MB)\n",
      " 14.055147 seconds (198.12 M allocations: 4.668 GB, 19.79% gc time)\n",
      "539.060389 seconds (2.38 G allocations: 60.469 GB, 33.43% gc time)\n",
      "594.643943 seconds (2.38 G allocations: 66.258 GB, 33.92% gc time)\n",
      "613.927395 seconds (2.38 G allocations: 77.836 GB, 33.10% gc time)\n",
      "688.761829 seconds (2.38 G allocations: 100.991 GB, 32.97% gc time)\n",
      "799.952551 seconds (2.38 G allocations: 147.302 GB, 31.96% gc time)\n",
      "  0.018519 seconds (50.18 k allocations: 5.763 MB)\n",
      "  0.007510 seconds (197.65 k allocations: 3.627 MB)\n",
      " 10.971628 seconds (197.92 M allocations: 4.665 GB, 11.28% gc time)\n",
      "530.678774 seconds (2.38 G allocations: 60.466 GB, 33.42% gc time)\n",
      "577.952453 seconds (2.38 G allocations: 66.255 GB, 34.05% gc time)\n",
      "610.360534 seconds (2.38 G allocations: 77.833 GB, 33.20% gc time)\n",
      "694.348198 seconds (2.38 G allocations: 100.988 GB, 32.85% gc time)\n",
      "790.532020 seconds (2.38 G allocations: 147.299 GB, 32.17% gc time)\n",
      "  0.025975 seconds (50.18 k allocations: 5.763 MB)\n",
      "  0.010020 seconds (197.90 k allocations: 3.631 MB)\n",
      " 13.121004 seconds (198.17 M allocations: 4.669 GB, 15.46% gc time)\n",
      "539.913459 seconds (2.38 G allocations: 60.470 GB, 33.13% gc time)\n",
      "571.167463 seconds (2.38 G allocations: 66.259 GB, 33.60% gc time)\n",
      "639.646870 seconds (2.38 G allocations: 77.836 GB, 33.00% gc time)\n",
      "728.337333 seconds (2.38 G allocations: 100.992 GB, 32.71% gc time)\n",
      "815.888436 seconds (2.38 G allocations: 147.303 GB, 32.01% gc time)\n",
      "16207.519738 seconds (60.48 G allocations: 2.235 TB, 32.98% gc time)\n",
      "finished running on grid2_10000_iu1000\n",
      "\n",
      "skipping grid2_10000_iu11\n",
      "\n",
      "  0.021144 seconds (50.18 k allocations: 5.763 MB)\n",
      "  0.012573 seconds (197.87 k allocations: 3.630 MB, 35.79% gc time)\n",
      " 11.787185 seconds (198.14 M allocations: 4.668 GB, 14.55% gc time)\n",
      "533.328933 seconds (2.38 G allocations: 60.469 GB, 33.52% gc time)\n",
      "595.889461 seconds (2.38 G allocations: 66.258 GB, 33.99% gc time)\n",
      "646.753892 seconds (2.38 G allocations: 77.836 GB, 32.78% gc time)\n",
      "704.823983 seconds (2.38 G allocations: 100.991 GB, 32.94% gc time)\n",
      "830.554066 seconds (2.38 G allocations: 147.303 GB, 31.97% gc time)\n",
      "  0.016672 seconds (50.18 k allocations: 5.761 MB)\n",
      "  0.006612 seconds (197.92 k allocations: 3.631 MB)\n",
      " 12.539200 seconds (198.19 M allocations: 4.669 GB, 19.72% gc time)\n",
      "544.001634 seconds (2.38 G allocations: 60.470 GB, 33.34% gc time)\n",
      "529.956352 seconds (2.38 G allocations: 66.259 GB, 34.44% gc time)\n",
      "480.859124 seconds (2.38 G allocations: 77.837 GB, 34.43% gc time)\n",
      "544.063821 seconds (2.38 G allocations: 100.992 GB, 33.52% gc time)\n",
      "606.277687 seconds (2.38 G allocations: 147.303 GB, 32.58% gc time)\n",
      "  0.016378 seconds (50.18 k allocations: 5.763 MB)\n",
      "  0.007492 seconds (197.84 k allocations: 3.630 MB)\n",
      "  9.554270 seconds (198.11 M allocations: 4.668 GB, 22.52% gc time)\n",
      "401.963663 seconds (2.38 G allocations: 60.469 GB, 34.97% gc time)\n",
      "438.641290 seconds (2.38 G allocations: 66.258 GB, 35.35% gc time)\n",
      "472.413903 seconds (2.38 G allocations: 77.835 GB, 34.17% gc time)\n",
      "542.061400 seconds (2.38 G allocations: 100.991 GB, 33.47% gc time)\n",
      "615.760827 seconds (2.38 G allocations: 147.302 GB, 32.66% gc time)\n",
      "  0.016318 seconds (50.18 k allocations: 5.763 MB)\n",
      "  0.006507 seconds (197.74 k allocations: 3.629 MB)\n",
      "  9.788086 seconds (198.01 M allocations: 4.667 GB, 24.37% gc time)\n",
      "409.658804 seconds (2.38 G allocations: 60.467 GB, 34.39% gc time)\n",
      "441.318198 seconds (2.38 G allocations: 66.256 GB, 35.13% gc time)\n",
      "470.004189 seconds (2.38 G allocations: 77.834 GB, 34.44% gc time)\n",
      "537.983515 seconds (2.38 G allocations: 100.990 GB, 33.68% gc time)\n",
      "621.849702 seconds (2.38 G allocations: 147.301 GB, 32.79% gc time)\n",
      "  0.041534 seconds (50.18 k allocations: 5.763 MB, 60.83% gc time)\n",
      "  0.005956 seconds (197.90 k allocations: 3.631 MB)\n",
      "  8.388246 seconds (198.17 M allocations: 4.669 GB, 13.56% gc time)\n",
      "410.221483 seconds (2.38 G allocations: 60.470 GB, 34.61% gc time)\n",
      "434.526009 seconds (2.38 G allocations: 66.259 GB, 35.31% gc time)\n",
      "461.961532 seconds (2.38 G allocations: 77.836 GB, 34.56% gc time)\n",
      "533.844300 seconds (2.38 G allocations: 100.992 GB, 33.76% gc time)\n",
      "616.814717 seconds (2.38 G allocations: 147.303 GB, 32.44% gc time)\n",
      "13482.054806 seconds (60.48 G allocations: 2.235 TB, 33.60% gc time)\n",
      "finished running on grid2_10000_u1000\n",
      "\n",
      "  0.048674 seconds (135.19 k allocations: 15.368 MB)\n",
      "  0.021502 seconds (537.79 k allocations: 9.855 MB, 22.69% gc time)\n",
      " 27.142106 seconds (538.40 M allocations: 12.653 GB, 21.66% gc time)\n",
      "1408.807849 seconds (7.62 G allocations: 192.924 GB, 36.40% gc time)\n",
      "1534.245206 seconds (7.62 G allocations: 211.515 GB, 36.86% gc time)\n",
      "1637.168715 seconds (7.62 G allocations: 248.697 GB, 36.59% gc time)\n",
      "1863.038246 seconds (7.62 G allocations: 323.060 GB, 36.02% gc time)\n",
      "2128.709484 seconds (7.62 G allocations: 471.787 GB, 35.41% gc time)\n",
      "  0.083719 seconds (135.19 k allocations: 15.366 MB, 41.86% gc time)\n",
      "  0.017353 seconds (537.93 k allocations: 9.857 MB)\n",
      " 27.729824 seconds (538.54 M allocations: 12.655 GB, 23.35% gc time)\n",
      "1443.053866 seconds (7.62 G allocations: 192.926 GB, 36.01% gc time)\n",
      "1519.810933 seconds (7.62 G allocations: 211.517 GB, 36.75% gc time)\n",
      "1652.970567 seconds (7.62 G allocations: 248.699 GB, 36.39% gc time)\n",
      "1885.623239 seconds (7.62 G allocations: 323.062 GB, 35.97% gc time)\n",
      "2130.852189 seconds (7.62 G allocations: 471.789 GB, 34.69% gc time)\n",
      "  0.048763 seconds (135.19 k allocations: 15.368 MB)\n",
      "  0.047138 seconds (537.94 k allocations: 9.857 MB, 63.18% gc time)\n",
      " 28.353951 seconds (538.55 M allocations: 12.655 GB, 24.95% gc time)\n",
      "1421.267564 seconds (7.62 G allocations: 192.926 GB, 36.48% gc time)\n",
      "1535.831057 seconds (7.62 G allocations: 211.517 GB, 36.93% gc time)\n",
      "1627.421482 seconds (7.62 G allocations: 248.699 GB, 36.73% gc time)\n",
      "1842.281440 seconds (7.62 G allocations: 323.062 GB, 35.94% gc time)\n",
      "2142.334812 seconds (7.62 G allocations: 471.790 GB, 35.44% gc time)\n",
      "  0.049301 seconds (135.19 k allocations: 15.366 MB)\n",
      "  0.046727 seconds (537.76 k allocations: 9.854 MB, 63.45% gc time)\n",
      " 28.173687 seconds (538.37 M allocations: 12.653 GB, 24.11% gc time)\n",
      "1452.373710 seconds (7.62 G allocations: 192.924 GB, 36.36% gc time)\n",
      "1522.740611 seconds (7.62 G allocations: 211.514 GB, 36.88% gc time)\n",
      "1641.059271 seconds (7.62 G allocations: 248.696 GB, 36.62% gc time)\n",
      "1863.222494 seconds (7.62 G allocations: 323.060 GB, 35.91% gc time)\n",
      "2097.029225 seconds (7.62 G allocations: 471.787 GB, 35.27% gc time)\n",
      "  0.090771 seconds (135.19 k allocations: 15.368 MB, 45.60% gc time)\n",
      "  0.022523 seconds (537.89 k allocations: 9.856 MB, 26.02% gc time)\n",
      " 25.251124 seconds (538.50 M allocations: 12.655 GB, 17.07% gc time)\n",
      "1419.832247 seconds (7.62 G allocations: 192.926 GB, 36.30% gc time)\n",
      "1548.023943 seconds (7.62 G allocations: 211.516 GB, 36.79% gc time)\n",
      "1646.551154 seconds (7.62 G allocations: 248.698 GB, 36.77% gc time)\n",
      "1880.771004 seconds (7.62 G allocations: 323.062 GB, 36.02% gc time)\n",
      "2147.281691 seconds (7.62 G allocations: 471.789 GB, 35.43% gc time)\n",
      "43141.300036 seconds (193.21 G allocations: 7.135 TB, 36.08% gc time)\n",
      "finished running on grid3_27000_iu1000\n",
      "\n",
      "  0.055690 seconds (135.19 k allocations: 15.366 MB, 8.56% gc time)\n",
      "  0.018348 seconds (537.91 k allocations: 9.857 MB)\n",
      " 26.979802 seconds (538.52 M allocations: 12.655 GB, 21.70% gc time)\n",
      "1379.296222 seconds (7.62 G allocations: 192.926 GB, 36.26% gc time)\n",
      "1449.312823 seconds (7.62 G allocations: 211.517 GB, 36.52% gc time)\n",
      "1561.258882 seconds (7.62 G allocations: 248.699 GB, 36.47% gc time)\n",
      "1762.690903 seconds (7.62 G allocations: 323.062 GB, 35.46% gc time)\n",
      "2011.651300 seconds (7.62 G allocations: 471.789 GB, 34.69% gc time)\n",
      "  0.078690 seconds (135.19 k allocations: 15.366 MB, 38.02% gc time)\n",
      "  0.017028 seconds (537.90 k allocations: 9.857 MB)\n",
      " 27.467801 seconds (538.51 M allocations: 12.655 GB, 24.23% gc time)\n",
      "1365.990603 seconds (7.62 G allocations: 192.926 GB, 36.25% gc time)\n",
      "1468.089724 seconds (7.62 G allocations: 211.516 GB, 36.59% gc time)\n",
      "1580.166055 seconds (7.62 G allocations: 248.698 GB, 36.36% gc time)\n",
      "1771.286020 seconds (7.62 G allocations: 323.062 GB, 35.28% gc time)\n",
      "2011.304070 seconds (7.62 G allocations: 471.789 GB, 34.29% gc time)\n",
      "  0.073114 seconds (135.19 k allocations: 15.371 MB, 32.57% gc time)\n",
      "  0.016032 seconds (537.87 k allocations: 9.856 MB)\n",
      " 26.762671 seconds (538.48 M allocations: 12.654 GB, 23.59% gc time)\n",
      "1346.846545 seconds (7.62 G allocations: 192.925 GB, 36.05% gc time)\n",
      "1475.889458 seconds (7.62 G allocations: 211.516 GB, 36.55% gc time)\n",
      "1569.642995 seconds (7.62 G allocations: 248.698 GB, 36.09% gc time)\n",
      "1760.380152 seconds (7.62 G allocations: 323.061 GB, 35.24% gc time)\n",
      "2032.597896 seconds (7.62 G allocations: 471.789 GB, 35.01% gc time)\n",
      "  0.048856 seconds (135.19 k allocations: 15.366 MB)\n",
      "  0.039365 seconds (537.84 k allocations: 9.856 MB, 58.42% gc time)\n",
      " 24.530887 seconds (538.45 M allocations: 12.654 GB, 17.70% gc time)\n",
      "1345.721810 seconds (7.62 G allocations: 192.925 GB, 36.05% gc time)\n",
      "1458.326495 seconds (7.62 G allocations: 211.516 GB, 36.78% gc time)\n",
      "1557.987505 seconds (7.62 G allocations: 248.697 GB, 36.41% gc time)\n",
      "1771.736718 seconds (7.62 G allocations: 323.061 GB, 35.54% gc time)\n",
      "2002.170601 seconds (7.62 G allocations: 471.788 GB, 34.77% gc time)\n",
      "  0.076983 seconds (135.19 k allocations: 15.368 MB, 36.96% gc time)\n",
      "  0.016565 seconds (537.93 k allocations: 9.857 MB)\n",
      " 27.648756 seconds (538.54 M allocations: 12.655 GB, 25.79% gc time)\n",
      "1364.064199 seconds (7.62 G allocations: 192.926 GB, 36.48% gc time)\n",
      "1466.026516 seconds (7.62 G allocations: 211.517 GB, 36.74% gc time)\n",
      "1567.842416 seconds (7.62 G allocations: 248.699 GB, 36.38% gc time)\n",
      "1766.363154 seconds (7.62 G allocations: 323.062 GB, 35.36% gc time)\n",
      "2006.253338 seconds (7.62 G allocations: 471.789 GB, 35.03% gc time)\n",
      "40997.815187 seconds (193.21 G allocations: 7.135 TB, 35.73% gc time)\n",
      "finished running on grid3_27000_u1000\n",
      "\n",
      "skipping grid3_9261_iu11\n",
      "\n",
      "skipping ipmOri_grid3_125000_1\n",
      "\n"
     ]
    }
   ],
   "source": [
    "for cur in graphs\n",
    "    path = gpath * cur * \"/\"\n",
    "    \n",
    "    try\n",
    "        a = readFromFile(path * \"graph.mtx\");\n",
    "        x = readFromFile(path * \"x.vec\");\n",
    "        \n",
    "        tree = []\n",
    "        for ind in 1:5\n",
    "            tr = readFromFile(path * \"tree$(ind).mtx\");\n",
    "            \n",
    "            u,v,w = findnz(tr)\n",
    "            for i in 1:length(w)\n",
    "                w[i] = a[u[i],v[i]]\n",
    "            end\n",
    "            tr = sparse(u,v,w)\n",
    "            \n",
    "            push!(tree, tr);\n",
    "        end\n",
    "        \n",
    "        la = lap(a);\n",
    "        x = x - mean(x)\n",
    "        b = la * x; b = b - mean(b);\n",
    "        \n",
    "        numIts = 1000;\n",
    "        @time for i in 1:5\n",
    "            @time F = treeSolver(tree[i])\n",
    "            @time F(b);\n",
    "\n",
    "            # a run on standard Float64 data types\n",
    "            @time myx64,dbg = pcgV(la, b, F, x, maxits=numIts, verbose=false);\n",
    "            norm(lap(a) * myx64 - b) / norm(b)\n",
    "            insert!(dbg, 1, \"$(numIts) iterations\")\n",
    "            insert!(dbg, 1, \"anorm = sqrt((x-truex)' * la * (x-truex)), err2_a = norm(la*x-b) / norm(b), err2_b = norm(x-truex)\")\n",
    "            writeToFile(path * \"_log_julia_tree$(i)_default.txt\", dbg)\n",
    "\n",
    "            # now useing higer precision data types\n",
    "            for hp in [64,128,256,512,1024]\n",
    "                set_bigfloat_precision(hp)\n",
    "                laHP = toHighPrecision(la; precision=hp)\n",
    "                treeHP = toHighPrecision(tree[i]; precision=hp)\n",
    "                xHP = toHighPrecision(x; precision=hp);\n",
    "                bHP = toHighPrecision(b; precision=hp);\n",
    "                FHP = treeSolver(treeHP)\n",
    "\n",
    "                @time myxHP,dbg = pcgV(laHP, bHP, FHP, xHP, maxits=numIts, verbose=false);\n",
    "                insert!(dbg, 1, \"$(numIts) iterations\")\n",
    "                insert!(dbg, 1, \"anorm = sqrt((x-truex)' * la * (x-truex)), err2_a = norm(la*x-b) / norm(b), err2_b = norm(x-truex)\")\n",
    "                writeToFile(path * \"_log_julia_tree$(i)_$(hp).txt\", dbg)\n",
    "            end\n",
    "        end\n",
    "            \n",
    "        println(\"finished running on \", cur, \"\\n\")\n",
    "    catch\n",
    "        println(\"skipping \", cur, \"\\n\")\n",
    "    end\n",
    "end"
   ]
  },
  {
   "cell_type": "code",
   "execution_count": null,
   "metadata": {
    "collapsed": true
   },
   "outputs": [],
   "source": []
  },
  {
   "cell_type": "code",
   "execution_count": null,
   "metadata": {
    "collapsed": true
   },
   "outputs": [],
   "source": []
  }
 ],
 "metadata": {
  "anaconda-cloud": {},
  "kernelspec": {
   "display_name": "Julia 0.4.6",
   "language": "julia",
   "name": "julia-0.4"
  },
  "language_info": {
   "file_extension": ".jl",
   "mimetype": "application/julia",
   "name": "julia",
   "version": "0.4.6"
  }
 },
 "nbformat": 4,
 "nbformat_minor": 0
}
