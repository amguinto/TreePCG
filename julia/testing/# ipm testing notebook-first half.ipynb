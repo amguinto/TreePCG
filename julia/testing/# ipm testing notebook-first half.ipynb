{
 "cells": [
  {
   "cell_type": "code",
   "execution_count": 1,
   "metadata": {
    "collapsed": false
   },
   "outputs": [
    {
     "data": {
      "text/plain": [
       "parseData (generic function with 1 method)"
      ]
     },
     "execution_count": 1,
     "metadata": {},
     "output_type": "execute_result"
    }
   ],
   "source": [
    "include(\"../src/Julia.jl\")"
   ]
  },
  {
   "cell_type": "code",
   "execution_count": 2,
   "metadata": {
    "collapsed": false
   },
   "outputs": [
    {
     "data": {
      "text/plain": [
       "\"/Users/serbanstan/git/TreePCG/julia/testing\""
      ]
     },
     "execution_count": 2,
     "metadata": {},
     "output_type": "execute_result"
    }
   ],
   "source": [
    "pwd()"
   ]
  },
  {
   "cell_type": "code",
   "execution_count": 3,
   "metadata": {
    "collapsed": false
   },
   "outputs": [],
   "source": [
    "gpath = \"../../graphs/ipm_grid3_8000_all/\";"
   ]
  },
  {
   "cell_type": "code",
   "execution_count": 4,
   "metadata": {
    "collapsed": false
   },
   "outputs": [],
   "source": [
    "graphs = readdir(gpath);\n",
    "len = length(graphs)\n",
    "graphs = graphs[1:ceil(Int64,len/2)];"
   ]
  },
  {
   "cell_type": "code",
   "execution_count": null,
   "metadata": {
    "collapsed": false
   },
   "outputs": [
    {
     "name": "stdout",
     "output_type": "stream",
     "text": [
      "  0.597617 seconds (640.81 k allocations: 29.107 MB, 0.74% gc time)\n",
      "  0.191155 seconds (243.88 k allocations: 6.709 MB, 2.66% gc time)\n"
     ]
    }
   ],
   "source": [
    "for cur in graphs\n",
    "    path = gpath * cur * \"/\"\n",
    "    \n",
    "    try\n",
    "        a = readFromFile(path * \"graph.mtx\");\n",
    "#         x = readFromFile(path * \"x.vec\");\n",
    "        x = zeros(a.n)\n",
    "        b = readFromFile(path * \"b.vec\");\n",
    "        \n",
    "        tree = []\n",
    "        for ind in 1:5\n",
    "            tr = readFromFile(path * \"tree$(ind).mtx\");\n",
    "            \n",
    "            u,v,w = findnz(tr)\n",
    "            for i in 1:length(w)\n",
    "                w[i] = a[u[i],v[i]]\n",
    "            end\n",
    "            tr = sparse(u,v,w)\n",
    "            \n",
    "            push!(tree, tr);\n",
    "        end\n",
    "        \n",
    "        la = lap(a);\n",
    "        bdef = copy(b)\n",
    "        bdef = bdef - mean(bdef);\n",
    "        \n",
    "        numIts = 100;\n",
    "        @time for i in 1:5\n",
    "            @time F = treeSolver(tree[i])\n",
    "            @time F(bdef);\n",
    "\n",
    "            # a run on standard Float64 data types\n",
    "            @time myx64,dbg = pcgV(la, bdef, F, x, maxits=numIts, verbose=false);\n",
    "            norm(lap(a) * myx64 - bdef) / norm(bdef)\n",
    "            insert!(dbg, 1, \"$(numIts) iterations\")\n",
    "            insert!(dbg, 1, \"anorm = sqrt((x-truex)' * la * (x-truex)), err2_a = norm(la*x-b) / norm(b), err2_b = norm(x-truex)\")\n",
    "            writeToFile(path * \"_log_julia_tree$(i)_default.txt\", dbg)\n",
    "\n",
    "            # now using higer precision data types\n",
    "            for hp in [64,128,256,512,1024]\n",
    "                set_bigfloat_precision(hp)\n",
    "                laHP = toHighPrecision(la; precision=hp)\n",
    "                treeHP = toHighPrecision(tree[i]; precision=hp)\n",
    "                \n",
    "                xHP = zeros(BigFloat, a.n)\n",
    "                \n",
    "                bHP = toHighPrecision(b; precision=hp);\n",
    "                bHP = bHP - mean(bHP)\n",
    "                \n",
    "                FHP = treeSolver(treeHP)\n",
    "\n",
    "                @time myxHP,dbg = pcgV(laHP, bHP, FHP, xHP, maxits=numIts, verbose=false);\n",
    "                insert!(dbg, 1, \"$(numIts) iterations\")\n",
    "                insert!(dbg, 1, \"anorm = sqrt((x-truex)' * la * (x-truex)), err2_a = norm(la*x-b) / norm(b), err2_b = norm(x-truex)\")\n",
    "                writeToFile(path * \"_log_julia_tree$(i)_$(hp).txt\", dbg)\n",
    "            end\n",
    "        end\n",
    "            \n",
    "        println(\"finished running on \", cur, \"\\n\")\n",
    "    catch\n",
    "        println(\"skipping \", cur, \"\\n\")\n",
    "    end\n",
    "end"
   ]
  },
  {
   "cell_type": "code",
   "execution_count": null,
   "metadata": {
    "collapsed": true
   },
   "outputs": [],
   "source": []
  }
 ],
 "metadata": {
  "anaconda-cloud": {},
  "kernelspec": {
   "display_name": "Julia 0.4.6",
   "language": "julia",
   "name": "julia-0.4"
  },
  "language_info": {
   "file_extension": ".jl",
   "mimetype": "application/julia",
   "name": "julia",
   "version": "0.4.6"
  }
 },
 "nbformat": 4,
 "nbformat_minor": 0
}
