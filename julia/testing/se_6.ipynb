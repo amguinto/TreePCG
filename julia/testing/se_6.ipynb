{
 "cells": [
  {
   "cell_type": "code",
   "execution_count": 1,
   "metadata": {
    "collapsed": false
   },
   "outputs": [
    {
     "name": "stderr",
     "output_type": "stream",
     "text": [
      "objc[44611]: Class TKApplication is implemented in both /Users/serbanstan/anaconda/lib/libtk8.5.dylib and /System/Library/Frameworks/Tk.framework/Versions/8.5/Tk. One of the two will be used. Which one is undefined.\n",
      "objc[44611]: Class TKMenu is implemented in both /Users/serbanstan/anaconda/lib/libtk8.5.dylib and /System/Library/Frameworks/Tk.framework/Versions/8.5/Tk. One of the two will be used. Which one is undefined.\n",
      "objc[44611]: Class TKContentView is implemented in both /Users/serbanstan/anaconda/lib/libtk8.5.dylib and /System/Library/Frameworks/Tk.framework/Versions/8.5/Tk. One of the two will be used. Which one is undefined.\n",
      "objc[44611]: Class TKWindow is implemented in both /Users/serbanstan/anaconda/lib/libtk8.5.dylib and /System/Library/Frameworks/Tk.framework/Versions/8.5/Tk. One of the two will be used. Which one is undefined.\n"
     ]
    }
   ],
   "source": [
    "using Laplacians"
   ]
  },
  {
   "cell_type": "code",
   "execution_count": 2,
   "metadata": {
    "collapsed": false
   },
   "outputs": [
    {
     "data": {
      "text/plain": [
       "pcgWorker (generic function with 1 method)"
      ]
     },
     "execution_count": 2,
     "metadata": {},
     "output_type": "execute_result"
    }
   ],
   "source": [
    "include(\"treeSolver.jl\")\n",
    "include(\"IO.jl\")\n",
    "include(\"generators.jl\")\n",
    "include(\"toHighPrecision.jl\")\n",
    "include(\"verbosePCG.jl\")"
   ]
  },
  {
   "cell_type": "code",
   "execution_count": 3,
   "metadata": {
    "collapsed": false
   },
   "outputs": [
    {
     "data": {
      "text/plain": [
       "\"/Users/serbanstan/git/TreePCG/julia\""
      ]
     },
     "execution_count": 3,
     "metadata": {},
     "output_type": "execute_result"
    }
   ],
   "source": [
    "pwd()"
   ]
  },
  {
   "cell_type": "code",
   "execution_count": 4,
   "metadata": {
    "collapsed": false
   },
   "outputs": [
    {
     "data": {
      "text/plain": [
       "\"../graphs/se_6/\""
      ]
     },
     "execution_count": 4,
     "metadata": {},
     "output_type": "execute_result"
    }
   ],
   "source": [
    "graphp = \"../graphs/se_6/\""
   ]
  },
  {
   "cell_type": "code",
   "execution_count": 5,
   "metadata": {
    "collapsed": false
   },
   "outputs": [],
   "source": [
    "a = readFromFile(graphp * \"graph.mtx\");"
   ]
  },
  {
   "cell_type": "code",
   "execution_count": 6,
   "metadata": {
    "collapsed": false
   },
   "outputs": [],
   "source": [
    "tree = readFromFile(graphp * \"tree.mtx\");"
   ]
  },
  {
   "cell_type": "code",
   "execution_count": 7,
   "metadata": {
    "collapsed": false
   },
   "outputs": [],
   "source": [
    "x = readFromFile(graphp * \"x.vec\");"
   ]
  },
  {
   "cell_type": "code",
   "execution_count": 8,
   "metadata": {
    "collapsed": false
   },
   "outputs": [],
   "source": [
    "la = lap(a);\n",
    "x = x - mean(x)\n",
    "b = la * x; b = b - mean(b);"
   ]
  },
  {
   "cell_type": "code",
   "execution_count": 10,
   "metadata": {
    "collapsed": false
   },
   "outputs": [
    {
     "name": "stdout",
     "output_type": "stream",
     "text": [
      "  0.551897 seconds (1.25 M allocations: 86.056 MB, 3.56% gc time)\n",
      "  0.084836 seconds (2.00 M allocations: 38.109 MB, 11.49% gc time)\n"
     ]
    }
   ],
   "source": [
    "@time F = treeSolver(tree)\n",
    "@time F(b);"
   ]
  },
  {
   "cell_type": "code",
   "execution_count": 12,
   "metadata": {
    "collapsed": false
   },
   "outputs": [
    {
     "name": "stdout",
     "output_type": "stream",
     "text": [
      "Working on iteration 10 with a-norm error 275248.0490339541\n",
      "Working on iteration 20 with a-norm error 37221.002833847386\n",
      "Working on iteration 30 with a-norm error 2872.0353664786153\n",
      "Working on iteration 40 with a-norm error 720.9238241848179\n",
      "Working on iteration 50 with a-norm error 111.41249096691962\n",
      "Working on iteration 60 with a-norm error 5.757656552309614\n",
      "Working on iteration 70 with a-norm error 0.9712163561382174\n",
      "Working on iteration 80 with a-norm error 0.25193610214413953\n",
      "Working on iteration 90 with a-norm error 0.01889657592714628\n",
      "Working on iteration 100 with a-norm error 0.005032927009409369\n",
      "Working on iteration 110 with a-norm error 0.0007184359381484255\n",
      "Working on iteration 120 with a-norm error 8.893801479762932e-5\n",
      "Working on iteration 130 with a-norm error 1.1743933280725218e-5\n",
      "Working on iteration 140 with a-norm error 9.698601822599699e-6\n",
      "Working on iteration 150 with a-norm error 9.155043364065166e-6\n",
      "Working on iteration 160 with a-norm error 9.245591999040605e-6\n",
      "Working on iteration 170 with a-norm error 9.222759979476583e-6\n",
      "Working on iteration 180 with a-norm error 9.222558244186946e-6\n",
      "Working on iteration 190 with a-norm error 9.222867478604895e-6\n",
      "Working on iteration 200 with a-norm error 9.222818394669542e-6\n",
      "PCG stopped after: 200 iterations with relative error 9.222818383619575e-6.\n",
      " 22.971311 seconds (401.51 M allocations: 10.170 GB, 9.20% gc time)\n"
     ]
    }
   ],
   "source": [
    "# a run on standard Float64 data types\n",
    "numIts = 200;\n",
    "@time myx64,dbg = pcgV(la, b, F, x, maxits=numIts, verbose=true);\n",
    "norm(lap(a) * myx64 - b) / norm(b)\n",
    "insert!(dbg, 1, \"$(numIts) iterations\")\n",
    "insert!(dbg, 1, \"anorm = sqrt((x-truex)' * la * (x-truex)), err2_a = norm(la*x-b) / norm(b), err2_b = norm(x-truex)\")\n",
    "writeToFile(graphp * \"_log_julia_default.txt\", dbg)"
   ]
  },
  {
   "cell_type": "code",
   "execution_count": 13,
   "metadata": {
    "collapsed": false
   },
   "outputs": [
    {
     "name": "stdout",
     "output_type": "stream",
     "text": [
      "Working on iteration 10 with a-norm error 275248.04894769826\n",
      "Working on iteration 20 with a-norm error 24904.73149944613\n",
      "Working on iteration 30 with a-norm error 2871.337849309644\n",
      "Working on iteration 40 with a-norm error 509.725659815555\n",
      "Working on iteration 50 with a-norm error 53.97540191636309\n",
      "Working on iteration 60 with a-norm error 3.5937126926558944\n",
      "Working on iteration 70 with a-norm error 0.31080315533400915\n",
      "Working on iteration 80 with a-norm error 0.06932782210719368\n",
      "Working on iteration 90 with a-norm error 0.015099771218466776\n",
      "Working on iteration 100 with a-norm error 0.001338055132368249\n",
      "Working on iteration 110 with a-norm error 9.89309717422729e-5\n",
      "Working on iteration 120 with a-norm error 2.353583212071341e-5\n",
      "Working on iteration 130 with a-norm error 1.6881595218232233e-6\n",
      "Working on iteration 140 with a-norm error 4.2897719074003256e-7\n",
      "Working on iteration 150 with a-norm error 1.400190569181171e-7\n",
      "Working on iteration 160 with a-norm error 1.2761273922762324e-7\n",
      "Working on iteration 170 with a-norm error 1.2887981653399823e-7\n",
      "Working on iteration 180 with a-norm error 1.2856523337462257e-7\n",
      "Working on iteration 190 with a-norm error 1.285549687101126e-7\n",
      "Working on iteration 200 with a-norm error 1.2855724422440906e-7\n",
      "PCG stopped after: 200 iterations with relative error 1.285572822317592e-7.\n",
      "1776.959575 seconds (5.98 G allocations: 151.504 GB, 43.45% gc time)\n",
      "Working on iteration 10 with a-norm error 275248.0489476981\n",
      "Working on iteration 20 with a-norm error 24904.519208263075\n",
      "Working on iteration 30 with a-norm error 2868.0872633105305\n",
      "Working on iteration 40 with a-norm error 232.17904814370135\n",
      "Working on iteration 50 with a-norm error 9.898166274276056\n",
      "Working on iteration 60 with a-norm error 0.4949964862442287\n",
      "Working on iteration 70 with a-norm error 0.06970136461397117\n",
      "Working on iteration 80 with a-norm error 0.0013596158385432906\n",
      "Working on iteration 90 with a-norm error 9.222625825992585e-5\n",
      "Working on iteration 100 with a-norm error 6.376139162227003e-6\n",
      "Working on iteration 110 with a-norm error 1.585365663916649e-6\n",
      "Working on iteration 120 with a-norm error 1.6101969791407193e-7\n",
      "Working on iteration 130 with a-norm error 1.2805376671702156e-7\n",
      "Working on iteration 140 with a-norm error 1.2896457542882047e-7\n",
      "Working on iteration 150 with a-norm error 1.2901534654724655e-7\n",
      "Working on iteration 160 with a-norm error 1.2901486938432436e-7\n",
      "Working on iteration 170 with a-norm error 1.290148442911367e-7\n",
      "Working on iteration 180 with a-norm error 1.2901484501089553e-7\n",
      "Working on iteration 190 with a-norm error 1.290148448861643e-7\n",
      "Working on iteration 200 with a-norm error 1.290148449174763e-7\n",
      "PCG stopped after: 200 iterations with relative error 1.2901484491747857e-7.\n",
      "2007.438371 seconds (5.98 G allocations: 165.963 GB, 44.50% gc time)\n",
      "Working on iteration 10 with a-norm error 275248.0489476981\n",
      "Working on iteration 20 with a-norm error 24904.519208263075\n",
      "Working on iteration 30 with a-norm error 2868.0872633105305\n",
      "Working on iteration 40 with a-norm error 231.44197422199463\n",
      "Working on iteration 50 with a-norm error 3.6337614112893637\n",
      "Working on iteration 60 with a-norm error 0.08211058073224105\n",
      "Working on iteration 70 with a-norm error 0.0017529416701511818\n",
      "Working on iteration 80 with a-norm error 4.8903386981818215e-5\n",
      "Working on iteration 90 with a-norm error 1.022102629026975e-6\n",
      "Working on iteration 100 with a-norm error 1.3061787614609985e-7\n",
      "Working on iteration 110 with a-norm error 1.2901344952211154e-7\n",
      "Working on iteration 120 with a-norm error 1.2901473239658048e-7\n",
      "Working on iteration 130 with a-norm error 1.290148443191037e-7\n",
      "Working on iteration 140 with a-norm error 1.2901484487986216e-7\n",
      "Working on iteration 150 with a-norm error 1.2901484491076176e-7\n",
      "Working on iteration 160 with a-norm error 1.2901484491008657e-7\n",
      "Working on iteration 170 with a-norm error 1.290148449100968e-7\n",
      "Working on iteration 180 with a-norm error 1.290148449100969e-7\n",
      "Working on iteration 190 with a-norm error 1.290148449100969e-7\n",
      "Working on iteration 200 with a-norm error 1.290148449100969e-7\n",
      "PCG stopped after: 200 iterations with relative error 1.290148449100969e-7.\n",
      "2644.388867 seconds (5.98 G allocations: 368.534 GB, 41.29% gc time)\n"
     ]
    }
   ],
   "source": [
    "numIts = 200\n",
    "for hp in [64,128,1024]\n",
    "    set_bigfloat_precision(hp)\n",
    "    laHP = toHighPrecision(la; precision=hp)\n",
    "    treeHP = toHighPrecision(tree; precision=hp)\n",
    "    xHP = toHighPrecision(x; precision=hp);\n",
    "    bHP = toHighPrecision(b; precision=hp);\n",
    "    FHP = treeSolver(treeHP)\n",
    "    \n",
    "    @time myxHP,dbg = pcgV(laHP, bHP, FHP, xHP, maxits=numIts, verbose=true);\n",
    "    insert!(dbg, 1, \"$(numIts) iterations\")\n",
    "    insert!(dbg, 1, \"anorm = sqrt((x-truex)' * la * (x-truex)), err2_a = norm(la*x-b) / norm(b), err2_b = norm(x-truex)\")\n",
    "    writeToFile(graphp * \"_log_julia_$(hp).txt\", dbg)\n",
    "end"
   ]
  },
  {
   "cell_type": "code",
   "execution_count": null,
   "metadata": {
    "collapsed": true
   },
   "outputs": [],
   "source": []
  }
 ],
 "metadata": {
  "kernelspec": {
   "display_name": "Julia 0.4.6",
   "language": "julia",
   "name": "julia-0.4"
  },
  "language_info": {
   "file_extension": ".jl",
   "mimetype": "application/julia",
   "name": "julia",
   "version": "0.4.6"
  }
 },
 "nbformat": 4,
 "nbformat_minor": 0
}
