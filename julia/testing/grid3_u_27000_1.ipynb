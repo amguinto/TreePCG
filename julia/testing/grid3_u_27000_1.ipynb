{
 "cells": [
  {
   "cell_type": "code",
   "execution_count": 1,
   "metadata": {
    "collapsed": false
   },
   "outputs": [
    {
     "data": {
      "text/plain": [
       "pcgWorker (generic function with 1 method)"
      ]
     },
     "execution_count": 1,
     "metadata": {},
     "output_type": "execute_result"
    }
   ],
   "source": [
    "include(\"../src/Julia.jl\")"
   ]
  },
  {
   "cell_type": "code",
   "execution_count": 2,
   "metadata": {
    "collapsed": false
   },
   "outputs": [
    {
     "data": {
      "text/plain": [
       "\"/Users/serbanstan/git/TreePCG/julia/testing\""
      ]
     },
     "execution_count": 2,
     "metadata": {},
     "output_type": "execute_result"
    }
   ],
   "source": [
    "pwd()"
   ]
  },
  {
   "cell_type": "code",
   "execution_count": 3,
   "metadata": {
    "collapsed": false
   },
   "outputs": [
    {
     "data": {
      "text/plain": [
       "\"../../graphs/grid3_u_27000_1/\""
      ]
     },
     "execution_count": 3,
     "metadata": {},
     "output_type": "execute_result"
    }
   ],
   "source": [
    "graphp = \"../../graphs/grid3_u_27000_1/\""
   ]
  },
  {
   "cell_type": "code",
   "execution_count": 4,
   "metadata": {
    "collapsed": false
   },
   "outputs": [],
   "source": [
    "a = readFromFile(graphp * \"graph.mtx\");"
   ]
  },
  {
   "cell_type": "code",
   "execution_count": 5,
   "metadata": {
    "collapsed": false
   },
   "outputs": [],
   "source": [
    "tree = []\n",
    "for i in 1:5\n",
    "    tr = readFromFile(graphp * \"tree$(i).mtx\");\n",
    "    push!(tree, tr);\n",
    "end"
   ]
  },
  {
   "cell_type": "code",
   "execution_count": 6,
   "metadata": {
    "collapsed": false
   },
   "outputs": [],
   "source": [
    "x = readFromFile(graphp * \"x.vec\");"
   ]
  },
  {
   "cell_type": "code",
   "execution_count": 7,
   "metadata": {
    "collapsed": false
   },
   "outputs": [],
   "source": [
    "la = lap(a);\n",
    "x = x - mean(x)\n",
    "b = la * x; b = b - mean(b);"
   ]
  },
  {
   "cell_type": "code",
   "execution_count": 8,
   "metadata": {
    "collapsed": false
   },
   "outputs": [
    {
     "name": "stdout",
     "output_type": "stream",
     "text": [
      "  0.758286 seconds (535.44 k allocations: 29.664 MB, 2.87% gc time)\n",
      "  0.418711 seconds (539.75 k allocations: 12.914 MB)\n",
      "  8.595714 seconds (86.77 M allocations: 2.193 GB, 4.54% gc time)\n",
      "Working on iteration 10 with a-norm error 8253.893714510117\n",
      "Working on iteration 20 with a-norm error 7322.756364124031\n",
      "Working on iteration 30 with a-norm error 6215.650957695415\n",
      "Working on iteration 40 with a-norm error 5265.880738436075\n",
      "Working on iteration 50 with a-norm error 4409.532748804799\n",
      "Working on iteration 60 with a-norm error 3558.3407480737174\n",
      "Working on iteration 70 with a-norm error 2795.472698245343\n",
      "Working on iteration 80 with a-norm error 2296.230860415408\n",
      "Working on iteration 90 with a-norm error 1923.8042880423288\n",
      "Working on iteration 100 with a-norm error 1481.6012499928665\n",
      "Working on iteration 110 with a-norm error 1233.3957483852564\n",
      "Working on iteration 120 with a-norm error 988.4496467190421\n",
      "Working on iteration 130 with a-norm error 813.9542998075443\n",
      "Working on iteration 140 with a-norm error 675.6072317209065\n",
      "Working on iteration 150 with a-norm error 542.6636285765924\n",
      "Working on iteration 160 with a-norm error 442.7894433897612\n",
      "Working on iteration 170 with a-norm error 366.71986805628865\n",
      "Working on iteration 180 with a-norm error 312.13899963394056\n",
      "Working on iteration 190 with a-norm error 250.85425123413427\n",
      "Working on iteration 200 with a-norm error 210.72153620266036\n",
      "PCG stopped after: 200 iterations with relative error 208.63045230004965.\n",
      "591.794259 seconds (1.27 G allocations: 32.332 GB, 35.66% gc time)\n",
      "Working on iteration 10 with a-norm error 8253.893714510117\n",
      "Working on iteration 20 with a-norm error 7322.756364124031\n",
      "Working on iteration 30 with a-norm error 6215.649937093534\n",
      "Working on iteration 40 with a-norm error 5060.620602187549\n",
      "Working on iteration 50 with a-norm error 3901.662338288194\n",
      "Working on iteration 60 with a-norm error 3074.9878791933033\n",
      "Working on iteration 70 with a-norm error 2411.9344090927802\n",
      "Working on iteration 80 with a-norm error 1780.7776469623757\n",
      "Working on iteration 90 with a-norm error 1380.5061180620744\n",
      "Working on iteration 100 with a-norm error 1060.1450342935148\n",
      "Working on iteration 110 with a-norm error 827.4379672522879\n",
      "Working on iteration 120 with a-norm error 662.5139720355003\n",
      "Working on iteration 130 with a-norm error 499.93854752699104\n",
      "Working on iteration 140 with a-norm error 386.36286940009387\n",
      "Working on iteration 150 with a-norm error 305.8382564672156\n",
      "Working on iteration 160 with a-norm error 238.38225929581824\n",
      "Working on iteration 170 with a-norm error 199.5981416979516\n",
      "Working on iteration 180 with a-norm error 151.88230332049022\n",
      "Working on iteration 190 with a-norm error 116.42998772101295\n",
      "Working on iteration 200 with a-norm error 95.42939350946938\n",
      "PCG stopped after: 200 iterations with relative error 94.90199007469343.\n",
      "660.034694 seconds (1.27 G allocations: 35.405 GB, 36.56% gc time)\n",
      "Working on iteration 10 with a-norm error 8253.893714510117\n",
      "Working on iteration 20 with a-norm error 7322.756364124031\n",
      "Working on iteration 30 with a-norm error 6215.649937093534\n",
      "Working on iteration 40 with a-norm error 5060.620602187549\n",
      "Working on iteration 50 with a-norm error 3888.4585009807615\n",
      "Working on iteration 60 with a-norm error 2856.8349796246303\n",
      "Working on iteration 70 with a-norm error 2025.723167914523\n",
      "Working on iteration 80 with a-norm error 1448.9800243807365\n",
      "Working on iteration 90 with a-norm error 1060.3517437429873\n",
      "Working on iteration 100 with a-norm error 798.8995292092839\n",
      "Working on iteration 110 with a-norm error 564.2892090785947\n",
      "Working on iteration 120 with a-norm error 413.6938723529887\n",
      "Working on iteration 130 with a-norm error 309.2527542602414\n",
      "Working on iteration 140 with a-norm error 233.06558437313348\n",
      "Working on iteration 150 with a-norm error 175.0752811466471\n",
      "Working on iteration 160 with a-norm error 128.9125202990629\n",
      "Working on iteration 170 with a-norm error 99.67967872265318\n",
      "Working on iteration 180 with a-norm error 73.73682157459871\n",
      "Working on iteration 190 with a-norm error 53.97675000466949\n",
      "Working on iteration 200 with a-norm error 39.620536172401756\n",
      "PCG stopped after: 200 iterations with relative error 38.38767120301753.\n",
      "653.551853 seconds (1.27 G allocations: 41.576 GB, 36.01% gc time)\n",
      "Working on iteration 10 with a-norm error 8253.893714510117\n",
      "Working on iteration 20 with a-norm error 7322.756364124031\n",
      "Working on iteration 30 with a-norm error 6215.649937093534\n",
      "Working on iteration 40 with a-norm error 5060.620602187549\n",
      "Working on iteration 50 with a-norm error 3888.4585009807615\n",
      "Working on iteration 60 with a-norm error 2856.8349796246303\n",
      "Working on iteration 70 with a-norm error 2025.723167914523\n",
      "Working on iteration 80 with a-norm error 1396.6567740847067\n",
      "Working on iteration 90 with a-norm error 949.5335686746289\n",
      "Working on iteration 100 with a-norm error 644.465095155635\n",
      "Working on iteration 110 with a-norm error 435.43135096941376\n",
      "Working on iteration 120 with a-norm error 295.9765689988423\n",
      "Working on iteration 130 with a-norm error 211.99326002685856\n",
      "Working on iteration 140 with a-norm error 148.37507523905487\n",
      "Working on iteration 150 with a-norm error 107.18368396304338\n",
      "Working on iteration 160 with a-norm error 75.44781521875096\n",
      "Working on iteration 170 with a-norm error 51.77675392871188\n",
      "Working on iteration 180 with a-norm error 36.5180452086439\n",
      "Working on iteration 190 with a-norm error 25.71733488789557\n",
      "Working on iteration 200 with a-norm error 17.847921103300468\n",
      "PCG stopped after: 200 iterations with relative error 17.029790293758616.\n",
      "623.854036 seconds (1.27 G allocations: 53.919 GB, 35.84% gc time)\n",
      "Working on iteration 10 with a-norm error 8253.893714510117\n",
      "Working on iteration 20 with a-norm error 7322.756364124031\n",
      "Working on iteration 30 with a-norm error 6215.649937093534\n",
      "Working on iteration 40 with a-norm error 5060.620602187549\n",
      "Working on iteration 50 with a-norm error 3888.4585009807615\n",
      "Working on iteration 60 with a-norm error 2856.8349796246303\n",
      "Working on iteration 70 with a-norm error 2025.723167914523\n",
      "Working on iteration 80 with a-norm error 1396.6567740847067\n",
      "Working on iteration 90 with a-norm error 949.5335686746289\n",
      "Working on iteration 100 with a-norm error 644.465095155635\n",
      "Working on iteration 110 with a-norm error 435.43135096941376\n",
      "Working on iteration 120 with a-norm error 295.9765689988423\n",
      "Working on iteration 130 with a-norm error 199.1496272360335\n",
      "Working on iteration 140 with a-norm error 132.32659432877122\n",
      "Working on iteration 150 with a-norm error 87.82887128893154\n",
      "Working on iteration 160 with a-norm error 57.36611887705019\n",
      "Working on iteration 170 with a-norm error 37.24279883919597\n",
      "Working on iteration 180 with a-norm error 24.117522669296598\n",
      "Working on iteration 190 with a-norm error 15.29536345485883\n",
      "Working on iteration 200 with a-norm error 9.74707168284259\n",
      "PCG stopped after: 200 iterations with relative error 9.288216778686307.\n",
      "798.271311 seconds (1.27 G allocations: 78.604 GB, 34.20% gc time)\n",
      "  0.373090 seconds (270.15 k allocations: 18.662 MB, 13.25% gc time)\n",
      "  0.045149 seconds (429.43 k allocations: 8.201 MB, 24.46% gc time)\n",
      "  7.115055 seconds (86.33 M allocations: 2.174 GB, 16.05% gc time)\n",
      "Working on iteration 10 with a-norm error 8603.515232596126\n",
      "Working on iteration 20 with a-norm error 7995.931403124331\n",
      "Working on iteration 30 with a-norm error 7299.57165926142\n",
      "Working on iteration 40 with a-norm error 6471.099774077337\n",
      "Working on iteration 50 with a-norm error 5723.923010393244\n",
      "Working on iteration 60 with a-norm error 4992.152340916914\n",
      "Working on iteration 70 with a-norm error 4344.463578129957\n",
      "Working on iteration 80 with a-norm error 3641.7845962307065\n",
      "Working on iteration 90 with a-norm error 3196.895354976497\n",
      "Working on iteration 100 with a-norm error 2690.414120746026\n",
      "Working on iteration 110 with a-norm error 2325.2723689013587\n",
      "Working on iteration 120 with a-norm error 1968.9151006994025\n",
      "Working on iteration 130 with a-norm error 1688.306784576745\n",
      "Working on iteration 140 with a-norm error 1449.6175740800509\n",
      "Working on iteration 150 with a-norm error 1229.2035911947992\n",
      "Working on iteration 160 with a-norm error 1087.7792072957454\n",
      "Working on iteration 170 with a-norm error 911.3201156186099\n",
      "Working on iteration 180 with a-norm error 805.907138390324\n",
      "Working on iteration 190 with a-norm error 671.1791500476139\n",
      "Working on iteration 200 with a-norm error 587.4335717664378\n",
      "PCG stopped after: 200 iterations with relative error 584.4117760990379.\n",
      "774.972335 seconds (1.27 G allocations: 32.320 GB, 35.52% gc time)\n",
      "Working on iteration 10 with a-norm error 8603.515232596126\n",
      "Working on iteration 20 with a-norm error 7994.417281677659\n",
      "Working on iteration 30 with a-norm error 6976.3299003393695\n",
      "Working on iteration 40 with a-norm error 6039.885276829976\n",
      "Working on iteration 50 with a-norm error 5101.558705367259\n",
      "Working on iteration 60 with a-norm error 4215.961283400788\n",
      "Working on iteration 70 with a-norm error 3418.134947623302\n",
      "Working on iteration 80 with a-norm error 2823.08611139303\n",
      "Working on iteration 90 with a-norm error 2213.7327162771608\n",
      "Working on iteration 100 with a-norm error 1772.7252925390283\n",
      "Working on iteration 110 with a-norm error 1458.8752427643785\n",
      "Working on iteration 120 with a-norm error 1155.5067828030408\n",
      "Working on iteration 130 with a-norm error 925.5563338850692\n",
      "Working on iteration 140 with a-norm error 774.8666004962581\n",
      "Working on iteration 150 with a-norm error 598.913587630122\n",
      "Working on iteration 160 with a-norm error 517.0970719444911\n",
      "Working on iteration 170 with a-norm error 414.2835279021919\n",
      "Working on iteration 180 with a-norm error 315.12780909655737\n",
      "Working on iteration 190 with a-norm error 274.7182329865552\n",
      "Working on iteration 200 with a-norm error 213.18557728746188\n",
      "PCG stopped after: 200 iterations with relative error 212.46590636590525.\n",
      "986.973570 seconds (1.27 G allocations: 35.405 GB, 36.13% gc time)\n",
      "Working on iteration 10 with a-norm error 8603.515232596126\n",
      "Working on iteration 20 with a-norm error 7994.417281677659\n",
      "Working on iteration 30 with a-norm error 6976.329899196712\n",
      "Working on iteration 40 with a-norm error 5797.268459500209\n",
      "Working on iteration 50 with a-norm error 4599.75576716966\n",
      "Working on iteration 60 with a-norm error 3598.1631584344527\n",
      "Working on iteration 70 with a-norm error 2881.192138817695\n",
      "Working on iteration 80 with a-norm error 2108.1889445049\n",
      "Working on iteration 90 with a-norm error 1579.3642174211466\n",
      "Working on iteration 100 with a-norm error 1175.992739247402\n",
      "Working on iteration 110 with a-norm error 936.6022436017194\n",
      "Working on iteration 120 with a-norm error 681.2944872947571\n",
      "Working on iteration 130 with a-norm error 517.7946319840775\n",
      "Working on iteration 140 with a-norm error 387.3856811186951\n",
      "Working on iteration 150 with a-norm error 284.000605830745\n",
      "Working on iteration 160 with a-norm error 226.76027941398578\n",
      "Working on iteration 170 with a-norm error 166.25040146767677\n",
      "Working on iteration 180 with a-norm error 127.42526785926941\n",
      "Working on iteration 190 with a-norm error 99.59659534138713\n",
      "Working on iteration 200 with a-norm error 70.94016681805617\n",
      "PCG stopped after: 200 iterations with relative error 70.3984519754554.\n",
      "505.707804 seconds (1.27 G allocations: 41.577 GB, 35.80% gc time)\n",
      "Working on iteration 10 with a-norm error 8603.515232596126\n",
      "Working on iteration 20 with a-norm error 7994.417281677659\n",
      "Working on iteration 30 with a-norm error 6976.329899196712\n",
      "Working on iteration 40 with a-norm error 5797.268459500209\n",
      "Working on iteration 50 with a-norm error 4599.755767169653\n",
      "Working on iteration 60 with a-norm error 3458.1800221208837\n",
      "Working on iteration 70 with a-norm error 2538.9520914762825\n",
      "Working on iteration 80 with a-norm error 1770.7390048002576\n",
      "Working on iteration 90 with a-norm error 1275.3647318894402\n",
      "Working on iteration 100 with a-norm error 928.6188931371877\n",
      "Working on iteration 110 with a-norm error 668.7483473867248\n",
      "Working on iteration 120 with a-norm error 465.53731778213665\n",
      "Working on iteration 130 with a-norm error 307.25846296360845\n",
      "Working on iteration 140 with a-norm error 218.0228165419649\n",
      "Working on iteration 150 with a-norm error 149.15182240231238\n",
      "Working on iteration 160 with a-norm error 101.11873382054594\n",
      "Working on iteration 170 with a-norm error 70.96742282972286\n",
      "Working on iteration 180 with a-norm error 52.47946205986035\n",
      "Working on iteration 190 with a-norm error 36.46448873984562\n",
      "Working on iteration 200 with a-norm error 25.09770844140831\n",
      "PCG stopped after: 200 iterations with relative error 24.032563552659923.\n",
      "947.853128 seconds (1.27 G allocations: 53.919 GB, 36.15% gc time)\n",
      "Working on iteration 10 with a-norm error 8603.515232596126\n",
      "Working on iteration 20 with a-norm error 7994.417281677659\n",
      "Working on iteration 30 with a-norm error 6976.329899196712\n",
      "Working on iteration 40 with a-norm error 5797.268459500209\n",
      "Working on iteration 50 with a-norm error 4599.755767169653\n",
      "Working on iteration 60 with a-norm error 3458.1800221208837\n",
      "Working on iteration 70 with a-norm error 2538.9520914762825\n",
      "Working on iteration 80 with a-norm error 1770.7390048002576\n",
      "Working on iteration 90 with a-norm error 1231.8993106439493\n",
      "Working on iteration 100 with a-norm error 846.678438806315\n",
      "Working on iteration 110 with a-norm error 573.7021801890086\n",
      "Working on iteration 120 with a-norm error 381.89381196074453\n",
      "Working on iteration 130 with a-norm error 248.7162126737481\n",
      "Working on iteration 140 with a-norm error 161.71283210551059\n",
      "Working on iteration 150 with a-norm error 101.67506580295517\n",
      "Working on iteration 160 with a-norm error 66.4242715033459\n",
      "Working on iteration 170 with a-norm error 45.881953962842076\n",
      "Working on iteration 180 with a-norm error 29.85227351415559\n",
      "Working on iteration 190 with a-norm error 19.21156056740583\n",
      "Working on iteration 200 with a-norm error 11.917748079072721\n",
      "PCG stopped after: 200 iterations with relative error 11.3798435222587.\n",
      "463.028809 seconds (1.27 G allocations: 78.604 GB, 34.19% gc time)\n",
      "7039.158364 seconds (12.94 G allocations: 489.076 GB, 35.57% gc time)\n"
     ]
    }
   ],
   "source": [
    "numIts = 200;\n",
    "\n",
    "@time for i in 4:5\n",
    "    @time F = treeSolver(tree[i])\n",
    "    @time F(b);\n",
    "    \n",
    "    # a run on standard Float64 data types\n",
    "    @time myx64,dbg = pcgV(la, b, F, x, maxits=numIts, verbose=false);\n",
    "    norm(lap(a) * myx64 - b) / norm(b)\n",
    "    insert!(dbg, 1, \"$(numIts) iterations\")\n",
    "    insert!(dbg, 1, \"anorm = sqrt((x-truex)' * la * (x-truex)), err2_a = norm(la*x-b) / norm(b), err2_b = norm(x-truex)\")\n",
    "    writeToFile(graphp * \"_log_julia_tree$(i)_default.txt\", dbg)\n",
    "    \n",
    "    # now useing higer precision data types\n",
    "    for hp in [64,128,256,512,1024]\n",
    "        set_bigfloat_precision(hp)\n",
    "        laHP = toHighPrecision(la; precision=hp)\n",
    "        treeHP = toHighPrecision(tree[i]; precision=hp)\n",
    "        xHP = toHighPrecision(x; precision=hp);\n",
    "        bHP = toHighPrecision(b; precision=hp);\n",
    "        FHP = treeSolver(treeHP)\n",
    "\n",
    "        @time myxHP,dbg = pcgV(laHP, bHP, FHP, xHP, maxits=numIts, verbose=true);\n",
    "        insert!(dbg, 1, \"$(numIts) iterations\")\n",
    "        insert!(dbg, 1, \"anorm = sqrt((x-truex)' * la * (x-truex)), err2_a = norm(la*x-b) / norm(b), err2_b = norm(x-truex)\")\n",
    "        writeToFile(graphp * \"_log_julia_tree$(i)_$(hp).txt\", dbg)\n",
    "    end\n",
    "end"
   ]
  },
  {
   "cell_type": "code",
   "execution_count": null,
   "metadata": {
    "collapsed": true
   },
   "outputs": [],
   "source": []
  }
 ],
 "metadata": {
  "kernelspec": {
   "display_name": "Julia 0.4.6",
   "language": "julia",
   "name": "julia-0.4"
  },
  "language_info": {
   "file_extension": ".jl",
   "mimetype": "application/julia",
   "name": "julia",
   "version": "0.4.6"
  }
 },
 "nbformat": 4,
 "nbformat_minor": 0
}
