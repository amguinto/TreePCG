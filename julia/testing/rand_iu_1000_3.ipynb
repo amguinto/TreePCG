{
 "cells": [
  {
   "cell_type": "code",
   "execution_count": 1,
   "metadata": {
    "collapsed": false
   },
   "outputs": [
    {
     "data": {
      "text/plain": [
       "pcgWorker (generic function with 1 method)"
      ]
     },
     "execution_count": 1,
     "metadata": {},
     "output_type": "execute_result"
    }
   ],
   "source": [
    "include(\"../src/Julia.jl\")"
   ]
  },
  {
   "cell_type": "code",
   "execution_count": 2,
   "metadata": {
    "collapsed": false
   },
   "outputs": [
    {
     "data": {
      "text/plain": [
       "\"/Users/serbanstan/git/TreePCG/julia/testing\""
      ]
     },
     "execution_count": 2,
     "metadata": {},
     "output_type": "execute_result"
    }
   ],
   "source": [
    "pwd()"
   ]
  },
  {
   "cell_type": "code",
   "execution_count": 3,
   "metadata": {
    "collapsed": false
   },
   "outputs": [
    {
     "data": {
      "text/plain": [
       "\"../../graphs/rand_iu_1000_3/\""
      ]
     },
     "execution_count": 3,
     "metadata": {},
     "output_type": "execute_result"
    }
   ],
   "source": [
    "graphp = \"../../graphs/rand_iu_1000_3/\""
   ]
  },
  {
   "cell_type": "code",
   "execution_count": 4,
   "metadata": {
    "collapsed": false
   },
   "outputs": [],
   "source": [
    "a = readFromFile(graphp * \"graph.mtx\");"
   ]
  },
  {
   "cell_type": "code",
   "execution_count": 9,
   "metadata": {
    "collapsed": false
   },
   "outputs": [],
   "source": [
    "tree = []\n",
    "for i in 1:5\n",
    "    tr = readFromFile(graphp * \"tree$(i).mtx\");\n",
    "    push!(tree, tr);\n",
    "end"
   ]
  },
  {
   "cell_type": "code",
   "execution_count": 10,
   "metadata": {
    "collapsed": false
   },
   "outputs": [],
   "source": [
    "x = readFromFile(graphp * \"x.vec\");"
   ]
  },
  {
   "cell_type": "code",
   "execution_count": 11,
   "metadata": {
    "collapsed": false
   },
   "outputs": [],
   "source": [
    "la = lap(a);\n",
    "x = x - mean(x)\n",
    "b = la * x; b = b - mean(b);"
   ]
  },
  {
   "cell_type": "code",
   "execution_count": 12,
   "metadata": {
    "collapsed": false
   },
   "outputs": [
    {
     "name": "stdout",
     "output_type": "stream",
     "text": [
      "  0.402588 seconds (275.40 k allocations: 11.697 MB, 24.29% gc time)\n",
      "  0.178703 seconds (123.30 k allocations: 5.059 MB)\n",
      "  0.861043 seconds (3.17 M allocations: 95.499 MB, 3.08% gc time)\n",
      "Working on iteration 10 with a-norm error 6.645573288441024\n",
      "Working on iteration 20 with a-norm error 2.5816766375651037\n",
      "Working on iteration 30 with a-norm error 0.8082675130038449\n",
      "Working on iteration 40 with a-norm error 0.3076513001636457\n",
      "Working on iteration 50 with a-norm error 0.1313171162885011\n",
      "Working on iteration 60 with a-norm error 0.04472276891904837\n",
      "Working on iteration 70 with a-norm error 0.016717118214829883\n",
      "Working on iteration 80 with a-norm error 0.005723144104164551\n",
      "Working on iteration 90 with a-norm error 0.0018508699180618017\n",
      "Working on iteration 100 with a-norm error 0.0008068750489977344\n",
      "Working on iteration 110 with a-norm error 0.00031286520819973247\n",
      "Working on iteration 120 with a-norm error 0.00016348824852520494\n",
      "Working on iteration 130 with a-norm error 8.720245081447285e-5\n",
      "Working on iteration 140 with a-norm error 4.166339915430346e-5\n",
      "Working on iteration 150 with a-norm error 1.9577130602250906e-5\n",
      "Working on iteration 160 with a-norm error 7.126716771942132e-6\n",
      "Working on iteration 170 with a-norm error 2.748605449290449e-6\n",
      "Working on iteration 180 with a-norm error 1.1198830343323784e-6\n",
      "Working on iteration 190 with a-norm error 4.505706083068821e-7\n",
      "Working on iteration 200 with a-norm error 1.568363948409549e-7\n",
      "PCG stopped after: 200 iterations with relative error 1.385028430650843e-7.\n",
      " 38.217028 seconds (99.28 M allocations: 2.501 GB, 27.25% gc time)\n",
      "Working on iteration 10 with a-norm error 6.645573288441024\n",
      "Working on iteration 20 with a-norm error 2.37202769605231\n",
      "Working on iteration 30 with a-norm error 0.7056144033672517\n",
      "Working on iteration 40 with a-norm error 0.2187488224300267\n",
      "Working on iteration 50 with a-norm error 0.05685376061056672\n",
      "Working on iteration 60 with a-norm error 0.019464647837966757\n",
      "Working on iteration 70 with a-norm error 0.005161331055182767\n",
      "Working on iteration 80 with a-norm error 0.001242575965237478\n",
      "Working on iteration 90 with a-norm error 0.00033218840871318306\n",
      "Working on iteration 100 with a-norm error 0.00016243827824804005\n",
      "Working on iteration 110 with a-norm error 5.87149329751896e-5\n",
      "Working on iteration 120 with a-norm error 1.661196020832249e-5\n",
      "Working on iteration 130 with a-norm error 4.858321359211143e-6\n",
      "Working on iteration 140 with a-norm error 1.4159751971570244e-6\n",
      "Working on iteration 150 with a-norm error 3.236108520870366e-7\n",
      "Working on iteration 160 with a-norm error 1.080298238782365e-7\n",
      "Working on iteration 170 with a-norm error 3.431233097433747e-8\n",
      "Working on iteration 180 with a-norm error 8.03813046377158e-9\n",
      "Working on iteration 190 with a-norm error 2.3472880488224946e-9\n",
      "Working on iteration 200 with a-norm error 6.319757141143778e-10\n",
      "PCG stopped after: 200 iterations with relative error 5.355067946544985e-10.\n",
      " 55.327400 seconds (99.00 M allocations: 2.733 GB, 26.94% gc time)\n",
      "Working on iteration 10 with a-norm error 6.645573288441024\n",
      "Working on iteration 20 with a-norm error 2.37202769605231\n",
      "Working on iteration 30 with a-norm error 0.6157053022482997\n",
      "Working on iteration 40 with a-norm error 0.17259686835349358\n",
      "Working on iteration 50 with a-norm error 0.039940920073342455\n",
      "Working on iteration 60 with a-norm error 0.008751453118041415\n",
      "Working on iteration 70 with a-norm error 0.0016436038267311898\n",
      "Working on iteration 80 with a-norm error 0.0003599643417570929\n",
      "Working on iteration 90 with a-norm error 0.00012161417985922665\n",
      "Working on iteration 100 with a-norm error 4.4898553919781574e-5\n",
      "Working on iteration 110 with a-norm error 8.04004735861737e-6\n",
      "Working on iteration 120 with a-norm error 1.180462820213153e-6\n",
      "Working on iteration 130 with a-norm error 1.6792884164610291e-7\n",
      "Working on iteration 140 with a-norm error 3.2276992490372807e-8\n",
      "Working on iteration 150 with a-norm error 7.856797210006006e-9\n",
      "Working on iteration 160 with a-norm error 1.7013148850725451e-9\n",
      "Working on iteration 170 with a-norm error 3.406114052430098e-10\n",
      "Working on iteration 180 with a-norm error 5.54326910287751e-11\n",
      "Working on iteration 190 with a-norm error 1.0142602619232329e-11\n",
      "Working on iteration 200 with a-norm error 1.4372689970447127e-12\n",
      "PCG stopped after: 200 iterations with relative error 1.1366556030674137e-12.\n",
      " 42.504080 seconds (99.00 M allocations: 3.221 GB, 26.86% gc time)\n",
      "Working on iteration 10 with a-norm error 6.645573288441024\n",
      "Working on iteration 20 with a-norm error 2.37202769605231\n",
      "Working on iteration 30 with a-norm error 0.6157053022482997\n",
      "Working on iteration 40 with a-norm error 0.17259686835349358\n",
      "Working on iteration 50 with a-norm error 0.03994083748695132\n",
      "Working on iteration 60 with a-norm error 0.0073556028103174765\n",
      "Working on iteration 70 with a-norm error 0.0011551785042701644\n",
      "Working on iteration 80 with a-norm error 0.000238777641746425\n",
      "Working on iteration 90 with a-norm error 7.403459462361732e-5\n",
      "Working on iteration 100 with a-norm error 1.1893643779240164e-5\n",
      "Working on iteration 110 with a-norm error 1.659381228175819e-6\n",
      "Working on iteration 120 with a-norm error 1.8274612720747474e-7\n",
      "Working on iteration 130 with a-norm error 2.793294971946827e-8\n",
      "Working on iteration 140 with a-norm error 4.060743151428873e-9\n",
      "Working on iteration 150 with a-norm error 6.248342597387681e-10\n",
      "Working on iteration 160 with a-norm error 6.003506041666994e-11\n",
      "Working on iteration 170 with a-norm error 7.086103472830163e-12\n",
      "Working on iteration 180 with a-norm error 3.1508131207955936e-13\n",
      "Working on iteration 190 with a-norm error 2.8344597112075452e-14\n",
      "Working on iteration 200 with a-norm error 3.9759268951269566e-15\n",
      "PCG stopped after: 200 iterations with relative error 3.7927991130703174e-15.\n",
      " 48.971344 seconds (99.00 M allocations: 4.198 GB, 26.34% gc time)\n",
      "Working on iteration 10 with a-norm error 6.645573288441024\n",
      "Working on iteration 20 with a-norm error 2.37202769605231\n",
      "Working on iteration 30 with a-norm error 0.6157053022482997\n",
      "Working on iteration 40 with a-norm error 0.17259686835349358\n",
      "Working on iteration 50 with a-norm error 0.03994083748695132\n",
      "Working on iteration 60 with a-norm error 0.0073556028103174765\n",
      "Working on iteration 70 with a-norm error 0.0011551785042701644\n",
      "Working on iteration 80 with a-norm error 0.000238777641746425\n",
      "Working on iteration 90 with a-norm error 6.419666093559825e-5\n",
      "Working on iteration 100 with a-norm error 9.419727018493734e-6\n",
      "Working on iteration 110 with a-norm error 1.0426575235102179e-6\n",
      "Working on iteration 120 with a-norm error 1.1892877661796543e-7\n",
      "Working on iteration 130 with a-norm error 1.3120809856613208e-8\n",
      "Working on iteration 140 with a-norm error 1.3297527611452958e-9\n",
      "Working on iteration 150 with a-norm error 1.1044056794948624e-10\n",
      "Working on iteration 160 with a-norm error 1.0242384333362087e-11\n",
      "Working on iteration 170 with a-norm error 4.691684310186676e-13\n",
      "Working on iteration 180 with a-norm error 2.3508053473084355e-14\n",
      "Working on iteration 190 with a-norm error 3.841143147217512e-15\n",
      "Working on iteration 200 with a-norm error 3.512522868481852e-15\n",
      "PCG stopped after: 200 iterations with relative error 3.51242579657922e-15.\n",
      " 55.846106 seconds (99.00 M allocations: 6.150 GB, 27.31% gc time)\n",
      "  0.007372 seconds (10.11 k allocations: 710.438 KB)\n",
      "  0.001024 seconds (13.43 k allocations: 273.438 KB)\n",
      "  0.319710 seconds (2.71 M allocations: 75.444 MB, 10.48% gc time)\n",
      "Working on iteration 10 with a-norm error 8.452396806813598\n",
      "Working on iteration 20 with a-norm error 3.981378342710702\n",
      "Working on iteration 30 with a-norm error 1.544746096682757\n",
      "Working on iteration 40 with a-norm error 0.7329816627429699\n",
      "Working on iteration 50 with a-norm error 0.3259067162229677\n",
      "Working on iteration 60 with a-norm error 0.1516036210750756\n",
      "Working on iteration 70 with a-norm error 0.08974324141820711\n",
      "Working on iteration 80 with a-norm error 0.040960896102325464\n",
      "Working on iteration 90 with a-norm error 0.022697258103055395\n",
      "Working on iteration 100 with a-norm error 0.010303021496112619\n",
      "Working on iteration 110 with a-norm error 0.004969919671557841\n",
      "Working on iteration 120 with a-norm error 0.0023726604500265316\n",
      "Working on iteration 130 with a-norm error 0.0008544360849745407\n",
      "Working on iteration 140 with a-norm error 0.00046874090812828155\n",
      "Working on iteration 150 with a-norm error 0.00021890516490324197\n",
      "Working on iteration 160 with a-norm error 0.00010272012096052154\n",
      "Working on iteration 170 with a-norm error 5.0810062955813234e-5\n",
      "Working on iteration 180 with a-norm error 2.328111819856923e-5\n",
      "Working on iteration 190 with a-norm error 8.685289827801294e-6\n",
      "Working on iteration 200 with a-norm error 4.453148089524191e-6\n",
      "PCG stopped after: 200 iterations with relative error 4.336889518806335e-6.\n",
      " 39.571508 seconds (99.00 M allocations: 2.489 GB, 27.55% gc time)\n",
      "Working on iteration 10 with a-norm error 8.452396806813598\n",
      "Working on iteration 20 with a-norm error 3.475976425432943\n",
      "Working on iteration 30 with a-norm error 1.2837903940283428\n",
      "Working on iteration 40 with a-norm error 0.448566284557888\n",
      "Working on iteration 50 with a-norm error 0.16415496349739936\n",
      "Working on iteration 60 with a-norm error 0.06993516554963748\n",
      "Working on iteration 70 with a-norm error 0.028536890561234502\n",
      "Working on iteration 80 with a-norm error 0.009877973549714526\n",
      "Working on iteration 90 with a-norm error 0.0032136822798257284\n",
      "Working on iteration 100 with a-norm error 0.0012246667687775446\n",
      "Working on iteration 110 with a-norm error 0.0003807526045865174\n",
      "Working on iteration 120 with a-norm error 0.00011989671561501597\n",
      "Working on iteration 130 with a-norm error 4.770916831153398e-5\n",
      "Working on iteration 140 with a-norm error 1.0566789724876973e-5\n",
      "Working on iteration 150 with a-norm error 2.74272853246712e-6\n",
      "Working on iteration 160 with a-norm error 9.393381052227124e-7\n",
      "Working on iteration 170 with a-norm error 2.541354376842084e-7\n",
      "Working on iteration 180 with a-norm error 9.730184977510525e-8\n",
      "Working on iteration 190 with a-norm error 1.9916098663900238e-8\n",
      "Working on iteration 200 with a-norm error 7.357689445452178e-9\n",
      "PCG stopped after: 200 iterations with relative error 7.25618401665505e-9.\n",
      " 42.251626 seconds (99.00 M allocations: 2.733 GB, 27.78% gc time)\n",
      "Working on iteration 10 with a-norm error 8.452396806813598\n",
      "Working on iteration 20 with a-norm error 3.475976425432943\n",
      "Working on iteration 30 with a-norm error 1.1303940490121152\n",
      "Working on iteration 40 with a-norm error 0.3042208373047442\n",
      "Working on iteration 50 with a-norm error 0.1019979433991524\n",
      "Working on iteration 60 with a-norm error 0.038445115618735884\n",
      "Working on iteration 70 with a-norm error 0.00853218941381159\n",
      "Working on iteration 80 with a-norm error 0.0020968221293981497\n",
      "Working on iteration 90 with a-norm error 0.0005480310250660012\n",
      "Working on iteration 100 with a-norm error 0.0001289040845892948\n",
      "Working on iteration 110 with a-norm error 2.6805995618123364e-5\n",
      "Working on iteration 120 with a-norm error 5.167214168351954e-6\n",
      "Working on iteration 130 with a-norm error 9.967152738294057e-7\n",
      "Working on iteration 140 with a-norm error 1.4965352025222037e-7\n",
      "Working on iteration 150 with a-norm error 2.4638845510104403e-8\n",
      "Working on iteration 160 with a-norm error 4.682084733044535e-9\n",
      "Working on iteration 170 with a-norm error 8.057912507915271e-10\n",
      "Working on iteration 180 with a-norm error 1.2710818713111217e-10\n",
      "Working on iteration 190 with a-norm error 2.7722960550380814e-11\n",
      "Working on iteration 200 with a-norm error 3.5684215217034065e-12\n",
      "PCG stopped after: 200 iterations with relative error 3.131615148666375e-12.\n",
      " 52.137621 seconds (99.00 M allocations: 3.221 GB, 28.17% gc time)\n",
      "Working on iteration 10 with a-norm error 8.452396806813598\n",
      "Working on iteration 20 with a-norm error 3.475976425432943\n",
      "Working on iteration 30 with a-norm error 1.1303940490121152\n",
      "Working on iteration 40 with a-norm error 0.3042208373047442\n",
      "Working on iteration 50 with a-norm error 0.09180260969059283\n",
      "Working on iteration 60 with a-norm error 0.026490034237535875\n",
      "Working on iteration 70 with a-norm error 0.005246350991213821\n",
      "Working on iteration 80 with a-norm error 0.001010376755857708\n",
      "Working on iteration 90 with a-norm error 0.00018217740967860078\n",
      "Working on iteration 100 with a-norm error 2.902556703701038e-5\n",
      "Working on iteration 110 with a-norm error 2.8299779934379047e-6\n",
      "Working on iteration 120 with a-norm error 3.9336042564136724e-7\n",
      "Working on iteration 130 with a-norm error 3.935913106011293e-8\n",
      "Working on iteration 140 with a-norm error 4.723792937750233e-9\n",
      "Working on iteration 150 with a-norm error 6.360592355904968e-10\n",
      "Working on iteration 160 with a-norm error 5.984702317716083e-11\n",
      "Working on iteration 170 with a-norm error 5.834431295688429e-12\n",
      "Working on iteration 180 with a-norm error 4.5211092495754263e-13\n",
      "Working on iteration 190 with a-norm error 2.973329966913704e-14\n",
      "Working on iteration 200 with a-norm error 3.966364101368627e-15\n",
      "PCG stopped after: 200 iterations with relative error 3.749324798532504e-15.\n",
      " 62.465566 seconds (99.00 M allocations: 4.198 GB, 26.83% gc time)\n",
      "Working on iteration 10 with a-norm error 8.452396806813598\n",
      "Working on iteration 20 with a-norm error 3.475976425432943\n",
      "Working on iteration 30 with a-norm error 1.1303940490121152\n",
      "Working on iteration 40 with a-norm error 0.3042208373047442\n",
      "Working on iteration 50 with a-norm error 0.09180260969059283\n",
      "Working on iteration 60 with a-norm error 0.026490034237535875\n",
      "Working on iteration 70 with a-norm error 0.005246350991213821\n",
      "Working on iteration 80 with a-norm error 0.0008322728210935732\n",
      "Working on iteration 90 with a-norm error 0.0001260370481705043\n",
      "Working on iteration 100 with a-norm error 1.460133565381455e-5\n",
      "Working on iteration 110 with a-norm error 1.3481895919761537e-6\n",
      "Working on iteration 120 with a-norm error 1.1180830343503318e-7\n",
      "Working on iteration 130 with a-norm error 8.514995205079335e-9\n",
      "Working on iteration 140 with a-norm error 8.966902473717759e-10\n",
      "Working on iteration 150 with a-norm error 8.155170929788253e-11\n",
      "Working on iteration 160 with a-norm error 3.639654002095448e-12\n",
      "Working on iteration 170 with a-norm error 1.8488435500619989e-13\n",
      "Working on iteration 180 with a-norm error 7.0507112117679835e-15\n",
      "Working on iteration 190 with a-norm error 3.527030432037657e-15\n",
      "Working on iteration 200 with a-norm error 3.516724880835371e-15\n",
      "PCG stopped after: 200 iterations with relative error 3.5167179511472633e-15.\n",
      " 64.733729 seconds (99.00 M allocations: 6.150 GB, 27.86% gc time)\n"
     ]
    }
   ],
   "source": [
    "numIts = 200;\n",
    "\n",
    "for i in 4:5\n",
    "    @time F = treeSolver(tree[i])\n",
    "    @time F(b);\n",
    "    \n",
    "    # a run on standard Float64 data types\n",
    "    @time myx64,dbg = pcgV(la, b, F, x, maxits=numIts, verbose=false);\n",
    "    norm(lap(a) * myx64 - b) / norm(b)\n",
    "    insert!(dbg, 1, \"$(numIts) iterations\")\n",
    "    insert!(dbg, 1, \"anorm = sqrt((x-truex)' * la * (x-truex)), err2_a = norm(la*x-b) / norm(b), err2_b = norm(x-truex)\")\n",
    "    writeToFile(graphp * \"_log_julia_tree$(i)_default.txt\", dbg)\n",
    "    \n",
    "    # now useing higer precision data types\n",
    "    for hp in [64,128,256,512,1024]\n",
    "        set_bigfloat_precision(hp)\n",
    "        laHP = toHighPrecision(la; precision=hp)\n",
    "        treeHP = toHighPrecision(tree[i]; precision=hp)\n",
    "        xHP = toHighPrecision(x; precision=hp);\n",
    "        bHP = toHighPrecision(b; precision=hp);\n",
    "        FHP = treeSolver(treeHP)\n",
    "\n",
    "        @time myxHP,dbg = pcgV(laHP, bHP, FHP, xHP, maxits=numIts, verbose=true);\n",
    "        insert!(dbg, 1, \"$(numIts) iterations\")\n",
    "        insert!(dbg, 1, \"anorm = sqrt((x-truex)' * la * (x-truex)), err2_a = norm(la*x-b) / norm(b), err2_b = norm(x-truex)\")\n",
    "        writeToFile(graphp * \"_log_julia_tree$(i)_$(hp).txt\", dbg)\n",
    "    end\n",
    "end"
   ]
  },
  {
   "cell_type": "code",
   "execution_count": null,
   "metadata": {
    "collapsed": true
   },
   "outputs": [],
   "source": []
  }
 ],
 "metadata": {
  "kernelspec": {
   "display_name": "Julia 0.4.6",
   "language": "julia",
   "name": "julia-0.4"
  },
  "language_info": {
   "file_extension": ".jl",
   "mimetype": "application/julia",
   "name": "julia",
   "version": "0.4.6"
  }
 },
 "nbformat": 4,
 "nbformat_minor": 0
}
