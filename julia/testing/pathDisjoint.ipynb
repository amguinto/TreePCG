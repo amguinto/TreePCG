{
 "cells": [
  {
   "cell_type": "code",
   "execution_count": 1,
   "metadata": {
    "collapsed": false
   },
   "outputs": [
    {
     "data": {
      "text/plain": [
       "parseCPPData (generic function with 1 method)"
      ]
     },
     "execution_count": 1,
     "metadata": {},
     "output_type": "execute_result"
    }
   ],
   "source": [
    "include(\"../src/Julia.jl\")"
   ]
  },
  {
   "cell_type": "code",
   "execution_count": 2,
   "metadata": {
    "collapsed": false
   },
   "outputs": [
    {
     "data": {
      "text/plain": [
       "\"/Users/serbanstan/git/TreePCG/julia/testing\""
      ]
     },
     "execution_count": 2,
     "metadata": {},
     "output_type": "execute_result"
    }
   ],
   "source": [
    "pwd()"
   ]
  },
  {
   "cell_type": "code",
   "execution_count": 11,
   "metadata": {
    "collapsed": false
   },
   "outputs": [
    {
     "data": {
      "text/plain": [
       "\"../../graphs/pathDisjoint_1000_exp20/\""
      ]
     },
     "execution_count": 11,
     "metadata": {},
     "output_type": "execute_result"
    }
   ],
   "source": [
    "graphp = \"../../graphs/pathDisjoint_1000_exp20/\""
   ]
  },
  {
   "cell_type": "code",
   "execution_count": 12,
   "metadata": {
    "collapsed": false
   },
   "outputs": [],
   "source": [
    "a = readFromFile(graphp * \"graph.mtx\");"
   ]
  },
  {
   "cell_type": "code",
   "execution_count": 13,
   "metadata": {
    "collapsed": false
   },
   "outputs": [],
   "source": [
    "tree = []\n",
    "tr = readFromFile(graphp * \"tree0.mtx\");\n",
    "push!(tree, tr);"
   ]
  },
  {
   "cell_type": "code",
   "execution_count": 14,
   "metadata": {
    "collapsed": false
   },
   "outputs": [],
   "source": [
    "x = readFromFile(graphp * \"x.vec\");"
   ]
  },
  {
   "cell_type": "code",
   "execution_count": 15,
   "metadata": {
    "collapsed": false
   },
   "outputs": [],
   "source": [
    "la = lap(a);\n",
    "x = x - mean(x)\n",
    "b = la * x; b = b - mean(b);"
   ]
  },
  {
   "cell_type": "code",
   "execution_count": 17,
   "metadata": {
    "collapsed": false
   },
   "outputs": [
    {
     "name": "stdout",
     "output_type": "stream",
     "text": [
      "  0.000339 seconds (129 allocations: 374.813 KB)\n",
      "  0.001524 seconds (17.96 k allocations: 344.375 KB)\n",
      "  0.289437 seconds (5.42 M allocations: 136.131 MB, 14.12% gc time)\n",
      "Finished iteration 1 with errors 0.5008401507327659 0.3275599229923137\n",
      "Finished iteration 11 with errors 0.08600692092716472 0.026209348985554975\n",
      "Finished iteration 21 with errors 0.04434816393372275 0.008625360570549434\n",
      "Finished iteration 31 with errors 0.029729653409403953 0.004059662956546587\n",
      "Finished iteration 41 with errors 0.021628885875451524 0.0021553611358799\n",
      "Finished iteration 51 with errors 0.0175395058206024 0.0027183421699860325\n",
      "Finished iteration 61 with errors 0.014290848364793503 0.0010893587488395925\n",
      "Finished iteration 71 with errors 0.012157545268106291 0.0005946592576459946\n",
      "Finished iteration 81 with errors 0.010216502668171768 0.0007024418065432016\n",
      "Finished iteration 91 with errors 0.009034392174101817 0.0006147131891326411\n",
      "Finished iteration 101 with errors 0.007360330997935377 0.0003967229056519057\n",
      "Finished iteration 111 with errors 0.006325833332380042 0.0005689046941195651\n",
      "Finished iteration 121 with errors 0.0056904823565887 0.00018648298947115076\n",
      "Finished iteration 131 with errors 0.004858166931735368 0.00029743012382419217\n",
      "Finished iteration 141 with errors 0.00437662531581126 0.0003081523243656317\n",
      "Finished iteration 151 with errors 0.004048884376482238 0.0005002887396187217\n",
      "Finished iteration 161 with errors 0.003713999806370874 0.0002730779757224439\n",
      "Finished iteration 171 with errors 0.0033601543503032952 0.000253295408649263\n",
      "Finished iteration 181 with errors 0.0031420407601083123 0.0001846883039035341\n",
      "Finished iteration 191 with errors 0.0030247826603626753 0.00014346523116146614\n",
      "Finished iteration 201 with errors 0.002810731322974157 6.509531037962494e-5\n",
      "Finished iteration 211 with errors 0.002599226236350383 0.0001346544710839996\n",
      "Finished iteration 221 with errors 0.0024538730883563076 6.067332795828479e-5\n",
      "Finished iteration 231 with errors 0.002277376623551524 0.0001021884648771542\n",
      "Finished iteration 241 with errors 0.002132291205736892 3.614857310200857e-5\n",
      "Finished iteration 251 with errors 0.002046535474866744 6.0308147883556765e-5\n",
      "Finished iteration 261 with errors 0.0019562274550768656 0.00012795334856575583\n",
      "Finished iteration 271 with errors 0.001877990231297321 0.00015703221257711537\n",
      "Finished iteration 281 with errors 0.0018063818383004554 7.160935437480054e-5\n",
      "Finished iteration 291 with errors 0.0017614495910491144 9.161510702625546e-5\n",
      "Finished iteration 300 with errors 0.001727277071525513 4.2499854596475435e-5\n",
      " 11.538068 seconds (61.57 M allocations: 1.577 GB, 26.70% gc time)\n",
      "Finished iteration 1 with errors 0.5008401507327659 0.3275599229923137\n",
      "Finished iteration 11 with errors 0.08600692092716473 0.026209348985554975\n",
      "Finished iteration 21 with errors 0.044348163933722755 0.008625360570549434\n",
      "Finished iteration 31 with errors 0.029729653409403946 0.004059662956546587\n",
      "Finished iteration 41 with errors 0.021628878815656987 0.0021552444428910174\n",
      "Finished iteration 51 with errors 0.015707326348427874 0.0013168447334854728\n",
      "Finished iteration 61 with errors 0.012375025869783148 0.0006244186982342534\n",
      "Finished iteration 71 with errors 0.010198168759529374 0.0005731295619023\n",
      "Finished iteration 81 with errors 0.007823430056845198 0.00028790377580548853\n",
      "Finished iteration 91 with errors 0.0061150530119822005 0.00016104071689444928\n",
      "Finished iteration 101 with errors 0.005029414383587589 0.0005460303080764085\n",
      "Finished iteration 111 with errors 0.0043066191590925545 0.00011369188899271772\n",
      "Finished iteration 121 with errors 0.0035242264906956886 0.0004109014881324516\n",
      "Finished iteration 131 with errors 0.0031433871241823446 6.635938327893515e-5\n",
      "Finished iteration 141 with errors 0.0028267029695691736 3.42861569968332e-5\n",
      "Finished iteration 151 with errors 0.002563036950549759 0.00016205187145711483\n",
      "Finished iteration 161 with errors 0.002321087643109029 0.00010982147380061352\n",
      "Finished iteration 171 with errors 0.002146398321647432 4.894713284630963e-5\n",
      "Finished iteration 181 with errors 0.0020163170318909323 4.7581429388189356e-5\n",
      "Finished iteration 191 with errors 0.0018765561165855842 3.6728516036734656e-5\n",
      "Finished iteration 201 with errors 0.0017607725677637653 1.5309178815871065e-5\n",
      "Finished iteration 211 with errors 0.001651640258902123 5.264095329273387e-5\n",
      "Finished iteration 221 with errors 0.001593354040597395 1.637624458669213e-5\n",
      "Finished iteration 231 with errors 0.001529613753860046 8.040210856721736e-5\n",
      "Finished iteration 241 with errors 0.0014900445322614956 3.2595768666956395e-5\n",
      "Finished iteration 251 with errors 0.0014115293947285796 0.00010074270861235197\n",
      "Finished iteration 261 with errors 0.0013161484056629944 3.484373191439006e-5\n",
      "Finished iteration 271 with errors 0.0012744297849738681 2.7467255255789917e-5\n",
      "Finished iteration 281 with errors 0.0012224549104999977 3.2773770255622244e-5\n",
      "Finished iteration 291 with errors 0.0011478786649151865 2.5763238536570742e-5\n",
      "Finished iteration 300 with errors 0.0011202627438558124 2.8267984833320013e-5\n",
      " 12.709022 seconds (61.57 M allocations: 1.728 GB, 26.68% gc time)\n",
      "Finished iteration 1 with errors 0.5008401507327659 0.3275599229923137\n",
      "Finished iteration 11 with errors 0.08600692092716473 0.026209348985554975\n",
      "Finished iteration 21 with errors 0.044348163933722755 0.008625360570549434\n",
      "Finished iteration 31 with errors 0.029729653409403946 0.004059662956546587\n",
      "Finished iteration 41 with errors 0.021628878815656987 0.0021552444428910174\n",
      "Finished iteration 51 with errors 0.015707326348427874 0.0013168447334854728\n",
      "Finished iteration 61 with errors 0.01188436890827592 0.0006226586840286922\n",
      "Finished iteration 71 with errors 0.007567848356099114 0.0002402015600488522\n",
      "Finished iteration 81 with errors 0.00519242794209238 0.00013975476509117479\n",
      "Finished iteration 91 with errors 0.004120002407826693 0.0005248432450457654\n",
      "Finished iteration 101 with errors 0.0032568279444056838 7.471023986961093e-5\n",
      "Finished iteration 111 with errors 0.0027942999176720456 7.589971149273428e-5\n",
      "Finished iteration 121 with errors 0.002254818749184149 9.950621333566277e-5\n",
      "Finished iteration 131 with errors 0.0019113316104663917 2.2371221839047643e-5\n",
      "Finished iteration 141 with errors 0.0017760064036946312 0.00011112542195131902\n",
      "Finished iteration 151 with errors 0.0016406903055550671 6.519521922243108e-5\n",
      "Finished iteration 161 with errors 0.001546532239847509 4.752704822914737e-5\n",
      "Finished iteration 171 with errors 0.0014428514716330403 3.6009980697672024e-5\n",
      "Finished iteration 181 with errors 0.0013260408206189247 9.410957538231099e-6\n",
      "Finished iteration 191 with errors 0.0012383597344990931 3.411626868213258e-5\n",
      "Finished iteration 201 with errors 0.0011114267683576063 7.485878108092887e-5\n",
      "Finished iteration 211 with errors 0.001023055881715509 1.1496748681718981e-5\n",
      "Finished iteration 221 with errors 0.0009482642533349442 3.6876236445073277e-6\n",
      "Finished iteration 231 with errors 0.0008980942269591404 4.435707524344204e-5\n",
      "Finished iteration 241 with errors 0.0008401846640513515 1.3478673464932198e-5\n",
      "Finished iteration 251 with errors 0.0007910445269772483 2.685337979132846e-6\n",
      "Finished iteration 261 with errors 0.000733274569902328 4.151241231934876e-6\n",
      "Finished iteration 271 with errors 0.0007007305251571881 2.1234409677617155e-6\n",
      "Finished iteration 281 with errors 0.0006697837438721605 1.7817247011425037e-6\n",
      "Finished iteration 291 with errors 0.0006502147624046937 3.800772261720652e-5\n",
      "Finished iteration 300 with errors 0.0005962485580251782 2.585856617760359e-5\n",
      " 12.844283 seconds (61.57 M allocations: 2.029 GB, 27.49% gc time)\n",
      "Finished iteration 1 with errors 0.5008401507327659 0.3275599229923137\n",
      "Finished iteration 11 with errors 0.08600692092716473 0.026209348985554975\n",
      "Finished iteration 21 with errors 0.044348163933722755 0.008625360570549434\n",
      "Finished iteration 31 with errors 0.029729653409403946 0.004059662956546587\n",
      "Finished iteration 41 with errors 0.021628878815656987 0.0021552444428910174\n",
      "Finished iteration 51 with errors 0.015707326348427874 0.0013168447334854728\n",
      "Finished iteration 61 with errors 0.01188436890827592 0.0006226586840286922\n",
      "Finished iteration 71 with errors 0.007567848356099114 0.0002402015600488522\n",
      "Finished iteration 81 with errors 0.004541191753148898 0.00010160779551270289\n",
      "Finished iteration 91 with errors 0.0029982266683832044 4.1493754032840084e-5\n",
      "Finished iteration 101 with errors 0.002058279299977068 2.4459488140999448e-5\n",
      "Finished iteration 111 with errors 0.0017519771821488418 0.00013725679972229713\n",
      "Finished iteration 121 with errors 0.0015580531656689946 2.169464065361887e-5\n",
      "Finished iteration 131 with errors 0.001423539834511489 1.3685615892646479e-5\n",
      "Finished iteration 141 with errors 0.0012433262500664325 6.557480371115847e-6\n",
      "Finished iteration 151 with errors 0.0010744891263583653 1.0647970373648603e-5\n",
      "Finished iteration 161 with errors 0.0009508253730582017 3.206617374930506e-6\n",
      "Finished iteration 171 with errors 0.0008724845298447997 3.0278231474428946e-5\n",
      "Finished iteration 181 with errors 0.0007629623251961042 2.8817592947579154e-6\n",
      "Finished iteration 191 with errors 0.0006870822911818263 5.131421946326071e-6\n",
      "Finished iteration 201 with errors 0.0006512908559478584 2.2186393118561816e-5\n",
      "Finished iteration 211 with errors 0.000574229614852799 9.590726384455966e-7\n",
      "Finished iteration 221 with errors 0.0005287019268138435 5.32212974662952e-7\n",
      "Finished iteration 231 with errors 0.0004944322031347881 5.902451402893687e-7\n",
      "Finished iteration 241 with errors 0.00046820965232841993 3.4312499252221297e-6\n",
      "Finished iteration 251 with errors 0.00045139530670583065 2.48640361402732e-6\n",
      "Finished iteration 261 with errors 0.00042984294364991135 4.13411878449428e-6\n",
      "Finished iteration 271 with errors 0.000423217484166341 1.3155175222432708e-6\n",
      "Finished iteration 281 with errors 0.00041578058920997815 2.2182386957316964e-7\n",
      "Finished iteration 291 with errors 0.0004073370092120874 3.339236007633034e-7\n",
      "Finished iteration 300 with errors 0.00040335552591438316 7.733274045763951e-7\n",
      " 16.750098 seconds (61.57 M allocations: 2.631 GB, 26.58% gc time)\n",
      "Finished iteration 1 with errors 0.5008401507327659 0.3275599229923137\n",
      "Finished iteration 11 with errors 0.08600692092716473 0.026209348985554975\n",
      "Finished iteration 21 with errors 0.044348163933722755 0.008625360570549434\n",
      "Finished iteration 31 with errors 0.029729653409403946 0.004059662956546587\n",
      "Finished iteration 41 with errors 0.021628878815656987 0.0021552444428910174\n",
      "Finished iteration 51 with errors 0.015707326348427874 0.0013168447334854728\n",
      "Finished iteration 61 with errors 0.01188436890827592 0.0006226586840286922\n",
      "Finished iteration 71 with errors 0.007567848356099114 0.0002402015600488522\n",
      "Finished iteration 81 with errors 0.004541191753148898 0.00010160779551270289\n",
      "Finished iteration 91 with errors 0.0029982266683832044 4.1493754032840084e-5\n",
      "Finished iteration 101 with errors 0.002058279299977068 2.4459488140999448e-5\n",
      "Finished iteration 111 with errors 0.001625113071019415 1.200054696380086e-5\n",
      "Finished iteration 121 with errors 0.0012925774775989689 6.9024458786128495e-6\n",
      "Finished iteration 131 with errors 0.000999747478581499 3.841625972105239e-6\n",
      "Finished iteration 141 with errors 0.0007938022629957718 2.230518735683963e-6\n",
      "Finished iteration 151 with errors 0.0006554649620612938 1.2194875197004675e-6\n",
      "Finished iteration 161 with errors 0.0005563466075572873 1.1913899980089632e-6\n",
      "Finished iteration 171 with errors 0.0005201040280525905 3.303931874132739e-6\n",
      "Finished iteration 181 with errors 0.00047297266043078097 2.4044090718044305e-5\n",
      "Finished iteration 191 with errors 0.0004515083990391831 4.36826191507511e-6\n",
      "Finished iteration 201 with errors 0.0004261775929002096 3.981266983212635e-7\n",
      "Finished iteration 211 with errors 0.00041583406086790324 1.1613882503062115e-6\n",
      "Finished iteration 221 with errors 0.00040325039607273344 5.277093497572348e-6\n",
      "Finished iteration 231 with errors 0.0003901936438992072 2.660847183099863e-7\n",
      "Finished iteration 241 with errors 0.0003730334543282451 1.3077500202037523e-6\n",
      "Finished iteration 251 with errors 0.0003581582907218079 1.0711253131870992e-6\n",
      "Finished iteration 261 with errors 0.0003411601468017673 1.2463426576853394e-7\n",
      "Finished iteration 271 with errors 0.0003222157646505198 1.246412395065629e-7\n",
      "Finished iteration 281 with errors 0.00031354275860025297 3.4290856821569076e-6\n",
      "Finished iteration 291 with errors 0.0002822080961740494 2.0417773709164228e-7\n",
      "Finished iteration 300 with errors 0.00027033574828034217 1.6014140724762963e-7\n",
      " 19.558057 seconds (61.57 M allocations: 3.836 GB, 26.75% gc time)\n",
      " 73.831834 seconds (313.58 M allocations: 11.949 GB, 26.83% gc time)\n"
     ]
    }
   ],
   "source": [
    "numIts = 300;\n",
    "\n",
    "@time for i in 1:1\n",
    "    @time F = treeSolver(tree[i])\n",
    "    @time F(b);\n",
    "    \n",
    "    # a run on standard Float64 data types\n",
    "    @time myx64,dbg = pcgV(la, b, F, x, maxits=numIts, verbose=false);\n",
    "    norm(lap(a) * myx64 - b) / norm(b)\n",
    "    insert!(dbg, 1, \"$(numIts) iterations\")\n",
    "    insert!(dbg, 1, \"anorm = sqrt((x-truex)' * la * (x-truex)), err2_a = norm(la*x-b) / norm(b), err2_b = norm(x-truex)\")\n",
    "    writeToFile(graphp * \"_log_julia_tree$(i)_default.txt\", dbg)\n",
    "    \n",
    "    # now useing higer precision data types\n",
    "    for hp in [64,128,256,512,1024]\n",
    "        set_bigfloat_precision(hp)\n",
    "        laHP = toHighPrecision(la; precision=hp)\n",
    "        treeHP = toHighPrecision(tree[i]; precision=hp)\n",
    "        xHP = toHighPrecision(x; precision=hp);\n",
    "        bHP = toHighPrecision(b; precision=hp);\n",
    "        FHP = treeSolver(treeHP)\n",
    "\n",
    "        @time myxHP,dbg = pcgV(laHP, bHP, FHP, xHP, maxits=numIts, verbose=true);\n",
    "        insert!(dbg, 1, \"$(numIts) iterations\")\n",
    "        insert!(dbg, 1, \"anorm = sqrt((x-truex)' * la * (x-truex)), err2_a = norm(la*x-b) / norm(b), err2_b = norm(x-truex)\")\n",
    "        writeToFile(graphp * \"_log_julia_tree$(i)_$(hp).txt\", dbg)\n",
    "    end\n",
    "end"
   ]
  },
  {
   "cell_type": "code",
   "execution_count": null,
   "metadata": {
    "collapsed": true
   },
   "outputs": [],
   "source": []
  }
 ],
 "metadata": {
  "anaconda-cloud": {},
  "kernelspec": {
   "display_name": "Julia 0.4.6",
   "language": "julia",
   "name": "julia-0.4"
  },
  "language_info": {
   "file_extension": ".jl",
   "mimetype": "application/julia",
   "name": "julia",
   "version": "0.4.6"
  }
 },
 "nbformat": 4,
 "nbformat_minor": 0
}
