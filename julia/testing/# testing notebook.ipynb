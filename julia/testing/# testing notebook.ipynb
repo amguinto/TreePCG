{
 "cells": [
  {
   "cell_type": "code",
   "execution_count": 1,
   "metadata": {
    "collapsed": false
   },
   "outputs": [
    {
     "data": {
      "text/plain": [
       "pcgWorker (generic function with 1 method)"
      ]
     },
     "execution_count": 1,
     "metadata": {},
     "output_type": "execute_result"
    }
   ],
   "source": [
    "include(\"../src/Julia.jl\")"
   ]
  },
  {
   "cell_type": "code",
   "execution_count": 36,
   "metadata": {
    "collapsed": false
   },
   "outputs": [
    {
     "data": {
      "text/plain": [
       "\"/Users/serbanstan/git/TreePCG/julia/testing\""
      ]
     },
     "execution_count": 36,
     "metadata": {},
     "output_type": "execute_result"
    }
   ],
   "source": [
    "pwd()"
   ]
  },
  {
   "cell_type": "code",
   "execution_count": 43,
   "metadata": {
    "collapsed": false
   },
   "outputs": [],
   "source": [
    "gpath = \"../../graphs/\";"
   ]
  },
  {
   "cell_type": "code",
   "execution_count": 45,
   "metadata": {
    "collapsed": false
   },
   "outputs": [],
   "source": [
    "graphs = readdir(\"../../graphs\");"
   ]
  },
  {
   "cell_type": "code",
   "execution_count": null,
   "metadata": {
    "collapsed": false
   },
   "outputs": [
    {
     "name": "stdout",
     "output_type": "stream",
     "text": [
      "  0.019187 seconds (50.18 k allocations: 5.763 MB)\n",
      "  0.006692 seconds (197.65 k allocations: 3.627 MB)\n",
      "  1.790024 seconds (39.74 M allocations: 958.480 MB, 6.35% gc time)\n",
      "117.073208 seconds (476.14 M allocations: 12.103 GB, 34.32% gc time)\n",
      "122.622728 seconds (476.14 M allocations: 13.262 GB, 35.43% gc time)\n",
      "130.974267 seconds (476.14 M allocations: 15.579 GB, 35.33% gc time)\n",
      "179.037261 seconds (476.14 M allocations: 20.214 GB, 35.22% gc time)\n",
      "385.090883 seconds (476.14 M allocations: 29.484 GB, 33.38% gc time)\n",
      "  0.076399 seconds (50.18 k allocations: 5.763 MB)\n",
      "  0.020343 seconds (197.90 k allocations: 3.631 MB)\n",
      "  4.220791 seconds (39.79 M allocations: 959.265 MB, 15.55% gc time)\n",
      "256.309432 seconds (476.19 M allocations: 12.104 GB, 34.33% gc time)\n",
      "280.849614 seconds (476.19 M allocations: 13.263 GB, 35.92% gc time)\n",
      "313.060384 seconds (476.19 M allocations: 15.580 GB, 36.55% gc time)\n",
      "251.446783 seconds (476.19 M allocations: 20.215 GB, 35.90% gc time)\n",
      "307.733533 seconds (476.19 M allocations: 29.484 GB, 34.16% gc time)\n",
      "2353.896039 seconds (4.85 G allocations: 183.522 GB, 34.93% gc time)\n",
      "finished running on grid2_iu_10000_1\n",
      "  0.061553 seconds (50.18 k allocations: 5.763 MB)\n",
      "  0.054309 seconds (197.74 k allocations: 3.629 MB, 66.85% gc time)\n",
      "  5.057928 seconds (39.76 M allocations: 958.762 MB, 15.89% gc time)\n",
      "287.921474 seconds (476.15 M allocations: 12.104 GB, 34.06% gc time)\n",
      "321.247332 seconds (476.15 M allocations: 13.262 GB, 35.68% gc time)\n",
      "skipping grid2_u_10000_1\n",
      "  0.070320 seconds (135.19 k allocations: 15.366 MB, 8.76% gc time)\n",
      "  0.038011 seconds (537.76 k allocations: 9.854 MB, 33.51% gc time)\n",
      "skipping grid3_iu_27000_1\n",
      "skipping grid3_u_27000_1\n",
      "skipping ke_1_1\n",
      "skipping ke_1_2\n",
      "skipping ke_2_1\n",
      "skipping ke_2_2\n",
      "skipping rand_10000_u11\n",
      "  0.012336 seconds (5.14 k allocations: 586.766 KB, 77.85% gc time)\n",
      "  0.000836 seconds (17.92 k allocations: 343.656 KB)\n",
      "skipping rand_1000_iu10\n",
      "  0.003794 seconds (5.14 k allocations: 587.297 KB)\n",
      "  0.001213 seconds (17.94 k allocations: 343.969 KB)\n",
      "skipping rand_1000_iu100\n",
      "  0.001971 seconds (5.14 k allocations: 586.766 KB)\n",
      "  0.000610 seconds (17.92 k allocations: 343.688 KB)\n",
      "skipping rand_1000_iu1000\n",
      "  0.002472 seconds (5.14 k allocations: 587.297 KB)\n",
      "  0.000805 seconds (17.90 k allocations: 343.375 KB)\n"
     ]
    }
   ],
   "source": [
    "for cur in graphs\n",
    "    path = gpath * cur * \"/\"\n",
    "    \n",
    "    try\n",
    "        a = readFromFile(path * \"graph.mtx\");\n",
    "        x = readFromFile(path * \"x.vec\");\n",
    "        \n",
    "        tree = []\n",
    "        for ind in 1:5\n",
    "            tr = readFromFile(path * \"tree$(ind).mtx\");\n",
    "            \n",
    "            u,v,w = findnz(tr)\n",
    "            for i in 1:length(w)\n",
    "                w[i] = a[u[i],v[i]]\n",
    "            end\n",
    "            tr = sparse(u,v,w)\n",
    "            \n",
    "            push!(tree, tr);\n",
    "        end\n",
    "        \n",
    "        la = lap(a);\n",
    "        x = x - mean(x)\n",
    "        b = la * x; b = b - mean(b);\n",
    "        \n",
    "        numIts = 200;\n",
    "        @time for i in 4:5\n",
    "            @time F = treeSolver(tree[i])\n",
    "            @time F(b);\n",
    "\n",
    "            # a run on standard Float64 data types\n",
    "            @time myx64,dbg = pcgV(la, b, F, x, maxits=numIts, verbose=false);\n",
    "            norm(lap(a) * myx64 - b) / norm(b)\n",
    "            insert!(dbg, 1, \"$(numIts) iterations\")\n",
    "            insert!(dbg, 1, \"anorm = sqrt((x-truex)' * la * (x-truex)), err2_a = norm(la*x-b) / norm(b), err2_b = norm(x-truex)\")\n",
    "            writeToFile(path * \"_log_julia_tree$(i)_default.txt\", dbg)\n",
    "\n",
    "            # now useing higer precision data types\n",
    "            for hp in [64,128,256,512,1024]\n",
    "                set_bigfloat_precision(hp)\n",
    "                laHP = toHighPrecision(la; precision=hp)\n",
    "                treeHP = toHighPrecision(tree[i]; precision=hp)\n",
    "                xHP = toHighPrecision(x; precision=hp);\n",
    "                bHP = toHighPrecision(b; precision=hp);\n",
    "                FHP = treeSolver(treeHP)\n",
    "\n",
    "                @time myxHP,dbg = pcgV(laHP, bHP, FHP, xHP, maxits=numIts, verbose=false);\n",
    "                insert!(dbg, 1, \"$(numIts) iterations\")\n",
    "                insert!(dbg, 1, \"anorm = sqrt((x-truex)' * la * (x-truex)), err2_a = norm(la*x-b) / norm(b), err2_b = norm(x-truex)\")\n",
    "                writeToFile(path * \"_log_julia_tree$(i)_$(hp).txt\", dbg)\n",
    "            end\n",
    "        end\n",
    "            \n",
    "        println(\"finished running on \", cur)\n",
    "    catch\n",
    "        println(\"skipping \", cur)\n",
    "    end\n",
    "end"
   ]
  },
  {
   "cell_type": "code",
   "execution_count": null,
   "metadata": {
    "collapsed": true
   },
   "outputs": [],
   "source": []
  },
  {
   "cell_type": "code",
   "execution_count": null,
   "metadata": {
    "collapsed": true
   },
   "outputs": [],
   "source": []
  }
 ],
 "metadata": {
  "anaconda-cloud": {},
  "kernelspec": {
   "display_name": "Julia 0.4.6",
   "language": "julia",
   "name": "julia-0.4"
  },
  "language_info": {
   "file_extension": ".jl",
   "mimetype": "application/julia",
   "name": "julia",
   "version": "0.4.6"
  }
 },
 "nbformat": 4,
 "nbformat_minor": 0
}
