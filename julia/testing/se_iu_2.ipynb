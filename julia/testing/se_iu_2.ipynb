{
 "cells": [
  {
   "cell_type": "code",
   "execution_count": 1,
   "metadata": {
    "collapsed": false
   },
   "outputs": [
    {
     "name": "stderr",
     "output_type": "stream",
     "text": [
      "objc[10059]: Class TKApplication is implemented in both /Users/serbanstan/anaconda/lib/libtk8.5.dylib and /System/Library/Frameworks/Tk.framework/Versions/8.5/Tk. One of the two will be used. Which one is undefined.\n",
      "objc[10059]: Class TKMenu is implemented in both /Users/serbanstan/anaconda/lib/libtk8.5.dylib and /System/Library/Frameworks/Tk.framework/Versions/8.5/Tk. One of the two will be used. Which one is undefined.\n",
      "objc[10059]: Class TKContentView is implemented in both /Users/serbanstan/anaconda/lib/libtk8.5.dylib and /System/Library/Frameworks/Tk.framework/Versions/8.5/Tk. One of the two will be used. Which one is undefined.\n",
      "objc[10059]: Class TKWindow is implemented in both /Users/serbanstan/anaconda/lib/libtk8.5.dylib and /System/Library/Frameworks/Tk.framework/Versions/8.5/Tk. One of the two will be used. Which one is undefined.\n"
     ]
    },
    {
     "data": {
      "text/plain": [
       "pcgWorker (generic function with 1 method)"
      ]
     },
     "execution_count": 1,
     "metadata": {},
     "output_type": "execute_result"
    }
   ],
   "source": [
    "include(\"../src/Julia.jl\")"
   ]
  },
  {
   "cell_type": "code",
   "execution_count": 2,
   "metadata": {
    "collapsed": false
   },
   "outputs": [
    {
     "data": {
      "text/plain": [
       "\"/Users/serbanstan/git/TreePCG/julia/testing\""
      ]
     },
     "execution_count": 2,
     "metadata": {},
     "output_type": "execute_result"
    }
   ],
   "source": [
    "pwd()"
   ]
  },
  {
   "cell_type": "code",
   "execution_count": 3,
   "metadata": {
    "collapsed": false
   },
   "outputs": [
    {
     "data": {
      "text/plain": [
       "\"../../graphs/se_iu_2/\""
      ]
     },
     "execution_count": 3,
     "metadata": {},
     "output_type": "execute_result"
    }
   ],
   "source": [
    "graphp = \"../../graphs/se_iu_2/\""
   ]
  },
  {
   "cell_type": "code",
   "execution_count": 4,
   "metadata": {
    "collapsed": false
   },
   "outputs": [],
   "source": [
    "a = readFromFile(graphp * \"graph.mtx\");"
   ]
  },
  {
   "cell_type": "code",
   "execution_count": 5,
   "metadata": {
    "collapsed": false
   },
   "outputs": [],
   "source": [
    "tree = []\n",
    "for i in 1:3\n",
    "    tr = readFromFile(graphp * \"tree$(i).mtx\");\n",
    "    push!(tree, tr);\n",
    "end"
   ]
  },
  {
   "cell_type": "code",
   "execution_count": 6,
   "metadata": {
    "collapsed": false
   },
   "outputs": [],
   "source": [
    "x = readFromFile(graphp * \"x.vec\");"
   ]
  },
  {
   "cell_type": "code",
   "execution_count": 7,
   "metadata": {
    "collapsed": false
   },
   "outputs": [],
   "source": [
    "la = lap(a);\n",
    "x = x - mean(x)\n",
    "b = la * x; b = b - mean(b);"
   ]
  },
  {
   "cell_type": "code",
   "execution_count": 8,
   "metadata": {
    "collapsed": false
   },
   "outputs": [
    {
     "name": "stdout",
     "output_type": "stream",
     "text": [
      "  2.428402 seconds (275.03 k allocations: 11.676 MB, 0.56% gc time)\n",
      "  1.270507 seconds (123.82 k allocations: 4.983 MB)\n",
      "  5.298389 seconds (3.17 M allocations: 95.355 MB, 9.93% gc time)\n",
      "Working on iteration 10 with a-norm error 35.25613677400866\n",
      "Working on iteration 20 with a-norm error 14.073459347127468\n",
      "Working on iteration 30 with a-norm error 5.335833560598752\n",
      "Working on iteration 40 with a-norm error 2.3318233561812094\n",
      "Working on iteration 50 with a-norm error 0.7149790191225619\n",
      "Working on iteration 60 with a-norm error 0.2190165137717518\n",
      "Working on iteration 70 with a-norm error 0.06982067742058587\n",
      "Working on iteration 80 with a-norm error 0.02503757207263197\n",
      "Working on iteration 90 with a-norm error 0.008694904988290935\n",
      "Working on iteration 100 with a-norm error 0.003070653158206653\n",
      "Working on iteration 110 with a-norm error 0.0009860804860165574\n",
      "Working on iteration 120 with a-norm error 0.00028817131121742736\n",
      "Working on iteration 130 with a-norm error 9.851440430730404e-5\n",
      "Working on iteration 140 with a-norm error 3.731914102776599e-5\n",
      "Working on iteration 150 with a-norm error 1.3771401254011585e-5\n",
      "Working on iteration 160 with a-norm error 4.129566776612687e-6\n",
      "Working on iteration 170 with a-norm error 1.4345955346794452e-6\n",
      "Working on iteration 180 with a-norm error 5.505686520056754e-7\n",
      "Working on iteration 190 with a-norm error 1.7741913134517504e-7\n",
      "Working on iteration 200 with a-norm error 5.9364368041356555e-8\n",
      "PCG stopped after: 200 iterations with relative error 5.6832949737475076e-8.\n",
      "247.725882 seconds (207.18 M allocations: 5.180 GB, 27.18% gc time)\n",
      "Working on iteration 10 with a-norm error 35.25613677400866\n",
      "Working on iteration 20 with a-norm error 14.073447138904422\n",
      "Working on iteration 30 with a-norm error 4.842675255247871\n",
      "Working on iteration 40 with a-norm error 1.6852351437232025\n",
      "Working on iteration 50 with a-norm error 0.3940885905693083\n",
      "Working on iteration 60 with a-norm error 0.09546133485867542\n",
      "Working on iteration 70 with a-norm error 0.02157923393150924\n",
      "Working on iteration 80 with a-norm error 0.003746373475242042\n",
      "Working on iteration 90 with a-norm error 0.001276413532308746\n",
      "Working on iteration 100 with a-norm error 0.0004076226366620255\n",
      "Working on iteration 110 with a-norm error 9.728649362217837e-5\n",
      "Working on iteration 120 with a-norm error 2.776883202682403e-5\n",
      "Working on iteration 130 with a-norm error 7.568972990705041e-6\n",
      "Working on iteration 140 with a-norm error 1.3318917898677318e-6\n",
      "Working on iteration 150 with a-norm error 2.3564663965152473e-7\n",
      "Working on iteration 160 with a-norm error 7.490644877653138e-8\n",
      "Working on iteration 170 with a-norm error 1.9640713761500372e-8\n",
      "Working on iteration 180 with a-norm error 4.8422971947498136e-9\n",
      "Working on iteration 190 with a-norm error 8.511515017416089e-10\n",
      "Working on iteration 200 with a-norm error 2.5972331224432977e-10\n",
      "PCG stopped after: 200 iterations with relative error 1.9922506340467926e-10.\n",
      "133.236340 seconds (206.90 M allocations: 5.681 GB, 28.10% gc time)\n",
      "Working on iteration 10 with a-norm error 35.25613677400866\n",
      "Working on iteration 20 with a-norm error 14.073447138904422\n",
      "Working on iteration 30 with a-norm error 4.842675255247871\n",
      "Working on iteration 40 with a-norm error 1.4436118002534921\n",
      "Working on iteration 50 with a-norm error 0.2776506433201494\n",
      "Working on iteration 60 with a-norm error 0.04829893185144399\n",
      "Working on iteration 70 with a-norm error 0.007085343341697361\n",
      "Working on iteration 80 with a-norm error 0.0010237730639844197\n",
      "Working on iteration 90 with a-norm error 0.0001381794249627106\n",
      "Working on iteration 100 with a-norm error 1.777439127699509e-5\n",
      "Working on iteration 110 with a-norm error 1.6521446528371144e-6\n",
      "Working on iteration 120 with a-norm error 1.4166717591934846e-7\n",
      "Working on iteration 130 with a-norm error 1.0326711797439005e-8\n",
      "Working on iteration 140 with a-norm error 7.069163845033654e-10\n",
      "Working on iteration 150 with a-norm error 4.839633244575958e-11\n",
      "Working on iteration 160 with a-norm error 3.296486723890036e-12\n",
      "Working on iteration 170 with a-norm error 1.837628585588337e-13\n",
      "Working on iteration 180 with a-norm error 1.8762391677189385e-14\n",
      "Working on iteration 190 with a-norm error 1.3381009645676582e-14\n",
      "Working on iteration 200 with a-norm error 1.336840160563876e-14\n",
      "PCG stopped after: 200 iterations with relative error 1.3368485887063644e-14.\n",
      "216.534389 seconds (206.90 M allocations: 12.850 GB, 30.97% gc time)\n",
      "  0.032777 seconds (10.11 k allocations: 710.438 KB)\n",
      "  0.005382 seconds (13.40 k allocations: 273.094 KB)\n",
      "  0.879478 seconds (2.71 M allocations: 75.367 MB, 12.26% gc time)\n",
      "Working on iteration 10 with a-norm error 40.70017790733416\n",
      "Working on iteration 20 with a-norm error 31.346911405717844\n",
      "Working on iteration 30 with a-norm error 23.31763112269895\n",
      "Working on iteration 40 with a-norm error 16.510887029844127\n",
      "Working on iteration 50 with a-norm error 11.690548573076095\n",
      "Working on iteration 60 with a-norm error 8.07763266742493\n",
      "Working on iteration 70 with a-norm error 5.139594897875945\n",
      "Working on iteration 80 with a-norm error 3.5765396978112074\n",
      "Working on iteration 90 with a-norm error 2.3447019531870374\n",
      "Working on iteration 100 with a-norm error 1.6772927924800203\n",
      "Working on iteration 110 with a-norm error 1.0206228044887702\n",
      "Working on iteration 120 with a-norm error 0.7215540886076266\n",
      "Working on iteration 130 with a-norm error 0.4849492335387177\n",
      "Working on iteration 140 with a-norm error 0.3432307722509913\n",
      "Working on iteration 150 with a-norm error 0.22091361892449535\n",
      "Working on iteration 160 with a-norm error 0.15784407630509678\n",
      "Working on iteration 170 with a-norm error 0.1060896832462312\n",
      "Working on iteration 180 with a-norm error 0.06812501306506479\n",
      "Working on iteration 190 with a-norm error 0.04384423972866014\n",
      "Working on iteration 200 with a-norm error 0.031061791079149765\n",
      "PCG stopped after: 200 iterations with relative error 0.03038076927760071.\n",
      "136.009792 seconds (206.89 M allocations: 5.168 GB, 28.63% gc time)\n",
      "Working on iteration 10 with a-norm error 40.70017790733416\n",
      "Working on iteration 20 with a-norm error 31.346911405717844\n",
      "Working on iteration 30 with a-norm error 22.48098663375025\n",
      "Working on iteration 40 with a-norm error 14.808099954792688\n",
      "Working on iteration 50 with a-norm error 9.678807895231468\n",
      "Working on iteration 60 with a-norm error 5.837376629029665\n",
      "Working on iteration 70 with a-norm error 3.6768791798064546\n",
      "Working on iteration 80 with a-norm error 2.1465118617604304\n",
      "Working on iteration 90 with a-norm error 1.257042292494995\n",
      "Working on iteration 100 with a-norm error 0.7266450050493335\n",
      "Working on iteration 110 with a-norm error 0.4724262914422227\n",
      "Working on iteration 120 with a-norm error 0.27921666911631904\n",
      "Working on iteration 130 with a-norm error 0.16941993764287294\n",
      "Working on iteration 140 with a-norm error 0.10346651923683584\n",
      "Working on iteration 150 with a-norm error 0.06817400975201687\n",
      "Working on iteration 160 with a-norm error 0.03595172908055737\n",
      "Working on iteration 170 with a-norm error 0.01940354580987427\n",
      "Working on iteration 180 with a-norm error 0.011055629974933062\n",
      "Working on iteration 190 with a-norm error 0.006993749431703349\n",
      "Working on iteration 200 with a-norm error 0.003934814828250838\n",
      "PCG stopped after: 200 iterations with relative error 0.0035473371718371697.\n",
      "144.432546 seconds (206.89 M allocations: 5.680 GB, 27.90% gc time)\n",
      "Working on iteration 10 with a-norm error 40.70017790733416\n",
      "Working on iteration 20 with a-norm error 31.346911405717844\n",
      "Working on iteration 30 with a-norm error 22.48098663375025\n",
      "Working on iteration 40 with a-norm error 14.808099954703225\n",
      "Working on iteration 50 with a-norm error 8.556481807742953\n",
      "Working on iteration 60 with a-norm error 4.5395570965762175\n",
      "Working on iteration 70 with a-norm error 2.4045697498861753\n",
      "Working on iteration 80 with a-norm error 1.168844827197366\n",
      "Working on iteration 90 with a-norm error 0.5515001484235857\n",
      "Working on iteration 100 with a-norm error 0.2530448397787648\n",
      "Working on iteration 110 with a-norm error 0.10466260550393967\n",
      "Working on iteration 120 with a-norm error 0.03835765289546074\n",
      "Working on iteration 130 with a-norm error 0.013932025681756355\n",
      "Working on iteration 140 with a-norm error 0.005059464459979565\n",
      "Working on iteration 150 with a-norm error 0.0017192453870921557\n",
      "Working on iteration 160 with a-norm error 0.000558998577320725\n",
      "Working on iteration 170 with a-norm error 0.00017387330512265819\n",
      "Working on iteration 180 with a-norm error 4.9203255793183574e-5\n",
      "Working on iteration 190 with a-norm error 1.6235581043626807e-5\n",
      "Working on iteration 200 with a-norm error 5.117302331072103e-6\n",
      "PCG stopped after: 200 iterations with relative error 4.516705096897876e-6.\n",
      "288.010019 seconds (206.89 M allocations: 12.850 GB, 33.52% gc time)\n",
      "  0.027729 seconds (10.11 k allocations: 710.969 KB)\n",
      "  0.001890 seconds (13.40 k allocations: 273.094 KB)\n",
      "  0.847830 seconds (2.71 M allocations: 75.367 MB, 19.59% gc time)\n",
      "Working on iteration 10 with a-norm error 45.81229193805371\n",
      "Working on iteration 20 with a-norm error 37.67033222294389\n",
      "Working on iteration 30 with a-norm error 31.116646255483023\n",
      "Working on iteration 40 with a-norm error 25.34774323984803\n",
      "Working on iteration 50 with a-norm error 19.055955255772012\n",
      "Working on iteration 60 with a-norm error 15.578702080312366\n",
      "Working on iteration 70 with a-norm error 11.83516782730368\n",
      "Working on iteration 80 with a-norm error 8.616114414285095\n",
      "Working on iteration 90 with a-norm error 6.483223702986014\n",
      "Working on iteration 100 with a-norm error 4.813760487886097\n",
      "Working on iteration 110 with a-norm error 3.5453015756114725\n",
      "Working on iteration 120 with a-norm error 2.660597389336084\n",
      "Working on iteration 130 with a-norm error 1.9685552750704567\n",
      "Working on iteration 140 with a-norm error 1.4358751208024487\n",
      "Working on iteration 150 with a-norm error 1.0944816757184015\n",
      "Working on iteration 160 with a-norm error 0.8210930512161482\n",
      "Working on iteration 170 with a-norm error 0.5906531573536273\n",
      "Working on iteration 180 with a-norm error 0.4493130718543495\n",
      "Working on iteration 190 with a-norm error 0.3453742092662214\n",
      "Working on iteration 200 with a-norm error 0.25895262267279057\n",
      "PCG stopped after: 200 iterations with relative error 0.24746701357621173.\n",
      "265.562233 seconds (206.89 M allocations: 5.168 GB, 25.53% gc time)\n",
      "Working on iteration 10 with a-norm error 45.81229193805371\n",
      "Working on iteration 20 with a-norm error 36.7219208092141\n",
      "Working on iteration 30 with a-norm error 28.254775874516433\n",
      "Working on iteration 40 with a-norm error 20.314517602615403\n",
      "Working on iteration 50 with a-norm error 15.358926992124761\n",
      "Working on iteration 60 with a-norm error 9.652234290295283\n",
      "Working on iteration 70 with a-norm error 6.516318416170625\n",
      "Working on iteration 80 with a-norm error 4.2497569171395835\n",
      "Working on iteration 90 with a-norm error 2.8525218202300544\n",
      "Working on iteration 100 with a-norm error 1.6786367373639182\n",
      "Working on iteration 110 with a-norm error 1.204431852994153\n",
      "Working on iteration 120 with a-norm error 0.8002112244382682\n",
      "Working on iteration 130 with a-norm error 0.4999074853520474\n",
      "Working on iteration 140 with a-norm error 0.3362683603464995\n",
      "Working on iteration 150 with a-norm error 0.20619198869578745\n",
      "Working on iteration 160 with a-norm error 0.1338521986918405\n",
      "Working on iteration 170 with a-norm error 0.09547093813141323\n",
      "Working on iteration 180 with a-norm error 0.05571075853000022\n",
      "Working on iteration 190 with a-norm error 0.03505794412507646\n",
      "Working on iteration 200 with a-norm error 0.022695978598791508\n",
      "PCG stopped after: 200 iterations with relative error 0.02153606446585017.\n",
      "340.819127 seconds (206.89 M allocations: 5.680 GB, 25.75% gc time)\n",
      "Working on iteration 10 with a-norm error 45.81229193805371\n",
      "Working on iteration 20 with a-norm error 36.7219208092141\n",
      "Working on iteration 30 with a-norm error 27.280042813650123\n",
      "Working on iteration 40 with a-norm error 18.53449955677025\n",
      "Working on iteration 50 with a-norm error 10.938029529281627\n",
      "Working on iteration 60 with a-norm error 5.733627200391498\n",
      "Working on iteration 70 with a-norm error 2.971061871113499\n",
      "Working on iteration 80 with a-norm error 1.406497412803145\n",
      "Working on iteration 90 with a-norm error 0.648135014050412\n",
      "Working on iteration 100 with a-norm error 0.2734964289874787\n",
      "Working on iteration 110 with a-norm error 0.11203233866677859\n",
      "Working on iteration 120 with a-norm error 0.04661809727250077\n",
      "Working on iteration 130 with a-norm error 0.01908403283906518\n",
      "Working on iteration 140 with a-norm error 0.007378009900702\n",
      "Working on iteration 150 with a-norm error 0.003041802840284404\n",
      "Working on iteration 160 with a-norm error 0.0010217648819539637\n",
      "Working on iteration 170 with a-norm error 0.0004334136233989508\n",
      "Working on iteration 180 with a-norm error 0.0001644103093458314\n",
      "Working on iteration 190 with a-norm error 5.441693147158304e-5\n",
      "Working on iteration 200 with a-norm error 1.3821586990983307e-5\n",
      "PCG stopped after: 200 iterations with relative error 1.1959588535825089e-5.\n",
      "358.551529 seconds (206.89 M allocations: 12.850 GB, 30.26% gc time)\n"
     ]
    }
   ],
   "source": [
    "numIts = 200;\n",
    "\n",
    "for i in 1:3\n",
    "    @time F = treeSolver(tree[i])\n",
    "    @time F(b);\n",
    "    \n",
    "    # a run on standard Float64 data types\n",
    "    @time myx64,dbg = pcgV(la, b, F, x, maxits=numIts, verbose=false);\n",
    "    norm(lap(a) * myx64 - b) / norm(b)\n",
    "    insert!(dbg, 1, \"$(numIts) iterations\")\n",
    "    insert!(dbg, 1, \"anorm = sqrt((x-truex)' * la * (x-truex)), err2_a = norm(la*x-b) / norm(b), err2_b = norm(x-truex)\")\n",
    "    writeToFile(graphp * \"_log_julia_tree$(i)_default.txt\", dbg)\n",
    "    \n",
    "    # now useing higer precision data types\n",
    "    for hp in [64,128,1024]\n",
    "        set_bigfloat_precision(hp)\n",
    "        laHP = toHighPrecision(la; precision=hp)\n",
    "        treeHP = toHighPrecision(tree[i]; precision=hp)\n",
    "        xHP = toHighPrecision(x; precision=hp);\n",
    "        bHP = toHighPrecision(b; precision=hp);\n",
    "        FHP = treeSolver(treeHP)\n",
    "\n",
    "        @time myxHP,dbg = pcgV(laHP, bHP, FHP, xHP, maxits=numIts, verbose=true);\n",
    "        insert!(dbg, 1, \"$(numIts) iterations\")\n",
    "        insert!(dbg, 1, \"anorm = sqrt((x-truex)' * la * (x-truex)), err2_a = norm(la*x-b) / norm(b), err2_b = norm(x-truex)\")\n",
    "        writeToFile(graphp * \"_log_julia_tree$(i)_$(hp).txt\", dbg)\n",
    "    end\n",
    "end"
   ]
  },
  {
   "cell_type": "code",
   "execution_count": null,
   "metadata": {
    "collapsed": true
   },
   "outputs": [],
   "source": []
  }
 ],
 "metadata": {
  "kernelspec": {
   "display_name": "Julia 0.4.6",
   "language": "julia",
   "name": "julia-0.4"
  },
  "language_info": {
   "file_extension": ".jl",
   "mimetype": "application/julia",
   "name": "julia",
   "version": "0.4.6"
  }
 },
 "nbformat": 4,
 "nbformat_minor": 0
}
