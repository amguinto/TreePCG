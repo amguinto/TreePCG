{
 "cells": [
  {
   "cell_type": "code",
   "execution_count": 1,
   "metadata": {
    "collapsed": false
   },
   "outputs": [
    {
     "name": "stderr",
     "output_type": "stream",
     "text": [
      "objc[2063]: Class TKApplication is implemented in both /Users/serbanstan/anaconda/lib/libtk8.5.dylib and /System/Library/Frameworks/Tk.framework/Versions/8.5/Tk. One of the two will be used. Which one is undefined.\n",
      "objc[2063]: Class TKMenu is implemented in both /Users/serbanstan/anaconda/lib/libtk8.5.dylib and /System/Library/Frameworks/Tk.framework/Versions/8.5/Tk. One of the two will be used. Which one is undefined.\n",
      "objc[2063]: Class TKContentView is implemented in both /Users/serbanstan/anaconda/lib/libtk8.5.dylib and /System/Library/Frameworks/Tk.framework/Versions/8.5/Tk. One of the two will be used. Which one is undefined.\n",
      "objc[2063]: Class TKWindow is implemented in both /Users/serbanstan/anaconda/lib/libtk8.5.dylib and /System/Library/Frameworks/Tk.framework/Versions/8.5/Tk. One of the two will be used. Which one is undefined.\n"
     ]
    },
    {
     "data": {
      "text/plain": [
       "pcgWorker (generic function with 1 method)"
      ]
     },
     "execution_count": 1,
     "metadata": {},
     "output_type": "execute_result"
    }
   ],
   "source": [
    "include(\"../src/Julia.jl\")"
   ]
  },
  {
   "cell_type": "code",
   "execution_count": 2,
   "metadata": {
    "collapsed": false
   },
   "outputs": [
    {
     "data": {
      "text/plain": [
       "\"/Users/serbanstan/git/TreePCG/julia/testing\""
      ]
     },
     "execution_count": 2,
     "metadata": {},
     "output_type": "execute_result"
    }
   ],
   "source": [
    "pwd()"
   ]
  },
  {
   "cell_type": "code",
   "execution_count": 3,
   "metadata": {
    "collapsed": false
   },
   "outputs": [
    {
     "data": {
      "text/plain": [
       "\"../../graphs/se_u_2/\""
      ]
     },
     "execution_count": 3,
     "metadata": {},
     "output_type": "execute_result"
    }
   ],
   "source": [
    "graphp = \"../../graphs/se_u_2/\""
   ]
  },
  {
   "cell_type": "code",
   "execution_count": 4,
   "metadata": {
    "collapsed": false
   },
   "outputs": [],
   "source": [
    "a = readFromFile(graphp * \"graph.mtx\");"
   ]
  },
  {
   "cell_type": "code",
   "execution_count": 5,
   "metadata": {
    "collapsed": false
   },
   "outputs": [],
   "source": [
    "tree = []\n",
    "for i in 1:3\n",
    "    tr = readFromFile(graphp * \"tree$(i).mtx\");\n",
    "    push!(tree, tr);\n",
    "end"
   ]
  },
  {
   "cell_type": "code",
   "execution_count": 6,
   "metadata": {
    "collapsed": false
   },
   "outputs": [],
   "source": [
    "x = readFromFile(graphp * \"x.vec\");"
   ]
  },
  {
   "cell_type": "code",
   "execution_count": 7,
   "metadata": {
    "collapsed": false
   },
   "outputs": [],
   "source": [
    "la = lap(a);\n",
    "x = x - mean(x)\n",
    "b = la * x; b = b - mean(b);"
   ]
  },
  {
   "cell_type": "code",
   "execution_count": 8,
   "metadata": {
    "collapsed": false
   },
   "outputs": [
    {
     "name": "stdout",
     "output_type": "stream",
     "text": [
      "  0.711661 seconds (275.03 k allocations: 11.677 MB, 1.98% gc time)\n",
      "  0.445938 seconds (123.84 k allocations: 4.984 MB)\n",
      "  2.020787 seconds (3.17 M allocations: 95.395 MB, 1.31% gc time)\n",
      "Working on iteration 10 with a-norm error 631.286766289799\n",
      "Working on iteration 20 with a-norm error 380.0441921524348\n",
      "Working on iteration 30 with a-norm error 201.4823731215127\n",
      "Working on iteration 40 with a-norm error 106.1170335190299\n",
      "Working on iteration 50 with a-norm error 60.39884845017919\n",
      "Working on iteration 60 with a-norm error 25.89119011806758\n",
      "Working on iteration 70 with a-norm error 11.75997580500635\n",
      "Working on iteration 80 with a-norm error 5.744358551111342\n",
      "Working on iteration 90 with a-norm error 2.673894093741138\n",
      "Working on iteration 100 with a-norm error 1.2783680713011716\n",
      "Working on iteration 110 with a-norm error 0.7146183376631152\n",
      "Working on iteration 120 with a-norm error 0.4161037359183956\n",
      "Working on iteration 130 with a-norm error 0.2624301295535324\n",
      "Working on iteration 140 with a-norm error 0.11763761797122665\n",
      "Working on iteration 150 with a-norm error 0.054337543311421044\n",
      "Working on iteration 160 with a-norm error 0.03060710141466735\n",
      "Working on iteration 170 with a-norm error 0.013528081704152164\n",
      "Working on iteration 180 with a-norm error 0.005224721858784054\n",
      "Working on iteration 190 with a-norm error 0.0025866193396804835\n",
      "Working on iteration 200 with a-norm error 0.0011649074732114593\n",
      "PCG stopped after: 200 iterations with relative error 0.0010382091588098618.\n",
      " 90.365288 seconds (206.91 M allocations: 5.174 GB, 27.73% gc time)\n",
      "Working on iteration 10 with a-norm error 631.286766289799\n",
      "Working on iteration 20 with a-norm error 356.28459816467193\n",
      "Working on iteration 30 with a-norm error 192.7795318467242\n",
      "Working on iteration 40 with a-norm error 99.93769055380807\n",
      "Working on iteration 50 with a-norm error 34.707376016080296\n",
      "Working on iteration 60 with a-norm error 12.691935914533406\n",
      "Working on iteration 70 with a-norm error 4.833958244051869\n",
      "Working on iteration 80 with a-norm error 1.9892175102094214\n",
      "Working on iteration 90 with a-norm error 0.76199912586359\n",
      "Working on iteration 100 with a-norm error 0.38703132067423385\n",
      "Working on iteration 110 with a-norm error 0.14448459890380344\n",
      "Working on iteration 120 with a-norm error 0.05714923805130994\n",
      "Working on iteration 130 with a-norm error 0.02617834344402854\n",
      "Working on iteration 140 with a-norm error 0.010378402771212056\n",
      "Working on iteration 150 with a-norm error 0.004476412263425716\n",
      "Working on iteration 160 with a-norm error 0.0015776723893067414\n",
      "Working on iteration 170 with a-norm error 0.0005542382366733035\n",
      "Working on iteration 180 with a-norm error 0.0002063522984243425\n",
      "Working on iteration 190 with a-norm error 8.133532003529654e-5\n",
      "Working on iteration 200 with a-norm error 2.057761474585906e-5\n",
      "PCG stopped after: 200 iterations with relative error 1.6869650001654454e-5.\n",
      " 81.320841 seconds (206.62 M allocations: 5.673 GB, 28.22% gc time)\n",
      "Working on iteration 10 with a-norm error 631.286766289799\n",
      "Working on iteration 20 with a-norm error 356.28459816467193\n",
      "Working on iteration 30 with a-norm error 192.37755174875934\n",
      "Working on iteration 40 with a-norm error 91.84667457705277\n",
      "Working on iteration 50 with a-norm error 30.378836498262825\n",
      "Working on iteration 60 with a-norm error 7.895724123077564\n",
      "Working on iteration 70 with a-norm error 1.8738470923578874\n",
      "Working on iteration 80 with a-norm error 0.5230667697688874\n",
      "Working on iteration 90 with a-norm error 0.13476137242131453\n",
      "Working on iteration 100 with a-norm error 0.028888719609520785\n",
      "Working on iteration 110 with a-norm error 0.005862923295283118\n",
      "Working on iteration 120 with a-norm error 0.0010600822895586565\n",
      "Working on iteration 130 with a-norm error 0.00021780067572876345\n",
      "Working on iteration 140 with a-norm error 3.392044298755118e-5\n",
      "Working on iteration 150 with a-norm error 6.0950624702713935e-6\n",
      "Working on iteration 160 with a-norm error 1.3196192549122272e-6\n",
      "Working on iteration 170 with a-norm error 2.0791233955932857e-7\n",
      "Working on iteration 180 with a-norm error 2.98508627364847e-8\n",
      "Working on iteration 190 with a-norm error 4.211333539072839e-9\n",
      "Working on iteration 200 with a-norm error 5.234870873431322e-10\n",
      "PCG stopped after: 200 iterations with relative error 4.1695050240670107e-10.\n",
      " 93.674969 seconds (206.62 M allocations: 12.833 GB, 27.74% gc time)\n",
      "  0.006574 seconds (10.11 k allocations: 710.438 KB)\n",
      "  0.001047 seconds (13.43 k allocations: 273.469 KB)\n",
      "  0.293986 seconds (2.71 M allocations: 75.442 MB, 24.66% gc time)\n",
      "Working on iteration 10 with a-norm error 1052.847151215607\n",
      "Working on iteration 20 with a-norm error 625.7201702367516\n",
      "Working on iteration 30 with a-norm error 342.2506775293607\n",
      "Working on iteration 40 with a-norm error 170.2980190346275\n",
      "Working on iteration 50 with a-norm error 112.36574149607497\n",
      "Working on iteration 60 with a-norm error 53.807187386135205\n",
      "Working on iteration 70 with a-norm error 32.75939184621234\n",
      "Working on iteration 80 with a-norm error 18.18636403516037\n",
      "Working on iteration 90 with a-norm error 10.368355186687081\n",
      "Working on iteration 100 with a-norm error 5.808985407142597\n",
      "Working on iteration 110 with a-norm error 2.727799451163469\n",
      "Working on iteration 120 with a-norm error 1.763633800153653\n",
      "Working on iteration 130 with a-norm error 1.0559878493751513\n",
      "Working on iteration 140 with a-norm error 0.5627437863076016\n",
      "Working on iteration 150 with a-norm error 0.37754983018619914\n",
      "Working on iteration 160 with a-norm error 0.219099465333917\n",
      "Working on iteration 170 with a-norm error 0.13474654158369623\n",
      "Working on iteration 180 with a-norm error 0.07918379766355067\n",
      "Working on iteration 190 with a-norm error 0.040890958610582236\n",
      "Working on iteration 200 with a-norm error 0.020655207754355878\n",
      "PCG stopped after: 200 iterations with relative error 0.02054371240140989.\n",
      " 63.267756 seconds (206.62 M allocations: 5.162 GB, 27.49% gc time)\n",
      "Working on iteration 10 with a-norm error 1052.847151215607\n",
      "Working on iteration 20 with a-norm error 595.3045307031128\n",
      "Working on iteration 30 with a-norm error 273.41914981951487\n",
      "Working on iteration 40 with a-norm error 137.6849749235972\n",
      "Working on iteration 50 with a-norm error 64.11598018495484\n",
      "Working on iteration 60 with a-norm error 32.48793197022981\n",
      "Working on iteration 70 with a-norm error 15.404298081433007\n",
      "Working on iteration 80 with a-norm error 7.011530131431796\n",
      "Working on iteration 90 with a-norm error 2.829985605313652\n",
      "Working on iteration 100 with a-norm error 1.2511332990750594\n",
      "Working on iteration 110 with a-norm error 0.7506606833481976\n",
      "Working on iteration 120 with a-norm error 0.33025915786425225\n",
      "Working on iteration 130 with a-norm error 0.16348724543960907\n",
      "Working on iteration 140 with a-norm error 0.08311972230421887\n",
      "Working on iteration 150 with a-norm error 0.04091529634093668\n",
      "Working on iteration 160 with a-norm error 0.01866953070626223\n",
      "Working on iteration 170 with a-norm error 0.007665047714791704\n",
      "Working on iteration 180 with a-norm error 0.0029991288977993945\n",
      "Working on iteration 190 with a-norm error 0.0010667269895255748\n",
      "Working on iteration 200 with a-norm error 0.0005561687084506662\n",
      "PCG stopped after: 200 iterations with relative error 0.0004980621448599713.\n",
      " 84.930816 seconds (206.62 M allocations: 5.673 GB, 28.46% gc time)\n",
      "Working on iteration 10 with a-norm error 1052.847151215607\n",
      "Working on iteration 20 with a-norm error 595.3045307031128\n",
      "Working on iteration 30 with a-norm error 273.00308204061764\n",
      "Working on iteration 40 with a-norm error 119.0169897363334\n",
      "Working on iteration 50 with a-norm error 47.925677238260825\n",
      "Working on iteration 60 with a-norm error 18.07464839060932\n",
      "Working on iteration 70 with a-norm error 5.833616829431944\n",
      "Working on iteration 80 with a-norm error 1.7557901071698603\n",
      "Working on iteration 90 with a-norm error 0.556665768300106\n",
      "Working on iteration 100 with a-norm error 0.1819922085394835\n",
      "Working on iteration 110 with a-norm error 0.05232917202539791\n",
      "Working on iteration 120 with a-norm error 0.011515638186939531\n",
      "Working on iteration 130 with a-norm error 0.002420459500802224\n",
      "Working on iteration 140 with a-norm error 0.0004344078914743481\n",
      "Working on iteration 150 with a-norm error 7.462051359620907e-5\n",
      "Working on iteration 160 with a-norm error 1.8341755535682123e-5\n",
      "Working on iteration 170 with a-norm error 3.193595222849472e-6\n",
      "Working on iteration 180 with a-norm error 6.960321727813459e-7\n",
      "Working on iteration 190 with a-norm error 7.612077476143982e-8\n",
      "Working on iteration 200 with a-norm error 8.151252532278542e-9\n",
      "PCG stopped after: 200 iterations with relative error 6.426975536693757e-9.\n",
      "113.990669 seconds (206.62 M allocations: 12.832 GB, 29.13% gc time)\n",
      "  0.010354 seconds (10.11 k allocations: 710.969 KB)\n",
      "  0.001062 seconds (13.44 k allocations: 273.594 KB)\n",
      "  0.460457 seconds (2.71 M allocations: 75.465 MB, 19.46% gc time)\n",
      "Working on iteration 10 with a-norm error 1250.1699857892288\n",
      "Working on iteration 20 with a-norm error 901.056994990971\n",
      "Working on iteration 30 with a-norm error 596.4149336119841\n",
      "Working on iteration 40 with a-norm error 360.61726385194106\n",
      "Working on iteration 50 with a-norm error 223.4243499101368\n",
      "Working on iteration 60 with a-norm error 137.5421032537211\n",
      "Working on iteration 70 with a-norm error 87.82550316787264\n",
      "Working on iteration 80 with a-norm error 55.442508897182385\n",
      "Working on iteration 90 with a-norm error 33.25302674644859\n",
      "Working on iteration 100 with a-norm error 23.727277027566082\n",
      "Working on iteration 110 with a-norm error 14.639231793988248\n",
      "Working on iteration 120 with a-norm error 8.258788544285165\n",
      "Working on iteration 130 with a-norm error 4.891335646512272\n",
      "Working on iteration 140 with a-norm error 2.756379595117284\n",
      "Working on iteration 150 with a-norm error 1.76842772502436\n",
      "Working on iteration 160 with a-norm error 1.0926406704888985\n",
      "Working on iteration 170 with a-norm error 0.6278716192567246\n",
      "Working on iteration 180 with a-norm error 0.39256047046714276\n",
      "Working on iteration 190 with a-norm error 0.2296437828226789\n",
      "Working on iteration 200 with a-norm error 0.14067333636445392\n",
      "PCG stopped after: 200 iterations with relative error 0.1281360052520895.\n",
      " 79.787250 seconds (206.62 M allocations: 5.162 GB, 28.91% gc time)\n",
      "Working on iteration 10 with a-norm error 1250.1699857892288\n",
      "Working on iteration 20 with a-norm error 863.1642037056185\n",
      "Working on iteration 30 with a-norm error 509.31469693484763\n",
      "Working on iteration 40 with a-norm error 237.36667029653327\n",
      "Working on iteration 50 with a-norm error 131.9694837364521\n",
      "Working on iteration 60 with a-norm error 79.18407927450534\n",
      "Working on iteration 70 with a-norm error 39.49982354118631\n",
      "Working on iteration 80 with a-norm error 21.212716066939283\n",
      "Working on iteration 90 with a-norm error 9.849944428914608\n",
      "Working on iteration 100 with a-norm error 4.35417129518772\n",
      "Working on iteration 110 with a-norm error 2.486451617667667\n",
      "Working on iteration 120 with a-norm error 1.0152251150384903\n",
      "Working on iteration 130 with a-norm error 0.5004539514059572\n",
      "Working on iteration 140 with a-norm error 0.195682668754743\n",
      "Working on iteration 150 with a-norm error 0.10039965881026207\n",
      "Working on iteration 160 with a-norm error 0.044420667530030544\n",
      "Working on iteration 170 with a-norm error 0.022744526618340404\n",
      "Working on iteration 180 with a-norm error 0.011613249803520749\n",
      "Working on iteration 190 with a-norm error 0.0066321794698913005\n",
      "Working on iteration 200 with a-norm error 0.0026666761998414127\n",
      "PCG stopped after: 200 iterations with relative error 0.0025075649885683503.\n",
      " 83.379136 seconds (206.62 M allocations: 5.673 GB, 28.92% gc time)\n",
      "Working on iteration 10 with a-norm error 1250.1699857892288\n",
      "Working on iteration 20 with a-norm error 863.1642037056185\n",
      "Working on iteration 30 with a-norm error 471.28848545756006\n",
      "Working on iteration 40 with a-norm error 200.79384006792867\n",
      "Working on iteration 50 with a-norm error 89.90432063271321\n",
      "Working on iteration 60 with a-norm error 34.78512310145276\n",
      "Working on iteration 70 with a-norm error 11.867499209017234\n",
      "Working on iteration 80 with a-norm error 3.220017166394996\n",
      "Working on iteration 90 with a-norm error 0.7945850041208613\n",
      "Working on iteration 100 with a-norm error 0.1775470258703365\n",
      "Working on iteration 110 with a-norm error 0.03800286684336389\n",
      "Working on iteration 120 with a-norm error 0.007131203434187325\n",
      "Working on iteration 130 with a-norm error 0.0012831046096877029\n",
      "Working on iteration 140 with a-norm error 0.0001888772606745148\n",
      "Working on iteration 150 with a-norm error 2.982876532708923e-5\n",
      "Working on iteration 160 with a-norm error 3.475600533543412e-6\n",
      "Working on iteration 170 with a-norm error 4.449050061738074e-7\n",
      "Working on iteration 180 with a-norm error 5.356378577176515e-8\n",
      "Working on iteration 190 with a-norm error 7.895119428180681e-9\n",
      "Working on iteration 200 with a-norm error 9.091411489568942e-10\n",
      "PCG stopped after: 200 iterations with relative error 7.088488519685584e-10.\n",
      "112.291515 seconds (206.62 M allocations: 12.833 GB, 29.29% gc time)\n"
     ]
    }
   ],
   "source": [
    "numIts = 200;\n",
    "\n",
    "for i in 1:3\n",
    "    @time F = treeSolver(tree[i])\n",
    "    @time F(b);\n",
    "    \n",
    "    # a run on standard Float64 data types\n",
    "    @time myx64,dbg = pcgV(la, b, F, x, maxits=numIts, verbose=false);\n",
    "    norm(lap(a) * myx64 - b) / norm(b)\n",
    "    insert!(dbg, 1, \"$(numIts) iterations\")\n",
    "    insert!(dbg, 1, \"anorm = sqrt((x-truex)' * la * (x-truex)), err2_a = norm(la*x-b) / norm(b), err2_b = norm(x-truex)\")\n",
    "    writeToFile(graphp * \"_log_julia_tree$(i)_default.txt\", dbg)\n",
    "    \n",
    "    # now useing higer precision data types\n",
    "    for hp in [64,128,1024]\n",
    "        set_bigfloat_precision(hp)\n",
    "        laHP = toHighPrecision(la; precision=hp)\n",
    "        treeHP = toHighPrecision(tree[i]; precision=hp)\n",
    "        xHP = toHighPrecision(x; precision=hp);\n",
    "        bHP = toHighPrecision(b; precision=hp);\n",
    "        FHP = treeSolver(treeHP)\n",
    "\n",
    "        @time myxHP,dbg = pcgV(laHP, bHP, FHP, xHP, maxits=numIts, verbose=true);\n",
    "        insert!(dbg, 1, \"$(numIts) iterations\")\n",
    "        insert!(dbg, 1, \"anorm = sqrt((x-truex)' * la * (x-truex)), err2_a = norm(la*x-b) / norm(b), err2_b = norm(x-truex)\")\n",
    "        writeToFile(graphp * \"_log_julia_tree$(i)_$(hp).txt\", dbg)\n",
    "    end\n",
    "end"
   ]
  },
  {
   "cell_type": "code",
   "execution_count": null,
   "metadata": {
    "collapsed": true
   },
   "outputs": [],
   "source": []
  }
 ],
 "metadata": {
  "kernelspec": {
   "display_name": "Julia 0.4.6",
   "language": "julia",
   "name": "julia-0.4"
  },
  "language_info": {
   "file_extension": ".jl",
   "mimetype": "application/julia",
   "name": "julia",
   "version": "0.4.6"
  }
 },
 "nbformat": 4,
 "nbformat_minor": 0
}
