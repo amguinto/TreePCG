{
 "cells": [
  {
   "cell_type": "code",
   "execution_count": 1,
   "metadata": {
    "collapsed": false
   },
   "outputs": [
    {
     "data": {
      "text/plain": [
       "pcgWorker (generic function with 1 method)"
      ]
     },
     "execution_count": 1,
     "metadata": {},
     "output_type": "execute_result"
    }
   ],
   "source": [
    "include(\"../src/Julia.jl\")"
   ]
  },
  {
   "cell_type": "code",
   "execution_count": 2,
   "metadata": {
    "collapsed": false
   },
   "outputs": [
    {
     "data": {
      "text/plain": [
       "\"/Users/serbanstan/git/TreePCG/julia/testing\""
      ]
     },
     "execution_count": 2,
     "metadata": {},
     "output_type": "execute_result"
    }
   ],
   "source": [
    "pwd()"
   ]
  },
  {
   "cell_type": "code",
   "execution_count": 3,
   "metadata": {
    "collapsed": false
   },
   "outputs": [
    {
     "data": {
      "text/plain": [
       "\"../../graphs/grid3_iu_27000_1/\""
      ]
     },
     "execution_count": 3,
     "metadata": {},
     "output_type": "execute_result"
    }
   ],
   "source": [
    "graphp = \"../../graphs/grid3_iu_27000_1/\""
   ]
  },
  {
   "cell_type": "code",
   "execution_count": 4,
   "metadata": {
    "collapsed": false
   },
   "outputs": [],
   "source": [
    "a = readFromFile(graphp * \"graph.mtx\");"
   ]
  },
  {
   "cell_type": "code",
   "execution_count": 5,
   "metadata": {
    "collapsed": false
   },
   "outputs": [],
   "source": [
    "tree = []\n",
    "for i in 1:5\n",
    "    tr = readFromFile(graphp * \"tree$(i).mtx\");\n",
    "    push!(tree, tr);\n",
    "end"
   ]
  },
  {
   "cell_type": "code",
   "execution_count": 6,
   "metadata": {
    "collapsed": false
   },
   "outputs": [],
   "source": [
    "x = readFromFile(graphp * \"x.vec\");"
   ]
  },
  {
   "cell_type": "code",
   "execution_count": 7,
   "metadata": {
    "collapsed": false
   },
   "outputs": [],
   "source": [
    "la = lap(a);\n",
    "x = x - mean(x)\n",
    "b = la * x; b = b - mean(b);"
   ]
  },
  {
   "cell_type": "code",
   "execution_count": 8,
   "metadata": {
    "collapsed": false
   },
   "outputs": [
    {
     "name": "stdout",
     "output_type": "stream",
     "text": [
      "  0.728843 seconds (535.44 k allocations: 29.664 MB, 0.68% gc time)\n",
      "  0.330518 seconds (539.67 k allocations: 12.913 MB, 1.79% gc time)\n",
      "  8.866985 seconds (86.76 M allocations: 2.193 GB, 4.29% gc time)\n",
      "Working on iteration 10 with a-norm error 27.10654578009891\n",
      "Working on iteration 20 with a-norm error 22.161120310295626\n",
      "Working on iteration 30 with a-norm error 17.97072386910171\n",
      "Working on iteration 40 with a-norm error 15.015583146455878\n",
      "Working on iteration 50 with a-norm error 12.430769534493532\n",
      "Working on iteration 60 with a-norm error 10.368138687506136\n",
      "Working on iteration 70 with a-norm error 8.559805068662799\n",
      "Working on iteration 80 with a-norm error 7.296184430811318\n",
      "Working on iteration 90 with a-norm error 5.989771453404592\n",
      "Working on iteration 100 with a-norm error 4.957643091291368\n",
      "Working on iteration 110 with a-norm error 4.127660737833292\n",
      "Working on iteration 120 with a-norm error 3.5155133249370363\n",
      "Working on iteration 130 with a-norm error 2.8279586492627278\n",
      "Working on iteration 140 with a-norm error 2.3758533076383825\n",
      "Working on iteration 150 with a-norm error 2.041036960801802\n",
      "Working on iteration 160 with a-norm error 1.7280181636497447\n",
      "Working on iteration 170 with a-norm error 1.438557518189004\n",
      "Working on iteration 180 with a-norm error 1.210803761819332\n",
      "Working on iteration 190 with a-norm error 1.0251289323946717\n",
      "Working on iteration 200 with a-norm error 0.8697055796038714\n",
      "PCG stopped after: 200 iterations with relative error 0.8615490446008404.\n",
      "586.024206 seconds (1.27 G allocations: 32.331 GB, 35.60% gc time)\n",
      "Working on iteration 10 with a-norm error 27.10654578009891\n",
      "Working on iteration 20 with a-norm error 22.16112030727663\n",
      "Working on iteration 30 with a-norm error 17.664801454089424\n",
      "Working on iteration 40 with a-norm error 14.067896412309025\n",
      "Working on iteration 50 with a-norm error 11.283603373926287\n",
      "Working on iteration 60 with a-norm error 9.114555876415823\n",
      "Working on iteration 70 with a-norm error 7.1047095778384275\n",
      "Working on iteration 80 with a-norm error 5.5813998340965005\n",
      "Working on iteration 90 with a-norm error 4.414540636624484\n",
      "Working on iteration 100 with a-norm error 3.545661298380902\n",
      "Working on iteration 110 with a-norm error 2.782477938366371\n",
      "Working on iteration 120 with a-norm error 2.1887891087776925\n",
      "Working on iteration 130 with a-norm error 1.7673484073817645\n",
      "Working on iteration 140 with a-norm error 1.3637577297547954\n",
      "Working on iteration 150 with a-norm error 1.1224351237566665\n",
      "Working on iteration 160 with a-norm error 0.9068829603552744\n",
      "Working on iteration 170 with a-norm error 0.7129646198778319\n",
      "Working on iteration 180 with a-norm error 0.5736125086511841\n",
      "Working on iteration 190 with a-norm error 0.4932157661932622\n",
      "Working on iteration 200 with a-norm error 0.37569198878669763\n",
      "PCG stopped after: 200 iterations with relative error 0.36441620933777696.\n",
      "653.656102 seconds (1.27 G allocations: 35.405 GB, 36.78% gc time)\n",
      "Working on iteration 10 with a-norm error 27.10654578009891\n",
      "Working on iteration 20 with a-norm error 22.16112030727663\n",
      "Working on iteration 30 with a-norm error 17.664801454089424\n",
      "Working on iteration 40 with a-norm error 13.728877210948758\n",
      "Working on iteration 50 with a-norm error 10.586827135913056\n",
      "Working on iteration 60 with a-norm error 7.963369092677968\n",
      "Working on iteration 70 with a-norm error 6.0279188192341095\n",
      "Working on iteration 80 with a-norm error 4.66760640233175\n",
      "Working on iteration 90 with a-norm error 3.559196902380057\n",
      "Working on iteration 100 with a-norm error 2.589014036597907\n",
      "Working on iteration 110 with a-norm error 1.934623764186232\n",
      "Working on iteration 120 with a-norm error 1.453306496673977\n",
      "Working on iteration 130 with a-norm error 1.1017571908412307\n",
      "Working on iteration 140 with a-norm error 0.847522448542092\n",
      "Working on iteration 150 with a-norm error 0.6260416657853797\n",
      "Working on iteration 160 with a-norm error 0.45860081287971244\n",
      "Working on iteration 170 with a-norm error 0.3435334512875423\n",
      "Working on iteration 180 with a-norm error 0.25890265914866045\n",
      "Working on iteration 190 with a-norm error 0.20157761479821654\n",
      "Working on iteration 200 with a-norm error 0.1482257407831177\n",
      "PCG stopped after: 200 iterations with relative error 0.1459014997635279.\n",
      "645.619715 seconds (1.27 G allocations: 41.576 GB, 36.09% gc time)\n",
      "Working on iteration 10 with a-norm error 27.10654578009891\n",
      "Working on iteration 20 with a-norm error 22.16112030727663\n",
      "Working on iteration 30 with a-norm error 17.664801454089424\n",
      "Working on iteration 40 with a-norm error 13.728877210948758\n",
      "Working on iteration 50 with a-norm error 10.586827135913056\n",
      "Working on iteration 60 with a-norm error 7.963369092581807\n",
      "Working on iteration 70 with a-norm error 5.849659047924194\n",
      "Working on iteration 80 with a-norm error 4.2435639956469275\n",
      "Working on iteration 90 with a-norm error 3.0046530676361773\n",
      "Working on iteration 100 with a-norm error 2.1172220290194375\n",
      "Working on iteration 110 with a-norm error 1.5396188870789476\n",
      "Working on iteration 120 with a-norm error 1.1014565976961743\n",
      "Working on iteration 130 with a-norm error 0.781629259939727\n",
      "Working on iteration 140 with a-norm error 0.5633026373097633\n",
      "Working on iteration 150 with a-norm error 0.39181882841615195\n",
      "Working on iteration 160 with a-norm error 0.2681613351650804\n",
      "Working on iteration 170 with a-norm error 0.1834869177390124\n",
      "Working on iteration 180 with a-norm error 0.12594300457402327\n",
      "Working on iteration 190 with a-norm error 0.0923955927676177\n",
      "Working on iteration 200 with a-norm error 0.06719339156855893\n",
      "PCG stopped after: 200 iterations with relative error 0.0641840824809286.\n",
      "625.586223 seconds (1.27 G allocations: 53.919 GB, 36.04% gc time)\n",
      "Working on iteration 10 with a-norm error 27.10654578009891\n",
      "Working on iteration 20 with a-norm error 22.16112030727663\n",
      "Working on iteration 30 with a-norm error 17.664801454089424\n",
      "Working on iteration 40 with a-norm error 13.728877210948758\n",
      "Working on iteration 50 with a-norm error 10.586827135913056\n",
      "Working on iteration 60 with a-norm error 7.963369092581807\n",
      "Working on iteration 70 with a-norm error 5.849659047924194\n",
      "Working on iteration 80 with a-norm error 4.2435639956469275\n",
      "Working on iteration 90 with a-norm error 3.0046530676361773\n",
      "Working on iteration 100 with a-norm error 2.1172220290194375\n",
      "Working on iteration 110 with a-norm error 1.4824309970278222\n",
      "Working on iteration 120 with a-norm error 1.0207477709633248\n",
      "Working on iteration 130 with a-norm error 0.6954508871920003\n",
      "Working on iteration 140 with a-norm error 0.46484581527922303\n",
      "Working on iteration 150 with a-norm error 0.30919200747492115\n",
      "Working on iteration 160 with a-norm error 0.20163326950690927\n",
      "Working on iteration 170 with a-norm error 0.1320375626947995\n",
      "Working on iteration 180 with a-norm error 0.08590311043050963\n",
      "Working on iteration 190 with a-norm error 0.05776030249599724\n",
      "Working on iteration 200 with a-norm error 0.038252927244188634\n",
      "PCG stopped after: 200 iterations with relative error 0.03633898533296237.\n",
      "793.352283 seconds (1.27 G allocations: 78.604 GB, 34.22% gc time)\n",
      "  0.219425 seconds (270.15 k allocations: 18.662 MB, 22.31% gc time)\n",
      "  0.034371 seconds (429.39 k allocations: 8.201 MB, 44.66% gc time)\n",
      "  7.858873 seconds (86.32 M allocations: 2.174 GB, 21.26% gc time)\n",
      "Working on iteration 10 with a-norm error 27.846488275196705\n",
      "Working on iteration 20 with a-norm error 24.128241796388973\n",
      "Working on iteration 30 with a-norm error 21.01918671200974\n",
      "Working on iteration 40 with a-norm error 18.123880416036275\n",
      "Working on iteration 50 with a-norm error 15.278875232869327\n",
      "Working on iteration 60 with a-norm error 12.975851177307662\n",
      "Working on iteration 70 with a-norm error 11.307139242265857\n",
      "Working on iteration 80 with a-norm error 9.636042977365198\n",
      "Working on iteration 90 with a-norm error 8.15494906436542\n",
      "Working on iteration 100 with a-norm error 7.128302429822821\n",
      "Working on iteration 110 with a-norm error 5.8496851183304335\n",
      "Working on iteration 120 with a-norm error 5.186131090330989\n",
      "Working on iteration 130 with a-norm error 4.442714495472052\n",
      "Working on iteration 140 with a-norm error 3.7912164392847516\n",
      "Working on iteration 150 with a-norm error 3.2735886092933004\n",
      "Working on iteration 160 with a-norm error 2.824375801559648\n",
      "Working on iteration 170 with a-norm error 2.4607937683056518\n",
      "Working on iteration 180 with a-norm error 2.107515456433432\n",
      "Working on iteration 190 with a-norm error 1.7713960022893036\n",
      "Working on iteration 200 with a-norm error 1.566593371443247\n",
      "PCG stopped after: 200 iterations with relative error 1.5606633897042546.\n",
      "756.849903 seconds (1.27 G allocations: 32.320 GB, 35.92% gc time)\n",
      "Working on iteration 10 with a-norm error 27.846488275196705\n",
      "Working on iteration 20 with a-norm error 23.602527850343634\n",
      "Working on iteration 30 with a-norm error 19.81702780088736\n",
      "Working on iteration 40 with a-norm error 16.05661935858803\n",
      "Working on iteration 50 with a-norm error 13.483677148345123\n",
      "Working on iteration 60 with a-norm error 10.634024423536813\n",
      "Working on iteration 70 with a-norm error 8.9475716989234\n",
      "Working on iteration 80 with a-norm error 6.9992741655817055\n",
      "Working on iteration 90 with a-norm error 5.54384228735667\n",
      "Working on iteration 100 with a-norm error 4.509801069510402\n",
      "Working on iteration 110 with a-norm error 3.805279322137148\n",
      "Working on iteration 120 with a-norm error 2.8951485562456485\n",
      "Working on iteration 130 with a-norm error 2.3848650588189506\n",
      "Working on iteration 140 with a-norm error 1.9700570039567717\n",
      "Working on iteration 150 with a-norm error 1.5596681266295827\n",
      "Working on iteration 160 with a-norm error 1.2379977055727152\n",
      "Working on iteration 170 with a-norm error 1.0305726626141443\n",
      "Working on iteration 180 with a-norm error 0.8369903101217108\n",
      "Working on iteration 190 with a-norm error 0.664968487206682\n",
      "Working on iteration 200 with a-norm error 0.5088510744742876\n",
      "PCG stopped after: 200 iterations with relative error 0.5069403233125129.\n",
      "946.749603 seconds (1.27 G allocations: 35.405 GB, 35.98% gc time)\n",
      "Working on iteration 10 with a-norm error 27.846488275196705\n",
      "Working on iteration 20 with a-norm error 23.602527850343634\n",
      "Working on iteration 30 with a-norm error 19.286699835048644\n",
      "Working on iteration 40 with a-norm error 15.280849833155282\n",
      "Working on iteration 50 with a-norm error 12.024383917147315\n",
      "Working on iteration 60 with a-norm error 9.088627055918911\n",
      "Working on iteration 70 with a-norm error 6.896592713943749\n",
      "Working on iteration 80 with a-norm error 5.455806515202833\n",
      "Working on iteration 90 with a-norm error 4.142950099841377\n",
      "Working on iteration 100 with a-norm error 3.0364062169697905\n",
      "Working on iteration 110 with a-norm error 2.261111660319093\n",
      "Working on iteration 120 with a-norm error 1.6756337856149215\n",
      "Working on iteration 130 with a-norm error 1.1994765842618014\n",
      "Working on iteration 140 with a-norm error 0.9288436925031253\n",
      "Working on iteration 150 with a-norm error 0.684440890128091\n",
      "Working on iteration 160 with a-norm error 0.5414145056083469\n",
      "Working on iteration 170 with a-norm error 0.4120248861743554\n",
      "Working on iteration 180 with a-norm error 0.29333476855966384\n",
      "Working on iteration 190 with a-norm error 0.22371785411543038\n",
      "Working on iteration 200 with a-norm error 0.16643391777605754\n",
      "PCG stopped after: 200 iterations with relative error 0.15896775754006282.\n",
      "567.613735 seconds (1.27 G allocations: 41.577 GB, 35.99% gc time)\n",
      "Working on iteration 10 with a-norm error 27.846488275196705\n",
      "Working on iteration 20 with a-norm error 23.602527850343634\n",
      "Working on iteration 30 with a-norm error 19.286699835048644\n",
      "Working on iteration 40 with a-norm error 15.280849833155282\n",
      "Working on iteration 50 with a-norm error 11.663470989164736\n",
      "Working on iteration 60 with a-norm error 8.5655848026032\n",
      "Working on iteration 70 with a-norm error 6.24924072577268\n",
      "Working on iteration 80 with a-norm error 4.6004202425808325\n",
      "Working on iteration 90 with a-norm error 3.180152427541539\n",
      "Working on iteration 100 with a-norm error 2.2908134767898765\n",
      "Working on iteration 110 with a-norm error 1.5749672559981156\n",
      "Working on iteration 120 with a-norm error 1.1308792835914443\n",
      "Working on iteration 130 with a-norm error 0.7675082021371804\n",
      "Working on iteration 140 with a-norm error 0.5615302289870918\n",
      "Working on iteration 150 with a-norm error 0.37481970417061583\n",
      "Working on iteration 160 with a-norm error 0.24939234179063668\n",
      "Working on iteration 170 with a-norm error 0.1649641962712987\n",
      "Working on iteration 180 with a-norm error 0.11570542392800223\n",
      "Working on iteration 190 with a-norm error 0.08184753263446805\n",
      "Working on iteration 200 with a-norm error 0.055420299428487835\n",
      "PCG stopped after: 200 iterations with relative error 0.05271699853264769.\n",
      "966.564172 seconds (1.27 G allocations: 53.919 GB, 36.52% gc time)\n",
      "Working on iteration 10 with a-norm error 27.846488275196705\n",
      "Working on iteration 20 with a-norm error 23.602527850343634\n",
      "Working on iteration 30 with a-norm error 19.286699835048644\n",
      "Working on iteration 40 with a-norm error 15.280849833155282\n",
      "Working on iteration 50 with a-norm error 11.663470989164736\n",
      "Working on iteration 60 with a-norm error 8.5655848026032\n",
      "Working on iteration 70 with a-norm error 6.24924072577268\n",
      "Working on iteration 80 with a-norm error 4.464343646051282\n",
      "Working on iteration 90 with a-norm error 3.07483533163791\n",
      "Working on iteration 100 with a-norm error 2.1132998209868488\n",
      "Working on iteration 110 with a-norm error 1.3981533057845095\n",
      "Working on iteration 120 with a-norm error 0.9184723579278767\n",
      "Working on iteration 130 with a-norm error 0.5918961308352075\n",
      "Working on iteration 140 with a-norm error 0.39485562523411744\n",
      "Working on iteration 150 with a-norm error 0.2517061073747815\n",
      "Working on iteration 160 with a-norm error 0.1574077049393179\n",
      "Working on iteration 170 with a-norm error 0.10216612365466698\n",
      "Working on iteration 180 with a-norm error 0.0661629578596\n",
      "Working on iteration 190 with a-norm error 0.04205466202335124\n",
      "Working on iteration 200 with a-norm error 0.026812191932713045\n",
      "PCG stopped after: 200 iterations with relative error 0.02539238031948065.\n",
      "461.977922 seconds (1.27 G allocations: 78.604 GB, 33.98% gc time)\n",
      "7038.071300 seconds (12.94 G allocations: 489.074 GB, 35.69% gc time)\n"
     ]
    }
   ],
   "source": [
    "numIts = 200;\n",
    "\n",
    "@time for i in 4:5\n",
    "    @time F = treeSolver(tree[i])\n",
    "    @time F(b);\n",
    "    \n",
    "    # a run on standard Float64 data types\n",
    "    @time myx64,dbg = pcgV(la, b, F, x, maxits=numIts, verbose=false);\n",
    "    norm(lap(a) * myx64 - b) / norm(b)\n",
    "    insert!(dbg, 1, \"$(numIts) iterations\")\n",
    "    insert!(dbg, 1, \"anorm = sqrt((x-truex)' * la * (x-truex)), err2_a = norm(la*x-b) / norm(b), err2_b = norm(x-truex)\")\n",
    "    writeToFile(graphp * \"_log_julia_tree$(i)_default.txt\", dbg)\n",
    "    \n",
    "    # now useing higer precision data types\n",
    "    for hp in [64,128,256,512,1024]\n",
    "        set_bigfloat_precision(hp)\n",
    "        laHP = toHighPrecision(la; precision=hp)\n",
    "        treeHP = toHighPrecision(tree[i]; precision=hp)\n",
    "        xHP = toHighPrecision(x; precision=hp);\n",
    "        bHP = toHighPrecision(b; precision=hp);\n",
    "        FHP = treeSolver(treeHP)\n",
    "\n",
    "        @time myxHP,dbg = pcgV(laHP, bHP, FHP, xHP, maxits=numIts, verbose=true);\n",
    "        insert!(dbg, 1, \"$(numIts) iterations\")\n",
    "        insert!(dbg, 1, \"anorm = sqrt((x-truex)' * la * (x-truex)), err2_a = norm(la*x-b) / norm(b), err2_b = norm(x-truex)\")\n",
    "        writeToFile(graphp * \"_log_julia_tree$(i)_$(hp).txt\", dbg)\n",
    "    end\n",
    "end"
   ]
  },
  {
   "cell_type": "code",
   "execution_count": null,
   "metadata": {
    "collapsed": true
   },
   "outputs": [],
   "source": []
  }
 ],
 "metadata": {
  "anaconda-cloud": {},
  "kernelspec": {
   "display_name": "Julia 0.4.6",
   "language": "julia",
   "name": "julia-0.4"
  },
  "language_info": {
   "file_extension": ".jl",
   "mimetype": "application/julia",
   "name": "julia",
   "version": "0.4.6"
  }
 },
 "nbformat": 4,
 "nbformat_minor": 0
}
