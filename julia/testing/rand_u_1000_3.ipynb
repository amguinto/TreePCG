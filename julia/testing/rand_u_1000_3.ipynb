{
 "cells": [
  {
   "cell_type": "code",
   "execution_count": 1,
   "metadata": {
    "collapsed": false
   },
   "outputs": [
    {
     "data": {
      "text/plain": [
       "pcgWorker (generic function with 1 method)"
      ]
     },
     "execution_count": 1,
     "metadata": {},
     "output_type": "execute_result"
    }
   ],
   "source": [
    "include(\"../src/Julia.jl\")"
   ]
  },
  {
   "cell_type": "code",
   "execution_count": 2,
   "metadata": {
    "collapsed": false
   },
   "outputs": [
    {
     "data": {
      "text/plain": [
       "\"/Users/serbanstan/git/TreePCG/julia/testing\""
      ]
     },
     "execution_count": 2,
     "metadata": {},
     "output_type": "execute_result"
    }
   ],
   "source": [
    "pwd()"
   ]
  },
  {
   "cell_type": "code",
   "execution_count": 3,
   "metadata": {
    "collapsed": false
   },
   "outputs": [
    {
     "data": {
      "text/plain": [
       "\"../../graphs/rand_u_1000_3/\""
      ]
     },
     "execution_count": 3,
     "metadata": {},
     "output_type": "execute_result"
    }
   ],
   "source": [
    "graphp = \"../../graphs/rand_u_1000_3/\""
   ]
  },
  {
   "cell_type": "code",
   "execution_count": 4,
   "metadata": {
    "collapsed": false
   },
   "outputs": [],
   "source": [
    "a = readFromFile(graphp * \"graph.mtx\");"
   ]
  },
  {
   "cell_type": "code",
   "execution_count": 12,
   "metadata": {
    "collapsed": false
   },
   "outputs": [],
   "source": [
    "tree = []\n",
    "for i in 1:5\n",
    "    tr = readFromFile(graphp * \"tree$(i).mtx\");\n",
    "    push!(tree, tr);\n",
    "end"
   ]
  },
  {
   "cell_type": "code",
   "execution_count": 13,
   "metadata": {
    "collapsed": false
   },
   "outputs": [],
   "source": [
    "x = readFromFile(graphp * \"x.vec\");"
   ]
  },
  {
   "cell_type": "code",
   "execution_count": 14,
   "metadata": {
    "collapsed": false
   },
   "outputs": [],
   "source": [
    "la = lap(a);\n",
    "x = x - mean(x)\n",
    "b = la * x; b = b - mean(b);"
   ]
  },
  {
   "cell_type": "code",
   "execution_count": 15,
   "metadata": {
    "collapsed": false
   },
   "outputs": [
    {
     "name": "stdout",
     "output_type": "stream",
     "text": [
      "  0.309238 seconds (275.40 k allocations: 11.699 MB, 2.51% gc time)\n",
      "  0.160966 seconds (123.31 k allocations: 4.950 MB)\n",
      "  0.783404 seconds (3.17 M allocations: 95.413 MB, 3.07% gc time)\n",
      "Working on iteration 10 with a-norm error 1595.982596632244\n",
      "Working on iteration 20 with a-norm error 726.3371015700478\n",
      "Working on iteration 30 with a-norm error 266.24248960026193\n",
      "Working on iteration 40 with a-norm error 102.43142009315562\n",
      "Working on iteration 50 with a-norm error 45.922040250990975\n",
      "Working on iteration 60 with a-norm error 20.430403891409647\n",
      "Working on iteration 70 with a-norm error 7.974305870023791\n",
      "Working on iteration 80 with a-norm error 3.412132342311741\n",
      "Working on iteration 90 with a-norm error 1.3520848065141846\n",
      "Working on iteration 100 with a-norm error 0.5739865942397264\n",
      "Working on iteration 110 with a-norm error 0.2706449105339926\n",
      "Working on iteration 120 with a-norm error 0.10432898533530598\n",
      "Working on iteration 130 with a-norm error 0.039288971043797395\n",
      "Working on iteration 140 with a-norm error 0.013069138444954007\n",
      "Working on iteration 150 with a-norm error 0.005476931472673254\n",
      "Working on iteration 160 with a-norm error 0.0023062291409167994\n",
      "Working on iteration 170 with a-norm error 0.0009908288444742959\n",
      "Working on iteration 180 with a-norm error 0.00040394461249200166\n",
      "Working on iteration 190 with a-norm error 0.00017367961797829537\n",
      "Working on iteration 200 with a-norm error 7.284813239595217e-5\n",
      "PCG stopped after: 200 iterations with relative error 6.6646655971137e-5.\n",
      " 27.541382 seconds (99.29 M allocations: 2.501 GB, 24.97% gc time)\n",
      "Working on iteration 10 with a-norm error 1595.982596632244\n",
      "Working on iteration 20 with a-norm error 726.3371015700478\n",
      "Working on iteration 30 with a-norm error 241.61254582589117\n",
      "Working on iteration 40 with a-norm error 67.04795643635073\n",
      "Working on iteration 50 with a-norm error 24.27987526514735\n",
      "Working on iteration 60 with a-norm error 10.629791307961007\n",
      "Working on iteration 70 with a-norm error 3.5986642375972875\n",
      "Working on iteration 80 with a-norm error 1.0932622284081708\n",
      "Working on iteration 90 with a-norm error 0.3868119559709846\n",
      "Working on iteration 100 with a-norm error 0.127732657659152\n",
      "Working on iteration 110 with a-norm error 0.037075810777526655\n",
      "Working on iteration 120 with a-norm error 0.010937950562993692\n",
      "Working on iteration 130 with a-norm error 0.0030761859076907606\n",
      "Working on iteration 140 with a-norm error 0.0012520823191725446\n",
      "Working on iteration 150 with a-norm error 0.0003896160427447227\n",
      "Working on iteration 160 with a-norm error 0.0001182524972771559\n",
      "Working on iteration 170 with a-norm error 2.6096784157837e-5\n",
      "Working on iteration 180 with a-norm error 7.698423089982631e-6\n",
      "Working on iteration 190 with a-norm error 2.6329444824481325e-6\n",
      "Working on iteration 200 with a-norm error 8.219373703704214e-7\n",
      "PCG stopped after: 200 iterations with relative error 7.486586802511757e-7.\n",
      " 58.399040 seconds (99.02 M allocations: 2.733 GB, 26.39% gc time)\n",
      "Working on iteration 10 with a-norm error 1595.982596632244\n",
      "Working on iteration 20 with a-norm error 726.3371015700478\n",
      "Working on iteration 30 with a-norm error 241.61254582589117\n",
      "Working on iteration 40 with a-norm error 67.04795643610932\n",
      "Working on iteration 50 with a-norm error 19.25353454947176\n",
      "Working on iteration 60 with a-norm error 5.182345080190023\n",
      "Working on iteration 70 with a-norm error 1.413765084408952\n",
      "Working on iteration 80 with a-norm error 0.4559165080188275\n",
      "Working on iteration 90 with a-norm error 0.15377558773517602\n",
      "Working on iteration 100 with a-norm error 0.04029770725996707\n",
      "Working on iteration 110 with a-norm error 0.007827797945545337\n",
      "Working on iteration 120 with a-norm error 0.0017628809194127893\n",
      "Working on iteration 130 with a-norm error 0.00042174876685781634\n",
      "Working on iteration 140 with a-norm error 8.498184067901337e-5\n",
      "Working on iteration 150 with a-norm error 1.6566022104321923e-5\n",
      "Working on iteration 160 with a-norm error 3.5233703624750596e-6\n",
      "Working on iteration 170 with a-norm error 8.052388458983253e-7\n",
      "Working on iteration 180 with a-norm error 1.4406885576630205e-7\n",
      "Working on iteration 190 with a-norm error 3.069362953978331e-8\n",
      "Working on iteration 200 with a-norm error 7.139890182217296e-9\n",
      "PCG stopped after: 200 iterations with relative error 5.861254304738961e-9.\n",
      " 42.311239 seconds (99.02 M allocations: 3.222 GB, 27.65% gc time)\n",
      "Working on iteration 10 with a-norm error 1595.982596632244\n",
      "Working on iteration 20 with a-norm error 726.3371015700478\n",
      "Working on iteration 30 with a-norm error 241.61254582589117\n",
      "Working on iteration 40 with a-norm error 67.04795643610932\n",
      "Working on iteration 50 with a-norm error 19.25353454947176\n",
      "Working on iteration 60 with a-norm error 5.182345080190023\n",
      "Working on iteration 70 with a-norm error 1.245537306309188\n",
      "Working on iteration 80 with a-norm error 0.29920266753761765\n",
      "Working on iteration 90 with a-norm error 0.06366214915861879\n",
      "Working on iteration 100 with a-norm error 0.010194808497484277\n",
      "Working on iteration 110 with a-norm error 0.00195844271775053\n",
      "Working on iteration 120 with a-norm error 0.00039101335284690773\n",
      "Working on iteration 130 with a-norm error 9.62398276452497e-5\n",
      "Working on iteration 140 with a-norm error 1.5621532070742674e-5\n",
      "Working on iteration 150 with a-norm error 2.159622794411566e-6\n",
      "Working on iteration 160 with a-norm error 3.601541386048791e-7\n",
      "Working on iteration 170 with a-norm error 5.405224491164436e-8\n",
      "Working on iteration 180 with a-norm error 6.728240502710702e-9\n",
      "Working on iteration 190 with a-norm error 8.561655777873486e-10\n",
      "Working on iteration 200 with a-norm error 8.50544581678102e-11\n",
      "PCG stopped after: 200 iterations with relative error 6.584129167696183e-11.\n",
      " 49.600945 seconds (99.02 M allocations: 4.198 GB, 26.23% gc time)\n",
      "Working on iteration 10 with a-norm error 1595.982596632244\n",
      "Working on iteration 20 with a-norm error 726.3371015700478\n",
      "Working on iteration 30 with a-norm error 241.61254582589117\n",
      "Working on iteration 40 with a-norm error 67.04795643610932\n",
      "Working on iteration 50 with a-norm error 19.25353454947176\n",
      "Working on iteration 60 with a-norm error 5.182345080190023\n",
      "Working on iteration 70 with a-norm error 1.245537306309188\n",
      "Working on iteration 80 with a-norm error 0.29920266753761765\n",
      "Working on iteration 90 with a-norm error 0.06366214915861879\n",
      "Working on iteration 100 with a-norm error 0.010194808497484277\n",
      "Working on iteration 110 with a-norm error 0.00195844271775053\n",
      "Working on iteration 120 with a-norm error 0.0003273269487080008\n",
      "Working on iteration 130 with a-norm error 4.159558332427014e-5\n",
      "Working on iteration 140 with a-norm error 4.461425063072839e-6\n",
      "Working on iteration 150 with a-norm error 5.890772238854752e-7\n",
      "Working on iteration 160 with a-norm error 7.15094764042169e-8\n",
      "Working on iteration 170 with a-norm error 7.369488196194999e-9\n",
      "Working on iteration 180 with a-norm error 7.49110495527783e-10\n",
      "Working on iteration 190 with a-norm error 7.292150105758701e-11\n",
      "Working on iteration 200 with a-norm error 6.907936929101199e-12\n",
      "PCG stopped after: 200 iterations with relative error 5.363149456456842e-12.\n",
      " 53.907028 seconds (99.02 M allocations: 6.151 GB, 27.38% gc time)\n",
      "  0.011563 seconds (10.11 k allocations: 710.969 KB)\n",
      "  0.001051 seconds (13.39 k allocations: 272.906 KB)\n",
      "  0.686255 seconds (2.70 M allocations: 75.334 MB, 8.09% gc time)\n",
      "Working on iteration 10 with a-norm error 2643.0903644375126\n",
      "Working on iteration 20 with a-norm error 1580.2366437709293\n",
      "Working on iteration 30 with a-norm error 982.8716085631505\n",
      "Working on iteration 40 with a-norm error 461.06382129192104\n",
      "Working on iteration 50 with a-norm error 260.50860871889455\n",
      "Working on iteration 60 with a-norm error 119.8926829981757\n",
      "Working on iteration 70 with a-norm error 61.8206167553324\n",
      "Working on iteration 80 with a-norm error 33.837914339110085\n",
      "Working on iteration 90 with a-norm error 17.458893709993742\n",
      "Working on iteration 100 with a-norm error 7.845116924616796\n",
      "Working on iteration 110 with a-norm error 3.8867546547385996\n",
      "Working on iteration 120 with a-norm error 2.0735121894152924\n",
      "Working on iteration 130 with a-norm error 0.8176221230049906\n",
      "Working on iteration 140 with a-norm error 0.4680754548711458\n",
      "Working on iteration 150 with a-norm error 0.24033360659732655\n",
      "Working on iteration 160 with a-norm error 0.1244782617190738\n",
      "Working on iteration 170 with a-norm error 0.06882434265375859\n",
      "Working on iteration 180 with a-norm error 0.033944669399286455\n",
      "Working on iteration 190 with a-norm error 0.016397042798757682\n",
      "Working on iteration 200 with a-norm error 0.008951254623872364\n",
      "PCG stopped after: 200 iterations with relative error 0.008817905816869974.\n",
      " 39.024363 seconds (99.01 M allocations: 2.489 GB, 27.85% gc time)\n",
      "Working on iteration 10 with a-norm error 2643.0903644375126\n",
      "Working on iteration 20 with a-norm error 1448.895470670146\n",
      "Working on iteration 30 with a-norm error 701.8947491427148\n",
      "Working on iteration 40 with a-norm error 306.0873247166893\n",
      "Working on iteration 50 with a-norm error 126.80529524168874\n",
      "Working on iteration 60 with a-norm error 46.00857933035569\n",
      "Working on iteration 70 with a-norm error 21.04165717527935\n",
      "Working on iteration 80 with a-norm error 5.759833721338419\n",
      "Working on iteration 90 with a-norm error 2.317211053481427\n",
      "Working on iteration 100 with a-norm error 0.9927916786243345\n",
      "Working on iteration 110 with a-norm error 0.3440221074273551\n",
      "Working on iteration 120 with a-norm error 0.11501465244274152\n",
      "Working on iteration 130 with a-norm error 0.05060590341713024\n",
      "Working on iteration 140 with a-norm error 0.015669925509374193\n",
      "Working on iteration 150 with a-norm error 0.006382686857544049\n",
      "Working on iteration 160 with a-norm error 0.0023855869883663413\n",
      "Working on iteration 170 with a-norm error 0.0006278309352500934\n",
      "Working on iteration 180 with a-norm error 0.00027881123481403476\n",
      "Working on iteration 190 with a-norm error 7.430947383155014e-5\n",
      "Working on iteration 200 with a-norm error 3.0187669460277237e-5\n",
      "PCG stopped after: 200 iterations with relative error 2.394446596863987e-5.\n",
      " 41.656642 seconds (99.01 M allocations: 2.733 GB, 28.40% gc time)\n",
      "Working on iteration 10 with a-norm error 2643.0903644375126\n",
      "Working on iteration 20 with a-norm error 1448.895470670146\n",
      "Working on iteration 30 with a-norm error 640.8772862989423\n",
      "Working on iteration 40 with a-norm error 226.353235445608\n",
      "Working on iteration 50 with a-norm error 76.76265967022245\n",
      "Working on iteration 60 with a-norm error 26.65753176972482\n",
      "Working on iteration 70 with a-norm error 6.0635225982712395\n",
      "Working on iteration 80 with a-norm error 1.6367046083425012\n",
      "Working on iteration 90 with a-norm error 0.4057014581492536\n",
      "Working on iteration 100 with a-norm error 0.11021211610475833\n",
      "Working on iteration 110 with a-norm error 0.032371030272848586\n",
      "Working on iteration 120 with a-norm error 0.00564919180641053\n",
      "Working on iteration 130 with a-norm error 0.001178797993097305\n",
      "Working on iteration 140 with a-norm error 0.0002537657472102924\n",
      "Working on iteration 150 with a-norm error 6.143152705355003e-5\n",
      "Working on iteration 160 with a-norm error 1.2775192625879107e-5\n",
      "Working on iteration 170 with a-norm error 3.2724820250170295e-6\n",
      "Working on iteration 180 with a-norm error 5.509364793525164e-7\n",
      "Working on iteration 190 with a-norm error 1.5676393303830588e-7\n",
      "Working on iteration 200 with a-norm error 3.5162325813307585e-8\n",
      "PCG stopped after: 200 iterations with relative error 3.1891928870380863e-8.\n",
      " 48.078699 seconds (99.01 M allocations: 3.222 GB, 28.12% gc time)\n",
      "Working on iteration 10 with a-norm error 2643.0903644375126\n",
      "Working on iteration 20 with a-norm error 1448.895470670146\n",
      "Working on iteration 30 with a-norm error 640.8772862989423\n",
      "Working on iteration 40 with a-norm error 226.35323544552554\n",
      "Working on iteration 50 with a-norm error 67.60116465732197\n",
      "Working on iteration 60 with a-norm error 17.082459985121126\n",
      "Working on iteration 70 with a-norm error 3.1631660461267557\n",
      "Working on iteration 80 with a-norm error 0.7135684415060911\n",
      "Working on iteration 90 with a-norm error 0.11552549616281906\n",
      "Working on iteration 100 with a-norm error 0.027090046322223556\n",
      "Working on iteration 110 with a-norm error 0.0029404053372750756\n",
      "Working on iteration 120 with a-norm error 0.000369213906316846\n",
      "Working on iteration 130 with a-norm error 6.773640217254803e-5\n",
      "Working on iteration 140 with a-norm error 5.679426760921308e-6\n",
      "Working on iteration 150 with a-norm error 7.693706191176706e-7\n",
      "Working on iteration 160 with a-norm error 9.912629936517551e-8\n",
      "Working on iteration 170 with a-norm error 1.9220272046761116e-8\n",
      "Working on iteration 180 with a-norm error 2.191267444792199e-9\n",
      "Working on iteration 190 with a-norm error 2.615844145795176e-10\n",
      "Working on iteration 200 with a-norm error 1.3602836446951084e-11\n",
      "PCG stopped after: 200 iterations with relative error 1.2676001114250871e-11.\n",
      " 60.379888 seconds (99.01 M allocations: 4.198 GB, 26.79% gc time)\n",
      "Working on iteration 10 with a-norm error 2643.0903644375126\n",
      "Working on iteration 20 with a-norm error 1448.895470670146\n",
      "Working on iteration 30 with a-norm error 640.8772862989423\n",
      "Working on iteration 40 with a-norm error 226.35323544552554\n",
      "Working on iteration 50 with a-norm error 67.60116465732197\n",
      "Working on iteration 60 with a-norm error 17.082459985121126\n",
      "Working on iteration 70 with a-norm error 3.163166046123061\n",
      "Working on iteration 80 with a-norm error 0.5959574356909576\n",
      "Working on iteration 90 with a-norm error 0.09390760970225494\n",
      "Working on iteration 100 with a-norm error 0.011792097356045876\n",
      "Working on iteration 110 with a-norm error 0.0012427200478360063\n",
      "Working on iteration 120 with a-norm error 0.00011319291537843238\n",
      "Working on iteration 130 with a-norm error 1.2062720444312529e-5\n",
      "Working on iteration 140 with a-norm error 1.0007271848881466e-6\n",
      "Working on iteration 150 with a-norm error 7.338682565694394e-8\n",
      "Working on iteration 160 with a-norm error 8.338294514766032e-9\n",
      "Working on iteration 170 with a-norm error 5.406393867841672e-10\n",
      "Working on iteration 180 with a-norm error 2.1139849612674004e-11\n",
      "Working on iteration 190 with a-norm error 1.189679434503589e-12\n",
      "Working on iteration 200 with a-norm error 5.636323020418789e-13\n",
      "PCG stopped after: 200 iterations with relative error 5.619604904117347e-13.\n",
      " 70.128448 seconds (99.01 M allocations: 6.151 GB, 28.68% gc time)\n"
     ]
    }
   ],
   "source": [
    "numIts = 200;\n",
    "\n",
    "for i in 4:5\n",
    "    @time F = treeSolver(tree[i])\n",
    "    @time F(b);\n",
    "    \n",
    "    # a run on standard Float64 data types\n",
    "    @time myx64,dbg = pcgV(la, b, F, x, maxits=numIts, verbose=false);\n",
    "    norm(lap(a) * myx64 - b) / norm(b)\n",
    "    insert!(dbg, 1, \"$(numIts) iterations\")\n",
    "    insert!(dbg, 1, \"anorm = sqrt((x-truex)' * la * (x-truex)), err2_a = norm(la*x-b) / norm(b), err2_b = norm(x-truex)\")\n",
    "    writeToFile(graphp * \"_log_julia_tree$(i)_default.txt\", dbg)\n",
    "    \n",
    "    # now useing higer precision data types\n",
    "    for hp in [64,128,256,512,1024]\n",
    "        set_bigfloat_precision(hp)\n",
    "        laHP = toHighPrecision(la; precision=hp)\n",
    "        treeHP = toHighPrecision(tree[i]; precision=hp)\n",
    "        xHP = toHighPrecision(x; precision=hp);\n",
    "        bHP = toHighPrecision(b; precision=hp);\n",
    "        FHP = treeSolver(treeHP)\n",
    "\n",
    "        @time myxHP,dbg = pcgV(laHP, bHP, FHP, xHP, maxits=numIts, verbose=true);\n",
    "        insert!(dbg, 1, \"$(numIts) iterations\")\n",
    "        insert!(dbg, 1, \"anorm = sqrt((x-truex)' * la * (x-truex)), err2_a = norm(la*x-b) / norm(b), err2_b = norm(x-truex)\")\n",
    "        writeToFile(graphp * \"_log_julia_tree$(i)_$(hp).txt\", dbg)\n",
    "    end\n",
    "end"
   ]
  },
  {
   "cell_type": "code",
   "execution_count": null,
   "metadata": {
    "collapsed": true
   },
   "outputs": [],
   "source": []
  }
 ],
 "metadata": {
  "anaconda-cloud": {},
  "kernelspec": {
   "display_name": "Julia 0.4.6",
   "language": "julia",
   "name": "julia-0.4"
  },
  "language_info": {
   "file_extension": ".jl",
   "mimetype": "application/julia",
   "name": "julia",
   "version": "0.4.6"
  }
 },
 "nbformat": 4,
 "nbformat_minor": 0
}
