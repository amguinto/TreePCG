{
 "cells": [
  {
   "cell_type": "code",
   "execution_count": 1,
   "metadata": {
    "collapsed": false
   },
   "outputs": [
    {
     "name": "stderr",
     "output_type": "stream",
     "text": [
      "objc[18709]: Class TKApplication is implemented in both /Users/serbanstan/anaconda/lib/libtk8.5.dylib and /System/Library/Frameworks/Tk.framework/Versions/8.5/Tk. One of the two will be used. Which one is undefined.\n",
      "objc[18709]: Class TKMenu is implemented in both /Users/serbanstan/anaconda/lib/libtk8.5.dylib and /System/Library/Frameworks/Tk.framework/Versions/8.5/Tk. One of the two will be used. Which one is undefined.\n",
      "objc[18709]: Class TKContentView is implemented in both /Users/serbanstan/anaconda/lib/libtk8.5.dylib and /System/Library/Frameworks/Tk.framework/Versions/8.5/Tk. One of the two will be used. Which one is undefined.\n",
      "objc[18709]: Class TKWindow is implemented in both /Users/serbanstan/anaconda/lib/libtk8.5.dylib and /System/Library/Frameworks/Tk.framework/Versions/8.5/Tk. One of the two will be used. Which one is undefined.\n"
     ]
    }
   ],
   "source": [
    "using Laplacians"
   ]
  },
  {
   "cell_type": "code",
   "execution_count": 2,
   "metadata": {
    "collapsed": false
   },
   "outputs": [
    {
     "data": {
      "text/plain": [
       "pcgWorker (generic function with 1 method)"
      ]
     },
     "execution_count": 2,
     "metadata": {},
     "output_type": "execute_result"
    }
   ],
   "source": [
    "include(\"treeSolver.jl\")\n",
    "include(\"IO.jl\")\n",
    "include(\"generators.jl\")\n",
    "include(\"toHighPrecision.jl\")\n",
    "include(\"verbosePCG.jl\")"
   ]
  },
  {
   "cell_type": "code",
   "execution_count": 3,
   "metadata": {
    "collapsed": false
   },
   "outputs": [
    {
     "data": {
      "text/plain": [
       "\"/Users/serbanstan/git/TreePCG/julia\""
      ]
     },
     "execution_count": 3,
     "metadata": {},
     "output_type": "execute_result"
    }
   ],
   "source": [
    "pwd()"
   ]
  },
  {
   "cell_type": "code",
   "execution_count": 4,
   "metadata": {
    "collapsed": false
   },
   "outputs": [
    {
     "data": {
      "text/plain": [
       "\"../graphs/se_2/\""
      ]
     },
     "execution_count": 4,
     "metadata": {},
     "output_type": "execute_result"
    }
   ],
   "source": [
    "graphp = \"../graphs/se_2/\""
   ]
  },
  {
   "cell_type": "code",
   "execution_count": 5,
   "metadata": {
    "collapsed": false
   },
   "outputs": [],
   "source": [
    "a = readFromFile(graphp * \"graph.mtx\");"
   ]
  },
  {
   "cell_type": "code",
   "execution_count": 6,
   "metadata": {
    "collapsed": false
   },
   "outputs": [],
   "source": [
    "tree = readFromFile(graphp * \"tree.mtx\");"
   ]
  },
  {
   "cell_type": "code",
   "execution_count": 7,
   "metadata": {
    "collapsed": false
   },
   "outputs": [],
   "source": [
    "x = readFromFile(graphp * \"x.vec\");"
   ]
  },
  {
   "cell_type": "code",
   "execution_count": 8,
   "metadata": {
    "collapsed": false
   },
   "outputs": [],
   "source": [
    "la = lap(a);\n",
    "x = x - mean(x)\n",
    "b = la * x; b = b - mean(b);"
   ]
  },
  {
   "cell_type": "code",
   "execution_count": 9,
   "metadata": {
    "collapsed": false
   },
   "outputs": [
    {
     "name": "stdout",
     "output_type": "stream",
     "text": [
      "  0.429205 seconds (281.03 k allocations: 11.707 MB, 2.01% gc time)\n",
      "  0.205105 seconds (118.54 k allocations: 5.064 MB)\n"
     ]
    }
   ],
   "source": [
    "@time F = treeSolver(tree)\n",
    "@time F(b);"
   ]
  },
  {
   "cell_type": "code",
   "execution_count": 10,
   "metadata": {
    "collapsed": false
   },
   "outputs": [
    {
     "name": "stdout",
     "output_type": "stream",
     "text": [
      "  1.000697 seconds (966.30 k allocations: 38.698 MB, 1.60% gc time)\n"
     ]
    }
   ],
   "source": [
    "# a run on standard Float64 data types\n",
    "numIts = 1000;\n",
    "@time myx64,dbg = pcgV(la, b, F, x, maxits=numIts, verbose=false);\n",
    "norm(lap(a) * myx64 - b) / norm(b)\n",
    "insert!(dbg, 1, \"$(numIts) iterations\")\n",
    "insert!(dbg, 1, \"anorm = sqrt((x-truex)' * la * (x-truex)), err2_a = norm(la*x-b) / norm(b), err2_b = norm(x-truex)\")\n",
    "writeToFile(graphp * \"_log_julia_default.txt\", dbg)"
   ]
  },
  {
   "cell_type": "code",
   "execution_count": 11,
   "metadata": {
    "collapsed": false
   },
   "outputs": [
    {
     "name": "stdout",
     "output_type": "stream",
     "text": [
      "Working on iteration 10 with a-norm error 7.49564838471667\n",
      "Working on iteration 20 with a-norm error 1.833961910450398e-5\n",
      "Working on iteration 30 with a-norm error 1.9972988741371817e-9\n",
      "Working on iteration 40 with a-norm error 1.997291945867776e-9\n",
      "Working on iteration 50 with a-norm error 1.9972184896757584e-9\n",
      "Working on iteration 60 with a-norm error 1.9972168720828467e-9\n",
      "Working on iteration 70 with a-norm error 1.9972167978926867e-9\n",
      "Working on iteration 80 with a-norm error 1.997216793153102e-9\n",
      "Working on iteration 90 with a-norm error 1.9972167935909828e-9\n",
      "Working on iteration 100 with a-norm error 1.997216793872611e-9\n",
      "Working on iteration 110 with a-norm error 1.9972167941559914e-9\n",
      "Working on iteration 120 with a-norm error 1.9972167948051255e-9\n",
      "Working on iteration 130 with a-norm error 1.9972167962070527e-9\n",
      "Working on iteration 140 with a-norm error 1.99721679821978e-9\n",
      "Working on iteration 150 with a-norm error 1.9972168156918094e-9\n",
      "Working on iteration 160 with a-norm error 1.9972168267817967e-9\n",
      "Working on iteration 170 with a-norm error 1.9972168277306354e-9\n",
      "Working on iteration 180 with a-norm error 1.997216832495882e-9\n",
      "Working on iteration 190 with a-norm error 1.9972168357760955e-9\n",
      "Working on iteration 200 with a-norm error 1.9972168395051833e-9\n",
      "Working on iteration 210 with a-norm error 1.9972168512555622e-9\n",
      "Working on iteration 220 with a-norm error 1.9972168567844275e-9\n",
      "Working on iteration 230 with a-norm error 1.9972168573980243e-9\n",
      "Working on iteration 240 with a-norm error 1.997216859133561e-9\n",
      "Working on iteration 250 with a-norm error 1.9972168601281182e-9\n",
      "Working on iteration 260 with a-norm error 1.9972168607338717e-9\n",
      "Working on iteration 270 with a-norm error 1.9972168650271988e-9\n",
      "Working on iteration 280 with a-norm error 1.9972168660766304e-9\n",
      "Working on iteration 290 with a-norm error 1.997216875053677e-9\n",
      "Working on iteration 300 with a-norm error 1.9972168816488634e-9\n",
      "Working on iteration 310 with a-norm error 1.9972168840107345e-9\n",
      "Working on iteration 320 with a-norm error 1.9972168855609095e-9\n",
      "Working on iteration 330 with a-norm error 1.997216887517206e-9\n",
      "Working on iteration 340 with a-norm error 1.997216887619892e-9\n",
      "Working on iteration 350 with a-norm error 1.9972168876196143e-9\n",
      "Working on iteration 360 with a-norm error 1.997216887619047e-9\n",
      "Working on iteration 370 with a-norm error 1.9972168876141876e-9\n",
      "Working on iteration 380 with a-norm error 1.9972168876138427e-9\n",
      "Working on iteration 390 with a-norm error 1.997216887612927e-9\n",
      "Working on iteration 400 with a-norm error 1.9972168876092944e-9\n",
      "Working on iteration 410 with a-norm error 1.997216887579022e-9\n",
      "Working on iteration 420 with a-norm error 1.9972168875363727e-9\n",
      "Working on iteration 430 with a-norm error 1.997216887491881e-9\n",
      "Working on iteration 440 with a-norm error 1.9972168874759943e-9\n",
      "Working on iteration 450 with a-norm error 1.9972168874760873e-9\n",
      "Working on iteration 460 with a-norm error 1.9972168874760733e-9\n",
      "Working on iteration 470 with a-norm error 1.9972168874760675e-9\n",
      "Working on iteration 480 with a-norm error 1.997216887476239e-9\n",
      "Working on iteration 490 with a-norm error 1.99721688747614e-9\n",
      "Working on iteration 500 with a-norm error 1.997216887476056e-9\n",
      "Working on iteration 510 with a-norm error 1.997216887453281e-9\n",
      "Working on iteration 520 with a-norm error 1.997216887344489e-9\n",
      "Working on iteration 530 with a-norm error 1.997216887153857e-9\n",
      "Working on iteration 540 with a-norm error 1.99721688695028e-9\n",
      "Working on iteration 550 with a-norm error 1.997216886658443e-9\n",
      "Working on iteration 560 with a-norm error 1.9972168863875863e-9\n",
      "Working on iteration 570 with a-norm error 1.9972168860714226e-9\n",
      "Working on iteration 580 with a-norm error 1.997216885733095e-9\n",
      "Working on iteration 590 with a-norm error 1.9972168854363567e-9\n",
      "Working on iteration 600 with a-norm error 1.9972168851898987e-9\n",
      "Working on iteration 610 with a-norm error 1.9972168849908935e-9\n",
      "Working on iteration 620 with a-norm error 1.997216884794974e-9\n",
      "Working on iteration 630 with a-norm error 1.997216884504758e-9\n",
      "Working on iteration 640 with a-norm error 1.9972168841465543e-9\n",
      "Working on iteration 650 with a-norm error 1.997216883788718e-9\n",
      "Working on iteration 660 with a-norm error 1.9972168834678216e-9\n",
      "Working on iteration 670 with a-norm error 1.9972168832633065e-9\n",
      "Working on iteration 680 with a-norm error 1.997216883067159e-9\n",
      "Working on iteration 690 with a-norm error 1.997216882867256e-9\n",
      "Working on iteration 700 with a-norm error 1.9972168826249096e-9\n",
      "Working on iteration 710 with a-norm error 1.9972168821377176e-9\n",
      "Working on iteration 720 with a-norm error 1.9972168811559394e-9\n",
      "Working on iteration 730 with a-norm error 1.997216879459592e-9\n",
      "Working on iteration 740 with a-norm error 1.997216876397438e-9\n",
      "Working on iteration 750 with a-norm error 1.9972168725892914e-9\n",
      "Working on iteration 760 with a-norm error 1.9972168686831584e-9\n",
      "Working on iteration 770 with a-norm error 1.9972168655260255e-9\n",
      "Working on iteration 780 with a-norm error 1.997216863728878e-9\n",
      "Working on iteration 790 with a-norm error 1.9972168626402934e-9\n",
      "Working on iteration 800 with a-norm error 1.9972168620559917e-9\n",
      "Working on iteration 810 with a-norm error 1.997216861674401e-9\n",
      "Working on iteration 820 with a-norm error 1.9972168612862133e-9\n",
      "Working on iteration 830 with a-norm error 1.9972168608328993e-9\n",
      "Working on iteration 840 with a-norm error 1.9972168602157944e-9\n",
      "Working on iteration 850 with a-norm error 1.9972168593347457e-9\n",
      "Working on iteration 860 with a-norm error 1.997216858428451e-9\n",
      "Working on iteration 870 with a-norm error 1.9972168575357722e-9\n",
      "Working on iteration 880 with a-norm error 1.997216856717971e-9\n",
      "Working on iteration 890 with a-norm error 1.9972168559827596e-9\n",
      "Working on iteration 900 with a-norm error 1.9972168550963773e-9\n",
      "Working on iteration 910 with a-norm error 1.997216854233434e-9\n",
      "Working on iteration 920 with a-norm error 1.9972168534130573e-9\n",
      "Working on iteration 930 with a-norm error 1.9972168526110714e-9\n",
      "Working on iteration 940 with a-norm error 1.9972168519025693e-9\n",
      "Working on iteration 950 with a-norm error 1.9972168511652953e-9\n",
      "Working on iteration 960 with a-norm error 1.9972168503944763e-9\n",
      "Working on iteration 970 with a-norm error 1.997216849811626e-9\n",
      "Working on iteration 980 with a-norm error 1.997216849438259e-9\n",
      "Working on iteration 990 with a-norm error 1.997216849252571e-9\n",
      "Working on iteration 1000 with a-norm error 1.9972168492032775e-9\n",
      "PCG stopped after: 1000 iterations with relative error 1.9972168492009407e-9.\n",
      "  2.212611 seconds (5.58 M allocations: 154.394 MB, 16.35% gc time)\n",
      "Working on iteration 10 with a-norm error 2.184743350522574\n",
      "Working on iteration 20 with a-norm error 1.998180563364162e-9\n",
      "Working on iteration 30 with a-norm error 1.998180563364162e-9\n",
      "Working on iteration 40 with a-norm error 1.998180563364162e-9\n",
      "Working on iteration 50 with a-norm error 1.9981805633641574e-9\n",
      "Working on iteration 60 with a-norm error 1.9981805633623327e-9\n",
      "Working on iteration 70 with a-norm error 1.998180563348414e-9\n",
      "Working on iteration 80 with a-norm error 1.9981805633404587e-9\n",
      "Working on iteration 90 with a-norm error 1.998180562374285e-9\n",
      "Working on iteration 100 with a-norm error 1.998180562328312e-9\n",
      "Working on iteration 110 with a-norm error 1.998180546232721e-9\n",
      "Working on iteration 120 with a-norm error 1.9981805462269347e-9\n",
      "Working on iteration 130 with a-norm error 1.998180546213215e-9\n",
      "Working on iteration 140 with a-norm error 1.9981805459720866e-9\n",
      "Working on iteration 150 with a-norm error 1.99818052641409e-9\n",
      "Working on iteration 160 with a-norm error 1.9981810431187785e-9\n",
      "Working on iteration 170 with a-norm error 2.0107712046482154e-9\n",
      "Working on iteration 180 with a-norm error 2.412673997228828e-9\n",
      "Working on iteration 190 with a-norm error 3.802249934274426e-9\n",
      "Working on iteration 200 with a-norm error 5.3733303708363664e-8\n",
      "Working on iteration 210 with a-norm error 1.5453489469179952e-6\n",
      "Working on iteration 220 with a-norm error 1.0691243615843124e-5\n",
      "Working on iteration 230 with a-norm error 3.110253943903254e-5\n",
      "Working on iteration 240 with a-norm error 0.0003468466009495465\n",
      "Working on iteration 250 with a-norm error 0.0008976467524578354\n",
      "Working on iteration 260 with a-norm error 0.004905128746928234\n",
      "Working on iteration 270 with a-norm error 0.00502430398781036\n",
      "Working on iteration 280 with a-norm error 0.022506694892617102\n",
      "Working on iteration 290 with a-norm error 0.11785664644037731\n",
      "Working on iteration 300 with a-norm error 38.296064930512124\n",
      "Working on iteration 310 with a-norm error 48.62295568613483\n",
      "Working on iteration 320 with a-norm error 345.10574330115037\n",
      "Working on iteration 330 with a-norm error 28133.820580375825\n",
      "Working on iteration 340 with a-norm error 830678.5281338756\n",
      "Working on iteration 350 with a-norm error 1.0669895836924883e6\n",
      "Working on iteration 360 with a-norm error 3.531801126875985e6\n",
      "Working on iteration 370 with a-norm error 3.0682083652449977e6\n",
      "Working on iteration 380 with a-norm error 2.1316575082854503e6\n",
      "Working on iteration 390 with a-norm error 1.3734278072488348e6\n",
      "Working on iteration 400 with a-norm error 7.462429379410659e6\n",
      "Working on iteration 410 with a-norm error 6.918164263192467e6\n",
      "Working on iteration 420 with a-norm error 7.438815395682626e6\n",
      "Working on iteration 430 with a-norm error 4.468632497755164e6\n",
      "Working on iteration 440 with a-norm error 3.3780128068323913e6\n",
      "Working on iteration 450 with a-norm error 2.5242430205127536e6\n",
      "Working on iteration 460 with a-norm error 3.487864627613716e6\n",
      "Working on iteration 470 with a-norm error 4.887899849484195e6\n",
      "Working on iteration 480 with a-norm error 5.7653093489957e6\n",
      "Working on iteration 490 with a-norm error 6.845253434210767e6\n",
      "Working on iteration 500 with a-norm error 4.593192048446343e6\n",
      "Working on iteration 510 with a-norm error 4.905142417980033e6\n",
      "Working on iteration 520 with a-norm error 6.521453437887589e6\n",
      "Working on iteration 530 with a-norm error 1.7848455287938982e6\n",
      "Working on iteration 540 with a-norm error 4.168180397874347e6\n",
      "Working on iteration 550 with a-norm error 3.8806436936710426e6\n",
      "Working on iteration 560 with a-norm error 8.321213791503361e6\n",
      "Working on iteration 570 with a-norm error 9.780103405518187e6\n",
      "Working on iteration 580 with a-norm error 5.434144511515543e6\n",
      "Working on iteration 590 with a-norm error 9.503557430601189e6\n",
      "Working on iteration 600 with a-norm error 2.955718856940703e6\n",
      "Working on iteration 610 with a-norm error 7.137352803242144e6\n",
      "Working on iteration 620 with a-norm error 5.2581579278470315e6\n",
      "Working on iteration 630 with a-norm error 3.7753059193838895e6\n",
      "Working on iteration 640 with a-norm error 3.515537674415712e6\n",
      "Working on iteration 650 with a-norm error 6.1755091465104995e6\n",
      "Working on iteration 660 with a-norm error 5.802058771730481e6\n",
      "Working on iteration 670 with a-norm error 7.823222573820469e6\n",
      "Working on iteration 680 with a-norm error 8.096246462079954e6\n",
      "Working on iteration 690 with a-norm error 2.968074083556243e6\n",
      "Working on iteration 700 with a-norm error 2.1449761664844467e6\n",
      "Working on iteration 710 with a-norm error 4.544473010586768e6\n",
      "Working on iteration 720 with a-norm error 3.933568507953902e6\n",
      "Working on iteration 730 with a-norm error 1.0942704633030038e7\n",
      "Working on iteration 740 with a-norm error 1.2963289851536478e6\n",
      "Working on iteration 750 with a-norm error 3.148003832969798e6\n",
      "Working on iteration 760 with a-norm error 4.219360075862794e6\n",
      "Working on iteration 770 with a-norm error 8.404176724095466e6\n",
      "Working on iteration 780 with a-norm error 955134.2368565808\n",
      "Working on iteration 790 with a-norm error 1.0652424537572954e7\n",
      "Working on iteration 800 with a-norm error 2.119296404531592e6\n",
      "Working on iteration 810 with a-norm error 4.90750517738746e6\n",
      "Working on iteration 820 with a-norm error 6.816920214535971e6\n",
      "Working on iteration 830 with a-norm error 5.462806677778574e6\n",
      "Working on iteration 840 with a-norm error 8.664739411800835e6\n",
      "Working on iteration 850 with a-norm error 3.35841039026117e6\n",
      "Working on iteration 860 with a-norm error 6.416692975937722e6\n",
      "Working on iteration 870 with a-norm error 2.269048647345297e6\n",
      "Working on iteration 880 with a-norm error 4.229040554167447e6\n",
      "Working on iteration 890 with a-norm error 3.8783001367697157e6\n",
      "Working on iteration 900 with a-norm error 7.587456688198321e6\n",
      "Working on iteration 910 with a-norm error 7.861562047468749e6\n",
      "Working on iteration 920 with a-norm error 3.4793705391785195e6\n",
      "Working on iteration 930 with a-norm error 4.343278980042459e6\n",
      "Working on iteration 940 with a-norm error 1.3518853013893424e6\n",
      "Working on iteration 950 with a-norm error 4.417294736538217e6\n",
      "Working on iteration 960 with a-norm error 2.6430253827429325e6\n",
      "Working on iteration 970 with a-norm error 2.3897248412730834e6\n",
      "Working on iteration 980 with a-norm error 2.0223919180322206e6\n",
      "Working on iteration 990 with a-norm error 4.518984346175304e6\n",
      "Working on iteration 1000 with a-norm error 4.800017991522671e6\n",
      "PCG stopped after: 1000 iterations with relative error 7.83893904152035e6.\n",
      "  1.484509 seconds (5.30 M allocations: 155.276 MB, 22.86% gc time)\n",
      "Working on iteration 10 with a-norm error 2.184743350522574\n",
      "Working on iteration 20 with a-norm error 1.998180563364162e-9\n",
      "Working on iteration 30 with a-norm error 1.0032020197074749e141\n",
      "Working on iteration 40 with a-norm error 9.83879760995181e140\n",
      "Working on iteration 50 with a-norm error 2.299515000980144e140\n",
      "Working on iteration 60 with a-norm error 2.299515000980144e140\n",
      "Working on iteration 70 with a-norm error 2.299515000980144e140\n",
      "Working on iteration 80 with a-norm error 2.299515000980144e140\n",
      "Working on iteration 90 with a-norm error 2.299515000980144e140\n",
      "Working on iteration 100 with a-norm error 2.299515000980144e140\n",
      "Working on iteration 110 with a-norm error 2.299515000980144e140\n",
      "Working on iteration 120 with a-norm error 2.299515000980144e140\n",
      "Working on iteration 130 with a-norm error 2.8239109322823955e141\n",
      "Working on iteration 140 with a-norm error 2.497819587047659e141\n",
      "Working on iteration 150 with a-norm error 2.6568708154424542e141\n",
      "Working on iteration 160 with a-norm error 1.3048001196175505e141\n",
      "Working on iteration 170 with a-norm error 2.376999661388299e141\n",
      "Working on iteration 180 with a-norm error 7.939346846434173e140\n",
      "Working on iteration 190 with a-norm error 2.9587996133063816e141\n",
      "Working on iteration 200 with a-norm error 1.961584555768243e141\n",
      "Working on iteration 210 with a-norm error 9.464081208105255e140\n",
      "Working on iteration 220 with a-norm error 1.669161478005202e141\n",
      "Working on iteration 230 with a-norm error 1.0471665316263022e141\n",
      "Working on iteration 240 with a-norm error 3.070265687368737e141\n",
      "Working on iteration 250 with a-norm error 9.600726623997179e140\n",
      "Working on iteration 260 with a-norm error 9.913840244060662e140\n",
      "Working on iteration 270 with a-norm error 1.008548813459995e141\n",
      "Working on iteration 280 with a-norm error 1.2526103024590868e141\n",
      "Working on iteration 290 with a-norm error 1.677299535250983e141\n",
      "Working on iteration 300 with a-norm error 1.4709852427912236e141\n",
      "Working on iteration 310 with a-norm error 2.0114878774560173e141\n",
      "Working on iteration 320 with a-norm error 9.777380327783015e140\n",
      "Working on iteration 330 with a-norm error 1.8754367589151325e141\n",
      "Working on iteration 340 with a-norm error 2.886471504204112e141\n",
      "Working on iteration 350 with a-norm error 1.480473514431284e141\n",
      "Working on iteration 360 with a-norm error 2.6141558996870957e141\n",
      "Working on iteration 370 with a-norm error 7.807067055271437e140\n",
      "Working on iteration 380 with a-norm error 1.113626924128742e141\n",
      "Working on iteration 390 with a-norm error 1.3219229505754637e141\n",
      "Working on iteration 400 with a-norm error 1.7710490268215242e141\n",
      "Working on iteration 410 with a-norm error 3.317363545693392e140\n",
      "Working on iteration 420 with a-norm error 1.5219396290401476e141\n",
      "Working on iteration 430 with a-norm error 8.999150777445771e140\n",
      "Working on iteration 440 with a-norm error 1.7147559371238258e141\n",
      "Working on iteration 450 with a-norm error 1.1978757437197962e141\n",
      "Working on iteration 460 with a-norm error 2.9439927295799346e141\n",
      "Working on iteration 470 with a-norm error 6.107917611768406e140\n",
      "Working on iteration 480 with a-norm error 3.060490903717424e141\n",
      "Working on iteration 490 with a-norm error 9.810544525967988e140\n",
      "Working on iteration 500 with a-norm error 1.2213476584221062e141\n",
      "Working on iteration 510 with a-norm error 2.5999147041597156e141\n",
      "Working on iteration 520 with a-norm error 2.283372782563729e141\n",
      "Working on iteration 530 with a-norm error 2.45916970935264e141\n",
      "Working on iteration 540 with a-norm error 2.2119649422141113e141\n",
      "Working on iteration 550 with a-norm error 4.543298288890151e140\n",
      "Working on iteration 560 with a-norm error 1.6277232456509292e141\n",
      "Working on iteration 570 with a-norm error 1.8088472850518793e141\n",
      "Working on iteration 580 with a-norm error 1.3316394010042549e141\n",
      "Working on iteration 590 with a-norm error 2.5491273985643207e141\n",
      "Working on iteration 600 with a-norm error 2.5261509328993182e141\n",
      "Working on iteration 610 with a-norm error 2.294527077603452e141\n",
      "Working on iteration 620 with a-norm error 1.636613114395618e141\n",
      "Working on iteration 630 with a-norm error 2.0777776802264187e141\n",
      "Working on iteration 640 with a-norm error 1.7969300713254457e141\n",
      "Working on iteration 650 with a-norm error 9.688886918855326e140\n",
      "Working on iteration 660 with a-norm error 2.3625336676700464e141\n",
      "Working on iteration 670 with a-norm error 1.6315893890784136e141\n",
      "Working on iteration 680 with a-norm error 1.785265594326322e141\n",
      "Working on iteration 690 with a-norm error 2.4457770454692838e141\n",
      "Working on iteration 700 with a-norm error 2.361247625202964e141\n",
      "Working on iteration 710 with a-norm error 1.8325168071635253e141\n",
      "Working on iteration 720 with a-norm error 2.8521603794634118e141\n",
      "Working on iteration 730 with a-norm error 4.599464241104054e140\n",
      "Working on iteration 740 with a-norm error 2.538131490525399e141\n",
      "Working on iteration 750 with a-norm error 2.1815916139599353e141\n",
      "Working on iteration 760 with a-norm error 1.4604438533209676e141\n",
      "Working on iteration 770 with a-norm error 7.057920194553669e140\n",
      "Working on iteration 780 with a-norm error 7.774763582201536e140\n",
      "Working on iteration 790 with a-norm error 2.025319352648599e141\n",
      "Working on iteration 800 with a-norm error 1.9764805629196162e141\n",
      "Working on iteration 810 with a-norm error 1.9764805629196162e141\n",
      "Working on iteration 820 with a-norm error 2.129182511758856e141\n",
      "Working on iteration 830 with a-norm error 2.129182511758856e141\n",
      "Working on iteration 840 with a-norm error 2.129182511758856e141\n",
      "Working on iteration 850 with a-norm error 2.129182511758856e141\n",
      "Working on iteration 860 with a-norm error 2.129182511758856e141\n",
      "Working on iteration 870 with a-norm error 2.129182511758856e141\n",
      "Working on iteration 880 with a-norm error 2.129182511758856e141\n",
      "Working on iteration 890 with a-norm error 2.129182511758856e141\n",
      "Working on iteration 900 with a-norm error 2.129182511758856e141\n",
      "Working on iteration 910 with a-norm error 2.129182511758856e141\n",
      "Working on iteration 920 with a-norm error 2.129182511758856e141\n",
      "Working on iteration 930 with a-norm error 2.129182511758856e141\n",
      "Working on iteration 940 with a-norm error 2.129182511758856e141\n",
      "Working on iteration 950 with a-norm error 2.129182511758856e141\n",
      "Working on iteration 960 with a-norm error 2.129182511758856e141\n",
      "Working on iteration 970 with a-norm error 2.129182511758856e141\n",
      "Working on iteration 980 with a-norm error 2.129182511758856e141\n",
      "Working on iteration 990 with a-norm error 2.129182511758856e141\n",
      "Working on iteration 1000 with a-norm error 2.129182511758856e141\n",
      "PCG stopped after: 1000 iterations with relative error 2.129182511758856e141.\n",
      "  2.215142 seconds (5.30 M allocations: 339.812 MB, 21.30% gc time)\n"
     ]
    }
   ],
   "source": [
    "numIts = 1000\n",
    "for hp in [64,128,1024]\n",
    "    set_bigfloat_precision(hp)\n",
    "    laHP = toHighPrecision(la; precision=hp)\n",
    "    treeHP = toHighPrecision(tree; precision=hp)\n",
    "    xHP = toHighPrecision(x; precision=hp);\n",
    "    bHP = toHighPrecision(b; precision=hp);\n",
    "    FHP = treeSolver(treeHP)\n",
    "    \n",
    "    @time myxHP,dbg = pcgV(laHP, bHP, FHP, xHP, maxits=numIts, verbose=true);\n",
    "    insert!(dbg, 1, \"$(numIts) iterations\")\n",
    "    insert!(dbg, 1, \"anorm = sqrt((x-truex)' * la * (x-truex)), err2_a = norm(la*x-b) / norm(b), err2_b = norm(x-truex)\")\n",
    "    writeToFile(graphp * \"_log_julia_$(hp).txt\", dbg)\n",
    "end"
   ]
  },
  {
   "cell_type": "code",
   "execution_count": 12,
   "metadata": {
    "collapsed": false
   },
   "outputs": [
    {
     "name": "stdout",
     "output_type": "stream",
     "text": [
      "search: pcgV pcgSolver pcgLapSolver pcg pcgWorker ProcessGroup productGraph\n",
      "\n"
     ]
    },
    {
     "data": {
      "text/latex": [
       "No documentation found.\n",
       "\\texttt{pcgV} is a generic \\texttt{Function}.\n",
       "\\begin{verbatim}\n",
       "# 1 method for generic function \"pcgV\":\n",
       "pcgV{Tv}(mat, b::Array{Tv,1}, pre::Function, lhs::Array{Tv,1}) at /Users/serbanstan/git/TreePCG/julia/verbosePCG.jl:2\n",
       "\\end{verbatim}\n"
      ],
      "text/markdown": [
       "No documentation found.\n",
       "\n",
       "`pcgV` is a generic `Function`.\n",
       "\n",
       "```julia\n",
       "# 1 method for generic function \"pcgV\":\n",
       "pcgV{Tv}(mat, b::Array{Tv,1}, pre::Function, lhs::Array{Tv,1}) at /Users/serbanstan/git/TreePCG/julia/verbosePCG.jl:2\n",
       "```\n"
      ],
      "text/plain": [
       "No documentation found.\n",
       "\n",
       "`pcgV` is a generic `Function`.\n",
       "\n",
       "```julia\n",
       "# 1 method for generic function \"pcgV\":\n",
       "pcgV{Tv}(mat, b::Array{Tv,1}, pre::Function, lhs::Array{Tv,1}) at /Users/serbanstan/git/TreePCG/julia/verbosePCG.jl:2\n",
       "```\n"
      ]
     },
     "execution_count": 12,
     "metadata": {},
     "output_type": "execute_result"
    }
   ],
   "source": [
    "?pcgV"
   ]
  },
  {
   "cell_type": "code",
   "execution_count": null,
   "metadata": {
    "collapsed": true
   },
   "outputs": [],
   "source": []
  }
 ],
 "metadata": {
  "kernelspec": {
   "display_name": "Julia 0.4.6",
   "language": "julia",
   "name": "julia-0.4"
  },
  "language_info": {
   "file_extension": ".jl",
   "mimetype": "application/julia",
   "name": "julia",
   "version": "0.4.6"
  }
 },
 "nbformat": 4,
 "nbformat_minor": 0
}
