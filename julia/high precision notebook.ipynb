{
 "cells": [
  {
   "cell_type": "code",
   "execution_count": 1,
   "metadata": {
    "collapsed": false
   },
   "outputs": [
    {
     "name": "stderr",
     "output_type": "stream",
     "text": [
      "objc[32217]: Class TKApplication is implemented in both /Users/serbanstan/anaconda/lib/libtk8.5.dylib and /System/Library/Frameworks/Tk.framework/Versions/8.5/Tk. One of the two will be used. Which one is undefined.\n",
      "objc[32217]: Class TKMenu is implemented in both /Users/serbanstan/anaconda/lib/libtk8.5.dylib and /System/Library/Frameworks/Tk.framework/Versions/8.5/Tk. One of the two will be used. Which one is undefined.\n",
      "objc[32217]: Class TKContentView is implemented in both /Users/serbanstan/anaconda/lib/libtk8.5.dylib and /System/Library/Frameworks/Tk.framework/Versions/8.5/Tk. One of the two will be used. Which one is undefined.\n",
      "objc[32217]: Class TKWindow is implemented in both /Users/serbanstan/anaconda/lib/libtk8.5.dylib and /System/Library/Frameworks/Tk.framework/Versions/8.5/Tk. One of the two will be used. Which one is undefined.\n"
     ]
    }
   ],
   "source": [
    "using Laplacians"
   ]
  },
  {
   "cell_type": "code",
   "execution_count": 2,
   "metadata": {
    "collapsed": false
   },
   "outputs": [
    {
     "data": {
      "text/plain": [
       "toHighPrecision (generic function with 2 methods)"
      ]
     },
     "execution_count": 2,
     "metadata": {},
     "output_type": "execute_result"
    }
   ],
   "source": [
    "include(\"treeSolver.jl\")\n",
    "include(\"IO.jl\")\n",
    "include(\"generators.jl\")\n",
    "include(\"toHighPrecision.jl\")"
   ]
  },
  {
   "cell_type": "code",
   "execution_count": 10,
   "metadata": {
    "collapsed": false
   },
   "outputs": [
    {
     "data": {
      "text/plain": [
       "1024"
      ]
     },
     "execution_count": 10,
     "metadata": {},
     "output_type": "execute_result"
    }
   ],
   "source": [
    "hp = 1024\n",
    "set_bigfloat_precision(hp)"
   ]
  },
  {
   "cell_type": "code",
   "execution_count": 50,
   "metadata": {
    "collapsed": true
   },
   "outputs": [],
   "source": [
    "n = 1000\n",
    "a,tree = chainCycle(n,k=3);\n",
    "la = lap(a);\n",
    "x = randn(n); x = x - mean(x);\n",
    "b = lap(a) * x; b = b - mean(b);"
   ]
  },
  {
   "cell_type": "code",
   "execution_count": 45,
   "metadata": {
    "collapsed": false
   },
   "outputs": [
    {
     "data": {
      "text/plain": [
       "(anonymous function)"
      ]
     },
     "execution_count": 45,
     "metadata": {},
     "output_type": "execute_result"
    }
   ],
   "source": [
    "ts = treeSolver(tree)\n",
    "\n",
    "F = function(b)\n",
    "    return ts(b - mean(b))\n",
    "end"
   ]
  },
  {
   "cell_type": "code",
   "execution_count": 46,
   "metadata": {
    "collapsed": false
   },
   "outputs": [
    {
     "name": "stdout",
     "output_type": "stream",
     "text": [
      "PCG stopped after: 9003 iterations with relative error 7.297758964101562e-11.\n",
      "  2.422613 seconds (49.62 M allocations: 1.149 GB, 4.31% gc time)\n"
     ]
    },
    {
     "data": {
      "text/plain": [
       "7.297614121738052e-11"
      ]
     },
     "execution_count": 46,
     "metadata": {},
     "output_type": "execute_result"
    }
   ],
   "source": [
    "@time myx64 = pcg(lap(a), b, F, tol=1e-10, verbose=true);\n",
    "norm(lap(a) * myx64 - b) / norm(b)"
   ]
  },
  {
   "cell_type": "code",
   "execution_count": 47,
   "metadata": {
    "collapsed": false
   },
   "outputs": [],
   "source": [
    "laHP = toHighPrecision(la; precision=hp)\n",
    "treeHP = toHighPrecision(tree; precision=hp)\n",
    "bHP = toHighPrecision(b; precision=hp);"
   ]
  },
  {
   "cell_type": "code",
   "execution_count": 48,
   "metadata": {
    "collapsed": false
   },
   "outputs": [
    {
     "data": {
      "text/plain": [
       "(anonymous function)"
      ]
     },
     "execution_count": 48,
     "metadata": {},
     "output_type": "execute_result"
    }
   ],
   "source": [
    "tsHP = treeSolver(treeHP)\n",
    "\n",
    "FHP = function(b)\n",
    "    return tsHP(b - mean(b))\n",
    "end"
   ]
  },
  {
   "cell_type": "code",
   "execution_count": 49,
   "metadata": {
    "collapsed": false
   },
   "outputs": [
    {
     "name": "stdout",
     "output_type": "stream",
     "text": [
      "PCG stopped after: 182 iterations with relative error 7.300904831332150630825000896138690907051622050250053235174717456644703748564103241317890795910446474474183589516532837763444037116631407916992682888209245414190366370463019896114484210771180697237184125406818335304510504861713217217813415203721745246521667618478739517828187389398994873476630198033705498010106e-11.\n",
      "  2.605595 seconds (8.11 M allocations: 521.194 MB, 20.30% gc time)\n"
     ]
    },
    {
     "data": {
      "text/plain": [
       "7.300904831332150630825000896138690907051622050250053235174717456644703748564103241317890795910446474474183589516532837763444037116631407916992682888209245414190366370463019896114484210771180697237184125406818335304510504861713217217813415203721745246521667618478739517828187389398994873476630198033711332492643e-11"
      ]
     },
     "execution_count": 49,
     "metadata": {},
     "output_type": "execute_result"
    }
   ],
   "source": [
    "@time myxHP = pcg(laHP, bHP, FHP, tol=1e-10, verbose=true);\n",
    "norm(laHP * myxHP - bHP) / norm(bHP)"
   ]
  },
  {
   "cell_type": "code",
   "execution_count": null,
   "metadata": {
    "collapsed": true
   },
   "outputs": [],
   "source": []
  },
  {
   "cell_type": "code",
   "execution_count": null,
   "metadata": {
    "collapsed": true
   },
   "outputs": [],
   "source": []
  },
  {
   "cell_type": "code",
   "execution_count": 51,
   "metadata": {
    "collapsed": true
   },
   "outputs": [],
   "source": [
    "# writeToFile(\"../graphs/se_7/graph.mtx\", a);\n",
    "# writeToFile(\"../graphs/se_7/tree.mtx\", tree);\n",
    "# writeToFile(\"../graphs/se_7/x.vec\", x);\n",
    "# writeToFile(\"../graphs/se_7/b.vec\", b);"
   ]
  },
  {
   "cell_type": "code",
   "execution_count": null,
   "metadata": {
    "collapsed": true
   },
   "outputs": [],
   "source": []
  }
 ],
 "metadata": {
  "kernelspec": {
   "display_name": "Julia 0.4.6",
   "language": "julia",
   "name": "julia-0.4"
  },
  "language_info": {
   "file_extension": ".jl",
   "mimetype": "application/julia",
   "name": "julia",
   "version": "0.4.6"
  }
 },
 "nbformat": 4,
 "nbformat_minor": 0
}
