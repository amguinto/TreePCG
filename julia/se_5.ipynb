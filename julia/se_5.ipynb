{
 "cells": [
  {
   "cell_type": "code",
   "execution_count": 1,
   "metadata": {
    "collapsed": false
   },
   "outputs": [
    {
     "name": "stderr",
     "output_type": "stream",
     "text": [
      "objc[55046]: Class TKApplication is implemented in both /Users/serbanstan/anaconda/lib/libtk8.5.dylib and /System/Library/Frameworks/Tk.framework/Versions/8.5/Tk. One of the two will be used. Which one is undefined.\n",
      "objc[55046]: Class TKMenu is implemented in both /Users/serbanstan/anaconda/lib/libtk8.5.dylib and /System/Library/Frameworks/Tk.framework/Versions/8.5/Tk. One of the two will be used. Which one is undefined.\n",
      "objc[55046]: Class TKContentView is implemented in both /Users/serbanstan/anaconda/lib/libtk8.5.dylib and /System/Library/Frameworks/Tk.framework/Versions/8.5/Tk. One of the two will be used. Which one is undefined.\n",
      "objc[55046]: Class TKWindow is implemented in both /Users/serbanstan/anaconda/lib/libtk8.5.dylib and /System/Library/Frameworks/Tk.framework/Versions/8.5/Tk. One of the two will be used. Which one is undefined.\n"
     ]
    }
   ],
   "source": [
    "using Laplacians"
   ]
  },
  {
   "cell_type": "code",
   "execution_count": 2,
   "metadata": {
    "collapsed": false
   },
   "outputs": [
    {
     "data": {
      "text/plain": [
       "pcgWorker (generic function with 1 method)"
      ]
     },
     "execution_count": 2,
     "metadata": {},
     "output_type": "execute_result"
    }
   ],
   "source": [
    "include(\"treeSolver.jl\")\n",
    "include(\"IO.jl\")\n",
    "include(\"generators.jl\")\n",
    "include(\"toHighPrecision.jl\")\n",
    "include(\"verbosePCG.jl\")"
   ]
  },
  {
   "cell_type": "code",
   "execution_count": 3,
   "metadata": {
    "collapsed": false
   },
   "outputs": [
    {
     "data": {
      "text/plain": [
       "\"/Users/serbanstan/git/TreePCG/julia\""
      ]
     },
     "execution_count": 3,
     "metadata": {},
     "output_type": "execute_result"
    }
   ],
   "source": [
    "pwd()"
   ]
  },
  {
   "cell_type": "code",
   "execution_count": 4,
   "metadata": {
    "collapsed": false
   },
   "outputs": [
    {
     "data": {
      "text/plain": [
       "\"../graphs/se_5/\""
      ]
     },
     "execution_count": 4,
     "metadata": {},
     "output_type": "execute_result"
    }
   ],
   "source": [
    "graphp = \"../graphs/se_5/\""
   ]
  },
  {
   "cell_type": "code",
   "execution_count": 5,
   "metadata": {
    "collapsed": false
   },
   "outputs": [],
   "source": [
    "a = readFromFile(graphp * \"graph.mtx\");"
   ]
  },
  {
   "cell_type": "code",
   "execution_count": 6,
   "metadata": {
    "collapsed": false
   },
   "outputs": [],
   "source": [
    "tree = readFromFile(graphp * \"tree.mtx\");"
   ]
  },
  {
   "cell_type": "code",
   "execution_count": 7,
   "metadata": {
    "collapsed": false
   },
   "outputs": [],
   "source": [
    "x = readFromFile(graphp * \"x.vec\");"
   ]
  },
  {
   "cell_type": "code",
   "execution_count": 8,
   "metadata": {
    "collapsed": false
   },
   "outputs": [],
   "source": [
    "la = lap(a);\n",
    "x = x - mean(x)\n",
    "b = la * x; b = b - mean(b);"
   ]
  },
  {
   "cell_type": "code",
   "execution_count": 11,
   "metadata": {
    "collapsed": false
   },
   "outputs": [
    {
     "name": "stdout",
     "output_type": "stream",
     "text": [
      "  0.454831 seconds (1.25 M allocations: 86.056 MB, 3.43% gc time)\n",
      "  0.076113 seconds (2.00 M allocations: 38.109 MB, 14.31% gc time)\n"
     ]
    }
   ],
   "source": [
    "@time F = treeSolver(tree)\n",
    "@time F(b);"
   ]
  },
  {
   "cell_type": "code",
   "execution_count": 15,
   "metadata": {
    "collapsed": false
   },
   "outputs": [
    {
     "name": "stdout",
     "output_type": "stream",
     "text": [
      "Working on iteration 10 with a-norm error 307443.3614437539\n",
      "Working on iteration 20 with a-norm error 8001.255087898712\n",
      "Working on iteration 30 with a-norm error 1057.4237137141467\n",
      "Working on iteration 40 with a-norm error 134.1108676622286\n",
      "Working on iteration 50 with a-norm error 40.21016416959214\n",
      "Working on iteration 60 with a-norm error 2.7144290892194904\n",
      "Working on iteration 70 with a-norm error 0.6485248355624706\n",
      "Working on iteration 80 with a-norm error 0.05461200810220714\n",
      "Working on iteration 90 with a-norm error 0.01311180760784604\n",
      "Working on iteration 100 with a-norm error 0.003541115599785892\n",
      "Working on iteration 110 with a-norm error 0.0005683546325843358\n",
      "Working on iteration 120 with a-norm error 6.555585239552845e-5\n",
      "Working on iteration 130 with a-norm error 1.6343191775630755e-5\n",
      "Working on iteration 140 with a-norm error 1.4157523393277654e-6\n",
      "Working on iteration 150 with a-norm error 8.648800094156629e-7\n",
      "PCG stopped after: 150 iterations with relative error 8.647298455972084e-7.\n",
      " 16.043341 seconds (301.63 M allocations: 7.638 GB, 10.29% gc time)\n"
     ]
    }
   ],
   "source": [
    "# a run on standard Float64 data types\n",
    "numIts = 150;\n",
    "@time myx64,dbg = pcgV(la, b, F, x, maxits=numIts, verbose=true);\n",
    "norm(lap(a) * myx64 - b) / norm(b)\n",
    "insert!(dbg, 1, \"$(numIts) iterations\")\n",
    "insert!(dbg, 1, \"anorm = sqrt((x-truex)' * la * (x-truex)), err2_a = norm(la*x-b) / norm(b), err2_b = norm(x-truex)\")\n",
    "writeToFile(graphp * \"_log_julia_default.txt\", dbg)"
   ]
  },
  {
   "cell_type": "code",
   "execution_count": 16,
   "metadata": {
    "collapsed": false
   },
   "outputs": [
    {
     "name": "stdout",
     "output_type": "stream",
     "text": [
      "Working on iteration 10 with a-norm error 307443.36146129033\n",
      "Working on iteration 20 with a-norm error 7892.203201233427\n",
      "Working on iteration 30 with a-norm error 1057.4237133597633\n",
      "Working on iteration 40 with a-norm error 132.9162483822737\n",
      "Working on iteration 50 with a-norm error 32.04401646395055\n",
      "Working on iteration 60 with a-norm error 2.7077362028973293\n",
      "Working on iteration 70 with a-norm error 0.17856095693367358\n",
      "Working on iteration 80 with a-norm error 0.04804644323563823\n",
      "Working on iteration 90 with a-norm error 0.004762776357510621\n",
      "Working on iteration 100 with a-norm error 0.0009613881731549992\n",
      "Working on iteration 110 with a-norm error 0.00022918566099241138\n",
      "Working on iteration 120 with a-norm error 1.6936193562291736e-5\n",
      "Working on iteration 130 with a-norm error 1.2194410779165358e-6\n",
      "Working on iteration 140 with a-norm error 3.0105427726434275e-7\n",
      "Working on iteration 150 with a-norm error 7.796464241945001e-8\n",
      "PCG stopped after: 150 iterations with relative error 7.556059926786772e-8.\n",
      "1487.780547 seconds (4.49 G allocations: 113.710 GB, 43.06% gc time)\n",
      "Working on iteration 10 with a-norm error 307443.36146129074\n",
      "Working on iteration 20 with a-norm error 7892.198367406597\n",
      "Working on iteration 30 with a-norm error 549.778705332952\n",
      "Working on iteration 40 with a-norm error 101.45865180698634\n",
      "Working on iteration 50 with a-norm error 2.7248948751631175\n",
      "Working on iteration 60 with a-norm error 0.1794565581828365\n",
      "Working on iteration 70 with a-norm error 0.013299324543714172\n",
      "Working on iteration 80 with a-norm error 0.0009760082870184128\n",
      "Working on iteration 90 with a-norm error 1.8324398801804842e-5\n",
      "Working on iteration 100 with a-norm error 4.312015461655375e-6\n",
      "Working on iteration 110 with a-norm error 4.641526300870894e-7\n",
      "Working on iteration 120 with a-norm error 8.331716160754148e-8\n",
      "Working on iteration 130 with a-norm error 2.0505651778262395e-8\n",
      "Working on iteration 140 with a-norm error 1.7719719728172426e-8\n",
      "Working on iteration 150 with a-norm error 1.7735766432370452e-8\n",
      "PCG stopped after: 150 iterations with relative error 1.7735777687430475e-8.\n",
      "1698.728171 seconds (4.49 G allocations: 124.548 GB, 43.95% gc time)\n",
      "Working on iteration 10 with a-norm error 307443.36146129074\n",
      "Working on iteration 20 with a-norm error 7892.198367406597\n",
      "Working on iteration 30 with a-norm error 549.778705332952\n",
      "Working on iteration 40 with a-norm error 43.33314401110936\n",
      "Working on iteration 50 with a-norm error 2.4534005370175684\n",
      "Working on iteration 60 with a-norm error 0.049175301772482576\n",
      "Working on iteration 70 with a-norm error 0.0009778191806719503\n",
      "Working on iteration 80 with a-norm error 1.746858073870687e-5\n",
      "Working on iteration 90 with a-norm error 3.1026099244879223e-7\n",
      "Working on iteration 100 with a-norm error 1.8783989486489768e-8\n",
      "Working on iteration 110 with a-norm error 1.771929057137213e-8\n",
      "Working on iteration 120 with a-norm error 1.773818058869841e-8\n",
      "Working on iteration 130 with a-norm error 1.7737637677361977e-8\n",
      "Working on iteration 140 with a-norm error 1.773764810632628e-8\n",
      "Working on iteration 150 with a-norm error 1.7737648065110235e-8\n",
      "PCG stopped after: 150 iterations with relative error 1.7737648064289384e-8.\n",
      "1997.749342 seconds (4.49 G allocations: 189.698 GB, 42.97% gc time)\n",
      "Working on iteration 10 with a-norm error 307443.36146129074\n",
      "Working on iteration 20 with a-norm error 7892.198367406597\n",
      "Working on iteration 30 with a-norm error 549.778705332952\n",
      "Working on iteration 40 with a-norm error 43.33314401110936\n",
      "Working on iteration 50 with a-norm error 2.4534005370175684\n",
      "Working on iteration 60 with a-norm error 0.049175301772482576\n",
      "Working on iteration 70 with a-norm error 0.0009778191806719503\n",
      "Working on iteration 80 with a-norm error 1.746858073870687e-5\n",
      "Working on iteration 90 with a-norm error 3.1026099244879223e-7\n",
      "Working on iteration 100 with a-norm error 1.8783989486497606e-8\n",
      "Working on iteration 110 with a-norm error 1.7744737836908137e-8\n",
      "Working on iteration 120 with a-norm error 1.773749877244994e-8\n",
      "Working on iteration 130 with a-norm error 1.773764968331407e-8\n",
      "Working on iteration 140 with a-norm error 1.7737648049394283e-8\n",
      "Working on iteration 150 with a-norm error 1.7737648061843692e-8\n",
      "PCG stopped after: 150 iterations with relative error 1.7737648061839364e-8.\n",
      "2107.519664 seconds (4.49 G allocations: 276.564 GB, 41.41% gc time)\n"
     ]
    }
   ],
   "source": [
    "numIts = 150\n",
    "for hp in [64,128,512,1024]\n",
    "    set_bigfloat_precision(hp)\n",
    "    laHP = toHighPrecision(la; precision=hp)\n",
    "    treeHP = toHighPrecision(tree; precision=hp)\n",
    "    xHP = toHighPrecision(x; precision=hp);\n",
    "    bHP = toHighPrecision(b; precision=hp);\n",
    "    FHP = treeSolver(treeHP)\n",
    "    \n",
    "    @time myxHP,dbg = pcgV(laHP, bHP, FHP, xHP, maxits=numIts, verbose=true);\n",
    "    insert!(dbg, 1, \"$(numIts) iterations\")\n",
    "    insert!(dbg, 1, \"anorm = sqrt((x-truex)' * la * (x-truex)), err2_a = norm(la*x-b) / norm(b), err2_b = norm(x-truex)\")\n",
    "    writeToFile(graphp * \"_log_julia_$(hp).txt\", dbg)\n",
    "end"
   ]
  },
  {
   "cell_type": "code",
   "execution_count": null,
   "metadata": {
    "collapsed": true
   },
   "outputs": [],
   "source": []
  }
 ],
 "metadata": {
  "kernelspec": {
   "display_name": "Julia 0.4.6",
   "language": "julia",
   "name": "julia-0.4"
  },
  "language_info": {
   "file_extension": ".jl",
   "mimetype": "application/julia",
   "name": "julia",
   "version": "0.4.6"
  }
 },
 "nbformat": 4,
 "nbformat_minor": 0
}
