{
 "cells": [
  {
   "cell_type": "code",
   "execution_count": 1,
   "metadata": {
    "collapsed": true
   },
   "outputs": [],
   "source": [
    "inputs = readdir(\"../graphs\");"
   ]
  },
  {
   "cell_type": "code",
   "execution_count": 58,
   "metadata": {
    "collapsed": false
   },
   "outputs": [
    {
     "data": {
      "text/plain": [
       "parseData (generic function with 1 method)"
      ]
     },
     "execution_count": 58,
     "metadata": {},
     "output_type": "execute_result"
    }
   ],
   "source": [
    "function parseData(fileName::ASCIIString, tabs::ASCIIString)\n",
    "#     println(fileName)\n",
    "    \n",
    "    f = open(fileName)\n",
    "    lines = readlines(f)\n",
    "    close(f)\n",
    "    \n",
    "    results = Array{Array{Float64,1},1}(0)\n",
    "\n",
    "    # parse the input text file to ASCIIString\n",
    "    nr = parse(Int64, split(lines[2], ' ')[1])\n",
    "    for i in 3:(3 + nr - 1)\n",
    "        wholeLn = split(lines[i], [' ', '=', '\\n'])\n",
    "        ln = []\n",
    "        for j in wholeLn\n",
    "            if j != \"\"\n",
    "                push!(ln, j)\n",
    "            end\n",
    "        end\n",
    "        \n",
    "        thisLine = []\n",
    "        for j in 4:2:length(ln)\n",
    "            push!(thisLine, parse(Float64, ln[j]))\n",
    "        end\n",
    "        \n",
    "        push!(results, thisLine)\n",
    "    end\n",
    "    \n",
    "    ans = []\n",
    "    \n",
    "    # get the different treshhold for convergence\n",
    "    for conv in [1000,10,1e-1,1e-3,1e-5,1e-7]\n",
    "        found = false\n",
    "        for i in 1:nr\n",
    "            if results[i][1] < conv\n",
    "                push!(ans, tabs * string(conv) * \" -> \" * string(i))\n",
    "                found = true\n",
    "                break\n",
    "            end\n",
    "        end\n",
    "        \n",
    "        if found == false\n",
    "            push!(ans, tabs * string(conv) * \" -> \" * \"N/A\")\n",
    "        end\n",
    "    end\n",
    "    \n",
    "    return ans\n",
    "    \n",
    "end"
   ]
  },
  {
   "cell_type": "code",
   "execution_count": 59,
   "metadata": {
    "collapsed": false
   },
   "outputs": [],
   "source": [
    "output = []\n",
    "\n",
    "for inpt in inputs\n",
    "    goodstuff = false\n",
    "    if ((inpt[1] == 'k' && inpt[2] == 'e') || \n",
    "        (inpt[1] == 's' && inpt[2] == 'e') ||\n",
    "        (inpt[1] == 'x' && inpt[2] == 'u'))\n",
    "        goodstuff = true\n",
    "    end\n",
    "    \n",
    "    if !goodstuff\n",
    "        continue\n",
    "    end\n",
    "    \n",
    "    push!(output, inpt)\n",
    "    \n",
    "    dir = \"../graphs/\" * inpt;\n",
    "    allLogs = readdir(dir)\n",
    "    \n",
    "    julLogs = []\n",
    "    for log in allLogs\n",
    "        if search(log, \"julia\").stop != -1\n",
    "            push!(julLogs, log)\n",
    "        end\n",
    "    end\n",
    "#     println(dir, \" \", julLogs)\n",
    "    \n",
    "    tabspace = \"    \"\n",
    "    \n",
    "    for log in julLogs\n",
    "        if search(log, \"default\").stop != -1\n",
    "            push!(output, tabspace * string(53))\n",
    "            \n",
    "            append!(output, parseData(dir * \"/\" * log, tabspace * tabspace))\n",
    "        end\n",
    "    end\n",
    "        \n",
    "    for p2 in 5:20\n",
    "        for log in julLogs\n",
    "            if search(log, string(2^p2)).stop != -1\n",
    "                push!(output, tabspace * string(2^p2))\n",
    "                \n",
    "                append!(output, parseData(dir * \"/\" * log, tabspace * tabspace))\n",
    "            end\n",
    "        end\n",
    "    end\n",
    "    \n",
    "end"
   ]
  },
  {
   "cell_type": "code",
   "execution_count": 60,
   "metadata": {
    "collapsed": false
   },
   "outputs": [],
   "source": [
    "f = open(\"../se_results_anorm.txt\", \"w\")\n",
    "for otpt in output\n",
    "    println(f, otpt)\n",
    "end\n",
    "close(f)"
   ]
  },
  {
   "cell_type": "code",
   "execution_count": null,
   "metadata": {
    "collapsed": true
   },
   "outputs": [],
   "source": []
  }
 ],
 "metadata": {
  "kernelspec": {
   "display_name": "Julia 0.4.6",
   "language": "julia",
   "name": "julia-0.4"
  },
  "language_info": {
   "file_extension": ".jl",
   "mimetype": "application/julia",
   "name": "julia",
   "version": "0.4.6"
  }
 },
 "nbformat": 4,
 "nbformat_minor": 0
}
