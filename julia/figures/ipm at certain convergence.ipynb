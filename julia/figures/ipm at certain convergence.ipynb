{
 "cells": [
  {
   "cell_type": "code",
   "execution_count": 1,
   "metadata": {
    "collapsed": false
   },
   "outputs": [
    {
     "data": {
      "text/plain": [
       "parseMatlabData (generic function with 1 method)"
      ]
     },
     "execution_count": 1,
     "metadata": {},
     "output_type": "execute_result"
    }
   ],
   "source": [
    "include(\"../src/Julia.jl\")"
   ]
  },
  {
   "cell_type": "code",
   "execution_count": 5,
   "metadata": {
    "collapsed": false
   },
   "outputs": [],
   "source": [
    "data = []\n",
    "\n",
    "ipmFolder = \"../../graphs/ipm_grid3_8000_all/\"\n",
    "allGraphs = readdir(ipmFolder)\n",
    "\n",
    "ipmIter = 0\n",
    "data = [Array{Float64,1}(0) for i in 1:5] # a column for each precision\n",
    "while true\n",
    "    try\n",
    "        ipmIter = ipmIter + 1\n",
    "        defaultName = ipmFolder * \"ipm_grid3_8000_$(ipmIter)/\" * \"_log_julia_tree1_default.txt\"\n",
    "        defaultNorm = parseData(defaultName, only2=true)\n",
    "\n",
    "        ind = 0\n",
    "        for precision in [64, 128, 256, 512, 1024]\n",
    "            logName = ipmFolder * \"ipm_grid3_8000_$(ipmIter)/\" * \"_log_julia_tree1_$(precision).txt\"\n",
    "            norm = parseData(logName, only2=true)\n",
    "\n",
    "            convIter=1\n",
    "            for i in 1:100\n",
    "                if norm[i] < 0.1\n",
    "                    convIter = i\n",
    "                    break\n",
    "                end\n",
    "            end\n",
    "\n",
    "            ind = ind + 1\n",
    "            push!(data[ind], norm[convIter] / defaultNorm[convIter])\n",
    "        end\n",
    "\n",
    "#             println(\"finished step \", ipmIter)\n",
    "    catch\n",
    "        # we aggregated all the graphs\n",
    "        break\n",
    "    end\n",
    "end\n",
    "\n",
    "for i in 1:5\n",
    "    plot(log(data[i]), label=\"$(2^(i+5)) / Default\", linewidth=2.5)\n",
    "end\n",
    "legend(fontsize=7)\n",
    "ylabel(\"[High Precision / Default] at Convergence\")\n",
    "xlabel(\"IPM iteration\")\n",
    "\n",
    "savefig(ipmFolder * \"convergencePlot.png\")\n",
    "\n",
    "PyPlot.clf()"
   ]
  },
  {
   "cell_type": "code",
   "execution_count": null,
   "metadata": {
    "collapsed": true
   },
   "outputs": [],
   "source": []
  }
 ],
 "metadata": {
  "kernelspec": {
   "display_name": "Julia 0.4.6",
   "language": "julia",
   "name": "julia-0.4"
  },
  "language_info": {
   "file_extension": ".jl",
   "mimetype": "application/julia",
   "name": "julia",
   "version": "0.4.6"
  }
 },
 "nbformat": 4,
 "nbformat_minor": 0
}
