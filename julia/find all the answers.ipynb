{
 "cells": [
  {
   "cell_type": "code",
   "execution_count": 1,
   "metadata": {
    "collapsed": false
   },
   "outputs": [
    {
     "name": "stderr",
     "output_type": "stream",
     "text": [
      "objc[42976]: Class TKApplication is implemented in both /Users/serbanstan/anaconda/lib/libtk8.5.dylib and /System/Library/Frameworks/Tk.framework/Versions/8.5/Tk. One of the two will be used. Which one is undefined.\n",
      "objc[42976]: Class TKMenu is implemented in both /Users/serbanstan/anaconda/lib/libtk8.5.dylib and /System/Library/Frameworks/Tk.framework/Versions/8.5/Tk. One of the two will be used. Which one is undefined.\n",
      "objc[42976]: Class TKContentView is implemented in both /Users/serbanstan/anaconda/lib/libtk8.5.dylib and /System/Library/Frameworks/Tk.framework/Versions/8.5/Tk. One of the two will be used. Which one is undefined.\n",
      "objc[42976]: Class TKWindow is implemented in both /Users/serbanstan/anaconda/lib/libtk8.5.dylib and /System/Library/Frameworks/Tk.framework/Versions/8.5/Tk. One of the two will be used. Which one is undefined.\n"
     ]
    }
   ],
   "source": [
    "using Laplacians"
   ]
  },
  {
   "cell_type": "code",
   "execution_count": 26,
   "metadata": {
    "collapsed": false
   },
   "outputs": [
    {
     "data": {
      "text/plain": [
       "pcgVBLASMatNorm (generic function with 1 method)"
      ]
     },
     "execution_count": 26,
     "metadata": {},
     "output_type": "execute_result"
    }
   ],
   "source": [
    "include(\"treeSolver.jl\")\n",
    "include(\"IO.jl\")\n",
    "include(\"generators.jl\")\n",
    "include(\"toHighPrecision.jl\")\n",
    "include(\"verbosePCG.jl\")"
   ]
  },
  {
   "cell_type": "code",
   "execution_count": 27,
   "metadata": {
    "collapsed": false
   },
   "outputs": [
    {
     "data": {
      "text/plain": [
       "\"/Users/serbanstan/git/TreePCG/julia\""
      ]
     },
     "execution_count": 27,
     "metadata": {},
     "output_type": "execute_result"
    }
   ],
   "source": [
    "pwd()"
   ]
  },
  {
   "cell_type": "code",
   "execution_count": 28,
   "metadata": {
    "collapsed": false
   },
   "outputs": [],
   "source": [
    "a = readFromFile(\"../graphs/se_1/graph.mtx\");"
   ]
  },
  {
   "cell_type": "code",
   "execution_count": 29,
   "metadata": {
    "collapsed": false
   },
   "outputs": [],
   "source": [
    "tree = readFromFile(\"../graphs/se_1/tree.mtx\");"
   ]
  },
  {
   "cell_type": "code",
   "execution_count": 30,
   "metadata": {
    "collapsed": false
   },
   "outputs": [],
   "source": [
    "x = readFromFile(\"../graphs/se_1/x.vec\");"
   ]
  },
  {
   "cell_type": "code",
   "execution_count": 31,
   "metadata": {
    "collapsed": false
   },
   "outputs": [],
   "source": [
    "# b = readFromFile(\"../graphs/se_1/b.vec\");\n",
    "b = lap(a) * x;"
   ]
  },
  {
   "cell_type": "code",
   "execution_count": 32,
   "metadata": {
    "collapsed": false
   },
   "outputs": [
    {
     "data": {
      "text/plain": [
       "0.0"
      ]
     },
     "execution_count": 32,
     "metadata": {},
     "output_type": "execute_result"
    }
   ],
   "source": [
    "norm(lap(a) * x - b) / norm(b)"
   ]
  },
  {
   "cell_type": "code",
   "execution_count": 33,
   "metadata": {
    "collapsed": false
   },
   "outputs": [],
   "source": [
    "la = lap(a);"
   ]
  },
  {
   "cell_type": "code",
   "execution_count": 34,
   "metadata": {
    "collapsed": false
   },
   "outputs": [
    {
     "data": {
      "text/plain": [
       "(anonymous function)"
      ]
     },
     "execution_count": 34,
     "metadata": {},
     "output_type": "execute_result"
    }
   ],
   "source": [
    "ts = treeSolver(tree)\n",
    "\n",
    "F = function(b)\n",
    "    return ts(b - mean(b))\n",
    "end"
   ]
  },
  {
   "cell_type": "code",
   "execution_count": 35,
   "metadata": {
    "collapsed": false
   },
   "outputs": [
    {
     "name": "stdout",
     "output_type": "stream",
     "text": [
      "Working on iteration 100 with error 269.7263227231269\n",
      "Working on iteration 200 with error 99.34983753313102\n",
      "Working on iteration 300 with error 60.182238757001244\n",
      "Working on iteration 400 with error 47.507408397298704\n",
      "Working on iteration 500 with error 38.745691056433344\n",
      "Working on iteration 600 with error 32.132773996369586\n",
      "Working on iteration 700 with error 27.880454612970425\n",
      "Working on iteration 800 with error 24.698907411339956\n",
      "Working on iteration 900 with error 22.62545988819161\n",
      "Working on iteration 1000 with error 21.000213402591864\n",
      "Working on iteration 1100 with error 19.15289308136822\n",
      "Working on iteration 1200 with error 17.40701054537061\n",
      "Working on iteration 1300 with error 16.603202325352896\n",
      "Working on iteration 1400 with error 15.92599905969587\n",
      "Working on iteration 1500 with error 15.3180699076338\n",
      "Working on iteration 1600 with error 14.983843490126205\n",
      "Working on iteration 1700 with error 14.620776794488817\n",
      "Working on iteration 1800 with error 14.298098320645243\n",
      "Working on iteration 1900 with error 14.029091507051207\n",
      "Working on iteration 2000 with error 13.782867879078394\n",
      "Working on iteration 2100 with error 13.549746359950975\n",
      "Working on iteration 2200 with error 13.439964029317746\n",
      "Working on iteration 2300 with error 13.28350281598813\n",
      "Working on iteration 2400 with error 13.160645582852752\n",
      "Working on iteration 2500 with error 12.99459938405451\n",
      "Working on iteration 2600 with error 12.89116837518564\n",
      "Working on iteration 2700 with error 12.794865717420281\n",
      "Working on iteration 2800 with error 12.654678658348669\n",
      "Working on iteration 2900 with error 12.503320099538202\n",
      "Working on iteration 3000 with error 12.411536620596948\n",
      "Working on iteration 3100 with error 12.283240936909406\n",
      "Working on iteration 3200 with error 12.160530318927538\n",
      "Working on iteration 3300 with error 12.062060386994363\n",
      "Working on iteration 3400 with error 11.93091367211218\n",
      "Working on iteration 3500 with error 11.878007849908096\n",
      "Working on iteration 3600 with error 11.802334025866177\n",
      "Working on iteration 3700 with error 11.68619379976537\n",
      "Working on iteration 3800 with error 11.573904892081515\n",
      "Working on iteration 3900 with error 11.445967704652642\n",
      "Working on iteration 4000 with error 11.391809906145403\n",
      "Working on iteration 4100 with error 11.338630305526165\n",
      "Working on iteration 4200 with error 11.284510730274135\n",
      "Working on iteration 4300 with error 11.168179826070503\n",
      "Working on iteration 4400 with error 11.084353801186136\n",
      "Working on iteration 4500 with error 11.016033171383105\n",
      "Working on iteration 4600 with error 10.946973627853975\n",
      "Working on iteration 4700 with error 10.856210847150338\n",
      "Working on iteration 4800 with error 10.671418607123552\n",
      "Working on iteration 4900 with error 10.480624726715137\n",
      "Working on iteration 5000 with error 10.361764301452089\n",
      "Working on iteration 5100 with error 10.247896897352343\n",
      "Working on iteration 5200 with error 10.1508942004761\n",
      "Working on iteration 5300 with error 10.024147363839726\n",
      "Working on iteration 5400 with error 9.945785092425162\n",
      "Working on iteration 5500 with error 9.854752927085974\n",
      "Working on iteration 5600 with error 9.742539450053892\n",
      "Working on iteration 5700 with error 9.632926595822452\n",
      "Working on iteration 5800 with error 9.590452414991033\n",
      "Working on iteration 5900 with error 9.518822302277636\n",
      "Working on iteration 6000 with error 9.471012706193935\n",
      "Working on iteration 6100 with error 9.234035103909411\n",
      "Working on iteration 6200 with error 9.074669601067425\n",
      "Working on iteration 6300 with error 8.979267387259755\n",
      "Working on iteration 6400 with error 8.899917382948514\n",
      "Working on iteration 6500 with error 8.713694806160953\n",
      "Working on iteration 6600 with error 8.635144521176281\n",
      "Working on iteration 6700 with error 8.512288721902976\n",
      "Working on iteration 6800 with error 8.400960065874548\n",
      "Working on iteration 6900 with error 8.263158636489969\n",
      "Working on iteration 7000 with error 8.135700465868274\n",
      "Working on iteration 7100 with error 7.868923797103059\n",
      "Working on iteration 7200 with error 7.691770636739664\n",
      "Working on iteration 7300 with error 7.608582496778898\n",
      "Working on iteration 7400 with error 7.449184599343725\n",
      "Working on iteration 7500 with error 7.342312310430422\n",
      "Working on iteration 7600 with error 7.113147501552175\n",
      "Working on iteration 7700 with error 7.006671377408526\n",
      "Working on iteration 7800 with error 6.820901404754909\n",
      "Working on iteration 7900 with error 6.750780633620606\n",
      "Working on iteration 8000 with error 6.647175757784709\n",
      "Working on iteration 8100 with error 6.561416544219945\n",
      "Working on iteration 8200 with error 6.328960860206386\n",
      "Working on iteration 8300 with error 6.23382746301427\n",
      "Working on iteration 8400 with error 6.020552524710547\n",
      "Working on iteration 8500 with error 5.832611716474374\n",
      "Working on iteration 8600 with error 5.697994849620063\n",
      "Working on iteration 8700 with error 5.641648086168199\n",
      "Working on iteration 8800 with error 5.457553067027189\n",
      "Working on iteration 8900 with error 5.062919849596895\n",
      "Working on iteration 9000 with error 4.888818680080358\n",
      "Working on iteration 9100 with error 4.769126780050589\n",
      "Working on iteration 9200 with error 4.5907903305418385\n",
      "Working on iteration 9300 with error 4.544527093336151\n",
      "Working on iteration 9400 with error 4.345597943358182\n",
      "Working on iteration 9500 with error 4.225834619712305\n",
      "Working on iteration 9600 with error 4.170865445342178\n",
      "Working on iteration 9700 with error 3.9922900373043406\n",
      "Working on iteration 9800 with error 3.9256652093038893\n",
      "Working on iteration 9900 with error 3.6999191067659982\n",
      "Working on iteration 10000 with error 3.6037611382361523\n",
      "Working on iteration 10100 with error 3.4889963918350793\n",
      "Working on iteration 10200 with error 3.4039412336214063\n",
      "Working on iteration 10300 with error 3.3690491297601213\n",
      "Working on iteration 10400 with error 3.137374266096783\n",
      "Working on iteration 10500 with error 3.044173348037197\n",
      "Working on iteration 10600 with error 3.004254506271927\n",
      "Working on iteration 10700 with error 2.881395122804763\n",
      "Working on iteration 10800 with error 2.6674594304253607\n",
      "Working on iteration 10900 with error 2.5426108194778276\n",
      "Working on iteration 11000 with error 2.496821767987632\n",
      "Working on iteration 11100 with error 2.41272229849715\n",
      "Working on iteration 11200 with error 2.3292825129739834\n",
      "Working on iteration 11300 with error 2.2709853214444986\n",
      "Working on iteration 11400 with error 2.2157137704487466\n",
      "Working on iteration 11500 with error 2.0752118703035096\n",
      "Working on iteration 11600 with error 2.0427188909447844\n",
      "Working on iteration 11700 with error 2.0173323619868118\n",
      "Working on iteration 11800 with error 1.9403320285785735\n",
      "Working on iteration 11900 with error 1.9040592467972797\n",
      "Working on iteration 12000 with error 1.8790662106315894\n",
      "Working on iteration 12100 with error 1.8025600928223282\n",
      "Working on iteration 12200 with error 1.7831322693324434\n",
      "Working on iteration 12300 with error 1.7574187271947308\n",
      "Working on iteration 12400 with error 1.5404543079412372\n",
      "Working on iteration 12500 with error 1.4043876640929847\n",
      "Working on iteration 12600 with error 1.379200174840555\n",
      "Working on iteration 12700 with error 1.3185621651026769\n",
      "Working on iteration 12800 with error 1.174684346915073\n",
      "Working on iteration 12900 with error 1.1151061833373148\n",
      "Working on iteration 13000 with error 1.0734172137481217\n",
      "Working on iteration 13100 with error 1.036287853332508\n",
      "Working on iteration 13200 with error 0.963392124199374\n",
      "Working on iteration 13300 with error 0.9374434718409737\n",
      "Working on iteration 13400 with error 0.9225373049170508\n",
      "Working on iteration 13500 with error 0.9073057007669645\n",
      "Working on iteration 13600 with error 0.8734663334388446\n",
      "Working on iteration 13700 with error 0.8439523905822017\n",
      "Working on iteration 13800 with error 0.8325209514076711\n",
      "Working on iteration 13900 with error 0.8243546383880759\n",
      "Working on iteration 14000 with error 0.8181482424877954\n",
      "Working on iteration 14100 with error 0.7860736969845808\n",
      "Working on iteration 14200 with error 0.7566844342700205\n",
      "Working on iteration 14300 with error 0.7241469535519651\n",
      "Working on iteration 14400 with error 0.7120580399508172\n",
      "Working on iteration 14500 with error 0.6971689711769525\n",
      "Working on iteration 14600 with error 0.6842932052660928\n",
      "Working on iteration 14700 with error 0.6455075096813836\n",
      "Working on iteration 14800 with error 0.6367027522119297\n",
      "Working on iteration 14900 with error 0.632489414120992\n",
      "Working on iteration 15000 with error 0.6192321765678607\n",
      "Working on iteration 15100 with error 0.5928660893430395\n",
      "Working on iteration 15200 with error 0.5653684652767111\n",
      "Working on iteration 15300 with error 0.5507401666835552\n",
      "Working on iteration 15400 with error 0.5411628762242741\n",
      "Working on iteration 15500 with error 0.5308655126264129\n",
      "Working on iteration 15600 with error 0.5153813079947325\n",
      "Working on iteration 15700 with error 0.4802570514770554\n",
      "Working on iteration 15800 with error 0.4604530411638212\n",
      "Working on iteration 15900 with error 0.4524851906746107\n",
      "Working on iteration 16000 with error 0.44461609444408984\n",
      "Working on iteration 16100 with error 0.4344044585939593\n",
      "Working on iteration 16200 with error 0.41890538916630443\n",
      "Working on iteration 16300 with error 0.402891886972801\n",
      "Working on iteration 16400 with error 0.3885850365413253\n",
      "Working on iteration 16500 with error 0.3816503532886171\n",
      "Working on iteration 16600 with error 0.37293197690099517\n",
      "Working on iteration 16700 with error 0.3639124236352419\n",
      "Working on iteration 16800 with error 0.34554637729394255\n",
      "Working on iteration 16900 with error 0.34148921810966343\n",
      "Working on iteration 17000 with error 0.3359293017128123\n",
      "Working on iteration 17100 with error 0.3207967514762004\n",
      "Working on iteration 17200 with error 0.3055861287027476\n",
      "Working on iteration 17300 with error 0.3009491816895827\n",
      "Working on iteration 17400 with error 0.2982598910340342\n",
      "Working on iteration 17500 with error 0.29092957620412696\n",
      "Working on iteration 17600 with error 0.28220540284888046\n",
      "Working on iteration 17700 with error 0.2527179011576615\n",
      "Working on iteration 17800 with error 0.24772431160009023\n",
      "Working on iteration 17900 with error 0.24170795166949166\n",
      "Working on iteration 18000 with error 0.23288283493741918\n",
      "Working on iteration 18100 with error 0.20999356024523627\n",
      "Working on iteration 18200 with error 0.2066284436801615\n",
      "Working on iteration 18300 with error 0.2004857650995206\n",
      "Working on iteration 18400 with error 0.19883126276299906\n",
      "Working on iteration 18500 with error 0.19199510732579658\n",
      "Working on iteration 18600 with error 0.18281874083130698\n",
      "Working on iteration 18700 with error 0.17592000776909658\n",
      "Working on iteration 18800 with error 0.17148002035383203\n",
      "Working on iteration 18900 with error 0.16854940071078808\n",
      "Working on iteration 19000 with error 0.16281921821543088\n",
      "Working on iteration 19100 with error 0.15455320274482598\n",
      "Working on iteration 19200 with error 0.14725566651791314\n",
      "Working on iteration 19300 with error 0.1418505198628785\n",
      "Working on iteration 19400 with error 0.13311030082073722\n",
      "Working on iteration 19500 with error 0.1313811990476926\n",
      "Working on iteration 19600 with error 0.13034045398934593\n",
      "Working on iteration 19700 with error 0.12872319348449635\n",
      "Working on iteration 19800 with error 0.12123445324981984\n",
      "Working on iteration 19900 with error 0.11895567098832996\n",
      "Working on iteration 20000 with error 0.11651529540175659\n",
      "Working on iteration 20100 with error 0.1152702711071745\n",
      "Working on iteration 20200 with error 0.11352660989394901\n",
      "Working on iteration 20300 with error 0.11113160435178458\n",
      "Working on iteration 20400 with error 0.10529792927437961\n",
      "Working on iteration 20500 with error 0.09984110208429582\n",
      "Working on iteration 20600 with error 0.09689598128831567\n",
      "Working on iteration 20700 with error 0.09451056159713893\n",
      "Working on iteration 20800 with error 0.09264311562531195\n",
      "Working on iteration 20900 with error 0.09164264810318708\n",
      "Working on iteration 21000 with error 0.08603594652021058\n",
      "Working on iteration 21100 with error 0.08231875994308716\n",
      "Working on iteration 21200 with error 0.0794944978391068\n",
      "Working on iteration 21300 with error 0.07442801748795454\n",
      "Working on iteration 21400 with error 0.07214242693945523\n",
      "Working on iteration 21500 with error 0.07048654890612545\n",
      "Working on iteration 21600 with error 0.06841842911913681\n",
      "Working on iteration 21700 with error 0.06528015956031476\n",
      "Working on iteration 21800 with error 0.06390032649037056\n",
      "Working on iteration 21900 with error 0.057600169360832176\n",
      "Working on iteration 22000 with error 0.054454295913163454\n",
      "Working on iteration 22100 with error 0.05278608230608967\n",
      "Working on iteration 22200 with error 0.051955569237793375\n",
      "Working on iteration 22300 with error 0.05123096177459986\n",
      "Working on iteration 22400 with error 0.05025255453003833\n",
      "Working on iteration 22500 with error 0.04859368269567181\n",
      "Working on iteration 22600 with error 0.04580857029150547\n",
      "Working on iteration 22700 with error 0.04482535211888686\n",
      "Working on iteration 22800 with error 0.04368777654794274\n",
      "Working on iteration 22900 with error 0.041364856464413645\n",
      "Working on iteration 23000 with error 0.040745080709079305\n",
      "Working on iteration 23100 with error 0.04044821865571807\n",
      "Working on iteration 23200 with error 0.0392828162712316\n",
      "Working on iteration 23300 with error 0.035675470334632225\n",
      "Working on iteration 23400 with error 0.03381186349488479\n",
      "Working on iteration 23500 with error 0.03275344235319037\n",
      "Working on iteration 23600 with error 0.03136094861682452\n",
      "Working on iteration 23700 with error 0.030171061462549505\n",
      "Working on iteration 23800 with error 0.030028446744844412\n",
      "Working on iteration 23900 with error 0.029636372925041274\n",
      "Working on iteration 24000 with error 0.026716620227123237\n",
      "Working on iteration 24100 with error 0.026061557354793582\n",
      "Working on iteration 24200 with error 0.025299338045858537\n",
      "Working on iteration 24300 with error 0.0245838464982005\n",
      "Working on iteration 24400 with error 0.02395565792615557\n",
      "Working on iteration 24500 with error 0.023039949697029792\n",
      "Working on iteration 24600 with error 0.021897092012401122\n",
      "Working on iteration 24700 with error 0.02096512918425689\n",
      "Working on iteration 24800 with error 0.020210080431164113\n",
      "Working on iteration 24900 with error 0.01966093475298462\n",
      "Working on iteration 25000 with error 0.01890118037597028\n",
      "Working on iteration 25100 with error 0.017947528434054845\n",
      "Working on iteration 25200 with error 0.017452249712874103\n",
      "Working on iteration 25300 with error 0.01611214818779504\n",
      "Working on iteration 25400 with error 0.014433848018783182\n",
      "Working on iteration 25500 with error 0.013520201429338047\n",
      "Working on iteration 25600 with error 0.013462629262551483\n",
      "Working on iteration 25700 with error 0.01328676846824604\n",
      "Working on iteration 25800 with error 0.012980740038165985\n",
      "Working on iteration 25900 with error 0.012478211731129755\n",
      "Working on iteration 26000 with error 0.011890458992178372\n",
      "Working on iteration 26100 with error 0.011715476558978272\n",
      "Working on iteration 26200 with error 0.011292463142854509\n",
      "Working on iteration 26300 with error 0.011187028429565534\n",
      "Working on iteration 26400 with error 0.010931291168271146\n",
      "Working on iteration 26500 with error 0.010334468935432157\n",
      "Working on iteration 26600 with error 0.009796645273624806\n",
      "Working on iteration 26700 with error 0.009247918029878512\n",
      "Working on iteration 26800 with error 0.008883220123632888\n",
      "Working on iteration 26900 with error 0.008533167961467622\n",
      "Working on iteration 27000 with error 0.008427921991107847\n",
      "Working on iteration 27100 with error 0.008220823292133717\n",
      "Working on iteration 27200 with error 0.007562366105782042\n",
      "Working on iteration 27300 with error 0.0072246666088806\n",
      "Working on iteration 27400 with error 0.006991701030380069\n",
      "Working on iteration 27500 with error 0.006945464055685399\n",
      "Working on iteration 27600 with error 0.006839026542431113\n",
      "Working on iteration 27700 with error 0.006542387036023298\n",
      "Working on iteration 27800 with error 0.00625436370075066\n",
      "Working on iteration 27900 with error 0.006124697427662646\n",
      "Working on iteration 28000 with error 0.005989849714439867\n",
      "Working on iteration 28100 with error 0.005901733621653926\n",
      "Working on iteration 28200 with error 0.005659476498002868\n",
      "Working on iteration 28300 with error 0.005433850582253375\n",
      "Working on iteration 28400 with error 0.005333684977822767\n",
      "Working on iteration 28500 with error 0.005138073352108679\n",
      "Working on iteration 28600 with error 0.005015242460684521\n",
      "Working on iteration 28700 with error 0.004625650945435149\n",
      "Working on iteration 28800 with error 0.004511279474458834\n",
      "Working on iteration 28900 with error 0.004342058989613545\n",
      "Working on iteration 29000 with error 0.004221482078568887\n",
      "Working on iteration 29100 with error 0.00411232773413677\n",
      "Working on iteration 29200 with error 0.0039927593268035385\n",
      "Working on iteration 29300 with error 0.003713502443428634\n",
      "Working on iteration 29400 with error 0.0033465714349538308\n",
      "Working on iteration 29500 with error 0.00323861253991149\n",
      "Working on iteration 29600 with error 0.0031635687479162782\n",
      "Working on iteration 29700 with error 0.003060591673746982\n",
      "Working on iteration 29800 with error 0.003051499637771728\n",
      "Working on iteration 29900 with error 0.0029726057631521115\n",
      "Working on iteration 30000 with error 0.002889265857616579\n",
      "Working on iteration 30100 with error 0.00280603325186512\n",
      "Working on iteration 30200 with error 0.0027612850240209554\n",
      "Working on iteration 30300 with error 0.002725142251743382\n",
      "Working on iteration 30400 with error 0.002677560517387776\n",
      "Working on iteration 30500 with error 0.0025890267048812488\n",
      "Working on iteration 30600 with error 0.002529933339028259\n",
      "Working on iteration 30700 with error 0.002330849308360041\n",
      "Working on iteration 30800 with error 0.0021075101243074666\n",
      "Working on iteration 30900 with error 0.0020934417277544875\n",
      "Working on iteration 31000 with error 0.0020692178395499633\n",
      "Working on iteration 31100 with error 0.001957354282219392\n",
      "Working on iteration 31200 with error 0.0018806858962977773\n",
      "Working on iteration 31300 with error 0.0018280413787486675\n",
      "Working on iteration 31400 with error 0.001775234332378077\n",
      "Working on iteration 31500 with error 0.0017624671464256266\n",
      "Working on iteration 31600 with error 0.0017385654107625046\n",
      "Working on iteration 31700 with error 0.0016760862170386798\n",
      "Working on iteration 31800 with error 0.0016530345410206266\n",
      "Working on iteration 31900 with error 0.001540693925976754\n",
      "Working on iteration 32000 with error 0.0015585246480404804\n",
      "Working on iteration 32100 with error 0.0015345314432206071\n",
      "Working on iteration 32200 with error 0.001486580913549607\n",
      "Working on iteration 32300 with error 0.001428541839632255\n",
      "Working on iteration 32400 with error 0.0014159630837127996\n",
      "Working on iteration 32500 with error 0.0013297859720863604\n",
      "Working on iteration 32600 with error 0.0012497595380068453\n",
      "Working on iteration 32700 with error 0.001250521771942674\n",
      "Working on iteration 32800 with error 0.0012018463026004912\n",
      "Working on iteration 32900 with error 0.0011049571686832394\n",
      "Working on iteration 33000 with error 0.0011014536608192327\n",
      "Working on iteration 33100 with error 0.0010935684254824204\n",
      "Working on iteration 33200 with error 0.001060795104966553\n",
      "PCG stopped after: 33238 iterations with relative error 0.0009978900635431581.\n",
      " 35.389674 seconds (450.62 M allocations: 20.520 GB, 11.95% gc time)\n"
     ]
    },
    {
     "data": {
      "text/plain": [
       "5.341284933996111e-10"
      ]
     },
     "execution_count": 35,
     "metadata": {},
     "output_type": "execute_result"
    }
   ],
   "source": [
    "@time myx64 = pcgVMatNorm(la, b, F, x, tol=1e-3, maxits=100000, verbose=true);\n",
    "norm(lap(a) * myx64 - b) / norm(b)"
   ]
  },
  {
   "cell_type": "code",
   "execution_count": 37,
   "metadata": {
    "collapsed": false
   },
   "outputs": [
    {
     "name": "stdout",
     "output_type": "stream",
     "text": [
      "Working on iteration 100 with error 2.57354271870849476922e+02\n",
      "Working on iteration 200 with error 9.63160023344863077677e+01\n",
      "Working on iteration 300 with error 5.71301616074166983827e+01\n",
      "Working on iteration 400 with error 4.43248785079218231529e+01\n",
      "Working on iteration 500 with error 3.56007947681027436954e+01\n",
      "Working on iteration 600 with error 2.95267170897357084224e+01\n",
      "Working on iteration 700 with error 2.59693377951084328186e+01\n",
      "Working on iteration 800 with error 2.29197458054033311858e+01\n",
      "Working on iteration 900 with error 2.09477608931756584098e+01\n",
      "Working on iteration 1000 with error 1.90519844367259991186e+01\n",
      "Working on iteration 1100 with error 1.70891487427500564887e+01\n",
      "Working on iteration 1200 with error 1.62740423959879157451e+01\n",
      "Working on iteration 1300 with error 1.54342291601545240761e+01\n",
      "Working on iteration 1400 with error 1.50195097392184077631e+01\n",
      "Working on iteration 1500 with error 1.46525738141534738954e+01\n",
      "Working on iteration 1600 with error 1.42659582353333458634e+01\n",
      "Working on iteration 1700 with error 1.3945225216048260073e+01\n",
      "Working on iteration 1800 with error 1.3702278165515260914e+01\n",
      "Working on iteration 1900 with error 1.34682597263119569492e+01\n",
      "Working on iteration 2000 with error 1.33147451197804482549e+01\n",
      "Working on iteration 2100 with error 1.31416966465168363765e+01\n",
      "Working on iteration 2200 with error 1.29916431944868801295e+01\n",
      "Working on iteration 2300 with error 1.28665497557743196012e+01\n",
      "Working on iteration 2400 with error 1.27077164476493397948e+01\n",
      "Working on iteration 2500 with error 1.25216330038930267849e+01\n",
      "Working on iteration 2600 with error 1.2406938870980995346e+01\n",
      "Working on iteration 2700 with error 1.22569772248633001525e+01\n",
      "Working on iteration 2800 with error 1.21199135796253551324e+01\n",
      "Working on iteration 2900 with error 1.19915174997643599704e+01\n",
      "Working on iteration 3000 with error 1.18793756605764211972e+01\n",
      "Working on iteration 3100 with error 1.17821979300918072125e+01\n",
      "Working on iteration 3200 with error 1.16622306666474621073e+01\n",
      "Working on iteration 3300 with error 1.15610114027502160422e+01\n",
      "Working on iteration 3400 with error 1.14020107095995581938e+01\n",
      "Working on iteration 3500 with error 1.13394762687477685141e+01\n",
      "Working on iteration 3600 with error 1.12549501242552780341e+01\n",
      "Working on iteration 3700 with error 1.11179411880908463718e+01\n",
      "Working on iteration 3800 with error 1.10564071924016158414e+01\n",
      "Working on iteration 3900 with error 1.0965333878528085664e+01\n",
      "Working on iteration 4000 with error 1.07659465694630203025e+01\n",
      "Working on iteration 4100 with error 1.05994639161383719756e+01\n",
      "Working on iteration 4200 with error 1.04386543746077709626e+01\n",
      "Working on iteration 4300 with error 1.02810712007844904364e+01\n",
      "Working on iteration 4400 with error 1.01400081600098438163e+01\n",
      "Working on iteration 4500 with error 9.9834571819091682196\n",
      "Working on iteration 4600 with error 9.91331546724383822281\n",
      "Working on iteration 4700 with error 9.72744448374981344422\n",
      "Working on iteration 4800 with error 9.62307906037712331923\n",
      "Working on iteration 4900 with error 9.54743030201721902019\n",
      "Working on iteration 5000 with error 9.44084125734203899721\n",
      "Working on iteration 5100 with error 9.21918427623854770496\n",
      "Working on iteration 5200 with error 9.09592534388988629458\n",
      "Working on iteration 5300 with error 8.93189612466348644478\n",
      "Working on iteration 5400 with error 8.72621610649805405993\n",
      "Working on iteration 5500 with error 8.61380777735448361927\n",
      "Working on iteration 5600 with error 8.52135605978622573918\n",
      "Working on iteration 5700 with error 8.32732994962748952414\n",
      "Working on iteration 5800 with error 8.10617938906804013418\n",
      "Working on iteration 5900 with error 7.92824967552596420947\n",
      "Working on iteration 6000 with error 7.7213467177532610409\n",
      "Working on iteration 6100 with error 7.53454354162331452812\n",
      "Working on iteration 6200 with error 7.25071177496543016732\n",
      "Working on iteration 6300 with error 7.05192614146536383155\n",
      "Working on iteration 6400 with error 6.84801879780731897031\n",
      "Working on iteration 6500 with error 6.67965247313668783382\n"
     ]
    },
    {
     "ename": "LoadError",
     "evalue": "LoadError: InterruptException:\nwhile loading In[37], in expression starting on line 3",
     "output_type": "error",
     "traceback": [
      "LoadError: InterruptException:\nwhile loading In[37], in expression starting on line 3",
      "",
      " in * at mpfr.jl:232",
      " in vecdot at linalg/generic.jl:255",
      " in dot at linalg/generic.jl:292",
      " in pcgVBLASMatNorm at /Users/serbanstan/git/TreePCG/julia/verbosePCG.jl:142",
      " [inlined code] from util.jl:155",
      " in anonymous at no file:0"
     ]
    }
   ],
   "source": [
    "dbg = []\n",
    "\n",
    "for precision in [64,128,1024]\n",
    "    hp = precision\n",
    "    set_bigfloat_precision(hp)\n",
    "    laHP = toHighPrecision(la; precision=hp)\n",
    "    treeHP = toHighPrecision(tree; precision=hp)\n",
    "    xHP = toHighPrecision(x; precision=hp);\n",
    "    bHP = toHighPrecision(b; precision=hp);\n",
    "    tsHP = treeSolver(treeHP)\n",
    "\n",
    "    FHP = function(b)\n",
    "        return tsHP(b - mean(b))\n",
    "    end\n",
    "    \n",
    "    push!(dbg, \"======= $(hp) bit precision\")\n",
    "    @time myxHP = pcgVMatNorm(laHP, bHP, FHP, xHP, tol=1e-3, maxits=100000, verbose=true);\n",
    "    norm(laHP * myxHP - bHP) / norm(bHP)\n",
    "    push!(dbg, \"\")\n",
    "    push!(dbg, \"\")\n",
    "    \n",
    "end"
   ]
  },
  {
   "cell_type": "code",
   "execution_count": 38,
   "metadata": {
    "collapsed": false
   },
   "outputs": [],
   "source": [
    "writeToFile(\"../graphs/se_1/_log_julia.txt\", dbg)"
   ]
  },
  {
   "cell_type": "code",
   "execution_count": null,
   "metadata": {
    "collapsed": true
   },
   "outputs": [],
   "source": []
  },
  {
   "cell_type": "code",
   "execution_count": null,
   "metadata": {
    "collapsed": false
   },
   "outputs": [],
   "source": []
  },
  {
   "cell_type": "code",
   "execution_count": null,
   "metadata": {
    "collapsed": true
   },
   "outputs": [],
   "source": []
  }
 ],
 "metadata": {
  "kernelspec": {
   "display_name": "Julia 0.4.6",
   "language": "julia",
   "name": "julia-0.4"
  },
  "language_info": {
   "file_extension": ".jl",
   "mimetype": "application/julia",
   "name": "julia",
   "version": "0.4.6"
  }
 },
 "nbformat": 4,
 "nbformat_minor": 0
}
