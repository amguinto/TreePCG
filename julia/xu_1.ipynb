{
 "cells": [
  {
   "cell_type": "code",
   "execution_count": 1,
   "metadata": {
    "collapsed": false
   },
   "outputs": [
    {
     "name": "stderr",
     "output_type": "stream",
     "text": [
      "objc[16225]: Class TKApplication is implemented in both /Users/serbanstan/anaconda/lib/libtk8.5.dylib and /System/Library/Frameworks/Tk.framework/Versions/8.5/Tk. One of the two will be used. Which one is undefined.\n",
      "objc[16225]: Class TKMenu is implemented in both /Users/serbanstan/anaconda/lib/libtk8.5.dylib and /System/Library/Frameworks/Tk.framework/Versions/8.5/Tk. One of the two will be used. Which one is undefined.\n",
      "objc[16225]: Class TKContentView is implemented in both /Users/serbanstan/anaconda/lib/libtk8.5.dylib and /System/Library/Frameworks/Tk.framework/Versions/8.5/Tk. One of the two will be used. Which one is undefined.\n",
      "objc[16225]: Class TKWindow is implemented in both /Users/serbanstan/anaconda/lib/libtk8.5.dylib and /System/Library/Frameworks/Tk.framework/Versions/8.5/Tk. One of the two will be used. Which one is undefined.\n"
     ]
    }
   ],
   "source": [
    "using Laplacians"
   ]
  },
  {
   "cell_type": "code",
   "execution_count": 2,
   "metadata": {
    "collapsed": false
   },
   "outputs": [
    {
     "data": {
      "text/plain": [
       "pcgWorker (generic function with 1 method)"
      ]
     },
     "execution_count": 2,
     "metadata": {},
     "output_type": "execute_result"
    }
   ],
   "source": [
    "include(\"treeSolver.jl\")\n",
    "include(\"IO.jl\")\n",
    "include(\"generators.jl\")\n",
    "include(\"toHighPrecision.jl\")\n",
    "include(\"verbosePCG.jl\")"
   ]
  },
  {
   "cell_type": "code",
   "execution_count": 3,
   "metadata": {
    "collapsed": false
   },
   "outputs": [
    {
     "data": {
      "text/plain": [
       "\"/Users/serbanstan/git/TreePCG/julia\""
      ]
     },
     "execution_count": 3,
     "metadata": {},
     "output_type": "execute_result"
    }
   ],
   "source": [
    "pwd()"
   ]
  },
  {
   "cell_type": "code",
   "execution_count": 4,
   "metadata": {
    "collapsed": false
   },
   "outputs": [
    {
     "data": {
      "text/plain": [
       "\"../graphs/xu_1/\""
      ]
     },
     "execution_count": 4,
     "metadata": {},
     "output_type": "execute_result"
    }
   ],
   "source": [
    "graphp = \"../graphs/xu_1/\""
   ]
  },
  {
   "cell_type": "code",
   "execution_count": 5,
   "metadata": {
    "collapsed": false
   },
   "outputs": [],
   "source": [
    "a = readFromFile(graphp * \"graph.mtx\");"
   ]
  },
  {
   "cell_type": "code",
   "execution_count": 6,
   "metadata": {
    "collapsed": false
   },
   "outputs": [],
   "source": [
    "tree = readFromFile(graphp * \"tree.mtx\");"
   ]
  },
  {
   "cell_type": "code",
   "execution_count": 7,
   "metadata": {
    "collapsed": false
   },
   "outputs": [],
   "source": [
    "x = readFromFile(graphp * \"x.vec\");"
   ]
  },
  {
   "cell_type": "code",
   "execution_count": 11,
   "metadata": {
    "collapsed": false
   },
   "outputs": [
    {
     "data": {
      "text/plain": [
       "1000"
      ]
     },
     "execution_count": 11,
     "metadata": {},
     "output_type": "execute_result"
    }
   ],
   "source": [
    "la = lap(a);\n",
    "x = x - mean(x)\n",
    "b = la * x; b = b - mean(b);\n",
    "a.n"
   ]
  },
  {
   "cell_type": "code",
   "execution_count": 12,
   "metadata": {
    "collapsed": false
   },
   "outputs": [
    {
     "name": "stdout",
     "output_type": "stream",
     "text": [
      "  0.000275 seconds (94 allocations: 287.234 KB)\n",
      "  0.000494 seconds (13.46 k allocations: 274.125 KB)\n"
     ]
    }
   ],
   "source": [
    "@time F = treeSolver(tree)\n",
    "@time F(b);"
   ]
  },
  {
   "cell_type": "code",
   "execution_count": 13,
   "metadata": {
    "collapsed": false
   },
   "outputs": [
    {
     "name": "stdout",
     "output_type": "stream",
     "text": [
      "Working on iteration 10 with a-norm error 82.21779904997032\n",
      "Working on iteration 20 with a-norm error 72.17063697972428\n",
      "Working on iteration 30 with a-norm error 59.095426930729616\n",
      "Working on iteration 40 with a-norm error 47.18392847809445\n",
      "Working on iteration 50 with a-norm error 36.31161977348675\n",
      "Working on iteration 60 with a-norm error 25.86851112136811\n",
      "Working on iteration 70 with a-norm error 18.245484919174107\n",
      "Working on iteration 80 with a-norm error 13.29995781088976\n",
      "Working on iteration 90 with a-norm error 9.477570703658863\n",
      "Working on iteration 100 with a-norm error 6.523594065060017\n",
      "Working on iteration 110 with a-norm error 4.478739410611442\n",
      "Working on iteration 120 with a-norm error 3.438330354035442\n",
      "Working on iteration 130 with a-norm error 2.310259811618153\n",
      "Working on iteration 140 with a-norm error 1.71671313122338\n",
      "Working on iteration 150 with a-norm error 1.0860413894415806\n",
      "Working on iteration 160 with a-norm error 0.8284350516861476\n",
      "Working on iteration 170 with a-norm error 0.5401527080469359\n",
      "Working on iteration 180 with a-norm error 0.40288514799730646\n",
      "Working on iteration 190 with a-norm error 0.24754487953635318\n",
      "Working on iteration 200 with a-norm error 0.1864079522715244\n",
      "Working on iteration 210 with a-norm error 0.11822281419874224\n",
      "Working on iteration 220 with a-norm error 0.08176902890804624\n",
      "Working on iteration 230 with a-norm error 0.0656554805189891\n",
      "Working on iteration 240 with a-norm error 0.04415163241599157\n",
      "Working on iteration 250 with a-norm error 0.02738043726320428\n",
      "Working on iteration 260 with a-norm error 0.01959764079430963\n",
      "Working on iteration 270 with a-norm error 0.014758781465943373\n",
      "Working on iteration 280 with a-norm error 0.009531048979240432\n",
      "Working on iteration 290 with a-norm error 0.006224681755649153\n",
      "Working on iteration 300 with a-norm error 0.00407675167892638\n",
      "Working on iteration 310 with a-norm error 0.0028439740094402324\n",
      "Working on iteration 320 with a-norm error 0.0019474541901926272\n",
      "Working on iteration 330 with a-norm error 0.0013508266582806946\n",
      "Working on iteration 340 with a-norm error 0.0008733213651196883\n",
      "Working on iteration 350 with a-norm error 0.000662468484317775\n",
      "Working on iteration 360 with a-norm error 0.00044701003725784895\n",
      "Working on iteration 370 with a-norm error 0.00030655174917901067\n",
      "Working on iteration 380 with a-norm error 0.000220972209156992\n",
      "Working on iteration 390 with a-norm error 0.00015420686638286158\n",
      "Working on iteration 400 with a-norm error 0.000107015451119995\n",
      "Working on iteration 410 with a-norm error 6.334523378780918e-5\n",
      "Working on iteration 420 with a-norm error 4.7560453452615584e-5\n",
      "Working on iteration 430 with a-norm error 3.2796438047389224e-5\n",
      "Working on iteration 440 with a-norm error 2.5427617980641234e-5\n",
      "Working on iteration 450 with a-norm error 1.525339114328564e-5\n",
      "Working on iteration 460 with a-norm error 1.1289353291723587e-5\n",
      "Working on iteration 470 with a-norm error 8.94639970002586e-6\n",
      "Working on iteration 480 with a-norm error 5.789531355721046e-6\n",
      "Working on iteration 490 with a-norm error 4.9549658921395355e-6\n",
      "Working on iteration 500 with a-norm error 3.217459060190089e-6\n",
      "Working on iteration 510 with a-norm error 2.052620370914234e-6\n",
      "Working on iteration 520 with a-norm error 1.5228814003099515e-6\n",
      "Working on iteration 530 with a-norm error 1.0774063495042716e-6\n",
      "Working on iteration 540 with a-norm error 8.066403809683272e-7\n",
      "Working on iteration 550 with a-norm error 5.643738094563948e-7\n",
      "Working on iteration 560 with a-norm error 4.153081715266999e-7\n",
      "Working on iteration 570 with a-norm error 3.076372380457543e-7\n",
      "Working on iteration 580 with a-norm error 2.140397840087985e-7\n",
      "Working on iteration 590 with a-norm error 1.4987239054179554e-7\n",
      "Working on iteration 600 with a-norm error 1.2577791303571833e-7\n",
      "Working on iteration 610 with a-norm error 9.109919687272603e-8\n",
      "Working on iteration 620 with a-norm error 6.814462006862976e-8\n",
      "Working on iteration 630 with a-norm error 5.513263127762523e-8\n",
      "Working on iteration 640 with a-norm error 3.28305380652404e-8\n",
      "Working on iteration 650 with a-norm error 2.5016561488132446e-8\n",
      "Working on iteration 660 with a-norm error 1.9011241088542116e-8\n",
      "Working on iteration 670 with a-norm error 1.4282111383910569e-8\n",
      "Working on iteration 680 with a-norm error 1.2543477607744874e-8\n",
      "Working on iteration 690 with a-norm error 8.583979844817749e-9\n",
      "Working on iteration 700 with a-norm error 6.8521522507633906e-9\n",
      "Working on iteration 710 with a-norm error 5.2400083693052245e-9\n",
      "Working on iteration 720 with a-norm error 3.852430755986928e-9\n",
      "Working on iteration 730 with a-norm error 2.9708589043659386e-9\n",
      "Working on iteration 740 with a-norm error 2.5741575148170338e-9\n",
      "Working on iteration 750 with a-norm error 1.830280138615626e-9\n",
      "Working on iteration 760 with a-norm error 1.3560755557252861e-9\n",
      "Working on iteration 770 with a-norm error 1.0510344072564893e-9\n",
      "Working on iteration 780 with a-norm error 8.404074697483154e-10\n",
      "Working on iteration 790 with a-norm error 6.46481142647366e-10\n",
      "Working on iteration 800 with a-norm error 4.970525606017216e-10\n",
      "Working on iteration 810 with a-norm error 3.9923476167384943e-10\n",
      "Working on iteration 820 with a-norm error 3.0675748090106994e-10\n",
      "Working on iteration 830 with a-norm error 2.670925942886606e-10\n",
      "Working on iteration 840 with a-norm error 1.9624381532321327e-10\n",
      "Working on iteration 850 with a-norm error 1.4575803920806147e-10\n",
      "Working on iteration 860 with a-norm error 1.1903472800272638e-10\n",
      "Working on iteration 870 with a-norm error 9.535510904205763e-11\n",
      "Working on iteration 880 with a-norm error 6.783525396113556e-11\n",
      "Working on iteration 890 with a-norm error 5.701060952316341e-11\n",
      "Working on iteration 900 with a-norm error 4.3574455723707146e-11\n",
      "Working on iteration 910 with a-norm error 3.904816571735338e-11\n",
      "Working on iteration 920 with a-norm error 3.1098855560041696e-11\n",
      "Working on iteration 930 with a-norm error 2.590408496935537e-11\n",
      "Working on iteration 940 with a-norm error 2.1092611318602223e-11\n",
      "Working on iteration 950 with a-norm error 1.6876385249319398e-11\n",
      "Working on iteration 960 with a-norm error 1.4495468153001384e-11\n",
      "Working on iteration 970 with a-norm error 1.1675638524245959e-11\n",
      "Working on iteration 980 with a-norm error 9.691240969238067e-12\n",
      "Working on iteration 990 with a-norm error 7.923242794658295e-12\n",
      "Working on iteration 1000 with a-norm error 6.833227755537277e-12\n",
      "PCG stopped after: 1000 iterations with relative error 6.805858779384419e-12.\n",
      "  1.660992 seconds (14.15 M allocations: 406.867 MB, 4.79% gc time)\n"
     ]
    }
   ],
   "source": [
    "# a run on standard Float64 data types\n",
    "numIts = 1000;\n",
    "@time myx64,dbg = pcgV(la, b, F, x, maxits=numIts, verbose=true);\n",
    "norm(lap(a) * myx64 - b) / norm(b)\n",
    "insert!(dbg, 1, \"$(numIts) iterations\")\n",
    "insert!(dbg, 1, \"anorm = sqrt((x-truex)' * la * (x-truex)), err2_a = norm(la*x-b) / norm(b), err2_b = norm(x-truex)\")\n",
    "writeToFile(graphp * \"_log_julia_default.txt\", dbg)"
   ]
  },
  {
   "cell_type": "code",
   "execution_count": 14,
   "metadata": {
    "collapsed": false
   },
   "outputs": [
    {
     "name": "stdout",
     "output_type": "stream",
     "text": [
      "Working on iteration 10 with a-norm error 82.21774750212634\n",
      "Working on iteration 20 with a-norm error 69.40019318796877\n",
      "Working on iteration 30 with a-norm error 56.89391907312806\n",
      "Working on iteration 40 with a-norm error 43.905214792009794\n",
      "Working on iteration 50 with a-norm error 31.130198753506008\n",
      "Working on iteration 60 with a-norm error 22.095839063847635\n",
      "Working on iteration 70 with a-norm error 14.609724618629729\n",
      "Working on iteration 80 with a-norm error 9.770666008576264\n",
      "Working on iteration 90 with a-norm error 6.682077892026056\n",
      "Working on iteration 100 with a-norm error 4.152869138976626\n",
      "Working on iteration 110 with a-norm error 2.839412232275255\n",
      "Working on iteration 120 with a-norm error 2.1216639876933696\n",
      "Working on iteration 130 with a-norm error 1.193112403806358\n",
      "Working on iteration 140 with a-norm error 0.8942596553130171\n",
      "Working on iteration 150 with a-norm error 0.5965023457722083\n",
      "Working on iteration 160 with a-norm error 0.37124663262223384\n",
      "Working on iteration 170 with a-norm error 0.2261872108945226\n",
      "Working on iteration 180 with a-norm error 0.15396989527199975\n",
      "Working on iteration 190 with a-norm error 0.08946911738058462\n",
      "Working on iteration 200 with a-norm error 0.06826081034049436\n",
      "Working on iteration 210 with a-norm error 0.042436533069097886\n",
      "Working on iteration 220 with a-norm error 0.028260997498342627\n",
      "Working on iteration 230 with a-norm error 0.017793079015090967\n",
      "Working on iteration 240 with a-norm error 0.010472442471122473\n",
      "Working on iteration 250 with a-norm error 0.006953757030033603\n",
      "Working on iteration 260 with a-norm error 0.004937359205334941\n",
      "Working on iteration 270 with a-norm error 0.0030608400706740885\n",
      "Working on iteration 280 with a-norm error 0.0020762466773138867\n",
      "Working on iteration 290 with a-norm error 0.0011405259374625955\n",
      "Working on iteration 300 with a-norm error 0.0007311322950122939\n",
      "Working on iteration 310 with a-norm error 0.000491869656587574\n",
      "Working on iteration 320 with a-norm error 0.0003242218940458002\n",
      "Working on iteration 330 with a-norm error 0.0002114150827475227\n",
      "Working on iteration 340 with a-norm error 0.00013919164975937433\n",
      "Working on iteration 350 with a-norm error 9.283208564755199e-5\n",
      "Working on iteration 360 with a-norm error 5.428728430986072e-5\n",
      "Working on iteration 370 with a-norm error 3.7346146229622504e-5\n",
      "Working on iteration 380 with a-norm error 2.2540956099728246e-5\n",
      "Working on iteration 390 with a-norm error 1.4275752456891508e-5\n",
      "Working on iteration 400 with a-norm error 8.813638255281731e-6\n",
      "Working on iteration 410 with a-norm error 6.316996159788334e-6\n",
      "Working on iteration 420 with a-norm error 3.995291986643681e-6\n",
      "Working on iteration 430 with a-norm error 2.7358487142118773e-6\n",
      "Working on iteration 440 with a-norm error 1.8344518957550977e-6\n",
      "Working on iteration 450 with a-norm error 1.075614603068488e-6\n",
      "Working on iteration 460 with a-norm error 7.751018122658688e-7\n",
      "Working on iteration 470 with a-norm error 5.446512026245552e-7\n",
      "Working on iteration 480 with a-norm error 3.8119989328043385e-7\n",
      "Working on iteration 490 with a-norm error 2.423276580311324e-7\n",
      "Working on iteration 500 with a-norm error 1.7039284318798493e-7\n",
      "Working on iteration 510 with a-norm error 1.2086070537868554e-7\n",
      "Working on iteration 520 with a-norm error 7.588530998593165e-8\n",
      "Working on iteration 530 with a-norm error 5.1532557526869253e-8\n",
      "Working on iteration 540 with a-norm error 3.2982259224407645e-8\n",
      "Working on iteration 550 with a-norm error 2.5585629523645184e-8\n",
      "Working on iteration 560 with a-norm error 1.5381822812356723e-8\n",
      "Working on iteration 570 with a-norm error 1.213782230869484e-8\n",
      "Working on iteration 580 with a-norm error 8.080353952538566e-9\n",
      "Working on iteration 590 with a-norm error 5.6440932627289124e-9\n",
      "Working on iteration 600 with a-norm error 3.834110871411807e-9\n",
      "Working on iteration 610 with a-norm error 2.9144999362419513e-9\n",
      "Working on iteration 620 with a-norm error 1.739701069319351e-9\n",
      "Working on iteration 630 with a-norm error 1.369115439541806e-9\n",
      "Working on iteration 640 with a-norm error 9.962481164010867e-10\n",
      "Working on iteration 650 with a-norm error 6.968996121964379e-10\n",
      "Working on iteration 660 with a-norm error 5.131877010954334e-10\n",
      "Working on iteration 670 with a-norm error 4.2291457319314824e-10\n",
      "Working on iteration 680 with a-norm error 2.5121979993235557e-10\n",
      "Working on iteration 690 with a-norm error 1.7987110872701244e-10\n",
      "Working on iteration 700 with a-norm error 1.4257553515242773e-10\n",
      "Working on iteration 710 with a-norm error 1.0491106770629359e-10\n",
      "Working on iteration 720 with a-norm error 8.575907543605291e-11\n",
      "Working on iteration 730 with a-norm error 6.076282794210949e-11\n",
      "Working on iteration 740 with a-norm error 4.509525169312081e-11\n",
      "Working on iteration 750 with a-norm error 3.0442476065283506e-11\n",
      "Working on iteration 760 with a-norm error 2.5463602416874572e-11\n",
      "Working on iteration 770 with a-norm error 1.6946159754087825e-11\n",
      "Working on iteration 780 with a-norm error 1.2159773097154264e-11\n",
      "Working on iteration 790 with a-norm error 8.788833850816361e-12\n",
      "Working on iteration 800 with a-norm error 7.1092363660003255e-12\n",
      "Working on iteration 810 with a-norm error 5.24235010970153e-12\n",
      "Working on iteration 820 with a-norm error 3.810467539196362e-12\n",
      "Working on iteration 830 with a-norm error 3.2633508421582615e-12\n",
      "Working on iteration 840 with a-norm error 2.319547826968791e-12\n",
      "Working on iteration 850 with a-norm error 1.9105393511223166e-12\n",
      "Working on iteration 860 with a-norm error 1.4635390918121827e-12\n",
      "Working on iteration 870 with a-norm error 1.1586359512836287e-12\n",
      "Working on iteration 880 with a-norm error 8.679481106765817e-13\n",
      "Working on iteration 890 with a-norm error 6.665468850307908e-13\n",
      "Working on iteration 900 with a-norm error 5.439618421149709e-13\n",
      "Working on iteration 910 with a-norm error 4.600788276069397e-13\n",
      "Working on iteration 920 with a-norm error 3.3410039176924664e-13\n",
      "Working on iteration 930 with a-norm error 2.542674397675786e-13\n",
      "Working on iteration 940 with a-norm error 2.0333819287070185e-13\n",
      "Working on iteration 950 with a-norm error 1.5225602798304101e-13\n",
      "Working on iteration 960 with a-norm error 1.1875305467756e-13\n",
      "Working on iteration 970 with a-norm error 9.859590290263791e-14\n",
      "Working on iteration 980 with a-norm error 7.635180231415514e-14\n",
      "Working on iteration 990 with a-norm error 6.242176872263531e-14\n",
      "Working on iteration 1000 with a-norm error 5.577852251855049e-14\n",
      "PCG stopped after: 1000 iterations with relative error 5.510296861272342e-14.\n",
      " 48.452992 seconds (199.98 M allocations: 5.121 GB, 22.80% gc time)\n",
      "Working on iteration 10 with a-norm error 82.21774750133731\n",
      "Working on iteration 20 with a-norm error 66.59783359621254\n",
      "Working on iteration 30 with a-norm error 47.6122546166654\n",
      "Working on iteration 40 with a-norm error 29.716614091241766\n",
      "Working on iteration 50 with a-norm error 17.230489497738184\n",
      "Working on iteration 60 with a-norm error 8.066453431679673\n",
      "Working on iteration 70 with a-norm error 4.427338288071739\n",
      "Working on iteration 80 with a-norm error 2.4525902141167975\n",
      "Working on iteration 90 with a-norm error 1.1673220898999392\n",
      "Working on iteration 100 with a-norm error 0.5545426720844654\n",
      "Working on iteration 110 with a-norm error 0.2958812091575662\n",
      "Working on iteration 120 with a-norm error 0.13645927920116832\n",
      "Working on iteration 130 with a-norm error 0.06346407561203984\n",
      "Working on iteration 140 with a-norm error 0.023516972880592013\n",
      "Working on iteration 150 with a-norm error 0.014971750888766826\n",
      "Working on iteration 160 with a-norm error 0.006450434884996821\n",
      "Working on iteration 170 with a-norm error 0.0027690637562765245\n",
      "Working on iteration 180 with a-norm error 0.0013143688663628953\n",
      "Working on iteration 190 with a-norm error 0.0005205505472991354\n",
      "Working on iteration 200 with a-norm error 0.0002082708452382985\n",
      "Working on iteration 210 with a-norm error 0.00011105929067836978\n",
      "Working on iteration 220 with a-norm error 4.386345090031442e-5\n",
      "Working on iteration 230 with a-norm error 1.6748823592317117e-5\n",
      "Working on iteration 240 with a-norm error 8.79242929065874e-6\n",
      "Working on iteration 250 with a-norm error 4.208109588395419e-6\n",
      "Working on iteration 260 with a-norm error 1.6417487192145936e-6\n",
      "Working on iteration 270 with a-norm error 8.830877833768243e-7\n",
      "Working on iteration 280 with a-norm error 3.8016393548888716e-7\n",
      "Working on iteration 290 with a-norm error 1.4111112177500647e-7\n",
      "Working on iteration 300 with a-norm error 6.976062891630285e-8\n",
      "Working on iteration 310 with a-norm error 2.92111025683738e-8\n",
      "Working on iteration 320 with a-norm error 1.3898377865069605e-8\n",
      "Working on iteration 330 with a-norm error 6.956198451642996e-9\n",
      "Working on iteration 340 with a-norm error 2.713953035237607e-9\n",
      "Working on iteration 350 with a-norm error 1.6061047592598646e-9\n",
      "Working on iteration 360 with a-norm error 5.799891617528688e-10\n",
      "Working on iteration 370 with a-norm error 2.7164409494624644e-10\n",
      "Working on iteration 380 with a-norm error 1.1304862322418038e-10\n",
      "Working on iteration 390 with a-norm error 6.558275053365195e-11\n",
      "Working on iteration 400 with a-norm error 2.5242713369350445e-11\n",
      "Working on iteration 410 with a-norm error 1.305903151014364e-11\n",
      "Working on iteration 420 with a-norm error 6.534502666808854e-12\n",
      "Working on iteration 430 with a-norm error 2.6141521691626512e-12\n",
      "Working on iteration 440 with a-norm error 1.5071189484901057e-12\n",
      "Working on iteration 450 with a-norm error 5.947010034233217e-13\n",
      "Working on iteration 460 with a-norm error 2.8521444871473096e-13\n",
      "Working on iteration 470 with a-norm error 1.217937942699498e-13\n",
      "Working on iteration 480 with a-norm error 7.065504457783811e-14\n",
      "Working on iteration 490 with a-norm error 3.9517542944257485e-14\n",
      "Working on iteration 500 with a-norm error 2.4922102625549955e-14\n",
      "Working on iteration 510 with a-norm error 1.7014153333176806e-14\n",
      "Working on iteration 520 with a-norm error 1.539700368980515e-14\n",
      "Working on iteration 530 with a-norm error 1.4479484326457757e-14\n",
      "Working on iteration 540 with a-norm error 1.4368217484524873e-14\n",
      "Working on iteration 550 with a-norm error 1.431092190693145e-14\n",
      "Working on iteration 560 with a-norm error 1.4324828759676918e-14\n",
      "Working on iteration 570 with a-norm error 1.4326055718744286e-14\n",
      "Working on iteration 580 with a-norm error 1.4329840890173508e-14\n",
      "Working on iteration 590 with a-norm error 1.4333710182902347e-14\n",
      "Working on iteration 600 with a-norm error 1.433650675228342e-14\n",
      "Working on iteration 610 with a-norm error 1.4335524562683768e-14\n",
      "Working on iteration 620 with a-norm error 1.4335466227350263e-14\n",
      "Working on iteration 630 with a-norm error 1.433574090509279e-14\n",
      "Working on iteration 640 with a-norm error 1.433579184499714e-14\n",
      "Working on iteration 650 with a-norm error 1.4335737731116634e-14\n",
      "Working on iteration 660 with a-norm error 1.433573620894792e-14\n",
      "Working on iteration 670 with a-norm error 1.4335716275647602e-14\n",
      "Working on iteration 680 with a-norm error 1.4335759984701108e-14\n",
      "Working on iteration 690 with a-norm error 1.433576277271174e-14\n",
      "Working on iteration 700 with a-norm error 1.4335768888211708e-14\n",
      "Working on iteration 710 with a-norm error 1.433576787788931e-14\n",
      "Working on iteration 720 with a-norm error 1.433576699255508e-14\n",
      "Working on iteration 730 with a-norm error 1.4335767565412814e-14\n",
      "Working on iteration 740 with a-norm error 1.4335767775764956e-14\n",
      "Working on iteration 750 with a-norm error 1.433576778255874e-14\n",
      "Working on iteration 760 with a-norm error 1.433576763646302e-14\n",
      "Working on iteration 770 with a-norm error 1.433576800086247e-14\n",
      "Working on iteration 780 with a-norm error 1.433576813547405e-14\n",
      "Working on iteration 790 with a-norm error 1.4335768149166453e-14\n",
      "Working on iteration 800 with a-norm error 1.4335768097217177e-14\n",
      "Working on iteration 810 with a-norm error 1.433576810574192e-14\n",
      "Working on iteration 820 with a-norm error 1.4335768092635293e-14\n",
      "Working on iteration 830 with a-norm error 1.433576810132649e-14\n",
      "Working on iteration 840 with a-norm error 1.4335768102311722e-14\n",
      "Working on iteration 850 with a-norm error 1.4335768111468274e-14\n",
      "Working on iteration 860 with a-norm error 1.4335768111553073e-14\n",
      "Working on iteration 870 with a-norm error 1.4335768105128517e-14\n",
      "Working on iteration 880 with a-norm error 1.433576810422019e-14\n",
      "Working on iteration 890 with a-norm error 1.433576810317379e-14\n",
      "Working on iteration 900 with a-norm error 1.433576810221221e-14\n",
      "Working on iteration 910 with a-norm error 1.433576810219984e-14\n",
      "Working on iteration 920 with a-norm error 1.4335768103292904e-14\n",
      "Working on iteration 930 with a-norm error 1.4335768103401502e-14\n",
      "Working on iteration 940 with a-norm error 1.4335768103368386e-14\n",
      "Working on iteration 950 with a-norm error 1.433576810310202e-14\n",
      "Working on iteration 960 with a-norm error 1.433576810303474e-14\n",
      "Working on iteration 970 with a-norm error 1.4335768103082818e-14\n",
      "Working on iteration 980 with a-norm error 1.4335768102852303e-14\n",
      "Working on iteration 990 with a-norm error 1.4335768102752658e-14\n",
      "Working on iteration 1000 with a-norm error 1.4335768102727853e-14\n",
      "PCG stopped after: 1000 iterations with relative error 1.43357681026972e-14.\n",
      " 50.182625 seconds (199.72 M allocations: 5.597 GB, 24.12% gc time)\n",
      "Working on iteration 10 with a-norm error 82.21774750133731\n",
      "Working on iteration 20 with a-norm error 65.0519836635147\n",
      "Working on iteration 30 with a-norm error 41.756277825565945\n",
      "Working on iteration 40 with a-norm error 19.26848134056874\n",
      "Working on iteration 50 with a-norm error 6.5393114419762\n",
      "Working on iteration 60 with a-norm error 1.9417170940185535\n",
      "Working on iteration 70 with a-norm error 0.4211764973015975\n",
      "Working on iteration 80 with a-norm error 0.07477861221861723\n",
      "Working on iteration 90 with a-norm error 0.010237002757046804\n",
      "Working on iteration 100 with a-norm error 0.0014522249358772373\n",
      "Working on iteration 110 with a-norm error 0.00012082939428467929\n",
      "Working on iteration 120 with a-norm error 1.107205527728159e-5\n",
      "Working on iteration 130 with a-norm error 8.020477613711302e-7\n",
      "Working on iteration 140 with a-norm error 5.3302807104590264e-8\n",
      "Working on iteration 150 with a-norm error 2.906001240190291e-9\n",
      "Working on iteration 160 with a-norm error 1.2437095626327167e-10\n",
      "Working on iteration 170 with a-norm error 7.716583940448542e-12\n",
      "Working on iteration 180 with a-norm error 2.8265040189481804e-13\n",
      "Working on iteration 190 with a-norm error 1.8185618646988998e-14\n",
      "Working on iteration 200 with a-norm error 1.433954970295018e-14\n",
      "Working on iteration 210 with a-norm error 1.433536642291254e-14\n",
      "Working on iteration 220 with a-norm error 1.433576435807673e-14\n",
      "Working on iteration 230 with a-norm error 1.433576763133619e-14\n",
      "Working on iteration 240 with a-norm error 1.4335768102884994e-14\n",
      "Working on iteration 250 with a-norm error 1.433576810296424e-14\n",
      "Working on iteration 260 with a-norm error 1.4335768102548e-14\n",
      "Working on iteration 270 with a-norm error 1.4335768102548125e-14\n",
      "Working on iteration 280 with a-norm error 1.4335768102548166e-14\n",
      "Working on iteration 290 with a-norm error 1.4335768102548166e-14\n",
      "Working on iteration 300 with a-norm error 1.4335768102548166e-14\n",
      "Working on iteration 310 with a-norm error 1.4335768102548166e-14\n",
      "Working on iteration 320 with a-norm error 1.4335768102548166e-14\n",
      "Working on iteration 330 with a-norm error 1.4335768102548166e-14\n",
      "Working on iteration 340 with a-norm error 1.4335768102548166e-14\n",
      "Working on iteration 350 with a-norm error 1.4335768102548166e-14\n",
      "Working on iteration 360 with a-norm error 1.4335768102548166e-14\n",
      "Working on iteration 370 with a-norm error 1.4335768102548166e-14\n",
      "Working on iteration 380 with a-norm error 1.4335768102548166e-14\n",
      "Working on iteration 390 with a-norm error 1.4335768102548166e-14\n",
      "Working on iteration 400 with a-norm error 1.4335768102548166e-14\n",
      "Working on iteration 410 with a-norm error 1.4335768102548166e-14\n",
      "Working on iteration 420 with a-norm error 1.4335768102548166e-14\n",
      "Working on iteration 430 with a-norm error 1.4335768102548166e-14\n",
      "Working on iteration 440 with a-norm error 1.4335768102548166e-14\n",
      "Working on iteration 450 with a-norm error 1.4335768102548166e-14\n",
      "Working on iteration 460 with a-norm error 1.4335768102548166e-14\n",
      "Working on iteration 470 with a-norm error 1.4335768102548166e-14\n",
      "Working on iteration 480 with a-norm error 1.4335768102548166e-14\n",
      "Working on iteration 490 with a-norm error 1.4335768102548166e-14\n",
      "Working on iteration 500 with a-norm error 1.4335768102548166e-14\n",
      "Working on iteration 510 with a-norm error 1.4335768102548166e-14\n",
      "Working on iteration 520 with a-norm error 1.4335768102548166e-14\n",
      "Working on iteration 530 with a-norm error 1.4335768102548166e-14\n",
      "Working on iteration 540 with a-norm error 1.4335768102548166e-14\n",
      "Working on iteration 550 with a-norm error 1.4335768102548166e-14\n",
      "Working on iteration 560 with a-norm error 1.4335768102548166e-14\n",
      "Working on iteration 570 with a-norm error 1.4335768102548166e-14\n",
      "Working on iteration 580 with a-norm error 1.4335768102548166e-14\n",
      "Working on iteration 590 with a-norm error 1.4335768102548166e-14\n",
      "Working on iteration 600 with a-norm error 1.4335768102548166e-14\n",
      "Working on iteration 610 with a-norm error 1.4335768102548166e-14\n",
      "Working on iteration 620 with a-norm error 1.4335768102548166e-14\n",
      "Working on iteration 630 with a-norm error 1.4335768102548166e-14\n",
      "Working on iteration 640 with a-norm error 1.4335768102548166e-14\n",
      "Working on iteration 650 with a-norm error 1.4335768102548166e-14\n",
      "Working on iteration 660 with a-norm error 1.4335768102548166e-14\n",
      "Working on iteration 670 with a-norm error 1.4335768102548166e-14\n",
      "Working on iteration 680 with a-norm error 1.4335768102548166e-14\n",
      "Working on iteration 690 with a-norm error 1.4335768102548166e-14\n",
      "Working on iteration 700 with a-norm error 1.4335768102548166e-14\n",
      "Working on iteration 710 with a-norm error 1.4335768102548166e-14\n",
      "Working on iteration 720 with a-norm error 1.4335768102548166e-14\n",
      "Working on iteration 730 with a-norm error 1.4335768102548166e-14\n",
      "Working on iteration 740 with a-norm error 1.4335768102548166e-14\n",
      "Working on iteration 750 with a-norm error 1.4335768102548166e-14\n",
      "Working on iteration 760 with a-norm error 1.4335768102548166e-14\n",
      "Working on iteration 770 with a-norm error 1.4335768102548166e-14\n",
      "Working on iteration 780 with a-norm error 1.4335768102548166e-14\n",
      "Working on iteration 790 with a-norm error 1.4335768102548166e-14\n",
      "Working on iteration 800 with a-norm error 1.4335768102548166e-14\n",
      "Working on iteration 810 with a-norm error 1.4335768102548166e-14\n",
      "Working on iteration 820 with a-norm error 1.4335768102548166e-14\n",
      "Working on iteration 830 with a-norm error 1.4335768102548166e-14\n",
      "Working on iteration 840 with a-norm error 1.4335768102548166e-14\n",
      "Working on iteration 850 with a-norm error 1.4335768102548166e-14\n",
      "Working on iteration 860 with a-norm error 1.4335768102548166e-14\n",
      "Working on iteration 870 with a-norm error 1.4335768102548166e-14\n",
      "Working on iteration 880 with a-norm error 1.4335768102548166e-14\n",
      "Working on iteration 890 with a-norm error 1.4335768102548166e-14\n",
      "Working on iteration 900 with a-norm error 1.4335768102548166e-14\n",
      "Working on iteration 910 with a-norm error 1.4335768102548166e-14\n",
      "Working on iteration 920 with a-norm error 1.4335768102548166e-14\n",
      "Working on iteration 930 with a-norm error 1.4335768102548166e-14\n",
      "Working on iteration 940 with a-norm error 1.4335768102548166e-14\n",
      "Working on iteration 950 with a-norm error 1.4335768102548166e-14\n",
      "Working on iteration 960 with a-norm error 1.4335768102548166e-14\n",
      "Working on iteration 970 with a-norm error 1.4335768102548166e-14\n",
      "Working on iteration 980 with a-norm error 1.4335768102548166e-14\n",
      "Working on iteration 990 with a-norm error 1.4335768102548166e-14\n",
      "Working on iteration 1000 with a-norm error 1.4335768102548166e-14\n",
      "PCG stopped after: 1000 iterations with relative error 1.4335768102548166e-14.\n",
      " 77.163735 seconds (199.73 M allocations: 12.417 GB, 23.51% gc time)\n"
     ]
    }
   ],
   "source": [
    "numIts = 1000\n",
    "for hp in [64,128,1024]\n",
    "    set_bigfloat_precision(hp)\n",
    "    laHP = toHighPrecision(la; precision=hp)\n",
    "    treeHP = toHighPrecision(tree; precision=hp)\n",
    "    xHP = toHighPrecision(x; precision=hp);\n",
    "    bHP = toHighPrecision(b; precision=hp);\n",
    "    FHP = treeSolver(treeHP)\n",
    "    \n",
    "    @time myxHP,dbg = pcgV(laHP, bHP, FHP, xHP, maxits=numIts, verbose=true);\n",
    "    insert!(dbg, 1, \"$(numIts) iterations\")\n",
    "    insert!(dbg, 1, \"anorm = sqrt((x-truex)' * la * (x-truex)), err2_a = norm(la*x-b) / norm(b), err2_b = norm(x-truex)\")\n",
    "    writeToFile(graphp * \"_log_julia_$(hp).txt\", dbg)\n",
    "end"
   ]
  },
  {
   "cell_type": "code",
   "execution_count": null,
   "metadata": {
    "collapsed": true
   },
   "outputs": [],
   "source": []
  }
 ],
 "metadata": {
  "kernelspec": {
   "display_name": "Julia 0.4.6",
   "language": "julia",
   "name": "julia-0.4"
  },
  "language_info": {
   "file_extension": ".jl",
   "mimetype": "application/julia",
   "name": "julia",
   "version": "0.4.6"
  }
 },
 "nbformat": 4,
 "nbformat_minor": 0
}
