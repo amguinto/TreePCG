{
 "cells": [
  {
   "cell_type": "code",
   "execution_count": 1,
   "metadata": {
    "collapsed": false
   },
   "outputs": [
    {
     "name": "stderr",
     "output_type": "stream",
     "text": [
      "objc[5931]: Class TKApplication is implemented in both /Users/serbanstan/anaconda/lib/libtk8.5.dylib and /System/Library/Frameworks/Tk.framework/Versions/8.5/Tk. One of the two will be used. Which one is undefined.\n",
      "objc[5931]: Class TKMenu is implemented in both /Users/serbanstan/anaconda/lib/libtk8.5.dylib and /System/Library/Frameworks/Tk.framework/Versions/8.5/Tk. One of the two will be used. Which one is undefined.\n",
      "objc[5931]: Class TKContentView is implemented in both /Users/serbanstan/anaconda/lib/libtk8.5.dylib and /System/Library/Frameworks/Tk.framework/Versions/8.5/Tk. One of the two will be used. Which one is undefined.\n",
      "objc[5931]: Class TKWindow is implemented in both /Users/serbanstan/anaconda/lib/libtk8.5.dylib and /System/Library/Frameworks/Tk.framework/Versions/8.5/Tk. One of the two will be used. Which one is undefined.\n"
     ]
    }
   ],
   "source": [
    "using Laplacians"
   ]
  },
  {
   "cell_type": "code",
   "execution_count": 19,
   "metadata": {
    "collapsed": false
   },
   "outputs": [
    {
     "data": {
      "text/plain": [
       "pcgVBLASMatNorm (generic function with 1 method)"
      ]
     },
     "execution_count": 19,
     "metadata": {},
     "output_type": "execute_result"
    }
   ],
   "source": [
    "include(\"treeSolver.jl\")\n",
    "include(\"IO.jl\")\n",
    "include(\"generators.jl\")\n",
    "include(\"toHighPrecision.jl\")\n",
    "include(\"verbosePCG.jl\")"
   ]
  },
  {
   "cell_type": "code",
   "execution_count": 3,
   "metadata": {
    "collapsed": false
   },
   "outputs": [
    {
     "data": {
      "text/plain": [
       "\"/Users/serbanstan/git/TreePCG/julia\""
      ]
     },
     "execution_count": 3,
     "metadata": {},
     "output_type": "execute_result"
    }
   ],
   "source": [
    "pwd()"
   ]
  },
  {
   "cell_type": "code",
   "execution_count": 4,
   "metadata": {
    "collapsed": false
   },
   "outputs": [],
   "source": [
    "a = readFromFile(\"../graphs/se_1/graph.mtx\");"
   ]
  },
  {
   "cell_type": "code",
   "execution_count": 5,
   "metadata": {
    "collapsed": false
   },
   "outputs": [],
   "source": [
    "tree = readFromFile(\"../graphs/se_1/tree.mtx\");"
   ]
  },
  {
   "cell_type": "code",
   "execution_count": 6,
   "metadata": {
    "collapsed": false
   },
   "outputs": [],
   "source": [
    "x = readFromFile(\"../graphs/se_1/x.vec\");"
   ]
  },
  {
   "cell_type": "code",
   "execution_count": 7,
   "metadata": {
    "collapsed": false
   },
   "outputs": [],
   "source": [
    "# b = readFromFile(\"../graphs/se_1/b.vec\");\n",
    "b = lap(a) * x;"
   ]
  },
  {
   "cell_type": "code",
   "execution_count": 8,
   "metadata": {
    "collapsed": false
   },
   "outputs": [
    {
     "data": {
      "text/plain": [
       "0.0"
      ]
     },
     "execution_count": 8,
     "metadata": {},
     "output_type": "execute_result"
    }
   ],
   "source": [
    "norm(lap(a) * x - b) / norm(b)"
   ]
  },
  {
   "cell_type": "code",
   "execution_count": 9,
   "metadata": {
    "collapsed": false
   },
   "outputs": [],
   "source": [
    "la = lap(a);"
   ]
  },
  {
   "cell_type": "code",
   "execution_count": 14,
   "metadata": {
    "collapsed": false
   },
   "outputs": [
    {
     "data": {
      "text/plain": [
       "(anonymous function)"
      ]
     },
     "execution_count": 14,
     "metadata": {},
     "output_type": "execute_result"
    }
   ],
   "source": [
    "ts = treeSolver(tree)\n",
    "\n",
    "F = function(b)\n",
    "    return ts(b - mean(b))\n",
    "end"
   ]
  },
  {
   "cell_type": "code",
   "execution_count": 15,
   "metadata": {
    "collapsed": false
   },
   "outputs": [
    {
     "name": "stdout",
     "output_type": "stream",
     "text": [
      "  0.059051 seconds (28.49 k allocations: 1.156 MB)\n"
     ]
    }
   ],
   "source": [
    "@time F(b);"
   ]
  },
  {
   "cell_type": "code",
   "execution_count": 16,
   "metadata": {
    "collapsed": false
   },
   "outputs": [
    {
     "name": "stdout",
     "output_type": "stream",
     "text": [
      "PCG stopped after: 1665 iterations with relative error 7.668194673886251e-7.\n",
      "  1.651447 seconds (22.49 M allocations: 829.928 MB, 5.70% gc time)\n"
     ]
    },
    {
     "data": {
      "text/plain": [
       "7.66819467033642e-7"
      ]
     },
     "execution_count": 16,
     "metadata": {},
     "output_type": "execute_result"
    }
   ],
   "source": [
    "@time myx64 = pcg(la, b, F, tol=1e-6, maxits=10000, verbose=true);\n",
    "norm(lap(a) * myx64 - b) / norm(b)"
   ]
  },
  {
   "cell_type": "code",
   "execution_count": 21,
   "metadata": {
    "collapsed": false
   },
   "outputs": [
    {
     "name": "stdout",
     "output_type": "stream",
     "text": [
      "Working on iteration 100\n",
      "Working on iteration 200\n",
      "Working on iteration 300\n",
      "Working on iteration 400\n",
      "Working on iteration 500\n",
      "Working on iteration 600\n",
      "Working on iteration 700\n",
      "Working on iteration 800\n",
      "Working on iteration 900\n",
      "Working on iteration 1000\n",
      "Working on iteration 1100\n",
      "Working on iteration 1200\n",
      "Working on iteration 1300\n",
      "Working on iteration 1400\n",
      "Working on iteration 1500\n",
      "Working on iteration 1600\n",
      "PCG stopped after: 1613 iterations with relative error 8.3490912222520297e-07.\n",
      " 38.443679 seconds (195.48 M allocations: 5.300 GB, 27.64% gc time)\n",
      "Error is: 8.349091212920195e-7\n",
      "Working on iteration 100\n",
      "Working on iteration 200\n",
      "Working on iteration 300\n",
      "Working on iteration 400\n",
      "Working on iteration 500\n",
      "Working on iteration 600\n",
      "Working on iteration 700\n",
      "Working on iteration 800\n",
      "Working on iteration 900\n",
      "Working on iteration 1000\n",
      "PCG stopped after: 1051 iterations with relative error 7.44047777512884629433e-07.\n",
      " 25.911923 seconds (127.69 M allocations: 3.461 GB, 27.82% gc time)\n",
      "Error is: 7.44047777515292e-7\n",
      "Working on iteration 100\n",
      "PCG stopped after: 159 iterations with relative error 9.169137995357604019373599159076956191789060719197080123509334895752004861052525235306904065273719812557468520484517565116771532727290470082832578501587659787335004264966474416700274487132446879478810376118115774149821154540459928050776055599164382047697401352401590001312232785884847795068868995274716439037834e-07.\n",
      "  6.241080 seconds (20.11 M allocations: 1.259 GB, 26.25% gc time)\n",
      "Error is: 9.169137995357604e-7\n"
     ]
    }
   ],
   "source": [
    "dbg = []\n",
    "\n",
    "for hp in [53,64,1024]\n",
    "    set_bigfloat_precision(hp)\n",
    "    laHP = toHighPrecision(la; precision=hp)\n",
    "    treeHP = toHighPrecision(tree; precision=hp)\n",
    "    xHP = toHighPrecision(x; precision=hp);\n",
    "    bHP = toHighPrecision(b; precision=hp);\n",
    "    tsHP = treeSolver(treeHP)\n",
    "\n",
    "    FHP = function(b)\n",
    "        return tsHP(b - mean(b))\n",
    "    end\n",
    "    \n",
    "    push!(dbg, \"======= $(hp) bit precision\")\n",
    "#     @time myxHP = pcgVMatNorm(laHP, bHP, FHP, xHP, tol=BigFloat(1e-2), maxits=1000, verbose=true);\n",
    "    @time myxHP = pcgV(laHP, bHP, FHP, tol=BigFloat(1e-6), maxits=10000, verbose=true);\n",
    "    println(\"Error is: \", Float64(norm(laHP * myxHP - bHP) / norm(bHP)))\n",
    "    push!(dbg, \"\")\n",
    "    push!(dbg, \"\")\n",
    "    \n",
    "end"
   ]
  },
  {
   "cell_type": "code",
   "execution_count": 23,
   "metadata": {
    "collapsed": false
   },
   "outputs": [],
   "source": [
    "writeToFile(\"../graphs/se_1/_log_julia.txt\", dbg)"
   ]
  },
  {
   "cell_type": "code",
   "execution_count": null,
   "metadata": {
    "collapsed": true
   },
   "outputs": [],
   "source": []
  },
  {
   "cell_type": "code",
   "execution_count": null,
   "metadata": {
    "collapsed": false
   },
   "outputs": [],
   "source": []
  },
  {
   "cell_type": "code",
   "execution_count": null,
   "metadata": {
    "collapsed": true
   },
   "outputs": [],
   "source": []
  }
 ],
 "metadata": {
  "kernelspec": {
   "display_name": "Julia 0.4.6",
   "language": "julia",
   "name": "julia-0.4"
  },
  "language_info": {
   "file_extension": ".jl",
   "mimetype": "application/julia",
   "name": "julia",
   "version": "0.4.6"
  }
 },
 "nbformat": 4,
 "nbformat_minor": 0
}
